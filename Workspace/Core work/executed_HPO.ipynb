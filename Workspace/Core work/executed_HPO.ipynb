{
 "cells": [
  {
   "cell_type": "code",
   "execution_count": 1,
   "id": "3dc06043",
   "metadata": {
    "execution": {
     "iopub.execute_input": "2024-08-17T21:51:26.549293Z",
     "iopub.status.busy": "2024-08-17T21:51:26.549016Z",
     "iopub.status.idle": "2024-08-17T21:51:26.552087Z",
     "shell.execute_reply": "2024-08-17T21:51:26.551780Z"
    },
    "papermill": {
     "duration": 0.007993,
     "end_time": "2024-08-17T21:51:26.552885",
     "exception": false,
     "start_time": "2024-08-17T21:51:26.544892",
     "status": "completed"
    },
    "tags": [
     "injected-parameters"
    ]
   },
   "outputs": [],
   "source": [
    "# Parameters\n",
    "global_seed = 90\n",
    "save_results = True\n",
    "benchmark_settings = {\"benchmark_name\": \"pMNIST_via_avalanche\", \"difficulty\": \"standard\", \"num_tasks\": 10, \"train_percentage\": 0.8, \"num_val_benchmarks\": 10, \"batch_size\": 128}\n",
    "method_settings = {\"method_name\": \"EWC\", \"grow_from\": \"output\", \"num_inputs\": 784, \"num_hidden_root\": 1000, \"num_outputs\": 10, \"loss_name\": \"CE\", \"optimizer_name\": \"Adam\"}\n",
    "HPO_settings = {\"HPO_name\": \"greedy_HPO\", \"n_trials\": 20, \"lr\": [1e-05, 0.002], \"num_epochs\": [2, 10], \"ewc_lambda\": [50, 5000]}\n"
   ]
  },
  {
   "cell_type": "code",
   "execution_count": 2,
   "id": "39c23ee3",
   "metadata": {
    "execution": {
     "iopub.execute_input": "2024-08-17T21:51:26.559303Z",
     "iopub.status.busy": "2024-08-17T21:51:26.559068Z",
     "iopub.status.idle": "2024-08-17T21:51:26.573965Z",
     "shell.execute_reply": "2024-08-17T21:51:26.573572Z"
    },
    "papermill": {
     "duration": 0.018003,
     "end_time": "2024-08-17T21:51:26.574949",
     "exception": false,
     "start_time": "2024-08-17T21:51:26.556946",
     "status": "completed"
    },
    "tags": []
   },
   "outputs": [],
   "source": [
    "# Comment the following cell if running through the command :\n",
    "# papermill runnable_HPO.ipynb executed_HPO.ipynb -f params_for_HPO.yaml --kernel jupyter.jax_env"
   ]
  },
  {
   "cell_type": "markdown",
   "id": "75d8e9e7",
   "metadata": {
    "papermill": {
     "duration": 0.001811,
     "end_time": "2024-08-17T21:51:26.579337",
     "exception": false,
     "start_time": "2024-08-17T21:51:26.577526",
     "status": "completed"
    },
    "tags": []
   },
   "source": [
    "global_seed = 88\n",
    "save_results = False\n",
    "# Parameters specfific to the benchmark\n",
    "benchmark_settings = {\"benchmark_name\" : \"pMNIST_via_torch\",\n",
    "                      \"difficulty\" : \"standard\",\n",
    "                      \"num_tasks\" : 3,\n",
    "                      \"train_percentage\" : 0.2,\n",
    "                      \"num_val_benchmarks\" : 1,\n",
    "                      \"batch_size\" : 128}\n",
    "\n",
    "# Parameters specific to the method\n",
    "method_settings = {\"method_name\" : \"GroHess\",\n",
    "                   \"grow_from\" : \"output\",\n",
    "                   \"hessian_percentile\" : 90,\n",
    "                   \"grad_percentile\" : 90,\n",
    "                   \"num_inputs\" : 28*28,\n",
    "                   \"num_hidden_root\" : 500,\n",
    "                   \"num_outputs\" : 10,\n",
    "                   \"loss_name\" : \"CE\",\n",
    "                   \"optimizer_name\" : \"Adam\"}\n",
    "\n",
    "# Parameters specific to HPO\n",
    "HPO_settings = {\"HPO_name\" : \"greedy_HPO\",\n",
    "                \"n_trials\" : 1,\n",
    "                \"lr\" : (1e-5, 2e-3),\n",
    "                \"num_epochs\" : (3,3),\n",
    "                #\"tau\" : (0.999, 0.9991),\n",
    "                #\"ewc_lambda\" : (200,200)\n",
    "                #\"lwf_alpha\" : (0.1, 0.9),\n",
    "                #\"lwf_temperature\" : (1, 3),\n",
    "                }"
   ]
  },
  {
   "cell_type": "code",
   "execution_count": 3,
   "id": "1ae8cafc",
   "metadata": {
    "execution": {
     "iopub.execute_input": "2024-08-17T21:51:26.583840Z",
     "iopub.status.busy": "2024-08-17T21:51:26.583471Z",
     "iopub.status.idle": "2024-08-17T21:51:26.590411Z",
     "shell.execute_reply": "2024-08-17T21:51:26.590087Z"
    },
    "papermill": {
     "duration": 0.010268,
     "end_time": "2024-08-17T21:51:26.591240",
     "exception": false,
     "start_time": "2024-08-17T21:51:26.580972",
     "status": "completed"
    },
    "tags": []
   },
   "outputs": [],
   "source": [
    "# Parameters specific to the visualization\n",
    "visualization_settings = {\"savefig\" : False,\n",
    "                          \"visualize_accs_matrix\" : True,\n",
    "                          \"visualize_avg_acc_curve\" : True,\n",
    "                          \"visualize_best_params\" : True,\n",
    "                          \"visualize_val_accs_matrix\" : True,\n",
    "                          \"visualize_accuracy_through_benchmarks\" : True}"
   ]
  },
  {
   "cell_type": "code",
   "execution_count": 4,
   "id": "31438639",
   "metadata": {
    "execution": {
     "iopub.execute_input": "2024-08-17T21:51:26.598181Z",
     "iopub.status.busy": "2024-08-17T21:51:26.597748Z",
     "iopub.status.idle": "2024-08-17T21:51:26.668723Z",
     "shell.execute_reply": "2024-08-17T21:51:26.668062Z"
    },
    "papermill": {
     "duration": 0.075519,
     "end_time": "2024-08-17T21:51:26.669933",
     "exception": false,
     "start_time": "2024-08-17T21:51:26.594414",
     "status": "completed"
    },
    "tags": []
   },
   "outputs": [],
   "source": [
    "import sys\n",
    "import os\n",
    "import numpy as np\n",
    "import warnings\n",
    "warnings.filterwarnings('ignore')\n",
    "\n",
    "sys.path.append(\"Methods/\" + method_settings[\"method_name\"])\n",
    "sys.path.append(\"HPO_lib\")\n",
    "sys.path.append(\"HPO_lib/benchmark_loaders\")\n",
    "\n",
    "\n",
    "path = os.path.dirname(os.path.abspath(\"__file__\"))\n",
    "data_path = path + \"/data\""
   ]
  },
  {
   "cell_type": "markdown",
   "id": "e6ad04a7",
   "metadata": {
    "papermill": {
     "duration": 0.002819,
     "end_time": "2024-08-17T21:51:26.675941",
     "exception": false,
     "start_time": "2024-08-17T21:51:26.673122",
     "status": "completed"
    },
    "tags": []
   },
   "source": [
    "## Imports"
   ]
  },
  {
   "cell_type": "code",
   "execution_count": 5,
   "id": "988b5488",
   "metadata": {
    "execution": {
     "iopub.execute_input": "2024-08-17T21:51:26.682800Z",
     "iopub.status.busy": "2024-08-17T21:51:26.682384Z",
     "iopub.status.idle": "2024-08-17T21:51:30.153779Z",
     "shell.execute_reply": "2024-08-17T21:51:30.153375Z"
    },
    "papermill": {
     "duration": 3.476239,
     "end_time": "2024-08-17T21:51:30.155008",
     "exception": false,
     "start_time": "2024-08-17T21:51:26.678769",
     "status": "completed"
    },
    "tags": []
   },
   "outputs": [],
   "source": [
    "from HPO_lib.abstract_torch import get_device\n",
    "from HPO_lib.get_benchmarks import get_benchmarks\n",
    "from HPO_lib.run_HPO import run_HPO\n",
    "from HPO_lib.validation import validate\n",
    "from HPO_lib.visualize import visualize_HPO, visualize_validation\n",
    "from HPO_lib.save_and_load_results import save"
   ]
  },
  {
   "cell_type": "code",
   "execution_count": 6,
   "id": "8f907c1f",
   "metadata": {
    "execution": {
     "iopub.execute_input": "2024-08-17T21:51:30.168205Z",
     "iopub.status.busy": "2024-08-17T21:51:30.167618Z",
     "iopub.status.idle": "2024-08-17T21:51:30.252348Z",
     "shell.execute_reply": "2024-08-17T21:51:30.251828Z"
    },
    "papermill": {
     "duration": 0.095018,
     "end_time": "2024-08-17T21:51:30.253411",
     "exception": false,
     "start_time": "2024-08-17T21:51:30.158393",
     "status": "completed"
    },
    "tags": []
   },
   "outputs": [],
   "source": [
    "device = get_device(1)"
   ]
  },
  {
   "cell_type": "markdown",
   "id": "848b3227",
   "metadata": {
    "papermill": {
     "duration": 0.001766,
     "end_time": "2024-08-17T21:51:30.257188",
     "exception": false,
     "start_time": "2024-08-17T21:51:30.255422",
     "status": "completed"
    },
    "tags": []
   },
   "source": [
    "## Get benchmarks"
   ]
  },
  {
   "cell_type": "code",
   "execution_count": null,
   "id": "0e0ba695",
   "metadata": {
    "papermill": {
     "duration": null,
     "end_time": null,
     "exception": false,
     "start_time": "2024-08-17T21:51:30.259572",
     "status": "running"
    },
    "tags": []
   },
   "outputs": [],
   "source": [
    "benchmarks_list = get_benchmarks(benchmark_settings, global_seed)"
   ]
  },
  {
   "cell_type": "markdown",
   "id": "f81d76fe",
   "metadata": {
    "papermill": {
     "duration": null,
     "end_time": null,
     "exception": null,
     "start_time": null,
     "status": "pending"
    },
    "tags": []
   },
   "source": [
    "## Run HPO"
   ]
  },
  {
   "cell_type": "code",
   "execution_count": null,
   "id": "35146272",
   "metadata": {
    "papermill": {
     "duration": null,
     "end_time": null,
     "exception": null,
     "start_time": null,
     "status": "pending"
    },
    "tags": []
   },
   "outputs": [],
   "source": [
    "test_accs_matrix, best_params_list, growth_record = run_HPO(HPO_settings, method_settings, benchmark_settings, benchmarks_list[0], device, global_seed)"
   ]
  },
  {
   "cell_type": "markdown",
   "id": "3741f879",
   "metadata": {
    "papermill": {
     "duration": null,
     "end_time": null,
     "exception": null,
     "start_time": null,
     "status": "pending"
    },
    "tags": []
   },
   "source": [
    "## Visualize results"
   ]
  },
  {
   "cell_type": "code",
   "execution_count": null,
   "id": "ebcd37b7",
   "metadata": {
    "papermill": {
     "duration": null,
     "end_time": null,
     "exception": null,
     "start_time": null,
     "status": "pending"
    },
    "tags": []
   },
   "outputs": [],
   "source": [
    "visualize_HPO(test_accs_matrix, best_params_list, visualization_settings, HPO_settings, method_settings, benchmark_settings)"
   ]
  },
  {
   "cell_type": "markdown",
   "id": "aaf0c166",
   "metadata": {
    "papermill": {
     "duration": null,
     "end_time": null,
     "exception": null,
     "start_time": null,
     "status": "pending"
    },
    "tags": []
   },
   "source": [
    "## Validate"
   ]
  },
  {
   "cell_type": "code",
   "execution_count": null,
   "id": "14e21539",
   "metadata": {
    "papermill": {
     "duration": null,
     "end_time": null,
     "exception": null,
     "start_time": null,
     "status": "pending"
    },
    "tags": []
   },
   "outputs": [],
   "source": [
    "val_accs_matrix, growth_records = validate(HPO_settings, benchmarks_list, benchmark_settings, method_settings, best_params_list, device, global_seed)"
   ]
  },
  {
   "cell_type": "code",
   "execution_count": null,
   "id": "4c9c79d9",
   "metadata": {
    "papermill": {
     "duration": null,
     "end_time": null,
     "exception": null,
     "start_time": null,
     "status": "pending"
    },
    "tags": []
   },
   "outputs": [],
   "source": [
    "growth_records"
   ]
  },
  {
   "cell_type": "markdown",
   "id": "c80b8203",
   "metadata": {
    "papermill": {
     "duration": null,
     "end_time": null,
     "exception": null,
     "start_time": null,
     "status": "pending"
    },
    "tags": []
   },
   "source": [
    "## Visualize validation"
   ]
  },
  {
   "cell_type": "code",
   "execution_count": null,
   "id": "a84cd716",
   "metadata": {
    "papermill": {
     "duration": null,
     "end_time": null,
     "exception": null,
     "start_time": null,
     "status": "pending"
    },
    "tags": []
   },
   "outputs": [],
   "source": [
    "visualize_validation(val_accs_matrix, test_accs_matrix, visualization_settings, HPO_settings, method_settings, benchmark_settings)"
   ]
  },
  {
   "cell_type": "markdown",
   "id": "c14908a1",
   "metadata": {
    "papermill": {
     "duration": null,
     "end_time": null,
     "exception": null,
     "start_time": null,
     "status": "pending"
    },
    "tags": []
   },
   "source": [
    "## Save results matrices"
   ]
  },
  {
   "cell_type": "code",
   "execution_count": null,
   "id": "83769014",
   "metadata": {
    "papermill": {
     "duration": null,
     "end_time": null,
     "exception": null,
     "start_time": null,
     "status": "pending"
    },
    "tags": []
   },
   "outputs": [],
   "source": [
    "save(test_accs_matrix, best_params_list, val_accs_matrix, HPO_settings, method_settings, benchmark_settings, save_results)"
   ]
  }
 ],
 "metadata": {
  "kernelspec": {
   "display_name": ".jax_env",
   "language": "python",
   "name": "python3"
  },
  "language_info": {
   "codemirror_mode": {
    "name": "ipython",
    "version": 3
   },
   "file_extension": ".py",
   "mimetype": "text/x-python",
   "name": "python",
   "nbconvert_exporter": "python",
   "pygments_lexer": "ipython3",
   "version": "3.12.2"
  },
  "papermill": {
   "default_parameters": {},
   "duration": null,
   "end_time": null,
   "environment_variables": {},
   "exception": null,
   "input_path": "runnable_HPO.ipynb",
   "output_path": "executed_HPO.ipynb",
   "parameters": {
    "HPO_settings": {
     "HPO_name": "greedy_HPO",
     "ewc_lambda": [
      50,
      5000
     ],
     "lr": [
      1e-05,
      0.002
     ],
     "n_trials": 20,
     "num_epochs": [
      2,
      10
     ]
    },
    "benchmark_settings": {
     "batch_size": 128,
     "benchmark_name": "pMNIST_via_avalanche",
     "difficulty": "standard",
     "num_tasks": 10,
     "num_val_benchmarks": 10,
     "train_percentage": 0.8
    },
    "global_seed": 90,
    "method_settings": {
     "grow_from": "output",
     "loss_name": "CE",
     "method_name": "EWC",
     "num_hidden_root": 1000,
     "num_inputs": 784,
     "num_outputs": 10,
     "optimizer_name": "Adam"
    },
    "save_results": true
   },
   "start_time": "2024-08-17T21:51:25.888023",
   "version": "2.6.0"
  }
 },
 "nbformat": 4,
 "nbformat_minor": 5
}