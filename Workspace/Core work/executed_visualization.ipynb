{
 "cells": [
  {
   "cell_type": "markdown",
   "id": "87f1ec0d",
   "metadata": {
    "tags": [
     "papermill-error-cell-tag"
    ]
   },
   "source": [
    "<span style=\"color:red; font-family:Helvetica Neue, Helvetica, Arial, sans-serif; font-size:2em;\">An Exception was encountered at '<a href=\"#papermill-error-cell\">In [4]</a>'.</span>"
   ]
  },
  {
   "cell_type": "code",
   "execution_count": 1,
   "id": "14c1d2c4",
   "metadata": {
    "execution": {
     "iopub.execute_input": "2024-07-26T16:03:08.978713Z",
     "iopub.status.busy": "2024-07-26T16:03:08.978436Z",
     "iopub.status.idle": "2024-07-26T16:03:08.981597Z",
     "shell.execute_reply": "2024-07-26T16:03:08.981290Z"
    },
    "papermill": {
     "duration": 0.006995,
     "end_time": "2024-07-26T16:03:08.983272",
     "exception": false,
     "start_time": "2024-07-26T16:03:08.976277",
     "status": "completed"
    },
    "tags": [
     "injected-parameters"
    ]
   },
   "outputs": [],
   "source": [
    "# Parameters\n",
    "method_name = \"EWC\"\n",
    "result_number = 3\n",
    "visualization_settings = {\"savefig\": True, \"visualize_accs_matrix\": True, \"visualize_avg_acc_curve\": True, \"visualize_best_params\": True, \"visualize_val_accs_matrix\": True, \"visualize_accuracy_through_benchmarks\": True}\n"
   ]
  },
  {
   "cell_type": "code",
   "execution_count": 2,
   "id": "da3100b9",
   "metadata": {
    "execution": {
     "iopub.execute_input": "2024-07-26T16:03:08.989382Z",
     "iopub.status.busy": "2024-07-26T16:03:08.989141Z",
     "iopub.status.idle": "2024-07-26T16:03:09.004293Z",
     "shell.execute_reply": "2024-07-26T16:03:09.003978Z"
    },
    "papermill": {
     "duration": 0.018612,
     "end_time": "2024-07-26T16:03:09.005131",
     "exception": false,
     "start_time": "2024-07-26T16:03:08.986519",
     "status": "completed"
    },
    "tags": []
   },
   "outputs": [],
   "source": [
    "# Comment the following cell if running through the command :\n",
    "# papermill runnable_visualization.ipynb executed_visualization.ipynb -f params_for_visualization.yaml --kernel jupyter.jax_env"
   ]
  },
  {
   "cell_type": "markdown",
   "id": "bc8b5b70",
   "metadata": {
    "papermill": {
     "duration": 0.001751,
     "end_time": "2024-07-26T16:03:09.008415",
     "exception": false,
     "start_time": "2024-07-26T16:03:09.006664",
     "status": "completed"
    },
    "tags": []
   },
   "source": [
    "method_name = \"EWC\"\n",
    "result_number = 1\n",
    "\n",
    "# Parameters specific to the visualization\n",
    "visualization_settings = {\"savefig\" : False,\n",
    "                          \"visualize_accs_matrix\" : True,\n",
    "                          \"visualize_avg_acc_curve\" : True,\n",
    "                          \"visualize_best_params\" : True,\n",
    "                          \"visualize_val_accs_matrix\" : True,\n",
    "                          \"visualize_accuracy_through_benchmarks\" : True}"
   ]
  },
  {
   "cell_type": "code",
   "execution_count": 3,
   "id": "d7a37dc8",
   "metadata": {
    "execution": {
     "iopub.execute_input": "2024-07-26T16:03:09.012792Z",
     "iopub.status.busy": "2024-07-26T16:03:09.012615Z",
     "iopub.status.idle": "2024-07-26T16:03:09.297409Z",
     "shell.execute_reply": "2024-07-26T16:03:09.296910Z"
    },
    "papermill": {
     "duration": 0.288487,
     "end_time": "2024-07-26T16:03:09.298711",
     "exception": false,
     "start_time": "2024-07-26T16:03:09.010224",
     "status": "completed"
    },
    "tags": []
   },
   "outputs": [],
   "source": [
    "from HPO_lib.visualize import visualize_HPO, visualize_validation\n",
    "from HPO_lib.save_and_load_results import load"
   ]
  },
  {
   "cell_type": "markdown",
   "id": "bd1fb463",
   "metadata": {
    "papermill": {
     "duration": 0.008428,
     "end_time": "2024-07-26T16:03:09.309642",
     "exception": false,
     "start_time": "2024-07-26T16:03:09.301214",
     "status": "completed"
    },
    "tags": []
   },
   "source": [
    "with open(\"Results/EWC_1/params_for_HPO.yaml\", 'r') as file:\n",
    "    params_for_HPO = file.read()"
   ]
  },
  {
   "cell_type": "markdown",
   "id": "a6c178c5",
   "metadata": {
    "papermill": {
     "duration": 0.002337,
     "end_time": "2024-07-26T16:03:09.314302",
     "exception": false,
     "start_time": "2024-07-26T16:03:09.311965",
     "status": "completed"
    },
    "tags": []
   },
   "source": [
    "params_for_HPO"
   ]
  },
  {
   "cell_type": "markdown",
   "id": "b5117dc2",
   "metadata": {
    "papermill": {
     "duration": 0.002225,
     "end_time": "2024-07-26T16:03:09.319148",
     "exception": false,
     "start_time": "2024-07-26T16:03:09.316923",
     "status": "completed"
    },
    "tags": []
   },
   "source": [
    "import re\n",
    "import ast\n",
    "\n",
    "def extract_benchmark_settings(input_string):\n",
    "    # Regular expression to find the benchmark_settings dictionary\n",
    "    pattern_benchmark_settings = r'benchmark_settings\\s*:\\s*(\\{.*?\\})\\n'\n",
    "    pattern_method_settings = r'method_settings\\s*:\\s*(\\{.*?\\})\\n'\n",
    "    pattern_HPO_settings = r'HPO_settings\\s*:\\s*\\{[^}]*\"HPO_name\"\\s*:\\s*\"([^\"]+)\"'\n",
    "    pattern_save_results = r'save_results\\s*:\\s*(True|False)'\n",
    "    \n",
    "    # Search the input string for the pattern\n",
    "    match_1 = re.search(pattern_benchmark_settings, input_string, re.DOTALL)\n",
    "    match_2 = re.search(pattern_method_settings, input_string, re.DOTALL)\n",
    "    match_3 = re.search(pattern_HPO_settings, input_string, re.DOTALL)\n",
    "    match_4 = re.search(pattern_save_results, input_string)\n",
    "\n",
    "    if match_1 and match_2 and match_3 and match_4:\n",
    "        benchmark_settings = ast.literal_eval(match_1.group(1))\n",
    "        method_settings = ast.literal_eval(match_2.group(1))\n",
    "        HPO_settings = match_3.group(1)\n",
    "        save_results = bool(match_4.group(1))\n",
    "        \n",
    "        return benchmark_settings, method_settings, HPO_settings, save_results\n",
    "    else:\n",
    "        ValueError(\"Could not retrieve parameters\")\n",
    "        return \"ah\""
   ]
  },
  {
   "cell_type": "markdown",
   "id": "ea651337",
   "metadata": {
    "papermill": {
     "duration": 0.0022,
     "end_time": "2024-07-26T16:03:09.323623",
     "exception": false,
     "start_time": "2024-07-26T16:03:09.321423",
     "status": "completed"
    },
    "tags": []
   },
   "source": [
    "extract_benchmark_settings(params_for_HPO)"
   ]
  },
  {
   "cell_type": "markdown",
   "id": "8c7ca16e",
   "metadata": {
    "tags": [
     "papermill-error-cell-tag"
    ]
   },
   "source": [
    "<span id=\"papermill-error-cell\" style=\"color:red; font-family:Helvetica Neue, Helvetica, Arial, sans-serif; font-size:2em;\">Execution using papermill encountered an exception here and stopped:</span>"
   ]
  },
  {
   "cell_type": "code",
   "execution_count": 4,
   "id": "f1fbe05f",
   "metadata": {
    "execution": {
     "iopub.execute_input": "2024-07-26T16:03:09.329253Z",
     "iopub.status.busy": "2024-07-26T16:03:09.328871Z",
     "iopub.status.idle": "2024-07-26T16:03:09.442656Z",
     "shell.execute_reply": "2024-07-26T16:03:09.442182Z"
    },
    "papermill": {
     "duration": 0.118005,
     "end_time": "2024-07-26T16:03:09.443901",
     "exception": true,
     "start_time": "2024-07-26T16:03:09.325896",
     "status": "failed"
    },
    "tags": []
   },
   "outputs": [
    {
     "ename": "FileNotFoundError",
     "evalue": "[Errno 2] No such file or directory: 'No result with this number for this method/params_for_HPO.yaml'",
     "output_type": "error",
     "traceback": [
      "\u001b[0;31m---------------------------------------------------------------------------\u001b[0m",
      "\u001b[0;31mFileNotFoundError\u001b[0m                         Traceback (most recent call last)",
      "Cell \u001b[0;32mIn[4], line 1\u001b[0m\n\u001b[0;32m----> 1\u001b[0m test_accs_matrix, best_params_list, val_accs_matrix, HPO_settings, method_settings, benchmark_settings \u001b[38;5;241m=\u001b[39m \u001b[43mload\u001b[49m\u001b[43m(\u001b[49m\u001b[43mmethod_name\u001b[49m\u001b[43m,\u001b[49m\u001b[43m \u001b[49m\u001b[43mresult_number\u001b[49m\u001b[43m)\u001b[49m\n",
      "File \u001b[0;32m~/Master-Thesis-1/Workspace/Core work/HPO_lib/save_and_load_results.py:137\u001b[0m, in \u001b[0;36mload\u001b[0;34m(method_name, result_number)\u001b[0m\n\u001b[1;32m    134\u001b[0m \u001b[38;5;28;01mdef\u001b[39;00m \u001b[38;5;21mload\u001b[39m(method_name, result_number) :\n\u001b[1;32m    136\u001b[0m     folder_path \u001b[38;5;241m=\u001b[39m get_folder (method_name, result_number)\n\u001b[0;32m--> 137\u001b[0m     \u001b[38;5;28;01mwith\u001b[39;00m \u001b[38;5;28;43mopen\u001b[39;49m\u001b[43m(\u001b[49m\u001b[43mfolder_path\u001b[49m\u001b[38;5;241;43m+\u001b[39;49m\u001b[38;5;124;43m'\u001b[39;49m\u001b[38;5;124;43m/params_for_HPO.yaml\u001b[39;49m\u001b[38;5;124;43m'\u001b[39;49m\u001b[43m,\u001b[49m\u001b[43m \u001b[49m\u001b[38;5;124;43m'\u001b[39;49m\u001b[38;5;124;43mr\u001b[39;49m\u001b[38;5;124;43m'\u001b[39;49m\u001b[43m)\u001b[49m \u001b[38;5;28;01mas\u001b[39;00m file:\n\u001b[1;32m    138\u001b[0m         params_for_HPO \u001b[38;5;241m=\u001b[39m file\u001b[38;5;241m.\u001b[39mread()\n\u001b[1;32m    140\u001b[0m     benchmark_settings, method_settings, HPO_name \u001b[38;5;241m=\u001b[39m extract_benchmark_settings(params_for_HPO)\n",
      "\u001b[0;31mFileNotFoundError\u001b[0m: [Errno 2] No such file or directory: 'No result with this number for this method/params_for_HPO.yaml'"
     ]
    }
   ],
   "source": [
    "test_accs_matrix, best_params_list, val_accs_matrix, HPO_settings, method_settings, benchmark_settings = load(method_name, result_number)"
   ]
  },
  {
   "cell_type": "code",
   "execution_count": null,
   "id": "0a580d1a",
   "metadata": {
    "papermill": {
     "duration": null,
     "end_time": null,
     "exception": null,
     "start_time": null,
     "status": "pending"
    },
    "tags": []
   },
   "outputs": [],
   "source": [
    "visualize_HPO(test_accs_matrix, best_params_list, visualization_settings, HPO_settings, method_settings, benchmark_settings)"
   ]
  },
  {
   "cell_type": "code",
   "execution_count": null,
   "id": "20f2a804",
   "metadata": {
    "papermill": {
     "duration": null,
     "end_time": null,
     "exception": null,
     "start_time": null,
     "status": "pending"
    },
    "tags": []
   },
   "outputs": [],
   "source": [
    "visualize_validation(val_accs_matrix, test_accs_matrix, visualization_settings, HPO_settings, method_settings, benchmark_settings)"
   ]
  }
 ],
 "metadata": {
  "kernelspec": {
   "display_name": ".jax_env",
   "language": "python",
   "name": "python3"
  },
  "language_info": {
   "codemirror_mode": {
    "name": "ipython",
    "version": 3
   },
   "file_extension": ".py",
   "mimetype": "text/x-python",
   "name": "python",
   "nbconvert_exporter": "python",
   "pygments_lexer": "ipython3",
   "version": "3.12.2"
  },
  "papermill": {
   "default_parameters": {},
   "duration": 1.228407,
   "end_time": "2024-07-26T16:03:09.662776",
   "environment_variables": {},
   "exception": true,
   "input_path": "runnable_visualization.ipynb",
   "output_path": "executed_visualization.ipynb",
   "parameters": {
    "method_name": "EWC",
    "result_number": 3,
    "visualization_settings": {
     "savefig": true,
     "visualize_accs_matrix": true,
     "visualize_accuracy_through_benchmarks": true,
     "visualize_avg_acc_curve": true,
     "visualize_best_params": true,
     "visualize_val_accs_matrix": true
    }
   },
   "start_time": "2024-07-26T16:03:08.434369",
   "version": "2.6.0"
  }
 },
 "nbformat": 4,
 "nbformat_minor": 5
}