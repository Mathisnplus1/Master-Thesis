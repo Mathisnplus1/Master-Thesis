{
 "cells": [
  {
   "cell_type": "code",
   "execution_count": 1,
   "metadata": {},
   "outputs": [],
   "source": [
    "import numpy as np"
   ]
  },
  {
   "cell_type": "code",
   "execution_count": 3,
   "metadata": {},
   "outputs": [],
   "source": [
    "GroHess_9 = np.array([97.72,13.6,4.86,7.3,10.37,12.38,2.77,14.88,12.99,5.11,\n",
    "96.64,96.38,7.8,3.55,8.3,12.01,2.83,12.54,9.04,6.16,\n",
    "94.07,89.7,93.86,4.12,12.26,13.94,3.42,12.02,7.75,5.07,\n",
    "86.23,81.24,87.23,94.52,10.28,13.65,5.04,11.17,6.2,7.97,\n",
    "80.71,81.23,85.81,90.52,95.59,13.12,6.78,11.46,8.61,10.63,\n",
    "76.6,74.8,80.73,89.44,94.43,91.33,6.28,10.9,9.23,11.45,\n",
    "75.34,71.75,74.18,87.67,92.34,89.05,82.26,10.56,10.07,11.06,\n",
    "71.32,76.67,71.65,86.44,89.39,86.47,76.93,78.54,10.51,13.44,\n",
    "66.44,75.32,76.14,82.37,90.51,84.71,75.68,68.07,90.85,12.21,\n",
    "65.31,75.07,74.08,81.7,86.94,82.19,74.14,69.29,88.38,71.13\n",
    "]).reshape(10,10)"
   ]
  },
  {
   "cell_type": "code",
   "execution_count": 6,
   "metadata": {},
   "outputs": [
    {
     "data": {
      "text/plain": [
       "[97.72,\n",
       " 96.50999999999999,\n",
       " 92.54333333333334,\n",
       " 87.30499999999999,\n",
       " 86.772,\n",
       " 84.55499999999999,\n",
       " 81.79857142857144,\n",
       " 79.67625000000001,\n",
       " 78.89888888888889,\n",
       " 76.82300000000001]"
      ]
     },
     "execution_count": 6,
     "metadata": {},
     "output_type": "execute_result"
    }
   ],
   "source": [
    "GroHess = []\n",
    "for i in range(10):\n",
    "    GroHess.append(GroHess_9[i,:i+1].mean())\n",
    "GroHess"
   ]
  },
  {
   "cell_type": "code",
   "execution_count": null,
   "metadata": {},
   "outputs": [],
   "source": []
  }
 ],
 "metadata": {
  "kernelspec": {
   "display_name": ".jax_env",
   "language": "python",
   "name": "python3"
  },
  "language_info": {
   "codemirror_mode": {
    "name": "ipython",
    "version": 3
   },
   "file_extension": ".py",
   "mimetype": "text/x-python",
   "name": "python",
   "nbconvert_exporter": "python",
   "pygments_lexer": "ipython3",
   "version": "3.12.2"
  }
 },
 "nbformat": 4,
 "nbformat_minor": 2
}
