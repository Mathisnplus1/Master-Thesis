{
 "cells": [
  {
   "cell_type": "code",
   "execution_count": 1,
   "metadata": {},
   "outputs": [],
   "source": [
    "# Comment the following cell if running through the command :\n",
    "# papermill runnable_HPO.ipynb executed_HPO.ipynb -f params_for_HPO.yaml --kernel jupyter.jax_env"
   ]
  },
  {
   "cell_type": "code",
   "execution_count": 2,
   "metadata": {},
   "outputs": [],
   "source": [
    "\n",
    "global_seed = 88\n",
    "# Parameters specfific to the benchmark\n",
    "benchmark_settings = {\"benchmark_name\" : \"pMNIST\",\n",
    "                      \"difficulty\" : \"standard\",\n",
    "                      \"num_tasks\" : 4,\n",
    "                      \"train_percentage\" : 0.2,\n",
    "                      \"num_val_benchmarks\" : 5,\n",
    "                      \"batch_size\" : 128}\n",
    "\n",
    "# Parameters specific to the method\n",
    "method_settings = {\"method_name\" : \"GroHess\",\n",
    "                   \"grow_from\" : \"output\",\n",
    "                   \"hessian_percentile\" : 95,\n",
    "                   \"grad_percentile\" : 95,\n",
    "                   \"num_inputs\" : 28*28,\n",
    "                   \"num_hidden_root\" : 100,\n",
    "                   \"num_outputs\" : 10,\n",
    "                   \"loss_name\" : \"CE\",\n",
    "                   \"optimizer_name\" : \"Adam\"}\n",
    "\n",
    "# Parameters specific to HPO\n",
    "HPO_settings = {\"HPO_name\" : \"greedy_HPO\",\n",
    "                \"n_trials\" : 3,\n",
    "                \"lr\" : (5e-5, 2e-3),\n",
    "                \"num_epochs\" : (2, 6)}\n",
    "\n",
    "# Parameters specific to the visualization\n",
    "visualization_settings = {\"visualize_accs_matrix\" : True,\n",
    "                          \"visualize_avg_acc_curve\" : True,\n",
    "                          \"visualize_best_params\" : True,}"
   ]
  },
  {
   "cell_type": "code",
   "execution_count": 3,
   "metadata": {},
   "outputs": [],
   "source": [
    "import sys\n",
    "import os\n",
    "\n",
    "sys.path.append(\"Methods/\" + method_settings[\"method_name\"])\n",
    "sys.path.append(\"HPO_lib/benchmark_loaders\")\n",
    "\n",
    "path = os.path.dirname(os.path.abspath(\"__file__\"))\n",
    "data_path = path + \"/data\""
   ]
  },
  {
   "cell_type": "markdown",
   "metadata": {},
   "source": [
    "## Imports"
   ]
  },
  {
   "cell_type": "code",
   "execution_count": 4,
   "metadata": {},
   "outputs": [
    {
     "name": "stderr",
     "output_type": "stream",
     "text": [
      "/home/mathis/miniconda3/envs/.jax_env/lib/python3.12/site-packages/tqdm/auto.py:21: TqdmWarning: IProgress not found. Please update jupyter and ipywidgets. See https://ipywidgets.readthedocs.io/en/stable/user_install.html\n",
      "  from .autonotebook import tqdm as notebook_tqdm\n"
     ]
    }
   ],
   "source": [
    "from lib.abstract_torch import get_device\n",
    "from lib.dataloader import get_task_loaders\n",
    "from lib.models import ANN\n",
    "from lib.train import train\n",
    "from lib.test import test\n",
    "from HPO_lib.visualize import visualize_accs_matrix, visualize_avg_acc_curve, visualize_best_params, visualize_val_accs_matrix, visualize_accuracy_through_benchmarks, visualize_violin\n",
    "from HPO_lib.get_benchmarks import get_benchmarks\n",
    "from HPO_lib.run_HPO import run_HPO\n",
    "\n",
    "import numpy as np\n",
    "import copy\n",
    "import optuna\n",
    "from functools import partial\n",
    "\n",
    "import warnings\n",
    "warnings.filterwarnings('ignore')"
   ]
  },
  {
   "cell_type": "code",
   "execution_count": 5,
   "metadata": {},
   "outputs": [],
   "source": [
    "device = get_device(1)"
   ]
  },
  {
   "cell_type": "markdown",
   "metadata": {},
   "source": [
    "## Get benchmarks"
   ]
  },
  {
   "cell_type": "code",
   "execution_count": 6,
   "metadata": {},
   "outputs": [],
   "source": [
    "benchmarks_list = get_benchmarks(benchmark_settings, global_seed)"
   ]
  },
  {
   "cell_type": "markdown",
   "metadata": {},
   "source": [
    "## Run HPO"
   ]
  },
  {
   "cell_type": "code",
   "execution_count": 7,
   "metadata": {},
   "outputs": [
    {
     "name": "stderr",
     "output_type": "stream",
     "text": [
      "[I 2024-07-04 16:50:51,489] A new study created in memory with name: Search number 1\n"
     ]
    },
    {
     "name": "stdout",
     "output_type": "stream",
     "text": [
      "\n",
      "--------------------------------------------------\n",
      "LEARNING TASK 1\n"
     ]
    },
    {
     "name": "stderr",
     "output_type": "stream",
     "text": [
      "100%|██████████| 4/4 [00:05<00:00,  1.36s/it]\n",
      "[I 2024-07-04 16:51:01,776] Trial 0 finished with value: 91.75594666666667 and parameters: {'lr': 0.0013127245462383958, 'num_epochs': 4}. Best is trial 0 with value: 91.75594666666667.\n",
      "100%|██████████| 6/6 [00:08<00:00,  1.33s/it]\n",
      "[I 2024-07-04 16:51:14,612] Trial 1 finished with value: 92.58317333333342 and parameters: {'lr': 0.001080265691296867, 'num_epochs': 6}. Best is trial 1 with value: 92.58317333333342.\n",
      "100%|██████████| 5/5 [00:06<00:00,  1.32s/it]\n",
      "[I 2024-07-04 16:51:26,072] Trial 2 finished with value: 92.74338666666672 and parameters: {'lr': 0.0014149828218016016, 'num_epochs': 5}. Best is trial 2 with value: 92.74338666666672.\n",
      "  0%|          | 0/5 [00:00<?, ?it/s]"
     ]
    },
    {
     "name": "stdout",
     "output_type": "stream",
     "text": [
      "In and out sizes :\n",
      "fc1 : in = 784, out = 100\n",
      "fc2 : in = 100, out = 100\n",
      "fc3 : in = 100, out = 10\n"
     ]
    },
    {
     "name": "stderr",
     "output_type": "stream",
     "text": [
      " 20%|██        | 1/5 [00:01<00:05,  1.33s/it]"
     ]
    },
    {
     "name": "stdout",
     "output_type": "stream",
     "text": [
      "In and out sizes :\n",
      "fc1 : in = 784, out = 100\n",
      "fc2 : in = 100, out = 100\n",
      "fc3 : in = 100, out = 10\n"
     ]
    },
    {
     "name": "stderr",
     "output_type": "stream",
     "text": [
      " 40%|████      | 2/5 [00:02<00:03,  1.32s/it]"
     ]
    },
    {
     "name": "stdout",
     "output_type": "stream",
     "text": [
      "In and out sizes :\n",
      "fc1 : in = 784, out = 100\n",
      "fc2 : in = 100, out = 100\n",
      "fc3 : in = 100, out = 10\n"
     ]
    },
    {
     "name": "stderr",
     "output_type": "stream",
     "text": [
      " 60%|██████    | 3/5 [00:03<00:02,  1.32s/it]"
     ]
    },
    {
     "name": "stdout",
     "output_type": "stream",
     "text": [
      "In and out sizes :\n",
      "fc1 : in = 784, out = 100\n",
      "fc2 : in = 100, out = 100\n",
      "fc3 : in = 100, out = 10\n"
     ]
    },
    {
     "name": "stderr",
     "output_type": "stream",
     "text": [
      " 80%|████████  | 4/5 [00:05<00:01,  1.33s/it]"
     ]
    },
    {
     "name": "stdout",
     "output_type": "stream",
     "text": [
      "In and out sizes :\n",
      "fc1 : in = 784, out = 100\n",
      "fc2 : in = 100, out = 100\n",
      "fc3 : in = 100, out = 10\n"
     ]
    },
    {
     "name": "stderr",
     "output_type": "stream",
     "text": [
      "100%|██████████| 5/5 [00:06<00:00,  1.32s/it]\n",
      "[I 2024-07-04 16:51:35,715] A new study created in memory with name: Search number 2\n"
     ]
    },
    {
     "name": "stdout",
     "output_type": "stream",
     "text": [
      "\n",
      "--------------------------------------------------\n",
      "LEARNING TASK 2\n"
     ]
    },
    {
     "name": "stderr",
     "output_type": "stream",
     "text": [
      "100%|██████████| 4/4 [00:05<00:00,  1.34s/it]\n",
      "[I 2024-07-04 16:51:50,782] Trial 0 finished with value: 91.43618666666666 and parameters: {'lr': 0.0013127245462383958, 'num_epochs': 4}. Best is trial 0 with value: 91.43618666666666.\n",
      "100%|██████████| 6/6 [00:07<00:00,  1.32s/it]\n",
      "[I 2024-07-04 16:52:08,419] Trial 1 finished with value: 91.98510666666675 and parameters: {'lr': 0.001080265691296867, 'num_epochs': 6}. Best is trial 1 with value: 91.98510666666675.\n",
      "100%|██████████| 5/5 [00:06<00:00,  1.28s/it]\n",
      "[I 2024-07-04 16:52:24,506] Trial 2 finished with value: 91.73917333333333 and parameters: {'lr': 0.0014149828218016016, 'num_epochs': 5}. Best is trial 1 with value: 91.98510666666675.\n",
      "  0%|          | 0/6 [00:00<?, ?it/s]"
     ]
    },
    {
     "name": "stdout",
     "output_type": "stream",
     "text": [
      "In and out sizes :\n",
      "fc1 : in = 784, out = 100\n",
      "fc2 : in = 100, out = 100\n",
      "fc3 : in = 100, out = 10\n"
     ]
    },
    {
     "name": "stderr",
     "output_type": "stream",
     "text": [
      " 17%|█▋        | 1/6 [00:01<00:06,  1.29s/it]"
     ]
    },
    {
     "name": "stdout",
     "output_type": "stream",
     "text": [
      "In and out sizes :\n",
      "fc1 : in = 784, out = 100\n",
      "fc2 : in = 100, out = 100\n",
      "fc3 : in = 100, out = 10\n"
     ]
    },
    {
     "name": "stderr",
     "output_type": "stream",
     "text": [
      " 33%|███▎      | 2/6 [00:02<00:05,  1.29s/it]"
     ]
    },
    {
     "name": "stdout",
     "output_type": "stream",
     "text": [
      "In and out sizes :\n",
      "fc1 : in = 784, out = 100\n",
      "fc2 : in = 100, out = 100\n",
      "fc3 : in = 100, out = 10\n"
     ]
    },
    {
     "name": "stderr",
     "output_type": "stream",
     "text": [
      " 50%|█████     | 3/6 [00:03<00:03,  1.29s/it]"
     ]
    },
    {
     "name": "stdout",
     "output_type": "stream",
     "text": [
      "In and out sizes :\n",
      "fc1 : in = 784, out = 100\n",
      "fc2 : in = 100, out = 100\n",
      "fc3 : in = 100, out = 10\n"
     ]
    },
    {
     "name": "stderr",
     "output_type": "stream",
     "text": [
      " 67%|██████▋   | 4/6 [00:05<00:02,  1.28s/it]"
     ]
    },
    {
     "name": "stdout",
     "output_type": "stream",
     "text": [
      "In and out sizes :\n",
      "fc1 : in = 784, out = 100\n",
      "fc2 : in = 100, out = 100\n",
      "fc3 : in = 100, out = 10\n"
     ]
    },
    {
     "name": "stderr",
     "output_type": "stream",
     "text": [
      " 83%|████████▎ | 5/6 [00:06<00:01,  1.28s/it]"
     ]
    },
    {
     "name": "stdout",
     "output_type": "stream",
     "text": [
      "In and out sizes :\n",
      "fc1 : in = 784, out = 100\n",
      "fc2 : in = 100, out = 100\n",
      "fc3 : in = 100, out = 10\n"
     ]
    },
    {
     "name": "stderr",
     "output_type": "stream",
     "text": [
      "100%|██████████| 6/6 [00:07<00:00,  1.28s/it]\n",
      "[I 2024-07-04 16:52:35,236] A new study created in memory with name: Search number 3\n"
     ]
    },
    {
     "name": "stdout",
     "output_type": "stream",
     "text": [
      "\n",
      "--------------------------------------------------\n",
      "LEARNING TASK 3\n"
     ]
    },
    {
     "name": "stderr",
     "output_type": "stream",
     "text": [
      "100%|██████████| 4/4 [00:05<00:00,  1.28s/it]\n",
      "[I 2024-07-04 16:52:54,825] Trial 0 finished with value: 88.5027288888889 and parameters: {'lr': 0.0013127245462383958, 'num_epochs': 4}. Best is trial 0 with value: 88.5027288888889.\n",
      "100%|██████████| 6/6 [00:07<00:00,  1.27s/it]\n",
      "[I 2024-07-04 16:53:17,142] Trial 1 finished with value: 88.70005333333336 and parameters: {'lr': 0.001080265691296867, 'num_epochs': 6}. Best is trial 1 with value: 88.70005333333336.\n",
      "100%|██████████| 5/5 [00:06<00:00,  1.28s/it]\n",
      "[I 2024-07-04 16:53:38,044] Trial 2 finished with value: 88.32912888888892 and parameters: {'lr': 0.0014149828218016016, 'num_epochs': 5}. Best is trial 1 with value: 88.70005333333336.\n",
      "  0%|          | 0/6 [00:00<?, ?it/s]"
     ]
    },
    {
     "name": "stdout",
     "output_type": "stream",
     "text": [
      "In and out sizes :\n",
      "fc1 : in = 784, out = 122\n",
      "fc2 : in = 122, out = 100\n",
      "fc3 : in = 100, out = 10\n"
     ]
    },
    {
     "name": "stderr",
     "output_type": "stream",
     "text": [
      " 17%|█▋        | 1/6 [00:01<00:06,  1.28s/it]"
     ]
    },
    {
     "name": "stdout",
     "output_type": "stream",
     "text": [
      "In and out sizes :\n",
      "fc1 : in = 784, out = 122\n",
      "fc2 : in = 122, out = 100\n",
      "fc3 : in = 100, out = 10\n"
     ]
    },
    {
     "name": "stderr",
     "output_type": "stream",
     "text": [
      " 33%|███▎      | 2/6 [00:02<00:05,  1.27s/it]"
     ]
    },
    {
     "name": "stdout",
     "output_type": "stream",
     "text": [
      "In and out sizes :\n",
      "fc1 : in = 784, out = 122\n",
      "fc2 : in = 122, out = 100\n",
      "fc3 : in = 100, out = 10\n"
     ]
    },
    {
     "name": "stderr",
     "output_type": "stream",
     "text": [
      " 50%|█████     | 3/6 [00:03<00:03,  1.27s/it]"
     ]
    },
    {
     "name": "stdout",
     "output_type": "stream",
     "text": [
      "In and out sizes :\n",
      "fc1 : in = 784, out = 122\n",
      "fc2 : in = 122, out = 100\n",
      "fc3 : in = 100, out = 10\n"
     ]
    },
    {
     "name": "stderr",
     "output_type": "stream",
     "text": [
      " 67%|██████▋   | 4/6 [00:05<00:02,  1.28s/it]"
     ]
    },
    {
     "name": "stdout",
     "output_type": "stream",
     "text": [
      "In and out sizes :\n",
      "fc1 : in = 784, out = 122\n",
      "fc2 : in = 122, out = 100\n",
      "fc3 : in = 100, out = 10\n"
     ]
    },
    {
     "name": "stderr",
     "output_type": "stream",
     "text": [
      " 83%|████████▎ | 5/6 [00:06<00:01,  1.28s/it]"
     ]
    },
    {
     "name": "stdout",
     "output_type": "stream",
     "text": [
      "In and out sizes :\n",
      "fc1 : in = 784, out = 122\n",
      "fc2 : in = 122, out = 100\n",
      "fc3 : in = 100, out = 10\n"
     ]
    },
    {
     "name": "stderr",
     "output_type": "stream",
     "text": [
      "100%|██████████| 6/6 [00:07<00:00,  1.28s/it]\n"
     ]
    }
   ],
   "source": [
    "test_accs_matrix, best_params_list, model = run_HPO(HPO_settings, method_settings, benchmarks_list[0], device, global_seed)"
   ]
  }
 ],
 "metadata": {
  "kernelspec": {
   "display_name": ".jax_env",
   "language": "python",
   "name": "python3"
  },
  "language_info": {
   "codemirror_mode": {
    "name": "ipython",
    "version": 3
   },
   "file_extension": ".py",
   "mimetype": "text/x-python",
   "name": "python",
   "nbconvert_exporter": "python",
   "pygments_lexer": "ipython3",
   "version": "3.12.2"
  }
 },
 "nbformat": 4,
 "nbformat_minor": 2
}
