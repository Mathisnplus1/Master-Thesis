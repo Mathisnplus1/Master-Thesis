{
 "cells": [
  {
   "cell_type": "code",
   "execution_count": 1,
   "metadata": {},
   "outputs": [],
   "source": [
    "import sys\n",
    "sys.path.append(\"Methods/EWC/old\")"
   ]
  },
  {
   "cell_type": "code",
   "execution_count": 2,
   "metadata": {},
   "outputs": [
    {
     "name": "stderr",
     "output_type": "stream",
     "text": [
      "/home/mathis/miniconda3/envs/.jax_env/lib/python3.12/site-packages/tqdm/auto.py:21: TqdmWarning: IProgress not found. Please update jupyter and ipywidgets. See https://ipywidgets.readthedocs.io/en/stable/user_install.html\n",
      "  from .autonotebook import tqdm as notebook_tqdm\n"
     ]
    }
   ],
   "source": [
    "from lib.abstract_torch import get_device, get_optimizer, get_loss\n",
    "from lib.benchmark_generator import PermutedMNIST\n",
    "from lib.models import ANN\n",
    "from lib.train import train\n",
    "from lib.test import test\n",
    "from lib.visualize import vizualize_loss_hists, visualize_accs_matrix, visualize_avg_acc_curve\n",
    "\n",
    "import os\n",
    "import numpy as np\n",
    "import matplotlib.pyplot as plt\n",
    "\n",
    "import warnings\n",
    "warnings.filterwarnings('ignore')\n",
    "\n",
    "from avalanche.training.supervised import EWC\n",
    "from avalanche.training.plugins import EWCPlugin\n",
    "from avalanche.evaluation.metrics import accuracy_metrics, loss_metrics, forgetting_metrics\n",
    "from avalanche.logging import InteractiveLogger\n",
    "from avalanche.training.plugins import EvaluationPlugin"
   ]
  },
  {
   "cell_type": "code",
   "execution_count": 3,
   "metadata": {},
   "outputs": [],
   "source": [
    "path = os.path.dirname(os.path.abspath(\"__file__\"))\n",
    "data_path = path + \"/data\""
   ]
  },
  {
   "cell_type": "code",
   "execution_count": 4,
   "metadata": {},
   "outputs": [],
   "source": [
    "device = get_device(1)"
   ]
  },
  {
   "cell_type": "markdown",
   "metadata": {},
   "source": [
    "## Set parameters"
   ]
  },
  {
   "cell_type": "code",
   "execution_count": 5,
   "metadata": {},
   "outputs": [],
   "source": [
    "# Benchmark parameter\n",
    "num_tasks = 3\n",
    "train_percentage = 0.3\n",
    "\n",
    "# EWC parameter\n",
    "ewc_lambda = 4\n",
    "\n",
    "# Data parameter\n",
    "batch_size=128\n",
    "\n",
    "# Network Architecture\n",
    "num_inputs = 28*28\n",
    "num_hidden_root = 1000\n",
    "num_outputs = 10\n",
    "\n",
    "# Train parameters\n",
    "loss_name = \"CE\"\n",
    "optimizer_name = \"Adam\"\n",
    "\n",
    "# Hyperparameters\n",
    "num_epochs = 3\n",
    "lr = 1e-3"
   ]
  },
  {
   "cell_type": "markdown",
   "metadata": {},
   "source": [
    "## Reproducibility"
   ]
  },
  {
   "cell_type": "code",
   "execution_count": 6,
   "metadata": {},
   "outputs": [],
   "source": [
    "random_seed = 88"
   ]
  },
  {
   "cell_type": "markdown",
   "metadata": {},
   "source": [
    "## Get p-MNIST benchmark"
   ]
  },
  {
   "cell_type": "code",
   "execution_count": 7,
   "metadata": {},
   "outputs": [],
   "source": [
    "benchmark = PermutedMNIST(n_experiences=num_tasks, train_percentage=train_percentage, difficulty=\"hard\", seed=random_seed)"
   ]
  },
  {
   "cell_type": "code",
   "execution_count": 8,
   "metadata": {},
   "outputs": [],
   "source": [
    "import torch"
   ]
  },
  {
   "cell_type": "code",
   "execution_count": 9,
   "metadata": {},
   "outputs": [],
   "source": [
    "test_loaders_list = []\n",
    "for test_experience in benchmark.test_stream :\n",
    "        test_dataset = test_experience.dataset\n",
    "        test_data_loader = torch.utils.data.DataLoader(test_dataset, batch_size=128, shuffle=True)\n",
    "        test_loaders_list.append(test_data_loader)"
   ]
  },
  {
   "cell_type": "markdown",
   "metadata": {},
   "source": [
    "## Define model"
   ]
  },
  {
   "cell_type": "code",
   "execution_count": 10,
   "metadata": {},
   "outputs": [],
   "source": [
    "model = ANN(num_inputs, num_hidden_root, num_outputs, random_seed).to(device)"
   ]
  },
  {
   "cell_type": "markdown",
   "metadata": {},
   "source": [
    "## Train with EWC"
   ]
  },
  {
   "cell_type": "code",
   "execution_count": 11,
   "metadata": {},
   "outputs": [],
   "source": [
    "optimizer = get_optimizer(optimizer_name, model)"
   ]
  },
  {
   "cell_type": "code",
   "execution_count": 12,
   "metadata": {},
   "outputs": [],
   "source": [
    "eval_plugin = EvaluationPlugin(\n",
    "    accuracy_metrics(minibatch=True, epoch=True, experience=True, stream=True, trained_experience = True),\n",
    "    loggers=[InteractiveLogger()]\n",
    ")\n",
    "\n",
    "ewc = EWC(\n",
    "    model, optimizer, criterion=get_loss(loss_name), ewc_lambda=ewc_lambda,\n",
    "    train_mb_size=batch_size, train_epochs=num_epochs, eval_mb_size=batch_size, evaluator=eval_plugin,\n",
    "    device=device\n",
    ")"
   ]
  },
  {
   "cell_type": "markdown",
   "metadata": {},
   "source": [
    "print((ewc.plugins[0].compute_importances(model=model,\n",
    "                                       criterion=get_loss(loss_name),\n",
    "                                       optimizer=optimizer,\n",
    "                                       dataset=experience.dataset,\n",
    "                                       device=device,\n",
    "                                       batch_size=128)[\"fc1.weight\"].data> 1e-6).sum())"
   ]
  },
  {
   "cell_type": "code",
   "execution_count": 13,
   "metadata": {},
   "outputs": [
    {
     "data": {
      "text/plain": [
       "tensor([[8.1247e-08, 1.5708e-07, 4.0550e-07,  ..., 8.1095e-08, 9.4961e-07,\n",
       "         1.6153e-07],\n",
       "        [1.0819e-07, 2.4559e-07, 4.8591e-07,  ..., 1.0798e-07, 9.7579e-07,\n",
       "         3.4648e-07],\n",
       "        [1.0999e-07, 5.9906e-07, 4.6028e-07,  ..., 1.0914e-07, 1.4710e-06,\n",
       "         2.9823e-07],\n",
       "        ...,\n",
       "        [5.3485e-08, 2.6545e-07, 1.8166e-07,  ..., 5.3164e-08, 7.1907e-07,\n",
       "         7.9721e-08],\n",
       "        [4.7215e-08, 2.4025e-07, 3.1227e-07,  ..., 4.7162e-08, 4.4147e-07,\n",
       "         9.7023e-08],\n",
       "        [1.3739e-07, 4.6402e-07, 6.2900e-07,  ..., 1.3690e-07, 1.8776e-06,\n",
       "         2.1029e-07]], device='cuda:1')"
      ]
     },
     "execution_count": 13,
     "metadata": {},
     "output_type": "execute_result"
    }
   ],
   "source": [
    "experience = benchmark.train_stream[0]\n",
    "ewc.plugins[0].compute_importances(model=model,\n",
    "                                       criterion=get_loss(loss_name),\n",
    "                                       optimizer=optimizer,\n",
    "                                       dataset=experience.dataset,\n",
    "                                       device=device,\n",
    "                                       batch_size=128)[\"fc1.weight\"].data"
   ]
  },
  {
   "cell_type": "code",
   "execution_count": 14,
   "metadata": {},
   "outputs": [
    {
     "data": {
      "text/plain": [
       "defaultdict(dict, {})"
      ]
     },
     "execution_count": 14,
     "metadata": {},
     "output_type": "execute_result"
    }
   ],
   "source": [
    "ewc.plugins[0].importances"
   ]
  },
  {
   "cell_type": "code",
   "execution_count": 15,
   "metadata": {},
   "outputs": [
    {
     "name": "stdout",
     "output_type": "stream",
     "text": [
      "-- >> Start of training phase << --\n",
      "0it [00:00, ?it/s]"
     ]
    },
    {
     "name": "stdout",
     "output_type": "stream",
     "text": [
      "100%|██████████| 141/141 [00:02<00:00, 68.32it/s]\n",
      "Epoch 0 ended.\n",
      "\tTop1_Acc_Epoch/train_phase/train_stream/Task000 = 0.8352\n",
      "\tTop1_Acc_MB/train_phase/train_stream/Task000 = 0.9500\n",
      "100%|██████████| 141/141 [00:02<00:00, 70.33it/s]\n",
      "Epoch 1 ended.\n",
      "\tTop1_Acc_Epoch/train_phase/train_stream/Task000 = 0.9538\n",
      "\tTop1_Acc_MB/train_phase/train_stream/Task000 = 0.9625\n",
      "100%|██████████| 141/141 [00:02<00:00, 70.25it/s]\n",
      "Epoch 2 ended.\n",
      "\tTop1_Acc_Epoch/train_phase/train_stream/Task000 = 0.9665\n",
      "\tTop1_Acc_MB/train_phase/train_stream/Task000 = 0.9375\n",
      "-- >> End of training phase << --\n",
      "-- >> Start of training phase << --\n",
      "100%|██████████| 141/141 [00:02<00:00, 67.31it/s]\n",
      "Epoch 0 ended.\n",
      "\tTop1_Acc_Epoch/train_phase/train_stream/Task000 = 0.8191\n",
      "\tTop1_Acc_MB/train_phase/train_stream/Task000 = 0.9500\n",
      "100%|██████████| 141/141 [00:02<00:00, 67.29it/s]\n",
      "Epoch 1 ended.\n",
      "\tTop1_Acc_Epoch/train_phase/train_stream/Task000 = 0.9358\n",
      "\tTop1_Acc_MB/train_phase/train_stream/Task000 = 0.9375\n",
      "100%|██████████| 141/141 [00:02<00:00, 67.40it/s]\n",
      "Epoch 2 ended.\n",
      "\tTop1_Acc_Epoch/train_phase/train_stream/Task000 = 0.9551\n",
      "\tTop1_Acc_MB/train_phase/train_stream/Task000 = 0.9750\n",
      "-- >> End of training phase << --\n",
      "-- >> Start of training phase << --\n",
      "100%|██████████| 141/141 [00:02<00:00, 64.94it/s]\n",
      "Epoch 0 ended.\n",
      "\tTop1_Acc_Epoch/train_phase/train_stream/Task000 = 0.8381\n",
      "\tTop1_Acc_MB/train_phase/train_stream/Task000 = 0.8500\n",
      "100%|██████████| 141/141 [00:02<00:00, 65.02it/s]\n",
      "Epoch 1 ended.\n",
      "\tTop1_Acc_Epoch/train_phase/train_stream/Task000 = 0.9338\n",
      "\tTop1_Acc_MB/train_phase/train_stream/Task000 = 0.9000\n",
      "100%|██████████| 141/141 [00:02<00:00, 64.98it/s]\n",
      "Epoch 2 ended.\n",
      "\tTop1_Acc_Epoch/train_phase/train_stream/Task000 = 0.9531\n",
      "\tTop1_Acc_MB/train_phase/train_stream/Task000 = 0.9125\n",
      "-- >> End of training phase << --\n"
     ]
    }
   ],
   "source": [
    "test_accs_matrix = np.zeros((num_tasks, num_tasks))\n",
    "for task_number, train_experience, test_experience in zip(list(range(num_tasks)), benchmark.train_stream, benchmark.test_stream) :\n",
    "    ewc.train(train_experience)\n",
    "    for j in range(num_tasks) :\n",
    "        test_accs_matrix[task_number,j] = round(test(model, test_loaders_list[j], 128, device),2)"
   ]
  },
  {
   "cell_type": "markdown",
   "metadata": {},
   "source": [
    "## Visualize results"
   ]
  },
  {
   "cell_type": "code",
   "execution_count": 16,
   "metadata": {},
   "outputs": [
    {
     "data": {
      "image/png": "[encoded data removed]",
      "text/plain": [
       "<Figure size 640x480 with 2 Axes>"
      ]
     },
     "metadata": {},
     "output_type": "display_data"
    }
   ],
   "source": [
    "visualize_accs_matrix(test_accs_matrix)"
   ]
  },
  {
   "cell_type": "code",
   "execution_count": 17,
   "metadata": {},
   "outputs": [
    {
     "data": {
      "image/png": "[encoded data removed]",
      "text/plain": [
       "<Figure size 640x480 with 1 Axes>"
      ]
     },
     "metadata": {},
     "output_type": "display_data"
    }
   ],
   "source": [
    "visualize_avg_acc_curve(test_accs_matrix)"
   ]
  },
  {
   "cell_type": "code",
   "execution_count": 18,
   "metadata": {},
   "outputs": [],
   "source": [
    "model = ANN(num_inputs, num_hidden_root, num_outputs, random_seed).to(device)\n",
    "optimizer = get_optimizer(optimizer_name, model)"
   ]
  },
  {
   "cell_type": "code",
   "execution_count": 19,
   "metadata": {},
   "outputs": [],
   "source": [
    "eval_plugin = EvaluationPlugin(\n",
    "    accuracy_metrics(minibatch=True, epoch=True, experience=True, stream=True, trained_experience = True),\n",
    "    loggers=[InteractiveLogger()]\n",
    ")\n",
    "\n",
    "ewc = EWC(\n",
    "    model, optimizer, criterion=get_loss(loss_name), ewc_lambda=ewc_lambda,\n",
    "    train_mb_size=batch_size, train_epochs=num_epochs, eval_mb_size=batch_size, evaluator=eval_plugin,\n",
    "    device=device\n",
    ")"
   ]
  },
  {
   "cell_type": "code",
   "execution_count": 20,
   "metadata": {},
   "outputs": [
    {
     "data": {
      "text/plain": [
       "0"
      ]
     },
     "execution_count": 20,
     "metadata": {},
     "output_type": "execute_result"
    }
   ],
   "source": [
    "ewc.plugins[0].importances[0]\n",
    "ewc.plugins[3].train_exp_counter"
   ]
  },
  {
   "cell_type": "code",
   "execution_count": 21,
   "metadata": {},
   "outputs": [],
   "source": [
    "#ewc.plugins[0].importances[0] = sto[0]\n",
    "#ewc.plugins[3].train_exp_counter = 1"
   ]
  },
  {
   "cell_type": "code",
   "execution_count": 22,
   "metadata": {},
   "outputs": [
    {
     "data": {
      "text/plain": [
       "0"
      ]
     },
     "execution_count": 22,
     "metadata": {},
     "output_type": "execute_result"
    }
   ],
   "source": [
    "ewc.plugins[0].importances[0]\n",
    "ewc.plugins[3].train_exp_counter"
   ]
  },
  {
   "cell_type": "code",
   "execution_count": 23,
   "metadata": {},
   "outputs": [],
   "source": [
    "ewc = EWC(\n",
    "        model=model, \n",
    "        optimizer=get_optimizer(optimizer_name, model),\n",
    "        criterion=get_loss(loss_name),\n",
    "        ewc_lambda=0,\n",
    "        train_mb_size=batch_size,\n",
    "        train_epochs=0, \n",
    "        eval_every=-1,\n",
    "        device=device\n",
    "    )"
   ]
  },
  {
   "cell_type": "code",
   "execution_count": 28,
   "metadata": {},
   "outputs": [
    {
     "data": {
      "text/plain": [
       "130715869508144"
      ]
     },
     "execution_count": 28,
     "metadata": {},
     "output_type": "execute_result"
    }
   ],
   "source": [
    "id(ewc.model)"
   ]
  },
  {
   "cell_type": "code",
   "execution_count": 38,
   "metadata": {},
   "outputs": [
    {
     "data": {
      "text/plain": [
       "3"
      ]
     },
     "execution_count": 38,
     "metadata": {},
     "output_type": "execute_result"
    }
   ],
   "source": [
    "ewc.train_epochs"
   ]
  },
  {
   "cell_type": "code",
   "execution_count": 25,
   "metadata": {},
   "outputs": [
    {
     "name": "stdout",
     "output_type": "stream",
     "text": [
      "-- >> Start of training phase << --\n",
      "0it [00:00, ?it/s]"
     ]
    },
    {
     "name": "stdout",
     "output_type": "stream",
     "text": [
      "100%|██████████| 141/141 [00:02<00:00, 67.02it/s]\n",
      "Epoch 0 ended.\n",
      "\tTop1_Acc_Epoch/train_phase/train_stream/Task000 = 0.8541\n",
      "\tTop1_Acc_MB/train_phase/train_stream/Task000 = 0.9625\n",
      "100%|██████████| 141/141 [00:01<00:00, 70.92it/s]\n",
      "Epoch 1 ended.\n",
      "\tTop1_Acc_Epoch/train_phase/train_stream/Task000 = 0.9530\n",
      "\tTop1_Acc_MB/train_phase/train_stream/Task000 = 0.9500\n",
      "100%|██████████| 141/141 [00:01<00:00, 71.17it/s]\n",
      "Epoch 2 ended.\n",
      "\tTop1_Acc_Epoch/train_phase/train_stream/Task000 = 0.9678\n",
      "\tTop1_Acc_MB/train_phase/train_stream/Task000 = 0.9375\n",
      "-- >> End of training phase << --\n",
      "-- >> Start of training phase << --\n",
      "100%|██████████| 141/141 [00:02<00:00, 68.17it/s]\n",
      "Epoch 0 ended.\n",
      "\tTop1_Acc_Epoch/train_phase/train_stream/Task000 = 0.8139\n",
      "\tTop1_Acc_MB/train_phase/train_stream/Task000 = 0.9250\n",
      "100%|██████████| 141/141 [00:02<00:00, 67.85it/s]\n",
      "Epoch 1 ended.\n",
      "\tTop1_Acc_Epoch/train_phase/train_stream/Task000 = 0.9364\n",
      "\tTop1_Acc_MB/train_phase/train_stream/Task000 = 0.9500\n",
      "100%|██████████| 141/141 [00:02<00:00, 67.97it/s]\n",
      "Epoch 2 ended.\n",
      "\tTop1_Acc_Epoch/train_phase/train_stream/Task000 = 0.9528\n",
      "\tTop1_Acc_MB/train_phase/train_stream/Task000 = 0.9375\n",
      "-- >> End of training phase << --\n",
      "-- >> Start of training phase << --\n",
      "100%|██████████| 141/141 [00:02<00:00, 64.92it/s]\n",
      "Epoch 0 ended.\n",
      "\tTop1_Acc_Epoch/train_phase/train_stream/Task000 = 0.7732\n",
      "\tTop1_Acc_MB/train_phase/train_stream/Task000 = 0.9250\n",
      "100%|██████████| 141/141 [00:02<00:00, 65.00it/s]\n",
      "Epoch 1 ended.\n",
      "\tTop1_Acc_Epoch/train_phase/train_stream/Task000 = 0.9221\n",
      "\tTop1_Acc_MB/train_phase/train_stream/Task000 = 0.8625\n",
      "100%|██████████| 141/141 [00:02<00:00, 65.01it/s]\n",
      "Epoch 2 ended.\n",
      "\tTop1_Acc_Epoch/train_phase/train_stream/Task000 = 0.9454\n",
      "\tTop1_Acc_MB/train_phase/train_stream/Task000 = 0.9625\n",
      "-- >> End of training phase << --\n"
     ]
    }
   ],
   "source": [
    "sto_ewc = None\n",
    "test_accs_matrix = np.zeros((num_tasks, num_tasks))\n",
    "for task_number, train_experience in zip(list(range(num_tasks)), benchmark.train_stream) :\n",
    "    # Define the EWC Plugin\n",
    "    if task_number != 0:\n",
    "        ewc = sto_ewc\n",
    "    else :\n",
    "        ewc = EWC(\n",
    "        model, optimizer, criterion=get_loss(loss_name), ewc_lambda=ewc_lambda,\n",
    "        train_mb_size=batch_size, train_epochs=num_epochs, eval_mb_size=batch_size, evaluator=eval_plugin,\n",
    "        device=device\n",
    "        )\n",
    "    \n",
    "    if task_number == 2:\n",
    "        ewc.plugins[0].ewc_lambda = 4000000\n",
    "\n",
    "    ewc.train(train_experience)\n",
    "\n",
    "    for j in range(num_tasks) :\n",
    "        test_accs_matrix[task_number,j] = round(test(model, test_loaders_list[j], 128, device),2)\n",
    "    sto_ewc = ewc"
   ]
  },
  {
   "cell_type": "markdown",
   "metadata": {},
   "source": [
    "## Visualize results"
   ]
  },
  {
   "cell_type": "code",
   "execution_count": 26,
   "metadata": {},
   "outputs": [
    {
     "data": {
      "image/png": "[encoded data removed]",
      "text/plain": [
       "<Figure size 640x480 with 2 Axes>"
      ]
     },
     "metadata": {},
     "output_type": "display_data"
    }
   ],
   "source": [
    "visualize_accs_matrix(test_accs_matrix)"
   ]
  },
  {
   "cell_type": "code",
   "execution_count": 27,
   "metadata": {},
   "outputs": [
    {
     "data": {
      "image/png": "[encoded data removed]",
      "text/plain": [
       "<Figure size 640x480 with 1 Axes>"
      ]
     },
     "metadata": {},
     "output_type": "display_data"
    }
   ],
   "source": [
    "visualize_avg_acc_curve(test_accs_matrix)"
   ]
  },
  {
   "cell_type": "code",
   "execution_count": null,
   "metadata": {},
   "outputs": [],
   "source": []
  }
 ],
 "metadata": {
  "kernelspec": {
   "display_name": "Python 3",
   "language": "python",
   "name": "python3"
  },
  "language_info": {
   "codemirror_mode": {
    "name": "ipython",
    "version": 3
   },
   "file_extension": ".py",
   "mimetype": "text/x-python",
   "name": "python",
   "nbconvert_exporter": "python",
   "pygments_lexer": "ipython3",
   "version": "3.12.2"
  }
 },
 "nbformat": 4,
 "nbformat_minor": 2
}
