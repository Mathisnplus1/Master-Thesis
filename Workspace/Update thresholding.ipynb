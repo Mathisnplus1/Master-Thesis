{
 "cells": [
  {
   "cell_type": "code",
   "execution_count": 12,
   "metadata": {},
   "outputs": [
    {
     "name": "stdout",
     "output_type": "stream",
     "text": [
      "[8 7 6 5 4 3 2 1 0]\n",
      "[1 0 2 3 4 5 6 7 8]\n",
      "[9 7 8 8 8 8 8 8 8]\n",
      "[[False  True False]\n",
      " [False False False]\n",
      " [False False False]]\n"
     ]
    }
   ],
   "source": [
    "import numpy as np\n",
    "\n",
    "def get_top_10_percent_mask(matrix1, matrix2, tau=0.9):\n",
    "    threshold = 1 - tau\n",
    "\n",
    "    # Ensure the matrices have the same shape\n",
    "    assert matrix1.shape == matrix2.shape, \"Matrices must have the same shape\"\n",
    "    \n",
    "    # Flatten the matrices to make the ranking easier\n",
    "    flat1 = matrix1.flatten()\n",
    "    flat2 = matrix2.flatten()\n",
    "    \n",
    "    # Get the rank indices of each element\n",
    "    rank1 = np.argsort(np.argsort(-flat1))  # Ranking in descending order\n",
    "    rank2 = np.argsort(np.argsort(-flat2))  # Ranking in descending order\n",
    "    \n",
    "    # Sum the rank indices\n",
    "    sum_ranks = rank1 + rank2\n",
    "\n",
    "    # Determine the number of top elements to select (10% of the total elements)\n",
    "    num_elements = flat1.size\n",
    "    top_percent_count = int(np.ceil(threshold * num_elements))\n",
    "    \n",
    "    # Get the indices of the top 10% elements based on the summed ranks\n",
    "    top_indices = np.argsort(sum_ranks)[:top_percent_count]\n",
    "    \n",
    "    # Create a mask with the same shape as the original matrices\n",
    "    mask = np.zeros_like(flat1, dtype=bool)\n",
    "    mask[top_indices] = True\n",
    "    \n",
    "    # Reshape the mask to the original matrix shape\n",
    "    mask = mask.reshape(matrix1.shape)\n",
    "    \n",
    "    return mask\n",
    "\n",
    "# Example usage\n",
    "matrix1 = np.array([[1, 2, 3], [4, 5, 6], [7, 8, 9]])\n",
    "matrix2 = np.array([[9, 9.1, 7], [6, 5, 4], [3, 2, 1]])\n",
    "\n",
    "mask = get_top_10_percent_mask(matrix1, matrix2)\n",
    "print(mask)\n"
   ]
  },
  {
   "cell_type": "code",
   "execution_count": null,
   "metadata": {},
   "outputs": [],
   "source": []
  },
  {
   "cell_type": "code",
   "execution_count": null,
   "metadata": {},
   "outputs": [],
   "source": []
  }
 ],
 "metadata": {
  "kernelspec": {
   "display_name": ".jax_env",
   "language": "python",
   "name": "python3"
  },
  "language_info": {
   "codemirror_mode": {
    "name": "ipython",
    "version": 3
   },
   "file_extension": ".py",
   "mimetype": "text/x-python",
   "name": "python",
   "nbconvert_exporter": "python",
   "pygments_lexer": "ipython3",
   "version": "3.12.2"
  }
 },
 "nbformat": 4,
 "nbformat_minor": 2
}
