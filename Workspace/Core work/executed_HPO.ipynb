{
 "cells": [
  {
   "cell_type": "code",
   "execution_count": 1,
   "id": "e51a4bd2",
   "metadata": {
    "execution": {
     "iopub.execute_input": "2024-07-05T13:08:00.795576Z",
     "iopub.status.busy": "2024-07-05T13:08:00.795299Z",
     "iopub.status.idle": "2024-07-05T13:08:00.799081Z",
     "shell.execute_reply": "2024-07-05T13:08:00.798787Z"
    },
    "papermill": {
     "duration": 0.007897,
     "end_time": "2024-07-05T13:08:00.799936",
     "exception": false,
     "start_time": "2024-07-05T13:08:00.792039",
     "status": "completed"
    },
    "tags": [
     "injected-parameters"
    ]
   },
   "outputs": [],
   "source": [
    "# Parameters\n",
    "global_seed = 88\n",
    "save_results = False\n",
    "benchmark_settings = {\"benchmark_name\": \"pMNIST\", \"difficulty\": \"standard\", \"num_tasks\": 5, \"train_percentage\": 0.4, \"num_val_benchmarks\": 3, \"batch_size\": 128}\n",
    "method_settings = {\"method_name\": \"GroHess\", \"grow_from\": \"output\", \"hessian_percentile\": 95, \"grad_percentile\": 95, \"num_inputs\": 784, \"num_hidden_root\": 100, \"num_outputs\": 10, \"loss_name\": \"CE\", \"optimizer_name\": \"Adam\"}\n",
    "HPO_settings = {\"HPO_name\": \"greedy_HPO\", \"n_trials\": 10, \"lr\": [5e-05, 0.002], \"num_epochs\": [2, 6]}\n",
    "visualization_settings = {\"savefig\": True, \"visualize_accs_matrix\": False, \"visualize_avg_acc_curve\": False, \"visualize_best_params\": False, \"visualize_val_accs_matrix\": True, \"visualize_accuracy_through_benchmarks\": False, \"visualize_violin\": False}\n"
   ]
  },
  {
   "cell_type": "code",
   "execution_count": 2,
   "id": "b0da15cf",
   "metadata": {
    "execution": {
     "iopub.execute_input": "2024-07-05T13:08:00.806188Z",
     "iopub.status.busy": "2024-07-05T13:08:00.805789Z",
     "iopub.status.idle": "2024-07-05T13:08:00.820805Z",
     "shell.execute_reply": "2024-07-05T13:08:00.820259Z"
    },
    "papermill": {
     "duration": 0.019219,
     "end_time": "2024-07-05T13:08:00.822270",
     "exception": false,
     "start_time": "2024-07-05T13:08:00.803051",
     "status": "completed"
    },
    "tags": []
   },
   "outputs": [],
   "source": [
    "# Comment the following cell if running through the command :\n",
    "# papermill runnable_HPO.ipynb executed_HPO.ipynb -f params_for_HPO.yaml --kernel jupyter.jax_env"
   ]
  },
  {
   "cell_type": "markdown",
   "id": "871e4b00",
   "metadata": {
    "papermill": {
     "duration": 0.001552,
     "end_time": "2024-07-05T13:08:00.825533",
     "exception": false,
     "start_time": "2024-07-05T13:08:00.823981",
     "status": "completed"
    },
    "tags": []
   },
   "source": [
    "global_seed = 88\n",
    "save_results = False\n",
    "# Parameters specfific to the benchmark\n",
    "benchmark_settings = {\"benchmark_name\" : \"pMNIST\",\n",
    "                      \"difficulty\" : \"standard\",\n",
    "                      \"num_tasks\" : 3,\n",
    "                      \"train_percentage\" : 0.1,\n",
    "                      \"num_val_benchmarks\" : 3,\n",
    "                      \"batch_size\" : 128}\n",
    "\n",
    "# Parameters specific to the method\n",
    "method_settings = {\"method_name\" : \"GroHess\",\n",
    "                   \"grow_from\" : \"output\",\n",
    "                   \"hessian_percentile\" : 95,\n",
    "                   \"grad_percentile\" : 95,\n",
    "                   \"num_inputs\" : 28*28,\n",
    "                   \"num_hidden_root\" : 100,\n",
    "                   \"num_outputs\" : 10,\n",
    "                   \"loss_name\" : \"CE\",\n",
    "                   \"optimizer_name\" : \"Adam\"}\n",
    "\n",
    "# Parameters specific to HPO\n",
    "HPO_settings = {\"HPO_name\" : \"greedy_HPO\",\n",
    "                \"n_trials\" : 2,\n",
    "                \"lr\" : (5e-5, 2e-3),\n",
    "                \"num_epochs\" : (2, 4)}\n",
    "\n",
    "# Parameters specific to the visualization\n",
    "visualization_settings = {\"savefig\" : True,\n",
    "                          \"visualize_accs_matrix\" : True,\n",
    "                          \"visualize_avg_acc_curve\" : True,\n",
    "                          \"visualize_best_params\" : True,\n",
    "                          \"visualize_val_accs_matrix\" : True,\n",
    "                          \"visualize_accuracy_through_benchmarks\" : True,\n",
    "                          \"visualize_violin\" : True}"
   ]
  },
  {
   "cell_type": "code",
   "execution_count": 3,
   "id": "0c51c811",
   "metadata": {
    "execution": {
     "iopub.execute_input": "2024-07-05T13:08:00.829944Z",
     "iopub.status.busy": "2024-07-05T13:08:00.829437Z",
     "iopub.status.idle": "2024-07-05T13:08:00.838162Z",
     "shell.execute_reply": "2024-07-05T13:08:00.837575Z"
    },
    "papermill": {
     "duration": 0.011894,
     "end_time": "2024-07-05T13:08:00.839106",
     "exception": false,
     "start_time": "2024-07-05T13:08:00.827212",
     "status": "completed"
    },
    "tags": []
   },
   "outputs": [
    {
     "name": "stdout",
     "output_type": "stream",
     "text": [
      "#########################################\n",
      "<class 'float'>\n",
      "#########################################\n"
     ]
    }
   ],
   "source": [
    "print(\"#########################################\")\n",
    "print(type(HPO_settings[\"lr\"][0]))\n",
    "print(\"#########################################\")"
   ]
  },
  {
   "cell_type": "code",
   "execution_count": 4,
   "id": "f66071c3",
   "metadata": {
    "execution": {
     "iopub.execute_input": "2024-07-05T13:08:00.843491Z",
     "iopub.status.busy": "2024-07-05T13:08:00.843086Z",
     "iopub.status.idle": "2024-07-05T13:08:00.911824Z",
     "shell.execute_reply": "2024-07-05T13:08:00.911503Z"
    },
    "papermill": {
     "duration": 0.071929,
     "end_time": "2024-07-05T13:08:00.912754",
     "exception": false,
     "start_time": "2024-07-05T13:08:00.840825",
     "status": "completed"
    },
    "tags": []
   },
   "outputs": [],
   "source": [
    "import sys\n",
    "import os\n",
    "import numpy as np\n",
    "import warnings\n",
    "warnings.filterwarnings('ignore')\n",
    "\n",
    "sys.path.append(\"Methods/\" + method_settings[\"method_name\"])\n",
    "sys.path.append(\"HPO_lib/benchmark_loaders\")\n",
    "\n",
    "path = os.path.dirname(os.path.abspath(\"__file__\"))\n",
    "data_path = path + \"/data\""
   ]
  },
  {
   "cell_type": "markdown",
   "id": "0cf1a212",
   "metadata": {
    "papermill": {
     "duration": 0.002581,
     "end_time": "2024-07-05T13:08:00.918145",
     "exception": false,
     "start_time": "2024-07-05T13:08:00.915564",
     "status": "completed"
    },
    "tags": []
   },
   "source": [
    "## Imports"
   ]
  },
  {
   "cell_type": "code",
   "execution_count": 5,
   "id": "5e912593",
   "metadata": {
    "execution": {
     "iopub.execute_input": "2024-07-05T13:08:00.924093Z",
     "iopub.status.busy": "2024-07-05T13:08:00.923841Z",
     "iopub.status.idle": "2024-07-05T13:08:02.581283Z",
     "shell.execute_reply": "2024-07-05T13:08:02.580652Z"
    },
    "papermill": {
     "duration": 1.661701,
     "end_time": "2024-07-05T13:08:02.582518",
     "exception": false,
     "start_time": "2024-07-05T13:08:00.920817",
     "status": "completed"
    },
    "tags": []
   },
   "outputs": [],
   "source": [
    "from HPO_lib.abstract_torch import get_device\n",
    "from HPO_lib.get_benchmarks import get_benchmarks\n",
    "from HPO_lib.run_HPO import run_HPO\n",
    "from HPO_lib.validation import validate\n",
    "from HPO_lib.visualize import visualize_HPO, visualize_validation"
   ]
  },
  {
   "cell_type": "code",
   "execution_count": 6,
   "id": "101f88f8",
   "metadata": {
    "execution": {
     "iopub.execute_input": "2024-07-05T13:08:02.595566Z",
     "iopub.status.busy": "2024-07-05T13:08:02.595269Z",
     "iopub.status.idle": "2024-07-05T13:08:02.654253Z",
     "shell.execute_reply": "2024-07-05T13:08:02.653679Z"
    },
    "papermill": {
     "duration": 0.069834,
     "end_time": "2024-07-05T13:08:02.655209",
     "exception": false,
     "start_time": "2024-07-05T13:08:02.585375",
     "status": "completed"
    },
    "tags": []
   },
   "outputs": [],
   "source": [
    "device = get_device(1)"
   ]
  },
  {
   "cell_type": "markdown",
   "id": "888bf982",
   "metadata": {
    "papermill": {
     "duration": 0.003804,
     "end_time": "2024-07-05T13:08:02.662174",
     "exception": false,
     "start_time": "2024-07-05T13:08:02.658370",
     "status": "completed"
    },
    "tags": []
   },
   "source": [
    "## Get benchmarks"
   ]
  },
  {
   "cell_type": "code",
   "execution_count": 7,
   "id": "66834a6b",
   "metadata": {
    "execution": {
     "iopub.execute_input": "2024-07-05T13:08:02.670791Z",
     "iopub.status.busy": "2024-07-05T13:08:02.670665Z",
     "iopub.status.idle": "2024-07-05T13:08:21.962969Z",
     "shell.execute_reply": "2024-07-05T13:08:21.962317Z"
    },
    "papermill": {
     "duration": 19.29886,
     "end_time": "2024-07-05T13:08:21.964888",
     "exception": false,
     "start_time": "2024-07-05T13:08:02.666028",
     "status": "completed"
    },
    "tags": []
   },
   "outputs": [],
   "source": [
    "benchmarks_list = get_benchmarks(benchmark_settings, global_seed)"
   ]
  },
  {
   "cell_type": "markdown",
   "id": "0cc3ebe3",
   "metadata": {
    "papermill": {
     "duration": 0.008424,
     "end_time": "2024-07-05T13:08:21.979010",
     "exception": false,
     "start_time": "2024-07-05T13:08:21.970586",
     "status": "completed"
    },
    "tags": []
   },
   "source": [
    "## Run HPO"
   ]
  },
  {
   "cell_type": "code",
   "execution_count": 8,
   "id": "88fe18b0",
   "metadata": {
    "execution": {
     "iopub.execute_input": "2024-07-05T13:08:21.988025Z",
     "iopub.status.busy": "2024-07-05T13:08:21.987742Z",
     "iopub.status.idle": "2024-07-05T13:27:45.888519Z",
     "shell.execute_reply": "2024-07-05T13:27:45.887876Z"
    },
    "papermill": {
     "duration": 1163.907339,
     "end_time": "2024-07-05T13:27:45.890282",
     "exception": false,
     "start_time": "2024-07-05T13:08:21.982943",
     "status": "completed"
    },
    "tags": []
   },
   "outputs": [
    {
     "name": "stderr",
     "output_type": "stream",
     "text": [
      "[I 2024-07-05 15:08:22,123] A new study created in memory with name: Search number 1\n"
     ]
    },
    {
     "name": "stdout",
     "output_type": "stream",
     "text": [
      "\n",
      "--------------------------------------------------\n",
      "LEARNING TASK 1\n"
     ]
    },
    {
     "name": "stderr",
     "output_type": "stream",
     "text": [
      "\r",
      "  0%|                                                                                                                           | 0/4 [00:00<?, ?it/s]"
     ]
    },
    {
     "name": "stderr",
     "output_type": "stream",
     "text": [
      "\r",
      " 25%|████████████████████████████▊                                                                                      | 1/4 [00:02<00:08,  2.85s/it]"
     ]
    },
    {
     "name": "stderr",
     "output_type": "stream",
     "text": [
      "\r",
      " 50%|█████████████████████████████████████████████████████████▌                                                         | 2/4 [00:05<00:05,  2.75s/it]"
     ]
    },
    {
     "name": "stderr",
     "output_type": "stream",
     "text": [
      "\r",
      " 75%|██████████████████████████████████████████████████████████████████████████████████████▎                            | 3/4 [00:08<00:02,  2.73s/it]"
     ]
    },
    {
     "name": "stderr",
     "output_type": "stream",
     "text": [
      "\r",
      "100%|███████████████████████████████████████████████████████████████████████████████████████████████████████████████████| 4/4 [00:10<00:00,  2.71s/it]"
     ]
    },
    {
     "name": "stderr",
     "output_type": "stream",
     "text": [
      "\r",
      "100%|███████████████████████████████████████████████████████████████████████████████████████████████████████████████████| 4/4 [00:10<00:00,  2.73s/it]"
     ]
    },
    {
     "name": "stderr",
     "output_type": "stream",
     "text": [
      "\n"
     ]
    },
    {
     "name": "stderr",
     "output_type": "stream",
     "text": [
      "[I 2024-07-05 15:08:36,702] Trial 0 finished with value: 94.08099644128114 and parameters: {'lr': 0.0013127245462383958, 'num_epochs': 4}. Best is trial 0 with value: 94.08099644128114.\n"
     ]
    },
    {
     "name": "stderr",
     "output_type": "stream",
     "text": [
      "\r",
      "  0%|                                                                                                                           | 0/6 [00:00<?, ?it/s]"
     ]
    },
    {
     "name": "stderr",
     "output_type": "stream",
     "text": [
      "\r",
      " 17%|███████████████████▏                                                                                               | 1/6 [00:02<00:13,  2.69s/it]"
     ]
    },
    {
     "name": "stderr",
     "output_type": "stream",
     "text": [
      "\r",
      " 33%|██████████████████████████████████████▎                                                                            | 2/6 [00:05<00:10,  2.69s/it]"
     ]
    },
    {
     "name": "stderr",
     "output_type": "stream",
     "text": [
      "\r",
      " 50%|█████████████████████████████████████████████████████████▌                                                         | 3/6 [00:08<00:08,  2.69s/it]"
     ]
    },
    {
     "name": "stderr",
     "output_type": "stream",
     "text": [
      "\r",
      " 67%|████████████████████████████████████████████████████████████████████████████▋                                      | 4/6 [00:10<00:05,  2.69s/it]"
     ]
    },
    {
     "name": "stderr",
     "output_type": "stream",
     "text": [
      "\r",
      " 83%|███████████████████████████████████████████████████████████████████████████████████████████████▊                   | 5/6 [00:13<00:02,  2.69s/it]"
     ]
    },
    {
     "name": "stderr",
     "output_type": "stream",
     "text": [
      "\r",
      "100%|███████████████████████████████████████████████████████████████████████████████████████████████████████████████████| 6/6 [00:16<00:00,  2.69s/it]"
     ]
    },
    {
     "name": "stderr",
     "output_type": "stream",
     "text": [
      "\r",
      "100%|███████████████████████████████████████████████████████████████████████████████████████████████████████████████████| 6/6 [00:16<00:00,  2.69s/it]"
     ]
    },
    {
     "name": "stderr",
     "output_type": "stream",
     "text": [
      "\n"
     ]
    },
    {
     "name": "stderr",
     "output_type": "stream",
     "text": [
      "[I 2024-07-05 15:08:56,477] Trial 1 finished with value: 94.77562277580078 and parameters: {'lr': 0.001080265691296867, 'num_epochs': 6}. Best is trial 1 with value: 94.77562277580078.\n"
     ]
    },
    {
     "name": "stderr",
     "output_type": "stream",
     "text": [
      "\r",
      "  0%|                                                                                                                           | 0/5 [00:00<?, ?it/s]"
     ]
    },
    {
     "name": "stderr",
     "output_type": "stream",
     "text": [
      "\r",
      " 20%|███████████████████████                                                                                            | 1/5 [00:02<00:10,  2.68s/it]"
     ]
    },
    {
     "name": "stderr",
     "output_type": "stream",
     "text": [
      "\r",
      " 40%|██████████████████████████████████████████████                                                                     | 2/5 [00:05<00:08,  2.69s/it]"
     ]
    },
    {
     "name": "stderr",
     "output_type": "stream",
     "text": [
      "\r",
      " 60%|█████████████████████████████████████████████████████████████████████                                              | 3/5 [00:08<00:05,  2.69s/it]"
     ]
    },
    {
     "name": "stderr",
     "output_type": "stream",
     "text": [
      "\r",
      " 80%|████████████████████████████████████████████████████████████████████████████████████████████                       | 4/5 [00:10<00:02,  2.64s/it]"
     ]
    },
    {
     "name": "stderr",
     "output_type": "stream",
     "text": [
      "\r",
      "100%|███████████████████████████████████████████████████████████████████████████████████████████████████████████████████| 5/5 [00:13<00:00,  2.62s/it]"
     ]
    },
    {
     "name": "stderr",
     "output_type": "stream",
     "text": [
      "\r",
      "100%|███████████████████████████████████████████████████████████████████████████████████████████████████████████████████| 5/5 [00:13<00:00,  2.64s/it]"
     ]
    },
    {
     "name": "stderr",
     "output_type": "stream",
     "text": [
      "\n"
     ]
    },
    {
     "name": "stderr",
     "output_type": "stream",
     "text": [
      "[I 2024-07-05 15:09:13,306] Trial 2 finished with value: 94.67572953736666 and parameters: {'lr': 0.0014149828218016016, 'num_epochs': 5}. Best is trial 1 with value: 94.77562277580078.\n"
     ]
    },
    {
     "name": "stderr",
     "output_type": "stream",
     "text": [
      "\r",
      "  0%|                                                                                                                           | 0/3 [00:00<?, ?it/s]"
     ]
    },
    {
     "name": "stderr",
     "output_type": "stream",
     "text": [
      "\r",
      " 33%|██████████████████████████████████████▎                                                                            | 1/3 [00:02<00:05,  2.56s/it]"
     ]
    },
    {
     "name": "stderr",
     "output_type": "stream",
     "text": [
      "\r",
      " 67%|████████████████████████████████████████████████████████████████████████████▋                                      | 2/3 [00:05<00:02,  2.56s/it]"
     ]
    },
    {
     "name": "stderr",
     "output_type": "stream",
     "text": [
      "\r",
      "100%|███████████████████████████████████████████████████████████████████████████████████████████████████████████████████| 3/3 [00:07<00:00,  2.56s/it]"
     ]
    },
    {
     "name": "stderr",
     "output_type": "stream",
     "text": [
      "\r",
      "100%|███████████████████████████████████████████████████████████████████████████████████████████████████████████████████| 3/3 [00:07<00:00,  2.56s/it]"
     ]
    },
    {
     "name": "stderr",
     "output_type": "stream",
     "text": [
      "\n"
     ]
    },
    {
     "name": "stderr",
     "output_type": "stream",
     "text": [
      "[I 2024-07-05 15:09:24,621] Trial 3 finished with value: 93.58309608540921 and parameters: {'lr': 0.0014488098450782315, 'num_epochs': 3}. Best is trial 1 with value: 94.77562277580078.\n"
     ]
    },
    {
     "name": "stderr",
     "output_type": "stream",
     "text": [
      "\r",
      "  0%|                                                                                                                           | 0/4 [00:00<?, ?it/s]"
     ]
    },
    {
     "name": "stderr",
     "output_type": "stream",
     "text": [
      "\r",
      " 25%|████████████████████████████▊                                                                                      | 1/4 [00:02<00:07,  2.55s/it]"
     ]
    },
    {
     "name": "stderr",
     "output_type": "stream",
     "text": [
      "\r",
      " 50%|█████████████████████████████████████████████████████████▌                                                         | 2/4 [00:05<00:05,  2.56s/it]"
     ]
    },
    {
     "name": "stderr",
     "output_type": "stream",
     "text": [
      "\r",
      " 75%|██████████████████████████████████████████████████████████████████████████████████████▎                            | 3/4 [00:07<00:02,  2.56s/it]"
     ]
    },
    {
     "name": "stderr",
     "output_type": "stream",
     "text": [
      "\r",
      "100%|███████████████████████████████████████████████████████████████████████████████████████████████████████████████████| 4/4 [00:10<00:00,  2.56s/it]"
     ]
    },
    {
     "name": "stderr",
     "output_type": "stream",
     "text": [
      "\r",
      "100%|███████████████████████████████████████████████████████████████████████████████████████████████████████████████████| 4/4 [00:10<00:00,  2.56s/it]"
     ]
    },
    {
     "name": "stderr",
     "output_type": "stream",
     "text": [
      "\n"
     ]
    },
    {
     "name": "stderr",
     "output_type": "stream",
     "text": [
      "[I 2024-07-05 15:09:38,487] Trial 4 finished with value: 91.09160142348749 and parameters: {'lr': 0.00039155132048184497, 'num_epochs': 4}. Best is trial 1 with value: 94.77562277580078.\n"
     ]
    },
    {
     "name": "stderr",
     "output_type": "stream",
     "text": [
      "\r",
      "  0%|                                                                                                                           | 0/2 [00:00<?, ?it/s]"
     ]
    },
    {
     "name": "stderr",
     "output_type": "stream",
     "text": [
      "\r",
      " 50%|█████████████████████████████████████████████████████████▌                                                         | 1/2 [00:02<00:02,  2.56s/it]"
     ]
    },
    {
     "name": "stderr",
     "output_type": "stream",
     "text": [
      "\r",
      "100%|███████████████████████████████████████████████████████████████████████████████████████████████████████████████████| 2/2 [00:05<00:00,  2.56s/it]"
     ]
    },
    {
     "name": "stderr",
     "output_type": "stream",
     "text": [
      "\r",
      "100%|███████████████████████████████████████████████████████████████████████████████████████████████████████████████████| 2/2 [00:05<00:00,  2.56s/it]"
     ]
    },
    {
     "name": "stderr",
     "output_type": "stream",
     "text": [
      "\n"
     ]
    },
    {
     "name": "stderr",
     "output_type": "stream",
     "text": [
      "[I 2024-07-05 15:09:47,241] Trial 5 finished with value: 93.15480427046258 and parameters: {'lr': 0.0018610399415001965, 'num_epochs': 2}. Best is trial 1 with value: 94.77562277580078.\n"
     ]
    },
    {
     "name": "stderr",
     "output_type": "stream",
     "text": [
      "\r",
      "  0%|                                                                                                                           | 0/6 [00:00<?, ?it/s]"
     ]
    },
    {
     "name": "stderr",
     "output_type": "stream",
     "text": [
      "\r",
      " 17%|███████████████████▏                                                                                               | 1/6 [00:02<00:12,  2.56s/it]"
     ]
    },
    {
     "name": "stderr",
     "output_type": "stream",
     "text": [
      "\r",
      " 33%|██████████████████████████████████████▎                                                                            | 2/6 [00:05<00:10,  2.56s/it]"
     ]
    },
    {
     "name": "stderr",
     "output_type": "stream",
     "text": [
      "\r",
      " 50%|█████████████████████████████████████████████████████████▌                                                         | 3/6 [00:07<00:07,  2.56s/it]"
     ]
    },
    {
     "name": "stderr",
     "output_type": "stream",
     "text": [
      "\r",
      " 67%|████████████████████████████████████████████████████████████████████████████▋                                      | 4/6 [00:10<00:05,  2.56s/it]"
     ]
    },
    {
     "name": "stderr",
     "output_type": "stream",
     "text": [
      "\r",
      " 83%|███████████████████████████████████████████████████████████████████████████████████████████████▊                   | 5/6 [00:12<00:02,  2.56s/it]"
     ]
    },
    {
     "name": "stderr",
     "output_type": "stream",
     "text": [
      "\r",
      "100%|███████████████████████████████████████████████████████████████████████████████████████████████████████████████████| 6/6 [00:15<00:00,  2.56s/it]"
     ]
    },
    {
     "name": "stderr",
     "output_type": "stream",
     "text": [
      "\r",
      "100%|███████████████████████████████████████████████████████████████████████████████████████████████████████████████████| 6/6 [00:15<00:00,  2.56s/it]"
     ]
    },
    {
     "name": "stderr",
     "output_type": "stream",
     "text": [
      "\n"
     ]
    },
    {
     "name": "stderr",
     "output_type": "stream",
     "text": [
      "[I 2024-07-05 15:10:06,242] Trial 6 finished with value: 90.37128113879 and parameters: {'lr': 0.00022534827963370947, 'num_epochs': 6}. Best is trial 1 with value: 94.77562277580078.\n"
     ]
    },
    {
     "name": "stderr",
     "output_type": "stream",
     "text": [
      "\r",
      "  0%|                                                                                                                           | 0/6 [00:00<?, ?it/s]"
     ]
    },
    {
     "name": "stderr",
     "output_type": "stream",
     "text": [
      "\r",
      " 17%|███████████████████▏                                                                                               | 1/6 [00:02<00:12,  2.56s/it]"
     ]
    },
    {
     "name": "stderr",
     "output_type": "stream",
     "text": [
      "\r",
      " 33%|██████████████████████████████████████▎                                                                            | 2/6 [00:05<00:10,  2.56s/it]"
     ]
    },
    {
     "name": "stderr",
     "output_type": "stream",
     "text": [
      "\r",
      " 50%|█████████████████████████████████████████████████████████▌                                                         | 3/6 [00:07<00:07,  2.56s/it]"
     ]
    },
    {
     "name": "stderr",
     "output_type": "stream",
     "text": [
      "\r",
      " 67%|████████████████████████████████████████████████████████████████████████████▋                                      | 4/6 [00:10<00:05,  2.56s/it]"
     ]
    },
    {
     "name": "stderr",
     "output_type": "stream",
     "text": [
      "\r",
      " 83%|███████████████████████████████████████████████████████████████████████████████████████████████▊                   | 5/6 [00:12<00:02,  2.56s/it]"
     ]
    },
    {
     "name": "stderr",
     "output_type": "stream",
     "text": [
      "\r",
      "100%|███████████████████████████████████████████████████████████████████████████████████████████████████████████████████| 6/6 [00:15<00:00,  2.56s/it]"
     ]
    },
    {
     "name": "stderr",
     "output_type": "stream",
     "text": [
      "\r",
      "100%|███████████████████████████████████████████████████████████████████████████████████████████████████████████████████| 6/6 [00:15<00:00,  2.56s/it]"
     ]
    },
    {
     "name": "stderr",
     "output_type": "stream",
     "text": [
      "\n"
     ]
    },
    {
     "name": "stderr",
     "output_type": "stream",
     "text": [
      "[I 2024-07-05 15:10:25,234] Trial 7 finished with value: 94.65622775800726 and parameters: {'lr': 0.0009969610648453769, 'num_epochs': 6}. Best is trial 1 with value: 94.77562277580078.\n"
     ]
    },
    {
     "name": "stderr",
     "output_type": "stream",
     "text": [
      "\r",
      "  0%|                                                                                                                           | 0/3 [00:00<?, ?it/s]"
     ]
    },
    {
     "name": "stderr",
     "output_type": "stream",
     "text": [
      "\r",
      " 33%|██████████████████████████████████████▎                                                                            | 1/3 [00:02<00:05,  2.56s/it]"
     ]
    },
    {
     "name": "stderr",
     "output_type": "stream",
     "text": [
      "\r",
      " 67%|████████████████████████████████████████████████████████████████████████████▋                                      | 2/3 [00:05<00:02,  2.56s/it]"
     ]
    },
    {
     "name": "stderr",
     "output_type": "stream",
     "text": [
      "\r",
      "100%|███████████████████████████████████████████████████████████████████████████████████████████████████████████████████| 3/3 [00:07<00:00,  2.55s/it]"
     ]
    },
    {
     "name": "stderr",
     "output_type": "stream",
     "text": [
      "\r",
      "100%|███████████████████████████████████████████████████████████████████████████████████████████████████████████████████| 3/3 [00:07<00:00,  2.56s/it]"
     ]
    },
    {
     "name": "stderr",
     "output_type": "stream",
     "text": [
      "\n"
     ]
    },
    {
     "name": "stderr",
     "output_type": "stream",
     "text": [
      "[I 2024-07-05 15:10:36,537] Trial 8 finished with value: 91.6757651245551 and parameters: {'lr': 0.0006493011807870831, 'num_epochs': 3}. Best is trial 1 with value: 94.77562277580078.\n"
     ]
    },
    {
     "name": "stderr",
     "output_type": "stream",
     "text": [
      "\r",
      "  0%|                                                                                                                           | 0/2 [00:00<?, ?it/s]"
     ]
    },
    {
     "name": "stderr",
     "output_type": "stream",
     "text": [
      "\r",
      " 50%|█████████████████████████████████████████████████████████▌                                                         | 1/2 [00:02<00:02,  2.56s/it]"
     ]
    },
    {
     "name": "stderr",
     "output_type": "stream",
     "text": [
      "\r",
      "100%|███████████████████████████████████████████████████████████████████████████████████████████████████████████████████| 2/2 [00:05<00:00,  2.56s/it]"
     ]
    },
    {
     "name": "stderr",
     "output_type": "stream",
     "text": [
      "\r",
      "100%|███████████████████████████████████████████████████████████████████████████████████████████████████████████████████| 2/2 [00:05<00:00,  2.56s/it]"
     ]
    },
    {
     "name": "stderr",
     "output_type": "stream",
     "text": [
      "\n"
     ]
    },
    {
     "name": "stderr",
     "output_type": "stream",
     "text": [
      "[I 2024-07-05 15:10:45,290] Trial 9 finished with value: 92.1566903914591 and parameters: {'lr': 0.0011838191987348487, 'num_epochs': 2}. Best is trial 1 with value: 94.77562277580078.\n"
     ]
    },
    {
     "name": "stderr",
     "output_type": "stream",
     "text": [
      "\r",
      "  0%|                                                                                                                           | 0/6 [00:00<?, ?it/s]"
     ]
    },
    {
     "name": "stdout",
     "output_type": "stream",
     "text": [
      "In and out sizes :\n",
      "fc1 : in = 784, out = 100\n",
      "fc2 : in = 100, out = 100\n",
      "fc3 : in = 100, out = 10\n"
     ]
    },
    {
     "name": "stderr",
     "output_type": "stream",
     "text": [
      "\r",
      " 17%|███████████████████▏                                                                                               | 1/6 [00:02<00:12,  2.56s/it]"
     ]
    },
    {
     "name": "stdout",
     "output_type": "stream",
     "text": [
      "In and out sizes :\n",
      "fc1 : in = 784, out = 100\n",
      "fc2 : in = 100, out = 100\n",
      "fc3 : in = 100, out = 10\n"
     ]
    },
    {
     "name": "stderr",
     "output_type": "stream",
     "text": [
      "\r",
      " 33%|██████████████████████████████████████▎                                                                            | 2/6 [00:05<00:10,  2.56s/it]"
     ]
    },
    {
     "name": "stdout",
     "output_type": "stream",
     "text": [
      "In and out sizes :\n",
      "fc1 : in = 784, out = 100\n",
      "fc2 : in = 100, out = 100\n",
      "fc3 : in = 100, out = 10\n"
     ]
    },
    {
     "name": "stderr",
     "output_type": "stream",
     "text": [
      "\r",
      " 50%|█████████████████████████████████████████████████████████▌                                                         | 3/6 [00:07<00:07,  2.56s/it]"
     ]
    },
    {
     "name": "stdout",
     "output_type": "stream",
     "text": [
      "In and out sizes :\n",
      "fc1 : in = 784, out = 100\n",
      "fc2 : in = 100, out = 100\n",
      "fc3 : in = 100, out = 10\n"
     ]
    },
    {
     "name": "stderr",
     "output_type": "stream",
     "text": [
      "\r",
      " 67%|████████████████████████████████████████████████████████████████████████████▋                                      | 4/6 [00:10<00:05,  2.56s/it]"
     ]
    },
    {
     "name": "stdout",
     "output_type": "stream",
     "text": [
      "In and out sizes :\n",
      "fc1 : in = 784, out = 100\n",
      "fc2 : in = 100, out = 100\n",
      "fc3 : in = 100, out = 10\n"
     ]
    },
    {
     "name": "stderr",
     "output_type": "stream",
     "text": [
      "\r",
      " 83%|███████████████████████████████████████████████████████████████████████████████████████████████▊                   | 5/6 [00:12<00:02,  2.56s/it]"
     ]
    },
    {
     "name": "stdout",
     "output_type": "stream",
     "text": [
      "In and out sizes :\n",
      "fc1 : in = 784, out = 100\n",
      "fc2 : in = 100, out = 100\n",
      "fc3 : in = 100, out = 10\n"
     ]
    },
    {
     "name": "stderr",
     "output_type": "stream",
     "text": [
      "\r",
      "100%|███████████████████████████████████████████████████████████████████████████████████████████████████████████████████| 6/6 [00:15<00:00,  2.56s/it]"
     ]
    },
    {
     "name": "stderr",
     "output_type": "stream",
     "text": [
      "\r",
      "100%|███████████████████████████████████████████████████████████████████████████████████████████████████████████████████| 6/6 [00:15<00:00,  2.56s/it]"
     ]
    },
    {
     "name": "stderr",
     "output_type": "stream",
     "text": [
      "\n"
     ]
    },
    {
     "name": "stderr",
     "output_type": "stream",
     "text": [
      "[I 2024-07-05 15:11:05,685] A new study created in memory with name: Search number 2\n"
     ]
    },
    {
     "name": "stdout",
     "output_type": "stream",
     "text": [
      "\n",
      "--------------------------------------------------\n",
      "LEARNING TASK 2\n"
     ]
    },
    {
     "name": "stderr",
     "output_type": "stream",
     "text": [
      "\r",
      "  0%|                                                                                                                           | 0/4 [00:00<?, ?it/s]"
     ]
    },
    {
     "name": "stderr",
     "output_type": "stream",
     "text": [
      "\r",
      " 25%|████████████████████████████▊                                                                                      | 1/4 [00:02<00:07,  2.56s/it]"
     ]
    },
    {
     "name": "stderr",
     "output_type": "stream",
     "text": [
      "\r",
      " 50%|█████████████████████████████████████████████████████████▌                                                         | 2/4 [00:05<00:05,  2.57s/it]"
     ]
    },
    {
     "name": "stderr",
     "output_type": "stream",
     "text": [
      "\r",
      " 75%|██████████████████████████████████████████████████████████████████████████████████████▎                            | 3/4 [00:07<00:02,  2.57s/it]"
     ]
    },
    {
     "name": "stderr",
     "output_type": "stream",
     "text": [
      "\r",
      "100%|███████████████████████████████████████████████████████████████████████████████████████████████████████████████████| 4/4 [00:10<00:00,  2.57s/it]"
     ]
    },
    {
     "name": "stderr",
     "output_type": "stream",
     "text": [
      "\r",
      "100%|███████████████████████████████████████████████████████████████████████████████████████████████████████████████████| 4/4 [00:10<00:00,  2.57s/it]"
     ]
    },
    {
     "name": "stderr",
     "output_type": "stream",
     "text": [
      "\n"
     ]
    },
    {
     "name": "stderr",
     "output_type": "stream",
     "text": [
      "[I 2024-07-05 15:11:23,237] Trial 0 finished with value: 93.32434163701066 and parameters: {'lr': 0.0013127245462383958, 'num_epochs': 4}. Best is trial 0 with value: 93.32434163701066.\n"
     ]
    },
    {
     "name": "stderr",
     "output_type": "stream",
     "text": [
      "\r",
      "  0%|                                                                                                                           | 0/6 [00:00<?, ?it/s]"
     ]
    },
    {
     "name": "stderr",
     "output_type": "stream",
     "text": [
      "\r",
      " 17%|███████████████████▏                                                                                               | 1/6 [00:02<00:12,  2.57s/it]"
     ]
    },
    {
     "name": "stderr",
     "output_type": "stream",
     "text": [
      "\r",
      " 33%|██████████████████████████████████████▎                                                                            | 2/6 [00:05<00:10,  2.57s/it]"
     ]
    },
    {
     "name": "stderr",
     "output_type": "stream",
     "text": [
      "\r",
      " 50%|█████████████████████████████████████████████████████████▌                                                         | 3/6 [00:07<00:07,  2.57s/it]"
     ]
    },
    {
     "name": "stderr",
     "output_type": "stream",
     "text": [
      "\r",
      " 67%|████████████████████████████████████████████████████████████████████████████▋                                      | 4/6 [00:10<00:05,  2.57s/it]"
     ]
    },
    {
     "name": "stderr",
     "output_type": "stream",
     "text": [
      "\r",
      " 83%|███████████████████████████████████████████████████████████████████████████████████████████████▊                   | 5/6 [00:12<00:02,  2.57s/it]"
     ]
    },
    {
     "name": "stderr",
     "output_type": "stream",
     "text": [
      "\r",
      "100%|███████████████████████████████████████████████████████████████████████████████████████████████████████████████████| 6/6 [00:15<00:00,  2.61s/it]"
     ]
    },
    {
     "name": "stderr",
     "output_type": "stream",
     "text": [
      "\r",
      "100%|███████████████████████████████████████████████████████████████████████████████████████████████████████████████████| 6/6 [00:15<00:00,  2.59s/it]"
     ]
    },
    {
     "name": "stderr",
     "output_type": "stream",
     "text": [
      "\n"
     ]
    },
    {
     "name": "stderr",
     "output_type": "stream",
     "text": [
      "[I 2024-07-05 15:11:46,076] Trial 1 finished with value: 93.42192170818504 and parameters: {'lr': 0.001080265691296867, 'num_epochs': 6}. Best is trial 1 with value: 93.42192170818504.\n"
     ]
    },
    {
     "name": "stderr",
     "output_type": "stream",
     "text": [
      "\r",
      "  0%|                                                                                                                           | 0/5 [00:00<?, ?it/s]"
     ]
    },
    {
     "name": "stderr",
     "output_type": "stream",
     "text": [
      "\r",
      " 20%|███████████████████████                                                                                            | 1/5 [00:02<00:10,  2.57s/it]"
     ]
    },
    {
     "name": "stderr",
     "output_type": "stream",
     "text": [
      "\r",
      " 40%|██████████████████████████████████████████████                                                                     | 2/5 [00:05<00:07,  2.57s/it]"
     ]
    },
    {
     "name": "stderr",
     "output_type": "stream",
     "text": [
      "\r",
      " 60%|█████████████████████████████████████████████████████████████████████                                              | 3/5 [00:07<00:05,  2.57s/it]"
     ]
    },
    {
     "name": "stderr",
     "output_type": "stream",
     "text": [
      "\r",
      " 80%|████████████████████████████████████████████████████████████████████████████████████████████                       | 4/5 [00:10<00:02,  2.57s/it]"
     ]
    },
    {
     "name": "stderr",
     "output_type": "stream",
     "text": [
      "\r",
      "100%|███████████████████████████████████████████████████████████████████████████████████████████████████████████████████| 5/5 [00:12<00:00,  2.57s/it]"
     ]
    },
    {
     "name": "stderr",
     "output_type": "stream",
     "text": [
      "\r",
      "100%|███████████████████████████████████████████████████████████████████████████████████████████████████████████████████| 5/5 [00:12<00:00,  2.57s/it]"
     ]
    },
    {
     "name": "stderr",
     "output_type": "stream",
     "text": [
      "\n"
     ]
    },
    {
     "name": "stderr",
     "output_type": "stream",
     "text": [
      "[I 2024-07-05 15:12:06,217] Trial 2 finished with value: 93.32448398576516 and parameters: {'lr': 0.0014149828218016016, 'num_epochs': 5}. Best is trial 1 with value: 93.42192170818504.\n"
     ]
    },
    {
     "name": "stderr",
     "output_type": "stream",
     "text": [
      "\r",
      "  0%|                                                                                                                           | 0/3 [00:00<?, ?it/s]"
     ]
    },
    {
     "name": "stderr",
     "output_type": "stream",
     "text": [
      "\r",
      " 33%|██████████████████████████████████████▎                                                                            | 1/3 [00:02<00:05,  2.57s/it]"
     ]
    },
    {
     "name": "stderr",
     "output_type": "stream",
     "text": [
      "\r",
      " 67%|████████████████████████████████████████████████████████████████████████████▋                                      | 2/3 [00:05<00:02,  2.57s/it]"
     ]
    },
    {
     "name": "stderr",
     "output_type": "stream",
     "text": [
      "\r",
      "100%|███████████████████████████████████████████████████████████████████████████████████████████████████████████████████| 3/3 [00:07<00:00,  2.57s/it]"
     ]
    },
    {
     "name": "stderr",
     "output_type": "stream",
     "text": [
      "\r",
      "100%|███████████████████████████████████████████████████████████████████████████████████████████████████████████████████| 3/3 [00:07<00:00,  2.57s/it]"
     ]
    },
    {
     "name": "stderr",
     "output_type": "stream",
     "text": [
      "\n"
     ]
    },
    {
     "name": "stderr",
     "output_type": "stream",
     "text": [
      "[I 2024-07-05 15:12:21,219] Trial 3 finished with value: 93.337153024911 and parameters: {'lr': 0.0014488098450782315, 'num_epochs': 3}. Best is trial 1 with value: 93.42192170818504.\n"
     ]
    },
    {
     "name": "stderr",
     "output_type": "stream",
     "text": [
      "\r",
      "  0%|                                                                                                                           | 0/4 [00:00<?, ?it/s]"
     ]
    },
    {
     "name": "stderr",
     "output_type": "stream",
     "text": [
      "\r",
      " 25%|████████████████████████████▊                                                                                      | 1/4 [00:02<00:07,  2.57s/it]"
     ]
    },
    {
     "name": "stderr",
     "output_type": "stream",
     "text": [
      "\r",
      " 50%|█████████████████████████████████████████████████████████▌                                                         | 2/4 [00:05<00:05,  2.58s/it]"
     ]
    },
    {
     "name": "stderr",
     "output_type": "stream",
     "text": [
      "\r",
      " 75%|██████████████████████████████████████████████████████████████████████████████████████▎                            | 3/4 [00:07<00:02,  2.58s/it]"
     ]
    },
    {
     "name": "stderr",
     "output_type": "stream",
     "text": [
      "\r",
      "100%|███████████████████████████████████████████████████████████████████████████████████████████████████████████████████| 4/4 [00:10<00:00,  2.57s/it]"
     ]
    },
    {
     "name": "stderr",
     "output_type": "stream",
     "text": [
      "\r",
      "100%|███████████████████████████████████████████████████████████████████████████████████████████████████████████████████| 4/4 [00:10<00:00,  2.57s/it]"
     ]
    },
    {
     "name": "stderr",
     "output_type": "stream",
     "text": [
      "\n"
     ]
    },
    {
     "name": "stderr",
     "output_type": "stream",
     "text": [
      "[I 2024-07-05 15:12:38,816] Trial 4 finished with value: 92.78234875444838 and parameters: {'lr': 0.00039155132048184497, 'num_epochs': 4}. Best is trial 1 with value: 93.42192170818504.\n"
     ]
    },
    {
     "name": "stderr",
     "output_type": "stream",
     "text": [
      "\r",
      "  0%|                                                                                                                           | 0/2 [00:00<?, ?it/s]"
     ]
    },
    {
     "name": "stderr",
     "output_type": "stream",
     "text": [
      "\r",
      " 50%|█████████████████████████████████████████████████████████▌                                                         | 1/2 [00:02<00:02,  2.58s/it]"
     ]
    },
    {
     "name": "stderr",
     "output_type": "stream",
     "text": [
      "\r",
      "100%|███████████████████████████████████████████████████████████████████████████████████████████████████████████████████| 2/2 [00:05<00:00,  2.57s/it]"
     ]
    },
    {
     "name": "stderr",
     "output_type": "stream",
     "text": [
      "\r",
      "100%|███████████████████████████████████████████████████████████████████████████████████████████████████████████████████| 2/2 [00:05<00:00,  2.57s/it]"
     ]
    },
    {
     "name": "stderr",
     "output_type": "stream",
     "text": [
      "\n"
     ]
    },
    {
     "name": "stderr",
     "output_type": "stream",
     "text": [
      "[I 2024-07-05 15:12:51,240] Trial 5 finished with value: 92.97540925266904 and parameters: {'lr': 0.0018610399415001965, 'num_epochs': 2}. Best is trial 1 with value: 93.42192170818504.\n"
     ]
    },
    {
     "name": "stderr",
     "output_type": "stream",
     "text": [
      "\r",
      "  0%|                                                                                                                           | 0/6 [00:00<?, ?it/s]"
     ]
    },
    {
     "name": "stderr",
     "output_type": "stream",
     "text": [
      "\r",
      " 17%|███████████████████▏                                                                                               | 1/6 [00:02<00:12,  2.57s/it]"
     ]
    },
    {
     "name": "stderr",
     "output_type": "stream",
     "text": [
      "\r",
      " 33%|██████████████████████████████████████▎                                                                            | 2/6 [00:05<00:10,  2.57s/it]"
     ]
    },
    {
     "name": "stderr",
     "output_type": "stream",
     "text": [
      "\r",
      " 50%|█████████████████████████████████████████████████████████▌                                                         | 3/6 [00:07<00:07,  2.57s/it]"
     ]
    },
    {
     "name": "stderr",
     "output_type": "stream",
     "text": [
      "\r",
      " 67%|████████████████████████████████████████████████████████████████████████████▋                                      | 4/6 [00:10<00:05,  2.57s/it]"
     ]
    },
    {
     "name": "stderr",
     "output_type": "stream",
     "text": [
      "\r",
      " 83%|███████████████████████████████████████████████████████████████████████████████████████████████▊                   | 5/6 [00:12<00:02,  2.57s/it]"
     ]
    },
    {
     "name": "stderr",
     "output_type": "stream",
     "text": [
      "\r",
      "100%|███████████████████████████████████████████████████████████████████████████████████████████████████████████████████| 6/6 [00:15<00:00,  2.57s/it]"
     ]
    },
    {
     "name": "stderr",
     "output_type": "stream",
     "text": [
      "\r",
      "100%|███████████████████████████████████████████████████████████████████████████████████████████████████████████████████| 6/6 [00:15<00:00,  2.57s/it]"
     ]
    },
    {
     "name": "stderr",
     "output_type": "stream",
     "text": [
      "\n"
     ]
    },
    {
     "name": "stderr",
     "output_type": "stream",
     "text": [
      "[I 2024-07-05 15:13:13,939] Trial 6 finished with value: 92.30277580071166 and parameters: {'lr': 0.00022534827963370947, 'num_epochs': 6}. Best is trial 1 with value: 93.42192170818504.\n"
     ]
    },
    {
     "name": "stderr",
     "output_type": "stream",
     "text": [
      "\r",
      "  0%|                                                                                                                           | 0/6 [00:00<?, ?it/s]"
     ]
    },
    {
     "name": "stderr",
     "output_type": "stream",
     "text": [
      "\r",
      " 17%|███████████████████▏                                                                                               | 1/6 [00:02<00:12,  2.56s/it]"
     ]
    },
    {
     "name": "stderr",
     "output_type": "stream",
     "text": [
      "\r",
      " 33%|██████████████████████████████████████▎                                                                            | 2/6 [00:05<00:10,  2.56s/it]"
     ]
    },
    {
     "name": "stderr",
     "output_type": "stream",
     "text": [
      "\r",
      " 50%|█████████████████████████████████████████████████████████▌                                                         | 3/6 [00:07<00:07,  2.56s/it]"
     ]
    },
    {
     "name": "stderr",
     "output_type": "stream",
     "text": [
      "\r",
      " 67%|████████████████████████████████████████████████████████████████████████████▋                                      | 4/6 [00:10<00:05,  2.56s/it]"
     ]
    },
    {
     "name": "stderr",
     "output_type": "stream",
     "text": [
      "\r",
      " 83%|███████████████████████████████████████████████████████████████████████████████████████████████▊                   | 5/6 [00:12<00:02,  2.56s/it]"
     ]
    },
    {
     "name": "stderr",
     "output_type": "stream",
     "text": [
      "\r",
      "100%|███████████████████████████████████████████████████████████████████████████████████████████████████████████████████| 6/6 [00:15<00:00,  2.57s/it]"
     ]
    },
    {
     "name": "stderr",
     "output_type": "stream",
     "text": [
      "\r",
      "100%|███████████████████████████████████████████████████████████████████████████████████████████████████████████████████| 6/6 [00:15<00:00,  2.57s/it]"
     ]
    },
    {
     "name": "stderr",
     "output_type": "stream",
     "text": [
      "\n"
     ]
    },
    {
     "name": "stderr",
     "output_type": "stream",
     "text": [
      "[I 2024-07-05 15:13:36,611] Trial 7 finished with value: 93.54701067615659 and parameters: {'lr': 0.0009969610648453769, 'num_epochs': 6}. Best is trial 7 with value: 93.54701067615659.\n"
     ]
    },
    {
     "name": "stderr",
     "output_type": "stream",
     "text": [
      "\r",
      "  0%|                                                                                                                           | 0/3 [00:00<?, ?it/s]"
     ]
    },
    {
     "name": "stderr",
     "output_type": "stream",
     "text": [
      "\r",
      " 33%|██████████████████████████████████████▎                                                                            | 1/3 [00:02<00:05,  2.57s/it]"
     ]
    },
    {
     "name": "stderr",
     "output_type": "stream",
     "text": [
      "\r",
      " 67%|████████████████████████████████████████████████████████████████████████████▋                                      | 2/3 [00:05<00:02,  2.57s/it]"
     ]
    },
    {
     "name": "stderr",
     "output_type": "stream",
     "text": [
      "\r",
      "100%|███████████████████████████████████████████████████████████████████████████████████████████████████████████████████| 3/3 [00:07<00:00,  2.57s/it]"
     ]
    },
    {
     "name": "stderr",
     "output_type": "stream",
     "text": [
      "\r",
      "100%|███████████████████████████████████████████████████████████████████████████████████████████████████████████████████| 3/3 [00:07<00:00,  2.57s/it]"
     ]
    },
    {
     "name": "stderr",
     "output_type": "stream",
     "text": [
      "\n"
     ]
    },
    {
     "name": "stderr",
     "output_type": "stream",
     "text": [
      "[I 2024-07-05 15:13:51,598] Trial 8 finished with value: 93.02434163701061 and parameters: {'lr': 0.0006493011807870831, 'num_epochs': 3}. Best is trial 7 with value: 93.54701067615659.\n"
     ]
    },
    {
     "name": "stderr",
     "output_type": "stream",
     "text": [
      "\r",
      "  0%|                                                                                                                           | 0/2 [00:00<?, ?it/s]"
     ]
    },
    {
     "name": "stderr",
     "output_type": "stream",
     "text": [
      "\r",
      " 50%|█████████████████████████████████████████████████████████▌                                                         | 1/2 [00:02<00:02,  2.57s/it]"
     ]
    },
    {
     "name": "stderr",
     "output_type": "stream",
     "text": [
      "\r",
      "100%|███████████████████████████████████████████████████████████████████████████████████████████████████████████████████| 2/2 [00:05<00:00,  2.57s/it]"
     ]
    },
    {
     "name": "stderr",
     "output_type": "stream",
     "text": [
      "\r",
      "100%|███████████████████████████████████████████████████████████████████████████████████████████████████████████████████| 2/2 [00:05<00:00,  2.57s/it]"
     ]
    },
    {
     "name": "stderr",
     "output_type": "stream",
     "text": [
      "\n"
     ]
    },
    {
     "name": "stderr",
     "output_type": "stream",
     "text": [
      "[I 2024-07-05 15:14:04,031] Trial 9 finished with value: 93.10482206405696 and parameters: {'lr': 0.0011838191987348487, 'num_epochs': 2}. Best is trial 7 with value: 93.54701067615659.\n"
     ]
    },
    {
     "name": "stderr",
     "output_type": "stream",
     "text": [
      "\r",
      "  0%|                                                                                                                           | 0/6 [00:00<?, ?it/s]"
     ]
    },
    {
     "name": "stdout",
     "output_type": "stream",
     "text": [
      "In and out sizes :\n",
      "fc1 : in = 784, out = 100\n",
      "fc2 : in = 100, out = 100\n",
      "fc3 : in = 100, out = 10\n"
     ]
    },
    {
     "name": "stderr",
     "output_type": "stream",
     "text": [
      "\r",
      " 17%|███████████████████▏                                                                                               | 1/6 [00:02<00:12,  2.57s/it]"
     ]
    },
    {
     "name": "stdout",
     "output_type": "stream",
     "text": [
      "In and out sizes :\n",
      "fc1 : in = 784, out = 100\n",
      "fc2 : in = 100, out = 100\n",
      "fc3 : in = 100, out = 10\n"
     ]
    },
    {
     "name": "stderr",
     "output_type": "stream",
     "text": [
      "\r",
      " 33%|██████████████████████████████████████▎                                                                            | 2/6 [00:05<00:10,  2.58s/it]"
     ]
    },
    {
     "name": "stdout",
     "output_type": "stream",
     "text": [
      "In and out sizes :\n",
      "fc1 : in = 784, out = 100\n",
      "fc2 : in = 100, out = 100\n",
      "fc3 : in = 100, out = 10\n"
     ]
    },
    {
     "name": "stderr",
     "output_type": "stream",
     "text": [
      "\r",
      " 50%|█████████████████████████████████████████████████████████▌                                                         | 3/6 [00:07<00:07,  2.57s/it]"
     ]
    },
    {
     "name": "stdout",
     "output_type": "stream",
     "text": [
      "In and out sizes :\n",
      "fc1 : in = 784, out = 100\n",
      "fc2 : in = 100, out = 100\n",
      "fc3 : in = 100, out = 10\n"
     ]
    },
    {
     "name": "stderr",
     "output_type": "stream",
     "text": [
      "\r",
      " 67%|████████████████████████████████████████████████████████████████████████████▋                                      | 4/6 [00:10<00:05,  2.57s/it]"
     ]
    },
    {
     "name": "stdout",
     "output_type": "stream",
     "text": [
      "In and out sizes :\n",
      "fc1 : in = 784, out = 100\n",
      "fc2 : in = 100, out = 100\n",
      "fc3 : in = 100, out = 10\n"
     ]
    },
    {
     "name": "stderr",
     "output_type": "stream",
     "text": [
      "\r",
      " 83%|███████████████████████████████████████████████████████████████████████████████████████████████▊                   | 5/6 [00:12<00:02,  2.57s/it]"
     ]
    },
    {
     "name": "stdout",
     "output_type": "stream",
     "text": [
      "In and out sizes :\n",
      "fc1 : in = 784, out = 121\n",
      "fc2 : in = 121, out = 100\n",
      "fc3 : in = 100, out = 10\n"
     ]
    },
    {
     "name": "stderr",
     "output_type": "stream",
     "text": [
      "\r",
      "100%|███████████████████████████████████████████████████████████████████████████████████████████████████████████████████| 6/6 [00:15<00:00,  2.58s/it]"
     ]
    },
    {
     "name": "stderr",
     "output_type": "stream",
     "text": [
      "\r",
      "100%|███████████████████████████████████████████████████████████████████████████████████████████████████████████████████| 6/6 [00:15<00:00,  2.58s/it]"
     ]
    },
    {
     "name": "stderr",
     "output_type": "stream",
     "text": [
      "\n"
     ]
    },
    {
     "name": "stderr",
     "output_type": "stream",
     "text": [
      "[I 2024-07-05 15:14:24,509] A new study created in memory with name: Search number 3\n"
     ]
    },
    {
     "name": "stdout",
     "output_type": "stream",
     "text": [
      "\n",
      "--------------------------------------------------\n",
      "LEARNING TASK 3\n"
     ]
    },
    {
     "name": "stderr",
     "output_type": "stream",
     "text": [
      "\r",
      "  0%|                                                                                                                           | 0/4 [00:00<?, ?it/s]"
     ]
    },
    {
     "name": "stderr",
     "output_type": "stream",
     "text": [
      "\r",
      " 25%|████████████████████████████▊                                                                                      | 1/4 [00:02<00:07,  2.57s/it]"
     ]
    },
    {
     "name": "stderr",
     "output_type": "stream",
     "text": [
      "\r",
      " 50%|█████████████████████████████████████████████████████████▌                                                         | 2/4 [00:05<00:05,  2.58s/it]"
     ]
    },
    {
     "name": "stderr",
     "output_type": "stream",
     "text": [
      "\r",
      " 75%|██████████████████████████████████████████████████████████████████████████████████████▎                            | 3/4 [00:07<00:02,  2.57s/it]"
     ]
    },
    {
     "name": "stderr",
     "output_type": "stream",
     "text": [
      "\r",
      "100%|███████████████████████████████████████████████████████████████████████████████████████████████████████████████████| 4/4 [00:10<00:00,  2.58s/it]"
     ]
    },
    {
     "name": "stderr",
     "output_type": "stream",
     "text": [
      "\r",
      "100%|███████████████████████████████████████████████████████████████████████████████████████████████████████████████████| 4/4 [00:10<00:00,  2.58s/it]"
     ]
    },
    {
     "name": "stderr",
     "output_type": "stream",
     "text": [
      "\n"
     ]
    },
    {
     "name": "stderr",
     "output_type": "stream",
     "text": [
      "[I 2024-07-05 15:14:45,746] Trial 0 finished with value: 90.32565836298933 and parameters: {'lr': 0.0013127245462383958, 'num_epochs': 4}. Best is trial 0 with value: 90.32565836298933.\n"
     ]
    },
    {
     "name": "stderr",
     "output_type": "stream",
     "text": [
      "\r",
      "  0%|                                                                                                                           | 0/6 [00:00<?, ?it/s]"
     ]
    },
    {
     "name": "stderr",
     "output_type": "stream",
     "text": [
      "\r",
      " 17%|███████████████████▏                                                                                               | 1/6 [00:02<00:12,  2.57s/it]"
     ]
    },
    {
     "name": "stderr",
     "output_type": "stream",
     "text": [
      "\r",
      " 33%|██████████████████████████████████████▎                                                                            | 2/6 [00:05<00:10,  2.58s/it]"
     ]
    },
    {
     "name": "stderr",
     "output_type": "stream",
     "text": [
      "\r",
      " 50%|█████████████████████████████████████████████████████████▌                                                         | 3/6 [00:07<00:07,  2.58s/it]"
     ]
    },
    {
     "name": "stderr",
     "output_type": "stream",
     "text": [
      "\r",
      " 67%|████████████████████████████████████████████████████████████████████████████▋                                      | 4/6 [00:10<00:05,  2.57s/it]"
     ]
    },
    {
     "name": "stderr",
     "output_type": "stream",
     "text": [
      "\r",
      " 83%|███████████████████████████████████████████████████████████████████████████████████████████████▊                   | 5/6 [00:12<00:02,  2.57s/it]"
     ]
    },
    {
     "name": "stderr",
     "output_type": "stream",
     "text": [
      "\r",
      "100%|███████████████████████████████████████████████████████████████████████████████████████████████████████████████████| 6/6 [00:15<00:00,  2.57s/it]"
     ]
    },
    {
     "name": "stderr",
     "output_type": "stream",
     "text": [
      "\r",
      "100%|███████████████████████████████████████████████████████████████████████████████████████████████████████████████████| 6/6 [00:15<00:00,  2.57s/it]"
     ]
    },
    {
     "name": "stderr",
     "output_type": "stream",
     "text": [
      "\n"
     ]
    },
    {
     "name": "stderr",
     "output_type": "stream",
     "text": [
      "[I 2024-07-05 15:15:12,103] Trial 1 finished with value: 87.62241992882565 and parameters: {'lr': 0.001080265691296867, 'num_epochs': 6}. Best is trial 0 with value: 90.32565836298933.\n"
     ]
    },
    {
     "name": "stderr",
     "output_type": "stream",
     "text": [
      "\r",
      "  0%|                                                                                                                           | 0/5 [00:00<?, ?it/s]"
     ]
    },
    {
     "name": "stderr",
     "output_type": "stream",
     "text": [
      "\r",
      " 20%|███████████████████████                                                                                            | 1/5 [00:02<00:10,  2.57s/it]"
     ]
    },
    {
     "name": "stderr",
     "output_type": "stream",
     "text": [
      "\r",
      " 40%|██████████████████████████████████████████████                                                                     | 2/5 [00:05<00:07,  2.57s/it]"
     ]
    },
    {
     "name": "stderr",
     "output_type": "stream",
     "text": [
      "\r",
      " 60%|█████████████████████████████████████████████████████████████████████                                              | 3/5 [00:07<00:05,  2.57s/it]"
     ]
    },
    {
     "name": "stderr",
     "output_type": "stream",
     "text": [
      "\r",
      " 80%|████████████████████████████████████████████████████████████████████████████████████████████                       | 4/5 [00:10<00:02,  2.57s/it]"
     ]
    },
    {
     "name": "stderr",
     "output_type": "stream",
     "text": [
      "\r",
      "100%|███████████████████████████████████████████████████████████████████████████████████████████████████████████████████| 5/5 [00:12<00:00,  2.57s/it]"
     ]
    },
    {
     "name": "stderr",
     "output_type": "stream",
     "text": [
      "\r",
      "100%|███████████████████████████████████████████████████████████████████████████████████████████████████████████████████| 5/5 [00:12<00:00,  2.57s/it]"
     ]
    },
    {
     "name": "stderr",
     "output_type": "stream",
     "text": [
      "\n"
     ]
    },
    {
     "name": "stderr",
     "output_type": "stream",
     "text": [
      "[I 2024-07-05 15:15:35,876] Trial 2 finished with value: 88.8920047449585 and parameters: {'lr': 0.0014149828218016016, 'num_epochs': 5}. Best is trial 0 with value: 90.32565836298933.\n"
     ]
    },
    {
     "name": "stderr",
     "output_type": "stream",
     "text": [
      "\r",
      "  0%|                                                                                                                           | 0/3 [00:00<?, ?it/s]"
     ]
    },
    {
     "name": "stderr",
     "output_type": "stream",
     "text": [
      "\r",
      " 33%|██████████████████████████████████████▎                                                                            | 1/3 [00:02<00:05,  2.57s/it]"
     ]
    },
    {
     "name": "stderr",
     "output_type": "stream",
     "text": [
      "\r",
      " 67%|████████████████████████████████████████████████████████████████████████████▋                                      | 2/3 [00:05<00:02,  2.57s/it]"
     ]
    },
    {
     "name": "stderr",
     "output_type": "stream",
     "text": [
      "\r",
      "100%|███████████████████████████████████████████████████████████████████████████████████████████████████████████████████| 3/3 [00:07<00:00,  2.57s/it]"
     ]
    },
    {
     "name": "stderr",
     "output_type": "stream",
     "text": [
      "\r",
      "100%|███████████████████████████████████████████████████████████████████████████████████████████████████████████████████| 3/3 [00:07<00:00,  2.57s/it]"
     ]
    },
    {
     "name": "stderr",
     "output_type": "stream",
     "text": [
      "\n"
     ]
    },
    {
     "name": "stderr",
     "output_type": "stream",
     "text": [
      "[I 2024-07-05 15:15:54,495] Trial 3 finished with value: 89.28488730723605 and parameters: {'lr': 0.0014488098450782315, 'num_epochs': 3}. Best is trial 0 with value: 90.32565836298933.\n"
     ]
    },
    {
     "name": "stderr",
     "output_type": "stream",
     "text": [
      "\r",
      "  0%|                                                                                                                           | 0/4 [00:00<?, ?it/s]"
     ]
    },
    {
     "name": "stderr",
     "output_type": "stream",
     "text": [
      "\r",
      " 25%|████████████████████████████▊                                                                                      | 1/4 [00:02<00:07,  2.57s/it]"
     ]
    },
    {
     "name": "stderr",
     "output_type": "stream",
     "text": [
      "\r",
      " 50%|█████████████████████████████████████████████████████████▌                                                         | 2/4 [00:05<00:05,  2.58s/it]"
     ]
    },
    {
     "name": "stderr",
     "output_type": "stream",
     "text": [
      "\r",
      " 75%|██████████████████████████████████████████████████████████████████████████████████████▎                            | 3/4 [00:07<00:02,  2.57s/it]"
     ]
    },
    {
     "name": "stderr",
     "output_type": "stream",
     "text": [
      "\r",
      "100%|███████████████████████████████████████████████████████████████████████████████████████████████████████████████████| 4/4 [00:10<00:00,  2.57s/it]"
     ]
    },
    {
     "name": "stderr",
     "output_type": "stream",
     "text": [
      "\r",
      "100%|███████████████████████████████████████████████████████████████████████████████████████████████████████████████████| 4/4 [00:10<00:00,  2.57s/it]"
     ]
    },
    {
     "name": "stderr",
     "output_type": "stream",
     "text": [
      "\n"
     ]
    },
    {
     "name": "stderr",
     "output_type": "stream",
     "text": [
      "[I 2024-07-05 15:16:15,675] Trial 4 finished with value: 90.36727164887309 and parameters: {'lr': 0.00039155132048184497, 'num_epochs': 4}. Best is trial 4 with value: 90.36727164887309.\n"
     ]
    },
    {
     "name": "stderr",
     "output_type": "stream",
     "text": [
      "\r",
      "  0%|                                                                                                                           | 0/2 [00:00<?, ?it/s]"
     ]
    },
    {
     "name": "stderr",
     "output_type": "stream",
     "text": [
      "\r",
      " 50%|█████████████████████████████████████████████████████████▌                                                         | 1/2 [00:02<00:02,  2.57s/it]"
     ]
    },
    {
     "name": "stderr",
     "output_type": "stream",
     "text": [
      "\r",
      "100%|███████████████████████████████████████████████████████████████████████████████████████████████████████████████████| 2/2 [00:05<00:00,  2.57s/it]"
     ]
    },
    {
     "name": "stderr",
     "output_type": "stream",
     "text": [
      "\r",
      "100%|███████████████████████████████████████████████████████████████████████████████████████████████████████████████████| 2/2 [00:05<00:00,  2.57s/it]"
     ]
    },
    {
     "name": "stderr",
     "output_type": "stream",
     "text": [
      "\n"
     ]
    },
    {
     "name": "stderr",
     "output_type": "stream",
     "text": [
      "[I 2024-07-05 15:16:31,732] Trial 5 finished with value: 88.43988137603795 and parameters: {'lr': 0.0018610399415001965, 'num_epochs': 2}. Best is trial 4 with value: 90.36727164887309.\n"
     ]
    },
    {
     "name": "stderr",
     "output_type": "stream",
     "text": [
      "\r",
      "  0%|                                                                                                                           | 0/6 [00:00<?, ?it/s]"
     ]
    },
    {
     "name": "stderr",
     "output_type": "stream",
     "text": [
      "\r",
      " 17%|███████████████████▏                                                                                               | 1/6 [00:02<00:12,  2.57s/it]"
     ]
    },
    {
     "name": "stderr",
     "output_type": "stream",
     "text": [
      "\r",
      " 33%|██████████████████████████████████████▎                                                                            | 2/6 [00:05<00:10,  2.57s/it]"
     ]
    },
    {
     "name": "stderr",
     "output_type": "stream",
     "text": [
      "\r",
      " 50%|█████████████████████████████████████████████████████████▌                                                         | 3/6 [00:07<00:07,  2.57s/it]"
     ]
    },
    {
     "name": "stderr",
     "output_type": "stream",
     "text": [
      "\r",
      " 67%|████████████████████████████████████████████████████████████████████████████▋                                      | 4/6 [00:10<00:05,  2.57s/it]"
     ]
    },
    {
     "name": "stderr",
     "output_type": "stream",
     "text": [
      "\r",
      " 83%|███████████████████████████████████████████████████████████████████████████████████████████████▊                   | 5/6 [00:12<00:02,  2.57s/it]"
     ]
    },
    {
     "name": "stderr",
     "output_type": "stream",
     "text": [
      "\r",
      "100%|███████████████████████████████████████████████████████████████████████████████████████████████████████████████████| 6/6 [00:15<00:00,  2.57s/it]"
     ]
    },
    {
     "name": "stderr",
     "output_type": "stream",
     "text": [
      "\r",
      "100%|███████████████████████████████████████████████████████████████████████████████████████████████████████████████████| 6/6 [00:15<00:00,  2.57s/it]"
     ]
    },
    {
     "name": "stderr",
     "output_type": "stream",
     "text": [
      "\n"
     ]
    },
    {
     "name": "stderr",
     "output_type": "stream",
     "text": [
      "[I 2024-07-05 15:16:58,081] Trial 6 finished with value: 90.54135231316724 and parameters: {'lr': 0.00022534827963370947, 'num_epochs': 6}. Best is trial 6 with value: 90.54135231316724.\n"
     ]
    },
    {
     "name": "stderr",
     "output_type": "stream",
     "text": [
      "\r",
      "  0%|                                                                                                                           | 0/6 [00:00<?, ?it/s]"
     ]
    },
    {
     "name": "stderr",
     "output_type": "stream",
     "text": [
      "\r",
      " 17%|███████████████████▏                                                                                               | 1/6 [00:02<00:12,  2.58s/it]"
     ]
    },
    {
     "name": "stderr",
     "output_type": "stream",
     "text": [
      "\r",
      " 33%|██████████████████████████████████████▎                                                                            | 2/6 [00:05<00:10,  2.58s/it]"
     ]
    },
    {
     "name": "stderr",
     "output_type": "stream",
     "text": [
      "\r",
      " 50%|█████████████████████████████████████████████████████████▌                                                         | 3/6 [00:07<00:07,  2.57s/it]"
     ]
    },
    {
     "name": "stderr",
     "output_type": "stream",
     "text": [
      "\r",
      " 67%|████████████████████████████████████████████████████████████████████████████▋                                      | 4/6 [00:10<00:05,  2.57s/it]"
     ]
    },
    {
     "name": "stderr",
     "output_type": "stream",
     "text": [
      "\r",
      " 83%|███████████████████████████████████████████████████████████████████████████████████████████████▊                   | 5/6 [00:12<00:02,  2.57s/it]"
     ]
    },
    {
     "name": "stderr",
     "output_type": "stream",
     "text": [
      "\r",
      "100%|███████████████████████████████████████████████████████████████████████████████████████████████████████████████████| 6/6 [00:15<00:00,  2.57s/it]"
     ]
    },
    {
     "name": "stderr",
     "output_type": "stream",
     "text": [
      "\r",
      "100%|███████████████████████████████████████████████████████████████████████████████████████████████████████████████████| 6/6 [00:15<00:00,  2.57s/it]"
     ]
    },
    {
     "name": "stderr",
     "output_type": "stream",
     "text": [
      "\n"
     ]
    },
    {
     "name": "stderr",
     "output_type": "stream",
     "text": [
      "[I 2024-07-05 15:17:24,441] Trial 7 finished with value: 88.7361328588375 and parameters: {'lr': 0.0009969610648453769, 'num_epochs': 6}. Best is trial 6 with value: 90.54135231316724.\n"
     ]
    },
    {
     "name": "stderr",
     "output_type": "stream",
     "text": [
      "\r",
      "  0%|                                                                                                                           | 0/3 [00:00<?, ?it/s]"
     ]
    },
    {
     "name": "stderr",
     "output_type": "stream",
     "text": [
      "\r",
      " 33%|██████████████████████████████████████▎                                                                            | 1/3 [00:02<00:05,  2.57s/it]"
     ]
    },
    {
     "name": "stderr",
     "output_type": "stream",
     "text": [
      "\r",
      " 67%|████████████████████████████████████████████████████████████████████████████▋                                      | 2/3 [00:05<00:02,  2.57s/it]"
     ]
    },
    {
     "name": "stderr",
     "output_type": "stream",
     "text": [
      "\r",
      "100%|███████████████████████████████████████████████████████████████████████████████████████████████████████████████████| 3/3 [00:07<00:00,  2.57s/it]"
     ]
    },
    {
     "name": "stderr",
     "output_type": "stream",
     "text": [
      "\r",
      "100%|███████████████████████████████████████████████████████████████████████████████████████████████████████████████████| 3/3 [00:07<00:00,  2.57s/it]"
     ]
    },
    {
     "name": "stderr",
     "output_type": "stream",
     "text": [
      "\n"
     ]
    },
    {
     "name": "stderr",
     "output_type": "stream",
     "text": [
      "[I 2024-07-05 15:17:43,082] Trial 8 finished with value: 91.38109134045078 and parameters: {'lr': 0.0006493011807870831, 'num_epochs': 3}. Best is trial 8 with value: 91.38109134045078.\n"
     ]
    },
    {
     "name": "stderr",
     "output_type": "stream",
     "text": [
      "\r",
      "  0%|                                                                                                                           | 0/2 [00:00<?, ?it/s]"
     ]
    },
    {
     "name": "stderr",
     "output_type": "stream",
     "text": [
      "\r",
      " 50%|█████████████████████████████████████████████████████████▌                                                         | 1/2 [00:02<00:02,  2.57s/it]"
     ]
    },
    {
     "name": "stderr",
     "output_type": "stream",
     "text": [
      "\r",
      "100%|███████████████████████████████████████████████████████████████████████████████████████████████████████████████████| 2/2 [00:05<00:00,  2.57s/it]"
     ]
    },
    {
     "name": "stderr",
     "output_type": "stream",
     "text": [
      "\r",
      "100%|███████████████████████████████████████████████████████████████████████████████████████████████████████████████████| 2/2 [00:05<00:00,  2.57s/it]"
     ]
    },
    {
     "name": "stderr",
     "output_type": "stream",
     "text": [
      "\n"
     ]
    },
    {
     "name": "stderr",
     "output_type": "stream",
     "text": [
      "[I 2024-07-05 15:17:59,171] Trial 9 finished with value: 89.58043890865953 and parameters: {'lr': 0.0011838191987348487, 'num_epochs': 2}. Best is trial 8 with value: 91.38109134045078.\n"
     ]
    },
    {
     "name": "stderr",
     "output_type": "stream",
     "text": [
      "\r",
      "  0%|                                                                                                                           | 0/3 [00:00<?, ?it/s]"
     ]
    },
    {
     "name": "stdout",
     "output_type": "stream",
     "text": [
      "In and out sizes :\n",
      "fc1 : in = 784, out = 121\n",
      "fc2 : in = 121, out = 100\n",
      "fc3 : in = 100, out = 10\n"
     ]
    },
    {
     "name": "stderr",
     "output_type": "stream",
     "text": [
      "\r",
      " 33%|██████████████████████████████████████▎                                                                            | 1/3 [00:02<00:05,  2.58s/it]"
     ]
    },
    {
     "name": "stdout",
     "output_type": "stream",
     "text": [
      "In and out sizes :\n",
      "fc1 : in = 784, out = 121\n",
      "fc2 : in = 121, out = 100\n",
      "fc3 : in = 100, out = 10\n"
     ]
    },
    {
     "name": "stderr",
     "output_type": "stream",
     "text": [
      "\r",
      " 67%|████████████████████████████████████████████████████████████████████████████▋                                      | 2/3 [00:05<00:02,  2.58s/it]"
     ]
    },
    {
     "name": "stdout",
     "output_type": "stream",
     "text": [
      "In and out sizes :\n",
      "fc1 : in = 784, out = 156\n",
      "fc2 : in = 156, out = 100\n",
      "fc3 : in = 100, out = 10\n"
     ]
    },
    {
     "name": "stderr",
     "output_type": "stream",
     "text": [
      "\r",
      "100%|███████████████████████████████████████████████████████████████████████████████████████████████████████████████████| 3/3 [00:07<00:00,  2.58s/it]"
     ]
    },
    {
     "name": "stderr",
     "output_type": "stream",
     "text": [
      "\r",
      "100%|███████████████████████████████████████████████████████████████████████████████████████████████████████████████████| 3/3 [00:07<00:00,  2.58s/it]"
     ]
    },
    {
     "name": "stderr",
     "output_type": "stream",
     "text": [
      "\n"
     ]
    },
    {
     "name": "stderr",
     "output_type": "stream",
     "text": [
      "[I 2024-07-05 15:18:11,927] A new study created in memory with name: Search number 4\n"
     ]
    },
    {
     "name": "stdout",
     "output_type": "stream",
     "text": [
      "\n",
      "--------------------------------------------------\n",
      "LEARNING TASK 4\n"
     ]
    },
    {
     "name": "stderr",
     "output_type": "stream",
     "text": [
      "\r",
      "  0%|                                                                                                                           | 0/4 [00:00<?, ?it/s]"
     ]
    },
    {
     "name": "stderr",
     "output_type": "stream",
     "text": [
      "\r",
      " 25%|████████████████████████████▊                                                                                      | 1/4 [00:02<00:07,  2.58s/it]"
     ]
    },
    {
     "name": "stderr",
     "output_type": "stream",
     "text": [
      "\r",
      " 50%|█████████████████████████████████████████████████████████▌                                                         | 2/4 [00:05<00:05,  2.57s/it]"
     ]
    },
    {
     "name": "stderr",
     "output_type": "stream",
     "text": [
      "\r",
      " 75%|██████████████████████████████████████████████████████████████████████████████████████▎                            | 3/4 [00:07<00:02,  2.57s/it]"
     ]
    },
    {
     "name": "stderr",
     "output_type": "stream",
     "text": [
      "\r",
      "100%|███████████████████████████████████████████████████████████████████████████████████████████████████████████████████| 4/4 [00:10<00:00,  2.57s/it]"
     ]
    },
    {
     "name": "stderr",
     "output_type": "stream",
     "text": [
      "\r",
      "100%|███████████████████████████████████████████████████████████████████████████████████████████████████████████████████| 4/4 [00:10<00:00,  2.57s/it]"
     ]
    },
    {
     "name": "stderr",
     "output_type": "stream",
     "text": [
      "\n"
     ]
    },
    {
     "name": "stderr",
     "output_type": "stream",
     "text": [
      "[I 2024-07-05 15:18:36,744] Trial 0 finished with value: 85.70190391459074 and parameters: {'lr': 0.0013127245462383958, 'num_epochs': 4}. Best is trial 0 with value: 85.70190391459074.\n"
     ]
    },
    {
     "name": "stderr",
     "output_type": "stream",
     "text": [
      "\r",
      "  0%|                                                                                                                           | 0/6 [00:00<?, ?it/s]"
     ]
    },
    {
     "name": "stderr",
     "output_type": "stream",
     "text": [
      "\r",
      " 17%|███████████████████▏                                                                                               | 1/6 [00:02<00:12,  2.57s/it]"
     ]
    },
    {
     "name": "stderr",
     "output_type": "stream",
     "text": [
      "\r",
      " 33%|██████████████████████████████████████▎                                                                            | 2/6 [00:05<00:10,  2.57s/it]"
     ]
    },
    {
     "name": "stderr",
     "output_type": "stream",
     "text": [
      "\r",
      " 50%|█████████████████████████████████████████████████████████▌                                                         | 3/6 [00:07<00:07,  2.57s/it]"
     ]
    },
    {
     "name": "stderr",
     "output_type": "stream",
     "text": [
      "\r",
      " 67%|████████████████████████████████████████████████████████████████████████████▋                                      | 4/6 [00:10<00:05,  2.57s/it]"
     ]
    },
    {
     "name": "stderr",
     "output_type": "stream",
     "text": [
      "\r",
      " 83%|███████████████████████████████████████████████████████████████████████████████████████████████▊                   | 5/6 [00:12<00:02,  2.57s/it]"
     ]
    },
    {
     "name": "stderr",
     "output_type": "stream",
     "text": [
      "\r",
      "100%|███████████████████████████████████████████████████████████████████████████████████████████████████████████████████| 6/6 [00:15<00:00,  2.57s/it]"
     ]
    },
    {
     "name": "stderr",
     "output_type": "stream",
     "text": [
      "\r",
      "100%|███████████████████████████████████████████████████████████████████████████████████████████████████████████████████| 6/6 [00:15<00:00,  2.57s/it]"
     ]
    },
    {
     "name": "stderr",
     "output_type": "stream",
     "text": [
      "\n"
     ]
    },
    {
     "name": "stderr",
     "output_type": "stream",
     "text": [
      "[I 2024-07-05 15:19:06,711] Trial 1 finished with value: 84.27898576512459 and parameters: {'lr': 0.001080265691296867, 'num_epochs': 6}. Best is trial 0 with value: 85.70190391459074.\n"
     ]
    },
    {
     "name": "stderr",
     "output_type": "stream",
     "text": [
      "\r",
      "  0%|                                                                                                                           | 0/5 [00:00<?, ?it/s]"
     ]
    },
    {
     "name": "stderr",
     "output_type": "stream",
     "text": [
      "\r",
      " 20%|███████████████████████                                                                                            | 1/5 [00:02<00:10,  2.57s/it]"
     ]
    },
    {
     "name": "stderr",
     "output_type": "stream",
     "text": [
      "\r",
      " 40%|██████████████████████████████████████████████                                                                     | 2/5 [00:05<00:07,  2.57s/it]"
     ]
    },
    {
     "name": "stderr",
     "output_type": "stream",
     "text": [
      "\r",
      " 60%|█████████████████████████████████████████████████████████████████████                                              | 3/5 [00:07<00:05,  2.57s/it]"
     ]
    },
    {
     "name": "stderr",
     "output_type": "stream",
     "text": [
      "\r",
      " 80%|████████████████████████████████████████████████████████████████████████████████████████████                       | 4/5 [00:10<00:02,  2.57s/it]"
     ]
    },
    {
     "name": "stderr",
     "output_type": "stream",
     "text": [
      "\r",
      "100%|███████████████████████████████████████████████████████████████████████████████████████████████████████████████████| 5/5 [00:12<00:00,  2.57s/it]"
     ]
    },
    {
     "name": "stderr",
     "output_type": "stream",
     "text": [
      "\r",
      "100%|███████████████████████████████████████████████████████████████████████████████████████████████████████████████████| 5/5 [00:12<00:00,  2.57s/it]"
     ]
    },
    {
     "name": "stderr",
     "output_type": "stream",
     "text": [
      "\n"
     ]
    },
    {
     "name": "stderr",
     "output_type": "stream",
     "text": [
      "[I 2024-07-05 15:19:34,102] Trial 2 finished with value: 83.0481494661922 and parameters: {'lr': 0.0014149828218016016, 'num_epochs': 5}. Best is trial 0 with value: 85.70190391459074.\n"
     ]
    },
    {
     "name": "stderr",
     "output_type": "stream",
     "text": [
      "\r",
      "  0%|                                                                                                                           | 0/3 [00:00<?, ?it/s]"
     ]
    },
    {
     "name": "stderr",
     "output_type": "stream",
     "text": [
      "\r",
      " 33%|██████████████████████████████████████▎                                                                            | 1/3 [00:02<00:05,  2.57s/it]"
     ]
    },
    {
     "name": "stderr",
     "output_type": "stream",
     "text": [
      "\r",
      " 67%|████████████████████████████████████████████████████████████████████████████▋                                      | 2/3 [00:05<00:02,  2.57s/it]"
     ]
    },
    {
     "name": "stderr",
     "output_type": "stream",
     "text": [
      "\r",
      "100%|███████████████████████████████████████████████████████████████████████████████████████████████████████████████████| 3/3 [00:07<00:00,  2.57s/it]"
     ]
    },
    {
     "name": "stderr",
     "output_type": "stream",
     "text": [
      "\r",
      "100%|███████████████████████████████████████████████████████████████████████████████████████████████████████████████████| 3/3 [00:07<00:00,  2.57s/it]"
     ]
    },
    {
     "name": "stderr",
     "output_type": "stream",
     "text": [
      "\n"
     ]
    },
    {
     "name": "stderr",
     "output_type": "stream",
     "text": [
      "[I 2024-07-05 15:19:56,374] Trial 3 finished with value: 85.5775800711744 and parameters: {'lr': 0.0014488098450782315, 'num_epochs': 3}. Best is trial 0 with value: 85.70190391459074.\n"
     ]
    },
    {
     "name": "stderr",
     "output_type": "stream",
     "text": [
      "\r",
      "  0%|                                                                                                                           | 0/4 [00:00<?, ?it/s]"
     ]
    },
    {
     "name": "stderr",
     "output_type": "stream",
     "text": [
      "\r",
      " 25%|████████████████████████████▊                                                                                      | 1/4 [00:02<00:07,  2.57s/it]"
     ]
    },
    {
     "name": "stderr",
     "output_type": "stream",
     "text": [
      "\r",
      " 50%|█████████████████████████████████████████████████████████▌                                                         | 2/4 [00:05<00:05,  2.57s/it]"
     ]
    },
    {
     "name": "stderr",
     "output_type": "stream",
     "text": [
      "\r",
      " 75%|██████████████████████████████████████████████████████████████████████████████████████▎                            | 3/4 [00:07<00:02,  2.57s/it]"
     ]
    },
    {
     "name": "stderr",
     "output_type": "stream",
     "text": [
      "\r",
      "100%|███████████████████████████████████████████████████████████████████████████████████████████████████████████████████| 4/4 [00:10<00:00,  2.57s/it]"
     ]
    },
    {
     "name": "stderr",
     "output_type": "stream",
     "text": [
      "\r",
      "100%|███████████████████████████████████████████████████████████████████████████████████████████████████████████████████| 4/4 [00:10<00:00,  2.57s/it]"
     ]
    },
    {
     "name": "stderr",
     "output_type": "stream",
     "text": [
      "\n"
     ]
    },
    {
     "name": "stderr",
     "output_type": "stream",
     "text": [
      "[I 2024-07-05 15:20:21,205] Trial 4 finished with value: 89.42866548042703 and parameters: {'lr': 0.00039155132048184497, 'num_epochs': 4}. Best is trial 4 with value: 89.42866548042703.\n"
     ]
    },
    {
     "name": "stderr",
     "output_type": "stream",
     "text": [
      "\r",
      "  0%|                                                                                                                           | 0/2 [00:00<?, ?it/s]"
     ]
    },
    {
     "name": "stderr",
     "output_type": "stream",
     "text": [
      "\r",
      " 50%|█████████████████████████████████████████████████████████▌                                                         | 1/2 [00:02<00:02,  2.57s/it]"
     ]
    },
    {
     "name": "stderr",
     "output_type": "stream",
     "text": [
      "\r",
      "100%|███████████████████████████████████████████████████████████████████████████████████████████████████████████████████| 2/2 [00:05<00:00,  2.57s/it]"
     ]
    },
    {
     "name": "stderr",
     "output_type": "stream",
     "text": [
      "\r",
      "100%|███████████████████████████████████████████████████████████████████████████████████████████████████████████████████| 2/2 [00:05<00:00,  2.57s/it]"
     ]
    },
    {
     "name": "stderr",
     "output_type": "stream",
     "text": [
      "\n"
     ]
    },
    {
     "name": "stderr",
     "output_type": "stream",
     "text": [
      "[I 2024-07-05 15:20:40,909] Trial 5 finished with value: 86.16274021352315 and parameters: {'lr': 0.0018610399415001965, 'num_epochs': 2}. Best is trial 4 with value: 89.42866548042703.\n"
     ]
    },
    {
     "name": "stderr",
     "output_type": "stream",
     "text": [
      "\r",
      "  0%|                                                                                                                           | 0/6 [00:00<?, ?it/s]"
     ]
    },
    {
     "name": "stderr",
     "output_type": "stream",
     "text": [
      "\r",
      " 17%|███████████████████▏                                                                                               | 1/6 [00:02<00:12,  2.58s/it]"
     ]
    },
    {
     "name": "stderr",
     "output_type": "stream",
     "text": [
      "\r",
      " 33%|██████████████████████████████████████▎                                                                            | 2/6 [00:05<00:10,  2.57s/it]"
     ]
    },
    {
     "name": "stderr",
     "output_type": "stream",
     "text": [
      "\r",
      " 50%|█████████████████████████████████████████████████████████▌                                                         | 3/6 [00:07<00:07,  2.57s/it]"
     ]
    },
    {
     "name": "stderr",
     "output_type": "stream",
     "text": [
      "\r",
      " 67%|████████████████████████████████████████████████████████████████████████████▋                                      | 4/6 [00:10<00:05,  2.57s/it]"
     ]
    },
    {
     "name": "stderr",
     "output_type": "stream",
     "text": [
      "\r",
      " 83%|███████████████████████████████████████████████████████████████████████████████████████████████▊                   | 5/6 [00:12<00:02,  2.57s/it]"
     ]
    },
    {
     "name": "stderr",
     "output_type": "stream",
     "text": [
      "\r",
      "100%|███████████████████████████████████████████████████████████████████████████████████████████████████████████████████| 6/6 [00:15<00:00,  2.57s/it]"
     ]
    },
    {
     "name": "stderr",
     "output_type": "stream",
     "text": [
      "\r",
      "100%|███████████████████████████████████████████████████████████████████████████████████████████████████████████████████| 6/6 [00:15<00:00,  2.57s/it]"
     ]
    },
    {
     "name": "stderr",
     "output_type": "stream",
     "text": [
      "\n"
     ]
    },
    {
     "name": "stderr",
     "output_type": "stream",
     "text": [
      "[I 2024-07-05 15:21:10,896] Trial 6 finished with value: 88.85663701067617 and parameters: {'lr': 0.00022534827963370947, 'num_epochs': 6}. Best is trial 4 with value: 89.42866548042703.\n"
     ]
    },
    {
     "name": "stderr",
     "output_type": "stream",
     "text": [
      "\r",
      "  0%|                                                                                                                           | 0/6 [00:00<?, ?it/s]"
     ]
    },
    {
     "name": "stderr",
     "output_type": "stream",
     "text": [
      "\r",
      " 17%|███████████████████▏                                                                                               | 1/6 [00:02<00:12,  2.57s/it]"
     ]
    },
    {
     "name": "stderr",
     "output_type": "stream",
     "text": [
      "\r",
      " 33%|██████████████████████████████████████▎                                                                            | 2/6 [00:05<00:10,  2.57s/it]"
     ]
    },
    {
     "name": "stderr",
     "output_type": "stream",
     "text": [
      "\r",
      " 50%|█████████████████████████████████████████████████████████▌                                                         | 3/6 [00:07<00:07,  2.57s/it]"
     ]
    },
    {
     "name": "stderr",
     "output_type": "stream",
     "text": [
      "\r",
      " 67%|████████████████████████████████████████████████████████████████████████████▋                                      | 4/6 [00:10<00:05,  2.57s/it]"
     ]
    },
    {
     "name": "stderr",
     "output_type": "stream",
     "text": [
      "\r",
      " 83%|███████████████████████████████████████████████████████████████████████████████████████████████▊                   | 5/6 [00:12<00:02,  2.57s/it]"
     ]
    },
    {
     "name": "stderr",
     "output_type": "stream",
     "text": [
      "\r",
      "100%|███████████████████████████████████████████████████████████████████████████████████████████████████████████████████| 6/6 [00:15<00:00,  2.57s/it]"
     ]
    },
    {
     "name": "stderr",
     "output_type": "stream",
     "text": [
      "\r",
      "100%|███████████████████████████████████████████████████████████████████████████████████████████████████████████████████| 6/6 [00:15<00:00,  2.57s/it]"
     ]
    },
    {
     "name": "stderr",
     "output_type": "stream",
     "text": [
      "\n"
     ]
    },
    {
     "name": "stderr",
     "output_type": "stream",
     "text": [
      "[I 2024-07-05 15:21:40,868] Trial 7 finished with value: 88.39247330960849 and parameters: {'lr': 0.0009969610648453769, 'num_epochs': 6}. Best is trial 4 with value: 89.42866548042703.\n"
     ]
    },
    {
     "name": "stderr",
     "output_type": "stream",
     "text": [
      "\r",
      "  0%|                                                                                                                           | 0/3 [00:00<?, ?it/s]"
     ]
    },
    {
     "name": "stderr",
     "output_type": "stream",
     "text": [
      "\r",
      " 33%|██████████████████████████████████████▎                                                                            | 1/3 [00:02<00:05,  2.57s/it]"
     ]
    },
    {
     "name": "stderr",
     "output_type": "stream",
     "text": [
      "\r",
      " 67%|████████████████████████████████████████████████████████████████████████████▋                                      | 2/3 [00:05<00:02,  2.57s/it]"
     ]
    },
    {
     "name": "stderr",
     "output_type": "stream",
     "text": [
      "\r",
      "100%|███████████████████████████████████████████████████████████████████████████████████████████████████████████████████| 3/3 [00:07<00:00,  2.57s/it]"
     ]
    },
    {
     "name": "stderr",
     "output_type": "stream",
     "text": [
      "\r",
      "100%|███████████████████████████████████████████████████████████████████████████████████████████████████████████████████| 3/3 [00:07<00:00,  2.57s/it]"
     ]
    },
    {
     "name": "stderr",
     "output_type": "stream",
     "text": [
      "\n"
     ]
    },
    {
     "name": "stderr",
     "output_type": "stream",
     "text": [
      "[I 2024-07-05 15:22:03,142] Trial 8 finished with value: 88.42864768683273 and parameters: {'lr': 0.0006493011807870831, 'num_epochs': 3}. Best is trial 4 with value: 89.42866548042703.\n"
     ]
    },
    {
     "name": "stderr",
     "output_type": "stream",
     "text": [
      "\r",
      "  0%|                                                                                                                           | 0/2 [00:00<?, ?it/s]"
     ]
    },
    {
     "name": "stderr",
     "output_type": "stream",
     "text": [
      "\r",
      " 50%|█████████████████████████████████████████████████████████▌                                                         | 1/2 [00:02<00:02,  2.57s/it]"
     ]
    },
    {
     "name": "stderr",
     "output_type": "stream",
     "text": [
      "\r",
      "100%|███████████████████████████████████████████████████████████████████████████████████████████████████████████████████| 2/2 [00:05<00:00,  2.57s/it]"
     ]
    },
    {
     "name": "stderr",
     "output_type": "stream",
     "text": [
      "\r",
      "100%|███████████████████████████████████████████████████████████████████████████████████████████████████████████████████| 2/2 [00:05<00:00,  2.57s/it]"
     ]
    },
    {
     "name": "stderr",
     "output_type": "stream",
     "text": [
      "\n"
     ]
    },
    {
     "name": "stderr",
     "output_type": "stream",
     "text": [
      "[I 2024-07-05 15:22:22,805] Trial 9 finished with value: 87.73215302491104 and parameters: {'lr': 0.0011838191987348487, 'num_epochs': 2}. Best is trial 4 with value: 89.42866548042703.\n"
     ]
    },
    {
     "name": "stderr",
     "output_type": "stream",
     "text": [
      "\r",
      "  0%|                                                                                                                           | 0/4 [00:00<?, ?it/s]"
     ]
    },
    {
     "name": "stdout",
     "output_type": "stream",
     "text": [
      "In and out sizes :\n",
      "fc1 : in = 784, out = 156\n",
      "fc2 : in = 156, out = 100\n",
      "fc3 : in = 100, out = 10\n"
     ]
    },
    {
     "name": "stderr",
     "output_type": "stream",
     "text": [
      "\r",
      " 25%|████████████████████████████▊                                                                                      | 1/4 [00:02<00:07,  2.58s/it]"
     ]
    },
    {
     "name": "stdout",
     "output_type": "stream",
     "text": [
      "In and out sizes :\n",
      "fc1 : in = 784, out = 156\n",
      "fc2 : in = 156, out = 100\n",
      "fc3 : in = 100, out = 10\n"
     ]
    },
    {
     "name": "stderr",
     "output_type": "stream",
     "text": [
      "\r",
      " 50%|█████████████████████████████████████████████████████████▌                                                         | 2/4 [00:05<00:05,  2.58s/it]"
     ]
    },
    {
     "name": "stdout",
     "output_type": "stream",
     "text": [
      "In and out sizes :\n",
      "fc1 : in = 784, out = 156\n",
      "fc2 : in = 156, out = 100\n",
      "fc3 : in = 100, out = 10\n"
     ]
    },
    {
     "name": "stderr",
     "output_type": "stream",
     "text": [
      "\r",
      " 75%|██████████████████████████████████████████████████████████████████████████████████████▎                            | 3/4 [00:07<00:02,  2.58s/it]"
     ]
    },
    {
     "name": "stdout",
     "output_type": "stream",
     "text": [
      "In and out sizes :\n",
      "fc1 : in = 784, out = 156\n",
      "fc2 : in = 156, out = 100\n",
      "fc3 : in = 100, out = 10\n"
     ]
    },
    {
     "name": "stderr",
     "output_type": "stream",
     "text": [
      "\r",
      "100%|███████████████████████████████████████████████████████████████████████████████████████████████████████████████████| 4/4 [00:10<00:00,  2.58s/it]"
     ]
    },
    {
     "name": "stderr",
     "output_type": "stream",
     "text": [
      "\r",
      "100%|███████████████████████████████████████████████████████████████████████████████████████████████████████████████████| 4/4 [00:10<00:00,  2.58s/it]"
     ]
    },
    {
     "name": "stderr",
     "output_type": "stream",
     "text": [
      "\n"
     ]
    },
    {
     "name": "stderr",
     "output_type": "stream",
     "text": [
      "[I 2024-07-05 15:22:38,141] A new study created in memory with name: Search number 5\n"
     ]
    },
    {
     "name": "stdout",
     "output_type": "stream",
     "text": [
      "\n",
      "--------------------------------------------------\n",
      "LEARNING TASK 5\n"
     ]
    },
    {
     "name": "stderr",
     "output_type": "stream",
     "text": [
      "\r",
      "  0%|                                                                                                                           | 0/4 [00:00<?, ?it/s]"
     ]
    },
    {
     "name": "stderr",
     "output_type": "stream",
     "text": [
      "\r",
      " 25%|████████████████████████████▊                                                                                      | 1/4 [00:02<00:07,  2.58s/it]"
     ]
    },
    {
     "name": "stderr",
     "output_type": "stream",
     "text": [
      "\r",
      " 50%|█████████████████████████████████████████████████████████▌                                                         | 2/4 [00:05<00:05,  2.58s/it]"
     ]
    },
    {
     "name": "stderr",
     "output_type": "stream",
     "text": [
      "\r",
      " 75%|██████████████████████████████████████████████████████████████████████████████████████▎                            | 3/4 [00:07<00:02,  2.57s/it]"
     ]
    },
    {
     "name": "stderr",
     "output_type": "stream",
     "text": [
      "\r",
      "100%|███████████████████████████████████████████████████████████████████████████████████████████████████████████████████| 4/4 [00:10<00:00,  2.57s/it]"
     ]
    },
    {
     "name": "stderr",
     "output_type": "stream",
     "text": [
      "\r",
      "100%|███████████████████████████████████████████████████████████████████████████████████████████████████████████████████| 4/4 [00:10<00:00,  2.57s/it]"
     ]
    },
    {
     "name": "stderr",
     "output_type": "stream",
     "text": [
      "\n"
     ]
    },
    {
     "name": "stderr",
     "output_type": "stream",
     "text": [
      "[I 2024-07-05 15:23:06,609] Trial 0 finished with value: 81.41360854092527 and parameters: {'lr': 0.0013127245462383958, 'num_epochs': 4}. Best is trial 0 with value: 81.41360854092527.\n"
     ]
    },
    {
     "name": "stderr",
     "output_type": "stream",
     "text": [
      "\r",
      "  0%|                                                                                                                           | 0/6 [00:00<?, ?it/s]"
     ]
    },
    {
     "name": "stderr",
     "output_type": "stream",
     "text": [
      "\r",
      " 17%|███████████████████▏                                                                                               | 1/6 [00:02<00:12,  2.58s/it]"
     ]
    },
    {
     "name": "stderr",
     "output_type": "stream",
     "text": [
      "\r",
      " 33%|██████████████████████████████████████▎                                                                            | 2/6 [00:05<00:10,  2.58s/it]"
     ]
    },
    {
     "name": "stderr",
     "output_type": "stream",
     "text": [
      "\r",
      " 50%|█████████████████████████████████████████████████████████▌                                                         | 3/6 [00:07<00:07,  2.57s/it]"
     ]
    },
    {
     "name": "stderr",
     "output_type": "stream",
     "text": [
      "\r",
      " 67%|████████████████████████████████████████████████████████████████████████████▋                                      | 4/6 [00:10<00:05,  2.57s/it]"
     ]
    },
    {
     "name": "stderr",
     "output_type": "stream",
     "text": [
      "\r",
      " 83%|███████████████████████████████████████████████████████████████████████████████████████████████▊                   | 5/6 [00:12<00:02,  2.58s/it]"
     ]
    },
    {
     "name": "stderr",
     "output_type": "stream",
     "text": [
      "\r",
      "100%|███████████████████████████████████████████████████████████████████████████████████████████████████████████████████| 6/6 [00:15<00:00,  2.57s/it]"
     ]
    },
    {
     "name": "stderr",
     "output_type": "stream",
     "text": [
      "\r",
      "100%|███████████████████████████████████████████████████████████████████████████████████████████████████████████████████| 6/6 [00:15<00:00,  2.57s/it]"
     ]
    },
    {
     "name": "stderr",
     "output_type": "stream",
     "text": [
      "\n"
     ]
    },
    {
     "name": "stderr",
     "output_type": "stream",
     "text": [
      "[I 2024-07-05 15:23:40,241] Trial 1 finished with value: 82.68674021352317 and parameters: {'lr': 0.001080265691296867, 'num_epochs': 6}. Best is trial 1 with value: 82.68674021352317.\n"
     ]
    },
    {
     "name": "stderr",
     "output_type": "stream",
     "text": [
      "\r",
      "  0%|                                                                                                                           | 0/5 [00:00<?, ?it/s]"
     ]
    },
    {
     "name": "stderr",
     "output_type": "stream",
     "text": [
      "\r",
      " 20%|███████████████████████                                                                                            | 1/5 [00:02<00:10,  2.57s/it]"
     ]
    },
    {
     "name": "stderr",
     "output_type": "stream",
     "text": [
      "\r",
      " 40%|██████████████████████████████████████████████                                                                     | 2/5 [00:05<00:07,  2.57s/it]"
     ]
    },
    {
     "name": "stderr",
     "output_type": "stream",
     "text": [
      "\r",
      " 60%|█████████████████████████████████████████████████████████████████████                                              | 3/5 [00:07<00:05,  2.57s/it]"
     ]
    },
    {
     "name": "stderr",
     "output_type": "stream",
     "text": [
      "\r",
      " 80%|████████████████████████████████████████████████████████████████████████████████████████████                       | 4/5 [00:10<00:02,  2.57s/it]"
     ]
    },
    {
     "name": "stderr",
     "output_type": "stream",
     "text": [
      "\r",
      "100%|███████████████████████████████████████████████████████████████████████████████████████████████████████████████████| 5/5 [00:12<00:00,  2.57s/it]"
     ]
    },
    {
     "name": "stderr",
     "output_type": "stream",
     "text": [
      "\r",
      "100%|███████████████████████████████████████████████████████████████████████████████████████████████████████████████████| 5/5 [00:12<00:00,  2.57s/it]"
     ]
    },
    {
     "name": "stderr",
     "output_type": "stream",
     "text": [
      "\n"
     ]
    },
    {
     "name": "stderr",
     "output_type": "stream",
     "text": [
      "[I 2024-07-05 15:24:11,245] Trial 2 finished with value: 80.22402846975092 and parameters: {'lr': 0.0014149828218016016, 'num_epochs': 5}. Best is trial 1 with value: 82.68674021352317.\n"
     ]
    },
    {
     "name": "stderr",
     "output_type": "stream",
     "text": [
      "\r",
      "  0%|                                                                                                                           | 0/3 [00:00<?, ?it/s]"
     ]
    },
    {
     "name": "stderr",
     "output_type": "stream",
     "text": [
      "\r",
      " 33%|██████████████████████████████████████▎                                                                            | 1/3 [00:02<00:05,  2.57s/it]"
     ]
    },
    {
     "name": "stderr",
     "output_type": "stream",
     "text": [
      "\r",
      " 67%|████████████████████████████████████████████████████████████████████████████▋                                      | 2/3 [00:05<00:02,  2.57s/it]"
     ]
    },
    {
     "name": "stderr",
     "output_type": "stream",
     "text": [
      "\r",
      "100%|███████████████████████████████████████████████████████████████████████████████████████████████████████████████████| 3/3 [00:07<00:00,  2.57s/it]"
     ]
    },
    {
     "name": "stderr",
     "output_type": "stream",
     "text": [
      "\r",
      "100%|███████████████████████████████████████████████████████████████████████████████████████████████████████████████████| 3/3 [00:07<00:00,  2.57s/it]"
     ]
    },
    {
     "name": "stderr",
     "output_type": "stream",
     "text": [
      "\n"
     ]
    },
    {
     "name": "stderr",
     "output_type": "stream",
     "text": [
      "[I 2024-07-05 15:24:37,162] Trial 3 finished with value: 81.67909608540926 and parameters: {'lr': 0.0014488098450782315, 'num_epochs': 3}. Best is trial 1 with value: 82.68674021352317.\n"
     ]
    },
    {
     "name": "stderr",
     "output_type": "stream",
     "text": [
      "\r",
      "  0%|                                                                                                                           | 0/4 [00:00<?, ?it/s]"
     ]
    },
    {
     "name": "stderr",
     "output_type": "stream",
     "text": [
      "\r",
      " 25%|████████████████████████████▊                                                                                      | 1/4 [00:02<00:07,  2.57s/it]"
     ]
    },
    {
     "name": "stderr",
     "output_type": "stream",
     "text": [
      "\r",
      " 50%|█████████████████████████████████████████████████████████▌                                                         | 2/4 [00:05<00:05,  2.57s/it]"
     ]
    },
    {
     "name": "stderr",
     "output_type": "stream",
     "text": [
      "\r",
      " 75%|██████████████████████████████████████████████████████████████████████████████████████▎                            | 3/4 [00:07<00:02,  2.57s/it]"
     ]
    },
    {
     "name": "stderr",
     "output_type": "stream",
     "text": [
      "\r",
      "100%|███████████████████████████████████████████████████████████████████████████████████████████████████████████████████| 4/4 [00:10<00:00,  2.57s/it]"
     ]
    },
    {
     "name": "stderr",
     "output_type": "stream",
     "text": [
      "\r",
      "100%|███████████████████████████████████████████████████████████████████████████████████████████████████████████████████| 4/4 [00:10<00:00,  2.57s/it]"
     ]
    },
    {
     "name": "stderr",
     "output_type": "stream",
     "text": [
      "\n"
     ]
    },
    {
     "name": "stderr",
     "output_type": "stream",
     "text": [
      "[I 2024-07-05 15:25:05,610] Trial 4 finished with value: 86.30233451957295 and parameters: {'lr': 0.00039155132048184497, 'num_epochs': 4}. Best is trial 4 with value: 86.30233451957295.\n"
     ]
    },
    {
     "name": "stderr",
     "output_type": "stream",
     "text": [
      "\r",
      "  0%|                                                                                                                           | 0/2 [00:00<?, ?it/s]"
     ]
    },
    {
     "name": "stderr",
     "output_type": "stream",
     "text": [
      "\r",
      " 50%|█████████████████████████████████████████████████████████▌                                                         | 1/2 [00:02<00:02,  2.57s/it]"
     ]
    },
    {
     "name": "stderr",
     "output_type": "stream",
     "text": [
      "\r",
      "100%|███████████████████████████████████████████████████████████████████████████████████████████████████████████████████| 2/2 [00:05<00:00,  2.58s/it]"
     ]
    },
    {
     "name": "stderr",
     "output_type": "stream",
     "text": [
      "\r",
      "100%|███████████████████████████████████████████████████████████████████████████████████████████████████████████████████| 2/2 [00:05<00:00,  2.58s/it]"
     ]
    },
    {
     "name": "stderr",
     "output_type": "stream",
     "text": [
      "\n"
     ]
    },
    {
     "name": "stderr",
     "output_type": "stream",
     "text": [
      "[I 2024-07-05 15:25:28,961] Trial 5 finished with value: 79.73627758007119 and parameters: {'lr': 0.0018610399415001965, 'num_epochs': 2}. Best is trial 4 with value: 86.30233451957295.\n"
     ]
    },
    {
     "name": "stderr",
     "output_type": "stream",
     "text": [
      "\r",
      "  0%|                                                                                                                           | 0/6 [00:00<?, ?it/s]"
     ]
    },
    {
     "name": "stderr",
     "output_type": "stream",
     "text": [
      "\r",
      " 17%|███████████████████▏                                                                                               | 1/6 [00:02<00:12,  2.57s/it]"
     ]
    },
    {
     "name": "stderr",
     "output_type": "stream",
     "text": [
      "\r",
      " 33%|██████████████████████████████████████▎                                                                            | 2/6 [00:05<00:10,  2.57s/it]"
     ]
    },
    {
     "name": "stderr",
     "output_type": "stream",
     "text": [
      "\r",
      " 50%|█████████████████████████████████████████████████████████▌                                                         | 3/6 [00:07<00:07,  2.57s/it]"
     ]
    },
    {
     "name": "stderr",
     "output_type": "stream",
     "text": [
      "\r",
      " 67%|████████████████████████████████████████████████████████████████████████████▋                                      | 4/6 [00:10<00:05,  2.57s/it]"
     ]
    },
    {
     "name": "stderr",
     "output_type": "stream",
     "text": [
      "\r",
      " 83%|███████████████████████████████████████████████████████████████████████████████████████████████▊                   | 5/6 [00:12<00:02,  2.57s/it]"
     ]
    },
    {
     "name": "stderr",
     "output_type": "stream",
     "text": [
      "\r",
      "100%|███████████████████████████████████████████████████████████████████████████████████████████████████████████████████| 6/6 [00:15<00:00,  2.57s/it]"
     ]
    },
    {
     "name": "stderr",
     "output_type": "stream",
     "text": [
      "\r",
      "100%|███████████████████████████████████████████████████████████████████████████████████████████████████████████████████| 6/6 [00:15<00:00,  2.57s/it]"
     ]
    },
    {
     "name": "stderr",
     "output_type": "stream",
     "text": [
      "\n"
     ]
    },
    {
     "name": "stderr",
     "output_type": "stream",
     "text": [
      "[I 2024-07-05 15:26:02,522] Trial 6 finished with value: 86.89100355871888 and parameters: {'lr': 0.00022534827963370947, 'num_epochs': 6}. Best is trial 6 with value: 86.89100355871888.\n"
     ]
    },
    {
     "name": "stderr",
     "output_type": "stream",
     "text": [
      "\r",
      "  0%|                                                                                                                           | 0/6 [00:00<?, ?it/s]"
     ]
    },
    {
     "name": "stderr",
     "output_type": "stream",
     "text": [
      "\r",
      " 17%|███████████████████▏                                                                                               | 1/6 [00:02<00:12,  2.57s/it]"
     ]
    },
    {
     "name": "stderr",
     "output_type": "stream",
     "text": [
      "\r",
      " 33%|██████████████████████████████████████▎                                                                            | 2/6 [00:05<00:10,  2.57s/it]"
     ]
    },
    {
     "name": "stderr",
     "output_type": "stream",
     "text": [
      "\r",
      " 50%|█████████████████████████████████████████████████████████▌                                                         | 3/6 [00:07<00:07,  2.57s/it]"
     ]
    },
    {
     "name": "stderr",
     "output_type": "stream",
     "text": [
      "\r",
      " 67%|████████████████████████████████████████████████████████████████████████████▋                                      | 4/6 [00:10<00:05,  2.57s/it]"
     ]
    },
    {
     "name": "stderr",
     "output_type": "stream",
     "text": [
      "\r",
      " 83%|███████████████████████████████████████████████████████████████████████████████████████████████▊                   | 5/6 [00:12<00:02,  2.57s/it]"
     ]
    },
    {
     "name": "stderr",
     "output_type": "stream",
     "text": [
      "\r",
      "100%|███████████████████████████████████████████████████████████████████████████████████████████████████████████████████| 6/6 [00:15<00:00,  2.57s/it]"
     ]
    },
    {
     "name": "stderr",
     "output_type": "stream",
     "text": [
      "\r",
      "100%|███████████████████████████████████████████████████████████████████████████████████████████████████████████████████| 6/6 [00:15<00:00,  2.57s/it]"
     ]
    },
    {
     "name": "stderr",
     "output_type": "stream",
     "text": [
      "\n"
     ]
    },
    {
     "name": "stderr",
     "output_type": "stream",
     "text": [
      "[I 2024-07-05 15:26:36,174] Trial 7 finished with value: 83.73788612099648 and parameters: {'lr': 0.0009969610648453769, 'num_epochs': 6}. Best is trial 6 with value: 86.89100355871888.\n"
     ]
    },
    {
     "name": "stderr",
     "output_type": "stream",
     "text": [
      "\r",
      "  0%|                                                                                                                           | 0/3 [00:00<?, ?it/s]"
     ]
    },
    {
     "name": "stderr",
     "output_type": "stream",
     "text": [
      "\r",
      " 33%|██████████████████████████████████████▎                                                                            | 1/3 [00:02<00:05,  2.58s/it]"
     ]
    },
    {
     "name": "stderr",
     "output_type": "stream",
     "text": [
      "\r",
      " 67%|████████████████████████████████████████████████████████████████████████████▋                                      | 2/3 [00:05<00:02,  2.58s/it]"
     ]
    },
    {
     "name": "stderr",
     "output_type": "stream",
     "text": [
      "\r",
      "100%|███████████████████████████████████████████████████████████████████████████████████████████████████████████████████| 3/3 [00:07<00:00,  2.57s/it]"
     ]
    },
    {
     "name": "stderr",
     "output_type": "stream",
     "text": [
      "\r",
      "100%|███████████████████████████████████████████████████████████████████████████████████████████████████████████████████| 3/3 [00:07<00:00,  2.57s/it]"
     ]
    },
    {
     "name": "stderr",
     "output_type": "stream",
     "text": [
      "\n"
     ]
    },
    {
     "name": "stderr",
     "output_type": "stream",
     "text": [
      "[I 2024-07-05 15:27:02,074] Trial 8 finished with value: 85.94281138790035 and parameters: {'lr': 0.0006493011807870831, 'num_epochs': 3}. Best is trial 6 with value: 86.89100355871888.\n"
     ]
    },
    {
     "name": "stderr",
     "output_type": "stream",
     "text": [
      "\r",
      "  0%|                                                                                                                           | 0/2 [00:00<?, ?it/s]"
     ]
    },
    {
     "name": "stderr",
     "output_type": "stream",
     "text": [
      "\r",
      " 50%|█████████████████████████████████████████████████████████▌                                                         | 1/2 [00:02<00:02,  2.57s/it]"
     ]
    },
    {
     "name": "stderr",
     "output_type": "stream",
     "text": [
      "\r",
      "100%|███████████████████████████████████████████████████████████████████████████████████████████████████████████████████| 2/2 [00:05<00:00,  2.56s/it]"
     ]
    },
    {
     "name": "stderr",
     "output_type": "stream",
     "text": [
      "\r",
      "100%|███████████████████████████████████████████████████████████████████████████████████████████████████████████████████| 2/2 [00:05<00:00,  2.56s/it]"
     ]
    },
    {
     "name": "stderr",
     "output_type": "stream",
     "text": [
      "\n"
     ]
    },
    {
     "name": "stderr",
     "output_type": "stream",
     "text": [
      "[I 2024-07-05 15:27:25,376] Trial 9 finished with value: 84.39015658362987 and parameters: {'lr': 0.0011838191987348487, 'num_epochs': 2}. Best is trial 6 with value: 86.89100355871888.\n"
     ]
    },
    {
     "name": "stderr",
     "output_type": "stream",
     "text": [
      "\r",
      "  0%|                                                                                                                           | 0/6 [00:00<?, ?it/s]"
     ]
    },
    {
     "name": "stdout",
     "output_type": "stream",
     "text": [
      "In and out sizes :\n",
      "fc1 : in = 784, out = 227\n",
      "fc2 : in = 227, out = 100\n",
      "fc3 : in = 100, out = 10\n"
     ]
    },
    {
     "name": "stderr",
     "output_type": "stream",
     "text": [
      "\r",
      " 17%|███████████████████▏                                                                                               | 1/6 [00:02<00:12,  2.58s/it]"
     ]
    },
    {
     "name": "stdout",
     "output_type": "stream",
     "text": [
      "In and out sizes :\n",
      "fc1 : in = 784, out = 227\n",
      "fc2 : in = 227, out = 100\n",
      "fc3 : in = 100, out = 10\n"
     ]
    },
    {
     "name": "stderr",
     "output_type": "stream",
     "text": [
      "\r",
      " 33%|██████████████████████████████████████▎                                                                            | 2/6 [00:05<00:10,  2.58s/it]"
     ]
    },
    {
     "name": "stdout",
     "output_type": "stream",
     "text": [
      "In and out sizes :\n",
      "fc1 : in = 784, out = 341\n",
      "fc2 : in = 341, out = 100\n",
      "fc3 : in = 100, out = 10\n"
     ]
    },
    {
     "name": "stderr",
     "output_type": "stream",
     "text": [
      "\r",
      " 50%|█████████████████████████████████████████████████████████▌                                                         | 3/6 [00:07<00:07,  2.58s/it]"
     ]
    },
    {
     "name": "stdout",
     "output_type": "stream",
     "text": [
      "In and out sizes :\n",
      "fc1 : in = 784, out = 341\n",
      "fc2 : in = 341, out = 100\n",
      "fc3 : in = 100, out = 10\n"
     ]
    },
    {
     "name": "stderr",
     "output_type": "stream",
     "text": [
      "\r",
      " 67%|████████████████████████████████████████████████████████████████████████████▋                                      | 4/6 [00:10<00:05,  2.58s/it]"
     ]
    },
    {
     "name": "stdout",
     "output_type": "stream",
     "text": [
      "In and out sizes :\n",
      "fc1 : in = 784, out = 341\n",
      "fc2 : in = 341, out = 100\n",
      "fc3 : in = 100, out = 10\n"
     ]
    },
    {
     "name": "stderr",
     "output_type": "stream",
     "text": [
      "\r",
      " 83%|███████████████████████████████████████████████████████████████████████████████████████████████▊                   | 5/6 [00:12<00:02,  2.58s/it]"
     ]
    },
    {
     "name": "stdout",
     "output_type": "stream",
     "text": [
      "In and out sizes :\n",
      "fc1 : in = 784, out = 341\n",
      "fc2 : in = 341, out = 100\n",
      "fc3 : in = 100, out = 10\n"
     ]
    },
    {
     "name": "stderr",
     "output_type": "stream",
     "text": [
      "\r",
      "100%|███████████████████████████████████████████████████████████████████████████████████████████████████████████████████| 6/6 [00:15<00:00,  2.58s/it]"
     ]
    },
    {
     "name": "stderr",
     "output_type": "stream",
     "text": [
      "\r",
      "100%|███████████████████████████████████████████████████████████████████████████████████████████████████████████████████| 6/6 [00:15<00:00,  2.58s/it]"
     ]
    },
    {
     "name": "stderr",
     "output_type": "stream",
     "text": [
      "\n"
     ]
    }
   ],
   "source": [
    "test_accs_matrix, best_params_list, model = run_HPO(HPO_settings, method_settings, benchmarks_list[0], device, global_seed)"
   ]
  },
  {
   "cell_type": "markdown",
   "id": "318c2dfc",
   "metadata": {
    "papermill": {
     "duration": 0.016565,
     "end_time": "2024-07-05T13:27:45.937935",
     "exception": false,
     "start_time": "2024-07-05T13:27:45.921370",
     "status": "completed"
    },
    "tags": []
   },
   "source": [
    "## Visualize results"
   ]
  },
  {
   "cell_type": "code",
   "execution_count": 9,
   "id": "33bca18a",
   "metadata": {
    "execution": {
     "iopub.execute_input": "2024-07-05T13:27:45.962718Z",
     "iopub.status.busy": "2024-07-05T13:27:45.962601Z",
     "iopub.status.idle": "2024-07-05T13:27:45.965114Z",
     "shell.execute_reply": "2024-07-05T13:27:45.964770Z"
    },
    "papermill": {
     "duration": 0.015675,
     "end_time": "2024-07-05T13:27:45.965704",
     "exception": false,
     "start_time": "2024-07-05T13:27:45.950029",
     "status": "completed"
    },
    "tags": []
   },
   "outputs": [],
   "source": [
    "visualize_HPO(test_accs_matrix, best_params_list, visualization_settings, HPO_settings, method_settings, benchmark_settings)"
   ]
  },
  {
   "cell_type": "markdown",
   "id": "c679db1b",
   "metadata": {
    "papermill": {
     "duration": 0.01235,
     "end_time": "2024-07-05T13:27:45.990694",
     "exception": false,
     "start_time": "2024-07-05T13:27:45.978344",
     "status": "completed"
    },
    "tags": []
   },
   "source": [
    "## Validate"
   ]
  },
  {
   "cell_type": "code",
   "execution_count": 10,
   "id": "26998afb",
   "metadata": {
    "execution": {
     "iopub.execute_input": "2024-07-05T13:27:46.015688Z",
     "iopub.status.busy": "2024-07-05T13:27:46.015489Z",
     "iopub.status.idle": "2024-07-05T13:32:24.573128Z",
     "shell.execute_reply": "2024-07-05T13:32:24.572704Z"
    },
    "papermill": {
     "duration": 278.571113,
     "end_time": "2024-07-05T13:32:24.573993",
     "exception": false,
     "start_time": "2024-07-05T13:27:46.002880",
     "status": "completed"
    },
    "tags": []
   },
   "outputs": [
    {
     "name": "stdout",
     "output_type": "stream",
     "text": [
      "\n",
      "==================================================\n",
      "BENCHMARK 0\n",
      "\n",
      "--------------------------------------------------\n",
      "LEARNING TASK 1\n"
     ]
    },
    {
     "name": "stderr",
     "output_type": "stream",
     "text": [
      "\r",
      "  0%|                                                                                                                           | 0/6 [00:00<?, ?it/s]"
     ]
    },
    {
     "name": "stdout",
     "output_type": "stream",
     "text": [
      "In and out sizes :\n",
      "fc1 : in = 784, out = 100\n",
      "fc2 : in = 100, out = 100\n",
      "fc3 : in = 100, out = 10\n"
     ]
    },
    {
     "name": "stderr",
     "output_type": "stream",
     "text": [
      "\r",
      " 17%|███████████████████▏                                                                                               | 1/6 [00:02<00:12,  2.58s/it]"
     ]
    },
    {
     "name": "stdout",
     "output_type": "stream",
     "text": [
      "In and out sizes :\n",
      "fc1 : in = 784, out = 100\n",
      "fc2 : in = 100, out = 100\n",
      "fc3 : in = 100, out = 10\n"
     ]
    },
    {
     "name": "stderr",
     "output_type": "stream",
     "text": [
      "\r",
      " 33%|██████████████████████████████████████▎                                                                            | 2/6 [00:05<00:10,  2.57s/it]"
     ]
    },
    {
     "name": "stdout",
     "output_type": "stream",
     "text": [
      "In and out sizes :\n",
      "fc1 : in = 784, out = 100\n",
      "fc2 : in = 100, out = 100\n",
      "fc3 : in = 100, out = 10\n"
     ]
    },
    {
     "name": "stderr",
     "output_type": "stream",
     "text": [
      "\r",
      " 50%|█████████████████████████████████████████████████████████▌                                                         | 3/6 [00:07<00:07,  2.57s/it]"
     ]
    },
    {
     "name": "stdout",
     "output_type": "stream",
     "text": [
      "In and out sizes :\n",
      "fc1 : in = 784, out = 100\n",
      "fc2 : in = 100, out = 100\n",
      "fc3 : in = 100, out = 10\n"
     ]
    },
    {
     "name": "stderr",
     "output_type": "stream",
     "text": [
      "\r",
      " 67%|████████████████████████████████████████████████████████████████████████████▋                                      | 4/6 [00:10<00:05,  2.57s/it]"
     ]
    },
    {
     "name": "stdout",
     "output_type": "stream",
     "text": [
      "In and out sizes :\n",
      "fc1 : in = 784, out = 100\n",
      "fc2 : in = 100, out = 100\n",
      "fc3 : in = 100, out = 10\n"
     ]
    },
    {
     "name": "stderr",
     "output_type": "stream",
     "text": [
      "\r",
      " 83%|███████████████████████████████████████████████████████████████████████████████████████████████▊                   | 5/6 [00:12<00:02,  2.57s/it]"
     ]
    },
    {
     "name": "stdout",
     "output_type": "stream",
     "text": [
      "In and out sizes :\n",
      "fc1 : in = 784, out = 100\n",
      "fc2 : in = 100, out = 100\n",
      "fc3 : in = 100, out = 10\n"
     ]
    },
    {
     "name": "stderr",
     "output_type": "stream",
     "text": [
      "\r",
      "100%|███████████████████████████████████████████████████████████████████████████████████████████████████████████████████| 6/6 [00:15<00:00,  2.57s/it]"
     ]
    },
    {
     "name": "stderr",
     "output_type": "stream",
     "text": [
      "\r",
      "100%|███████████████████████████████████████████████████████████████████████████████████████████████████████████████████| 6/6 [00:15<00:00,  2.57s/it]"
     ]
    },
    {
     "name": "stderr",
     "output_type": "stream",
     "text": [
      "\n"
     ]
    },
    {
     "name": "stdout",
     "output_type": "stream",
     "text": [
      "\n",
      "--------------------------------------------------\n",
      "LEARNING TASK 2\n"
     ]
    },
    {
     "name": "stderr",
     "output_type": "stream",
     "text": [
      "\r",
      "  0%|                                                                                                                           | 0/6 [00:00<?, ?it/s]"
     ]
    },
    {
     "name": "stdout",
     "output_type": "stream",
     "text": [
      "In and out sizes :\n",
      "fc1 : in = 784, out = 100\n",
      "fc2 : in = 100, out = 100\n",
      "fc3 : in = 100, out = 10\n"
     ]
    },
    {
     "name": "stderr",
     "output_type": "stream",
     "text": [
      "\r",
      " 17%|███████████████████▏                                                                                               | 1/6 [00:02<00:12,  2.58s/it]"
     ]
    },
    {
     "name": "stdout",
     "output_type": "stream",
     "text": [
      "In and out sizes :\n",
      "fc1 : in = 784, out = 100\n",
      "fc2 : in = 100, out = 100\n",
      "fc3 : in = 100, out = 10\n"
     ]
    },
    {
     "name": "stderr",
     "output_type": "stream",
     "text": [
      "\r",
      " 33%|██████████████████████████████████████▎                                                                            | 2/6 [00:05<00:10,  2.58s/it]"
     ]
    },
    {
     "name": "stdout",
     "output_type": "stream",
     "text": [
      "In and out sizes :\n",
      "fc1 : in = 784, out = 100\n",
      "fc2 : in = 100, out = 100\n",
      "fc3 : in = 100, out = 10\n"
     ]
    },
    {
     "name": "stderr",
     "output_type": "stream",
     "text": [
      "\r",
      " 50%|█████████████████████████████████████████████████████████▌                                                         | 3/6 [00:07<00:07,  2.58s/it]"
     ]
    },
    {
     "name": "stdout",
     "output_type": "stream",
     "text": [
      "In and out sizes :\n",
      "fc1 : in = 784, out = 100\n",
      "fc2 : in = 100, out = 100\n",
      "fc3 : in = 100, out = 10\n"
     ]
    },
    {
     "name": "stderr",
     "output_type": "stream",
     "text": [
      "\r",
      " 67%|████████████████████████████████████████████████████████████████████████████▋                                      | 4/6 [00:10<00:05,  2.58s/it]"
     ]
    },
    {
     "name": "stdout",
     "output_type": "stream",
     "text": [
      "In and out sizes :\n",
      "fc1 : in = 784, out = 100\n",
      "fc2 : in = 100, out = 100\n",
      "fc3 : in = 100, out = 10\n"
     ]
    },
    {
     "name": "stderr",
     "output_type": "stream",
     "text": [
      "\r",
      " 83%|███████████████████████████████████████████████████████████████████████████████████████████████▊                   | 5/6 [00:12<00:02,  2.58s/it]"
     ]
    },
    {
     "name": "stdout",
     "output_type": "stream",
     "text": [
      "In and out sizes :\n",
      "fc1 : in = 784, out = 100\n",
      "fc2 : in = 100, out = 100\n",
      "fc3 : in = 100, out = 10\n"
     ]
    },
    {
     "name": "stderr",
     "output_type": "stream",
     "text": [
      "\r",
      "100%|███████████████████████████████████████████████████████████████████████████████████████████████████████████████████| 6/6 [00:15<00:00,  2.58s/it]"
     ]
    },
    {
     "name": "stderr",
     "output_type": "stream",
     "text": [
      "\r",
      "100%|███████████████████████████████████████████████████████████████████████████████████████████████████████████████████| 6/6 [00:15<00:00,  2.58s/it]"
     ]
    },
    {
     "name": "stderr",
     "output_type": "stream",
     "text": [
      "\n"
     ]
    },
    {
     "name": "stdout",
     "output_type": "stream",
     "text": [
      "\n",
      "--------------------------------------------------\n",
      "LEARNING TASK 3\n"
     ]
    },
    {
     "name": "stderr",
     "output_type": "stream",
     "text": [
      "\r",
      "  0%|                                                                                                                           | 0/3 [00:00<?, ?it/s]"
     ]
    },
    {
     "name": "stdout",
     "output_type": "stream",
     "text": [
      "In and out sizes :\n",
      "fc1 : in = 784, out = 100\n",
      "fc2 : in = 100, out = 100\n",
      "fc3 : in = 100, out = 10\n"
     ]
    },
    {
     "name": "stderr",
     "output_type": "stream",
     "text": [
      "\r",
      " 33%|██████████████████████████████████████▎                                                                            | 1/3 [00:02<00:05,  2.59s/it]"
     ]
    },
    {
     "name": "stdout",
     "output_type": "stream",
     "text": [
      "In and out sizes :\n",
      "fc1 : in = 784, out = 100\n",
      "fc2 : in = 100, out = 100\n",
      "fc3 : in = 100, out = 10\n"
     ]
    },
    {
     "name": "stderr",
     "output_type": "stream",
     "text": [
      "\r",
      " 67%|████████████████████████████████████████████████████████████████████████████▋                                      | 2/3 [00:05<00:02,  2.58s/it]"
     ]
    },
    {
     "name": "stdout",
     "output_type": "stream",
     "text": [
      "In and out sizes :\n",
      "fc1 : in = 784, out = 143\n",
      "fc2 : in = 143, out = 100\n",
      "fc3 : in = 100, out = 10\n"
     ]
    },
    {
     "name": "stderr",
     "output_type": "stream",
     "text": [
      "\r",
      "100%|███████████████████████████████████████████████████████████████████████████████████████████████████████████████████| 3/3 [00:07<00:00,  2.58s/it]"
     ]
    },
    {
     "name": "stderr",
     "output_type": "stream",
     "text": [
      "\r",
      "100%|███████████████████████████████████████████████████████████████████████████████████████████████████████████████████| 3/3 [00:07<00:00,  2.58s/it]"
     ]
    },
    {
     "name": "stderr",
     "output_type": "stream",
     "text": [
      "\n"
     ]
    },
    {
     "name": "stdout",
     "output_type": "stream",
     "text": [
      "\n",
      "--------------------------------------------------\n",
      "LEARNING TASK 4\n"
     ]
    },
    {
     "name": "stderr",
     "output_type": "stream",
     "text": [
      "\r",
      "  0%|                                                                                                                           | 0/4 [00:00<?, ?it/s]"
     ]
    },
    {
     "name": "stdout",
     "output_type": "stream",
     "text": [
      "In and out sizes :\n",
      "fc1 : in = 784, out = 143\n",
      "fc2 : in = 143, out = 100\n",
      "fc3 : in = 100, out = 10\n"
     ]
    },
    {
     "name": "stderr",
     "output_type": "stream",
     "text": [
      "\r",
      " 25%|████████████████████████████▊                                                                                      | 1/4 [00:02<00:07,  2.59s/it]"
     ]
    },
    {
     "name": "stdout",
     "output_type": "stream",
     "text": [
      "In and out sizes :\n",
      "fc1 : in = 784, out = 143\n",
      "fc2 : in = 143, out = 100\n",
      "fc3 : in = 100, out = 10\n"
     ]
    },
    {
     "name": "stderr",
     "output_type": "stream",
     "text": [
      "\r",
      " 50%|█████████████████████████████████████████████████████████▌                                                         | 2/4 [00:05<00:05,  2.59s/it]"
     ]
    },
    {
     "name": "stdout",
     "output_type": "stream",
     "text": [
      "In and out sizes :\n",
      "fc1 : in = 784, out = 143\n",
      "fc2 : in = 143, out = 100\n",
      "fc3 : in = 100, out = 10\n"
     ]
    },
    {
     "name": "stderr",
     "output_type": "stream",
     "text": [
      "\r",
      " 75%|██████████████████████████████████████████████████████████████████████████████████████▎                            | 3/4 [00:07<00:02,  2.59s/it]"
     ]
    },
    {
     "name": "stdout",
     "output_type": "stream",
     "text": [
      "In and out sizes :\n",
      "fc1 : in = 784, out = 190\n",
      "fc2 : in = 190, out = 100\n",
      "fc3 : in = 100, out = 10\n"
     ]
    },
    {
     "name": "stderr",
     "output_type": "stream",
     "text": [
      "\r",
      "100%|███████████████████████████████████████████████████████████████████████████████████████████████████████████████████| 4/4 [00:10<00:00,  2.59s/it]"
     ]
    },
    {
     "name": "stderr",
     "output_type": "stream",
     "text": [
      "\r",
      "100%|███████████████████████████████████████████████████████████████████████████████████████████████████████████████████| 4/4 [00:10<00:00,  2.59s/it]"
     ]
    },
    {
     "name": "stderr",
     "output_type": "stream",
     "text": [
      "\n"
     ]
    },
    {
     "name": "stdout",
     "output_type": "stream",
     "text": [
      "\n",
      "--------------------------------------------------\n",
      "LEARNING TASK 5\n"
     ]
    },
    {
     "name": "stderr",
     "output_type": "stream",
     "text": [
      "\r",
      "  0%|                                                                                                                           | 0/6 [00:00<?, ?it/s]"
     ]
    },
    {
     "name": "stdout",
     "output_type": "stream",
     "text": [
      "In and out sizes :\n",
      "fc1 : in = 784, out = 190\n",
      "fc2 : in = 190, out = 100\n",
      "fc3 : in = 100, out = 10\n"
     ]
    },
    {
     "name": "stderr",
     "output_type": "stream",
     "text": [
      "\r",
      " 17%|███████████████████▏                                                                                               | 1/6 [00:02<00:12,  2.58s/it]"
     ]
    },
    {
     "name": "stdout",
     "output_type": "stream",
     "text": [
      "In and out sizes :\n",
      "fc1 : in = 784, out = 190\n",
      "fc2 : in = 190, out = 100\n",
      "fc3 : in = 100, out = 10\n"
     ]
    },
    {
     "name": "stderr",
     "output_type": "stream",
     "text": [
      "\r",
      " 33%|██████████████████████████████████████▎                                                                            | 2/6 [00:05<00:10,  2.59s/it]"
     ]
    },
    {
     "name": "stdout",
     "output_type": "stream",
     "text": [
      "In and out sizes :\n",
      "fc1 : in = 784, out = 190\n",
      "fc2 : in = 190, out = 100\n",
      "fc3 : in = 100, out = 10\n"
     ]
    },
    {
     "name": "stderr",
     "output_type": "stream",
     "text": [
      "\r",
      " 50%|█████████████████████████████████████████████████████████▌                                                         | 3/6 [00:07<00:07,  2.59s/it]"
     ]
    },
    {
     "name": "stdout",
     "output_type": "stream",
     "text": [
      "In and out sizes :\n",
      "fc1 : in = 784, out = 190\n",
      "fc2 : in = 190, out = 100\n",
      "fc3 : in = 100, out = 10\n"
     ]
    },
    {
     "name": "stderr",
     "output_type": "stream",
     "text": [
      "\r",
      " 67%|████████████████████████████████████████████████████████████████████████████▋                                      | 4/6 [00:10<00:05,  2.59s/it]"
     ]
    },
    {
     "name": "stdout",
     "output_type": "stream",
     "text": [
      "In and out sizes :\n",
      "fc1 : in = 784, out = 190\n",
      "fc2 : in = 190, out = 100\n",
      "fc3 : in = 100, out = 10\n"
     ]
    },
    {
     "name": "stderr",
     "output_type": "stream",
     "text": [
      "\r",
      " 83%|███████████████████████████████████████████████████████████████████████████████████████████████▊                   | 5/6 [00:12<00:02,  2.59s/it]"
     ]
    },
    {
     "name": "stdout",
     "output_type": "stream",
     "text": [
      "In and out sizes :\n",
      "fc1 : in = 784, out = 195\n",
      "fc2 : in = 195, out = 100\n",
      "fc3 : in = 100, out = 10\n"
     ]
    },
    {
     "name": "stderr",
     "output_type": "stream",
     "text": [
      "\r",
      "100%|███████████████████████████████████████████████████████████████████████████████████████████████████████████████████| 6/6 [00:15<00:00,  2.59s/it]"
     ]
    },
    {
     "name": "stderr",
     "output_type": "stream",
     "text": [
      "\r",
      "100%|███████████████████████████████████████████████████████████████████████████████████████████████████████████████████| 6/6 [00:15<00:00,  2.59s/it]"
     ]
    },
    {
     "name": "stderr",
     "output_type": "stream",
     "text": [
      "\n"
     ]
    },
    {
     "name": "stdout",
     "output_type": "stream",
     "text": [
      "\n",
      "==================================================\n",
      "BENCHMARK 1\n",
      "\n",
      "--------------------------------------------------\n",
      "LEARNING TASK 1\n"
     ]
    },
    {
     "name": "stderr",
     "output_type": "stream",
     "text": [
      "\r",
      "  0%|                                                                                                                           | 0/6 [00:00<?, ?it/s]"
     ]
    },
    {
     "name": "stdout",
     "output_type": "stream",
     "text": [
      "In and out sizes :\n",
      "fc1 : in = 784, out = 100\n",
      "fc2 : in = 100, out = 100\n",
      "fc3 : in = 100, out = 10\n"
     ]
    },
    {
     "name": "stderr",
     "output_type": "stream",
     "text": [
      "\r",
      " 17%|███████████████████▏                                                                                               | 1/6 [00:02<00:12,  2.57s/it]"
     ]
    },
    {
     "name": "stdout",
     "output_type": "stream",
     "text": [
      "In and out sizes :\n",
      "fc1 : in = 784, out = 100\n",
      "fc2 : in = 100, out = 100\n",
      "fc3 : in = 100, out = 10\n"
     ]
    },
    {
     "name": "stderr",
     "output_type": "stream",
     "text": [
      "\r",
      " 33%|██████████████████████████████████████▎                                                                            | 2/6 [00:05<00:10,  2.57s/it]"
     ]
    },
    {
     "name": "stdout",
     "output_type": "stream",
     "text": [
      "In and out sizes :\n",
      "fc1 : in = 784, out = 100\n",
      "fc2 : in = 100, out = 100\n",
      "fc3 : in = 100, out = 10\n"
     ]
    },
    {
     "name": "stderr",
     "output_type": "stream",
     "text": [
      "\r",
      " 50%|█████████████████████████████████████████████████████████▌                                                         | 3/6 [00:07<00:07,  2.57s/it]"
     ]
    },
    {
     "name": "stdout",
     "output_type": "stream",
     "text": [
      "In and out sizes :\n",
      "fc1 : in = 784, out = 100\n",
      "fc2 : in = 100, out = 100\n",
      "fc3 : in = 100, out = 10\n"
     ]
    },
    {
     "name": "stderr",
     "output_type": "stream",
     "text": [
      "\r",
      " 67%|████████████████████████████████████████████████████████████████████████████▋                                      | 4/6 [00:10<00:05,  2.57s/it]"
     ]
    },
    {
     "name": "stdout",
     "output_type": "stream",
     "text": [
      "In and out sizes :\n",
      "fc1 : in = 784, out = 100\n",
      "fc2 : in = 100, out = 100\n",
      "fc3 : in = 100, out = 10\n"
     ]
    },
    {
     "name": "stderr",
     "output_type": "stream",
     "text": [
      "\r",
      " 83%|███████████████████████████████████████████████████████████████████████████████████████████████▊                   | 5/6 [00:12<00:02,  2.57s/it]"
     ]
    },
    {
     "name": "stdout",
     "output_type": "stream",
     "text": [
      "In and out sizes :\n",
      "fc1 : in = 784, out = 100\n",
      "fc2 : in = 100, out = 100\n",
      "fc3 : in = 100, out = 10\n"
     ]
    },
    {
     "name": "stderr",
     "output_type": "stream",
     "text": [
      "\r",
      "100%|███████████████████████████████████████████████████████████████████████████████████████████████████████████████████| 6/6 [00:15<00:00,  2.57s/it]"
     ]
    },
    {
     "name": "stderr",
     "output_type": "stream",
     "text": [
      "\r",
      "100%|███████████████████████████████████████████████████████████████████████████████████████████████████████████████████| 6/6 [00:15<00:00,  2.57s/it]"
     ]
    },
    {
     "name": "stderr",
     "output_type": "stream",
     "text": [
      "\n"
     ]
    },
    {
     "name": "stdout",
     "output_type": "stream",
     "text": [
      "\n",
      "--------------------------------------------------\n",
      "LEARNING TASK 2\n"
     ]
    },
    {
     "name": "stderr",
     "output_type": "stream",
     "text": [
      "\r",
      "  0%|                                                                                                                           | 0/6 [00:00<?, ?it/s]"
     ]
    },
    {
     "name": "stdout",
     "output_type": "stream",
     "text": [
      "In and out sizes :\n",
      "fc1 : in = 784, out = 100\n",
      "fc2 : in = 100, out = 100\n",
      "fc3 : in = 100, out = 10\n"
     ]
    },
    {
     "name": "stderr",
     "output_type": "stream",
     "text": [
      "\r",
      " 17%|███████████████████▏                                                                                               | 1/6 [00:02<00:12,  2.58s/it]"
     ]
    },
    {
     "name": "stdout",
     "output_type": "stream",
     "text": [
      "In and out sizes :\n",
      "fc1 : in = 784, out = 100\n",
      "fc2 : in = 100, out = 100\n",
      "fc3 : in = 100, out = 10\n"
     ]
    },
    {
     "name": "stderr",
     "output_type": "stream",
     "text": [
      "\r",
      " 33%|██████████████████████████████████████▎                                                                            | 2/6 [00:05<00:10,  2.58s/it]"
     ]
    },
    {
     "name": "stdout",
     "output_type": "stream",
     "text": [
      "In and out sizes :\n",
      "fc1 : in = 784, out = 130\n",
      "fc2 : in = 130, out = 100\n",
      "fc3 : in = 100, out = 10\n"
     ]
    },
    {
     "name": "stderr",
     "output_type": "stream",
     "text": [
      "\r",
      " 50%|█████████████████████████████████████████████████████████▌                                                         | 3/6 [00:07<00:07,  2.58s/it]"
     ]
    },
    {
     "name": "stdout",
     "output_type": "stream",
     "text": [
      "In and out sizes :\n",
      "fc1 : in = 784, out = 130\n",
      "fc2 : in = 130, out = 121\n",
      "fc3 : in = 121, out = 10\n"
     ]
    },
    {
     "name": "stderr",
     "output_type": "stream",
     "text": [
      "\r",
      " 67%|████████████████████████████████████████████████████████████████████████████▋                                      | 4/6 [00:10<00:05,  2.58s/it]"
     ]
    },
    {
     "name": "stdout",
     "output_type": "stream",
     "text": [
      "In and out sizes :\n",
      "fc1 : in = 784, out = 130\n",
      "fc2 : in = 130, out = 121\n",
      "fc3 : in = 121, out = 10\n"
     ]
    },
    {
     "name": "stderr",
     "output_type": "stream",
     "text": [
      "\r",
      " 83%|███████████████████████████████████████████████████████████████████████████████████████████████▊                   | 5/6 [00:12<00:02,  2.58s/it]"
     ]
    },
    {
     "name": "stdout",
     "output_type": "stream",
     "text": [
      "In and out sizes :\n",
      "fc1 : in = 784, out = 185\n",
      "fc2 : in = 185, out = 166\n",
      "fc3 : in = 166, out = 10\n"
     ]
    },
    {
     "name": "stderr",
     "output_type": "stream",
     "text": [
      "\r",
      "100%|███████████████████████████████████████████████████████████████████████████████████████████████████████████████████| 6/6 [00:15<00:00,  2.58s/it]"
     ]
    },
    {
     "name": "stderr",
     "output_type": "stream",
     "text": [
      "\r",
      "100%|███████████████████████████████████████████████████████████████████████████████████████████████████████████████████| 6/6 [00:15<00:00,  2.58s/it]"
     ]
    },
    {
     "name": "stderr",
     "output_type": "stream",
     "text": [
      "\n"
     ]
    },
    {
     "name": "stdout",
     "output_type": "stream",
     "text": [
      "\n",
      "--------------------------------------------------\n",
      "LEARNING TASK 3\n"
     ]
    },
    {
     "name": "stderr",
     "output_type": "stream",
     "text": [
      "\r",
      "  0%|                                                                                                                           | 0/3 [00:00<?, ?it/s]"
     ]
    },
    {
     "name": "stdout",
     "output_type": "stream",
     "text": [
      "In and out sizes :\n",
      "fc1 : in = 784, out = 185\n",
      "fc2 : in = 185, out = 166\n",
      "fc3 : in = 166, out = 10\n"
     ]
    },
    {
     "name": "stderr",
     "output_type": "stream",
     "text": [
      "\r",
      " 33%|██████████████████████████████████████▎                                                                            | 1/3 [00:02<00:05,  2.58s/it]"
     ]
    },
    {
     "name": "stdout",
     "output_type": "stream",
     "text": [
      "In and out sizes :\n",
      "fc1 : in = 784, out = 185\n",
      "fc2 : in = 185, out = 166\n",
      "fc3 : in = 166, out = 10\n"
     ]
    },
    {
     "name": "stderr",
     "output_type": "stream",
     "text": [
      "\r",
      " 67%|████████████████████████████████████████████████████████████████████████████▋                                      | 2/3 [00:05<00:02,  2.58s/it]"
     ]
    },
    {
     "name": "stdout",
     "output_type": "stream",
     "text": [
      "In and out sizes :\n",
      "fc1 : in = 784, out = 261\n",
      "fc2 : in = 261, out = 166\n",
      "fc3 : in = 166, out = 10\n"
     ]
    },
    {
     "name": "stderr",
     "output_type": "stream",
     "text": [
      "\r",
      "100%|███████████████████████████████████████████████████████████████████████████████████████████████████████████████████| 3/3 [00:07<00:00,  2.58s/it]"
     ]
    },
    {
     "name": "stderr",
     "output_type": "stream",
     "text": [
      "\r",
      "100%|███████████████████████████████████████████████████████████████████████████████████████████████████████████████████| 3/3 [00:07<00:00,  2.58s/it]"
     ]
    },
    {
     "name": "stderr",
     "output_type": "stream",
     "text": [
      "\n"
     ]
    },
    {
     "name": "stdout",
     "output_type": "stream",
     "text": [
      "\n",
      "--------------------------------------------------\n",
      "LEARNING TASK 4\n"
     ]
    },
    {
     "name": "stderr",
     "output_type": "stream",
     "text": [
      "\r",
      "  0%|                                                                                                                           | 0/4 [00:00<?, ?it/s]"
     ]
    },
    {
     "name": "stdout",
     "output_type": "stream",
     "text": [
      "In and out sizes :\n",
      "fc1 : in = 784, out = 261\n",
      "fc2 : in = 261, out = 166\n",
      "fc3 : in = 166, out = 10\n"
     ]
    },
    {
     "name": "stderr",
     "output_type": "stream",
     "text": [
      "\r",
      " 25%|████████████████████████████▊                                                                                      | 1/4 [00:02<00:07,  2.58s/it]"
     ]
    },
    {
     "name": "stdout",
     "output_type": "stream",
     "text": [
      "In and out sizes :\n",
      "fc1 : in = 784, out = 261\n",
      "fc2 : in = 261, out = 166\n",
      "fc3 : in = 166, out = 10\n"
     ]
    },
    {
     "name": "stderr",
     "output_type": "stream",
     "text": [
      "\r",
      " 50%|█████████████████████████████████████████████████████████▌                                                         | 2/4 [00:05<00:05,  2.58s/it]"
     ]
    },
    {
     "name": "stdout",
     "output_type": "stream",
     "text": [
      "In and out sizes :\n",
      "fc1 : in = 784, out = 261\n",
      "fc2 : in = 261, out = 166\n",
      "fc3 : in = 166, out = 10\n"
     ]
    },
    {
     "name": "stderr",
     "output_type": "stream",
     "text": [
      "\r",
      " 75%|██████████████████████████████████████████████████████████████████████████████████████▎                            | 3/4 [00:07<00:02,  2.58s/it]"
     ]
    },
    {
     "name": "stdout",
     "output_type": "stream",
     "text": [
      "In and out sizes :\n",
      "fc1 : in = 784, out = 261\n",
      "fc2 : in = 261, out = 166\n",
      "fc3 : in = 166, out = 10\n"
     ]
    },
    {
     "name": "stderr",
     "output_type": "stream",
     "text": [
      "\r",
      "100%|███████████████████████████████████████████████████████████████████████████████████████████████████████████████████| 4/4 [00:10<00:00,  2.58s/it]"
     ]
    },
    {
     "name": "stderr",
     "output_type": "stream",
     "text": [
      "\r",
      "100%|███████████████████████████████████████████████████████████████████████████████████████████████████████████████████| 4/4 [00:10<00:00,  2.58s/it]"
     ]
    },
    {
     "name": "stderr",
     "output_type": "stream",
     "text": [
      "\n"
     ]
    },
    {
     "name": "stdout",
     "output_type": "stream",
     "text": [
      "\n",
      "--------------------------------------------------\n",
      "LEARNING TASK 5\n"
     ]
    },
    {
     "name": "stderr",
     "output_type": "stream",
     "text": [
      "\r",
      "  0%|                                                                                                                           | 0/6 [00:00<?, ?it/s]"
     ]
    },
    {
     "name": "stdout",
     "output_type": "stream",
     "text": [
      "In and out sizes :\n",
      "fc1 : in = 784, out = 261\n",
      "fc2 : in = 261, out = 166\n",
      "fc3 : in = 166, out = 10\n"
     ]
    },
    {
     "name": "stderr",
     "output_type": "stream",
     "text": [
      "\r",
      " 17%|███████████████████▏                                                                                               | 1/6 [00:02<00:12,  2.59s/it]"
     ]
    },
    {
     "name": "stdout",
     "output_type": "stream",
     "text": [
      "In and out sizes :\n",
      "fc1 : in = 784, out = 261\n",
      "fc2 : in = 261, out = 166\n",
      "fc3 : in = 166, out = 10\n"
     ]
    },
    {
     "name": "stderr",
     "output_type": "stream",
     "text": [
      "\r",
      " 33%|██████████████████████████████████████▎                                                                            | 2/6 [00:05<00:10,  2.59s/it]"
     ]
    },
    {
     "name": "stdout",
     "output_type": "stream",
     "text": [
      "In and out sizes :\n",
      "fc1 : in = 784, out = 261\n",
      "fc2 : in = 261, out = 166\n",
      "fc3 : in = 166, out = 10\n"
     ]
    },
    {
     "name": "stderr",
     "output_type": "stream",
     "text": [
      "\r",
      " 50%|█████████████████████████████████████████████████████████▌                                                         | 3/6 [00:07<00:07,  2.59s/it]"
     ]
    },
    {
     "name": "stdout",
     "output_type": "stream",
     "text": [
      "In and out sizes :\n",
      "fc1 : in = 784, out = 382\n",
      "fc2 : in = 382, out = 166\n",
      "fc3 : in = 166, out = 10\n"
     ]
    },
    {
     "name": "stderr",
     "output_type": "stream",
     "text": [
      "\r",
      " 67%|████████████████████████████████████████████████████████████████████████████▋                                      | 4/6 [00:10<00:05,  2.59s/it]"
     ]
    },
    {
     "name": "stdout",
     "output_type": "stream",
     "text": [
      "In and out sizes :\n",
      "fc1 : in = 784, out = 382\n",
      "fc2 : in = 382, out = 166\n",
      "fc3 : in = 166, out = 10\n"
     ]
    },
    {
     "name": "stderr",
     "output_type": "stream",
     "text": [
      "\r",
      " 83%|███████████████████████████████████████████████████████████████████████████████████████████████▊                   | 5/6 [00:12<00:02,  2.58s/it]"
     ]
    },
    {
     "name": "stdout",
     "output_type": "stream",
     "text": [
      "In and out sizes :\n",
      "fc1 : in = 784, out = 382\n",
      "fc2 : in = 382, out = 166\n",
      "fc3 : in = 166, out = 10\n"
     ]
    },
    {
     "name": "stderr",
     "output_type": "stream",
     "text": [
      "\r",
      "100%|███████████████████████████████████████████████████████████████████████████████████████████████████████████████████| 6/6 [00:15<00:00,  2.58s/it]"
     ]
    },
    {
     "name": "stderr",
     "output_type": "stream",
     "text": [
      "\r",
      "100%|███████████████████████████████████████████████████████████████████████████████████████████████████████████████████| 6/6 [00:15<00:00,  2.59s/it]"
     ]
    },
    {
     "name": "stderr",
     "output_type": "stream",
     "text": [
      "\n"
     ]
    },
    {
     "name": "stdout",
     "output_type": "stream",
     "text": [
      "\n",
      "==================================================\n",
      "BENCHMARK 2\n",
      "\n",
      "--------------------------------------------------\n",
      "LEARNING TASK 1\n"
     ]
    },
    {
     "name": "stderr",
     "output_type": "stream",
     "text": [
      "\r",
      "  0%|                                                                                                                           | 0/6 [00:00<?, ?it/s]"
     ]
    },
    {
     "name": "stdout",
     "output_type": "stream",
     "text": [
      "In and out sizes :\n",
      "fc1 : in = 784, out = 100\n",
      "fc2 : in = 100, out = 100\n",
      "fc3 : in = 100, out = 10\n"
     ]
    },
    {
     "name": "stderr",
     "output_type": "stream",
     "text": [
      "\r",
      " 17%|███████████████████▏                                                                                               | 1/6 [00:02<00:12,  2.57s/it]"
     ]
    },
    {
     "name": "stdout",
     "output_type": "stream",
     "text": [
      "In and out sizes :\n",
      "fc1 : in = 784, out = 100\n",
      "fc2 : in = 100, out = 100\n",
      "fc3 : in = 100, out = 10\n"
     ]
    },
    {
     "name": "stderr",
     "output_type": "stream",
     "text": [
      "\r",
      " 33%|██████████████████████████████████████▎                                                                            | 2/6 [00:05<00:10,  2.57s/it]"
     ]
    },
    {
     "name": "stdout",
     "output_type": "stream",
     "text": [
      "In and out sizes :\n",
      "fc1 : in = 784, out = 100\n",
      "fc2 : in = 100, out = 100\n",
      "fc3 : in = 100, out = 10\n"
     ]
    },
    {
     "name": "stderr",
     "output_type": "stream",
     "text": [
      "\r",
      " 50%|█████████████████████████████████████████████████████████▌                                                         | 3/6 [00:07<00:07,  2.57s/it]"
     ]
    },
    {
     "name": "stdout",
     "output_type": "stream",
     "text": [
      "In and out sizes :\n",
      "fc1 : in = 784, out = 100\n",
      "fc2 : in = 100, out = 100\n",
      "fc3 : in = 100, out = 10\n"
     ]
    },
    {
     "name": "stderr",
     "output_type": "stream",
     "text": [
      "\r",
      " 67%|████████████████████████████████████████████████████████████████████████████▋                                      | 4/6 [00:10<00:05,  2.57s/it]"
     ]
    },
    {
     "name": "stdout",
     "output_type": "stream",
     "text": [
      "In and out sizes :\n",
      "fc1 : in = 784, out = 100\n",
      "fc2 : in = 100, out = 100\n",
      "fc3 : in = 100, out = 10\n"
     ]
    },
    {
     "name": "stderr",
     "output_type": "stream",
     "text": [
      "\r",
      " 83%|███████████████████████████████████████████████████████████████████████████████████████████████▊                   | 5/6 [00:12<00:02,  2.57s/it]"
     ]
    },
    {
     "name": "stdout",
     "output_type": "stream",
     "text": [
      "In and out sizes :\n",
      "fc1 : in = 784, out = 100\n",
      "fc2 : in = 100, out = 100\n",
      "fc3 : in = 100, out = 10\n"
     ]
    },
    {
     "name": "stderr",
     "output_type": "stream",
     "text": [
      "\r",
      "100%|███████████████████████████████████████████████████████████████████████████████████████████████████████████████████| 6/6 [00:15<00:00,  2.57s/it]"
     ]
    },
    {
     "name": "stderr",
     "output_type": "stream",
     "text": [
      "\r",
      "100%|███████████████████████████████████████████████████████████████████████████████████████████████████████████████████| 6/6 [00:15<00:00,  2.57s/it]"
     ]
    },
    {
     "name": "stderr",
     "output_type": "stream",
     "text": [
      "\n"
     ]
    },
    {
     "name": "stdout",
     "output_type": "stream",
     "text": [
      "\n",
      "--------------------------------------------------\n",
      "LEARNING TASK 2\n"
     ]
    },
    {
     "name": "stderr",
     "output_type": "stream",
     "text": [
      "\r",
      "  0%|                                                                                                                           | 0/6 [00:00<?, ?it/s]"
     ]
    },
    {
     "name": "stdout",
     "output_type": "stream",
     "text": [
      "In and out sizes :\n",
      "fc1 : in = 784, out = 100\n",
      "fc2 : in = 100, out = 100\n",
      "fc3 : in = 100, out = 10\n"
     ]
    },
    {
     "name": "stderr",
     "output_type": "stream",
     "text": [
      "\r",
      " 17%|███████████████████▏                                                                                               | 1/6 [00:02<00:12,  2.58s/it]"
     ]
    },
    {
     "name": "stdout",
     "output_type": "stream",
     "text": [
      "In and out sizes :\n",
      "fc1 : in = 784, out = 100\n",
      "fc2 : in = 100, out = 100\n",
      "fc3 : in = 100, out = 10\n"
     ]
    },
    {
     "name": "stderr",
     "output_type": "stream",
     "text": [
      "\r",
      " 33%|██████████████████████████████████████▎                                                                            | 2/6 [00:05<00:10,  2.59s/it]"
     ]
    },
    {
     "name": "stdout",
     "output_type": "stream",
     "text": [
      "In and out sizes :\n",
      "fc1 : in = 784, out = 100\n",
      "fc2 : in = 100, out = 100\n",
      "fc3 : in = 100, out = 10\n"
     ]
    },
    {
     "name": "stderr",
     "output_type": "stream",
     "text": [
      "\r",
      " 50%|█████████████████████████████████████████████████████████▌                                                         | 3/6 [00:07<00:07,  2.58s/it]"
     ]
    },
    {
     "name": "stdout",
     "output_type": "stream",
     "text": [
      "In and out sizes :\n",
      "fc1 : in = 784, out = 100\n",
      "fc2 : in = 100, out = 100\n",
      "fc3 : in = 100, out = 10\n"
     ]
    },
    {
     "name": "stderr",
     "output_type": "stream",
     "text": [
      "\r",
      " 67%|████████████████████████████████████████████████████████████████████████████▋                                      | 4/6 [00:10<00:05,  2.59s/it]"
     ]
    },
    {
     "name": "stdout",
     "output_type": "stream",
     "text": [
      "In and out sizes :\n",
      "fc1 : in = 784, out = 100\n",
      "fc2 : in = 100, out = 100\n",
      "fc3 : in = 100, out = 10\n"
     ]
    },
    {
     "name": "stderr",
     "output_type": "stream",
     "text": [
      "\r",
      " 83%|███████████████████████████████████████████████████████████████████████████████████████████████▊                   | 5/6 [00:12<00:02,  2.58s/it]"
     ]
    },
    {
     "name": "stdout",
     "output_type": "stream",
     "text": [
      "In and out sizes :\n",
      "fc1 : in = 784, out = 100\n",
      "fc2 : in = 100, out = 100\n",
      "fc3 : in = 100, out = 10\n"
     ]
    },
    {
     "name": "stderr",
     "output_type": "stream",
     "text": [
      "\r",
      "100%|███████████████████████████████████████████████████████████████████████████████████████████████████████████████████| 6/6 [00:15<00:00,  2.58s/it]"
     ]
    },
    {
     "name": "stderr",
     "output_type": "stream",
     "text": [
      "\r",
      "100%|███████████████████████████████████████████████████████████████████████████████████████████████████████████████████| 6/6 [00:15<00:00,  2.58s/it]"
     ]
    },
    {
     "name": "stderr",
     "output_type": "stream",
     "text": [
      "\n"
     ]
    },
    {
     "name": "stdout",
     "output_type": "stream",
     "text": [
      "\n",
      "--------------------------------------------------\n",
      "LEARNING TASK 3\n"
     ]
    },
    {
     "name": "stderr",
     "output_type": "stream",
     "text": [
      "\r",
      "  0%|                                                                                                                           | 0/3 [00:00<?, ?it/s]"
     ]
    },
    {
     "name": "stdout",
     "output_type": "stream",
     "text": [
      "In and out sizes :\n",
      "fc1 : in = 784, out = 100\n",
      "fc2 : in = 100, out = 100\n",
      "fc3 : in = 100, out = 10\n"
     ]
    },
    {
     "name": "stderr",
     "output_type": "stream",
     "text": [
      "\r",
      " 33%|██████████████████████████████████████▎                                                                            | 1/3 [00:02<00:05,  2.58s/it]"
     ]
    },
    {
     "name": "stdout",
     "output_type": "stream",
     "text": [
      "In and out sizes :\n",
      "fc1 : in = 784, out = 100\n",
      "fc2 : in = 100, out = 100\n",
      "fc3 : in = 100, out = 10\n"
     ]
    },
    {
     "name": "stderr",
     "output_type": "stream",
     "text": [
      "\r",
      " 67%|████████████████████████████████████████████████████████████████████████████▋                                      | 2/3 [00:05<00:02,  2.58s/it]"
     ]
    },
    {
     "name": "stdout",
     "output_type": "stream",
     "text": [
      "In and out sizes :\n",
      "fc1 : in = 784, out = 100\n",
      "fc2 : in = 100, out = 100\n",
      "fc3 : in = 100, out = 10\n"
     ]
    },
    {
     "name": "stderr",
     "output_type": "stream",
     "text": [
      "\r",
      "100%|███████████████████████████████████████████████████████████████████████████████████████████████████████████████████| 3/3 [00:07<00:00,  2.58s/it]"
     ]
    },
    {
     "name": "stderr",
     "output_type": "stream",
     "text": [
      "\r",
      "100%|███████████████████████████████████████████████████████████████████████████████████████████████████████████████████| 3/3 [00:07<00:00,  2.58s/it]"
     ]
    },
    {
     "name": "stderr",
     "output_type": "stream",
     "text": [
      "\n"
     ]
    },
    {
     "name": "stdout",
     "output_type": "stream",
     "text": [
      "\n",
      "--------------------------------------------------\n",
      "LEARNING TASK 4\n"
     ]
    },
    {
     "name": "stderr",
     "output_type": "stream",
     "text": [
      "\r",
      "  0%|                                                                                                                           | 0/4 [00:00<?, ?it/s]"
     ]
    },
    {
     "name": "stdout",
     "output_type": "stream",
     "text": [
      "In and out sizes :\n",
      "fc1 : in = 784, out = 100\n",
      "fc2 : in = 100, out = 100\n",
      "fc3 : in = 100, out = 10\n"
     ]
    },
    {
     "name": "stderr",
     "output_type": "stream",
     "text": [
      "\r",
      " 25%|████████████████████████████▊                                                                                      | 1/4 [00:02<00:07,  2.59s/it]"
     ]
    },
    {
     "name": "stdout",
     "output_type": "stream",
     "text": [
      "In and out sizes :\n",
      "fc1 : in = 784, out = 100\n",
      "fc2 : in = 100, out = 100\n",
      "fc3 : in = 100, out = 10\n"
     ]
    },
    {
     "name": "stderr",
     "output_type": "stream",
     "text": [
      "\r",
      " 50%|█████████████████████████████████████████████████████████▌                                                         | 2/4 [00:05<00:05,  2.58s/it]"
     ]
    },
    {
     "name": "stdout",
     "output_type": "stream",
     "text": [
      "In and out sizes :\n",
      "fc1 : in = 784, out = 128\n",
      "fc2 : in = 128, out = 100\n",
      "fc3 : in = 100, out = 10\n"
     ]
    },
    {
     "name": "stderr",
     "output_type": "stream",
     "text": [
      "\r",
      " 75%|██████████████████████████████████████████████████████████████████████████████████████▎                            | 3/4 [00:07<00:02,  2.58s/it]"
     ]
    },
    {
     "name": "stdout",
     "output_type": "stream",
     "text": [
      "In and out sizes :\n",
      "fc1 : in = 784, out = 128\n",
      "fc2 : in = 128, out = 100\n",
      "fc3 : in = 100, out = 10\n"
     ]
    },
    {
     "name": "stderr",
     "output_type": "stream",
     "text": [
      "\r",
      "100%|███████████████████████████████████████████████████████████████████████████████████████████████████████████████████| 4/4 [00:10<00:00,  2.58s/it]"
     ]
    },
    {
     "name": "stderr",
     "output_type": "stream",
     "text": [
      "\r",
      "100%|███████████████████████████████████████████████████████████████████████████████████████████████████████████████████| 4/4 [00:10<00:00,  2.58s/it]"
     ]
    },
    {
     "name": "stderr",
     "output_type": "stream",
     "text": [
      "\n"
     ]
    },
    {
     "name": "stdout",
     "output_type": "stream",
     "text": [
      "\n",
      "--------------------------------------------------\n",
      "LEARNING TASK 5\n"
     ]
    },
    {
     "name": "stderr",
     "output_type": "stream",
     "text": [
      "\r",
      "  0%|                                                                                                                           | 0/6 [00:00<?, ?it/s]"
     ]
    },
    {
     "name": "stdout",
     "output_type": "stream",
     "text": [
      "In and out sizes :\n",
      "fc1 : in = 784, out = 128\n",
      "fc2 : in = 128, out = 103\n",
      "fc3 : in = 103, out = 10\n"
     ]
    },
    {
     "name": "stderr",
     "output_type": "stream",
     "text": [
      "\r",
      " 17%|███████████████████▏                                                                                               | 1/6 [00:02<00:12,  2.58s/it]"
     ]
    },
    {
     "name": "stdout",
     "output_type": "stream",
     "text": [
      "In and out sizes :\n",
      "fc1 : in = 784, out = 128\n",
      "fc2 : in = 128, out = 103\n",
      "fc3 : in = 103, out = 10\n"
     ]
    },
    {
     "name": "stderr",
     "output_type": "stream",
     "text": [
      "\r",
      " 33%|██████████████████████████████████████▎                                                                            | 2/6 [00:05<00:10,  2.58s/it]"
     ]
    },
    {
     "name": "stdout",
     "output_type": "stream",
     "text": [
      "In and out sizes :\n",
      "fc1 : in = 784, out = 128\n",
      "fc2 : in = 128, out = 103\n",
      "fc3 : in = 103, out = 10\n"
     ]
    },
    {
     "name": "stderr",
     "output_type": "stream",
     "text": [
      "\r",
      " 50%|█████████████████████████████████████████████████████████▌                                                         | 3/6 [00:07<00:07,  2.58s/it]"
     ]
    },
    {
     "name": "stdout",
     "output_type": "stream",
     "text": [
      "In and out sizes :\n",
      "fc1 : in = 784, out = 128\n",
      "fc2 : in = 128, out = 103\n",
      "fc3 : in = 103, out = 10\n"
     ]
    },
    {
     "name": "stderr",
     "output_type": "stream",
     "text": [
      "\r",
      " 67%|████████████████████████████████████████████████████████████████████████████▋                                      | 4/6 [00:10<00:05,  2.58s/it]"
     ]
    },
    {
     "name": "stdout",
     "output_type": "stream",
     "text": [
      "In and out sizes :\n",
      "fc1 : in = 784, out = 128\n",
      "fc2 : in = 128, out = 103\n",
      "fc3 : in = 103, out = 10\n"
     ]
    },
    {
     "name": "stderr",
     "output_type": "stream",
     "text": [
      "\r",
      " 83%|███████████████████████████████████████████████████████████████████████████████████████████████▊                   | 5/6 [00:12<00:02,  2.58s/it]"
     ]
    },
    {
     "name": "stdout",
     "output_type": "stream",
     "text": [
      "In and out sizes :\n",
      "fc1 : in = 784, out = 128\n",
      "fc2 : in = 128, out = 103\n",
      "fc3 : in = 103, out = 10\n"
     ]
    },
    {
     "name": "stderr",
     "output_type": "stream",
     "text": [
      "\r",
      "100%|███████████████████████████████████████████████████████████████████████████████████████████████████████████████████| 6/6 [00:15<00:00,  2.58s/it]"
     ]
    },
    {
     "name": "stderr",
     "output_type": "stream",
     "text": [
      "\r",
      "100%|███████████████████████████████████████████████████████████████████████████████████████████████████████████████████| 6/6 [00:15<00:00,  2.58s/it]"
     ]
    },
    {
     "name": "stderr",
     "output_type": "stream",
     "text": [
      "\n"
     ]
    },
    {
     "name": "stdout",
     "output_type": "stream",
     "text": [
      "\n",
      "==================================================\n",
      "BENCHMARK 3\n",
      "\n",
      "--------------------------------------------------\n",
      "LEARNING TASK 1\n"
     ]
    },
    {
     "name": "stderr",
     "output_type": "stream",
     "text": [
      "\r",
      "  0%|                                                                                                                           | 0/6 [00:00<?, ?it/s]"
     ]
    },
    {
     "name": "stdout",
     "output_type": "stream",
     "text": [
      "In and out sizes :\n",
      "fc1 : in = 784, out = 100\n",
      "fc2 : in = 100, out = 100\n",
      "fc3 : in = 100, out = 10\n"
     ]
    },
    {
     "name": "stderr",
     "output_type": "stream",
     "text": [
      "\r",
      " 17%|███████████████████▏                                                                                               | 1/6 [00:02<00:12,  2.56s/it]"
     ]
    },
    {
     "name": "stdout",
     "output_type": "stream",
     "text": [
      "In and out sizes :\n",
      "fc1 : in = 784, out = 100\n",
      "fc2 : in = 100, out = 100\n",
      "fc3 : in = 100, out = 10\n"
     ]
    },
    {
     "name": "stderr",
     "output_type": "stream",
     "text": [
      "\r",
      " 33%|██████████████████████████████████████▎                                                                            | 2/6 [00:05<00:10,  2.57s/it]"
     ]
    },
    {
     "name": "stdout",
     "output_type": "stream",
     "text": [
      "In and out sizes :\n",
      "fc1 : in = 784, out = 100\n",
      "fc2 : in = 100, out = 100\n",
      "fc3 : in = 100, out = 10\n"
     ]
    },
    {
     "name": "stderr",
     "output_type": "stream",
     "text": [
      "\r",
      " 50%|█████████████████████████████████████████████████████████▌                                                         | 3/6 [00:07<00:07,  2.57s/it]"
     ]
    },
    {
     "name": "stdout",
     "output_type": "stream",
     "text": [
      "In and out sizes :\n",
      "fc1 : in = 784, out = 100\n",
      "fc2 : in = 100, out = 100\n",
      "fc3 : in = 100, out = 10\n"
     ]
    },
    {
     "name": "stderr",
     "output_type": "stream",
     "text": [
      "\r",
      " 67%|████████████████████████████████████████████████████████████████████████████▋                                      | 4/6 [00:10<00:05,  2.57s/it]"
     ]
    },
    {
     "name": "stdout",
     "output_type": "stream",
     "text": [
      "In and out sizes :\n",
      "fc1 : in = 784, out = 100\n",
      "fc2 : in = 100, out = 100\n",
      "fc3 : in = 100, out = 10\n"
     ]
    },
    {
     "name": "stderr",
     "output_type": "stream",
     "text": [
      "\r",
      " 83%|███████████████████████████████████████████████████████████████████████████████████████████████▊                   | 5/6 [00:12<00:02,  2.57s/it]"
     ]
    },
    {
     "name": "stdout",
     "output_type": "stream",
     "text": [
      "In and out sizes :\n",
      "fc1 : in = 784, out = 100\n",
      "fc2 : in = 100, out = 100\n",
      "fc3 : in = 100, out = 10\n"
     ]
    },
    {
     "name": "stderr",
     "output_type": "stream",
     "text": [
      "\r",
      "100%|███████████████████████████████████████████████████████████████████████████████████████████████████████████████████| 6/6 [00:15<00:00,  2.57s/it]"
     ]
    },
    {
     "name": "stderr",
     "output_type": "stream",
     "text": [
      "\r",
      "100%|███████████████████████████████████████████████████████████████████████████████████████████████████████████████████| 6/6 [00:15<00:00,  2.57s/it]"
     ]
    },
    {
     "name": "stderr",
     "output_type": "stream",
     "text": [
      "\n"
     ]
    },
    {
     "name": "stdout",
     "output_type": "stream",
     "text": [
      "\n",
      "--------------------------------------------------\n",
      "LEARNING TASK 2\n"
     ]
    },
    {
     "name": "stderr",
     "output_type": "stream",
     "text": [
      "\r",
      "  0%|                                                                                                                           | 0/6 [00:00<?, ?it/s]"
     ]
    },
    {
     "name": "stdout",
     "output_type": "stream",
     "text": [
      "In and out sizes :\n",
      "fc1 : in = 784, out = 100\n",
      "fc2 : in = 100, out = 100\n",
      "fc3 : in = 100, out = 10\n"
     ]
    },
    {
     "name": "stderr",
     "output_type": "stream",
     "text": [
      "\r",
      " 17%|███████████████████▏                                                                                               | 1/6 [00:02<00:12,  2.57s/it]"
     ]
    },
    {
     "name": "stdout",
     "output_type": "stream",
     "text": [
      "In and out sizes :\n",
      "fc1 : in = 784, out = 100\n",
      "fc2 : in = 100, out = 100\n",
      "fc3 : in = 100, out = 10\n"
     ]
    },
    {
     "name": "stderr",
     "output_type": "stream",
     "text": [
      "\r",
      " 33%|██████████████████████████████████████▎                                                                            | 2/6 [00:05<00:10,  2.58s/it]"
     ]
    },
    {
     "name": "stdout",
     "output_type": "stream",
     "text": [
      "In and out sizes :\n",
      "fc1 : in = 784, out = 100\n",
      "fc2 : in = 100, out = 100\n",
      "fc3 : in = 100, out = 10\n"
     ]
    },
    {
     "name": "stderr",
     "output_type": "stream",
     "text": [
      "\r",
      " 50%|█████████████████████████████████████████████████████████▌                                                         | 3/6 [00:07<00:07,  2.58s/it]"
     ]
    },
    {
     "name": "stdout",
     "output_type": "stream",
     "text": [
      "In and out sizes :\n",
      "fc1 : in = 784, out = 100\n",
      "fc2 : in = 100, out = 100\n",
      "fc3 : in = 100, out = 10\n"
     ]
    },
    {
     "name": "stderr",
     "output_type": "stream",
     "text": [
      "\r",
      " 67%|████████████████████████████████████████████████████████████████████████████▋                                      | 4/6 [00:10<00:05,  2.58s/it]"
     ]
    },
    {
     "name": "stdout",
     "output_type": "stream",
     "text": [
      "In and out sizes :\n",
      "fc1 : in = 784, out = 114\n",
      "fc2 : in = 114, out = 100\n",
      "fc3 : in = 100, out = 10\n"
     ]
    },
    {
     "name": "stderr",
     "output_type": "stream",
     "text": [
      "\r",
      " 83%|███████████████████████████████████████████████████████████████████████████████████████████████▊                   | 5/6 [00:12<00:02,  2.58s/it]"
     ]
    },
    {
     "name": "stdout",
     "output_type": "stream",
     "text": [
      "In and out sizes :\n",
      "fc1 : in = 784, out = 114\n",
      "fc2 : in = 114, out = 100\n",
      "fc3 : in = 100, out = 10\n"
     ]
    },
    {
     "name": "stderr",
     "output_type": "stream",
     "text": [
      "\r",
      "100%|███████████████████████████████████████████████████████████████████████████████████████████████████████████████████| 6/6 [00:15<00:00,  2.58s/it]"
     ]
    },
    {
     "name": "stderr",
     "output_type": "stream",
     "text": [
      "\r",
      "100%|███████████████████████████████████████████████████████████████████████████████████████████████████████████████████| 6/6 [00:15<00:00,  2.58s/it]"
     ]
    },
    {
     "name": "stderr",
     "output_type": "stream",
     "text": [
      "\n"
     ]
    },
    {
     "name": "stdout",
     "output_type": "stream",
     "text": [
      "\n",
      "--------------------------------------------------\n",
      "LEARNING TASK 3\n"
     ]
    },
    {
     "name": "stderr",
     "output_type": "stream",
     "text": [
      "\r",
      "  0%|                                                                                                                           | 0/3 [00:00<?, ?it/s]"
     ]
    },
    {
     "name": "stdout",
     "output_type": "stream",
     "text": [
      "In and out sizes :\n",
      "fc1 : in = 784, out = 114\n",
      "fc2 : in = 114, out = 100\n",
      "fc3 : in = 100, out = 10\n"
     ]
    },
    {
     "name": "stderr",
     "output_type": "stream",
     "text": [
      "\r",
      " 33%|██████████████████████████████████████▎                                                                            | 1/3 [00:02<00:05,  2.58s/it]"
     ]
    },
    {
     "name": "stdout",
     "output_type": "stream",
     "text": [
      "In and out sizes :\n",
      "fc1 : in = 784, out = 114\n",
      "fc2 : in = 114, out = 100\n",
      "fc3 : in = 100, out = 10\n"
     ]
    },
    {
     "name": "stderr",
     "output_type": "stream",
     "text": [
      "\r",
      " 67%|████████████████████████████████████████████████████████████████████████████▋                                      | 2/3 [00:05<00:02,  2.58s/it]"
     ]
    },
    {
     "name": "stdout",
     "output_type": "stream",
     "text": [
      "In and out sizes :\n",
      "fc1 : in = 784, out = 156\n",
      "fc2 : in = 156, out = 100\n",
      "fc3 : in = 100, out = 10\n"
     ]
    },
    {
     "name": "stderr",
     "output_type": "stream",
     "text": [
      "\r",
      "100%|███████████████████████████████████████████████████████████████████████████████████████████████████████████████████| 3/3 [00:07<00:00,  2.58s/it]"
     ]
    },
    {
     "name": "stderr",
     "output_type": "stream",
     "text": [
      "\r",
      "100%|███████████████████████████████████████████████████████████████████████████████████████████████████████████████████| 3/3 [00:07<00:00,  2.58s/it]"
     ]
    },
    {
     "name": "stderr",
     "output_type": "stream",
     "text": [
      "\n"
     ]
    },
    {
     "name": "stdout",
     "output_type": "stream",
     "text": [
      "\n",
      "--------------------------------------------------\n",
      "LEARNING TASK 4\n"
     ]
    },
    {
     "name": "stderr",
     "output_type": "stream",
     "text": [
      "\r",
      "  0%|                                                                                                                           | 0/4 [00:00<?, ?it/s]"
     ]
    },
    {
     "name": "stdout",
     "output_type": "stream",
     "text": [
      "In and out sizes :\n",
      "fc1 : in = 784, out = 156\n",
      "fc2 : in = 156, out = 100\n",
      "fc3 : in = 100, out = 10\n"
     ]
    },
    {
     "name": "stderr",
     "output_type": "stream",
     "text": [
      "\r",
      " 25%|████████████████████████████▊                                                                                      | 1/4 [00:02<00:07,  2.59s/it]"
     ]
    },
    {
     "name": "stdout",
     "output_type": "stream",
     "text": [
      "In and out sizes :\n",
      "fc1 : in = 784, out = 156\n",
      "fc2 : in = 156, out = 100\n",
      "fc3 : in = 100, out = 10\n"
     ]
    },
    {
     "name": "stderr",
     "output_type": "stream",
     "text": [
      "\r",
      " 50%|█████████████████████████████████████████████████████████▌                                                         | 2/4 [00:05<00:05,  2.59s/it]"
     ]
    },
    {
     "name": "stdout",
     "output_type": "stream",
     "text": [
      "In and out sizes :\n",
      "fc1 : in = 784, out = 156\n",
      "fc2 : in = 156, out = 100\n",
      "fc3 : in = 100, out = 10\n"
     ]
    },
    {
     "name": "stderr",
     "output_type": "stream",
     "text": [
      "\r",
      " 75%|██████████████████████████████████████████████████████████████████████████████████████▎                            | 3/4 [00:07<00:02,  2.64s/it]"
     ]
    },
    {
     "name": "stdout",
     "output_type": "stream",
     "text": [
      "In and out sizes :\n",
      "fc1 : in = 784, out = 156\n",
      "fc2 : in = 156, out = 100\n",
      "fc3 : in = 100, out = 10\n"
     ]
    },
    {
     "name": "stderr",
     "output_type": "stream",
     "text": [
      "\r",
      "100%|███████████████████████████████████████████████████████████████████████████████████████████████████████████████████| 4/4 [00:10<00:00,  2.67s/it]"
     ]
    },
    {
     "name": "stderr",
     "output_type": "stream",
     "text": [
      "\r",
      "100%|███████████████████████████████████████████████████████████████████████████████████████████████████████████████████| 4/4 [00:10<00:00,  2.65s/it]"
     ]
    },
    {
     "name": "stderr",
     "output_type": "stream",
     "text": [
      "\n"
     ]
    },
    {
     "name": "stdout",
     "output_type": "stream",
     "text": [
      "\n",
      "--------------------------------------------------\n",
      "LEARNING TASK 5\n"
     ]
    },
    {
     "name": "stderr",
     "output_type": "stream",
     "text": [
      "\r",
      "  0%|                                                                                                                           | 0/6 [00:00<?, ?it/s]"
     ]
    },
    {
     "name": "stdout",
     "output_type": "stream",
     "text": [
      "In and out sizes :\n",
      "fc1 : in = 784, out = 156\n",
      "fc2 : in = 156, out = 100\n",
      "fc3 : in = 100, out = 10\n"
     ]
    },
    {
     "name": "stderr",
     "output_type": "stream",
     "text": [
      "\r",
      " 17%|███████████████████▏                                                                                               | 1/6 [00:02<00:13,  2.63s/it]"
     ]
    },
    {
     "name": "stdout",
     "output_type": "stream",
     "text": [
      "In and out sizes :\n",
      "fc1 : in = 784, out = 156\n",
      "fc2 : in = 156, out = 100\n",
      "fc3 : in = 100, out = 10\n"
     ]
    },
    {
     "name": "stderr",
     "output_type": "stream",
     "text": [
      "\r",
      " 33%|██████████████████████████████████████▎                                                                            | 2/6 [00:05<00:10,  2.63s/it]"
     ]
    },
    {
     "name": "stdout",
     "output_type": "stream",
     "text": [
      "In and out sizes :\n",
      "fc1 : in = 784, out = 156\n",
      "fc2 : in = 156, out = 100\n",
      "fc3 : in = 100, out = 10\n"
     ]
    },
    {
     "name": "stderr",
     "output_type": "stream",
     "text": [
      "\r",
      " 50%|█████████████████████████████████████████████████████████▌                                                         | 3/6 [00:07<00:07,  2.62s/it]"
     ]
    },
    {
     "name": "stdout",
     "output_type": "stream",
     "text": [
      "In and out sizes :\n",
      "fc1 : in = 784, out = 225\n",
      "fc2 : in = 225, out = 100\n",
      "fc3 : in = 100, out = 10\n"
     ]
    },
    {
     "name": "stderr",
     "output_type": "stream",
     "text": [
      "\r",
      " 67%|████████████████████████████████████████████████████████████████████████████▋                                      | 4/6 [00:10<00:05,  2.61s/it]"
     ]
    },
    {
     "name": "stdout",
     "output_type": "stream",
     "text": [
      "In and out sizes :\n",
      "fc1 : in = 784, out = 225\n",
      "fc2 : in = 225, out = 100\n",
      "fc3 : in = 100, out = 10\n"
     ]
    },
    {
     "name": "stderr",
     "output_type": "stream",
     "text": [
      "\r",
      " 83%|███████████████████████████████████████████████████████████████████████████████████████████████▊                   | 5/6 [00:13<00:02,  2.60s/it]"
     ]
    },
    {
     "name": "stdout",
     "output_type": "stream",
     "text": [
      "In and out sizes :\n",
      "fc1 : in = 784, out = 225\n",
      "fc2 : in = 225, out = 100\n",
      "fc3 : in = 100, out = 10\n"
     ]
    },
    {
     "name": "stderr",
     "output_type": "stream",
     "text": [
      "\r",
      "100%|███████████████████████████████████████████████████████████████████████████████████████████████████████████████████| 6/6 [00:15<00:00,  2.60s/it]"
     ]
    },
    {
     "name": "stderr",
     "output_type": "stream",
     "text": [
      "\r",
      "100%|███████████████████████████████████████████████████████████████████████████████████████████████████████████████████| 6/6 [00:15<00:00,  2.61s/it]"
     ]
    },
    {
     "name": "stderr",
     "output_type": "stream",
     "text": [
      "\n"
     ]
    }
   ],
   "source": [
    "val_accs_matrix = validate(benchmarks_list, method_settings, best_params_list, device, global_seed)"
   ]
  },
  {
   "cell_type": "markdown",
   "id": "5e7c6e5b",
   "metadata": {
    "papermill": {
     "duration": 0.018142,
     "end_time": "2024-07-05T13:32:24.611246",
     "exception": false,
     "start_time": "2024-07-05T13:32:24.593104",
     "status": "completed"
    },
    "tags": []
   },
   "source": [
    "## Visualize validation"
   ]
  },
  {
   "cell_type": "code",
   "execution_count": 11,
   "id": "aaf48def",
   "metadata": {
    "execution": {
     "iopub.execute_input": "2024-07-05T13:32:24.648409Z",
     "iopub.status.busy": "2024-07-05T13:32:24.648141Z",
     "iopub.status.idle": "2024-07-05T13:32:24.653149Z",
     "shell.execute_reply": "2024-07-05T13:32:24.652861Z"
    },
    "papermill": {
     "duration": 0.024342,
     "end_time": "2024-07-05T13:32:24.653789",
     "exception": false,
     "start_time": "2024-07-05T13:32:24.629447",
     "status": "completed"
    },
    "tags": []
   },
   "outputs": [
    {
     "data": {
      "text/plain": [
       "array([[94.84, 14.51,  8.03,  8.55, 11.37],\n",
       "       [92.04, 95.55,  8.72,  9.34, 13.18],\n",
       "       [88.9 , 92.37, 93.84,  7.98, 16.07],\n",
       "       [86.36, 89.07, 90.38, 92.42, 13.79],\n",
       "       [84.18, 81.97, 88.28, 88.45, 93.12]])"
      ]
     },
     "execution_count": 11,
     "metadata": {},
     "output_type": "execute_result"
    }
   ],
   "source": [
    "test_accs_matrix"
   ]
  },
  {
   "cell_type": "code",
   "execution_count": 12,
   "id": "66dcbadf",
   "metadata": {
    "execution": {
     "iopub.execute_input": "2024-07-05T13:32:24.692524Z",
     "iopub.status.busy": "2024-07-05T13:32:24.692270Z",
     "iopub.status.idle": "2024-07-05T13:32:24.696107Z",
     "shell.execute_reply": "2024-07-05T13:32:24.695664Z"
    },
    "papermill": {
     "duration": 0.023792,
     "end_time": "2024-07-05T13:32:24.696747",
     "exception": false,
     "start_time": "2024-07-05T13:32:24.672955",
     "status": "completed"
    },
    "tags": []
   },
   "outputs": [
    {
     "data": {
      "text/plain": [
       "array([[81.01, 87.4 , 89.52, 87.01, 92.3 ],\n",
       "       [73.45, 76.03, 72.16, 85.44, 93.13],\n",
       "       [76.94, 82.24, 88.05, 89.8 , 91.84],\n",
       "       [86.03, 69.18, 75.92, 67.05, 92.96]])"
      ]
     },
     "execution_count": 12,
     "metadata": {},
     "output_type": "execute_result"
    }
   ],
   "source": [
    "val_accs_matrix"
   ]
  },
  {
   "cell_type": "code",
   "execution_count": 13,
   "id": "52b9acd8",
   "metadata": {
    "execution": {
     "iopub.execute_input": "2024-07-05T13:32:24.735407Z",
     "iopub.status.busy": "2024-07-05T13:32:24.735160Z",
     "iopub.status.idle": "2024-07-05T13:32:24.889248Z",
     "shell.execute_reply": "2024-07-05T13:32:24.888692Z"
    },
    "papermill": {
     "duration": 0.173792,
     "end_time": "2024-07-05T13:32:24.889929",
     "exception": false,
     "start_time": "2024-07-05T13:32:24.716137",
     "status": "completed"
    },
    "tags": []
   },
   "outputs": [
    {
     "data": {
      "image/png": "[encoded data removed]",
      "text/plain": [
       "<Figure size 640x480 with 2 Axes>"
      ]
     },
     "metadata": {},
     "output_type": "display_data"
    }
   ],
   "source": [
    "visualize_validation(val_accs_matrix, test_accs_matrix, visualization_settings, HPO_settings, method_settings, benchmark_settings)"
   ]
  },
  {
   "cell_type": "markdown",
   "id": "7c7fc360",
   "metadata": {
    "papermill": {
     "duration": 0.019216,
     "end_time": "2024-07-05T13:32:24.928362",
     "exception": false,
     "start_time": "2024-07-05T13:32:24.909146",
     "status": "completed"
    },
    "tags": []
   },
   "source": [
    "## Save results matrices"
   ]
  },
  {
   "cell_type": "code",
   "execution_count": 14,
   "id": "2fc13649",
   "metadata": {
    "execution": {
     "iopub.execute_input": "2024-07-05T13:32:24.967505Z",
     "iopub.status.busy": "2024-07-05T13:32:24.967310Z",
     "iopub.status.idle": "2024-07-05T13:32:24.970039Z",
     "shell.execute_reply": "2024-07-05T13:32:24.969508Z"
    },
    "papermill": {
     "duration": 0.023582,
     "end_time": "2024-07-05T13:32:24.970876",
     "exception": false,
     "start_time": "2024-07-05T13:32:24.947294",
     "status": "completed"
    },
    "tags": []
   },
   "outputs": [],
   "source": [
    "if save_results :\n",
    "    np.savetxt('Results/test_accs_matrix.csv', test_accs_matrix)\n",
    "    np.savetxt('Results/val_accs_matrix.csv', val_accs_matrix)"
   ]
  },
  {
   "cell_type": "code",
   "execution_count": null,
   "id": "f6ef980c",
   "metadata": {
    "papermill": {
     "duration": 0.019408,
     "end_time": "2024-07-05T13:32:25.009728",
     "exception": false,
     "start_time": "2024-07-05T13:32:24.990320",
     "status": "completed"
    },
    "tags": []
   },
   "outputs": [],
   "source": []
  }
 ],
 "metadata": {
  "kernelspec": {
   "display_name": ".jax_env",
   "language": "python",
   "name": "python3"
  },
  "language_info": {
   "codemirror_mode": {
    "name": "ipython",
    "version": 3
   },
   "file_extension": ".py",
   "mimetype": "text/x-python",
   "name": "python",
   "nbconvert_exporter": "python",
   "pygments_lexer": "ipython3",
   "version": "3.12.2"
  },
  "papermill": {
   "default_parameters": {},
   "duration": 1465.605685,
   "end_time": "2024-07-05T13:32:25.852965",
   "environment_variables": {},
   "exception": null,
   "input_path": "runnable_HPO.ipynb",
   "output_path": "executed_HPO.ipynb",
   "parameters": {
    "HPO_settings": {
     "HPO_name": "greedy_HPO",
     "lr": [
      5e-05,
      0.002
     ],
     "n_trials": 10,
     "num_epochs": [
      2,
      6
     ]
    },
    "benchmark_settings": {
     "batch_size": 128,
     "benchmark_name": "pMNIST",
     "difficulty": "standard",
     "num_tasks": 5,
     "num_val_benchmarks": 3,
     "train_percentage": 0.4
    },
    "global_seed": 88,
    "method_settings": {
     "grad_percentile": 95,
     "grow_from": "output",
     "hessian_percentile": 95,
     "loss_name": "CE",
     "method_name": "GroHess",
     "num_hidden_root": 100,
     "num_inputs": 784,
     "num_outputs": 10,
     "optimizer_name": "Adam"
    },
    "save_results": false,
    "visualization_settings": {
     "savefig": true,
     "visualize_accs_matrix": false,
     "visualize_accuracy_through_benchmarks": false,
     "visualize_avg_acc_curve": false,
     "visualize_best_params": false,
     "visualize_val_accs_matrix": true,
     "visualize_violin": false
    }
   },
   "start_time": "2024-07-05T13:08:00.247280",
   "version": "2.6.0"
  }
 },
 "nbformat": 4,
 "nbformat_minor": 5
}