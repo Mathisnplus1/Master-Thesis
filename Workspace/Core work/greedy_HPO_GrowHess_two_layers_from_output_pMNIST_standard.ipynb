{
 "cells": [
  {
   "cell_type": "code",
   "execution_count": 22,
   "metadata": {
    "execution": {
     "iopub.execute_input": "2024-07-02T15:49:05.613083Z",
     "iopub.status.busy": "2024-07-02T15:49:05.612975Z",
     "iopub.status.idle": "2024-07-02T15:49:05.615894Z",
     "shell.execute_reply": "2024-07-02T15:49:05.615488Z"
    }
   },
   "outputs": [],
   "source": [
    "import sys\n",
    "import os\n",
    "\n",
    "sys.path.append(\"Methods/GroHess/Two layers\")\n",
    "path = os.path.dirname(os.path.abspath(\"__file__\"))\n",
    "data_path = path + \"/Methods/GroHess/Two layers/data\"\n",
    "\n",
    "HPO_name = \"greedy_HPO\"\n",
    "method_name = \"GroHess_two_layers\"\n",
    "benchmark_name = \"pMNIST\""
   ]
  },
  {
   "cell_type": "code",
   "execution_count": 23,
   "metadata": {
    "execution": {
     "iopub.execute_input": "2024-07-02T15:49:05.618438Z",
     "iopub.status.busy": "2024-07-02T15:49:05.618142Z",
     "iopub.status.idle": "2024-07-02T15:49:07.680567Z",
     "shell.execute_reply": "2024-07-02T15:49:07.679929Z"
    }
   },
   "outputs": [],
   "source": [
    "from lib.abstract_torch import get_device\n",
    "from lib.dataloader import get_task_loaders\n",
    "from lib.models import ANN\n",
    "from lib.train import train\n",
    "from lib.test import test\n",
    "from HPO_lib.visualize import visualize_accs_matrix, visualize_avg_acc_curve, visualize_best_params, visualize_val_accs_matrix, visualize_accuracy_through_benchmarks, visualize_violin\n",
    "\n",
    "import numpy as np\n",
    "import copy\n",
    "import optuna\n",
    "from functools import partial\n",
    "\n",
    "import warnings\n",
    "warnings.filterwarnings('ignore')"
   ]
  },
  {
   "cell_type": "code",
   "execution_count": 24,
   "metadata": {
    "execution": {
     "iopub.execute_input": "2024-07-02T15:49:07.683186Z",
     "iopub.status.busy": "2024-07-02T15:49:07.682942Z",
     "iopub.status.idle": "2024-07-02T15:49:07.754540Z",
     "shell.execute_reply": "2024-07-02T15:49:07.753934Z"
    }
   },
   "outputs": [],
   "source": [
    "device = get_device(1)"
   ]
  },
  {
   "cell_type": "code",
   "execution_count": 25,
   "metadata": {
    "execution": {
     "iopub.execute_input": "2024-07-02T15:49:07.757033Z",
     "iopub.status.busy": "2024-07-02T15:49:07.756886Z",
     "iopub.status.idle": "2024-07-02T15:49:07.759987Z",
     "shell.execute_reply": "2024-07-02T15:49:07.759574Z"
    }
   },
   "outputs": [],
   "source": [
    "# Must tune hyperparameters\n",
    "num_tasks = 5\n",
    "train_percentage = 0.8\n",
    "difficulty = \"standard\"\n",
    "grow_from = \"output\"\n",
    "n_trials = 10\n",
    "num_val_benchmarks = 5\n",
    "\n",
    "# Set the percentile threshold for building Hessian and gradient masks\n",
    "hessian_percentile = 95\n",
    "grad_percentile = 95\n",
    "\n",
    "# Data parameter\n",
    "batch_size=128\n",
    "\n",
    "# Network Architecture\n",
    "num_inputs = 28*28\n",
    "num_hidden_root = 100\n",
    "num_outputs = 10\n",
    "\n",
    "# Train parameters\n",
    "loss_name = \"CE\"\n",
    "optimizer_name = \"Adam\"\n",
    "\n",
    "# Other hyperparameters\n",
    "#num_epochs = 3\n",
    "#lr = 1e-3"
   ]
  },
  {
   "cell_type": "markdown",
   "metadata": {},
   "source": [
    "Fixed hyperparameters :\n",
    "- Start by growing left layer at each new task to handle and then alternate\n",
    "- Growth trigger :\n",
    "    - delay_growth (at each new task to handle)\n",
    "    - delay_growth\n",
    "    - should_we_grow"
   ]
  },
  {
   "cell_type": "markdown",
   "metadata": {},
   "source": [
    "# HPO"
   ]
  },
  {
   "cell_type": "markdown",
   "metadata": {},
   "source": [
    "## Reproducibility"
   ]
  },
  {
   "cell_type": "code",
   "execution_count": 26,
   "metadata": {
    "execution": {
     "iopub.execute_input": "2024-07-02T15:49:07.762629Z",
     "iopub.status.busy": "2024-07-02T15:49:07.762495Z",
     "iopub.status.idle": "2024-07-02T15:49:07.764725Z",
     "shell.execute_reply": "2024-07-02T15:49:07.764340Z"
    }
   },
   "outputs": [],
   "source": [
    "random_seed = 88\n",
    "permutation_random_seeds = list(range(num_tasks))"
   ]
  },
  {
   "cell_type": "markdown",
   "metadata": {},
   "source": [
    "## Get p-MNIST loaders"
   ]
  },
  {
   "cell_type": "code",
   "execution_count": 27,
   "metadata": {
    "execution": {
     "iopub.execute_input": "2024-07-02T15:49:07.767250Z",
     "iopub.status.busy": "2024-07-02T15:49:07.767122Z",
     "iopub.status.idle": "2024-07-02T15:49:15.177136Z",
     "shell.execute_reply": "2024-07-02T15:49:15.176710Z"
    }
   },
   "outputs": [],
   "source": [
    "train_loaders_list, val_loaders_list, test_loaders_list = [], [], []\n",
    "for random_seed in permutation_random_seeds :\n",
    "    train_loader, val_loader, test_loader = get_task_loaders(data_path, batch_size, random_seed, train_percentage=train_percentage, difficulty=difficulty, download=False)\n",
    "    train_loaders_list += [train_loader]\n",
    "    val_loaders_list += [val_loader]\n",
    "    test_loaders_list += [test_loader]"
   ]
  },
  {
   "cell_type": "markdown",
   "metadata": {},
   "source": [
    "## Perform HPO"
   ]
  },
  {
   "cell_type": "code",
   "execution_count": 28,
   "metadata": {
    "execution": {
     "iopub.execute_input": "2024-07-02T15:49:15.180053Z",
     "iopub.status.busy": "2024-07-02T15:49:15.179916Z",
     "iopub.status.idle": "2024-07-02T15:49:15.183094Z",
     "shell.execute_reply": "2024-07-02T15:49:15.182797Z"
    }
   },
   "outputs": [],
   "source": [
    "def objective(model, task_number, params, device, trial) :\n",
    "\n",
    "    # Set HPs\n",
    "    lr = trial.suggest_float(\"lr\", 5e-5, 2e-3)\n",
    "    num_epochs = trial.suggest_int(\"num_epochs\", 2, 6)\n",
    "\n",
    "    # Copy the model to perform HPO\n",
    "    model_copy = copy.deepcopy(model)\n",
    "    \n",
    "    # Train\n",
    "    overall_masks, is_first_task = params\n",
    "    \n",
    "    train_loader = train_loaders_list[task_number]\n",
    "\n",
    "    _ = train(model_copy, grow_from, overall_masks, is_first_task,\n",
    "                      loss_name, optimizer_name, lr, num_epochs, batch_size,\n",
    "                      hessian_percentile, grad_percentile,\n",
    "                      train_loader,\n",
    "                      device, random_seed, \n",
    "                      verbose=0)\n",
    "\n",
    "    # Test\n",
    "    test_accs = np.zeros(task_number+1)\n",
    "    for j in range(task_number+1) :\n",
    "        test_acc = test(model_copy, val_loaders_list[j], batch_size, device)\n",
    "        test_accs[j] = test_acc\n",
    "    \n",
    "    # Compute score\n",
    "    score = np.mean(test_accs)\n",
    "    \n",
    "    return score"
   ]
  },
  {
   "cell_type": "code",
   "execution_count": 29,
   "metadata": {
    "execution": {
     "iopub.execute_input": "2024-07-02T15:49:15.185706Z",
     "iopub.status.busy": "2024-07-02T15:49:15.185446Z",
     "iopub.status.idle": "2024-07-02T15:49:15.187961Z",
     "shell.execute_reply": "2024-07-02T15:49:15.187692Z"
    }
   },
   "outputs": [],
   "source": [
    "def retrain_and_save_with_best_HPs (model, params, best_params, train_loader) :\n",
    "    lr = best_params[\"lr\"]\n",
    "    num_epochs = best_params[\"num_epochs\"]\n",
    "    \n",
    "    overall_masks, is_first_task = params\n",
    "\n",
    "    # Train\n",
    "    overall_masks, _, _ = train(model, grow_from, overall_masks, is_first_task,\n",
    "                      loss_name, optimizer_name, lr, num_epochs, batch_size,\n",
    "                      hessian_percentile, grad_percentile,\n",
    "                      train_loader,\n",
    "                      device, random_seed, \n",
    "                      verbose=2)\n",
    "    \n",
    "    return overall_masks"
   ]
  },
  {
   "cell_type": "code",
   "execution_count": 30,
   "metadata": {
    "execution": {
     "iopub.execute_input": "2024-07-02T15:49:15.190368Z",
     "iopub.status.busy": "2024-07-02T15:49:15.189905Z",
     "iopub.status.idle": "2024-07-02T15:49:15.194115Z",
     "shell.execute_reply": "2024-07-02T15:49:15.193843Z"
    }
   },
   "outputs": [],
   "source": [
    "def call_greedy_HPO(n_trials) :\n",
    "    # Initialize model\n",
    "    model = ANN(num_inputs, num_hidden_root, num_outputs, random_seed).to(device)\n",
    "\n",
    "    # Intialize mask\n",
    "    if grow_from == \"input\" :\n",
    "        overall_masks = [np.ones_like(model.fc1.weight.data.cpu().numpy()),\n",
    "                        np.ones_like(model.fc2.weight.data.cpu().numpy())]\n",
    "    else :\n",
    "        overall_masks = [np.ones_like(model.fc2.weight.data.cpu().numpy()),\n",
    "                        np.ones_like(model.fc3.weight.data.cpu().numpy())]\n",
    "            \n",
    "    # Initialize variable to store the best HPs and the scores\n",
    "    best_params_list = []\n",
    "    test_accs_matrix = np.zeros((num_tasks, num_tasks))\n",
    "\n",
    "    for task_number in range(0,num_tasks) :\n",
    "\n",
    "        # Verbose\n",
    "        print(\"\\n\" + \"-\"*50)\n",
    "        print(f\"LEARNING TASK {task_number+1}\")\n",
    "\n",
    "        # Perform HPO\n",
    "        storage = optuna.storages.InMemoryStorage()\n",
    "        study = optuna.create_study(storage=storage,\n",
    "                                    study_name=f\"Search number {task_number+1}\",\n",
    "                                    sampler=optuna.samplers.TPESampler(seed=random_seed),\n",
    "                                    direction = \"maximize\")\n",
    "        \n",
    "        is_first_task = True if task_number==0 else False\n",
    "        params = overall_masks, is_first_task\n",
    "        partial_objective = partial(objective, model, task_number, params, device)\n",
    "        study.optimize(partial_objective,\n",
    "                    n_trials=n_trials,\n",
    "                    timeout=3600)\n",
    "\n",
    "        # Retrain and save a model with the best params\n",
    "        best_params = study.best_trial.params\n",
    "        best_params_list += [best_params]\n",
    "        overall_masks = retrain_and_save_with_best_HPs(model, params, best_params, train_loaders_list[task_number]) \n",
    "        \n",
    "        # Test on each task\n",
    "        for j in range(num_tasks) :\n",
    "            test_accs_matrix[task_number,j] = round(test(model, test_loaders_list[j], batch_size, device),2)\n",
    "    \n",
    "    return test_accs_matrix, best_params_list, model"
   ]
  },
  {
   "cell_type": "code",
   "execution_count": 31,
   "metadata": {
    "execution": {
     "iopub.execute_input": "2024-07-02T15:49:15.196620Z",
     "iopub.status.busy": "2024-07-02T15:49:15.196097Z",
     "iopub.status.idle": "2024-07-02T17:16:34.613221Z",
     "shell.execute_reply": "2024-07-02T17:16:34.612785Z"
    }
   },
   "outputs": [
    {
     "name": "stderr",
     "output_type": "stream",
     "text": [
      "[I 2024-07-04 10:38:26,966] A new study created in memory with name: Search number 1\n"
     ]
    },
    {
     "name": "stdout",
     "output_type": "stream",
     "text": [
      "\n",
      "--------------------------------------------------\n",
      "LEARNING TASK 1\n"
     ]
    },
    {
     "name": "stderr",
     "output_type": "stream",
     "text": [
      "  0%|          | 0/4 [00:00<?, ?it/s]"
     ]
    },
    {
     "name": "stderr",
     "output_type": "stream",
     "text": [
      "100%|██████████| 4/4 [00:20<00:00,  5.14s/it]\n",
      "[I 2024-07-04 10:38:48,712] Trial 0 finished with value: 96.43903225806451 and parameters: {'lr': 0.0019357081860766697, 'num_epochs': 4}. Best is trial 0 with value: 96.43903225806451.\n",
      "100%|██████████| 5/5 [00:25<00:00,  5.13s/it]\n",
      "[I 2024-07-04 10:39:15,577] Trial 1 finished with value: 96.79247311827956 and parameters: {'lr': 0.0019467345019315244, 'num_epochs': 5}. Best is trial 1 with value: 96.79247311827956.\n",
      "100%|██████████| 3/3 [00:15<00:00,  5.13s/it]\n",
      "[I 2024-07-04 10:39:32,169] Trial 2 finished with value: 95.8420430107527 and parameters: {'lr': 0.001410571207964678, 'num_epochs': 3}. Best is trial 1 with value: 96.79247311827956.\n",
      "100%|██████████| 2/2 [00:10<00:00,  5.12s/it]\n",
      "[I 2024-07-04 10:39:43,604] Trial 3 finished with value: 95.21172043010753 and parameters: {'lr': 0.0019537351868136716, 'num_epochs': 2}. Best is trial 1 with value: 96.79247311827956.\n",
      "100%|██████████| 4/4 [00:20<00:00,  5.12s/it]\n",
      "[I 2024-07-04 10:40:05,298] Trial 4 finished with value: 94.41354838709678 and parameters: {'lr': 0.0005433156066477157, 'num_epochs': 4}. Best is trial 1 with value: 96.79247311827956.\n",
      "100%|██████████| 2/2 [00:10<00:00,  5.12s/it]\n",
      "[I 2024-07-04 10:40:16,745] Trial 5 finished with value: 94.76645161290321 and parameters: {'lr': 0.0015697966974978174, 'num_epochs': 2}. Best is trial 1 with value: 96.79247311827956.\n",
      "100%|██████████| 6/6 [00:30<00:00,  5.12s/it]\n",
      "[I 2024-07-04 10:40:48,682] Trial 6 finished with value: 96.78365591397849 and parameters: {'lr': 0.0017328368094184834, 'num_epochs': 6}. Best is trial 1 with value: 96.79247311827956.\n",
      "100%|██████████| 4/4 [00:20<00:00,  5.12s/it]\n",
      "[I 2024-07-04 10:41:10,349] Trial 7 finished with value: 93.19548387096772 and parameters: {'lr': 0.00036949237073916253, 'num_epochs': 4}. Best is trial 1 with value: 96.79247311827956.\n",
      "100%|██████████| 3/3 [00:15<00:00,  5.12s/it]\n",
      "[I 2024-07-04 10:41:26,910] Trial 8 finished with value: 76.72172043010754 and parameters: {'lr': 6.752289045173221e-05, 'num_epochs': 3}. Best is trial 1 with value: 96.79247311827956.\n",
      "100%|██████████| 6/6 [00:30<00:00,  5.12s/it]\n",
      "[I 2024-07-04 10:41:58,829] Trial 9 finished with value: 91.4733333333333 and parameters: {'lr': 0.00013611211296642417, 'num_epochs': 6}. Best is trial 1 with value: 96.79247311827956.\n",
      "  0%|          | 0/5 [00:00<?, ?it/s]"
     ]
    },
    {
     "name": "stdout",
     "output_type": "stream",
     "text": [
      "In and out sizes :\n",
      "fc1 : in = 784, out = 100\n",
      "fc2 : in = 100, out = 100\n",
      "fc3 : in = 100, out = 10\n"
     ]
    },
    {
     "name": "stderr",
     "output_type": "stream",
     "text": [
      " 20%|██        | 1/5 [00:05<00:20,  5.18s/it]"
     ]
    },
    {
     "name": "stdout",
     "output_type": "stream",
     "text": [
      "In and out sizes :\n",
      "fc1 : in = 784, out = 100\n",
      "fc2 : in = 100, out = 100\n",
      "fc3 : in = 100, out = 10\n"
     ]
    },
    {
     "name": "stderr",
     "output_type": "stream",
     "text": [
      " 40%|████      | 2/5 [00:10<00:15,  5.15s/it]"
     ]
    },
    {
     "name": "stdout",
     "output_type": "stream",
     "text": [
      "In and out sizes :\n",
      "fc1 : in = 784, out = 100\n",
      "fc2 : in = 100, out = 100\n",
      "fc3 : in = 100, out = 10\n"
     ]
    },
    {
     "name": "stderr",
     "output_type": "stream",
     "text": [
      " 60%|██████    | 3/5 [00:15<00:10,  5.14s/it]"
     ]
    },
    {
     "name": "stdout",
     "output_type": "stream",
     "text": [
      "In and out sizes :\n",
      "fc1 : in = 784, out = 100\n",
      "fc2 : in = 100, out = 100\n",
      "fc3 : in = 100, out = 10\n"
     ]
    },
    {
     "name": "stderr",
     "output_type": "stream",
     "text": [
      " 80%|████████  | 4/5 [00:20<00:05,  5.13s/it]"
     ]
    },
    {
     "name": "stdout",
     "output_type": "stream",
     "text": [
      "In and out sizes :\n",
      "fc1 : in = 784, out = 100\n",
      "fc2 : in = 100, out = 100\n",
      "fc3 : in = 100, out = 10\n"
     ]
    },
    {
     "name": "stderr",
     "output_type": "stream",
     "text": [
      "100%|██████████| 5/5 [00:25<00:00,  5.14s/it]\n",
      "[I 2024-07-04 10:42:29,547] A new study created in memory with name: Search number 2\n"
     ]
    },
    {
     "name": "stdout",
     "output_type": "stream",
     "text": [
      "\n",
      "--------------------------------------------------\n",
      "LEARNING TASK 2\n"
     ]
    },
    {
     "name": "stderr",
     "output_type": "stream",
     "text": [
      "100%|██████████| 4/4 [00:20<00:00,  5.16s/it]\n",
      "[I 2024-07-04 10:42:52,594] Trial 0 finished with value: 93.11564516129033 and parameters: {'lr': 0.0019357081860766697, 'num_epochs': 4}. Best is trial 0 with value: 93.11564516129033.\n",
      "100%|██████████| 5/5 [00:25<00:00,  5.14s/it]\n",
      "[I 2024-07-04 10:43:20,720] Trial 1 finished with value: 93.38424731182798 and parameters: {'lr': 0.0019467345019315244, 'num_epochs': 5}. Best is trial 1 with value: 93.38424731182798.\n",
      "100%|██████████| 3/3 [00:15<00:00,  5.15s/it]\n",
      "[I 2024-07-04 10:43:38,562] Trial 2 finished with value: 95.1489247311828 and parameters: {'lr': 0.001410571207964678, 'num_epochs': 3}. Best is trial 2 with value: 95.1489247311828.\n",
      "100%|██████████| 2/2 [00:10<00:00,  5.34s/it]\n",
      "[I 2024-07-04 10:43:51,654] Trial 3 finished with value: 94.57354838709678 and parameters: {'lr': 0.0019537351868136716, 'num_epochs': 2}. Best is trial 2 with value: 95.1489247311828.\n",
      "100%|██████████| 4/4 [00:21<00:00,  5.39s/it]\n",
      "[I 2024-07-04 10:44:15,606] Trial 4 finished with value: 95.00177419354841 and parameters: {'lr': 0.0005433156066477157, 'num_epochs': 4}. Best is trial 2 with value: 95.1489247311828.\n",
      "100%|██████████| 2/2 [00:10<00:00,  5.40s/it]\n",
      "[I 2024-07-04 10:44:28,814] Trial 5 finished with value: 94.77500000000003 and parameters: {'lr': 0.0015697966974978174, 'num_epochs': 2}. Best is trial 2 with value: 95.1489247311828.\n",
      "100%|██████████| 6/6 [00:32<00:00,  5.38s/it]\n",
      "[I 2024-07-04 10:45:03,483] Trial 6 finished with value: 93.9013978494624 and parameters: {'lr': 0.0017328368094184834, 'num_epochs': 6}. Best is trial 2 with value: 95.1489247311828.\n",
      "100%|██████████| 4/4 [00:21<00:00,  5.36s/it]\n",
      "[I 2024-07-04 10:45:27,320] Trial 7 finished with value: 94.69500000000005 and parameters: {'lr': 0.00036949237073916253, 'num_epochs': 4}. Best is trial 2 with value: 95.1489247311828.\n",
      "100%|██████████| 3/3 [00:16<00:00,  5.36s/it]\n",
      "[I 2024-07-04 10:45:45,815] Trial 8 finished with value: 90.2059139784946 and parameters: {'lr': 6.752289045173221e-05, 'num_epochs': 3}. Best is trial 2 with value: 95.1489247311828.\n",
      "100%|██████████| 6/6 [00:32<00:00,  5.38s/it]\n",
      "[I 2024-07-04 10:46:20,496] Trial 9 finished with value: 94.20801075268818 and parameters: {'lr': 0.00013611211296642417, 'num_epochs': 6}. Best is trial 2 with value: 95.1489247311828.\n",
      "  0%|          | 0/3 [00:00<?, ?it/s]"
     ]
    },
    {
     "name": "stdout",
     "output_type": "stream",
     "text": [
      "In and out sizes :\n",
      "fc1 : in = 784, out = 100\n",
      "fc2 : in = 100, out = 100\n",
      "fc3 : in = 100, out = 10\n"
     ]
    },
    {
     "name": "stderr",
     "output_type": "stream",
     "text": [
      " 33%|███▎      | 1/3 [00:05<00:10,  5.42s/it]"
     ]
    },
    {
     "name": "stdout",
     "output_type": "stream",
     "text": [
      "In and out sizes :\n",
      "fc1 : in = 784, out = 148\n",
      "fc2 : in = 148, out = 100\n",
      "fc3 : in = 100, out = 10\n"
     ]
    },
    {
     "name": "stderr",
     "output_type": "stream",
     "text": [
      " 67%|██████▋   | 2/3 [00:10<00:05,  5.43s/it]"
     ]
    },
    {
     "name": "stdout",
     "output_type": "stream",
     "text": [
      "In and out sizes :\n",
      "fc1 : in = 784, out = 148\n",
      "fc2 : in = 148, out = 100\n",
      "fc3 : in = 100, out = 10\n"
     ]
    },
    {
     "name": "stderr",
     "output_type": "stream",
     "text": [
      "100%|██████████| 3/3 [00:16<00:00,  5.42s/it]\n",
      "[I 2024-07-04 10:46:41,800] A new study created in memory with name: Search number 3\n"
     ]
    },
    {
     "name": "stdout",
     "output_type": "stream",
     "text": [
      "\n",
      "--------------------------------------------------\n",
      "LEARNING TASK 3\n"
     ]
    },
    {
     "name": "stderr",
     "output_type": "stream",
     "text": [
      "100%|██████████| 4/4 [00:21<00:00,  5.42s/it]\n",
      "[I 2024-07-04 10:47:07,097] Trial 0 finished with value: 83.3220430107527 and parameters: {'lr': 0.0019357081860766697, 'num_epochs': 4}. Best is trial 0 with value: 83.3220430107527.\n",
      "100%|██████████| 5/5 [00:26<00:00,  5.38s/it]\n",
      "[I 2024-07-04 10:47:37,597] Trial 1 finished with value: 82.86297491039426 and parameters: {'lr': 0.0019467345019315244, 'num_epochs': 5}. Best is trial 0 with value: 83.3220430107527.\n",
      "100%|██████████| 3/3 [00:15<00:00,  5.16s/it]\n",
      "[I 2024-07-04 10:47:56,699] Trial 2 finished with value: 87.13609318996419 and parameters: {'lr': 0.001410571207964678, 'num_epochs': 3}. Best is trial 2 with value: 87.13609318996419.\n",
      "100%|██████████| 2/2 [00:10<00:00,  5.16s/it]\n",
      "[I 2024-07-04 10:48:10,614] Trial 3 finished with value: 84.35827956989247 and parameters: {'lr': 0.0019537351868136716, 'num_epochs': 2}. Best is trial 2 with value: 87.13609318996419.\n",
      "100%|██████████| 4/4 [00:20<00:00,  5.14s/it]\n",
      "[I 2024-07-04 10:48:34,758] Trial 4 finished with value: 90.8793906810036 and parameters: {'lr': 0.0005433156066477157, 'num_epochs': 4}. Best is trial 4 with value: 90.8793906810036.\n",
      "100%|██████████| 2/2 [00:10<00:00,  5.14s/it]\n",
      "[I 2024-07-04 10:48:48,646] Trial 5 finished with value: 88.82179211469536 and parameters: {'lr': 0.0015697966974978174, 'num_epochs': 2}. Best is trial 4 with value: 90.8793906810036.\n",
      "100%|██████████| 6/6 [00:30<00:00,  5.13s/it]\n",
      "[I 2024-07-04 10:49:23,007] Trial 6 finished with value: 82.15215053763443 and parameters: {'lr': 0.0017328368094184834, 'num_epochs': 6}. Best is trial 4 with value: 90.8793906810036.\n",
      "100%|██████████| 4/4 [00:20<00:00,  5.12s/it]\n",
      "[I 2024-07-04 10:49:47,095] Trial 7 finished with value: 91.26881720430111 and parameters: {'lr': 0.00036949237073916253, 'num_epochs': 4}. Best is trial 7 with value: 91.26881720430111.\n",
      "100%|██████████| 3/3 [00:15<00:00,  5.15s/it]\n",
      "[I 2024-07-04 10:50:06,149] Trial 8 finished with value: 90.85455197132616 and parameters: {'lr': 6.752289045173221e-05, 'num_epochs': 3}. Best is trial 7 with value: 91.26881720430111.\n",
      "100%|██████████| 6/6 [00:30<00:00,  5.16s/it]\n",
      "[I 2024-07-04 10:50:40,701] Trial 9 finished with value: 88.52756272401433 and parameters: {'lr': 0.00013611211296642417, 'num_epochs': 6}. Best is trial 7 with value: 91.26881720430111.\n",
      "  0%|          | 0/4 [00:00<?, ?it/s]"
     ]
    },
    {
     "name": "stdout",
     "output_type": "stream",
     "text": [
      "In and out sizes :\n",
      "fc1 : in = 784, out = 148\n",
      "fc2 : in = 148, out = 100\n",
      "fc3 : in = 100, out = 10\n"
     ]
    },
    {
     "name": "stderr",
     "output_type": "stream",
     "text": [
      " 25%|██▌       | 1/4 [00:05<00:15,  5.16s/it]"
     ]
    },
    {
     "name": "stdout",
     "output_type": "stream",
     "text": [
      "In and out sizes :\n",
      "fc1 : in = 784, out = 148\n",
      "fc2 : in = 148, out = 100\n",
      "fc3 : in = 100, out = 10\n"
     ]
    },
    {
     "name": "stderr",
     "output_type": "stream",
     "text": [
      " 50%|█████     | 2/4 [00:10<00:10,  5.16s/it]"
     ]
    },
    {
     "name": "stdout",
     "output_type": "stream",
     "text": [
      "In and out sizes :\n",
      "fc1 : in = 784, out = 148\n",
      "fc2 : in = 148, out = 100\n",
      "fc3 : in = 100, out = 10\n"
     ]
    },
    {
     "name": "stderr",
     "output_type": "stream",
     "text": [
      " 75%|███████▌  | 3/4 [00:15<00:05,  5.16s/it]"
     ]
    },
    {
     "name": "stdout",
     "output_type": "stream",
     "text": [
      "In and out sizes :\n",
      "fc1 : in = 784, out = 148\n",
      "fc2 : in = 148, out = 100\n",
      "fc3 : in = 100, out = 10\n"
     ]
    },
    {
     "name": "stderr",
     "output_type": "stream",
     "text": [
      "100%|██████████| 4/4 [00:20<00:00,  5.16s/it]\n",
      "[I 2024-07-04 10:51:06,349] A new study created in memory with name: Search number 4\n"
     ]
    },
    {
     "name": "stdout",
     "output_type": "stream",
     "text": [
      "\n",
      "--------------------------------------------------\n",
      "LEARNING TASK 4\n"
     ]
    },
    {
     "name": "stderr",
     "output_type": "stream",
     "text": [
      "100%|██████████| 4/4 [00:20<00:00,  5.14s/it]\n",
      "[I 2024-07-04 10:51:31,740] Trial 0 finished with value: 74.37854838709677 and parameters: {'lr': 0.0019357081860766697, 'num_epochs': 4}. Best is trial 0 with value: 74.37854838709677.\n",
      "100%|██████████| 5/5 [00:25<00:00,  5.16s/it]\n",
      "[I 2024-07-04 10:52:02,355] Trial 1 finished with value: 76.84838709677419 and parameters: {'lr': 0.0019467345019315244, 'num_epochs': 5}. Best is trial 1 with value: 76.84838709677419.\n",
      "100%|██████████| 3/3 [00:15<00:00,  5.15s/it]\n",
      "[I 2024-07-04 10:52:22,614] Trial 2 finished with value: 82.67201612903227 and parameters: {'lr': 0.001410571207964678, 'num_epochs': 3}. Best is trial 2 with value: 82.67201612903227.\n",
      "100%|██████████| 2/2 [00:10<00:00,  5.13s/it]\n",
      "[I 2024-07-04 10:52:37,692] Trial 3 finished with value: 82.66577956989246 and parameters: {'lr': 0.0019537351868136716, 'num_epochs': 2}. Best is trial 2 with value: 82.67201612903227.\n",
      "100%|██████████| 4/4 [00:20<00:00,  5.15s/it]\n",
      "[I 2024-07-04 10:53:03,101] Trial 4 finished with value: 87.2583870967742 and parameters: {'lr': 0.0005433156066477157, 'num_epochs': 4}. Best is trial 4 with value: 87.2583870967742.\n",
      "100%|██████████| 2/2 [00:10<00:00,  5.14s/it]\n",
      "[I 2024-07-04 10:53:18,182] Trial 5 finished with value: 84.83282258064516 and parameters: {'lr': 0.0015697966974978174, 'num_epochs': 2}. Best is trial 4 with value: 87.2583870967742.\n",
      "100%|██████████| 6/6 [00:30<00:00,  5.15s/it]\n",
      "[I 2024-07-04 10:53:54,022] Trial 6 finished with value: 72.96319892473117 and parameters: {'lr': 0.0017328368094184834, 'num_epochs': 6}. Best is trial 4 with value: 87.2583870967742.\n",
      "100%|██████████| 4/4 [00:20<00:00,  5.15s/it]\n",
      "[I 2024-07-04 10:54:19,438] Trial 7 finished with value: 87.69346774193549 and parameters: {'lr': 0.00036949237073916253, 'num_epochs': 4}. Best is trial 7 with value: 87.69346774193549.\n",
      "100%|██████████| 3/3 [00:15<00:00,  5.15s/it]\n",
      "[I 2024-07-04 10:54:39,690] Trial 8 finished with value: 85.82602150537635 and parameters: {'lr': 6.752289045173221e-05, 'num_epochs': 3}. Best is trial 7 with value: 87.69346774193549.\n",
      "100%|██████████| 6/6 [00:30<00:00,  5.16s/it]\n",
      "[I 2024-07-04 10:55:15,454] Trial 9 finished with value: 90.32666666666665 and parameters: {'lr': 0.00013611211296642417, 'num_epochs': 6}. Best is trial 9 with value: 90.32666666666665.\n",
      "  0%|          | 0/6 [00:00<?, ?it/s]"
     ]
    },
    {
     "name": "stdout",
     "output_type": "stream",
     "text": [
      "In and out sizes :\n",
      "fc1 : in = 784, out = 148\n",
      "fc2 : in = 148, out = 100\n",
      "fc3 : in = 100, out = 10\n"
     ]
    },
    {
     "name": "stderr",
     "output_type": "stream",
     "text": [
      " 17%|█▋        | 1/6 [00:05<00:25,  5.19s/it]"
     ]
    },
    {
     "name": "stdout",
     "output_type": "stream",
     "text": [
      "In and out sizes :\n",
      "fc1 : in = 784, out = 148\n",
      "fc2 : in = 148, out = 100\n",
      "fc3 : in = 100, out = 10\n"
     ]
    },
    {
     "name": "stderr",
     "output_type": "stream",
     "text": [
      " 33%|███▎      | 2/6 [00:10<00:20,  5.18s/it]"
     ]
    },
    {
     "name": "stdout",
     "output_type": "stream",
     "text": [
      "In and out sizes :\n",
      "fc1 : in = 784, out = 148\n",
      "fc2 : in = 148, out = 100\n",
      "fc3 : in = 100, out = 10\n"
     ]
    },
    {
     "name": "stderr",
     "output_type": "stream",
     "text": [
      " 50%|█████     | 3/6 [00:15<00:15,  5.18s/it]"
     ]
    },
    {
     "name": "stdout",
     "output_type": "stream",
     "text": [
      "In and out sizes :\n",
      "fc1 : in = 784, out = 148\n",
      "fc2 : in = 148, out = 100\n",
      "fc3 : in = 100, out = 10\n"
     ]
    },
    {
     "name": "stderr",
     "output_type": "stream",
     "text": [
      " 67%|██████▋   | 4/6 [00:20<00:10,  5.17s/it]"
     ]
    },
    {
     "name": "stdout",
     "output_type": "stream",
     "text": [
      "In and out sizes :\n",
      "fc1 : in = 784, out = 148\n",
      "fc2 : in = 148, out = 100\n",
      "fc3 : in = 100, out = 10\n"
     ]
    },
    {
     "name": "stderr",
     "output_type": "stream",
     "text": [
      " 83%|████████▎ | 5/6 [00:25<00:05,  5.17s/it]"
     ]
    },
    {
     "name": "stdout",
     "output_type": "stream",
     "text": [
      "In and out sizes :\n",
      "fc1 : in = 784, out = 148\n",
      "fc2 : in = 148, out = 100\n",
      "fc3 : in = 100, out = 10\n"
     ]
    },
    {
     "name": "stderr",
     "output_type": "stream",
     "text": [
      "100%|██████████| 6/6 [00:31<00:00,  5.17s/it]\n",
      "[I 2024-07-04 10:55:51,512] A new study created in memory with name: Search number 5\n"
     ]
    },
    {
     "name": "stdout",
     "output_type": "stream",
     "text": [
      "\n",
      "--------------------------------------------------\n",
      "LEARNING TASK 5\n"
     ]
    },
    {
     "name": "stderr",
     "output_type": "stream",
     "text": [
      "100%|██████████| 4/4 [00:20<00:00,  5.15s/it]\n",
      "[I 2024-07-04 10:56:18,145] Trial 0 finished with value: 77.85316129032259 and parameters: {'lr': 0.0019357081860766697, 'num_epochs': 4}. Best is trial 0 with value: 77.85316129032259.\n",
      "100%|██████████| 5/5 [00:25<00:00,  5.16s/it]\n",
      "[I 2024-07-04 10:56:49,980] Trial 1 finished with value: 71.51374193548386 and parameters: {'lr': 0.0019467345019315244, 'num_epochs': 5}. Best is trial 0 with value: 77.85316129032259.\n",
      "100%|██████████| 3/3 [00:15<00:00,  5.17s/it]\n",
      "[I 2024-07-04 10:57:11,524] Trial 2 finished with value: 80.94922580645162 and parameters: {'lr': 0.001410571207964678, 'num_epochs': 3}. Best is trial 2 with value: 80.94922580645162.\n",
      "100%|██████████| 2/2 [00:10<00:00,  5.16s/it]\n",
      "[I 2024-07-04 10:57:27,873] Trial 3 finished with value: 79.10096774193548 and parameters: {'lr': 0.0019537351868136716, 'num_epochs': 2}. Best is trial 2 with value: 80.94922580645162.\n",
      "100%|██████████| 4/4 [00:20<00:00,  5.16s/it]\n",
      "[I 2024-07-04 10:57:54,586] Trial 4 finished with value: 82.40778494623656 and parameters: {'lr': 0.0005433156066477157, 'num_epochs': 4}. Best is trial 4 with value: 82.40778494623656.\n",
      "100%|██████████| 2/2 [00:10<00:00,  5.14s/it]\n",
      "[I 2024-07-04 10:58:10,916] Trial 5 finished with value: 82.31012903225808 and parameters: {'lr': 0.0015697966974978174, 'num_epochs': 2}. Best is trial 4 with value: 82.40778494623656.\n",
      "100%|██████████| 6/6 [00:31<00:00,  5.31s/it]\n",
      "[I 2024-07-04 10:58:49,440] Trial 6 finished with value: 72.19763440860216 and parameters: {'lr': 0.0017328368094184834, 'num_epochs': 6}. Best is trial 4 with value: 82.40778494623656.\n",
      "100%|██████████| 4/4 [00:21<00:00,  5.28s/it]\n",
      "[I 2024-07-04 10:59:16,570] Trial 7 finished with value: 85.73597849462365 and parameters: {'lr': 0.00036949237073916253, 'num_epochs': 4}. Best is trial 7 with value: 85.73597849462365.\n",
      "100%|██████████| 3/3 [00:15<00:00,  5.15s/it]\n",
      "[I 2024-07-04 10:59:38,036] Trial 8 finished with value: 87.62109677419355 and parameters: {'lr': 6.752289045173221e-05, 'num_epochs': 3}. Best is trial 8 with value: 87.62109677419355.\n",
      "100%|██████████| 6/6 [00:30<00:00,  5.16s/it]\n",
      "[I 2024-07-04 11:00:15,369] Trial 9 finished with value: 83.71630107526883 and parameters: {'lr': 0.00013611211296642417, 'num_epochs': 6}. Best is trial 8 with value: 87.62109677419355.\n",
      "  0%|          | 0/3 [00:00<?, ?it/s]"
     ]
    },
    {
     "name": "stdout",
     "output_type": "stream",
     "text": [
      "In and out sizes :\n",
      "fc1 : in = 784, out = 148\n",
      "fc2 : in = 148, out = 100\n",
      "fc3 : in = 100, out = 10\n"
     ]
    },
    {
     "name": "stderr",
     "output_type": "stream",
     "text": [
      " 33%|███▎      | 1/3 [00:05<00:10,  5.18s/it]"
     ]
    },
    {
     "name": "stdout",
     "output_type": "stream",
     "text": [
      "In and out sizes :\n",
      "fc1 : in = 784, out = 148\n",
      "fc2 : in = 148, out = 100\n",
      "fc3 : in = 100, out = 10\n"
     ]
    },
    {
     "name": "stderr",
     "output_type": "stream",
     "text": [
      " 67%|██████▋   | 2/3 [00:10<00:05,  5.17s/it]"
     ]
    },
    {
     "name": "stdout",
     "output_type": "stream",
     "text": [
      "In and out sizes :\n",
      "fc1 : in = 784, out = 148\n",
      "fc2 : in = 148, out = 100\n",
      "fc3 : in = 100, out = 10\n"
     ]
    },
    {
     "name": "stderr",
     "output_type": "stream",
     "text": [
      "100%|██████████| 3/3 [00:15<00:00,  5.17s/it]\n"
     ]
    }
   ],
   "source": [
    "test_accs_matrix, best_params_list, model = call_greedy_HPO(n_trials)"
   ]
  },
  {
   "cell_type": "code",
   "execution_count": 32,
   "metadata": {
    "execution": {
     "iopub.execute_input": "2024-07-02T17:16:34.616134Z",
     "iopub.status.busy": "2024-07-02T17:16:34.615982Z",
     "iopub.status.idle": "2024-07-02T17:16:34.750497Z",
     "shell.execute_reply": "2024-07-02T17:16:34.750100Z"
    }
   },
   "outputs": [
    {
     "data": {
      "image/png": "[encoded data removed]",
      "text/plain": [
       "<Figure size 640x480 with 2 Axes>"
      ]
     },
     "metadata": {},
     "output_type": "display_data"
    }
   ],
   "source": [
    "visualize_accs_matrix(test_accs_matrix, HPO_name, method_name, grow_from, benchmark_name, difficulty, savefig=True)"
   ]
  },
  {
   "cell_type": "code",
   "execution_count": 33,
   "metadata": {
    "execution": {
     "iopub.execute_input": "2024-07-02T17:16:34.751802Z",
     "iopub.status.busy": "2024-07-02T17:16:34.751691Z",
     "iopub.status.idle": "2024-07-02T17:16:34.836237Z",
     "shell.execute_reply": "2024-07-02T17:16:34.835855Z"
    }
   },
   "outputs": [
    {
     "data": {
      "image/png": "[encoded data removed]",
      "text/plain": [
       "<Figure size 640x480 with 1 Axes>"
      ]
     },
     "metadata": {},
     "output_type": "display_data"
    }
   ],
   "source": [
    "visualize_avg_acc_curve(test_accs_matrix, HPO_name, method_name, grow_from, benchmark_name, difficulty, savefig=True)"
   ]
  },
  {
   "cell_type": "code",
   "execution_count": 34,
   "metadata": {
    "execution": {
     "iopub.execute_input": "2024-07-02T17:16:34.837624Z",
     "iopub.status.busy": "2024-07-02T17:16:34.837517Z",
     "iopub.status.idle": "2024-07-02T17:16:35.044798Z",
     "shell.execute_reply": "2024-07-02T17:16:35.044456Z"
    }
   },
   "outputs": [
    {
     "data": {
      "image/png": "[encoded data removed]",
      "text/plain": [
       "<Figure size 1000x500 with 2 Axes>"
      ]
     },
     "metadata": {},
     "output_type": "display_data"
    }
   ],
   "source": [
    "visualize_best_params(best_params_list, HPO_name, method_name, grow_from, benchmark_name, difficulty, savefig=True)"
   ]
  },
  {
   "cell_type": "markdown",
   "metadata": {},
   "source": [
    "# Validation benchmarks"
   ]
  },
  {
   "cell_type": "markdown",
   "metadata": {},
   "source": [
    "## Reproducibility"
   ]
  },
  {
   "cell_type": "code",
   "execution_count": 43,
   "metadata": {
    "execution": {
     "iopub.execute_input": "2024-07-02T17:16:35.047838Z",
     "iopub.status.busy": "2024-07-02T17:16:35.047581Z",
     "iopub.status.idle": "2024-07-02T17:16:35.049922Z",
     "shell.execute_reply": "2024-07-02T17:16:35.049584Z"
    }
   },
   "outputs": [],
   "source": [
    "permutation_random_seeds_list = [list(range(num_tasks*(i), num_tasks*(i+1))) for i in range(0,num_val_benchmarks+1)]"
   ]
  },
  {
   "cell_type": "markdown",
   "metadata": {},
   "source": [
    "## Get p-MNIST loaders"
   ]
  },
  {
   "cell_type": "code",
   "execution_count": 44,
   "metadata": {
    "execution": {
     "iopub.execute_input": "2024-07-02T17:16:35.052597Z",
     "iopub.status.busy": "2024-07-02T17:16:35.052346Z",
     "iopub.status.idle": "2024-07-02T17:19:10.122691Z",
     "shell.execute_reply": "2024-07-02T17:19:10.122087Z"
    }
   },
   "outputs": [],
   "source": [
    "train_loaders_list_list = []\n",
    "test_loaders_list_list = []\n",
    "for i in range(num_val_benchmarks+1) :\n",
    "    permutation_random_seeds = permutation_random_seeds_list[i]\n",
    "    train_loaders_list = []\n",
    "    test_loaders_list = []\n",
    "    for random_seed in permutation_random_seeds :\n",
    "        train_loader, _, test_loader = get_task_loaders(data_path, batch_size, random_seed, train_percentage=train_percentage, difficulty=\"difficult\", download=False)\n",
    "        train_loaders_list += [train_loader]\n",
    "        test_loaders_list += [test_loader]\n",
    "    train_loaders_list_list += [train_loaders_list]\n",
    "    test_loaders_list_list += [test_loaders_list]"
   ]
  },
  {
   "cell_type": "code",
   "execution_count": 45,
   "metadata": {
    "execution": {
     "iopub.execute_input": "2024-07-02T17:19:10.125984Z",
     "iopub.status.busy": "2024-07-02T17:19:10.125703Z",
     "iopub.status.idle": "2024-07-02T17:19:10.128761Z",
     "shell.execute_reply": "2024-07-02T17:19:10.128314Z"
    }
   },
   "outputs": [],
   "source": [
    "val_accs_matrix = np.zeros((num_val_benchmarks+2, num_tasks))"
   ]
  },
  {
   "cell_type": "code",
   "execution_count": 46,
   "metadata": {
    "execution": {
     "iopub.execute_input": "2024-07-02T17:19:10.130882Z",
     "iopub.status.busy": "2024-07-02T17:19:10.130768Z",
     "iopub.status.idle": "2024-07-02T17:19:10.134130Z",
     "shell.execute_reply": "2024-07-02T17:19:10.133708Z"
    }
   },
   "outputs": [],
   "source": [
    "def train_with_best_params (best_params_list, train_loaders_list) :\n",
    "    # Initialize model\n",
    "    benchmark_model = ANN(num_inputs, num_hidden_root, num_outputs, random_seed).to(device)\n",
    "\n",
    "    # Intialize mask\n",
    "    if grow_from == \"input\" :\n",
    "        overall_masks = [np.ones_like(benchmark_model.fc1.weight.data.cpu().numpy()),\n",
    "                        np.ones_like(benchmark_model.fc2.weight.data.cpu().numpy())]\n",
    "    else :\n",
    "        overall_masks = [np.ones_like(benchmark_model.fc2.weight.data.cpu().numpy()),\n",
    "                        np.ones_like(benchmark_model.fc3.weight.data.cpu().numpy())]\n",
    "\n",
    "    for task_number in range(0,num_tasks) :\n",
    "\n",
    "        # Verbose\n",
    "        print(\"\\n\" + \"-\"*50)\n",
    "        print(f\"LEARNING TASK {task_number+1}\")\n",
    "\n",
    "        # Retrain and save a model with the best params\n",
    "        is_first_task = True if task_number==0 else False\n",
    "        params = overall_masks, is_first_task\n",
    "        overall_masks = retrain_and_save_with_best_HPs(benchmark_model, params, best_params_list[task_number], train_loaders_list[task_number]) \n",
    "    \n",
    "    return benchmark_model"
   ]
  },
  {
   "cell_type": "code",
   "execution_count": 47,
   "metadata": {
    "execution": {
     "iopub.execute_input": "2024-07-02T17:19:10.136101Z",
     "iopub.status.busy": "2024-07-02T17:19:10.135985Z",
     "iopub.status.idle": "2024-07-02T17:37:18.037504Z",
     "shell.execute_reply": "2024-07-02T17:37:18.036872Z"
    }
   },
   "outputs": [
    {
     "name": "stdout",
     "output_type": "stream",
     "text": [
      "\n",
      "==================================================\n",
      "BENCHMARK 0\n",
      "\n",
      "==================================================\n",
      "BENCHMARK 0\n",
      "\n",
      "--------------------------------------------------\n",
      "LEARNING TASK 1\n"
     ]
    },
    {
     "name": "stderr",
     "output_type": "stream",
     "text": [
      "  0%|          | 0/5 [00:00<?, ?it/s]"
     ]
    },
    {
     "name": "stdout",
     "output_type": "stream",
     "text": [
      "In and out sizes :\n",
      "fc1 : in = 784, out = 100\n",
      "fc2 : in = 100, out = 100\n",
      "fc3 : in = 100, out = 10\n"
     ]
    },
    {
     "name": "stderr",
     "output_type": "stream",
     "text": [
      " 20%|██        | 1/5 [00:05<00:20,  5.16s/it]"
     ]
    },
    {
     "name": "stdout",
     "output_type": "stream",
     "text": [
      "In and out sizes :\n",
      "fc1 : in = 784, out = 100\n",
      "fc2 : in = 100, out = 100\n",
      "fc3 : in = 100, out = 10\n"
     ]
    },
    {
     "name": "stderr",
     "output_type": "stream",
     "text": [
      " 40%|████      | 2/5 [00:10<00:15,  5.17s/it]"
     ]
    },
    {
     "name": "stdout",
     "output_type": "stream",
     "text": [
      "In and out sizes :\n",
      "fc1 : in = 784, out = 100\n",
      "fc2 : in = 100, out = 100\n",
      "fc3 : in = 100, out = 10\n"
     ]
    },
    {
     "name": "stderr",
     "output_type": "stream",
     "text": [
      " 60%|██████    | 3/5 [00:15<00:10,  5.17s/it]"
     ]
    },
    {
     "name": "stdout",
     "output_type": "stream",
     "text": [
      "In and out sizes :\n",
      "fc1 : in = 784, out = 100\n",
      "fc2 : in = 100, out = 100\n",
      "fc3 : in = 100, out = 10\n"
     ]
    },
    {
     "name": "stderr",
     "output_type": "stream",
     "text": [
      " 80%|████████  | 4/5 [00:20<00:05,  5.18s/it]"
     ]
    },
    {
     "name": "stdout",
     "output_type": "stream",
     "text": [
      "In and out sizes :\n",
      "fc1 : in = 784, out = 100\n",
      "fc2 : in = 100, out = 100\n",
      "fc3 : in = 100, out = 10\n"
     ]
    },
    {
     "name": "stderr",
     "output_type": "stream",
     "text": [
      "100%|██████████| 5/5 [00:25<00:00,  5.18s/it]\n"
     ]
    },
    {
     "name": "stdout",
     "output_type": "stream",
     "text": [
      "\n",
      "--------------------------------------------------\n",
      "LEARNING TASK 2\n"
     ]
    },
    {
     "name": "stderr",
     "output_type": "stream",
     "text": [
      "  0%|          | 0/3 [00:00<?, ?it/s]"
     ]
    },
    {
     "name": "stdout",
     "output_type": "stream",
     "text": [
      "In and out sizes :\n",
      "fc1 : in = 784, out = 100\n",
      "fc2 : in = 100, out = 100\n",
      "fc3 : in = 100, out = 10\n"
     ]
    },
    {
     "name": "stderr",
     "output_type": "stream",
     "text": [
      " 33%|███▎      | 1/3 [00:05<00:10,  5.26s/it]"
     ]
    },
    {
     "name": "stdout",
     "output_type": "stream",
     "text": [
      "In and out sizes :\n",
      "fc1 : in = 784, out = 135\n",
      "fc2 : in = 135, out = 100\n",
      "fc3 : in = 100, out = 10\n"
     ]
    },
    {
     "name": "stderr",
     "output_type": "stream",
     "text": [
      " 67%|██████▋   | 2/3 [00:10<00:05,  5.26s/it]"
     ]
    },
    {
     "name": "stdout",
     "output_type": "stream",
     "text": [
      "In and out sizes :\n",
      "fc1 : in = 784, out = 178\n",
      "fc2 : in = 178, out = 100\n",
      "fc3 : in = 100, out = 10\n"
     ]
    },
    {
     "name": "stderr",
     "output_type": "stream",
     "text": [
      "100%|██████████| 3/3 [00:15<00:00,  5.27s/it]\n"
     ]
    },
    {
     "name": "stdout",
     "output_type": "stream",
     "text": [
      "\n",
      "--------------------------------------------------\n",
      "LEARNING TASK 3\n"
     ]
    },
    {
     "name": "stderr",
     "output_type": "stream",
     "text": [
      "  0%|          | 0/4 [00:00<?, ?it/s]"
     ]
    },
    {
     "name": "stdout",
     "output_type": "stream",
     "text": [
      "In and out sizes :\n",
      "fc1 : in = 784, out = 178\n",
      "fc2 : in = 178, out = 100\n",
      "fc3 : in = 100, out = 10\n"
     ]
    },
    {
     "name": "stderr",
     "output_type": "stream",
     "text": [
      " 25%|██▌       | 1/4 [00:05<00:15,  5.18s/it]"
     ]
    },
    {
     "name": "stdout",
     "output_type": "stream",
     "text": [
      "In and out sizes :\n",
      "fc1 : in = 784, out = 178\n",
      "fc2 : in = 178, out = 100\n",
      "fc3 : in = 100, out = 10\n"
     ]
    },
    {
     "name": "stderr",
     "output_type": "stream",
     "text": [
      " 50%|█████     | 2/4 [00:10<00:10,  5.23s/it]"
     ]
    },
    {
     "name": "stdout",
     "output_type": "stream",
     "text": [
      "In and out sizes :\n",
      "fc1 : in = 784, out = 178\n",
      "fc2 : in = 178, out = 100\n",
      "fc3 : in = 100, out = 10\n"
     ]
    },
    {
     "name": "stderr",
     "output_type": "stream",
     "text": [
      " 75%|███████▌  | 3/4 [00:15<00:05,  5.20s/it]"
     ]
    },
    {
     "name": "stdout",
     "output_type": "stream",
     "text": [
      "In and out sizes :\n",
      "fc1 : in = 784, out = 178\n",
      "fc2 : in = 178, out = 100\n",
      "fc3 : in = 100, out = 10\n"
     ]
    },
    {
     "name": "stderr",
     "output_type": "stream",
     "text": [
      "100%|██████████| 4/4 [00:20<00:00,  5.19s/it]\n"
     ]
    },
    {
     "name": "stdout",
     "output_type": "stream",
     "text": [
      "\n",
      "--------------------------------------------------\n",
      "LEARNING TASK 4\n"
     ]
    },
    {
     "name": "stderr",
     "output_type": "stream",
     "text": [
      "  0%|          | 0/6 [00:00<?, ?it/s]"
     ]
    },
    {
     "name": "stdout",
     "output_type": "stream",
     "text": [
      "In and out sizes :\n",
      "fc1 : in = 784, out = 178\n",
      "fc2 : in = 178, out = 100\n",
      "fc3 : in = 100, out = 10\n"
     ]
    },
    {
     "name": "stderr",
     "output_type": "stream",
     "text": [
      " 17%|█▋        | 1/6 [00:05<00:27,  5.42s/it]"
     ]
    },
    {
     "name": "stdout",
     "output_type": "stream",
     "text": [
      "In and out sizes :\n",
      "fc1 : in = 784, out = 178\n",
      "fc2 : in = 178, out = 100\n",
      "fc3 : in = 100, out = 10\n"
     ]
    },
    {
     "name": "stderr",
     "output_type": "stream",
     "text": [
      " 33%|███▎      | 2/6 [00:10<00:21,  5.31s/it]"
     ]
    },
    {
     "name": "stdout",
     "output_type": "stream",
     "text": [
      "In and out sizes :\n",
      "fc1 : in = 784, out = 178\n",
      "fc2 : in = 178, out = 100\n",
      "fc3 : in = 100, out = 10\n"
     ]
    },
    {
     "name": "stderr",
     "output_type": "stream",
     "text": [
      " 50%|█████     | 3/6 [00:15<00:15,  5.29s/it]"
     ]
    },
    {
     "name": "stdout",
     "output_type": "stream",
     "text": [
      "In and out sizes :\n",
      "fc1 : in = 784, out = 178\n",
      "fc2 : in = 178, out = 100\n",
      "fc3 : in = 100, out = 10\n"
     ]
    },
    {
     "name": "stderr",
     "output_type": "stream",
     "text": [
      " 67%|██████▋   | 4/6 [00:21<00:10,  5.23s/it]"
     ]
    },
    {
     "name": "stdout",
     "output_type": "stream",
     "text": [
      "In and out sizes :\n",
      "fc1 : in = 784, out = 178\n",
      "fc2 : in = 178, out = 100\n",
      "fc3 : in = 100, out = 10\n"
     ]
    },
    {
     "name": "stderr",
     "output_type": "stream",
     "text": [
      " 83%|████████▎ | 5/6 [00:26<00:05,  5.22s/it]"
     ]
    },
    {
     "name": "stdout",
     "output_type": "stream",
     "text": [
      "In and out sizes :\n",
      "fc1 : in = 784, out = 245\n",
      "fc2 : in = 245, out = 100\n",
      "fc3 : in = 100, out = 10\n"
     ]
    },
    {
     "name": "stderr",
     "output_type": "stream",
     "text": [
      "100%|██████████| 6/6 [00:31<00:00,  5.25s/it]\n"
     ]
    },
    {
     "name": "stdout",
     "output_type": "stream",
     "text": [
      "\n",
      "--------------------------------------------------\n",
      "LEARNING TASK 5\n"
     ]
    },
    {
     "name": "stderr",
     "output_type": "stream",
     "text": [
      "  0%|          | 0/3 [00:00<?, ?it/s]"
     ]
    },
    {
     "name": "stdout",
     "output_type": "stream",
     "text": [
      "In and out sizes :\n",
      "fc1 : in = 784, out = 245\n",
      "fc2 : in = 245, out = 100\n",
      "fc3 : in = 100, out = 10\n"
     ]
    },
    {
     "name": "stderr",
     "output_type": "stream",
     "text": [
      " 33%|███▎      | 1/3 [00:05<00:10,  5.25s/it]"
     ]
    },
    {
     "name": "stdout",
     "output_type": "stream",
     "text": [
      "In and out sizes :\n",
      "fc1 : in = 784, out = 245\n",
      "fc2 : in = 245, out = 100\n",
      "fc3 : in = 100, out = 10\n"
     ]
    },
    {
     "name": "stderr",
     "output_type": "stream",
     "text": [
      " 67%|██████▋   | 2/3 [00:10<00:05,  5.21s/it]"
     ]
    },
    {
     "name": "stdout",
     "output_type": "stream",
     "text": [
      "In and out sizes :\n",
      "fc1 : in = 784, out = 341\n",
      "fc2 : in = 341, out = 138\n",
      "fc3 : in = 138, out = 10\n"
     ]
    },
    {
     "name": "stderr",
     "output_type": "stream",
     "text": [
      "100%|██████████| 3/3 [00:15<00:00,  5.19s/it]\n"
     ]
    },
    {
     "name": "stdout",
     "output_type": "stream",
     "text": [
      "\n",
      "==================================================\n",
      "BENCHMARK 1\n",
      "\n",
      "--------------------------------------------------\n",
      "LEARNING TASK 1\n"
     ]
    },
    {
     "name": "stderr",
     "output_type": "stream",
     "text": [
      "  0%|          | 0/5 [00:00<?, ?it/s]"
     ]
    },
    {
     "name": "stdout",
     "output_type": "stream",
     "text": [
      "In and out sizes :\n",
      "fc1 : in = 784, out = 100\n",
      "fc2 : in = 100, out = 100\n",
      "fc3 : in = 100, out = 10\n"
     ]
    },
    {
     "name": "stderr",
     "output_type": "stream",
     "text": [
      " 20%|██        | 1/5 [00:05<00:20,  5.19s/it]"
     ]
    },
    {
     "name": "stdout",
     "output_type": "stream",
     "text": [
      "In and out sizes :\n",
      "fc1 : in = 784, out = 100\n",
      "fc2 : in = 100, out = 100\n",
      "fc3 : in = 100, out = 10\n"
     ]
    },
    {
     "name": "stderr",
     "output_type": "stream",
     "text": [
      " 40%|████      | 2/5 [00:10<00:15,  5.16s/it]"
     ]
    },
    {
     "name": "stdout",
     "output_type": "stream",
     "text": [
      "In and out sizes :\n",
      "fc1 : in = 784, out = 100\n",
      "fc2 : in = 100, out = 100\n",
      "fc3 : in = 100, out = 10\n"
     ]
    },
    {
     "name": "stderr",
     "output_type": "stream",
     "text": [
      " 60%|██████    | 3/5 [00:15<00:10,  5.23s/it]"
     ]
    },
    {
     "name": "stdout",
     "output_type": "stream",
     "text": [
      "In and out sizes :\n",
      "fc1 : in = 784, out = 100\n",
      "fc2 : in = 100, out = 100\n",
      "fc3 : in = 100, out = 10\n"
     ]
    },
    {
     "name": "stderr",
     "output_type": "stream",
     "text": [
      " 80%|████████  | 4/5 [00:20<00:05,  5.26s/it]"
     ]
    },
    {
     "name": "stdout",
     "output_type": "stream",
     "text": [
      "In and out sizes :\n",
      "fc1 : in = 784, out = 100\n",
      "fc2 : in = 100, out = 100\n",
      "fc3 : in = 100, out = 10\n"
     ]
    },
    {
     "name": "stderr",
     "output_type": "stream",
     "text": [
      "100%|██████████| 5/5 [00:26<00:00,  5.23s/it]\n"
     ]
    },
    {
     "name": "stdout",
     "output_type": "stream",
     "text": [
      "\n",
      "--------------------------------------------------\n",
      "LEARNING TASK 2\n"
     ]
    },
    {
     "name": "stderr",
     "output_type": "stream",
     "text": [
      "  0%|          | 0/3 [00:00<?, ?it/s]"
     ]
    },
    {
     "name": "stdout",
     "output_type": "stream",
     "text": [
      "In and out sizes :\n",
      "fc1 : in = 784, out = 100\n",
      "fc2 : in = 100, out = 100\n",
      "fc3 : in = 100, out = 10\n"
     ]
    },
    {
     "name": "stderr",
     "output_type": "stream",
     "text": [
      " 33%|███▎      | 1/3 [00:05<00:10,  5.24s/it]"
     ]
    },
    {
     "name": "stdout",
     "output_type": "stream",
     "text": [
      "In and out sizes :\n",
      "fc1 : in = 784, out = 100\n",
      "fc2 : in = 100, out = 100\n",
      "fc3 : in = 100, out = 10\n"
     ]
    },
    {
     "name": "stderr",
     "output_type": "stream",
     "text": [
      " 67%|██████▋   | 2/3 [00:10<00:05,  5.23s/it]"
     ]
    },
    {
     "name": "stdout",
     "output_type": "stream",
     "text": [
      "In and out sizes :\n",
      "fc1 : in = 784, out = 100\n",
      "fc2 : in = 100, out = 100\n",
      "fc3 : in = 100, out = 10\n"
     ]
    },
    {
     "name": "stderr",
     "output_type": "stream",
     "text": [
      "100%|██████████| 3/3 [00:15<00:00,  5.24s/it]\n"
     ]
    },
    {
     "name": "stdout",
     "output_type": "stream",
     "text": [
      "\n",
      "--------------------------------------------------\n",
      "LEARNING TASK 3\n"
     ]
    },
    {
     "name": "stderr",
     "output_type": "stream",
     "text": [
      "  0%|          | 0/4 [00:00<?, ?it/s]"
     ]
    },
    {
     "name": "stdout",
     "output_type": "stream",
     "text": [
      "In and out sizes :\n",
      "fc1 : in = 784, out = 140\n",
      "fc2 : in = 140, out = 100\n",
      "fc3 : in = 100, out = 10\n"
     ]
    },
    {
     "name": "stderr",
     "output_type": "stream",
     "text": [
      " 25%|██▌       | 1/4 [00:05<00:15,  5.17s/it]"
     ]
    },
    {
     "name": "stdout",
     "output_type": "stream",
     "text": [
      "In and out sizes :\n",
      "fc1 : in = 784, out = 140\n",
      "fc2 : in = 140, out = 100\n",
      "fc3 : in = 100, out = 10\n"
     ]
    },
    {
     "name": "stderr",
     "output_type": "stream",
     "text": [
      " 50%|█████     | 2/4 [00:10<00:10,  5.22s/it]"
     ]
    },
    {
     "name": "stdout",
     "output_type": "stream",
     "text": [
      "In and out sizes :\n",
      "fc1 : in = 784, out = 192\n",
      "fc2 : in = 192, out = 100\n",
      "fc3 : in = 100, out = 10\n"
     ]
    },
    {
     "name": "stderr",
     "output_type": "stream",
     "text": [
      " 75%|███████▌  | 3/4 [00:15<00:05,  5.22s/it]"
     ]
    },
    {
     "name": "stdout",
     "output_type": "stream",
     "text": [
      "In and out sizes :\n",
      "fc1 : in = 784, out = 192\n",
      "fc2 : in = 192, out = 100\n",
      "fc3 : in = 100, out = 10\n"
     ]
    },
    {
     "name": "stderr",
     "output_type": "stream",
     "text": [
      "100%|██████████| 4/4 [00:20<00:00,  5.20s/it]\n"
     ]
    },
    {
     "name": "stdout",
     "output_type": "stream",
     "text": [
      "\n",
      "--------------------------------------------------\n",
      "LEARNING TASK 4\n"
     ]
    },
    {
     "name": "stderr",
     "output_type": "stream",
     "text": [
      "  0%|          | 0/6 [00:00<?, ?it/s]"
     ]
    },
    {
     "name": "stdout",
     "output_type": "stream",
     "text": [
      "In and out sizes :\n",
      "fc1 : in = 784, out = 192\n",
      "fc2 : in = 192, out = 100\n",
      "fc3 : in = 100, out = 10\n"
     ]
    },
    {
     "name": "stderr",
     "output_type": "stream",
     "text": [
      " 17%|█▋        | 1/6 [00:05<00:25,  5.15s/it]"
     ]
    },
    {
     "name": "stdout",
     "output_type": "stream",
     "text": [
      "In and out sizes :\n",
      "fc1 : in = 784, out = 192\n",
      "fc2 : in = 192, out = 100\n",
      "fc3 : in = 100, out = 10\n"
     ]
    },
    {
     "name": "stderr",
     "output_type": "stream",
     "text": [
      " 33%|███▎      | 2/6 [00:10<00:20,  5.18s/it]"
     ]
    },
    {
     "name": "stdout",
     "output_type": "stream",
     "text": [
      "In and out sizes :\n",
      "fc1 : in = 784, out = 287\n",
      "fc2 : in = 287, out = 100\n",
      "fc3 : in = 100, out = 10\n"
     ]
    },
    {
     "name": "stderr",
     "output_type": "stream",
     "text": [
      " 50%|█████     | 3/6 [00:15<00:15,  5.19s/it]"
     ]
    },
    {
     "name": "stdout",
     "output_type": "stream",
     "text": [
      "In and out sizes :\n",
      "fc1 : in = 784, out = 287\n",
      "fc2 : in = 287, out = 100\n",
      "fc3 : in = 100, out = 10\n"
     ]
    },
    {
     "name": "stderr",
     "output_type": "stream",
     "text": [
      " 67%|██████▋   | 4/6 [00:20<00:10,  5.17s/it]"
     ]
    },
    {
     "name": "stdout",
     "output_type": "stream",
     "text": [
      "In and out sizes :\n",
      "fc1 : in = 784, out = 287\n",
      "fc2 : in = 287, out = 100\n",
      "fc3 : in = 100, out = 10\n"
     ]
    },
    {
     "name": "stderr",
     "output_type": "stream",
     "text": [
      " 83%|████████▎ | 5/6 [00:25<00:05,  5.16s/it]"
     ]
    },
    {
     "name": "stdout",
     "output_type": "stream",
     "text": [
      "In and out sizes :\n",
      "fc1 : in = 784, out = 287\n",
      "fc2 : in = 287, out = 100\n",
      "fc3 : in = 100, out = 10\n"
     ]
    },
    {
     "name": "stderr",
     "output_type": "stream",
     "text": [
      "100%|██████████| 6/6 [00:30<00:00,  5.16s/it]\n"
     ]
    },
    {
     "name": "stdout",
     "output_type": "stream",
     "text": [
      "\n",
      "--------------------------------------------------\n",
      "LEARNING TASK 5\n"
     ]
    },
    {
     "name": "stderr",
     "output_type": "stream",
     "text": [
      "  0%|          | 0/3 [00:00<?, ?it/s]"
     ]
    },
    {
     "name": "stdout",
     "output_type": "stream",
     "text": [
      "In and out sizes :\n",
      "fc1 : in = 784, out = 287\n",
      "fc2 : in = 287, out = 100\n",
      "fc3 : in = 100, out = 10\n"
     ]
    },
    {
     "name": "stderr",
     "output_type": "stream",
     "text": [
      " 33%|███▎      | 1/3 [00:05<00:10,  5.15s/it]"
     ]
    },
    {
     "name": "stdout",
     "output_type": "stream",
     "text": [
      "In and out sizes :\n",
      "fc1 : in = 784, out = 287\n",
      "fc2 : in = 287, out = 100\n",
      "fc3 : in = 100, out = 10\n"
     ]
    },
    {
     "name": "stderr",
     "output_type": "stream",
     "text": [
      " 67%|██████▋   | 2/3 [00:10<00:05,  5.18s/it]"
     ]
    },
    {
     "name": "stdout",
     "output_type": "stream",
     "text": [
      "In and out sizes :\n",
      "fc1 : in = 784, out = 287\n",
      "fc2 : in = 287, out = 100\n",
      "fc3 : in = 100, out = 10\n"
     ]
    },
    {
     "name": "stderr",
     "output_type": "stream",
     "text": [
      "100%|██████████| 3/3 [00:15<00:00,  5.19s/it]\n"
     ]
    },
    {
     "name": "stdout",
     "output_type": "stream",
     "text": [
      "\n",
      "==================================================\n",
      "BENCHMARK 2\n",
      "\n",
      "--------------------------------------------------\n",
      "LEARNING TASK 1\n"
     ]
    },
    {
     "name": "stderr",
     "output_type": "stream",
     "text": [
      "  0%|          | 0/5 [00:00<?, ?it/s]"
     ]
    },
    {
     "name": "stdout",
     "output_type": "stream",
     "text": [
      "In and out sizes :\n",
      "fc1 : in = 784, out = 100\n",
      "fc2 : in = 100, out = 100\n",
      "fc3 : in = 100, out = 10\n"
     ]
    },
    {
     "name": "stderr",
     "output_type": "stream",
     "text": [
      " 20%|██        | 1/5 [00:05<00:20,  5.14s/it]"
     ]
    },
    {
     "name": "stdout",
     "output_type": "stream",
     "text": [
      "In and out sizes :\n",
      "fc1 : in = 784, out = 100\n",
      "fc2 : in = 100, out = 100\n",
      "fc3 : in = 100, out = 10\n"
     ]
    },
    {
     "name": "stderr",
     "output_type": "stream",
     "text": [
      " 40%|████      | 2/5 [00:10<00:15,  5.32s/it]"
     ]
    },
    {
     "name": "stdout",
     "output_type": "stream",
     "text": [
      "In and out sizes :\n",
      "fc1 : in = 784, out = 100\n",
      "fc2 : in = 100, out = 100\n",
      "fc3 : in = 100, out = 10\n"
     ]
    },
    {
     "name": "stderr",
     "output_type": "stream",
     "text": [
      " 60%|██████    | 3/5 [00:15<00:10,  5.27s/it]"
     ]
    },
    {
     "name": "stdout",
     "output_type": "stream",
     "text": [
      "In and out sizes :\n",
      "fc1 : in = 784, out = 100\n",
      "fc2 : in = 100, out = 100\n",
      "fc3 : in = 100, out = 10\n"
     ]
    },
    {
     "name": "stderr",
     "output_type": "stream",
     "text": [
      " 80%|████████  | 4/5 [00:20<00:05,  5.22s/it]"
     ]
    },
    {
     "name": "stdout",
     "output_type": "stream",
     "text": [
      "In and out sizes :\n",
      "fc1 : in = 784, out = 100\n",
      "fc2 : in = 100, out = 100\n",
      "fc3 : in = 100, out = 10\n"
     ]
    },
    {
     "name": "stderr",
     "output_type": "stream",
     "text": [
      "100%|██████████| 5/5 [00:26<00:00,  5.21s/it]\n"
     ]
    },
    {
     "name": "stdout",
     "output_type": "stream",
     "text": [
      "\n",
      "--------------------------------------------------\n",
      "LEARNING TASK 2\n"
     ]
    },
    {
     "name": "stderr",
     "output_type": "stream",
     "text": [
      "  0%|          | 0/3 [00:00<?, ?it/s]"
     ]
    },
    {
     "name": "stdout",
     "output_type": "stream",
     "text": [
      "In and out sizes :\n",
      "fc1 : in = 784, out = 100\n",
      "fc2 : in = 100, out = 100\n",
      "fc3 : in = 100, out = 10\n"
     ]
    },
    {
     "name": "stderr",
     "output_type": "stream",
     "text": [
      " 33%|███▎      | 1/3 [00:05<00:10,  5.16s/it]"
     ]
    },
    {
     "name": "stdout",
     "output_type": "stream",
     "text": [
      "In and out sizes :\n",
      "fc1 : in = 784, out = 100\n",
      "fc2 : in = 100, out = 100\n",
      "fc3 : in = 100, out = 10\n"
     ]
    },
    {
     "name": "stderr",
     "output_type": "stream",
     "text": [
      " 67%|██████▋   | 2/3 [00:10<00:05,  5.28s/it]"
     ]
    },
    {
     "name": "stdout",
     "output_type": "stream",
     "text": [
      "In and out sizes :\n",
      "fc1 : in = 784, out = 100\n",
      "fc2 : in = 100, out = 100\n",
      "fc3 : in = 100, out = 10\n"
     ]
    },
    {
     "name": "stderr",
     "output_type": "stream",
     "text": [
      "100%|██████████| 3/3 [00:15<00:00,  5.23s/it]\n"
     ]
    },
    {
     "name": "stdout",
     "output_type": "stream",
     "text": [
      "\n",
      "--------------------------------------------------\n",
      "LEARNING TASK 3\n"
     ]
    },
    {
     "name": "stderr",
     "output_type": "stream",
     "text": [
      "  0%|          | 0/4 [00:00<?, ?it/s]"
     ]
    },
    {
     "name": "stdout",
     "output_type": "stream",
     "text": [
      "In and out sizes :\n",
      "fc1 : in = 784, out = 100\n",
      "fc2 : in = 100, out = 100\n",
      "fc3 : in = 100, out = 10\n"
     ]
    },
    {
     "name": "stderr",
     "output_type": "stream",
     "text": [
      " 25%|██▌       | 1/4 [00:05<00:15,  5.17s/it]"
     ]
    },
    {
     "name": "stdout",
     "output_type": "stream",
     "text": [
      "In and out sizes :\n",
      "fc1 : in = 784, out = 100\n",
      "fc2 : in = 100, out = 100\n",
      "fc3 : in = 100, out = 10\n"
     ]
    },
    {
     "name": "stderr",
     "output_type": "stream",
     "text": [
      " 50%|█████     | 2/4 [00:10<00:10,  5.21s/it]"
     ]
    },
    {
     "name": "stdout",
     "output_type": "stream",
     "text": [
      "In and out sizes :\n",
      "fc1 : in = 784, out = 141\n",
      "fc2 : in = 141, out = 100\n",
      "fc3 : in = 100, out = 10\n"
     ]
    },
    {
     "name": "stderr",
     "output_type": "stream",
     "text": [
      " 75%|███████▌  | 3/4 [00:15<00:05,  5.19s/it]"
     ]
    },
    {
     "name": "stdout",
     "output_type": "stream",
     "text": [
      "In and out sizes :\n",
      "fc1 : in = 784, out = 141\n",
      "fc2 : in = 141, out = 112\n",
      "fc3 : in = 112, out = 10\n"
     ]
    },
    {
     "name": "stderr",
     "output_type": "stream",
     "text": [
      "100%|██████████| 4/4 [00:20<00:00,  5.19s/it]\n"
     ]
    },
    {
     "name": "stdout",
     "output_type": "stream",
     "text": [
      "\n",
      "--------------------------------------------------\n",
      "LEARNING TASK 4\n"
     ]
    },
    {
     "name": "stderr",
     "output_type": "stream",
     "text": [
      "  0%|          | 0/6 [00:00<?, ?it/s]"
     ]
    },
    {
     "name": "stdout",
     "output_type": "stream",
     "text": [
      "In and out sizes :\n",
      "fc1 : in = 784, out = 141\n",
      "fc2 : in = 141, out = 112\n",
      "fc3 : in = 112, out = 10\n"
     ]
    },
    {
     "name": "stderr",
     "output_type": "stream",
     "text": [
      " 17%|█▋        | 1/6 [00:05<00:26,  5.20s/it]"
     ]
    },
    {
     "name": "stdout",
     "output_type": "stream",
     "text": [
      "In and out sizes :\n",
      "fc1 : in = 784, out = 141\n",
      "fc2 : in = 141, out = 112\n",
      "fc3 : in = 112, out = 10\n"
     ]
    },
    {
     "name": "stderr",
     "output_type": "stream",
     "text": [
      " 33%|███▎      | 2/6 [00:10<00:20,  5.17s/it]"
     ]
    },
    {
     "name": "stdout",
     "output_type": "stream",
     "text": [
      "In and out sizes :\n",
      "fc1 : in = 784, out = 141\n",
      "fc2 : in = 141, out = 112\n",
      "fc3 : in = 112, out = 10\n"
     ]
    },
    {
     "name": "stderr",
     "output_type": "stream",
     "text": [
      " 50%|█████     | 3/6 [00:15<00:15,  5.28s/it]"
     ]
    },
    {
     "name": "stdout",
     "output_type": "stream",
     "text": [
      "In and out sizes :\n",
      "fc1 : in = 784, out = 223\n",
      "fc2 : in = 223, out = 112\n",
      "fc3 : in = 112, out = 10\n"
     ]
    },
    {
     "name": "stderr",
     "output_type": "stream",
     "text": [
      " 67%|██████▋   | 4/6 [00:20<00:10,  5.26s/it]"
     ]
    },
    {
     "name": "stdout",
     "output_type": "stream",
     "text": [
      "In and out sizes :\n",
      "fc1 : in = 784, out = 377\n",
      "fc2 : in = 377, out = 112\n",
      "fc3 : in = 112, out = 10\n"
     ]
    },
    {
     "name": "stderr",
     "output_type": "stream",
     "text": [
      " 83%|████████▎ | 5/6 [00:26<00:05,  5.26s/it]"
     ]
    },
    {
     "name": "stdout",
     "output_type": "stream",
     "text": [
      "In and out sizes :\n",
      "fc1 : in = 784, out = 377\n",
      "fc2 : in = 377, out = 112\n",
      "fc3 : in = 112, out = 10\n"
     ]
    },
    {
     "name": "stderr",
     "output_type": "stream",
     "text": [
      "100%|██████████| 6/6 [00:31<00:00,  5.23s/it]\n"
     ]
    },
    {
     "name": "stdout",
     "output_type": "stream",
     "text": [
      "\n",
      "--------------------------------------------------\n",
      "LEARNING TASK 5\n"
     ]
    },
    {
     "name": "stderr",
     "output_type": "stream",
     "text": [
      "  0%|          | 0/3 [00:00<?, ?it/s]"
     ]
    },
    {
     "name": "stdout",
     "output_type": "stream",
     "text": [
      "In and out sizes :\n",
      "fc1 : in = 784, out = 377\n",
      "fc2 : in = 377, out = 112\n",
      "fc3 : in = 112, out = 10\n"
     ]
    },
    {
     "name": "stderr",
     "output_type": "stream",
     "text": [
      " 33%|███▎      | 1/3 [00:05<00:10,  5.23s/it]"
     ]
    },
    {
     "name": "stdout",
     "output_type": "stream",
     "text": [
      "In and out sizes :\n",
      "fc1 : in = 784, out = 377\n",
      "fc2 : in = 377, out = 112\n",
      "fc3 : in = 112, out = 10\n"
     ]
    },
    {
     "name": "stderr",
     "output_type": "stream",
     "text": [
      " 67%|██████▋   | 2/3 [00:10<00:05,  5.20s/it]"
     ]
    },
    {
     "name": "stdout",
     "output_type": "stream",
     "text": [
      "In and out sizes :\n",
      "fc1 : in = 784, out = 642\n",
      "fc2 : in = 642, out = 112\n",
      "fc3 : in = 112, out = 10\n"
     ]
    },
    {
     "name": "stderr",
     "output_type": "stream",
     "text": [
      "100%|██████████| 3/3 [00:15<00:00,  5.19s/it]\n"
     ]
    },
    {
     "name": "stdout",
     "output_type": "stream",
     "text": [
      "\n",
      "==================================================\n",
      "BENCHMARK 3\n",
      "\n",
      "--------------------------------------------------\n",
      "LEARNING TASK 1\n"
     ]
    },
    {
     "name": "stderr",
     "output_type": "stream",
     "text": [
      "  0%|          | 0/5 [00:00<?, ?it/s]"
     ]
    },
    {
     "name": "stdout",
     "output_type": "stream",
     "text": [
      "In and out sizes :\n",
      "fc1 : in = 784, out = 100\n",
      "fc2 : in = 100, out = 100\n",
      "fc3 : in = 100, out = 10\n"
     ]
    },
    {
     "name": "stderr",
     "output_type": "stream",
     "text": [
      " 20%|██        | 1/5 [00:05<00:20,  5.13s/it]"
     ]
    },
    {
     "name": "stdout",
     "output_type": "stream",
     "text": [
      "In and out sizes :\n",
      "fc1 : in = 784, out = 100\n",
      "fc2 : in = 100, out = 100\n",
      "fc3 : in = 100, out = 10\n"
     ]
    },
    {
     "name": "stderr",
     "output_type": "stream",
     "text": [
      " 40%|████      | 2/5 [00:10<00:15,  5.18s/it]"
     ]
    },
    {
     "name": "stdout",
     "output_type": "stream",
     "text": [
      "In and out sizes :\n",
      "fc1 : in = 784, out = 100\n",
      "fc2 : in = 100, out = 100\n",
      "fc3 : in = 100, out = 10\n"
     ]
    },
    {
     "name": "stderr",
     "output_type": "stream",
     "text": [
      " 60%|██████    | 3/5 [00:15<00:10,  5.16s/it]"
     ]
    },
    {
     "name": "stdout",
     "output_type": "stream",
     "text": [
      "In and out sizes :\n",
      "fc1 : in = 784, out = 100\n",
      "fc2 : in = 100, out = 100\n",
      "fc3 : in = 100, out = 10\n"
     ]
    },
    {
     "name": "stderr",
     "output_type": "stream",
     "text": [
      " 80%|████████  | 4/5 [00:20<00:05,  5.15s/it]"
     ]
    },
    {
     "name": "stdout",
     "output_type": "stream",
     "text": [
      "In and out sizes :\n",
      "fc1 : in = 784, out = 100\n",
      "fc2 : in = 100, out = 100\n",
      "fc3 : in = 100, out = 10\n"
     ]
    },
    {
     "name": "stderr",
     "output_type": "stream",
     "text": [
      "100%|██████████| 5/5 [00:25<00:00,  5.16s/it]\n"
     ]
    },
    {
     "name": "stdout",
     "output_type": "stream",
     "text": [
      "\n",
      "--------------------------------------------------\n",
      "LEARNING TASK 2\n"
     ]
    },
    {
     "name": "stderr",
     "output_type": "stream",
     "text": [
      "  0%|          | 0/3 [00:00<?, ?it/s]"
     ]
    },
    {
     "name": "stdout",
     "output_type": "stream",
     "text": [
      "In and out sizes :\n",
      "fc1 : in = 784, out = 100\n",
      "fc2 : in = 100, out = 100\n",
      "fc3 : in = 100, out = 10\n"
     ]
    },
    {
     "name": "stderr",
     "output_type": "stream",
     "text": [
      " 33%|███▎      | 1/3 [00:05<00:10,  5.15s/it]"
     ]
    },
    {
     "name": "stdout",
     "output_type": "stream",
     "text": [
      "In and out sizes :\n",
      "fc1 : in = 784, out = 100\n",
      "fc2 : in = 100, out = 100\n",
      "fc3 : in = 100, out = 10\n"
     ]
    },
    {
     "name": "stderr",
     "output_type": "stream",
     "text": [
      " 67%|██████▋   | 2/3 [00:10<00:05,  5.15s/it]"
     ]
    },
    {
     "name": "stdout",
     "output_type": "stream",
     "text": [
      "In and out sizes :\n",
      "fc1 : in = 784, out = 100\n",
      "fc2 : in = 100, out = 100\n",
      "fc3 : in = 100, out = 10\n"
     ]
    },
    {
     "name": "stderr",
     "output_type": "stream",
     "text": [
      "100%|██████████| 3/3 [00:15<00:00,  5.15s/it]\n"
     ]
    },
    {
     "name": "stdout",
     "output_type": "stream",
     "text": [
      "\n",
      "--------------------------------------------------\n",
      "LEARNING TASK 3\n"
     ]
    },
    {
     "name": "stderr",
     "output_type": "stream",
     "text": [
      "  0%|          | 0/4 [00:00<?, ?it/s]"
     ]
    },
    {
     "name": "stdout",
     "output_type": "stream",
     "text": [
      "In and out sizes :\n",
      "fc1 : in = 784, out = 100\n",
      "fc2 : in = 100, out = 100\n",
      "fc3 : in = 100, out = 10\n"
     ]
    },
    {
     "name": "stderr",
     "output_type": "stream",
     "text": [
      " 25%|██▌       | 1/4 [00:05<00:15,  5.16s/it]"
     ]
    },
    {
     "name": "stdout",
     "output_type": "stream",
     "text": [
      "In and out sizes :\n",
      "fc1 : in = 784, out = 142\n",
      "fc2 : in = 142, out = 100\n",
      "fc3 : in = 100, out = 10\n"
     ]
    },
    {
     "name": "stderr",
     "output_type": "stream",
     "text": [
      " 50%|█████     | 2/4 [00:10<00:10,  5.15s/it]"
     ]
    },
    {
     "name": "stdout",
     "output_type": "stream",
     "text": [
      "In and out sizes :\n",
      "fc1 : in = 784, out = 142\n",
      "fc2 : in = 142, out = 100\n",
      "fc3 : in = 100, out = 10\n"
     ]
    },
    {
     "name": "stderr",
     "output_type": "stream",
     "text": [
      " 75%|███████▌  | 3/4 [00:15<00:05,  5.15s/it]"
     ]
    },
    {
     "name": "stdout",
     "output_type": "stream",
     "text": [
      "In and out sizes :\n",
      "fc1 : in = 784, out = 142\n",
      "fc2 : in = 142, out = 100\n",
      "fc3 : in = 100, out = 10\n"
     ]
    },
    {
     "name": "stderr",
     "output_type": "stream",
     "text": [
      "100%|██████████| 4/4 [00:20<00:00,  5.15s/it]\n"
     ]
    },
    {
     "name": "stdout",
     "output_type": "stream",
     "text": [
      "\n",
      "--------------------------------------------------\n",
      "LEARNING TASK 4\n"
     ]
    },
    {
     "name": "stderr",
     "output_type": "stream",
     "text": [
      "  0%|          | 0/6 [00:00<?, ?it/s]"
     ]
    },
    {
     "name": "stdout",
     "output_type": "stream",
     "text": [
      "In and out sizes :\n",
      "fc1 : in = 784, out = 142\n",
      "fc2 : in = 142, out = 100\n",
      "fc3 : in = 100, out = 10\n"
     ]
    },
    {
     "name": "stderr",
     "output_type": "stream",
     "text": [
      " 17%|█▋        | 1/6 [00:05<00:25,  5.14s/it]"
     ]
    },
    {
     "name": "stdout",
     "output_type": "stream",
     "text": [
      "In and out sizes :\n",
      "fc1 : in = 784, out = 142\n",
      "fc2 : in = 142, out = 100\n",
      "fc3 : in = 100, out = 10\n"
     ]
    },
    {
     "name": "stderr",
     "output_type": "stream",
     "text": [
      " 33%|███▎      | 2/6 [00:10<00:20,  5.13s/it]"
     ]
    },
    {
     "name": "stdout",
     "output_type": "stream",
     "text": [
      "In and out sizes :\n",
      "fc1 : in = 784, out = 142\n",
      "fc2 : in = 142, out = 100\n",
      "fc3 : in = 100, out = 10\n"
     ]
    },
    {
     "name": "stderr",
     "output_type": "stream",
     "text": [
      " 50%|█████     | 3/6 [00:15<00:15,  5.24s/it]"
     ]
    },
    {
     "name": "stdout",
     "output_type": "stream",
     "text": [
      "In and out sizes :\n",
      "fc1 : in = 784, out = 142\n",
      "fc2 : in = 142, out = 100\n",
      "fc3 : in = 100, out = 10\n"
     ]
    },
    {
     "name": "stderr",
     "output_type": "stream",
     "text": [
      " 67%|██████▋   | 4/6 [00:20<00:10,  5.20s/it]"
     ]
    },
    {
     "name": "stdout",
     "output_type": "stream",
     "text": [
      "In and out sizes :\n",
      "fc1 : in = 784, out = 142\n",
      "fc2 : in = 142, out = 100\n",
      "fc3 : in = 100, out = 10\n"
     ]
    },
    {
     "name": "stderr",
     "output_type": "stream",
     "text": [
      " 83%|████████▎ | 5/6 [00:25<00:05,  5.18s/it]"
     ]
    },
    {
     "name": "stdout",
     "output_type": "stream",
     "text": [
      "In and out sizes :\n",
      "fc1 : in = 784, out = 146\n",
      "fc2 : in = 146, out = 100\n",
      "fc3 : in = 100, out = 10\n"
     ]
    },
    {
     "name": "stderr",
     "output_type": "stream",
     "text": [
      "100%|██████████| 6/6 [00:31<00:00,  5.23s/it]\n"
     ]
    },
    {
     "name": "stdout",
     "output_type": "stream",
     "text": [
      "\n",
      "--------------------------------------------------\n",
      "LEARNING TASK 5\n"
     ]
    },
    {
     "name": "stderr",
     "output_type": "stream",
     "text": [
      "  0%|          | 0/3 [00:00<?, ?it/s]"
     ]
    },
    {
     "name": "stdout",
     "output_type": "stream",
     "text": [
      "In and out sizes :\n",
      "fc1 : in = 784, out = 146\n",
      "fc2 : in = 146, out = 110\n",
      "fc3 : in = 110, out = 10\n"
     ]
    },
    {
     "name": "stderr",
     "output_type": "stream",
     "text": [
      " 33%|███▎      | 1/3 [00:05<00:10,  5.27s/it]"
     ]
    },
    {
     "name": "stdout",
     "output_type": "stream",
     "text": [
      "In and out sizes :\n",
      "fc1 : in = 784, out = 146\n",
      "fc2 : in = 146, out = 110\n",
      "fc3 : in = 110, out = 10\n"
     ]
    },
    {
     "name": "stderr",
     "output_type": "stream",
     "text": [
      " 67%|██████▋   | 2/3 [00:10<00:05,  5.32s/it]"
     ]
    },
    {
     "name": "stdout",
     "output_type": "stream",
     "text": [
      "In and out sizes :\n",
      "fc1 : in = 784, out = 146\n",
      "fc2 : in = 146, out = 110\n",
      "fc3 : in = 110, out = 10\n"
     ]
    },
    {
     "name": "stderr",
     "output_type": "stream",
     "text": [
      "100%|██████████| 3/3 [00:16<00:00,  5.35s/it]\n"
     ]
    },
    {
     "name": "stdout",
     "output_type": "stream",
     "text": [
      "\n",
      "==================================================\n",
      "BENCHMARK 4\n",
      "\n",
      "--------------------------------------------------\n",
      "LEARNING TASK 1\n"
     ]
    },
    {
     "name": "stderr",
     "output_type": "stream",
     "text": [
      "  0%|          | 0/5 [00:00<?, ?it/s]"
     ]
    },
    {
     "name": "stdout",
     "output_type": "stream",
     "text": [
      "In and out sizes :\n",
      "fc1 : in = 784, out = 100\n",
      "fc2 : in = 100, out = 100\n",
      "fc3 : in = 100, out = 10\n"
     ]
    },
    {
     "name": "stderr",
     "output_type": "stream",
     "text": [
      " 20%|██        | 1/5 [00:05<00:21,  5.47s/it]"
     ]
    },
    {
     "name": "stdout",
     "output_type": "stream",
     "text": [
      "In and out sizes :\n",
      "fc1 : in = 784, out = 100\n",
      "fc2 : in = 100, out = 100\n",
      "fc3 : in = 100, out = 10\n"
     ]
    },
    {
     "name": "stderr",
     "output_type": "stream",
     "text": [
      " 40%|████      | 2/5 [00:10<00:16,  5.46s/it]"
     ]
    },
    {
     "name": "stdout",
     "output_type": "stream",
     "text": [
      "In and out sizes :\n",
      "fc1 : in = 784, out = 100\n",
      "fc2 : in = 100, out = 100\n",
      "fc3 : in = 100, out = 10\n"
     ]
    },
    {
     "name": "stderr",
     "output_type": "stream",
     "text": [
      " 60%|██████    | 3/5 [00:16<00:10,  5.42s/it]"
     ]
    },
    {
     "name": "stdout",
     "output_type": "stream",
     "text": [
      "In and out sizes :\n",
      "fc1 : in = 784, out = 100\n",
      "fc2 : in = 100, out = 100\n",
      "fc3 : in = 100, out = 10\n"
     ]
    },
    {
     "name": "stderr",
     "output_type": "stream",
     "text": [
      " 80%|████████  | 4/5 [00:21<00:05,  5.32s/it]"
     ]
    },
    {
     "name": "stdout",
     "output_type": "stream",
     "text": [
      "In and out sizes :\n",
      "fc1 : in = 784, out = 100\n",
      "fc2 : in = 100, out = 100\n",
      "fc3 : in = 100, out = 10\n"
     ]
    },
    {
     "name": "stderr",
     "output_type": "stream",
     "text": [
      "100%|██████████| 5/5 [00:26<00:00,  5.32s/it]\n"
     ]
    },
    {
     "name": "stdout",
     "output_type": "stream",
     "text": [
      "\n",
      "--------------------------------------------------\n",
      "LEARNING TASK 2\n"
     ]
    },
    {
     "name": "stderr",
     "output_type": "stream",
     "text": [
      "  0%|          | 0/3 [00:00<?, ?it/s]"
     ]
    },
    {
     "name": "stdout",
     "output_type": "stream",
     "text": [
      "In and out sizes :\n",
      "fc1 : in = 784, out = 100\n",
      "fc2 : in = 100, out = 100\n",
      "fc3 : in = 100, out = 10\n"
     ]
    },
    {
     "name": "stderr",
     "output_type": "stream",
     "text": [
      " 33%|███▎      | 1/3 [00:05<00:10,  5.17s/it]"
     ]
    },
    {
     "name": "stdout",
     "output_type": "stream",
     "text": [
      "In and out sizes :\n",
      "fc1 : in = 784, out = 100\n",
      "fc2 : in = 100, out = 100\n",
      "fc3 : in = 100, out = 10\n"
     ]
    },
    {
     "name": "stderr",
     "output_type": "stream",
     "text": [
      " 67%|██████▋   | 2/3 [00:10<00:05,  5.17s/it]"
     ]
    },
    {
     "name": "stdout",
     "output_type": "stream",
     "text": [
      "In and out sizes :\n",
      "fc1 : in = 784, out = 100\n",
      "fc2 : in = 100, out = 100\n",
      "fc3 : in = 100, out = 10\n"
     ]
    },
    {
     "name": "stderr",
     "output_type": "stream",
     "text": [
      "100%|██████████| 3/3 [00:15<00:00,  5.17s/it]\n"
     ]
    },
    {
     "name": "stdout",
     "output_type": "stream",
     "text": [
      "\n",
      "--------------------------------------------------\n",
      "LEARNING TASK 3\n"
     ]
    },
    {
     "name": "stderr",
     "output_type": "stream",
     "text": [
      "  0%|          | 0/4 [00:00<?, ?it/s]"
     ]
    },
    {
     "name": "stdout",
     "output_type": "stream",
     "text": [
      "In and out sizes :\n",
      "fc1 : in = 784, out = 102\n",
      "fc2 : in = 102, out = 100\n",
      "fc3 : in = 100, out = 10\n"
     ]
    },
    {
     "name": "stderr",
     "output_type": "stream",
     "text": [
      " 25%|██▌       | 1/4 [00:05<00:15,  5.16s/it]"
     ]
    },
    {
     "name": "stdout",
     "output_type": "stream",
     "text": [
      "In and out sizes :\n",
      "fc1 : in = 784, out = 102\n",
      "fc2 : in = 102, out = 100\n",
      "fc3 : in = 100, out = 10\n"
     ]
    },
    {
     "name": "stderr",
     "output_type": "stream",
     "text": [
      " 50%|█████     | 2/4 [00:10<00:10,  5.17s/it]"
     ]
    },
    {
     "name": "stdout",
     "output_type": "stream",
     "text": [
      "In and out sizes :\n",
      "fc1 : in = 784, out = 138\n",
      "fc2 : in = 138, out = 100\n",
      "fc3 : in = 100, out = 10\n"
     ]
    },
    {
     "name": "stderr",
     "output_type": "stream",
     "text": [
      " 75%|███████▌  | 3/4 [00:15<00:05,  5.16s/it]"
     ]
    },
    {
     "name": "stdout",
     "output_type": "stream",
     "text": [
      "In and out sizes :\n",
      "fc1 : in = 784, out = 138\n",
      "fc2 : in = 138, out = 100\n",
      "fc3 : in = 100, out = 10\n"
     ]
    },
    {
     "name": "stderr",
     "output_type": "stream",
     "text": [
      "100%|██████████| 4/4 [00:20<00:00,  5.16s/it]\n"
     ]
    },
    {
     "name": "stdout",
     "output_type": "stream",
     "text": [
      "\n",
      "--------------------------------------------------\n",
      "LEARNING TASK 4\n"
     ]
    },
    {
     "name": "stderr",
     "output_type": "stream",
     "text": [
      "  0%|          | 0/6 [00:00<?, ?it/s]"
     ]
    },
    {
     "name": "stdout",
     "output_type": "stream",
     "text": [
      "In and out sizes :\n",
      "fc1 : in = 784, out = 138\n",
      "fc2 : in = 138, out = 100\n",
      "fc3 : in = 100, out = 10\n"
     ]
    },
    {
     "name": "stderr",
     "output_type": "stream",
     "text": [
      " 17%|█▋        | 1/6 [00:05<00:25,  5.15s/it]"
     ]
    },
    {
     "name": "stdout",
     "output_type": "stream",
     "text": [
      "In and out sizes :\n",
      "fc1 : in = 784, out = 138\n",
      "fc2 : in = 138, out = 100\n",
      "fc3 : in = 100, out = 10\n"
     ]
    },
    {
     "name": "stderr",
     "output_type": "stream",
     "text": [
      " 33%|███▎      | 2/6 [00:10<00:20,  5.15s/it]"
     ]
    },
    {
     "name": "stdout",
     "output_type": "stream",
     "text": [
      "In and out sizes :\n",
      "fc1 : in = 784, out = 138\n",
      "fc2 : in = 138, out = 100\n",
      "fc3 : in = 100, out = 10\n"
     ]
    },
    {
     "name": "stderr",
     "output_type": "stream",
     "text": [
      " 50%|█████     | 3/6 [00:15<00:15,  5.16s/it]"
     ]
    },
    {
     "name": "stdout",
     "output_type": "stream",
     "text": [
      "In and out sizes :\n",
      "fc1 : in = 784, out = 205\n",
      "fc2 : in = 205, out = 100\n",
      "fc3 : in = 100, out = 10\n"
     ]
    },
    {
     "name": "stderr",
     "output_type": "stream",
     "text": [
      " 67%|██████▋   | 4/6 [00:20<00:10,  5.16s/it]"
     ]
    },
    {
     "name": "stdout",
     "output_type": "stream",
     "text": [
      "In and out sizes :\n",
      "fc1 : in = 784, out = 205\n",
      "fc2 : in = 205, out = 100\n",
      "fc3 : in = 100, out = 10\n"
     ]
    },
    {
     "name": "stderr",
     "output_type": "stream",
     "text": [
      " 83%|████████▎ | 5/6 [00:25<00:05,  5.15s/it]"
     ]
    },
    {
     "name": "stdout",
     "output_type": "stream",
     "text": [
      "In and out sizes :\n",
      "fc1 : in = 784, out = 335\n",
      "fc2 : in = 335, out = 100\n",
      "fc3 : in = 100, out = 10\n"
     ]
    },
    {
     "name": "stderr",
     "output_type": "stream",
     "text": [
      "100%|██████████| 6/6 [00:30<00:00,  5.16s/it]\n"
     ]
    },
    {
     "name": "stdout",
     "output_type": "stream",
     "text": [
      "\n",
      "--------------------------------------------------\n",
      "LEARNING TASK 5\n"
     ]
    },
    {
     "name": "stderr",
     "output_type": "stream",
     "text": [
      "  0%|          | 0/3 [00:00<?, ?it/s]"
     ]
    },
    {
     "name": "stdout",
     "output_type": "stream",
     "text": [
      "In and out sizes :\n",
      "fc1 : in = 784, out = 335\n",
      "fc2 : in = 335, out = 100\n",
      "fc3 : in = 100, out = 10\n"
     ]
    },
    {
     "name": "stderr",
     "output_type": "stream",
     "text": [
      " 33%|███▎      | 1/3 [00:05<00:10,  5.14s/it]"
     ]
    },
    {
     "name": "stdout",
     "output_type": "stream",
     "text": [
      "In and out sizes :\n",
      "fc1 : in = 784, out = 335\n",
      "fc2 : in = 335, out = 100\n",
      "fc3 : in = 100, out = 10\n"
     ]
    },
    {
     "name": "stderr",
     "output_type": "stream",
     "text": [
      " 67%|██████▋   | 2/3 [00:10<00:05,  5.15s/it]"
     ]
    },
    {
     "name": "stdout",
     "output_type": "stream",
     "text": [
      "In and out sizes :\n",
      "fc1 : in = 784, out = 335\n",
      "fc2 : in = 335, out = 100\n",
      "fc3 : in = 100, out = 10\n"
     ]
    },
    {
     "name": "stderr",
     "output_type": "stream",
     "text": [
      "100%|██████████| 3/3 [00:15<00:00,  5.15s/it]\n"
     ]
    },
    {
     "name": "stdout",
     "output_type": "stream",
     "text": [
      "\n",
      "==================================================\n",
      "BENCHMARK 5\n",
      "\n",
      "--------------------------------------------------\n",
      "LEARNING TASK 1\n"
     ]
    },
    {
     "name": "stderr",
     "output_type": "stream",
     "text": [
      "  0%|          | 0/5 [00:00<?, ?it/s]"
     ]
    },
    {
     "name": "stdout",
     "output_type": "stream",
     "text": [
      "In and out sizes :\n",
      "fc1 : in = 784, out = 100\n",
      "fc2 : in = 100, out = 100\n",
      "fc3 : in = 100, out = 10\n"
     ]
    },
    {
     "name": "stderr",
     "output_type": "stream",
     "text": [
      " 20%|██        | 1/5 [00:05<00:20,  5.15s/it]"
     ]
    },
    {
     "name": "stdout",
     "output_type": "stream",
     "text": [
      "In and out sizes :\n",
      "fc1 : in = 784, out = 100\n",
      "fc2 : in = 100, out = 100\n",
      "fc3 : in = 100, out = 10\n"
     ]
    },
    {
     "name": "stderr",
     "output_type": "stream",
     "text": [
      " 40%|████      | 2/5 [00:10<00:15,  5.14s/it]"
     ]
    },
    {
     "name": "stdout",
     "output_type": "stream",
     "text": [
      "In and out sizes :\n",
      "fc1 : in = 784, out = 100\n",
      "fc2 : in = 100, out = 100\n",
      "fc3 : in = 100, out = 10\n"
     ]
    },
    {
     "name": "stderr",
     "output_type": "stream",
     "text": [
      " 60%|██████    | 3/5 [00:15<00:10,  5.14s/it]"
     ]
    },
    {
     "name": "stdout",
     "output_type": "stream",
     "text": [
      "In and out sizes :\n",
      "fc1 : in = 784, out = 100\n",
      "fc2 : in = 100, out = 100\n",
      "fc3 : in = 100, out = 10\n"
     ]
    },
    {
     "name": "stderr",
     "output_type": "stream",
     "text": [
      " 80%|████████  | 4/5 [00:20<00:05,  5.14s/it]"
     ]
    },
    {
     "name": "stdout",
     "output_type": "stream",
     "text": [
      "In and out sizes :\n",
      "fc1 : in = 784, out = 100\n",
      "fc2 : in = 100, out = 100\n",
      "fc3 : in = 100, out = 10\n"
     ]
    },
    {
     "name": "stderr",
     "output_type": "stream",
     "text": [
      "100%|██████████| 5/5 [00:25<00:00,  5.14s/it]\n"
     ]
    },
    {
     "name": "stdout",
     "output_type": "stream",
     "text": [
      "\n",
      "--------------------------------------------------\n",
      "LEARNING TASK 2\n"
     ]
    },
    {
     "name": "stderr",
     "output_type": "stream",
     "text": [
      "  0%|          | 0/3 [00:00<?, ?it/s]"
     ]
    },
    {
     "name": "stdout",
     "output_type": "stream",
     "text": [
      "In and out sizes :\n",
      "fc1 : in = 784, out = 100\n",
      "fc2 : in = 100, out = 100\n",
      "fc3 : in = 100, out = 10\n"
     ]
    },
    {
     "name": "stderr",
     "output_type": "stream",
     "text": [
      " 33%|███▎      | 1/3 [00:05<00:10,  5.15s/it]"
     ]
    },
    {
     "name": "stdout",
     "output_type": "stream",
     "text": [
      "In and out sizes :\n",
      "fc1 : in = 784, out = 100\n",
      "fc2 : in = 100, out = 100\n",
      "fc3 : in = 100, out = 10\n"
     ]
    },
    {
     "name": "stderr",
     "output_type": "stream",
     "text": [
      " 67%|██████▋   | 2/3 [00:10<00:05,  5.15s/it]"
     ]
    },
    {
     "name": "stdout",
     "output_type": "stream",
     "text": [
      "In and out sizes :\n",
      "fc1 : in = 784, out = 134\n",
      "fc2 : in = 134, out = 117\n",
      "fc3 : in = 117, out = 10\n"
     ]
    },
    {
     "name": "stderr",
     "output_type": "stream",
     "text": [
      "100%|██████████| 3/3 [00:15<00:00,  5.15s/it]\n"
     ]
    },
    {
     "name": "stdout",
     "output_type": "stream",
     "text": [
      "\n",
      "--------------------------------------------------\n",
      "LEARNING TASK 3\n"
     ]
    },
    {
     "name": "stderr",
     "output_type": "stream",
     "text": [
      "  0%|          | 0/4 [00:00<?, ?it/s]"
     ]
    },
    {
     "name": "stdout",
     "output_type": "stream",
     "text": [
      "In and out sizes :\n",
      "fc1 : in = 784, out = 134\n",
      "fc2 : in = 134, out = 117\n",
      "fc3 : in = 117, out = 10\n"
     ]
    },
    {
     "name": "stderr",
     "output_type": "stream",
     "text": [
      " 25%|██▌       | 1/4 [00:05<00:15,  5.15s/it]"
     ]
    },
    {
     "name": "stdout",
     "output_type": "stream",
     "text": [
      "In and out sizes :\n",
      "fc1 : in = 784, out = 140\n",
      "fc2 : in = 140, out = 117\n",
      "fc3 : in = 117, out = 10\n"
     ]
    },
    {
     "name": "stderr",
     "output_type": "stream",
     "text": [
      " 50%|█████     | 2/4 [00:10<00:10,  5.15s/it]"
     ]
    },
    {
     "name": "stdout",
     "output_type": "stream",
     "text": [
      "In and out sizes :\n",
      "fc1 : in = 784, out = 140\n",
      "fc2 : in = 140, out = 117\n",
      "fc3 : in = 117, out = 10\n"
     ]
    },
    {
     "name": "stderr",
     "output_type": "stream",
     "text": [
      " 75%|███████▌  | 3/4 [00:15<00:05,  5.15s/it]"
     ]
    },
    {
     "name": "stdout",
     "output_type": "stream",
     "text": [
      "In and out sizes :\n",
      "fc1 : in = 784, out = 140\n",
      "fc2 : in = 140, out = 117\n",
      "fc3 : in = 117, out = 10\n"
     ]
    },
    {
     "name": "stderr",
     "output_type": "stream",
     "text": [
      "100%|██████████| 4/4 [00:20<00:00,  5.15s/it]\n"
     ]
    },
    {
     "name": "stdout",
     "output_type": "stream",
     "text": [
      "\n",
      "--------------------------------------------------\n",
      "LEARNING TASK 4\n"
     ]
    },
    {
     "name": "stderr",
     "output_type": "stream",
     "text": [
      "  0%|          | 0/6 [00:00<?, ?it/s]"
     ]
    },
    {
     "name": "stdout",
     "output_type": "stream",
     "text": [
      "In and out sizes :\n",
      "fc1 : in = 784, out = 140\n",
      "fc2 : in = 140, out = 117\n",
      "fc3 : in = 117, out = 10\n"
     ]
    },
    {
     "name": "stderr",
     "output_type": "stream",
     "text": [
      " 17%|█▋        | 1/6 [00:05<00:25,  5.17s/it]"
     ]
    },
    {
     "name": "stdout",
     "output_type": "stream",
     "text": [
      "In and out sizes :\n",
      "fc1 : in = 784, out = 140\n",
      "fc2 : in = 140, out = 117\n",
      "fc3 : in = 117, out = 10\n"
     ]
    },
    {
     "name": "stderr",
     "output_type": "stream",
     "text": [
      " 33%|███▎      | 2/6 [00:10<00:20,  5.17s/it]"
     ]
    },
    {
     "name": "stdout",
     "output_type": "stream",
     "text": [
      "In and out sizes :\n",
      "fc1 : in = 784, out = 180\n",
      "fc2 : in = 180, out = 117\n",
      "fc3 : in = 117, out = 10\n"
     ]
    },
    {
     "name": "stderr",
     "output_type": "stream",
     "text": [
      " 50%|█████     | 3/6 [00:15<00:15,  5.17s/it]"
     ]
    },
    {
     "name": "stdout",
     "output_type": "stream",
     "text": [
      "In and out sizes :\n",
      "fc1 : in = 784, out = 180\n",
      "fc2 : in = 180, out = 117\n",
      "fc3 : in = 117, out = 10\n"
     ]
    },
    {
     "name": "stderr",
     "output_type": "stream",
     "text": [
      " 67%|██████▋   | 4/6 [00:20<00:10,  5.16s/it]"
     ]
    },
    {
     "name": "stdout",
     "output_type": "stream",
     "text": [
      "In and out sizes :\n",
      "fc1 : in = 784, out = 180\n",
      "fc2 : in = 180, out = 117\n",
      "fc3 : in = 117, out = 10\n"
     ]
    },
    {
     "name": "stderr",
     "output_type": "stream",
     "text": [
      " 83%|████████▎ | 5/6 [00:25<00:05,  5.16s/it]"
     ]
    },
    {
     "name": "stdout",
     "output_type": "stream",
     "text": [
      "In and out sizes :\n",
      "fc1 : in = 784, out = 180\n",
      "fc2 : in = 180, out = 117\n",
      "fc3 : in = 117, out = 10\n"
     ]
    },
    {
     "name": "stderr",
     "output_type": "stream",
     "text": [
      "100%|██████████| 6/6 [00:30<00:00,  5.16s/it]\n"
     ]
    },
    {
     "name": "stdout",
     "output_type": "stream",
     "text": [
      "\n",
      "--------------------------------------------------\n",
      "LEARNING TASK 5\n"
     ]
    },
    {
     "name": "stderr",
     "output_type": "stream",
     "text": [
      "  0%|          | 0/3 [00:00<?, ?it/s]"
     ]
    },
    {
     "name": "stdout",
     "output_type": "stream",
     "text": [
      "In and out sizes :\n",
      "fc1 : in = 784, out = 180\n",
      "fc2 : in = 180, out = 117\n",
      "fc3 : in = 117, out = 10\n"
     ]
    },
    {
     "name": "stderr",
     "output_type": "stream",
     "text": [
      " 33%|███▎      | 1/3 [00:05<00:10,  5.16s/it]"
     ]
    },
    {
     "name": "stdout",
     "output_type": "stream",
     "text": [
      "In and out sizes :\n",
      "fc1 : in = 784, out = 180\n",
      "fc2 : in = 180, out = 117\n",
      "fc3 : in = 117, out = 10\n"
     ]
    },
    {
     "name": "stderr",
     "output_type": "stream",
     "text": [
      " 67%|██████▋   | 2/3 [00:10<00:05,  5.16s/it]"
     ]
    },
    {
     "name": "stdout",
     "output_type": "stream",
     "text": [
      "In and out sizes :\n",
      "fc1 : in = 784, out = 180\n",
      "fc2 : in = 180, out = 117\n",
      "fc3 : in = 117, out = 10\n"
     ]
    },
    {
     "name": "stderr",
     "output_type": "stream",
     "text": [
      "100%|██████████| 3/3 [00:15<00:00,  5.16s/it]\n"
     ]
    }
   ],
   "source": [
    "for i in range(num_val_benchmarks+2) :\n",
    "    benchmark_number = 0 if i <= 1 else i-1\n",
    "    print(\"\\n\" + \"=\"*50)\n",
    "    print(f\"BENCHMARK {benchmark_number}\")\n",
    "    # Train model with best params obtained through HPO on benchmark 0\n",
    "    if i != 0 :\n",
    "        train_loaders_list = train_loaders_list_list[benchmark_number]\n",
    "        benchmark_model = train_with_best_params (best_params_list, train_loaders_list)\n",
    "    else : \n",
    "        benchmark_model = copy.deepcopy(model)\n",
    "    # Test on each task\n",
    "    test_loaders_list = test_loaders_list_list[benchmark_number]\n",
    "    for j in range(num_tasks) :\n",
    "        val_accs_matrix[i,j] = round(test(benchmark_model, test_loaders_list_list[benchmark_number][j], batch_size, device),2)"
   ]
  },
  {
   "cell_type": "code",
   "execution_count": 48,
   "metadata": {
    "execution": {
     "iopub.execute_input": "2024-07-02T17:37:18.040601Z",
     "iopub.status.busy": "2024-07-02T17:37:18.040331Z",
     "iopub.status.idle": "2024-07-02T17:37:18.291711Z",
     "shell.execute_reply": "2024-07-02T17:37:18.291145Z"
    }
   },
   "outputs": [
    {
     "data": {
      "image/png": "[encoded data removed]",
      "text/plain": [
       "<Figure size 640x480 with 2 Axes>"
      ]
     },
     "metadata": {},
     "output_type": "display_data"
    }
   ],
   "source": [
    "visualize_val_accs_matrix(val_accs_matrix, HPO_name, method_name, grow_from, benchmark_name, difficulty, savefig=True)"
   ]
  },
  {
   "cell_type": "code",
   "execution_count": 49,
   "metadata": {
    "execution": {
     "iopub.execute_input": "2024-07-02T17:37:18.294242Z",
     "iopub.status.busy": "2024-07-02T17:37:18.293961Z",
     "iopub.status.idle": "2024-07-02T17:37:18.428045Z",
     "shell.execute_reply": "2024-07-02T17:37:18.427421Z"
    }
   },
   "outputs": [
    {
     "data": {
      "image/png": "[encoded data removed]",
      "text/plain": [
       "<Figure size 640x480 with 1 Axes>"
      ]
     },
     "metadata": {},
     "output_type": "display_data"
    }
   ],
   "source": [
    "visualize_accuracy_through_benchmarks(val_accs_matrix, HPO_name, num_val_benchmarks, method_name, grow_from, benchmark_name, difficulty, savefig=True)"
   ]
  },
  {
   "cell_type": "code",
   "execution_count": 50,
   "metadata": {
    "execution": {
     "iopub.execute_input": "2024-07-02T17:37:18.430277Z",
     "iopub.status.busy": "2024-07-02T17:37:18.430151Z",
     "iopub.status.idle": "2024-07-02T17:37:18.494510Z",
     "shell.execute_reply": "2024-07-02T17:37:18.493986Z"
    }
   },
   "outputs": [
    {
     "data": {
      "image/png": "[encoded data removed]",
      "text/plain": [
       "<Figure size 200x500 with 1 Axes>"
      ]
     },
     "metadata": {},
     "output_type": "display_data"
    }
   ],
   "source": [
    "visualize_violin(val_accs_matrix, HPO_name, method_name, grow_from, benchmark_name, difficulty, savefig=True)"
   ]
  },
  {
   "cell_type": "code",
   "execution_count": null,
   "metadata": {},
   "outputs": [],
   "source": []
  }
 ],
 "metadata": {
  "kernelspec": {
   "display_name": "Python 3",
   "language": "python",
   "name": "python3"
  },
  "language_info": {
   "codemirror_mode": {
    "name": "ipython",
    "version": 3
   },
   "file_extension": ".py",
   "mimetype": "text/x-python",
   "name": "python",
   "nbconvert_exporter": "python",
   "pygments_lexer": "ipython3",
   "version": "3.12.2"
  }
 },
 "nbformat": 4,
 "nbformat_minor": 2
}
