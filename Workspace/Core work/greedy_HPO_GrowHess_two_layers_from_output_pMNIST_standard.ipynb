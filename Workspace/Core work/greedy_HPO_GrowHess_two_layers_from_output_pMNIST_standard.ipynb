{
 "cells": [
  {
   "cell_type": "code",
   "execution_count": 1,
   "metadata": {
    "execution": {
     "iopub.execute_input": "2024-07-02T15:49:05.613083Z",
     "iopub.status.busy": "2024-07-02T15:49:05.612975Z",
     "iopub.status.idle": "2024-07-02T15:49:05.615894Z",
     "shell.execute_reply": "2024-07-02T15:49:05.615488Z"
    }
   },
   "outputs": [],
   "source": [
    "import sys\n",
    "import os\n",
    "\n",
    "sys.path.append(\"Methods/GroHess/Two layers\")\n",
    "path = os.path.dirname(os.path.abspath(\"__file__\"))\n",
    "data_path = path + \"/Methods/GroHess/Two layers/data\"\n",
    "\n",
    "HPO_name = \"greedy_HPO\"\n",
    "method_name = \"GroHess_two_layers\"\n",
    "benchmark_name = \"pMNIST\""
   ]
  },
  {
   "cell_type": "code",
   "execution_count": 2,
   "metadata": {
    "execution": {
     "iopub.execute_input": "2024-07-02T15:49:05.618438Z",
     "iopub.status.busy": "2024-07-02T15:49:05.618142Z",
     "iopub.status.idle": "2024-07-02T15:49:07.680567Z",
     "shell.execute_reply": "2024-07-02T15:49:07.679929Z"
    }
   },
   "outputs": [
    {
     "name": "stderr",
     "output_type": "stream",
     "text": [
      "/home/mathis/miniconda3/envs/.jax_env/lib/python3.12/site-packages/tqdm/auto.py:21: TqdmWarning: IProgress not found. Please update jupyter and ipywidgets. See https://ipywidgets.readthedocs.io/en/stable/user_install.html\n",
      "  from .autonotebook import tqdm as notebook_tqdm\n"
     ]
    }
   ],
   "source": [
    "from lib.abstract_torch import get_device\n",
    "from lib.dataloader import get_task_loaders\n",
    "from lib.models import ANN\n",
    "from lib.train import train\n",
    "from lib.test import test\n",
    "from HPO_lib.visualize import visualize_accs_matrix, visualize_avg_acc_curve, visualize_best_params, visualize_val_accs_matrix, visualize_accuracy_through_benchmarks, visualize_violin\n",
    "\n",
    "import numpy as np\n",
    "import copy\n",
    "import optuna\n",
    "from functools import partial\n",
    "\n",
    "import warnings\n",
    "warnings.filterwarnings('ignore')"
   ]
  },
  {
   "cell_type": "code",
   "execution_count": 3,
   "metadata": {
    "execution": {
     "iopub.execute_input": "2024-07-02T15:49:07.683186Z",
     "iopub.status.busy": "2024-07-02T15:49:07.682942Z",
     "iopub.status.idle": "2024-07-02T15:49:07.754540Z",
     "shell.execute_reply": "2024-07-02T15:49:07.753934Z"
    }
   },
   "outputs": [],
   "source": [
    "device = get_device(1)"
   ]
  },
  {
   "cell_type": "code",
   "execution_count": 4,
   "metadata": {
    "execution": {
     "iopub.execute_input": "2024-07-02T15:49:07.757033Z",
     "iopub.status.busy": "2024-07-02T15:49:07.756886Z",
     "iopub.status.idle": "2024-07-02T15:49:07.759987Z",
     "shell.execute_reply": "2024-07-02T15:49:07.759574Z"
    }
   },
   "outputs": [],
   "source": [
    "# Must tune hyperparameters\n",
    "num_tasks = 4\n",
    "train_percentage = 0.2\n",
    "difficulty = \"standard\"\n",
    "grow_from = \"output\"\n",
    "n_trials = 3\n",
    "num_val_benchmarks = 5\n",
    "\n",
    "# Set the percentile threshold for building Hessian and gradient masks\n",
    "hessian_percentile = 95\n",
    "grad_percentile = 95\n",
    "\n",
    "# Data parameter\n",
    "batch_size=128\n",
    "\n",
    "# Network Architecture\n",
    "num_inputs = 28*28\n",
    "num_hidden_root = 50\n",
    "num_outputs = 10\n",
    "\n",
    "# Train parameters\n",
    "loss_name = \"CE\"\n",
    "optimizer_name = \"Adam\"\n",
    "\n",
    "# Other hyperparameters\n",
    "#num_epochs = 3\n",
    "#lr = 1e-3"
   ]
  },
  {
   "cell_type": "markdown",
   "metadata": {},
   "source": [
    "Fixed hyperparameters :\n",
    "- Start by growing left layer at each new task to handle and then alternate\n",
    "- Growth trigger :\n",
    "    - delay_growth (at each new task to handle)\n",
    "    - delay_growth\n",
    "    - should_we_grow"
   ]
  },
  {
   "cell_type": "markdown",
   "metadata": {},
   "source": [
    "# HPO"
   ]
  },
  {
   "cell_type": "markdown",
   "metadata": {},
   "source": [
    "## Reproducibility"
   ]
  },
  {
   "cell_type": "code",
   "execution_count": 5,
   "metadata": {
    "execution": {
     "iopub.execute_input": "2024-07-02T15:49:07.762629Z",
     "iopub.status.busy": "2024-07-02T15:49:07.762495Z",
     "iopub.status.idle": "2024-07-02T15:49:07.764725Z",
     "shell.execute_reply": "2024-07-02T15:49:07.764340Z"
    }
   },
   "outputs": [],
   "source": [
    "random_seed = 88\n",
    "permutation_random_seeds = list(range(num_tasks))"
   ]
  },
  {
   "cell_type": "markdown",
   "metadata": {},
   "source": [
    "## Get p-MNIST loaders"
   ]
  },
  {
   "cell_type": "code",
   "execution_count": 6,
   "metadata": {
    "execution": {
     "iopub.execute_input": "2024-07-02T15:49:07.767250Z",
     "iopub.status.busy": "2024-07-02T15:49:07.767122Z",
     "iopub.status.idle": "2024-07-02T15:49:15.177136Z",
     "shell.execute_reply": "2024-07-02T15:49:15.176710Z"
    }
   },
   "outputs": [],
   "source": [
    "train_loaders_list, val_loaders_list, test_loaders_list = [], [], []\n",
    "for random_seed in permutation_random_seeds :\n",
    "    train_loader, val_loader, test_loader = get_task_loaders(data_path, batch_size, random_seed, train_percentage=train_percentage, difficulty=difficulty, download=False)\n",
    "    train_loaders_list += [train_loader]\n",
    "    val_loaders_list += [val_loader]\n",
    "    test_loaders_list += [test_loader]"
   ]
  },
  {
   "cell_type": "markdown",
   "metadata": {},
   "source": [
    "## Perform HPO"
   ]
  },
  {
   "cell_type": "code",
   "execution_count": 7,
   "metadata": {
    "execution": {
     "iopub.execute_input": "2024-07-02T15:49:15.180053Z",
     "iopub.status.busy": "2024-07-02T15:49:15.179916Z",
     "iopub.status.idle": "2024-07-02T15:49:15.183094Z",
     "shell.execute_reply": "2024-07-02T15:49:15.182797Z"
    }
   },
   "outputs": [],
   "source": [
    "def objective(model, task_number, params, device, trial) :\n",
    "\n",
    "    # Set HPs\n",
    "    lr = trial.suggest_float(\"lr\", 5e-5, 2e-3)\n",
    "    num_epochs = trial.suggest_int(\"num_epochs\", 2, 6)\n",
    "\n",
    "    # Copy the model to perform HPO\n",
    "    model_copy = copy.deepcopy(model)\n",
    "    \n",
    "    # Train\n",
    "    overall_masks, is_first_task = params\n",
    "    \n",
    "    train_loader = train_loaders_list[task_number]\n",
    "\n",
    "    _ = train(model_copy, grow_from, overall_masks, is_first_task,\n",
    "                      loss_name, optimizer_name, lr, num_epochs, batch_size,\n",
    "                      hessian_percentile, grad_percentile,\n",
    "                      train_loader,\n",
    "                      device, random_seed, \n",
    "                      verbose=0)\n",
    "\n",
    "    # Test\n",
    "    test_accs = np.zeros(task_number+1)\n",
    "    for j in range(task_number+1) :\n",
    "        test_acc = test(model_copy, test_loaders_list[j], batch_size, device)\n",
    "        test_accs[j] = test_acc\n",
    "    \n",
    "    # Compute score\n",
    "    score = np.mean(test_accs)\n",
    "    \n",
    "    return score"
   ]
  },
  {
   "cell_type": "code",
   "execution_count": 8,
   "metadata": {
    "execution": {
     "iopub.execute_input": "2024-07-02T15:49:15.185706Z",
     "iopub.status.busy": "2024-07-02T15:49:15.185446Z",
     "iopub.status.idle": "2024-07-02T15:49:15.187961Z",
     "shell.execute_reply": "2024-07-02T15:49:15.187692Z"
    }
   },
   "outputs": [],
   "source": [
    "def retrain_and_save_with_best_HPs (model, params, best_params, train_loader) :\n",
    "    lr = best_params[\"lr\"]\n",
    "    num_epochs = best_params[\"num_epochs\"]\n",
    "    \n",
    "    overall_masks, is_first_task = params\n",
    "\n",
    "    # Train\n",
    "    overall_masks, _, _ = train(model, grow_from, overall_masks, is_first_task,\n",
    "                      loss_name, optimizer_name, lr, num_epochs, batch_size,\n",
    "                      hessian_percentile, grad_percentile,\n",
    "                      train_loader,\n",
    "                      device, random_seed, \n",
    "                      verbose=2)\n",
    "    \n",
    "    return overall_masks"
   ]
  },
  {
   "cell_type": "code",
   "execution_count": 9,
   "metadata": {
    "execution": {
     "iopub.execute_input": "2024-07-02T15:49:15.190368Z",
     "iopub.status.busy": "2024-07-02T15:49:15.189905Z",
     "iopub.status.idle": "2024-07-02T15:49:15.194115Z",
     "shell.execute_reply": "2024-07-02T15:49:15.193843Z"
    }
   },
   "outputs": [],
   "source": [
    "def call_greedy_HPO(n_trials) :\n",
    "    # Initialize model\n",
    "    model = ANN(num_inputs, num_hidden_root, num_outputs, random_seed).to(device)\n",
    "\n",
    "    # Intialize mask\n",
    "    if grow_from == \"input\" :\n",
    "        overall_masks = [np.ones_like(model.fc1.weight.data.cpu().numpy()),\n",
    "                        np.ones_like(model.fc2.weight.data.cpu().numpy())]\n",
    "    else :\n",
    "        overall_masks = [np.ones_like(model.fc2.weight.data.cpu().numpy()),\n",
    "                        np.ones_like(model.fc3.weight.data.cpu().numpy())]\n",
    "            \n",
    "    # Initialize variable to store the best HPs and the scores\n",
    "    best_params_list = []\n",
    "    test_accs_matrix = np.zeros((num_tasks, num_tasks))\n",
    "\n",
    "    for task_number in range(0,num_tasks) :\n",
    "\n",
    "        # Verbose\n",
    "        print(\"\\n\" + \"-\"*50)\n",
    "        print(f\"LEARNING TASK {task_number+1}\")\n",
    "\n",
    "        # Perform HPO\n",
    "        storage = optuna.storages.InMemoryStorage()\n",
    "        study = optuna.create_study(storage=storage,\n",
    "                                    study_name=f\"Search number {task_number+1}\",\n",
    "                                    sampler=optuna.samplers.TPESampler(seed=random_seed),\n",
    "                                    direction = \"maximize\")\n",
    "        \n",
    "        is_first_task = True if task_number==0 else False\n",
    "        params = overall_masks, is_first_task\n",
    "        partial_objective = partial(objective, model, task_number, params, device)\n",
    "        study.optimize(partial_objective,\n",
    "                    n_trials=n_trials,\n",
    "                    timeout=3600)\n",
    "\n",
    "        # Retrain and save a model with the best params\n",
    "        best_params = study.best_trial.params\n",
    "        best_params_list += [best_params]\n",
    "        overall_masks = retrain_and_save_with_best_HPs(model, params, best_params, train_loaders_list[task_number]) \n",
    "        \n",
    "        # Test on each task\n",
    "        for j in range(num_tasks) :\n",
    "            test_accs_matrix[task_number,j] = round(test(model, test_loaders_list[j], batch_size, device),2)\n",
    "    \n",
    "    return test_accs_matrix, best_params_list, model"
   ]
  },
  {
   "cell_type": "code",
   "execution_count": 10,
   "metadata": {
    "execution": {
     "iopub.execute_input": "2024-07-02T15:49:15.196620Z",
     "iopub.status.busy": "2024-07-02T15:49:15.196097Z",
     "iopub.status.idle": "2024-07-02T17:16:34.613221Z",
     "shell.execute_reply": "2024-07-02T17:16:34.612785Z"
    }
   },
   "outputs": [
    {
     "name": "stderr",
     "output_type": "stream",
     "text": [
      "[I 2024-07-04 10:29:34,807] A new study created in memory with name: Search number 1\n"
     ]
    },
    {
     "name": "stdout",
     "output_type": "stream",
     "text": [
      "\n",
      "--------------------------------------------------\n",
      "LEARNING TASK 1\n"
     ]
    },
    {
     "name": "stderr",
     "output_type": "stream",
     "text": [
      "100%|██████████| 5/5 [00:06<00:00,  1.36s/it]\n",
      "[I 2024-07-04 10:29:42,602] Trial 0 finished with value: 91.37615384615388 and parameters: {'lr': 0.0011240559100204222, 'num_epochs': 5}. Best is trial 0 with value: 91.37615384615388.\n",
      "100%|██████████| 4/4 [00:05<00:00,  1.32s/it]\n",
      "[I 2024-07-04 10:29:48,887] Trial 1 finished with value: 87.09987179487179 and parameters: {'lr': 0.0006172642408802415, 'num_epochs': 4}. Best is trial 0 with value: 91.37615384615388.\n",
      "100%|██████████| 6/6 [00:07<00:00,  1.32s/it]\n",
      "[I 2024-07-04 10:29:57,818] Trial 2 finished with value: 92.94846153846153 and parameters: {'lr': 0.0017912465609779267, 'num_epochs': 6}. Best is trial 2 with value: 92.94846153846153.\n",
      "  0%|          | 0/6 [00:00<?, ?it/s]"
     ]
    },
    {
     "name": "stdout",
     "output_type": "stream",
     "text": [
      "In and out sizes :\n",
      "fc1 : in = 784, out = 50\n",
      "fc2 : in = 50, out = 50\n",
      "fc3 : in = 50, out = 10\n"
     ]
    },
    {
     "name": "stderr",
     "output_type": "stream",
     "text": [
      " 17%|█▋        | 1/6 [00:01<00:06,  1.32s/it]"
     ]
    },
    {
     "name": "stdout",
     "output_type": "stream",
     "text": [
      "In and out sizes :\n",
      "fc1 : in = 784, out = 50\n",
      "fc2 : in = 50, out = 50\n",
      "fc3 : in = 50, out = 10\n"
     ]
    },
    {
     "name": "stderr",
     "output_type": "stream",
     "text": [
      " 33%|███▎      | 2/6 [00:02<00:05,  1.32s/it]"
     ]
    },
    {
     "name": "stdout",
     "output_type": "stream",
     "text": [
      "In and out sizes :\n",
      "fc1 : in = 784, out = 50\n",
      "fc2 : in = 50, out = 50\n",
      "fc3 : in = 50, out = 10\n"
     ]
    },
    {
     "name": "stderr",
     "output_type": "stream",
     "text": [
      " 50%|█████     | 3/6 [00:03<00:03,  1.32s/it]"
     ]
    },
    {
     "name": "stdout",
     "output_type": "stream",
     "text": [
      "In and out sizes :\n",
      "fc1 : in = 784, out = 50\n",
      "fc2 : in = 50, out = 50\n",
      "fc3 : in = 50, out = 10\n"
     ]
    },
    {
     "name": "stderr",
     "output_type": "stream",
     "text": [
      " 67%|██████▋   | 4/6 [00:05<00:02,  1.32s/it]"
     ]
    },
    {
     "name": "stdout",
     "output_type": "stream",
     "text": [
      "In and out sizes :\n",
      "fc1 : in = 784, out = 50\n",
      "fc2 : in = 50, out = 50\n",
      "fc3 : in = 50, out = 10\n"
     ]
    },
    {
     "name": "stderr",
     "output_type": "stream",
     "text": [
      " 83%|████████▎ | 5/6 [00:06<00:01,  1.32s/it]"
     ]
    },
    {
     "name": "stdout",
     "output_type": "stream",
     "text": [
      "In and out sizes :\n",
      "fc1 : in = 784, out = 50\n",
      "fc2 : in = 50, out = 50\n",
      "fc3 : in = 50, out = 10\n"
     ]
    },
    {
     "name": "stderr",
     "output_type": "stream",
     "text": [
      "100%|██████████| 6/6 [00:07<00:00,  1.32s/it]\n",
      "[I 2024-07-04 10:30:09,745] A new study created in memory with name: Search number 2\n"
     ]
    },
    {
     "name": "stdout",
     "output_type": "stream",
     "text": [
      "\n",
      "--------------------------------------------------\n",
      "LEARNING TASK 2\n"
     ]
    },
    {
     "name": "stderr",
     "output_type": "stream",
     "text": [
      "100%|██████████| 5/5 [00:06<00:00,  1.32s/it]\n",
      "[I 2024-07-04 10:30:18,374] Trial 0 finished with value: 91.62621794871797 and parameters: {'lr': 0.0011240559100204222, 'num_epochs': 5}. Best is trial 0 with value: 91.62621794871797.\n",
      "100%|██████████| 4/4 [00:05<00:00,  1.35s/it]\n",
      "[I 2024-07-04 10:30:25,789] Trial 1 finished with value: 90.53974358974358 and parameters: {'lr': 0.0006172642408802415, 'num_epochs': 4}. Best is trial 0 with value: 91.62621794871797.\n",
      "100%|██████████| 6/6 [00:07<00:00,  1.30s/it]\n",
      "[I 2024-07-04 10:30:35,580] Trial 2 finished with value: 91.68173076923077 and parameters: {'lr': 0.0017912465609779267, 'num_epochs': 6}. Best is trial 2 with value: 91.68173076923077.\n",
      "  0%|          | 0/6 [00:00<?, ?it/s]"
     ]
    },
    {
     "name": "stdout",
     "output_type": "stream",
     "text": [
      "In and out sizes :\n",
      "fc1 : in = 784, out = 50\n",
      "fc2 : in = 50, out = 50\n",
      "fc3 : in = 50, out = 10\n"
     ]
    },
    {
     "name": "stderr",
     "output_type": "stream",
     "text": [
      " 17%|█▋        | 1/6 [00:01<00:06,  1.28s/it]"
     ]
    },
    {
     "name": "stdout",
     "output_type": "stream",
     "text": [
      "In and out sizes :\n",
      "fc1 : in = 784, out = 50\n",
      "fc2 : in = 50, out = 50\n",
      "fc3 : in = 50, out = 10\n"
     ]
    },
    {
     "name": "stderr",
     "output_type": "stream",
     "text": [
      " 33%|███▎      | 2/6 [00:02<00:05,  1.27s/it]"
     ]
    },
    {
     "name": "stdout",
     "output_type": "stream",
     "text": [
      "In and out sizes :\n",
      "fc1 : in = 784, out = 50\n",
      "fc2 : in = 50, out = 50\n",
      "fc3 : in = 50, out = 10\n"
     ]
    },
    {
     "name": "stderr",
     "output_type": "stream",
     "text": [
      " 50%|█████     | 3/6 [00:03<00:03,  1.27s/it]"
     ]
    },
    {
     "name": "stdout",
     "output_type": "stream",
     "text": [
      "In and out sizes :\n",
      "fc1 : in = 784, out = 50\n",
      "fc2 : in = 50, out = 50\n",
      "fc3 : in = 50, out = 10\n"
     ]
    },
    {
     "name": "stderr",
     "output_type": "stream",
     "text": [
      " 67%|██████▋   | 4/6 [00:05<00:02,  1.27s/it]"
     ]
    },
    {
     "name": "stdout",
     "output_type": "stream",
     "text": [
      "In and out sizes :\n",
      "fc1 : in = 784, out = 50\n",
      "fc2 : in = 50, out = 50\n",
      "fc3 : in = 50, out = 10\n"
     ]
    },
    {
     "name": "stderr",
     "output_type": "stream",
     "text": [
      " 83%|████████▎ | 5/6 [00:06<00:01,  1.27s/it]"
     ]
    },
    {
     "name": "stdout",
     "output_type": "stream",
     "text": [
      "In and out sizes :\n",
      "fc1 : in = 784, out = 50\n",
      "fc2 : in = 50, out = 50\n",
      "fc3 : in = 50, out = 10\n"
     ]
    },
    {
     "name": "stderr",
     "output_type": "stream",
     "text": [
      "100%|██████████| 6/6 [00:07<00:00,  1.27s/it]\n",
      "[I 2024-07-04 10:30:47,201] A new study created in memory with name: Search number 3\n"
     ]
    },
    {
     "name": "stdout",
     "output_type": "stream",
     "text": [
      "\n",
      "--------------------------------------------------\n",
      "LEARNING TASK 3\n"
     ]
    },
    {
     "name": "stderr",
     "output_type": "stream",
     "text": [
      "100%|██████████| 5/5 [00:06<00:00,  1.27s/it]\n",
      "[I 2024-07-04 10:30:56,556] Trial 0 finished with value: 87.27264957264958 and parameters: {'lr': 0.0011240559100204222, 'num_epochs': 5}. Best is trial 0 with value: 87.27264957264958.\n",
      "100%|██████████| 4/4 [00:05<00:00,  1.27s/it]\n",
      "[I 2024-07-04 10:31:04,637] Trial 1 finished with value: 87.29264957264957 and parameters: {'lr': 0.0006172642408802415, 'num_epochs': 4}. Best is trial 1 with value: 87.29264957264957.\n",
      "100%|██████████| 6/6 [00:07<00:00,  1.27s/it]\n",
      "[I 2024-07-04 10:31:15,222] Trial 2 finished with value: 85.72068376068376 and parameters: {'lr': 0.0017912465609779267, 'num_epochs': 6}. Best is trial 1 with value: 87.29264957264957.\n",
      "  0%|          | 0/4 [00:00<?, ?it/s]"
     ]
    },
    {
     "name": "stdout",
     "output_type": "stream",
     "text": [
      "In and out sizes :\n",
      "fc1 : in = 784, out = 50\n",
      "fc2 : in = 50, out = 50\n",
      "fc3 : in = 50, out = 10\n"
     ]
    },
    {
     "name": "stderr",
     "output_type": "stream",
     "text": [
      " 25%|██▌       | 1/4 [00:01<00:03,  1.27s/it]"
     ]
    },
    {
     "name": "stdout",
     "output_type": "stream",
     "text": [
      "In and out sizes :\n",
      "fc1 : in = 784, out = 50\n",
      "fc2 : in = 50, out = 50\n",
      "fc3 : in = 50, out = 10\n"
     ]
    },
    {
     "name": "stderr",
     "output_type": "stream",
     "text": [
      " 50%|█████     | 2/4 [00:02<00:02,  1.27s/it]"
     ]
    },
    {
     "name": "stdout",
     "output_type": "stream",
     "text": [
      "In and out sizes :\n",
      "fc1 : in = 784, out = 50\n",
      "fc2 : in = 50, out = 50\n",
      "fc3 : in = 50, out = 10\n"
     ]
    },
    {
     "name": "stderr",
     "output_type": "stream",
     "text": [
      " 75%|███████▌  | 3/4 [00:03<00:01,  1.27s/it]"
     ]
    },
    {
     "name": "stdout",
     "output_type": "stream",
     "text": [
      "In and out sizes :\n",
      "fc1 : in = 784, out = 50\n",
      "fc2 : in = 50, out = 50\n",
      "fc3 : in = 50, out = 10\n"
     ]
    },
    {
     "name": "stderr",
     "output_type": "stream",
     "text": [
      "100%|██████████| 4/4 [00:05<00:00,  1.27s/it]\n",
      "[I 2024-07-04 10:31:24,290] A new study created in memory with name: Search number 4\n"
     ]
    },
    {
     "name": "stdout",
     "output_type": "stream",
     "text": [
      "\n",
      "--------------------------------------------------\n",
      "LEARNING TASK 4\n"
     ]
    },
    {
     "name": "stderr",
     "output_type": "stream",
     "text": [
      "100%|██████████| 5/5 [00:06<00:00,  1.27s/it]\n",
      "[I 2024-07-04 10:31:34,617] Trial 0 finished with value: 85.53448717948717 and parameters: {'lr': 0.0011240559100204222, 'num_epochs': 5}. Best is trial 0 with value: 85.53448717948717.\n",
      "100%|██████████| 4/4 [00:05<00:00,  1.27s/it]\n",
      "[I 2024-07-04 10:31:43,715] Trial 1 finished with value: 86.30282051282053 and parameters: {'lr': 0.0006172642408802415, 'num_epochs': 4}. Best is trial 1 with value: 86.30282051282053.\n",
      "100%|██████████| 6/6 [00:07<00:00,  1.28s/it]\n",
      "[I 2024-07-04 10:31:55,394] Trial 2 finished with value: 83.3259294871795 and parameters: {'lr': 0.0017912465609779267, 'num_epochs': 6}. Best is trial 1 with value: 86.30282051282053.\n",
      "  0%|          | 0/4 [00:00<?, ?it/s]"
     ]
    },
    {
     "name": "stdout",
     "output_type": "stream",
     "text": [
      "In and out sizes :\n",
      "fc1 : in = 784, out = 50\n",
      "fc2 : in = 50, out = 50\n",
      "fc3 : in = 50, out = 10\n"
     ]
    },
    {
     "name": "stderr",
     "output_type": "stream",
     "text": [
      " 25%|██▌       | 1/4 [00:01<00:03,  1.27s/it]"
     ]
    },
    {
     "name": "stdout",
     "output_type": "stream",
     "text": [
      "In and out sizes :\n",
      "fc1 : in = 784, out = 50\n",
      "fc2 : in = 50, out = 50\n",
      "fc3 : in = 50, out = 10\n"
     ]
    },
    {
     "name": "stderr",
     "output_type": "stream",
     "text": [
      " 50%|█████     | 2/4 [00:02<00:02,  1.27s/it]"
     ]
    },
    {
     "name": "stdout",
     "output_type": "stream",
     "text": [
      "In and out sizes :\n",
      "fc1 : in = 784, out = 50\n",
      "fc2 : in = 50, out = 50\n",
      "fc3 : in = 50, out = 10\n"
     ]
    },
    {
     "name": "stderr",
     "output_type": "stream",
     "text": [
      " 75%|███████▌  | 3/4 [00:03<00:01,  1.27s/it]"
     ]
    },
    {
     "name": "stdout",
     "output_type": "stream",
     "text": [
      "In and out sizes :\n",
      "fc1 : in = 784, out = 50\n",
      "fc2 : in = 50, out = 50\n",
      "fc3 : in = 50, out = 10\n"
     ]
    },
    {
     "name": "stderr",
     "output_type": "stream",
     "text": [
      "100%|██████████| 4/4 [00:05<00:00,  1.27s/it]\n"
     ]
    }
   ],
   "source": [
    "test_accs_matrix, best_params_list, model = call_greedy_HPO(n_trials)"
   ]
  },
  {
   "cell_type": "code",
   "execution_count": 11,
   "metadata": {
    "execution": {
     "iopub.execute_input": "2024-07-02T17:16:34.616134Z",
     "iopub.status.busy": "2024-07-02T17:16:34.615982Z",
     "iopub.status.idle": "2024-07-02T17:16:34.750497Z",
     "shell.execute_reply": "2024-07-02T17:16:34.750100Z"
    }
   },
   "outputs": [
    {
     "data": {
      "image/png": "[encoded data removed]",
      "text/plain": [
       "<Figure size 640x480 with 2 Axes>"
      ]
     },
     "metadata": {},
     "output_type": "display_data"
    }
   ],
   "source": [
    "visualize_accs_matrix(test_accs_matrix, HPO_name, method_name, grow_from, benchmark_name, difficulty, savefig=True)"
   ]
  },
  {
   "cell_type": "code",
   "execution_count": 12,
   "metadata": {
    "execution": {
     "iopub.execute_input": "2024-07-02T17:16:34.751802Z",
     "iopub.status.busy": "2024-07-02T17:16:34.751691Z",
     "iopub.status.idle": "2024-07-02T17:16:34.836237Z",
     "shell.execute_reply": "2024-07-02T17:16:34.835855Z"
    }
   },
   "outputs": [
    {
     "data": {
      "image/png": "[encoded data removed]",
      "text/plain": [
       "<Figure size 640x480 with 1 Axes>"
      ]
     },
     "metadata": {},
     "output_type": "display_data"
    }
   ],
   "source": [
    "visualize_avg_acc_curve(test_accs_matrix, HPO_name, method_name, grow_from, benchmark_name, difficulty, savefig=True)"
   ]
  },
  {
   "cell_type": "code",
   "execution_count": 13,
   "metadata": {
    "execution": {
     "iopub.execute_input": "2024-07-02T17:16:34.837624Z",
     "iopub.status.busy": "2024-07-02T17:16:34.837517Z",
     "iopub.status.idle": "2024-07-02T17:16:35.044798Z",
     "shell.execute_reply": "2024-07-02T17:16:35.044456Z"
    }
   },
   "outputs": [
    {
     "data": {
      "image/png": "[encoded data removed]",
      "text/plain": [
       "<Figure size 1000x500 with 2 Axes>"
      ]
     },
     "metadata": {},
     "output_type": "display_data"
    }
   ],
   "source": [
    "visualize_best_params(best_params_list, HPO_name, method_name, grow_from, benchmark_name, difficulty, savefig=True)"
   ]
  },
  {
   "cell_type": "markdown",
   "metadata": {},
   "source": [
    "# Validation benchmarks"
   ]
  },
  {
   "cell_type": "markdown",
   "metadata": {},
   "source": [
    "## Reproducibility"
   ]
  },
  {
   "cell_type": "code",
   "execution_count": 14,
   "metadata": {
    "execution": {
     "iopub.execute_input": "2024-07-02T17:16:35.047838Z",
     "iopub.status.busy": "2024-07-02T17:16:35.047581Z",
     "iopub.status.idle": "2024-07-02T17:16:35.049922Z",
     "shell.execute_reply": "2024-07-02T17:16:35.049584Z"
    }
   },
   "outputs": [],
   "source": [
    "permutation_random_seeds_list = [list(range(num_tasks*(i), num_tasks*(i+1))) for i in range(0,num_val_benchmarks+1)]"
   ]
  },
  {
   "cell_type": "markdown",
   "metadata": {},
   "source": [
    "## Get p-MNIST loaders"
   ]
  },
  {
   "cell_type": "code",
   "execution_count": 15,
   "metadata": {
    "execution": {
     "iopub.execute_input": "2024-07-02T17:16:35.052597Z",
     "iopub.status.busy": "2024-07-02T17:16:35.052346Z",
     "iopub.status.idle": "2024-07-02T17:19:10.122691Z",
     "shell.execute_reply": "2024-07-02T17:19:10.122087Z"
    }
   },
   "outputs": [],
   "source": [
    "test_loaders_list_list = []\n",
    "for i in range(num_val_benchmarks+1) :\n",
    "    permutation_random_seeds = permutation_random_seeds_list[i]\n",
    "    test_loaders_list = []\n",
    "    for random_seed in permutation_random_seeds :\n",
    "        _, _, test_loader = get_task_loaders(data_path, batch_size, random_seed, train_percentage=train_percentage, difficulty=\"difficult\", download=False)\n",
    "        test_loaders_list += [test_loader]\n",
    "    test_loaders_list_list += [test_loaders_list]"
   ]
  },
  {
   "cell_type": "code",
   "execution_count": 16,
   "metadata": {
    "execution": {
     "iopub.execute_input": "2024-07-02T17:19:10.125984Z",
     "iopub.status.busy": "2024-07-02T17:19:10.125703Z",
     "iopub.status.idle": "2024-07-02T17:19:10.128761Z",
     "shell.execute_reply": "2024-07-02T17:19:10.128314Z"
    }
   },
   "outputs": [],
   "source": [
    "val_accs_matrix = np.zeros((num_val_benchmarks+2, num_tasks))"
   ]
  },
  {
   "cell_type": "code",
   "execution_count": 17,
   "metadata": {
    "execution": {
     "iopub.execute_input": "2024-07-02T17:19:10.130882Z",
     "iopub.status.busy": "2024-07-02T17:19:10.130768Z",
     "iopub.status.idle": "2024-07-02T17:19:10.134130Z",
     "shell.execute_reply": "2024-07-02T17:19:10.133708Z"
    }
   },
   "outputs": [],
   "source": [
    "def train_with_best_params (best_params_list, test_loaders_list) :\n",
    "    # Initialize model\n",
    "    benchmark_model = ANN(num_inputs, num_hidden_root, num_outputs, random_seed).to(device)\n",
    "\n",
    "    # Intialize mask\n",
    "    if grow_from == \"input\" :\n",
    "        overall_masks = [np.ones_like(benchmark_model.fc1.weight.data.cpu().numpy()),\n",
    "                        np.ones_like(benchmark_model.fc2.weight.data.cpu().numpy())]\n",
    "    else :\n",
    "        overall_masks = [np.ones_like(benchmark_model.fc2.weight.data.cpu().numpy()),\n",
    "                        np.ones_like(benchmark_model.fc3.weight.data.cpu().numpy())]\n",
    "\n",
    "    for task_number in range(0,num_tasks) :\n",
    "\n",
    "        # Verbose\n",
    "        print(\"\\n\" + \"-\"*50)\n",
    "        print(f\"LEARNING TASK {task_number+1}\")\n",
    "\n",
    "        # Retrain and save a model with the best params\n",
    "        is_first_task = True if task_number==0 else False\n",
    "        params = overall_masks, is_first_task\n",
    "        overall_masks = retrain_and_save_with_best_HPs(benchmark_model, params, best_params_list[task_number], test_loaders_list[task_number]) \n",
    "    \n",
    "    return benchmark_model"
   ]
  },
  {
   "cell_type": "code",
   "execution_count": 18,
   "metadata": {
    "execution": {
     "iopub.execute_input": "2024-07-02T17:19:10.136101Z",
     "iopub.status.busy": "2024-07-02T17:19:10.135985Z",
     "iopub.status.idle": "2024-07-02T17:37:18.037504Z",
     "shell.execute_reply": "2024-07-02T17:37:18.036872Z"
    }
   },
   "outputs": [
    {
     "name": "stdout",
     "output_type": "stream",
     "text": [
      "\n",
      "==================================================\n",
      "BENCHMARK 0\n",
      "\n",
      "==================================================\n",
      "BENCHMARK 0\n",
      "\n",
      "--------------------------------------------------\n",
      "LEARNING TASK 1\n"
     ]
    },
    {
     "name": "stderr",
     "output_type": "stream",
     "text": [
      "  0%|          | 0/6 [00:00<?, ?it/s]"
     ]
    },
    {
     "name": "stdout",
     "output_type": "stream",
     "text": [
      "In and out sizes :\n",
      "fc1 : in = 784, out = 50\n",
      "fc2 : in = 50, out = 50\n",
      "fc3 : in = 50, out = 10\n"
     ]
    },
    {
     "name": "stderr",
     "output_type": "stream",
     "text": [
      " 17%|█▋        | 1/6 [00:01<00:05,  1.06s/it]"
     ]
    },
    {
     "name": "stdout",
     "output_type": "stream",
     "text": [
      "In and out sizes :\n",
      "fc1 : in = 784, out = 50\n",
      "fc2 : in = 50, out = 50\n",
      "fc3 : in = 50, out = 10\n"
     ]
    },
    {
     "name": "stderr",
     "output_type": "stream",
     "text": [
      " 33%|███▎      | 2/6 [00:02<00:04,  1.06s/it]"
     ]
    },
    {
     "name": "stdout",
     "output_type": "stream",
     "text": [
      "In and out sizes :\n",
      "fc1 : in = 784, out = 50\n",
      "fc2 : in = 50, out = 50\n",
      "fc3 : in = 50, out = 10\n"
     ]
    },
    {
     "name": "stderr",
     "output_type": "stream",
     "text": [
      " 50%|█████     | 3/6 [00:03<00:03,  1.07s/it]"
     ]
    },
    {
     "name": "stdout",
     "output_type": "stream",
     "text": [
      "In and out sizes :\n",
      "fc1 : in = 784, out = 50\n",
      "fc2 : in = 50, out = 50\n",
      "fc3 : in = 50, out = 10\n"
     ]
    },
    {
     "name": "stderr",
     "output_type": "stream",
     "text": [
      " 67%|██████▋   | 4/6 [00:04<00:02,  1.07s/it]"
     ]
    },
    {
     "name": "stdout",
     "output_type": "stream",
     "text": [
      "In and out sizes :\n",
      "fc1 : in = 784, out = 50\n",
      "fc2 : in = 50, out = 50\n",
      "fc3 : in = 50, out = 10\n"
     ]
    },
    {
     "name": "stderr",
     "output_type": "stream",
     "text": [
      " 83%|████████▎ | 5/6 [00:05<00:01,  1.07s/it]"
     ]
    },
    {
     "name": "stdout",
     "output_type": "stream",
     "text": [
      "In and out sizes :\n",
      "fc1 : in = 784, out = 50\n",
      "fc2 : in = 50, out = 50\n",
      "fc3 : in = 50, out = 10\n"
     ]
    },
    {
     "name": "stderr",
     "output_type": "stream",
     "text": [
      "100%|██████████| 6/6 [00:06<00:00,  1.07s/it]\n"
     ]
    },
    {
     "name": "stdout",
     "output_type": "stream",
     "text": [
      "\n",
      "--------------------------------------------------\n",
      "LEARNING TASK 2\n"
     ]
    },
    {
     "name": "stderr",
     "output_type": "stream",
     "text": [
      "  0%|          | 0/6 [00:00<?, ?it/s]"
     ]
    },
    {
     "name": "stdout",
     "output_type": "stream",
     "text": [
      "In and out sizes :\n",
      "fc1 : in = 784, out = 50\n",
      "fc2 : in = 50, out = 50\n",
      "fc3 : in = 50, out = 10\n"
     ]
    },
    {
     "name": "stderr",
     "output_type": "stream",
     "text": [
      " 17%|█▋        | 1/6 [00:01<00:05,  1.06s/it]"
     ]
    },
    {
     "name": "stdout",
     "output_type": "stream",
     "text": [
      "In and out sizes :\n",
      "fc1 : in = 784, out = 50\n",
      "fc2 : in = 50, out = 50\n",
      "fc3 : in = 50, out = 10\n"
     ]
    },
    {
     "name": "stderr",
     "output_type": "stream",
     "text": [
      " 33%|███▎      | 2/6 [00:02<00:04,  1.06s/it]"
     ]
    },
    {
     "name": "stdout",
     "output_type": "stream",
     "text": [
      "In and out sizes :\n",
      "fc1 : in = 784, out = 50\n",
      "fc2 : in = 50, out = 50\n",
      "fc3 : in = 50, out = 10\n"
     ]
    },
    {
     "name": "stderr",
     "output_type": "stream",
     "text": [
      " 50%|█████     | 3/6 [00:03<00:03,  1.06s/it]"
     ]
    },
    {
     "name": "stdout",
     "output_type": "stream",
     "text": [
      "In and out sizes :\n",
      "fc1 : in = 784, out = 50\n",
      "fc2 : in = 50, out = 50\n",
      "fc3 : in = 50, out = 10\n"
     ]
    },
    {
     "name": "stderr",
     "output_type": "stream",
     "text": [
      " 67%|██████▋   | 4/6 [00:04<00:02,  1.06s/it]"
     ]
    },
    {
     "name": "stdout",
     "output_type": "stream",
     "text": [
      "In and out sizes :\n",
      "fc1 : in = 784, out = 50\n",
      "fc2 : in = 50, out = 50\n",
      "fc3 : in = 50, out = 10\n"
     ]
    },
    {
     "name": "stderr",
     "output_type": "stream",
     "text": [
      " 83%|████████▎ | 5/6 [00:05<00:01,  1.06s/it]"
     ]
    },
    {
     "name": "stdout",
     "output_type": "stream",
     "text": [
      "In and out sizes :\n",
      "fc1 : in = 784, out = 50\n",
      "fc2 : in = 50, out = 50\n",
      "fc3 : in = 50, out = 10\n"
     ]
    },
    {
     "name": "stderr",
     "output_type": "stream",
     "text": [
      "100%|██████████| 6/6 [00:06<00:00,  1.06s/it]\n"
     ]
    },
    {
     "name": "stdout",
     "output_type": "stream",
     "text": [
      "\n",
      "--------------------------------------------------\n",
      "LEARNING TASK 3\n"
     ]
    },
    {
     "name": "stderr",
     "output_type": "stream",
     "text": [
      "  0%|          | 0/4 [00:00<?, ?it/s]"
     ]
    },
    {
     "name": "stdout",
     "output_type": "stream",
     "text": [
      "In and out sizes :\n",
      "fc1 : in = 784, out = 50\n",
      "fc2 : in = 50, out = 50\n",
      "fc3 : in = 50, out = 10\n"
     ]
    },
    {
     "name": "stderr",
     "output_type": "stream",
     "text": [
      " 25%|██▌       | 1/4 [00:01<00:03,  1.06s/it]"
     ]
    },
    {
     "name": "stdout",
     "output_type": "stream",
     "text": [
      "In and out sizes :\n",
      "fc1 : in = 784, out = 50\n",
      "fc2 : in = 50, out = 50\n",
      "fc3 : in = 50, out = 10\n"
     ]
    },
    {
     "name": "stderr",
     "output_type": "stream",
     "text": [
      " 50%|█████     | 2/4 [00:02<00:02,  1.07s/it]"
     ]
    },
    {
     "name": "stdout",
     "output_type": "stream",
     "text": [
      "In and out sizes :\n",
      "fc1 : in = 784, out = 50\n",
      "fc2 : in = 50, out = 50\n",
      "fc3 : in = 50, out = 10\n"
     ]
    },
    {
     "name": "stderr",
     "output_type": "stream",
     "text": [
      " 75%|███████▌  | 3/4 [00:03<00:01,  1.07s/it]"
     ]
    },
    {
     "name": "stdout",
     "output_type": "stream",
     "text": [
      "In and out sizes :\n",
      "fc1 : in = 784, out = 50\n",
      "fc2 : in = 50, out = 50\n",
      "fc3 : in = 50, out = 10\n"
     ]
    },
    {
     "name": "stderr",
     "output_type": "stream",
     "text": [
      "100%|██████████| 4/4 [00:04<00:00,  1.06s/it]\n"
     ]
    },
    {
     "name": "stdout",
     "output_type": "stream",
     "text": [
      "\n",
      "--------------------------------------------------\n",
      "LEARNING TASK 4\n"
     ]
    },
    {
     "name": "stderr",
     "output_type": "stream",
     "text": [
      "  0%|          | 0/4 [00:00<?, ?it/s]"
     ]
    },
    {
     "name": "stdout",
     "output_type": "stream",
     "text": [
      "In and out sizes :\n",
      "fc1 : in = 784, out = 50\n",
      "fc2 : in = 50, out = 50\n",
      "fc3 : in = 50, out = 10\n"
     ]
    },
    {
     "name": "stderr",
     "output_type": "stream",
     "text": [
      " 25%|██▌       | 1/4 [00:01<00:03,  1.07s/it]"
     ]
    },
    {
     "name": "stdout",
     "output_type": "stream",
     "text": [
      "In and out sizes :\n",
      "fc1 : in = 784, out = 50\n",
      "fc2 : in = 50, out = 50\n",
      "fc3 : in = 50, out = 10\n"
     ]
    },
    {
     "name": "stderr",
     "output_type": "stream",
     "text": [
      " 50%|█████     | 2/4 [00:02<00:02,  1.07s/it]"
     ]
    },
    {
     "name": "stdout",
     "output_type": "stream",
     "text": [
      "In and out sizes :\n",
      "fc1 : in = 784, out = 50\n",
      "fc2 : in = 50, out = 50\n",
      "fc3 : in = 50, out = 10\n"
     ]
    },
    {
     "name": "stderr",
     "output_type": "stream",
     "text": [
      " 75%|███████▌  | 3/4 [00:03<00:01,  1.07s/it]"
     ]
    },
    {
     "name": "stdout",
     "output_type": "stream",
     "text": [
      "In and out sizes :\n",
      "fc1 : in = 784, out = 50\n",
      "fc2 : in = 50, out = 50\n",
      "fc3 : in = 50, out = 10\n"
     ]
    },
    {
     "name": "stderr",
     "output_type": "stream",
     "text": [
      "100%|██████████| 4/4 [00:04<00:00,  1.07s/it]\n"
     ]
    },
    {
     "name": "stdout",
     "output_type": "stream",
     "text": [
      "\n",
      "==================================================\n",
      "BENCHMARK 1\n",
      "\n",
      "--------------------------------------------------\n",
      "LEARNING TASK 1\n"
     ]
    },
    {
     "name": "stderr",
     "output_type": "stream",
     "text": [
      "  0%|          | 0/6 [00:00<?, ?it/s]"
     ]
    },
    {
     "name": "stdout",
     "output_type": "stream",
     "text": [
      "In and out sizes :\n",
      "fc1 : in = 784, out = 50\n",
      "fc2 : in = 50, out = 50\n",
      "fc3 : in = 50, out = 10\n"
     ]
    },
    {
     "name": "stderr",
     "output_type": "stream",
     "text": [
      " 17%|█▋        | 1/6 [00:01<00:05,  1.06s/it]"
     ]
    },
    {
     "name": "stdout",
     "output_type": "stream",
     "text": [
      "In and out sizes :\n",
      "fc1 : in = 784, out = 50\n",
      "fc2 : in = 50, out = 50\n",
      "fc3 : in = 50, out = 10\n"
     ]
    },
    {
     "name": "stderr",
     "output_type": "stream",
     "text": [
      " 33%|███▎      | 2/6 [00:02<00:04,  1.06s/it]"
     ]
    },
    {
     "name": "stdout",
     "output_type": "stream",
     "text": [
      "In and out sizes :\n",
      "fc1 : in = 784, out = 50\n",
      "fc2 : in = 50, out = 50\n",
      "fc3 : in = 50, out = 10\n"
     ]
    },
    {
     "name": "stderr",
     "output_type": "stream",
     "text": [
      " 50%|█████     | 3/6 [00:03<00:03,  1.06s/it]"
     ]
    },
    {
     "name": "stdout",
     "output_type": "stream",
     "text": [
      "In and out sizes :\n",
      "fc1 : in = 784, out = 50\n",
      "fc2 : in = 50, out = 50\n",
      "fc3 : in = 50, out = 10\n"
     ]
    },
    {
     "name": "stderr",
     "output_type": "stream",
     "text": [
      " 67%|██████▋   | 4/6 [00:04<00:02,  1.06s/it]"
     ]
    },
    {
     "name": "stdout",
     "output_type": "stream",
     "text": [
      "In and out sizes :\n",
      "fc1 : in = 784, out = 50\n",
      "fc2 : in = 50, out = 50\n",
      "fc3 : in = 50, out = 10\n"
     ]
    },
    {
     "name": "stderr",
     "output_type": "stream",
     "text": [
      " 83%|████████▎ | 5/6 [00:05<00:01,  1.06s/it]"
     ]
    },
    {
     "name": "stdout",
     "output_type": "stream",
     "text": [
      "In and out sizes :\n",
      "fc1 : in = 784, out = 50\n",
      "fc2 : in = 50, out = 50\n",
      "fc3 : in = 50, out = 10\n"
     ]
    },
    {
     "name": "stderr",
     "output_type": "stream",
     "text": [
      "100%|██████████| 6/6 [00:06<00:00,  1.06s/it]\n"
     ]
    },
    {
     "name": "stdout",
     "output_type": "stream",
     "text": [
      "\n",
      "--------------------------------------------------\n",
      "LEARNING TASK 2\n"
     ]
    },
    {
     "name": "stderr",
     "output_type": "stream",
     "text": [
      "  0%|          | 0/6 [00:00<?, ?it/s]"
     ]
    },
    {
     "name": "stdout",
     "output_type": "stream",
     "text": [
      "In and out sizes :\n",
      "fc1 : in = 784, out = 50\n",
      "fc2 : in = 50, out = 50\n",
      "fc3 : in = 50, out = 10\n"
     ]
    },
    {
     "name": "stderr",
     "output_type": "stream",
     "text": [
      " 17%|█▋        | 1/6 [00:01<00:05,  1.06s/it]"
     ]
    },
    {
     "name": "stdout",
     "output_type": "stream",
     "text": [
      "In and out sizes :\n",
      "fc1 : in = 784, out = 50\n",
      "fc2 : in = 50, out = 50\n",
      "fc3 : in = 50, out = 10\n"
     ]
    },
    {
     "name": "stderr",
     "output_type": "stream",
     "text": [
      " 33%|███▎      | 2/6 [00:02<00:04,  1.06s/it]"
     ]
    },
    {
     "name": "stdout",
     "output_type": "stream",
     "text": [
      "In and out sizes :\n",
      "fc1 : in = 784, out = 50\n",
      "fc2 : in = 50, out = 50\n",
      "fc3 : in = 50, out = 10\n"
     ]
    },
    {
     "name": "stderr",
     "output_type": "stream",
     "text": [
      " 50%|█████     | 3/6 [00:03<00:03,  1.07s/it]"
     ]
    },
    {
     "name": "stdout",
     "output_type": "stream",
     "text": [
      "In and out sizes :\n",
      "fc1 : in = 784, out = 50\n",
      "fc2 : in = 50, out = 50\n",
      "fc3 : in = 50, out = 10\n"
     ]
    },
    {
     "name": "stderr",
     "output_type": "stream",
     "text": [
      " 67%|██████▋   | 4/6 [00:04<00:02,  1.06s/it]"
     ]
    },
    {
     "name": "stdout",
     "output_type": "stream",
     "text": [
      "In and out sizes :\n",
      "fc1 : in = 784, out = 50\n",
      "fc2 : in = 50, out = 50\n",
      "fc3 : in = 50, out = 10\n"
     ]
    },
    {
     "name": "stderr",
     "output_type": "stream",
     "text": [
      " 83%|████████▎ | 5/6 [00:05<00:01,  1.06s/it]"
     ]
    },
    {
     "name": "stdout",
     "output_type": "stream",
     "text": [
      "In and out sizes :\n",
      "fc1 : in = 784, out = 50\n",
      "fc2 : in = 50, out = 50\n",
      "fc3 : in = 50, out = 10\n"
     ]
    },
    {
     "name": "stderr",
     "output_type": "stream",
     "text": [
      "100%|██████████| 6/6 [00:06<00:00,  1.06s/it]\n"
     ]
    },
    {
     "name": "stdout",
     "output_type": "stream",
     "text": [
      "\n",
      "--------------------------------------------------\n",
      "LEARNING TASK 3\n"
     ]
    },
    {
     "name": "stderr",
     "output_type": "stream",
     "text": [
      "  0%|          | 0/4 [00:00<?, ?it/s]"
     ]
    },
    {
     "name": "stdout",
     "output_type": "stream",
     "text": [
      "In and out sizes :\n",
      "fc1 : in = 784, out = 50\n",
      "fc2 : in = 50, out = 50\n",
      "fc3 : in = 50, out = 10\n"
     ]
    },
    {
     "name": "stderr",
     "output_type": "stream",
     "text": [
      " 25%|██▌       | 1/4 [00:01<00:03,  1.07s/it]"
     ]
    },
    {
     "name": "stdout",
     "output_type": "stream",
     "text": [
      "In and out sizes :\n",
      "fc1 : in = 784, out = 50\n",
      "fc2 : in = 50, out = 50\n",
      "fc3 : in = 50, out = 10\n"
     ]
    },
    {
     "name": "stderr",
     "output_type": "stream",
     "text": [
      " 50%|█████     | 2/4 [00:02<00:02,  1.07s/it]"
     ]
    },
    {
     "name": "stdout",
     "output_type": "stream",
     "text": [
      "In and out sizes :\n",
      "fc1 : in = 784, out = 50\n",
      "fc2 : in = 50, out = 50\n",
      "fc3 : in = 50, out = 10\n"
     ]
    },
    {
     "name": "stderr",
     "output_type": "stream",
     "text": [
      " 75%|███████▌  | 3/4 [00:03<00:01,  1.07s/it]"
     ]
    },
    {
     "name": "stdout",
     "output_type": "stream",
     "text": [
      "In and out sizes :\n",
      "fc1 : in = 784, out = 50\n",
      "fc2 : in = 50, out = 50\n",
      "fc3 : in = 50, out = 10\n"
     ]
    },
    {
     "name": "stderr",
     "output_type": "stream",
     "text": [
      "100%|██████████| 4/4 [00:04<00:00,  1.07s/it]\n"
     ]
    },
    {
     "name": "stdout",
     "output_type": "stream",
     "text": [
      "\n",
      "--------------------------------------------------\n",
      "LEARNING TASK 4\n"
     ]
    },
    {
     "name": "stderr",
     "output_type": "stream",
     "text": [
      "  0%|          | 0/4 [00:00<?, ?it/s]"
     ]
    },
    {
     "name": "stdout",
     "output_type": "stream",
     "text": [
      "In and out sizes :\n",
      "fc1 : in = 784, out = 50\n",
      "fc2 : in = 50, out = 50\n",
      "fc3 : in = 50, out = 10\n"
     ]
    },
    {
     "name": "stderr",
     "output_type": "stream",
     "text": [
      " 25%|██▌       | 1/4 [00:01<00:03,  1.06s/it]"
     ]
    },
    {
     "name": "stdout",
     "output_type": "stream",
     "text": [
      "In and out sizes :\n",
      "fc1 : in = 784, out = 50\n",
      "fc2 : in = 50, out = 50\n",
      "fc3 : in = 50, out = 10\n"
     ]
    },
    {
     "name": "stderr",
     "output_type": "stream",
     "text": [
      " 50%|█████     | 2/4 [00:02<00:02,  1.07s/it]"
     ]
    },
    {
     "name": "stdout",
     "output_type": "stream",
     "text": [
      "In and out sizes :\n",
      "fc1 : in = 784, out = 50\n",
      "fc2 : in = 50, out = 50\n",
      "fc3 : in = 50, out = 10\n"
     ]
    },
    {
     "name": "stderr",
     "output_type": "stream",
     "text": [
      " 75%|███████▌  | 3/4 [00:03<00:01,  1.07s/it]"
     ]
    },
    {
     "name": "stdout",
     "output_type": "stream",
     "text": [
      "In and out sizes :\n",
      "fc1 : in = 784, out = 50\n",
      "fc2 : in = 50, out = 50\n",
      "fc3 : in = 50, out = 10\n"
     ]
    },
    {
     "name": "stderr",
     "output_type": "stream",
     "text": [
      "100%|██████████| 4/4 [00:04<00:00,  1.07s/it]\n"
     ]
    },
    {
     "name": "stdout",
     "output_type": "stream",
     "text": [
      "\n",
      "==================================================\n",
      "BENCHMARK 2\n",
      "\n",
      "--------------------------------------------------\n",
      "LEARNING TASK 1\n"
     ]
    },
    {
     "name": "stderr",
     "output_type": "stream",
     "text": [
      "  0%|          | 0/6 [00:00<?, ?it/s]"
     ]
    },
    {
     "name": "stdout",
     "output_type": "stream",
     "text": [
      "In and out sizes :\n",
      "fc1 : in = 784, out = 50\n",
      "fc2 : in = 50, out = 50\n",
      "fc3 : in = 50, out = 10\n"
     ]
    },
    {
     "name": "stderr",
     "output_type": "stream",
     "text": [
      " 17%|█▋        | 1/6 [00:01<00:05,  1.06s/it]"
     ]
    },
    {
     "name": "stdout",
     "output_type": "stream",
     "text": [
      "In and out sizes :\n",
      "fc1 : in = 784, out = 50\n",
      "fc2 : in = 50, out = 50\n",
      "fc3 : in = 50, out = 10\n"
     ]
    },
    {
     "name": "stderr",
     "output_type": "stream",
     "text": [
      " 33%|███▎      | 2/6 [00:02<00:04,  1.06s/it]"
     ]
    },
    {
     "name": "stdout",
     "output_type": "stream",
     "text": [
      "In and out sizes :\n",
      "fc1 : in = 784, out = 50\n",
      "fc2 : in = 50, out = 50\n",
      "fc3 : in = 50, out = 10\n"
     ]
    },
    {
     "name": "stderr",
     "output_type": "stream",
     "text": [
      " 50%|█████     | 3/6 [00:03<00:03,  1.06s/it]"
     ]
    },
    {
     "name": "stdout",
     "output_type": "stream",
     "text": [
      "In and out sizes :\n",
      "fc1 : in = 784, out = 50\n",
      "fc2 : in = 50, out = 50\n",
      "fc3 : in = 50, out = 10\n"
     ]
    },
    {
     "name": "stderr",
     "output_type": "stream",
     "text": [
      " 67%|██████▋   | 4/6 [00:04<00:02,  1.06s/it]"
     ]
    },
    {
     "name": "stdout",
     "output_type": "stream",
     "text": [
      "In and out sizes :\n",
      "fc1 : in = 784, out = 50\n",
      "fc2 : in = 50, out = 50\n",
      "fc3 : in = 50, out = 10\n"
     ]
    },
    {
     "name": "stderr",
     "output_type": "stream",
     "text": [
      " 83%|████████▎ | 5/6 [00:05<00:01,  1.06s/it]"
     ]
    },
    {
     "name": "stdout",
     "output_type": "stream",
     "text": [
      "In and out sizes :\n",
      "fc1 : in = 784, out = 50\n",
      "fc2 : in = 50, out = 50\n",
      "fc3 : in = 50, out = 10\n"
     ]
    },
    {
     "name": "stderr",
     "output_type": "stream",
     "text": [
      "100%|██████████| 6/6 [00:06<00:00,  1.06s/it]\n"
     ]
    },
    {
     "name": "stdout",
     "output_type": "stream",
     "text": [
      "\n",
      "--------------------------------------------------\n",
      "LEARNING TASK 2\n"
     ]
    },
    {
     "name": "stderr",
     "output_type": "stream",
     "text": [
      "  0%|          | 0/6 [00:00<?, ?it/s]"
     ]
    },
    {
     "name": "stdout",
     "output_type": "stream",
     "text": [
      "In and out sizes :\n",
      "fc1 : in = 784, out = 50\n",
      "fc2 : in = 50, out = 50\n",
      "fc3 : in = 50, out = 10\n"
     ]
    },
    {
     "name": "stderr",
     "output_type": "stream",
     "text": [
      " 17%|█▋        | 1/6 [00:01<00:05,  1.06s/it]"
     ]
    },
    {
     "name": "stdout",
     "output_type": "stream",
     "text": [
      "In and out sizes :\n",
      "fc1 : in = 784, out = 50\n",
      "fc2 : in = 50, out = 50\n",
      "fc3 : in = 50, out = 10\n"
     ]
    },
    {
     "name": "stderr",
     "output_type": "stream",
     "text": [
      " 33%|███▎      | 2/6 [00:02<00:04,  1.06s/it]"
     ]
    },
    {
     "name": "stdout",
     "output_type": "stream",
     "text": [
      "In and out sizes :\n",
      "fc1 : in = 784, out = 50\n",
      "fc2 : in = 50, out = 50\n",
      "fc3 : in = 50, out = 10\n"
     ]
    },
    {
     "name": "stderr",
     "output_type": "stream",
     "text": [
      " 50%|█████     | 3/6 [00:03<00:03,  1.07s/it]"
     ]
    },
    {
     "name": "stdout",
     "output_type": "stream",
     "text": [
      "In and out sizes :\n",
      "fc1 : in = 784, out = 50\n",
      "fc2 : in = 50, out = 50\n",
      "fc3 : in = 50, out = 10\n"
     ]
    },
    {
     "name": "stderr",
     "output_type": "stream",
     "text": [
      " 67%|██████▋   | 4/6 [00:04<00:02,  1.07s/it]"
     ]
    },
    {
     "name": "stdout",
     "output_type": "stream",
     "text": [
      "In and out sizes :\n",
      "fc1 : in = 784, out = 50\n",
      "fc2 : in = 50, out = 50\n",
      "fc3 : in = 50, out = 10\n"
     ]
    },
    {
     "name": "stderr",
     "output_type": "stream",
     "text": [
      " 83%|████████▎ | 5/6 [00:05<00:01,  1.07s/it]"
     ]
    },
    {
     "name": "stdout",
     "output_type": "stream",
     "text": [
      "In and out sizes :\n",
      "fc1 : in = 784, out = 50\n",
      "fc2 : in = 50, out = 50\n",
      "fc3 : in = 50, out = 10\n"
     ]
    },
    {
     "name": "stderr",
     "output_type": "stream",
     "text": [
      "100%|██████████| 6/6 [00:06<00:00,  1.07s/it]\n"
     ]
    },
    {
     "name": "stdout",
     "output_type": "stream",
     "text": [
      "\n",
      "--------------------------------------------------\n",
      "LEARNING TASK 3\n"
     ]
    },
    {
     "name": "stderr",
     "output_type": "stream",
     "text": [
      "  0%|          | 0/4 [00:00<?, ?it/s]"
     ]
    },
    {
     "name": "stdout",
     "output_type": "stream",
     "text": [
      "In and out sizes :\n",
      "fc1 : in = 784, out = 50\n",
      "fc2 : in = 50, out = 50\n",
      "fc3 : in = 50, out = 10\n"
     ]
    },
    {
     "name": "stderr",
     "output_type": "stream",
     "text": [
      " 25%|██▌       | 1/4 [00:01<00:03,  1.07s/it]"
     ]
    },
    {
     "name": "stdout",
     "output_type": "stream",
     "text": [
      "In and out sizes :\n",
      "fc1 : in = 784, out = 50\n",
      "fc2 : in = 50, out = 50\n",
      "fc3 : in = 50, out = 10\n"
     ]
    },
    {
     "name": "stderr",
     "output_type": "stream",
     "text": [
      " 50%|█████     | 2/4 [00:02<00:02,  1.07s/it]"
     ]
    },
    {
     "name": "stdout",
     "output_type": "stream",
     "text": [
      "In and out sizes :\n",
      "fc1 : in = 784, out = 50\n",
      "fc2 : in = 50, out = 50\n",
      "fc3 : in = 50, out = 10\n"
     ]
    },
    {
     "name": "stderr",
     "output_type": "stream",
     "text": [
      " 75%|███████▌  | 3/4 [00:03<00:01,  1.07s/it]"
     ]
    },
    {
     "name": "stdout",
     "output_type": "stream",
     "text": [
      "In and out sizes :\n",
      "fc1 : in = 784, out = 68\n",
      "fc2 : in = 68, out = 50\n",
      "fc3 : in = 50, out = 10\n"
     ]
    },
    {
     "name": "stderr",
     "output_type": "stream",
     "text": [
      "100%|██████████| 4/4 [00:04<00:00,  1.07s/it]\n"
     ]
    },
    {
     "name": "stdout",
     "output_type": "stream",
     "text": [
      "\n",
      "--------------------------------------------------\n",
      "LEARNING TASK 4\n"
     ]
    },
    {
     "name": "stderr",
     "output_type": "stream",
     "text": [
      "  0%|          | 0/4 [00:00<?, ?it/s]"
     ]
    },
    {
     "name": "stdout",
     "output_type": "stream",
     "text": [
      "In and out sizes :\n",
      "fc1 : in = 784, out = 68\n",
      "fc2 : in = 68, out = 50\n",
      "fc3 : in = 50, out = 10\n"
     ]
    },
    {
     "name": "stderr",
     "output_type": "stream",
     "text": [
      " 25%|██▌       | 1/4 [00:01<00:03,  1.06s/it]"
     ]
    },
    {
     "name": "stdout",
     "output_type": "stream",
     "text": [
      "In and out sizes :\n",
      "fc1 : in = 784, out = 68\n",
      "fc2 : in = 68, out = 50\n",
      "fc3 : in = 50, out = 10\n"
     ]
    },
    {
     "name": "stderr",
     "output_type": "stream",
     "text": [
      " 50%|█████     | 2/4 [00:02<00:02,  1.06s/it]"
     ]
    },
    {
     "name": "stdout",
     "output_type": "stream",
     "text": [
      "In and out sizes :\n",
      "fc1 : in = 784, out = 68\n",
      "fc2 : in = 68, out = 50\n",
      "fc3 : in = 50, out = 10\n"
     ]
    },
    {
     "name": "stderr",
     "output_type": "stream",
     "text": [
      " 75%|███████▌  | 3/4 [00:03<00:01,  1.07s/it]"
     ]
    },
    {
     "name": "stdout",
     "output_type": "stream",
     "text": [
      "In and out sizes :\n",
      "fc1 : in = 784, out = 68\n",
      "fc2 : in = 68, out = 50\n",
      "fc3 : in = 50, out = 10\n"
     ]
    },
    {
     "name": "stderr",
     "output_type": "stream",
     "text": [
      "100%|██████████| 4/4 [00:04<00:00,  1.07s/it]\n"
     ]
    },
    {
     "name": "stdout",
     "output_type": "stream",
     "text": [
      "\n",
      "==================================================\n",
      "BENCHMARK 3\n",
      "\n",
      "--------------------------------------------------\n",
      "LEARNING TASK 1\n"
     ]
    },
    {
     "name": "stderr",
     "output_type": "stream",
     "text": [
      "  0%|          | 0/6 [00:00<?, ?it/s]"
     ]
    },
    {
     "name": "stdout",
     "output_type": "stream",
     "text": [
      "In and out sizes :\n",
      "fc1 : in = 784, out = 50\n",
      "fc2 : in = 50, out = 50\n",
      "fc3 : in = 50, out = 10\n"
     ]
    },
    {
     "name": "stderr",
     "output_type": "stream",
     "text": [
      " 17%|█▋        | 1/6 [00:01<00:05,  1.06s/it]"
     ]
    },
    {
     "name": "stdout",
     "output_type": "stream",
     "text": [
      "In and out sizes :\n",
      "fc1 : in = 784, out = 50\n",
      "fc2 : in = 50, out = 50\n",
      "fc3 : in = 50, out = 10\n"
     ]
    },
    {
     "name": "stderr",
     "output_type": "stream",
     "text": [
      " 33%|███▎      | 2/6 [00:02<00:04,  1.06s/it]"
     ]
    },
    {
     "name": "stdout",
     "output_type": "stream",
     "text": [
      "In and out sizes :\n",
      "fc1 : in = 784, out = 50\n",
      "fc2 : in = 50, out = 50\n",
      "fc3 : in = 50, out = 10\n"
     ]
    },
    {
     "name": "stderr",
     "output_type": "stream",
     "text": [
      " 50%|█████     | 3/6 [00:03<00:03,  1.06s/it]"
     ]
    },
    {
     "name": "stdout",
     "output_type": "stream",
     "text": [
      "In and out sizes :\n",
      "fc1 : in = 784, out = 50\n",
      "fc2 : in = 50, out = 50\n",
      "fc3 : in = 50, out = 10\n"
     ]
    },
    {
     "name": "stderr",
     "output_type": "stream",
     "text": [
      " 67%|██████▋   | 4/6 [00:04<00:02,  1.06s/it]"
     ]
    },
    {
     "name": "stdout",
     "output_type": "stream",
     "text": [
      "In and out sizes :\n",
      "fc1 : in = 784, out = 50\n",
      "fc2 : in = 50, out = 50\n",
      "fc3 : in = 50, out = 10\n"
     ]
    },
    {
     "name": "stderr",
     "output_type": "stream",
     "text": [
      " 83%|████████▎ | 5/6 [00:05<00:01,  1.06s/it]"
     ]
    },
    {
     "name": "stdout",
     "output_type": "stream",
     "text": [
      "In and out sizes :\n",
      "fc1 : in = 784, out = 50\n",
      "fc2 : in = 50, out = 50\n",
      "fc3 : in = 50, out = 10\n"
     ]
    },
    {
     "name": "stderr",
     "output_type": "stream",
     "text": [
      "100%|██████████| 6/6 [00:06<00:00,  1.06s/it]\n"
     ]
    },
    {
     "name": "stdout",
     "output_type": "stream",
     "text": [
      "\n",
      "--------------------------------------------------\n",
      "LEARNING TASK 2\n"
     ]
    },
    {
     "name": "stderr",
     "output_type": "stream",
     "text": [
      "  0%|          | 0/6 [00:00<?, ?it/s]"
     ]
    },
    {
     "name": "stdout",
     "output_type": "stream",
     "text": [
      "In and out sizes :\n",
      "fc1 : in = 784, out = 50\n",
      "fc2 : in = 50, out = 50\n",
      "fc3 : in = 50, out = 10\n"
     ]
    },
    {
     "name": "stderr",
     "output_type": "stream",
     "text": [
      " 17%|█▋        | 1/6 [00:01<00:05,  1.06s/it]"
     ]
    },
    {
     "name": "stdout",
     "output_type": "stream",
     "text": [
      "In and out sizes :\n",
      "fc1 : in = 784, out = 50\n",
      "fc2 : in = 50, out = 50\n",
      "fc3 : in = 50, out = 10\n"
     ]
    },
    {
     "name": "stderr",
     "output_type": "stream",
     "text": [
      " 33%|███▎      | 2/6 [00:02<00:04,  1.06s/it]"
     ]
    },
    {
     "name": "stdout",
     "output_type": "stream",
     "text": [
      "In and out sizes :\n",
      "fc1 : in = 784, out = 50\n",
      "fc2 : in = 50, out = 50\n",
      "fc3 : in = 50, out = 10\n"
     ]
    },
    {
     "name": "stderr",
     "output_type": "stream",
     "text": [
      " 50%|█████     | 3/6 [00:03<00:03,  1.07s/it]"
     ]
    },
    {
     "name": "stdout",
     "output_type": "stream",
     "text": [
      "In and out sizes :\n",
      "fc1 : in = 784, out = 50\n",
      "fc2 : in = 50, out = 50\n",
      "fc3 : in = 50, out = 10\n"
     ]
    },
    {
     "name": "stderr",
     "output_type": "stream",
     "text": [
      " 67%|██████▋   | 4/6 [00:04<00:02,  1.06s/it]"
     ]
    },
    {
     "name": "stdout",
     "output_type": "stream",
     "text": [
      "In and out sizes :\n",
      "fc1 : in = 784, out = 50\n",
      "fc2 : in = 50, out = 50\n",
      "fc3 : in = 50, out = 10\n"
     ]
    },
    {
     "name": "stderr",
     "output_type": "stream",
     "text": [
      " 83%|████████▎ | 5/6 [00:05<00:01,  1.06s/it]"
     ]
    },
    {
     "name": "stdout",
     "output_type": "stream",
     "text": [
      "In and out sizes :\n",
      "fc1 : in = 784, out = 50\n",
      "fc2 : in = 50, out = 50\n",
      "fc3 : in = 50, out = 10\n"
     ]
    },
    {
     "name": "stderr",
     "output_type": "stream",
     "text": [
      "100%|██████████| 6/6 [00:06<00:00,  1.06s/it]\n"
     ]
    },
    {
     "name": "stdout",
     "output_type": "stream",
     "text": [
      "\n",
      "--------------------------------------------------\n",
      "LEARNING TASK 3\n"
     ]
    },
    {
     "name": "stderr",
     "output_type": "stream",
     "text": [
      "  0%|          | 0/4 [00:00<?, ?it/s]"
     ]
    },
    {
     "name": "stdout",
     "output_type": "stream",
     "text": [
      "In and out sizes :\n",
      "fc1 : in = 784, out = 50\n",
      "fc2 : in = 50, out = 50\n",
      "fc3 : in = 50, out = 10\n"
     ]
    },
    {
     "name": "stderr",
     "output_type": "stream",
     "text": [
      " 25%|██▌       | 1/4 [00:01<00:03,  1.06s/it]"
     ]
    },
    {
     "name": "stdout",
     "output_type": "stream",
     "text": [
      "In and out sizes :\n",
      "fc1 : in = 784, out = 50\n",
      "fc2 : in = 50, out = 50\n",
      "fc3 : in = 50, out = 10\n"
     ]
    },
    {
     "name": "stderr",
     "output_type": "stream",
     "text": [
      " 50%|█████     | 2/4 [00:02<00:02,  1.06s/it]"
     ]
    },
    {
     "name": "stdout",
     "output_type": "stream",
     "text": [
      "In and out sizes :\n",
      "fc1 : in = 784, out = 50\n",
      "fc2 : in = 50, out = 50\n",
      "fc3 : in = 50, out = 10\n"
     ]
    },
    {
     "name": "stderr",
     "output_type": "stream",
     "text": [
      " 75%|███████▌  | 3/4 [00:03<00:01,  1.06s/it]"
     ]
    },
    {
     "name": "stdout",
     "output_type": "stream",
     "text": [
      "In and out sizes :\n",
      "fc1 : in = 784, out = 50\n",
      "fc2 : in = 50, out = 50\n",
      "fc3 : in = 50, out = 10\n"
     ]
    },
    {
     "name": "stderr",
     "output_type": "stream",
     "text": [
      "100%|██████████| 4/4 [00:04<00:00,  1.06s/it]\n"
     ]
    },
    {
     "name": "stdout",
     "output_type": "stream",
     "text": [
      "\n",
      "--------------------------------------------------\n",
      "LEARNING TASK 4\n"
     ]
    },
    {
     "name": "stderr",
     "output_type": "stream",
     "text": [
      "  0%|          | 0/4 [00:00<?, ?it/s]"
     ]
    },
    {
     "name": "stdout",
     "output_type": "stream",
     "text": [
      "In and out sizes :\n",
      "fc1 : in = 784, out = 50\n",
      "fc2 : in = 50, out = 50\n",
      "fc3 : in = 50, out = 10\n"
     ]
    },
    {
     "name": "stderr",
     "output_type": "stream",
     "text": [
      " 25%|██▌       | 1/4 [00:01<00:03,  1.06s/it]"
     ]
    },
    {
     "name": "stdout",
     "output_type": "stream",
     "text": [
      "In and out sizes :\n",
      "fc1 : in = 784, out = 50\n",
      "fc2 : in = 50, out = 50\n",
      "fc3 : in = 50, out = 10\n"
     ]
    },
    {
     "name": "stderr",
     "output_type": "stream",
     "text": [
      " 50%|█████     | 2/4 [00:02<00:02,  1.07s/it]"
     ]
    },
    {
     "name": "stdout",
     "output_type": "stream",
     "text": [
      "In and out sizes :\n",
      "fc1 : in = 784, out = 50\n",
      "fc2 : in = 50, out = 50\n",
      "fc3 : in = 50, out = 10\n"
     ]
    },
    {
     "name": "stderr",
     "output_type": "stream",
     "text": [
      " 75%|███████▌  | 3/4 [00:03<00:01,  1.07s/it]"
     ]
    },
    {
     "name": "stdout",
     "output_type": "stream",
     "text": [
      "In and out sizes :\n",
      "fc1 : in = 784, out = 50\n",
      "fc2 : in = 50, out = 50\n",
      "fc3 : in = 50, out = 10\n"
     ]
    },
    {
     "name": "stderr",
     "output_type": "stream",
     "text": [
      "100%|██████████| 4/4 [00:04<00:00,  1.07s/it]\n"
     ]
    },
    {
     "name": "stdout",
     "output_type": "stream",
     "text": [
      "\n",
      "==================================================\n",
      "BENCHMARK 4\n",
      "\n",
      "--------------------------------------------------\n",
      "LEARNING TASK 1\n"
     ]
    },
    {
     "name": "stderr",
     "output_type": "stream",
     "text": [
      "  0%|          | 0/6 [00:00<?, ?it/s]"
     ]
    },
    {
     "name": "stdout",
     "output_type": "stream",
     "text": [
      "In and out sizes :\n",
      "fc1 : in = 784, out = 50\n",
      "fc2 : in = 50, out = 50\n",
      "fc3 : in = 50, out = 10\n"
     ]
    },
    {
     "name": "stderr",
     "output_type": "stream",
     "text": [
      " 17%|█▋        | 1/6 [00:01<00:05,  1.06s/it]"
     ]
    },
    {
     "name": "stdout",
     "output_type": "stream",
     "text": [
      "In and out sizes :\n",
      "fc1 : in = 784, out = 50\n",
      "fc2 : in = 50, out = 50\n",
      "fc3 : in = 50, out = 10\n"
     ]
    },
    {
     "name": "stderr",
     "output_type": "stream",
     "text": [
      " 33%|███▎      | 2/6 [00:02<00:04,  1.06s/it]"
     ]
    },
    {
     "name": "stdout",
     "output_type": "stream",
     "text": [
      "In and out sizes :\n",
      "fc1 : in = 784, out = 50\n",
      "fc2 : in = 50, out = 50\n",
      "fc3 : in = 50, out = 10\n"
     ]
    },
    {
     "name": "stderr",
     "output_type": "stream",
     "text": [
      " 50%|█████     | 3/6 [00:03<00:03,  1.06s/it]"
     ]
    },
    {
     "name": "stdout",
     "output_type": "stream",
     "text": [
      "In and out sizes :\n",
      "fc1 : in = 784, out = 50\n",
      "fc2 : in = 50, out = 50\n",
      "fc3 : in = 50, out = 10\n"
     ]
    },
    {
     "name": "stderr",
     "output_type": "stream",
     "text": [
      " 67%|██████▋   | 4/6 [00:04<00:02,  1.06s/it]"
     ]
    },
    {
     "name": "stdout",
     "output_type": "stream",
     "text": [
      "In and out sizes :\n",
      "fc1 : in = 784, out = 50\n",
      "fc2 : in = 50, out = 50\n",
      "fc3 : in = 50, out = 10\n"
     ]
    },
    {
     "name": "stderr",
     "output_type": "stream",
     "text": [
      " 83%|████████▎ | 5/6 [00:05<00:01,  1.06s/it]"
     ]
    },
    {
     "name": "stdout",
     "output_type": "stream",
     "text": [
      "In and out sizes :\n",
      "fc1 : in = 784, out = 50\n",
      "fc2 : in = 50, out = 50\n",
      "fc3 : in = 50, out = 10\n"
     ]
    },
    {
     "name": "stderr",
     "output_type": "stream",
     "text": [
      "100%|██████████| 6/6 [00:06<00:00,  1.06s/it]\n"
     ]
    },
    {
     "name": "stdout",
     "output_type": "stream",
     "text": [
      "\n",
      "--------------------------------------------------\n",
      "LEARNING TASK 2\n"
     ]
    },
    {
     "name": "stderr",
     "output_type": "stream",
     "text": [
      "  0%|          | 0/6 [00:00<?, ?it/s]"
     ]
    },
    {
     "name": "stdout",
     "output_type": "stream",
     "text": [
      "In and out sizes :\n",
      "fc1 : in = 784, out = 50\n",
      "fc2 : in = 50, out = 50\n",
      "fc3 : in = 50, out = 10\n"
     ]
    },
    {
     "name": "stderr",
     "output_type": "stream",
     "text": [
      " 17%|█▋        | 1/6 [00:01<00:05,  1.07s/it]"
     ]
    },
    {
     "name": "stdout",
     "output_type": "stream",
     "text": [
      "In and out sizes :\n",
      "fc1 : in = 784, out = 50\n",
      "fc2 : in = 50, out = 50\n",
      "fc3 : in = 50, out = 10\n"
     ]
    },
    {
     "name": "stderr",
     "output_type": "stream",
     "text": [
      " 33%|███▎      | 2/6 [00:02<00:04,  1.06s/it]"
     ]
    },
    {
     "name": "stdout",
     "output_type": "stream",
     "text": [
      "In and out sizes :\n",
      "fc1 : in = 784, out = 50\n",
      "fc2 : in = 50, out = 50\n",
      "fc3 : in = 50, out = 10\n"
     ]
    },
    {
     "name": "stderr",
     "output_type": "stream",
     "text": [
      " 50%|█████     | 3/6 [00:03<00:03,  1.06s/it]"
     ]
    },
    {
     "name": "stdout",
     "output_type": "stream",
     "text": [
      "In and out sizes :\n",
      "fc1 : in = 784, out = 50\n",
      "fc2 : in = 50, out = 50\n",
      "fc3 : in = 50, out = 10\n"
     ]
    },
    {
     "name": "stderr",
     "output_type": "stream",
     "text": [
      " 67%|██████▋   | 4/6 [00:04<00:02,  1.06s/it]"
     ]
    },
    {
     "name": "stdout",
     "output_type": "stream",
     "text": [
      "In and out sizes :\n",
      "fc1 : in = 784, out = 50\n",
      "fc2 : in = 50, out = 50\n",
      "fc3 : in = 50, out = 10\n"
     ]
    },
    {
     "name": "stderr",
     "output_type": "stream",
     "text": [
      " 83%|████████▎ | 5/6 [00:05<00:01,  1.06s/it]"
     ]
    },
    {
     "name": "stdout",
     "output_type": "stream",
     "text": [
      "In and out sizes :\n",
      "fc1 : in = 784, out = 50\n",
      "fc2 : in = 50, out = 50\n",
      "fc3 : in = 50, out = 10\n"
     ]
    },
    {
     "name": "stderr",
     "output_type": "stream",
     "text": [
      "100%|██████████| 6/6 [00:06<00:00,  1.06s/it]\n"
     ]
    },
    {
     "name": "stdout",
     "output_type": "stream",
     "text": [
      "\n",
      "--------------------------------------------------\n",
      "LEARNING TASK 3\n"
     ]
    },
    {
     "name": "stderr",
     "output_type": "stream",
     "text": [
      "  0%|          | 0/4 [00:00<?, ?it/s]"
     ]
    },
    {
     "name": "stdout",
     "output_type": "stream",
     "text": [
      "In and out sizes :\n",
      "fc1 : in = 784, out = 50\n",
      "fc2 : in = 50, out = 50\n",
      "fc3 : in = 50, out = 10\n"
     ]
    },
    {
     "name": "stderr",
     "output_type": "stream",
     "text": [
      " 25%|██▌       | 1/4 [00:01<00:03,  1.07s/it]"
     ]
    },
    {
     "name": "stdout",
     "output_type": "stream",
     "text": [
      "In and out sizes :\n",
      "fc1 : in = 784, out = 50\n",
      "fc2 : in = 50, out = 50\n",
      "fc3 : in = 50, out = 10\n"
     ]
    },
    {
     "name": "stderr",
     "output_type": "stream",
     "text": [
      " 50%|█████     | 2/4 [00:02<00:02,  1.07s/it]"
     ]
    },
    {
     "name": "stdout",
     "output_type": "stream",
     "text": [
      "In and out sizes :\n",
      "fc1 : in = 784, out = 50\n",
      "fc2 : in = 50, out = 50\n",
      "fc3 : in = 50, out = 10\n"
     ]
    },
    {
     "name": "stderr",
     "output_type": "stream",
     "text": [
      " 75%|███████▌  | 3/4 [00:03<00:01,  1.07s/it]"
     ]
    },
    {
     "name": "stdout",
     "output_type": "stream",
     "text": [
      "In and out sizes :\n",
      "fc1 : in = 784, out = 53\n",
      "fc2 : in = 53, out = 50\n",
      "fc3 : in = 50, out = 10\n"
     ]
    },
    {
     "name": "stderr",
     "output_type": "stream",
     "text": [
      "100%|██████████| 4/4 [00:04<00:00,  1.07s/it]\n"
     ]
    },
    {
     "name": "stdout",
     "output_type": "stream",
     "text": [
      "\n",
      "--------------------------------------------------\n",
      "LEARNING TASK 4\n"
     ]
    },
    {
     "name": "stderr",
     "output_type": "stream",
     "text": [
      "  0%|          | 0/4 [00:00<?, ?it/s]"
     ]
    },
    {
     "name": "stdout",
     "output_type": "stream",
     "text": [
      "In and out sizes :\n",
      "fc1 : in = 784, out = 53\n",
      "fc2 : in = 53, out = 50\n",
      "fc3 : in = 50, out = 10\n"
     ]
    },
    {
     "name": "stderr",
     "output_type": "stream",
     "text": [
      " 25%|██▌       | 1/4 [00:01<00:03,  1.07s/it]"
     ]
    },
    {
     "name": "stdout",
     "output_type": "stream",
     "text": [
      "In and out sizes :\n",
      "fc1 : in = 784, out = 53\n",
      "fc2 : in = 53, out = 50\n",
      "fc3 : in = 50, out = 10\n"
     ]
    },
    {
     "name": "stderr",
     "output_type": "stream",
     "text": [
      " 50%|█████     | 2/4 [00:02<00:02,  1.07s/it]"
     ]
    },
    {
     "name": "stdout",
     "output_type": "stream",
     "text": [
      "In and out sizes :\n",
      "fc1 : in = 784, out = 53\n",
      "fc2 : in = 53, out = 50\n",
      "fc3 : in = 50, out = 10\n"
     ]
    },
    {
     "name": "stderr",
     "output_type": "stream",
     "text": [
      " 75%|███████▌  | 3/4 [00:03<00:01,  1.07s/it]"
     ]
    },
    {
     "name": "stdout",
     "output_type": "stream",
     "text": [
      "In and out sizes :\n",
      "fc1 : in = 784, out = 53\n",
      "fc2 : in = 53, out = 50\n",
      "fc3 : in = 50, out = 10\n"
     ]
    },
    {
     "name": "stderr",
     "output_type": "stream",
     "text": [
      "100%|██████████| 4/4 [00:04<00:00,  1.06s/it]\n"
     ]
    },
    {
     "name": "stdout",
     "output_type": "stream",
     "text": [
      "\n",
      "==================================================\n",
      "BENCHMARK 5\n",
      "\n",
      "--------------------------------------------------\n",
      "LEARNING TASK 1\n"
     ]
    },
    {
     "name": "stderr",
     "output_type": "stream",
     "text": [
      "  0%|          | 0/6 [00:00<?, ?it/s]"
     ]
    },
    {
     "name": "stdout",
     "output_type": "stream",
     "text": [
      "In and out sizes :\n",
      "fc1 : in = 784, out = 50\n",
      "fc2 : in = 50, out = 50\n",
      "fc3 : in = 50, out = 10\n"
     ]
    },
    {
     "name": "stderr",
     "output_type": "stream",
     "text": [
      " 17%|█▋        | 1/6 [00:01<00:05,  1.06s/it]"
     ]
    },
    {
     "name": "stdout",
     "output_type": "stream",
     "text": [
      "In and out sizes :\n",
      "fc1 : in = 784, out = 50\n",
      "fc2 : in = 50, out = 50\n",
      "fc3 : in = 50, out = 10\n"
     ]
    },
    {
     "name": "stderr",
     "output_type": "stream",
     "text": [
      " 33%|███▎      | 2/6 [00:02<00:04,  1.06s/it]"
     ]
    },
    {
     "name": "stdout",
     "output_type": "stream",
     "text": [
      "In and out sizes :\n",
      "fc1 : in = 784, out = 50\n",
      "fc2 : in = 50, out = 50\n",
      "fc3 : in = 50, out = 10\n"
     ]
    },
    {
     "name": "stderr",
     "output_type": "stream",
     "text": [
      " 50%|█████     | 3/6 [00:03<00:03,  1.06s/it]"
     ]
    },
    {
     "name": "stdout",
     "output_type": "stream",
     "text": [
      "In and out sizes :\n",
      "fc1 : in = 784, out = 50\n",
      "fc2 : in = 50, out = 50\n",
      "fc3 : in = 50, out = 10\n"
     ]
    },
    {
     "name": "stderr",
     "output_type": "stream",
     "text": [
      " 67%|██████▋   | 4/6 [00:04<00:02,  1.06s/it]"
     ]
    },
    {
     "name": "stdout",
     "output_type": "stream",
     "text": [
      "In and out sizes :\n",
      "fc1 : in = 784, out = 50\n",
      "fc2 : in = 50, out = 50\n",
      "fc3 : in = 50, out = 10\n"
     ]
    },
    {
     "name": "stderr",
     "output_type": "stream",
     "text": [
      " 83%|████████▎ | 5/6 [00:05<00:01,  1.06s/it]"
     ]
    },
    {
     "name": "stdout",
     "output_type": "stream",
     "text": [
      "In and out sizes :\n",
      "fc1 : in = 784, out = 50\n",
      "fc2 : in = 50, out = 50\n",
      "fc3 : in = 50, out = 10\n"
     ]
    },
    {
     "name": "stderr",
     "output_type": "stream",
     "text": [
      "100%|██████████| 6/6 [00:06<00:00,  1.06s/it]\n"
     ]
    },
    {
     "name": "stdout",
     "output_type": "stream",
     "text": [
      "\n",
      "--------------------------------------------------\n",
      "LEARNING TASK 2\n"
     ]
    },
    {
     "name": "stderr",
     "output_type": "stream",
     "text": [
      "  0%|          | 0/6 [00:00<?, ?it/s]"
     ]
    },
    {
     "name": "stdout",
     "output_type": "stream",
     "text": [
      "In and out sizes :\n",
      "fc1 : in = 784, out = 50\n",
      "fc2 : in = 50, out = 50\n",
      "fc3 : in = 50, out = 10\n"
     ]
    },
    {
     "name": "stderr",
     "output_type": "stream",
     "text": [
      " 17%|█▋        | 1/6 [00:01<00:05,  1.06s/it]"
     ]
    },
    {
     "name": "stdout",
     "output_type": "stream",
     "text": [
      "In and out sizes :\n",
      "fc1 : in = 784, out = 50\n",
      "fc2 : in = 50, out = 50\n",
      "fc3 : in = 50, out = 10\n"
     ]
    },
    {
     "name": "stderr",
     "output_type": "stream",
     "text": [
      " 33%|███▎      | 2/6 [00:02<00:04,  1.06s/it]"
     ]
    },
    {
     "name": "stdout",
     "output_type": "stream",
     "text": [
      "In and out sizes :\n",
      "fc1 : in = 784, out = 50\n",
      "fc2 : in = 50, out = 50\n",
      "fc3 : in = 50, out = 10\n"
     ]
    },
    {
     "name": "stderr",
     "output_type": "stream",
     "text": [
      " 50%|█████     | 3/6 [00:03<00:03,  1.07s/it]"
     ]
    },
    {
     "name": "stdout",
     "output_type": "stream",
     "text": [
      "In and out sizes :\n",
      "fc1 : in = 784, out = 50\n",
      "fc2 : in = 50, out = 50\n",
      "fc3 : in = 50, out = 10\n"
     ]
    },
    {
     "name": "stderr",
     "output_type": "stream",
     "text": [
      " 67%|██████▋   | 4/6 [00:04<00:02,  1.06s/it]"
     ]
    },
    {
     "name": "stdout",
     "output_type": "stream",
     "text": [
      "In and out sizes :\n",
      "fc1 : in = 784, out = 50\n",
      "fc2 : in = 50, out = 50\n",
      "fc3 : in = 50, out = 10\n"
     ]
    },
    {
     "name": "stderr",
     "output_type": "stream",
     "text": [
      " 83%|████████▎ | 5/6 [00:05<00:01,  1.06s/it]"
     ]
    },
    {
     "name": "stdout",
     "output_type": "stream",
     "text": [
      "In and out sizes :\n",
      "fc1 : in = 784, out = 50\n",
      "fc2 : in = 50, out = 50\n",
      "fc3 : in = 50, out = 10\n"
     ]
    },
    {
     "name": "stderr",
     "output_type": "stream",
     "text": [
      "100%|██████████| 6/6 [00:06<00:00,  1.06s/it]\n"
     ]
    },
    {
     "name": "stdout",
     "output_type": "stream",
     "text": [
      "\n",
      "--------------------------------------------------\n",
      "LEARNING TASK 3\n"
     ]
    },
    {
     "name": "stderr",
     "output_type": "stream",
     "text": [
      "  0%|          | 0/4 [00:00<?, ?it/s]"
     ]
    },
    {
     "name": "stdout",
     "output_type": "stream",
     "text": [
      "In and out sizes :\n",
      "fc1 : in = 784, out = 50\n",
      "fc2 : in = 50, out = 50\n",
      "fc3 : in = 50, out = 10\n"
     ]
    },
    {
     "name": "stderr",
     "output_type": "stream",
     "text": [
      " 25%|██▌       | 1/4 [00:01<00:03,  1.06s/it]"
     ]
    },
    {
     "name": "stdout",
     "output_type": "stream",
     "text": [
      "In and out sizes :\n",
      "fc1 : in = 784, out = 50\n",
      "fc2 : in = 50, out = 50\n",
      "fc3 : in = 50, out = 10\n"
     ]
    },
    {
     "name": "stderr",
     "output_type": "stream",
     "text": [
      " 50%|█████     | 2/4 [00:02<00:02,  1.07s/it]"
     ]
    },
    {
     "name": "stdout",
     "output_type": "stream",
     "text": [
      "In and out sizes :\n",
      "fc1 : in = 784, out = 50\n",
      "fc2 : in = 50, out = 50\n",
      "fc3 : in = 50, out = 10\n"
     ]
    },
    {
     "name": "stderr",
     "output_type": "stream",
     "text": [
      " 75%|███████▌  | 3/4 [00:03<00:01,  1.07s/it]"
     ]
    },
    {
     "name": "stdout",
     "output_type": "stream",
     "text": [
      "In and out sizes :\n",
      "fc1 : in = 784, out = 50\n",
      "fc2 : in = 50, out = 50\n",
      "fc3 : in = 50, out = 10\n"
     ]
    },
    {
     "name": "stderr",
     "output_type": "stream",
     "text": [
      "100%|██████████| 4/4 [00:04<00:00,  1.07s/it]\n"
     ]
    },
    {
     "name": "stdout",
     "output_type": "stream",
     "text": [
      "\n",
      "--------------------------------------------------\n",
      "LEARNING TASK 4\n"
     ]
    },
    {
     "name": "stderr",
     "output_type": "stream",
     "text": [
      "  0%|          | 0/4 [00:00<?, ?it/s]"
     ]
    },
    {
     "name": "stdout",
     "output_type": "stream",
     "text": [
      "In and out sizes :\n",
      "fc1 : in = 784, out = 50\n",
      "fc2 : in = 50, out = 50\n",
      "fc3 : in = 50, out = 10\n"
     ]
    },
    {
     "name": "stderr",
     "output_type": "stream",
     "text": [
      " 25%|██▌       | 1/4 [00:01<00:03,  1.07s/it]"
     ]
    },
    {
     "name": "stdout",
     "output_type": "stream",
     "text": [
      "In and out sizes :\n",
      "fc1 : in = 784, out = 50\n",
      "fc2 : in = 50, out = 50\n",
      "fc3 : in = 50, out = 10\n"
     ]
    },
    {
     "name": "stderr",
     "output_type": "stream",
     "text": [
      " 50%|█████     | 2/4 [00:02<00:02,  1.07s/it]"
     ]
    },
    {
     "name": "stdout",
     "output_type": "stream",
     "text": [
      "In and out sizes :\n",
      "fc1 : in = 784, out = 50\n",
      "fc2 : in = 50, out = 50\n",
      "fc3 : in = 50, out = 10\n"
     ]
    },
    {
     "name": "stderr",
     "output_type": "stream",
     "text": [
      " 75%|███████▌  | 3/4 [00:03<00:01,  1.07s/it]"
     ]
    },
    {
     "name": "stdout",
     "output_type": "stream",
     "text": [
      "In and out sizes :\n",
      "fc1 : in = 784, out = 50\n",
      "fc2 : in = 50, out = 50\n",
      "fc3 : in = 50, out = 10\n"
     ]
    },
    {
     "name": "stderr",
     "output_type": "stream",
     "text": [
      "100%|██████████| 4/4 [00:04<00:00,  1.07s/it]\n"
     ]
    }
   ],
   "source": [
    "for i in range(num_val_benchmarks+2) :\n",
    "    benchmark_number = 0 if i <= 1 else i-1\n",
    "    print(\"\\n\" + \"=\"*50)\n",
    "    print(f\"BENCHMARK {benchmark_number}\")\n",
    "    # Train model with best params obtained through HPO on benchmark 0\n",
    "    if i != 0 :\n",
    "        test_loaders_list = test_loaders_list_list[benchmark_number]\n",
    "        benchmark_model = train_with_best_params (best_params_list, test_loaders_list)\n",
    "    else : \n",
    "        benchmark_model = copy.deepcopy(model)\n",
    "    # Test on each task\n",
    "    for j in range(num_tasks) :\n",
    "        val_accs_matrix[i,j] = round(test(benchmark_model, test_loaders_list_list[benchmark_number][j], batch_size, device),2)"
   ]
  },
  {
   "cell_type": "code",
   "execution_count": 19,
   "metadata": {
    "execution": {
     "iopub.execute_input": "2024-07-02T17:37:18.040601Z",
     "iopub.status.busy": "2024-07-02T17:37:18.040331Z",
     "iopub.status.idle": "2024-07-02T17:37:18.291711Z",
     "shell.execute_reply": "2024-07-02T17:37:18.291145Z"
    }
   },
   "outputs": [
    {
     "data": {
      "image/png": "[encoded data removed]",
      "text/plain": [
       "<Figure size 640x480 with 2 Axes>"
      ]
     },
     "metadata": {},
     "output_type": "display_data"
    }
   ],
   "source": [
    "visualize_val_accs_matrix(val_accs_matrix, HPO_name, method_name, grow_from, benchmark_name, difficulty, savefig=True)"
   ]
  },
  {
   "cell_type": "code",
   "execution_count": 20,
   "metadata": {
    "execution": {
     "iopub.execute_input": "2024-07-02T17:37:18.294242Z",
     "iopub.status.busy": "2024-07-02T17:37:18.293961Z",
     "iopub.status.idle": "2024-07-02T17:37:18.428045Z",
     "shell.execute_reply": "2024-07-02T17:37:18.427421Z"
    }
   },
   "outputs": [
    {
     "data": {
      "image/png": "[encoded data removed]",
      "text/plain": [
       "<Figure size 640x480 with 1 Axes>"
      ]
     },
     "metadata": {},
     "output_type": "display_data"
    }
   ],
   "source": [
    "visualize_accuracy_through_benchmarks(val_accs_matrix, HPO_name, num_val_benchmarks, method_name, grow_from, benchmark_name, difficulty, savefig=True)"
   ]
  },
  {
   "cell_type": "code",
   "execution_count": 21,
   "metadata": {
    "execution": {
     "iopub.execute_input": "2024-07-02T17:37:18.430277Z",
     "iopub.status.busy": "2024-07-02T17:37:18.430151Z",
     "iopub.status.idle": "2024-07-02T17:37:18.494510Z",
     "shell.execute_reply": "2024-07-02T17:37:18.493986Z"
    }
   },
   "outputs": [
    {
     "data": {
      "image/png": "[encoded data removed]",
      "text/plain": [
       "<Figure size 200x500 with 1 Axes>"
      ]
     },
     "metadata": {},
     "output_type": "display_data"
    }
   ],
   "source": [
    "visualize_violin(val_accs_matrix, HPO_name, method_name, grow_from, benchmark_name, difficulty, savefig=True)"
   ]
  },
  {
   "cell_type": "code",
   "execution_count": null,
   "metadata": {},
   "outputs": [],
   "source": []
  }
 ],
 "metadata": {
  "kernelspec": {
   "display_name": "Python 3",
   "language": "python",
   "name": "python3"
  },
  "language_info": {
   "codemirror_mode": {
    "name": "ipython",
    "version": 3
   },
   "file_extension": ".py",
   "mimetype": "text/x-python",
   "name": "python",
   "nbconvert_exporter": "python",
   "pygments_lexer": "ipython3",
   "version": "3.12.2"
  }
 },
 "nbformat": 4,
 "nbformat_minor": 2
}
