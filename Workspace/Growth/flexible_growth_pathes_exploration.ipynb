{
 "cells": [
  {
   "cell_type": "code",
   "execution_count": 1,
   "id": "3054bb26",
   "metadata": {},
   "outputs": [],
   "source": [
    "from lib.abstract_torch import get_device, get_loss, get_optimizer\n",
    "from lib.dataloader import get_MNIST_loaders\n",
    "from lib.model import ANN\n",
    "from lib.train import train\n",
    "from lib.test import test\n",
    "from lib.growth_schedules import get_handcrafted_schedule\n",
    "from lib.visualize import (visualize_pathes,\n",
    "                          visualize_statistical_reliability,\n",
    "                          visualize_box_plot)               \n",
    "\n",
    "import os\n",
    "import numpy as np"
   ]
  },
  {
   "cell_type": "code",
   "execution_count": 2,
   "id": "226532eb",
   "metadata": {},
   "outputs": [],
   "source": [
    "device = get_device()"
   ]
  },
  {
   "cell_type": "code",
   "execution_count": 3,
   "id": "2b2d52e8",
   "metadata": {},
   "outputs": [],
   "source": [
    "path = os.path.dirname(os.path.abspath(\"__file__\"))\n",
    "data_path = path + \"\\\\data\""
   ]
  },
  {
   "cell_type": "code",
   "execution_count": 4,
   "id": "23bdaf46",
   "metadata": {},
   "outputs": [],
   "source": [
    "batch_size=128"
   ]
  },
  {
   "cell_type": "markdown",
   "id": "c5017cd3",
   "metadata": {},
   "source": [
    "## Get data loaders"
   ]
  },
  {
   "cell_type": "code",
   "execution_count": 5,
   "id": "6a577a82",
   "metadata": {},
   "outputs": [],
   "source": [
    "train_loader, val_loader, test_loader = get_MNIST_loaders(data_path, range(10), batch_size)"
   ]
  },
  {
   "cell_type": "markdown",
   "id": "7f504fbc",
   "metadata": {},
   "source": [
    "## Define, train and test both root & target models"
   ]
  },
  {
   "cell_type": "code",
   "execution_count": 6,
   "id": "2569654a",
   "metadata": {},
   "outputs": [],
   "source": [
    "# Network's initial architecture\n",
    "num_inputs = 28*28\n",
    "num_hidden = 10\n",
    "num_outputs = 10\n",
    "\n",
    "# Network's final architecture\n",
    "num_hidden_target = 100\n",
    "\n",
    "# Loss & optimizer\n",
    "loss_name = \"MSE\" # \"CE\"\n",
    "loss = get_loss(loss_name)\n",
    "optimizer_name = \"Adam\"\n",
    "\n",
    "# Hyperparameters\n",
    "num_epochs = 3\n",
    "growth_schedule = None\n",
    "\n",
    "# Experiment parameters\n",
    "num_repetitions = 2"
   ]
  },
  {
   "cell_type": "markdown",
   "id": "016f67b8",
   "metadata": {},
   "source": [
    "### Root model"
   ]
  },
  {
   "cell_type": "code",
   "execution_count": 7,
   "id": "a114c4d4",
   "metadata": {
    "scrolled": true
   },
   "outputs": [
    {
     "name": "stderr",
     "output_type": "stream",
     "text": [
      "\r",
      "  0%|                                                                                            | 0/3 [00:00<?, ?it/s]"
     ]
    },
    {
     "name": "stdout",
     "output_type": "stream",
     "text": [
      "49 batches used in epoch 0\n",
      "99 batches used in epoch 0\n",
      "149 batches used in epoch 0\n",
      "199 batches used in epoch 0\n",
      "249 batches used in epoch 0\n"
     ]
    },
    {
     "name": "stderr",
     "output_type": "stream",
     "text": [
      "\r",
      " 33%|████████████████████████████                                                        | 1/3 [00:03<00:06,  3.30s/it]"
     ]
    },
    {
     "name": "stdout",
     "output_type": "stream",
     "text": [
      "299 batches used in epoch 0\n",
      "Total number of batches : 300\n",
      "49 batches used in epoch 1\n",
      "99 batches used in epoch 1\n",
      "149 batches used in epoch 1\n",
      "199 batches used in epoch 1\n",
      "249 batches used in epoch 1\n"
     ]
    },
    {
     "name": "stderr",
     "output_type": "stream",
     "text": [
      "\r",
      " 67%|████████████████████████████████████████████████████████                            | 2/3 [00:06<00:03,  3.18s/it]"
     ]
    },
    {
     "name": "stdout",
     "output_type": "stream",
     "text": [
      "299 batches used in epoch 1\n",
      "Total number of batches : 600\n",
      "49 batches used in epoch 2\n",
      "99 batches used in epoch 2\n",
      "149 batches used in epoch 2\n",
      "199 batches used in epoch 2\n",
      "249 batches used in epoch 2\n"
     ]
    },
    {
     "name": "stderr",
     "output_type": "stream",
     "text": [
      "100%|████████████████████████████████████████████████████████████████████████████████████| 3/3 [00:09<00:00,  3.23s/it]"
     ]
    },
    {
     "name": "stdout",
     "output_type": "stream",
     "text": [
      "299 batches used in epoch 2\n",
      "Total number of batches : 900\n"
     ]
    },
    {
     "name": "stderr",
     "output_type": "stream",
     "text": [
      "\n",
      "  0%|                                                                                            | 0/3 [00:00<?, ?it/s]"
     ]
    },
    {
     "name": "stdout",
     "output_type": "stream",
     "text": [
      "49 batches used in epoch 0\n",
      "99 batches used in epoch 0\n",
      "149 batches used in epoch 0\n",
      "199 batches used in epoch 0\n",
      "249 batches used in epoch 0\n"
     ]
    },
    {
     "name": "stderr",
     "output_type": "stream",
     "text": [
      "\r",
      " 33%|████████████████████████████                                                        | 1/3 [00:03<00:07,  3.68s/it]"
     ]
    },
    {
     "name": "stdout",
     "output_type": "stream",
     "text": [
      "299 batches used in epoch 0\n",
      "Total number of batches : 300\n",
      "49 batches used in epoch 1\n",
      "99 batches used in epoch 1\n",
      "149 batches used in epoch 1\n",
      "199 batches used in epoch 1\n",
      "249 batches used in epoch 1\n"
     ]
    },
    {
     "name": "stderr",
     "output_type": "stream",
     "text": [
      "\r",
      " 67%|████████████████████████████████████████████████████████                            | 2/3 [00:07<00:03,  3.54s/it]"
     ]
    },
    {
     "name": "stdout",
     "output_type": "stream",
     "text": [
      "299 batches used in epoch 1\n",
      "Total number of batches : 600\n",
      "49 batches used in epoch 2\n",
      "99 batches used in epoch 2\n",
      "149 batches used in epoch 2\n",
      "199 batches used in epoch 2\n",
      "249 batches used in epoch 2\n"
     ]
    },
    {
     "name": "stderr",
     "output_type": "stream",
     "text": [
      "100%|████████████████████████████████████████████████████████████████████████████████████| 3/3 [00:10<00:00,  3.50s/it]"
     ]
    },
    {
     "name": "stdout",
     "output_type": "stream",
     "text": [
      "299 batches used in epoch 2\n",
      "Total number of batches : 900\n"
     ]
    },
    {
     "name": "stderr",
     "output_type": "stream",
     "text": [
      "\n"
     ]
    }
   ],
   "source": [
    "test_acc_roots = []\n",
    "for i in range(num_repetitions) :\n",
    "    root_model = ANN(num_inputs, num_hidden, num_outputs).to(device)\n",
    "    optimizer = get_optimizer(optimizer_name, root_model)\n",
    "    _ = train(root_model, growth_schedule, loss, loss_name, optimizer, train_loader, val_loader, num_epochs, batch_size, device)\n",
    "    test_acc_root = test(root_model, test_loader, batch_size, device)\n",
    "    test_acc_roots.append(test_acc_root)"
   ]
  },
  {
   "cell_type": "code",
   "execution_count": 8,
   "id": "31d47b2b",
   "metadata": {},
   "outputs": [
    {
     "data": {
      "text/plain": [
       "[20.943846153846152, 41.40628205128206]"
      ]
     },
     "execution_count": 8,
     "metadata": {},
     "output_type": "execute_result"
    }
   ],
   "source": [
    "test_acc_roots"
   ]
  },
  {
   "cell_type": "markdown",
   "id": "4fd25b62",
   "metadata": {},
   "source": [
    "### Target model"
   ]
  },
  {
   "cell_type": "code",
   "execution_count": 9,
   "id": "46d2a513",
   "metadata": {
    "scrolled": true
   },
   "outputs": [
    {
     "name": "stderr",
     "output_type": "stream",
     "text": [
      "\r",
      "  0%|                                                                                            | 0/3 [00:00<?, ?it/s]"
     ]
    },
    {
     "name": "stdout",
     "output_type": "stream",
     "text": [
      "49 batches used in epoch 0\n",
      "99 batches used in epoch 0\n",
      "149 batches used in epoch 0\n",
      "199 batches used in epoch 0\n",
      "249 batches used in epoch 0\n"
     ]
    },
    {
     "name": "stderr",
     "output_type": "stream",
     "text": [
      "\r",
      " 33%|████████████████████████████                                                        | 1/3 [00:03<00:07,  3.56s/it]"
     ]
    },
    {
     "name": "stdout",
     "output_type": "stream",
     "text": [
      "299 batches used in epoch 0\n",
      "Total number of batches : 300\n",
      "49 batches used in epoch 1\n",
      "99 batches used in epoch 1\n",
      "149 batches used in epoch 1\n",
      "199 batches used in epoch 1\n",
      "249 batches used in epoch 1\n"
     ]
    },
    {
     "name": "stderr",
     "output_type": "stream",
     "text": [
      "\r",
      " 67%|████████████████████████████████████████████████████████                            | 2/3 [00:07<00:03,  3.63s/it]"
     ]
    },
    {
     "name": "stdout",
     "output_type": "stream",
     "text": [
      "299 batches used in epoch 1\n",
      "Total number of batches : 600\n",
      "49 batches used in epoch 2\n",
      "99 batches used in epoch 2\n",
      "149 batches used in epoch 2\n",
      "199 batches used in epoch 2\n",
      "249 batches used in epoch 2\n"
     ]
    },
    {
     "name": "stderr",
     "output_type": "stream",
     "text": [
      "100%|████████████████████████████████████████████████████████████████████████████████████| 3/3 [00:10<00:00,  3.61s/it]"
     ]
    },
    {
     "name": "stdout",
     "output_type": "stream",
     "text": [
      "299 batches used in epoch 2\n",
      "Total number of batches : 900\n"
     ]
    },
    {
     "name": "stderr",
     "output_type": "stream",
     "text": [
      "\n",
      "  0%|                                                                                            | 0/3 [00:00<?, ?it/s]"
     ]
    },
    {
     "name": "stdout",
     "output_type": "stream",
     "text": [
      "49 batches used in epoch 0\n",
      "99 batches used in epoch 0\n",
      "149 batches used in epoch 0\n",
      "199 batches used in epoch 0\n",
      "249 batches used in epoch 0\n"
     ]
    },
    {
     "name": "stderr",
     "output_type": "stream",
     "text": [
      "\r",
      " 33%|████████████████████████████                                                        | 1/3 [00:03<00:07,  3.81s/it]"
     ]
    },
    {
     "name": "stdout",
     "output_type": "stream",
     "text": [
      "299 batches used in epoch 0\n",
      "Total number of batches : 300\n",
      "49 batches used in epoch 1\n",
      "99 batches used in epoch 1\n",
      "149 batches used in epoch 1\n",
      "199 batches used in epoch 1\n",
      "249 batches used in epoch 1\n"
     ]
    },
    {
     "name": "stderr",
     "output_type": "stream",
     "text": [
      "\r",
      " 67%|████████████████████████████████████████████████████████                            | 2/3 [00:07<00:03,  3.72s/it]"
     ]
    },
    {
     "name": "stdout",
     "output_type": "stream",
     "text": [
      "299 batches used in epoch 1\n",
      "Total number of batches : 600\n",
      "49 batches used in epoch 2\n",
      "99 batches used in epoch 2\n",
      "149 batches used in epoch 2\n",
      "199 batches used in epoch 2\n",
      "249 batches used in epoch 2\n"
     ]
    },
    {
     "name": "stderr",
     "output_type": "stream",
     "text": [
      "100%|████████████████████████████████████████████████████████████████████████████████████| 3/3 [00:11<00:00,  3.73s/it]"
     ]
    },
    {
     "name": "stdout",
     "output_type": "stream",
     "text": [
      "299 batches used in epoch 2\n",
      "Total number of batches : 900\n"
     ]
    },
    {
     "name": "stderr",
     "output_type": "stream",
     "text": [
      "\n"
     ]
    }
   ],
   "source": [
    "test_acc_targets = []\n",
    "for i in range(num_repetitions) :\n",
    "    target_model = ANN(num_inputs, num_hidden_target, num_outputs).to(device)\n",
    "    optimizer = get_optimizer(optimizer_name, target_model)\n",
    "    _ = train(target_model, growth_schedule, loss, loss_name, optimizer, train_loader, val_loader, num_epochs, batch_size, device)\n",
    "    test_acc_target = test(target_model, test_loader, batch_size, device)\n",
    "    test_acc_targets.append(test_acc_target)"
   ]
  },
  {
   "cell_type": "code",
   "execution_count": 10,
   "id": "9edc667d",
   "metadata": {},
   "outputs": [
    {
     "data": {
      "text/plain": [
       "[94.24141025641023, 93.870641025641]"
      ]
     },
     "execution_count": 10,
     "metadata": {},
     "output_type": "execute_result"
    }
   ],
   "source": [
    "test_acc_targets"
   ]
  },
  {
   "cell_type": "markdown",
   "id": "cf6a7280",
   "metadata": {},
   "source": [
    "## Grow root model"
   ]
  },
  {
   "cell_type": "code",
   "execution_count": 11,
   "id": "92329fb1",
   "metadata": {},
   "outputs": [],
   "source": [
    "# Growth parameters\n",
    "num_neurons = 9"
   ]
  },
  {
   "cell_type": "code",
   "execution_count": 12,
   "id": "e5f0b0be",
   "metadata": {},
   "outputs": [],
   "source": [
    "growth_schedules = get_handcrafted_schedule(num_neurons)"
   ]
  },
  {
   "cell_type": "code",
   "execution_count": 13,
   "id": "8376cdf3",
   "metadata": {
    "scrolled": true
   },
   "outputs": [
    {
     "name": "stderr",
     "output_type": "stream",
     "text": [
      "\r",
      "  0%|                                                                                            | 0/3 [00:00<?, ?it/s]"
     ]
    },
    {
     "name": "stdout",
     "output_type": "stream",
     "text": [
      "49 batches used in epoch 0\n",
      "99 batches used in epoch 0\n",
      "149 batches used in epoch 0\n",
      "199 batches used in epoch 0\n",
      "249 batches used in epoch 0\n"
     ]
    },
    {
     "name": "stderr",
     "output_type": "stream",
     "text": [
      "\r",
      " 33%|████████████████████████████                                                        | 1/3 [00:03<00:07,  3.60s/it]"
     ]
    },
    {
     "name": "stdout",
     "output_type": "stream",
     "text": [
      "299 batches used in epoch 0\n",
      "Total number of batches : 300\n",
      "49 batches used in epoch 1\n",
      "99 batches used in epoch 1\n",
      "149 batches used in epoch 1\n",
      "199 batches used in epoch 1\n",
      "249 batches used in epoch 1\n"
     ]
    },
    {
     "name": "stderr",
     "output_type": "stream",
     "text": [
      "\r",
      " 67%|████████████████████████████████████████████████████████                            | 2/3 [00:07<00:03,  3.60s/it]"
     ]
    },
    {
     "name": "stdout",
     "output_type": "stream",
     "text": [
      "299 batches used in epoch 1\n",
      "Total number of batches : 600\n",
      "49 batches used in epoch 2\n",
      "99 batches used in epoch 2\n",
      "149 batches used in epoch 2\n",
      "199 batches used in epoch 2\n",
      "249 batches used in epoch 2\n"
     ]
    },
    {
     "name": "stderr",
     "output_type": "stream",
     "text": [
      "100%|████████████████████████████████████████████████████████████████████████████████████| 3/3 [00:10<00:00,  3.63s/it]"
     ]
    },
    {
     "name": "stdout",
     "output_type": "stream",
     "text": [
      "299 batches used in epoch 2\n",
      "Total number of batches : 900\n"
     ]
    },
    {
     "name": "stderr",
     "output_type": "stream",
     "text": [
      "\n",
      "  0%|                                                                                            | 0/3 [00:00<?, ?it/s]"
     ]
    },
    {
     "name": "stdout",
     "output_type": "stream",
     "text": [
      "49 batches used in epoch 0\n",
      "99 batches used in epoch 0\n",
      "149 batches used in epoch 0\n",
      "199 batches used in epoch 0\n",
      "249 batches used in epoch 0\n"
     ]
    },
    {
     "name": "stderr",
     "output_type": "stream",
     "text": [
      "\r",
      " 33%|████████████████████████████                                                        | 1/3 [00:03<00:06,  3.45s/it]"
     ]
    },
    {
     "name": "stdout",
     "output_type": "stream",
     "text": [
      "299 batches used in epoch 0\n",
      "Total number of batches : 300\n",
      "49 batches used in epoch 1\n",
      "99 batches used in epoch 1\n",
      "149 batches used in epoch 1\n",
      "199 batches used in epoch 1\n",
      "249 batches used in epoch 1\n"
     ]
    },
    {
     "name": "stderr",
     "output_type": "stream",
     "text": [
      "\r",
      " 67%|████████████████████████████████████████████████████████                            | 2/3 [00:06<00:03,  3.45s/it]"
     ]
    },
    {
     "name": "stdout",
     "output_type": "stream",
     "text": [
      "299 batches used in epoch 1\n",
      "Total number of batches : 600\n",
      "49 batches used in epoch 2\n",
      "99 batches used in epoch 2\n",
      "149 batches used in epoch 2\n",
      "199 batches used in epoch 2\n",
      "249 batches used in epoch 2\n"
     ]
    },
    {
     "name": "stderr",
     "output_type": "stream",
     "text": [
      "100%|████████████████████████████████████████████████████████████████████████████████████| 3/3 [00:10<00:00,  3.46s/it]"
     ]
    },
    {
     "name": "stdout",
     "output_type": "stream",
     "text": [
      "299 batches used in epoch 2\n",
      "Total number of batches : 900\n"
     ]
    },
    {
     "name": "stderr",
     "output_type": "stream",
     "text": [
      "\n",
      "  0%|                                                                                            | 0/3 [00:00<?, ?it/s]"
     ]
    },
    {
     "name": "stdout",
     "output_type": "stream",
     "text": [
      "49 batches used in epoch 0\n",
      "99 batches used in epoch 0\n",
      "149 batches used in epoch 0\n",
      "199 batches used in epoch 0\n",
      "249 batches used in epoch 0\n"
     ]
    },
    {
     "name": "stderr",
     "output_type": "stream",
     "text": [
      "\r",
      " 33%|████████████████████████████                                                        | 1/3 [00:03<00:07,  3.52s/it]"
     ]
    },
    {
     "name": "stdout",
     "output_type": "stream",
     "text": [
      "299 batches used in epoch 0\n",
      "Total number of batches : 300\n",
      "49 batches used in epoch 1\n",
      "99 batches used in epoch 1\n",
      "149 batches used in epoch 1\n",
      "199 batches used in epoch 1\n",
      "249 batches used in epoch 1\n"
     ]
    },
    {
     "name": "stderr",
     "output_type": "stream",
     "text": [
      "\r",
      " 67%|████████████████████████████████████████████████████████                            | 2/3 [00:06<00:03,  3.49s/it]"
     ]
    },
    {
     "name": "stdout",
     "output_type": "stream",
     "text": [
      "299 batches used in epoch 1\n",
      "Total number of batches : 600\n",
      "49 batches used in epoch 2\n",
      "99 batches used in epoch 2\n",
      "149 batches used in epoch 2\n",
      "199 batches used in epoch 2\n",
      "249 batches used in epoch 2\n"
     ]
    },
    {
     "name": "stderr",
     "output_type": "stream",
     "text": [
      "100%|████████████████████████████████████████████████████████████████████████████████████| 3/3 [00:10<00:00,  3.50s/it]"
     ]
    },
    {
     "name": "stdout",
     "output_type": "stream",
     "text": [
      "299 batches used in epoch 2\n",
      "Total number of batches : 900\n"
     ]
    },
    {
     "name": "stderr",
     "output_type": "stream",
     "text": [
      "\n",
      "  0%|                                                                                            | 0/3 [00:00<?, ?it/s]"
     ]
    },
    {
     "name": "stdout",
     "output_type": "stream",
     "text": [
      "49 batches used in epoch 0\n",
      "99 batches used in epoch 0\n",
      "149 batches used in epoch 0\n",
      "199 batches used in epoch 0\n",
      "249 batches used in epoch 0\n"
     ]
    },
    {
     "name": "stderr",
     "output_type": "stream",
     "text": [
      "\r",
      " 33%|████████████████████████████                                                        | 1/3 [00:03<00:06,  3.39s/it]"
     ]
    },
    {
     "name": "stdout",
     "output_type": "stream",
     "text": [
      "299 batches used in epoch 0\n",
      "Total number of batches : 300\n",
      "49 batches used in epoch 1\n",
      "99 batches used in epoch 1\n",
      "149 batches used in epoch 1\n",
      "199 batches used in epoch 1\n",
      "249 batches used in epoch 1\n"
     ]
    },
    {
     "name": "stderr",
     "output_type": "stream",
     "text": [
      "\r",
      " 67%|████████████████████████████████████████████████████████                            | 2/3 [00:06<00:03,  3.43s/it]"
     ]
    },
    {
     "name": "stdout",
     "output_type": "stream",
     "text": [
      "299 batches used in epoch 1\n",
      "Total number of batches : 600\n",
      "49 batches used in epoch 2\n",
      "99 batches used in epoch 2\n",
      "149 batches used in epoch 2\n",
      "199 batches used in epoch 2\n",
      "249 batches used in epoch 2\n"
     ]
    },
    {
     "name": "stderr",
     "output_type": "stream",
     "text": [
      "100%|████████████████████████████████████████████████████████████████████████████████████| 3/3 [00:10<00:00,  3.46s/it]"
     ]
    },
    {
     "name": "stdout",
     "output_type": "stream",
     "text": [
      "299 batches used in epoch 2\n",
      "Total number of batches : 900\n"
     ]
    },
    {
     "name": "stderr",
     "output_type": "stream",
     "text": [
      "\n",
      "  0%|                                                                                            | 0/3 [00:00<?, ?it/s]"
     ]
    },
    {
     "name": "stdout",
     "output_type": "stream",
     "text": [
      "49 batches used in epoch 0\n",
      "99 batches used in epoch 0\n",
      "149 batches used in epoch 0\n",
      "199 batches used in epoch 0\n",
      "249 batches used in epoch 0\n"
     ]
    },
    {
     "name": "stderr",
     "output_type": "stream",
     "text": [
      "\r",
      " 33%|████████████████████████████                                                        | 1/3 [00:03<00:06,  3.40s/it]"
     ]
    },
    {
     "name": "stdout",
     "output_type": "stream",
     "text": [
      "299 batches used in epoch 0\n",
      "Total number of batches : 300\n",
      "49 batches used in epoch 1\n",
      "99 batches used in epoch 1\n",
      "149 batches used in epoch 1\n",
      "199 batches used in epoch 1\n",
      "249 batches used in epoch 1\n"
     ]
    },
    {
     "name": "stderr",
     "output_type": "stream",
     "text": [
      "\r",
      " 67%|████████████████████████████████████████████████████████                            | 2/3 [00:07<00:03,  3.63s/it]"
     ]
    },
    {
     "name": "stdout",
     "output_type": "stream",
     "text": [
      "299 batches used in epoch 1\n",
      "Total number of batches : 600\n",
      "49 batches used in epoch 2\n",
      "99 batches used in epoch 2\n",
      "149 batches used in epoch 2\n",
      "199 batches used in epoch 2\n",
      "249 batches used in epoch 2\n"
     ]
    },
    {
     "name": "stderr",
     "output_type": "stream",
     "text": [
      "100%|████████████████████████████████████████████████████████████████████████████████████| 3/3 [00:11<00:00,  3.74s/it]"
     ]
    },
    {
     "name": "stdout",
     "output_type": "stream",
     "text": [
      "299 batches used in epoch 2\n",
      "Total number of batches : 900\n"
     ]
    },
    {
     "name": "stderr",
     "output_type": "stream",
     "text": [
      "\n",
      "  0%|                                                                                            | 0/3 [00:00<?, ?it/s]"
     ]
    },
    {
     "name": "stdout",
     "output_type": "stream",
     "text": [
      "49 batches used in epoch 0\n",
      "99 batches used in epoch 0\n",
      "149 batches used in epoch 0\n",
      "199 batches used in epoch 0\n",
      "249 batches used in epoch 0\n"
     ]
    },
    {
     "name": "stderr",
     "output_type": "stream",
     "text": [
      "\r",
      " 33%|████████████████████████████                                                        | 1/3 [00:03<00:07,  3.60s/it]"
     ]
    },
    {
     "name": "stdout",
     "output_type": "stream",
     "text": [
      "299 batches used in epoch 0\n",
      "Total number of batches : 300\n",
      "49 batches used in epoch 1\n",
      "99 batches used in epoch 1\n",
      "149 batches used in epoch 1\n",
      "199 batches used in epoch 1\n",
      "249 batches used in epoch 1\n"
     ]
    },
    {
     "name": "stderr",
     "output_type": "stream",
     "text": [
      "\r",
      " 67%|████████████████████████████████████████████████████████                            | 2/3 [00:07<00:03,  3.63s/it]"
     ]
    },
    {
     "name": "stdout",
     "output_type": "stream",
     "text": [
      "299 batches used in epoch 1\n",
      "Total number of batches : 600\n",
      "49 batches used in epoch 2\n",
      "99 batches used in epoch 2\n",
      "149 batches used in epoch 2\n",
      "199 batches used in epoch 2\n",
      "249 batches used in epoch 2\n"
     ]
    },
    {
     "name": "stderr",
     "output_type": "stream",
     "text": [
      "100%|████████████████████████████████████████████████████████████████████████████████████| 3/3 [00:11<00:00,  3.67s/it]"
     ]
    },
    {
     "name": "stdout",
     "output_type": "stream",
     "text": [
      "299 batches used in epoch 2\n",
      "Total number of batches : 900\n"
     ]
    },
    {
     "name": "stderr",
     "output_type": "stream",
     "text": [
      "\n",
      "  0%|                                                                                            | 0/3 [00:00<?, ?it/s]"
     ]
    },
    {
     "name": "stdout",
     "output_type": "stream",
     "text": [
      "49 batches used in epoch 0\n",
      "99 batches used in epoch 0\n",
      "149 batches used in epoch 0\n",
      "199 batches used in epoch 0\n",
      "249 batches used in epoch 0\n"
     ]
    },
    {
     "name": "stderr",
     "output_type": "stream",
     "text": [
      "\r",
      " 33%|████████████████████████████                                                        | 1/3 [00:03<00:07,  3.66s/it]"
     ]
    },
    {
     "name": "stdout",
     "output_type": "stream",
     "text": [
      "299 batches used in epoch 0\n",
      "Total number of batches : 300\n",
      "49 batches used in epoch 1\n",
      "99 batches used in epoch 1\n",
      "149 batches used in epoch 1\n",
      "199 batches used in epoch 1\n",
      "249 batches used in epoch 1\n"
     ]
    },
    {
     "name": "stderr",
     "output_type": "stream",
     "text": [
      "\r",
      " 67%|████████████████████████████████████████████████████████                            | 2/3 [00:07<00:03,  3.73s/it]"
     ]
    },
    {
     "name": "stdout",
     "output_type": "stream",
     "text": [
      "299 batches used in epoch 1\n",
      "Total number of batches : 600\n",
      "49 batches used in epoch 2\n",
      "99 batches used in epoch 2\n",
      "149 batches used in epoch 2\n",
      "199 batches used in epoch 2\n",
      "249 batches used in epoch 2\n"
     ]
    },
    {
     "name": "stderr",
     "output_type": "stream",
     "text": [
      "100%|████████████████████████████████████████████████████████████████████████████████████| 3/3 [00:11<00:00,  3.71s/it]"
     ]
    },
    {
     "name": "stdout",
     "output_type": "stream",
     "text": [
      "299 batches used in epoch 2\n",
      "Total number of batches : 900\n"
     ]
    },
    {
     "name": "stderr",
     "output_type": "stream",
     "text": [
      "\n",
      "  0%|                                                                                            | 0/3 [00:00<?, ?it/s]"
     ]
    },
    {
     "name": "stdout",
     "output_type": "stream",
     "text": [
      "49 batches used in epoch 0\n",
      "99 batches used in epoch 0\n",
      "149 batches used in epoch 0\n",
      "199 batches used in epoch 0\n",
      "249 batches used in epoch 0\n"
     ]
    },
    {
     "name": "stderr",
     "output_type": "stream",
     "text": [
      "\r",
      " 33%|████████████████████████████                                                        | 1/3 [00:03<00:07,  3.52s/it]"
     ]
    },
    {
     "name": "stdout",
     "output_type": "stream",
     "text": [
      "299 batches used in epoch 0\n",
      "Total number of batches : 300\n",
      "49 batches used in epoch 1\n",
      "99 batches used in epoch 1\n",
      "149 batches used in epoch 1\n",
      "199 batches used in epoch 1\n",
      "249 batches used in epoch 1\n"
     ]
    },
    {
     "name": "stderr",
     "output_type": "stream",
     "text": [
      "\r",
      " 67%|████████████████████████████████████████████████████████                            | 2/3 [00:07<00:03,  3.64s/it]"
     ]
    },
    {
     "name": "stdout",
     "output_type": "stream",
     "text": [
      "299 batches used in epoch 1\n",
      "Total number of batches : 600\n",
      "49 batches used in epoch 2\n",
      "99 batches used in epoch 2\n",
      "149 batches used in epoch 2\n",
      "199 batches used in epoch 2\n",
      "249 batches used in epoch 2\n"
     ]
    },
    {
     "name": "stderr",
     "output_type": "stream",
     "text": [
      "100%|████████████████████████████████████████████████████████████████████████████████████| 3/3 [00:10<00:00,  3.63s/it]"
     ]
    },
    {
     "name": "stdout",
     "output_type": "stream",
     "text": [
      "299 batches used in epoch 2\n",
      "Total number of batches : 900\n"
     ]
    },
    {
     "name": "stderr",
     "output_type": "stream",
     "text": [
      "\n",
      "  0%|                                                                                            | 0/3 [00:00<?, ?it/s]"
     ]
    },
    {
     "name": "stdout",
     "output_type": "stream",
     "text": [
      "49 batches used in epoch 0\n",
      "99 batches used in epoch 0\n",
      "149 batches used in epoch 0\n",
      "199 batches used in epoch 0\n",
      "249 batches used in epoch 0\n"
     ]
    },
    {
     "name": "stderr",
     "output_type": "stream",
     "text": [
      "\r",
      " 33%|████████████████████████████                                                        | 1/3 [00:03<00:06,  3.39s/it]"
     ]
    },
    {
     "name": "stdout",
     "output_type": "stream",
     "text": [
      "299 batches used in epoch 0\n",
      "Total number of batches : 300\n",
      "49 batches used in epoch 1\n",
      "99 batches used in epoch 1\n",
      "149 batches used in epoch 1\n",
      "199 batches used in epoch 1\n",
      "249 batches used in epoch 1\n"
     ]
    },
    {
     "name": "stderr",
     "output_type": "stream",
     "text": [
      "\r",
      " 67%|████████████████████████████████████████████████████████                            | 2/3 [00:06<00:03,  3.41s/it]"
     ]
    },
    {
     "name": "stdout",
     "output_type": "stream",
     "text": [
      "299 batches used in epoch 1\n",
      "Total number of batches : 600\n",
      "49 batches used in epoch 2\n",
      "99 batches used in epoch 2\n",
      "149 batches used in epoch 2\n",
      "199 batches used in epoch 2\n",
      "249 batches used in epoch 2\n"
     ]
    },
    {
     "name": "stderr",
     "output_type": "stream",
     "text": [
      "100%|████████████████████████████████████████████████████████████████████████████████████| 3/3 [00:10<00:00,  3.45s/it]"
     ]
    },
    {
     "name": "stdout",
     "output_type": "stream",
     "text": [
      "299 batches used in epoch 2\n",
      "Total number of batches : 900\n"
     ]
    },
    {
     "name": "stderr",
     "output_type": "stream",
     "text": [
      "\n",
      "  0%|                                                                                            | 0/3 [00:00<?, ?it/s]"
     ]
    },
    {
     "name": "stdout",
     "output_type": "stream",
     "text": [
      "49 batches used in epoch 0\n",
      "99 batches used in epoch 0\n",
      "149 batches used in epoch 0\n",
      "199 batches used in epoch 0\n",
      "249 batches used in epoch 0\n"
     ]
    },
    {
     "name": "stderr",
     "output_type": "stream",
     "text": [
      "\r",
      " 33%|████████████████████████████                                                        | 1/3 [00:03<00:07,  3.56s/it]"
     ]
    },
    {
     "name": "stdout",
     "output_type": "stream",
     "text": [
      "299 batches used in epoch 0\n",
      "Total number of batches : 300\n",
      "49 batches used in epoch 1\n",
      "99 batches used in epoch 1\n",
      "149 batches used in epoch 1\n",
      "199 batches used in epoch 1\n",
      "249 batches used in epoch 1\n"
     ]
    },
    {
     "name": "stderr",
     "output_type": "stream",
     "text": [
      "\r",
      " 67%|████████████████████████████████████████████████████████                            | 2/3 [00:07<00:03,  3.51s/it]"
     ]
    },
    {
     "name": "stdout",
     "output_type": "stream",
     "text": [
      "299 batches used in epoch 1\n",
      "Total number of batches : 600\n",
      "49 batches used in epoch 2\n",
      "99 batches used in epoch 2\n",
      "149 batches used in epoch 2\n",
      "199 batches used in epoch 2\n",
      "249 batches used in epoch 2\n"
     ]
    },
    {
     "name": "stderr",
     "output_type": "stream",
     "text": [
      "100%|████████████████████████████████████████████████████████████████████████████████████| 3/3 [00:10<00:00,  3.59s/it]"
     ]
    },
    {
     "name": "stdout",
     "output_type": "stream",
     "text": [
      "299 batches used in epoch 2\n",
      "Total number of batches : 900\n"
     ]
    },
    {
     "name": "stderr",
     "output_type": "stream",
     "text": [
      "\n",
      "  0%|                                                                                            | 0/3 [00:00<?, ?it/s]"
     ]
    },
    {
     "name": "stdout",
     "output_type": "stream",
     "text": [
      "49 batches used in epoch 0\n",
      "99 batches used in epoch 0\n",
      "149 batches used in epoch 0\n",
      "199 batches used in epoch 0\n",
      "249 batches used in epoch 0\n"
     ]
    },
    {
     "name": "stderr",
     "output_type": "stream",
     "text": [
      "\r",
      " 33%|████████████████████████████                                                        | 1/3 [00:03<00:07,  3.58s/it]"
     ]
    },
    {
     "name": "stdout",
     "output_type": "stream",
     "text": [
      "299 batches used in epoch 0\n",
      "Total number of batches : 300\n",
      "49 batches used in epoch 1\n",
      "99 batches used in epoch 1\n",
      "149 batches used in epoch 1\n",
      "199 batches used in epoch 1\n",
      "249 batches used in epoch 1\n"
     ]
    },
    {
     "name": "stderr",
     "output_type": "stream",
     "text": [
      "\r",
      " 67%|████████████████████████████████████████████████████████                            | 2/3 [00:07<00:03,  3.54s/it]"
     ]
    },
    {
     "name": "stdout",
     "output_type": "stream",
     "text": [
      "299 batches used in epoch 1\n",
      "Total number of batches : 600\n",
      "49 batches used in epoch 2\n",
      "99 batches used in epoch 2\n",
      "149 batches used in epoch 2\n",
      "199 batches used in epoch 2\n",
      "249 batches used in epoch 2\n"
     ]
    },
    {
     "name": "stderr",
     "output_type": "stream",
     "text": [
      "100%|████████████████████████████████████████████████████████████████████████████████████| 3/3 [00:10<00:00,  3.55s/it]"
     ]
    },
    {
     "name": "stdout",
     "output_type": "stream",
     "text": [
      "299 batches used in epoch 2\n",
      "Total number of batches : 900\n"
     ]
    },
    {
     "name": "stderr",
     "output_type": "stream",
     "text": [
      "\n",
      "  0%|                                                                                            | 0/3 [00:00<?, ?it/s]"
     ]
    },
    {
     "name": "stdout",
     "output_type": "stream",
     "text": [
      "49 batches used in epoch 0\n",
      "99 batches used in epoch 0\n",
      "149 batches used in epoch 0\n",
      "199 batches used in epoch 0\n",
      "249 batches used in epoch 0\n"
     ]
    },
    {
     "name": "stderr",
     "output_type": "stream",
     "text": [
      "\r",
      " 33%|████████████████████████████                                                        | 1/3 [00:03<00:06,  3.44s/it]"
     ]
    },
    {
     "name": "stdout",
     "output_type": "stream",
     "text": [
      "299 batches used in epoch 0\n",
      "Total number of batches : 300\n",
      "49 batches used in epoch 1\n",
      "99 batches used in epoch 1\n",
      "149 batches used in epoch 1\n",
      "199 batches used in epoch 1\n",
      "249 batches used in epoch 1\n"
     ]
    },
    {
     "name": "stderr",
     "output_type": "stream",
     "text": [
      "\r",
      " 67%|████████████████████████████████████████████████████████                            | 2/3 [00:06<00:03,  3.49s/it]"
     ]
    },
    {
     "name": "stdout",
     "output_type": "stream",
     "text": [
      "299 batches used in epoch 1\n",
      "Total number of batches : 600\n",
      "49 batches used in epoch 2\n",
      "99 batches used in epoch 2\n",
      "149 batches used in epoch 2\n",
      "199 batches used in epoch 2\n",
      "249 batches used in epoch 2\n"
     ]
    },
    {
     "name": "stderr",
     "output_type": "stream",
     "text": [
      "100%|████████████████████████████████████████████████████████████████████████████████████| 3/3 [00:10<00:00,  3.51s/it]"
     ]
    },
    {
     "name": "stdout",
     "output_type": "stream",
     "text": [
      "299 batches used in epoch 2\n",
      "Total number of batches : 900\n"
     ]
    },
    {
     "name": "stderr",
     "output_type": "stream",
     "text": [
      "\n",
      "  0%|                                                                                            | 0/3 [00:00<?, ?it/s]"
     ]
    },
    {
     "name": "stdout",
     "output_type": "stream",
     "text": [
      "49 batches used in epoch 0\n",
      "99 batches used in epoch 0\n",
      "149 batches used in epoch 0\n",
      "199 batches used in epoch 0\n",
      "249 batches used in epoch 0\n"
     ]
    },
    {
     "name": "stderr",
     "output_type": "stream",
     "text": [
      "\r",
      " 33%|████████████████████████████                                                        | 1/3 [00:03<00:06,  3.45s/it]"
     ]
    },
    {
     "name": "stdout",
     "output_type": "stream",
     "text": [
      "299 batches used in epoch 0\n",
      "Total number of batches : 300\n",
      "49 batches used in epoch 1\n",
      "99 batches used in epoch 1\n",
      "149 batches used in epoch 1\n",
      "199 batches used in epoch 1\n",
      "249 batches used in epoch 1\n"
     ]
    },
    {
     "name": "stderr",
     "output_type": "stream",
     "text": [
      "\r",
      " 67%|████████████████████████████████████████████████████████                            | 2/3 [00:07<00:03,  3.52s/it]"
     ]
    },
    {
     "name": "stdout",
     "output_type": "stream",
     "text": [
      "299 batches used in epoch 1\n",
      "Total number of batches : 600\n",
      "49 batches used in epoch 2\n",
      "99 batches used in epoch 2\n",
      "149 batches used in epoch 2\n",
      "199 batches used in epoch 2\n",
      "249 batches used in epoch 2\n"
     ]
    },
    {
     "name": "stderr",
     "output_type": "stream",
     "text": [
      "100%|████████████████████████████████████████████████████████████████████████████████████| 3/3 [00:10<00:00,  3.57s/it]"
     ]
    },
    {
     "name": "stdout",
     "output_type": "stream",
     "text": [
      "299 batches used in epoch 2\n",
      "Total number of batches : 900\n"
     ]
    },
    {
     "name": "stderr",
     "output_type": "stream",
     "text": [
      "\n",
      "  0%|                                                                                            | 0/3 [00:00<?, ?it/s]"
     ]
    },
    {
     "name": "stdout",
     "output_type": "stream",
     "text": [
      "49 batches used in epoch 0\n",
      "99 batches used in epoch 0\n",
      "149 batches used in epoch 0\n",
      "199 batches used in epoch 0\n",
      "249 batches used in epoch 0\n"
     ]
    },
    {
     "name": "stderr",
     "output_type": "stream",
     "text": [
      "\r",
      " 33%|████████████████████████████                                                        | 1/3 [00:03<00:07,  3.67s/it]"
     ]
    },
    {
     "name": "stdout",
     "output_type": "stream",
     "text": [
      "299 batches used in epoch 0\n",
      "Total number of batches : 300\n",
      "49 batches used in epoch 1\n",
      "99 batches used in epoch 1\n",
      "149 batches used in epoch 1\n",
      "199 batches used in epoch 1\n",
      "249 batches used in epoch 1\n"
     ]
    },
    {
     "name": "stderr",
     "output_type": "stream",
     "text": [
      "\r",
      " 67%|████████████████████████████████████████████████████████                            | 2/3 [00:07<00:03,  3.66s/it]"
     ]
    },
    {
     "name": "stdout",
     "output_type": "stream",
     "text": [
      "299 batches used in epoch 1\n",
      "Total number of batches : 600\n",
      "49 batches used in epoch 2\n",
      "99 batches used in epoch 2\n",
      "149 batches used in epoch 2\n",
      "199 batches used in epoch 2\n",
      "249 batches used in epoch 2\n"
     ]
    },
    {
     "name": "stderr",
     "output_type": "stream",
     "text": [
      "100%|████████████████████████████████████████████████████████████████████████████████████| 3/3 [00:12<00:00,  4.07s/it]"
     ]
    },
    {
     "name": "stdout",
     "output_type": "stream",
     "text": [
      "299 batches used in epoch 2\n",
      "Total number of batches : 900\n"
     ]
    },
    {
     "name": "stderr",
     "output_type": "stream",
     "text": [
      "\n",
      "  0%|                                                                                            | 0/3 [00:00<?, ?it/s]"
     ]
    },
    {
     "name": "stdout",
     "output_type": "stream",
     "text": [
      "49 batches used in epoch 0\n",
      "99 batches used in epoch 0\n",
      "149 batches used in epoch 0\n",
      "199 batches used in epoch 0\n",
      "249 batches used in epoch 0\n"
     ]
    },
    {
     "name": "stderr",
     "output_type": "stream",
     "text": [
      "\r",
      " 33%|████████████████████████████                                                        | 1/3 [00:03<00:07,  3.93s/it]"
     ]
    },
    {
     "name": "stdout",
     "output_type": "stream",
     "text": [
      "299 batches used in epoch 0\n",
      "Total number of batches : 300\n",
      "49 batches used in epoch 1\n",
      "99 batches used in epoch 1\n",
      "149 batches used in epoch 1\n",
      "199 batches used in epoch 1\n",
      "249 batches used in epoch 1\n"
     ]
    },
    {
     "name": "stderr",
     "output_type": "stream",
     "text": [
      "\r",
      " 67%|████████████████████████████████████████████████████████                            | 2/3 [00:08<00:04,  4.08s/it]"
     ]
    },
    {
     "name": "stdout",
     "output_type": "stream",
     "text": [
      "299 batches used in epoch 1\n",
      "Total number of batches : 600\n",
      "49 batches used in epoch 2\n",
      "99 batches used in epoch 2\n",
      "149 batches used in epoch 2\n",
      "199 batches used in epoch 2\n",
      "249 batches used in epoch 2\n"
     ]
    },
    {
     "name": "stderr",
     "output_type": "stream",
     "text": [
      "100%|████████████████████████████████████████████████████████████████████████████████████| 3/3 [00:12<00:00,  4.19s/it]"
     ]
    },
    {
     "name": "stdout",
     "output_type": "stream",
     "text": [
      "299 batches used in epoch 2\n",
      "Total number of batches : 900\n"
     ]
    },
    {
     "name": "stderr",
     "output_type": "stream",
     "text": [
      "\n",
      "  0%|                                                                                            | 0/3 [00:00<?, ?it/s]"
     ]
    },
    {
     "name": "stdout",
     "output_type": "stream",
     "text": [
      "49 batches used in epoch 0\n",
      "99 batches used in epoch 0\n",
      "149 batches used in epoch 0\n",
      "199 batches used in epoch 0\n",
      "249 batches used in epoch 0\n"
     ]
    },
    {
     "name": "stderr",
     "output_type": "stream",
     "text": [
      "\r",
      " 33%|████████████████████████████                                                        | 1/3 [00:04<00:08,  4.01s/it]"
     ]
    },
    {
     "name": "stdout",
     "output_type": "stream",
     "text": [
      "299 batches used in epoch 0\n",
      "Total number of batches : 300\n",
      "49 batches used in epoch 1\n",
      "99 batches used in epoch 1\n",
      "149 batches used in epoch 1\n",
      "199 batches used in epoch 1\n",
      "249 batches used in epoch 1\n"
     ]
    },
    {
     "name": "stderr",
     "output_type": "stream",
     "text": [
      "\r",
      " 67%|████████████████████████████████████████████████████████                            | 2/3 [00:07<00:03,  3.95s/it]"
     ]
    },
    {
     "name": "stdout",
     "output_type": "stream",
     "text": [
      "299 batches used in epoch 1\n",
      "Total number of batches : 600\n",
      "49 batches used in epoch 2\n",
      "99 batches used in epoch 2\n",
      "149 batches used in epoch 2\n",
      "199 batches used in epoch 2\n",
      "249 batches used in epoch 2\n"
     ]
    },
    {
     "name": "stderr",
     "output_type": "stream",
     "text": [
      "100%|████████████████████████████████████████████████████████████████████████████████████| 3/3 [00:12<00:00,  4.14s/it]"
     ]
    },
    {
     "name": "stdout",
     "output_type": "stream",
     "text": [
      "299 batches used in epoch 2\n",
      "Total number of batches : 900\n"
     ]
    },
    {
     "name": "stderr",
     "output_type": "stream",
     "text": [
      "\n"
     ]
    }
   ],
   "source": [
    "test_accs_repeted = []\n",
    "for i in range(num_repetitions) :\n",
    "    test_accs = []\n",
    "    for growth_schedule in growth_schedules :\n",
    "        root_model = ANN(num_inputs, num_hidden, num_outputs).to(device)\n",
    "        optimizer = get_optimizer(optimizer_name, root_model)\n",
    "        _ = train(root_model, growth_schedule, loss, loss_name, optimizer, train_loader, val_loader, num_epochs, batch_size, device, print_num_params=False)\n",
    "        test_acc = test(root_model, test_loader, batch_size, device)\n",
    "        test_accs.append(test_acc)\n",
    "    test_accs_repeted.append(test_accs)"
   ]
  },
  {
   "cell_type": "code",
   "execution_count": 14,
   "id": "662f0e4f",
   "metadata": {},
   "outputs": [],
   "source": [
    "test_accs_repeted = np.array(test_accs_repeted)\n",
    "test_accs = np.mean(test_accs_repeted, 0)"
   ]
  },
  {
   "cell_type": "markdown",
   "id": "af62d8aa",
   "metadata": {},
   "source": [
    "## Visualize results"
   ]
  },
  {
   "cell_type": "code",
   "execution_count": 15,
   "id": "2753fb8f",
   "metadata": {},
   "outputs": [
    {
     "data": {
      "image/png": "[encoded data removed]",
      "text/plain": [
       "<Figure size 500x500 with 2 Axes>"
      ]
     },
     "metadata": {},
     "output_type": "display_data"
    }
   ],
   "source": [
    "visualize_pathes(num_hidden, num_hidden_target, growth_schedules, test_accs)"
   ]
  },
  {
   "cell_type": "code",
   "execution_count": 16,
   "id": "47f64916",
   "metadata": {},
   "outputs": [
    {
     "data": {
      "image/png": "[encoded data removed]",
      "text/plain": [
       "<Figure size 1500x500 with 3 Axes>"
      ]
     },
     "metadata": {},
     "output_type": "display_data"
    }
   ],
   "source": [
    "visualize_statistical_reliability (test_accs_repeted, test_accs, test_acc_roots, test_acc_targets,\n",
    "                                   free_lim=True)"
   ]
  },
  {
   "cell_type": "code",
   "execution_count": 17,
   "id": "e0d24dbc",
   "metadata": {},
   "outputs": [
    {
     "data": {
      "image/png": "[encoded data removed]",
      "text/plain": [
       "<Figure size 300x500 with 2 Axes>"
      ]
     },
     "metadata": {},
     "output_type": "display_data"
    }
   ],
   "source": [
    "visualize_box_plot(test_accs, test_acc_root, test_acc_target)"
   ]
  },
  {
   "cell_type": "code",
   "execution_count": null,
   "id": "9df9b0c8",
   "metadata": {},
   "outputs": [],
   "source": []
  }
 ],
 "metadata": {
  "kernelspec": {
   "display_name": "Python 3 (ipykernel)",
   "language": "python",
   "name": "python3"
  },
  "language_info": {
   "codemirror_mode": {
    "name": "ipython",
    "version": 3
   },
   "file_extension": ".py",
   "mimetype": "text/x-python",
   "name": "python",
   "nbconvert_exporter": "python",
   "pygments_lexer": "ipython3",
   "version": "3.10.7"
  }
 },
 "nbformat": 4,
 "nbformat_minor": 5
}
