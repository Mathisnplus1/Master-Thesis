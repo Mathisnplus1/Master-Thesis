{
 "cells": [
  {
   "cell_type": "code",
   "execution_count": 1,
   "metadata": {},
   "outputs": [],
   "source": [
    "# Comment the following cell if running through the command :\n",
    "# papermill runnable_HPO.ipynb executed_HPO.ipynb -f params_for_HPO.yaml --kernel jupyter.jax_env"
   ]
  },
  {
   "cell_type": "code",
   "execution_count": 2,
   "metadata": {},
   "outputs": [],
   "source": [
    "global_seed = 88\n",
    "save_results = False\n",
    "# Parameters specfific to the benchmark\n",
    "benchmark_settings = {\"benchmark_name\" : \"pMNIST_via_torch\",\n",
    "                      \"difficulty\" : \"standard\",\n",
    "                      \"num_tasks\" : 10,\n",
    "                      \"train_percentage\" : 0.8,\n",
    "                      \"num_val_benchmarks\" : 1,\n",
    "                      \"batch_size\" : 128}\n",
    "\n",
    "# Parameters specific to the method\n",
    "method_settings = {\"method_name\" : \"GroHess\",\n",
    "                   \"grow_from\" : \"output\",\n",
    "                   #\"hessian_percentile\" : 95,\n",
    "                   #\"grad_percentile\" : 95,\n",
    "                   \"num_inputs\" : 28*28,\n",
    "                   \"num_hidden_root\" : 300,\n",
    "                   \"num_outputs\" : 10,\n",
    "                   \"loss_name\" : \"CE\",\n",
    "                   \"optimizer_name\" : \"Adam\"}\n",
    "\n",
    "# Parameters specific to HPO\n",
    "HPO_settings = {\"HPO_name\" : \"greedy_HPO\",\n",
    "                \"n_trials\" : 1,\n",
    "                \"lr\" : (5e-5, 2e-3),\n",
    "                \"num_epochs\" : (9,9),\n",
    "                \"tau\" : (0.999, 0.9991),\n",
    "                #\"ewc_lambda\" : (200,200)\n",
    "                #\"lwf_alpha\" : (0.1, 0.9),\n",
    "                #\"lwf_temperature\" : (1, 3),\n",
    "                }"
   ]
  },
  {
   "cell_type": "code",
   "execution_count": 3,
   "metadata": {},
   "outputs": [
    {
     "data": {
      "text/plain": [
       "2"
      ]
     },
     "execution_count": 3,
     "metadata": {},
     "output_type": "execute_result"
    }
   ],
   "source": [
    "import pickle\n",
    "with open(\"logs/task_number.pkl\", \"rb\") as f:\n",
    "    test_accs_matrix = pickle.load(f)\n",
    "test_accs_matrix"
   ]
  },
  {
   "cell_type": "code",
   "execution_count": 4,
   "metadata": {},
   "outputs": [],
   "source": [
    "# Parameters specific to the visualization\n",
    "visualization_settings = {\"savefig\" : False,\n",
    "                          \"visualize_accs_matrix\" : True,\n",
    "                          \"visualize_avg_acc_curve\" : True,\n",
    "                          \"visualize_best_params\" : True,\n",
    "                          \"visualize_val_accs_matrix\" : True,\n",
    "                          \"visualize_accuracy_through_benchmarks\" : True}"
   ]
  },
  {
   "cell_type": "code",
   "execution_count": 5,
   "metadata": {},
   "outputs": [],
   "source": [
    "import sys\n",
    "import os\n",
    "import numpy as np\n",
    "import warnings\n",
    "warnings.filterwarnings('ignore')\n",
    "\n",
    "sys.path.append(\"Methods/\" + method_settings[\"method_name\"])\n",
    "sys.path.append(\"HPO_lib\")\n",
    "sys.path.append(\"HPO_lib/benchmark_loaders\")\n",
    "\n",
    "\n",
    "path = os.path.dirname(os.path.abspath(\"__file__\"))\n",
    "data_path = path + \"/data\""
   ]
  },
  {
   "cell_type": "markdown",
   "metadata": {},
   "source": [
    "## Imports"
   ]
  },
  {
   "cell_type": "code",
   "execution_count": 6,
   "metadata": {},
   "outputs": [],
   "source": [
    "from HPO_lib.abstract_torch import get_device\n",
    "from HPO_lib.get_benchmarks import get_benchmarks\n",
    "from HPO_lib.run_HPO import run_HPO\n",
    "from HPO_lib.validation import validate\n",
    "from HPO_lib.visualize import visualize_HPO, visualize_validation\n",
    "from HPO_lib.save_and_load_results import save"
   ]
  },
  {
   "cell_type": "code",
   "execution_count": 7,
   "metadata": {},
   "outputs": [],
   "source": [
    "device = get_device(2)"
   ]
  },
  {
   "cell_type": "markdown",
   "metadata": {},
   "source": [
    "## Get benchmarks"
   ]
  },
  {
   "cell_type": "code",
   "execution_count": 8,
   "metadata": {},
   "outputs": [],
   "source": [
    "benchmarks_list = get_benchmarks(benchmark_settings, global_seed)"
   ]
  },
  {
   "cell_type": "markdown",
   "metadata": {},
   "source": [
    "## Run HPO"
   ]
  },
  {
   "cell_type": "code",
   "execution_count": 9,
   "metadata": {},
   "outputs": [
    {
     "name": "stderr",
     "output_type": "stream",
     "text": [
      "[I 2024-08-09 10:30:37,278] A new study created in memory with name: Search number 1\n"
     ]
    },
    {
     "name": "stdout",
     "output_type": "stream",
     "text": [
      "\n",
      "--------------------------------------------------\n",
      "LEARNING TASK 1\n"
     ]
    },
    {
     "name": "stderr",
     "output_type": "stream",
     "text": [
      "  0%|          | 0/9 [00:00<?, ?it/s]"
     ]
    },
    {
     "name": "stderr",
     "output_type": "stream",
     "text": [
      "100%|██████████| 9/9 [00:57<00:00,  6.39s/it]\n",
      "[I 2024-08-09 10:31:44,308] Trial 0 finished with value: 97.3722580645161 and parameters: {'lr': 0.0013127245462383958, 'num_epochs': 9, 'tau': 0.9990507149688213}. Best is trial 0 with value: 97.3722580645161.\n",
      "  0%|          | 0/9 [00:00<?, ?it/s]"
     ]
    },
    {
     "name": "stdout",
     "output_type": "stream",
     "text": [
      "In and out sizes :\n",
      "fc1 : in = 784, out = 300\n",
      "fc2 : in = 300, out = 300\n",
      "fc3 : in = 300, out = 10\n",
      "Non frozen params in layer 1 : tensor(90000., device='cuda:2')\n",
      "Non frozen params in layer 2 : tensor(3000., device='cuda:2')\n"
     ]
    },
    {
     "name": "stderr",
     "output_type": "stream",
     "text": [
      " 11%|█         | 1/9 [00:06<00:50,  6.35s/it]"
     ]
    },
    {
     "name": "stdout",
     "output_type": "stream",
     "text": [
      "In and out sizes :\n",
      "fc1 : in = 784, out = 300\n",
      "fc2 : in = 300, out = 300\n",
      "fc3 : in = 300, out = 10\n",
      "Non frozen params in layer 1 : tensor(90000., device='cuda:2')\n",
      "Non frozen params in layer 2 : tensor(3000., device='cuda:2')\n"
     ]
    },
    {
     "name": "stderr",
     "output_type": "stream",
     "text": [
      " 22%|██▏       | 2/9 [00:12<00:44,  6.32s/it]"
     ]
    },
    {
     "name": "stdout",
     "output_type": "stream",
     "text": [
      "In and out sizes :\n",
      "fc1 : in = 784, out = 300\n",
      "fc2 : in = 300, out = 300\n",
      "fc3 : in = 300, out = 10\n",
      "Non frozen params in layer 1 : tensor(90000., device='cuda:2')\n",
      "Non frozen params in layer 2 : tensor(3000., device='cuda:2')\n"
     ]
    },
    {
     "name": "stderr",
     "output_type": "stream",
     "text": [
      " 33%|███▎      | 3/9 [00:18<00:37,  6.31s/it]"
     ]
    },
    {
     "name": "stdout",
     "output_type": "stream",
     "text": [
      "In and out sizes :\n",
      "fc1 : in = 784, out = 300\n",
      "fc2 : in = 300, out = 300\n",
      "fc3 : in = 300, out = 10\n",
      "Non frozen params in layer 1 : tensor(90000., device='cuda:2')\n",
      "Non frozen params in layer 2 : tensor(3000., device='cuda:2')\n"
     ]
    },
    {
     "name": "stderr",
     "output_type": "stream",
     "text": [
      " 44%|████▍     | 4/9 [00:25<00:31,  6.31s/it]"
     ]
    },
    {
     "name": "stdout",
     "output_type": "stream",
     "text": [
      "In and out sizes :\n",
      "fc1 : in = 784, out = 300\n",
      "fc2 : in = 300, out = 300\n",
      "fc3 : in = 300, out = 10\n",
      "Non frozen params in layer 1 : tensor(90000., device='cuda:2')\n",
      "Non frozen params in layer 2 : tensor(3000., device='cuda:2')\n"
     ]
    },
    {
     "name": "stderr",
     "output_type": "stream",
     "text": [
      " 56%|█████▌    | 5/9 [00:31<00:25,  6.30s/it]"
     ]
    },
    {
     "name": "stdout",
     "output_type": "stream",
     "text": [
      "In and out sizes :\n",
      "fc1 : in = 784, out = 300\n",
      "fc2 : in = 300, out = 300\n",
      "fc3 : in = 300, out = 10\n",
      "Non frozen params in layer 1 : tensor(90000., device='cuda:2')\n",
      "Non frozen params in layer 2 : tensor(3000., device='cuda:2')\n"
     ]
    },
    {
     "name": "stderr",
     "output_type": "stream",
     "text": [
      " 67%|██████▋   | 6/9 [00:37<00:18,  6.30s/it]"
     ]
    },
    {
     "name": "stdout",
     "output_type": "stream",
     "text": [
      "In and out sizes :\n",
      "fc1 : in = 784, out = 300\n",
      "fc2 : in = 300, out = 300\n",
      "fc3 : in = 300, out = 10\n",
      "Non frozen params in layer 1 : tensor(90000., device='cuda:2')\n",
      "Non frozen params in layer 2 : tensor(3000., device='cuda:2')\n"
     ]
    },
    {
     "name": "stderr",
     "output_type": "stream",
     "text": [
      " 78%|███████▊  | 7/9 [00:44<00:12,  6.31s/it]"
     ]
    },
    {
     "name": "stdout",
     "output_type": "stream",
     "text": [
      "In and out sizes :\n",
      "fc1 : in = 784, out = 300\n",
      "fc2 : in = 300, out = 300\n",
      "fc3 : in = 300, out = 10\n",
      "Non frozen params in layer 1 : tensor(90000., device='cuda:2')\n",
      "Non frozen params in layer 2 : tensor(3000., device='cuda:2')\n"
     ]
    },
    {
     "name": "stderr",
     "output_type": "stream",
     "text": [
      " 89%|████████▉ | 8/9 [00:50<00:06,  6.33s/it]"
     ]
    },
    {
     "name": "stdout",
     "output_type": "stream",
     "text": [
      "In and out sizes :\n",
      "fc1 : in = 784, out = 300\n",
      "fc2 : in = 300, out = 300\n",
      "fc3 : in = 300, out = 10\n",
      "Non frozen params in layer 1 : tensor(90000., device='cuda:2')\n",
      "Non frozen params in layer 2 : tensor(3000., device='cuda:2')\n"
     ]
    },
    {
     "name": "stderr",
     "output_type": "stream",
     "text": [
      "100%|██████████| 9/9 [00:56<00:00,  6.32s/it]\n",
      "[I 2024-08-09 10:33:00,004] A new study created in memory with name: Search number 2\n"
     ]
    },
    {
     "name": "stdout",
     "output_type": "stream",
     "text": [
      "\n",
      "--------------------------------------------------\n",
      "LEARNING TASK 2\n"
     ]
    },
    {
     "name": "stderr",
     "output_type": "stream",
     "text": [
      "100%|██████████| 9/9 [00:56<00:00,  6.30s/it]\n",
      "[I 2024-08-09 10:34:06,574] Trial 0 finished with value: 90.10526881720429 and parameters: {'lr': 0.0013127245462383958, 'num_epochs': 9, 'tau': 0.9990507149688213}. Best is trial 0 with value: 90.10526881720429.\n",
      "  0%|          | 0/9 [00:00<?, ?it/s]"
     ]
    },
    {
     "name": "stdout",
     "output_type": "stream",
     "text": [
      "In and out sizes :\n",
      "fc1 : in = 784, out = 300\n",
      "fc2 : in = 300, out = 300\n",
      "fc3 : in = 300, out = 10\n",
      "Non frozen params in layer 1 : tensor(90000., device='cuda:2')\n",
      "Non frozen params in layer 2 : tensor(3000., device='cuda:2')\n"
     ]
    },
    {
     "name": "stderr",
     "output_type": "stream",
     "text": [
      " 11%|█         | 1/9 [00:06<00:50,  6.29s/it]"
     ]
    },
    {
     "name": "stdout",
     "output_type": "stream",
     "text": [
      "In and out sizes :\n",
      "fc1 : in = 784, out = 302\n",
      "fc2 : in = 302, out = 303\n",
      "fc3 : in = 303, out = 10\n",
      "Non frozen params in layer 1 : tensor(91503., device='cuda:2')\n",
      "Non frozen params in layer 2 : tensor(3027., device='cuda:2')\n"
     ]
    },
    {
     "name": "stderr",
     "output_type": "stream",
     "text": [
      " 22%|██▏       | 2/9 [00:12<00:44,  6.30s/it]"
     ]
    },
    {
     "name": "stdout",
     "output_type": "stream",
     "text": [
      "In and out sizes :\n",
      "fc1 : in = 784, out = 302\n",
      "fc2 : in = 302, out = 303\n",
      "fc3 : in = 303, out = 10\n",
      "Non frozen params in layer 1 : tensor(91503., device='cuda:2')\n",
      "Non frozen params in layer 2 : tensor(3027., device='cuda:2')\n"
     ]
    },
    {
     "name": "stderr",
     "output_type": "stream",
     "text": [
      " 33%|███▎      | 3/9 [00:18<00:37,  6.31s/it]"
     ]
    },
    {
     "name": "stdout",
     "output_type": "stream",
     "text": [
      "In and out sizes :\n",
      "fc1 : in = 784, out = 305\n",
      "fc2 : in = 305, out = 303\n",
      "fc3 : in = 303, out = 10\n",
      "Non frozen params in layer 1 : tensor(92409., device='cuda:2')\n",
      "Non frozen params in layer 2 : tensor(3027., device='cuda:2')\n"
     ]
    },
    {
     "name": "stderr",
     "output_type": "stream",
     "text": [
      " 44%|████▍     | 4/9 [00:25<00:31,  6.30s/it]"
     ]
    },
    {
     "name": "stdout",
     "output_type": "stream",
     "text": [
      "In and out sizes :\n",
      "fc1 : in = 784, out = 308\n",
      "fc2 : in = 308, out = 306\n",
      "fc3 : in = 306, out = 10\n",
      "Non frozen params in layer 1 : tensor(94239., device='cuda:2')\n",
      "Non frozen params in layer 2 : tensor(3054., device='cuda:2')\n"
     ]
    },
    {
     "name": "stderr",
     "output_type": "stream",
     "text": [
      " 56%|█████▌    | 5/9 [00:31<00:25,  6.27s/it]"
     ]
    },
    {
     "name": "stdout",
     "output_type": "stream",
     "text": [
      "In and out sizes :\n",
      "fc1 : in = 784, out = 308\n",
      "fc2 : in = 308, out = 309\n",
      "fc3 : in = 309, out = 10\n",
      "Non frozen params in layer 1 : tensor(95163., device='cuda:2')\n",
      "Non frozen params in layer 2 : tensor(3081., device='cuda:2')\n"
     ]
    },
    {
     "name": "stderr",
     "output_type": "stream",
     "text": [
      " 67%|██████▋   | 6/9 [00:37<00:18,  6.23s/it]"
     ]
    },
    {
     "name": "stdout",
     "output_type": "stream",
     "text": [
      "In and out sizes :\n",
      "fc1 : in = 784, out = 308\n",
      "fc2 : in = 308, out = 309\n",
      "fc3 : in = 309, out = 10\n",
      "Non frozen params in layer 1 : tensor(95163., device='cuda:2')\n",
      "Non frozen params in layer 2 : tensor(3081., device='cuda:2')\n"
     ]
    },
    {
     "name": "stderr",
     "output_type": "stream",
     "text": [
      " 78%|███████▊  | 7/9 [00:43<00:12,  6.19s/it]"
     ]
    },
    {
     "name": "stdout",
     "output_type": "stream",
     "text": [
      "In and out sizes :\n",
      "fc1 : in = 784, out = 311\n",
      "fc2 : in = 311, out = 309\n",
      "fc3 : in = 309, out = 10\n",
      "Non frozen params in layer 1 : tensor(96087., device='cuda:2')\n",
      "Non frozen params in layer 2 : tensor(3081., device='cuda:2')\n"
     ]
    },
    {
     "name": "stderr",
     "output_type": "stream",
     "text": [
      " 89%|████████▉ | 8/9 [00:49<00:06,  6.16s/it]"
     ]
    },
    {
     "name": "stdout",
     "output_type": "stream",
     "text": [
      "In and out sizes :\n",
      "fc1 : in = 784, out = 311\n",
      "fc2 : in = 311, out = 309\n",
      "fc3 : in = 309, out = 10\n",
      "Non frozen params in layer 1 : tensor(96087., device='cuda:2')\n",
      "Non frozen params in layer 2 : tensor(3081., device='cuda:2')\n"
     ]
    },
    {
     "name": "stderr",
     "output_type": "stream",
     "text": [
      "100%|██████████| 9/9 [00:56<00:00,  6.22s/it]\n",
      "[I 2024-08-09 10:35:21,206] A new study created in memory with name: Search number 3\n"
     ]
    },
    {
     "name": "stdout",
     "output_type": "stream",
     "text": [
      "\n",
      "--------------------------------------------------\n",
      "LEARNING TASK 3\n"
     ]
    },
    {
     "name": "stderr",
     "output_type": "stream",
     "text": [
      "100%|██████████| 9/9 [00:56<00:00,  6.25s/it]\n",
      "[I 2024-08-09 10:36:29,257] Trial 0 finished with value: 82.0370250896057 and parameters: {'lr': 0.0013127245462383958, 'num_epochs': 9, 'tau': 0.9990507149688213}. Best is trial 0 with value: 82.0370250896057.\n",
      "  0%|          | 0/9 [00:00<?, ?it/s]"
     ]
    },
    {
     "name": "stdout",
     "output_type": "stream",
     "text": [
      "In and out sizes :\n",
      "fc1 : in = 784, out = 314\n",
      "fc2 : in = 314, out = 312\n",
      "fc3 : in = 312, out = 10\n",
      "Non frozen params in layer 1 : tensor(97953., device='cuda:2')\n",
      "Non frozen params in layer 2 : tensor(3108., device='cuda:2')\n"
     ]
    },
    {
     "name": "stderr",
     "output_type": "stream",
     "text": [
      " 11%|█         | 1/9 [00:06<00:49,  6.25s/it]"
     ]
    },
    {
     "name": "stdout",
     "output_type": "stream",
     "text": [
      "In and out sizes :\n",
      "fc1 : in = 784, out = 314\n",
      "fc2 : in = 314, out = 312\n",
      "fc3 : in = 312, out = 10\n",
      "Non frozen params in layer 1 : tensor(97953., device='cuda:2')\n",
      "Non frozen params in layer 2 : tensor(3108., device='cuda:2')\n"
     ]
    },
    {
     "name": "stderr",
     "output_type": "stream",
     "text": [
      " 22%|██▏       | 2/9 [00:12<00:43,  6.23s/it]"
     ]
    },
    {
     "name": "stdout",
     "output_type": "stream",
     "text": [
      "In and out sizes :\n",
      "fc1 : in = 784, out = 314\n",
      "fc2 : in = 314, out = 312\n",
      "fc3 : in = 312, out = 10\n",
      "Non frozen params in layer 1 : tensor(97953., device='cuda:2')\n",
      "Non frozen params in layer 2 : tensor(3108., device='cuda:2')\n"
     ]
    },
    {
     "name": "stderr",
     "output_type": "stream",
     "text": [
      " 33%|███▎      | 3/9 [00:18<00:37,  6.24s/it]"
     ]
    },
    {
     "name": "stdout",
     "output_type": "stream",
     "text": [
      "In and out sizes :\n",
      "fc1 : in = 784, out = 314\n",
      "fc2 : in = 314, out = 312\n",
      "fc3 : in = 312, out = 10\n",
      "Non frozen params in layer 1 : tensor(97953., device='cuda:2')\n",
      "Non frozen params in layer 2 : tensor(3108., device='cuda:2')\n"
     ]
    },
    {
     "name": "stderr",
     "output_type": "stream",
     "text": [
      " 44%|████▍     | 4/9 [00:24<00:31,  6.23s/it]"
     ]
    },
    {
     "name": "stdout",
     "output_type": "stream",
     "text": [
      "In and out sizes :\n",
      "fc1 : in = 784, out = 314\n",
      "fc2 : in = 314, out = 312\n",
      "fc3 : in = 312, out = 10\n",
      "Non frozen params in layer 1 : tensor(97953., device='cuda:2')\n",
      "Non frozen params in layer 2 : tensor(3108., device='cuda:2')\n"
     ]
    },
    {
     "name": "stderr",
     "output_type": "stream",
     "text": [
      " 56%|█████▌    | 5/9 [00:31<00:24,  6.25s/it]"
     ]
    },
    {
     "name": "stdout",
     "output_type": "stream",
     "text": [
      "In and out sizes :\n",
      "fc1 : in = 784, out = 317\n",
      "fc2 : in = 317, out = 315\n",
      "fc3 : in = 315, out = 10\n",
      "Non frozen params in layer 1 : tensor(99837., device='cuda:2')\n",
      "Non frozen params in layer 2 : tensor(3135., device='cuda:2')\n"
     ]
    },
    {
     "name": "stderr",
     "output_type": "stream",
     "text": [
      " 67%|██████▋   | 6/9 [00:37<00:18,  6.27s/it]"
     ]
    },
    {
     "name": "stdout",
     "output_type": "stream",
     "text": [
      "In and out sizes :\n",
      "fc1 : in = 784, out = 319\n",
      "fc2 : in = 319, out = 315\n",
      "fc3 : in = 315, out = 10\n",
      "Non frozen params in layer 1 : tensor(100464., device='cuda:2')\n",
      "Non frozen params in layer 2 : tensor(3135., device='cuda:2')\n"
     ]
    },
    {
     "name": "stderr",
     "output_type": "stream",
     "text": [
      " 78%|███████▊  | 7/9 [00:43<00:12,  6.27s/it]"
     ]
    },
    {
     "name": "stdout",
     "output_type": "stream",
     "text": [
      "In and out sizes :\n",
      "fc1 : in = 784, out = 322\n",
      "fc2 : in = 322, out = 318\n",
      "fc3 : in = 318, out = 10\n",
      "Non frozen params in layer 1 : tensor(102372., device='cuda:2')\n",
      "Non frozen params in layer 2 : tensor(3162., device='cuda:2')\n"
     ]
    },
    {
     "name": "stderr",
     "output_type": "stream",
     "text": [
      " 89%|████████▉ | 8/9 [00:50<00:06,  6.29s/it]"
     ]
    },
    {
     "name": "stdout",
     "output_type": "stream",
     "text": [
      "In and out sizes :\n",
      "fc1 : in = 784, out = 322\n",
      "fc2 : in = 322, out = 318\n",
      "fc3 : in = 318, out = 10\n",
      "Non frozen params in layer 1 : tensor(102372., device='cuda:2')\n",
      "Non frozen params in layer 2 : tensor(3162., device='cuda:2')\n"
     ]
    },
    {
     "name": "stderr",
     "output_type": "stream",
     "text": [
      "100%|██████████| 9/9 [00:56<00:00,  6.27s/it]\n",
      "[I 2024-08-09 10:37:44,230] A new study created in memory with name: Search number 4\n"
     ]
    },
    {
     "name": "stdout",
     "output_type": "stream",
     "text": [
      "\n",
      "--------------------------------------------------\n",
      "LEARNING TASK 4\n"
     ]
    },
    {
     "name": "stderr",
     "output_type": "stream",
     "text": [
      "100%|██████████| 9/9 [00:55<00:00,  6.13s/it]\n",
      "[I 2024-08-09 10:38:52,173] Trial 0 finished with value: 76.34018817204301 and parameters: {'lr': 0.0013127245462383958, 'num_epochs': 9, 'tau': 0.9990507149688213}. Best is trial 0 with value: 76.34018817204301.\n",
      "  0%|          | 0/9 [00:00<?, ?it/s]"
     ]
    },
    {
     "name": "stdout",
     "output_type": "stream",
     "text": [
      "In and out sizes :\n",
      "fc1 : in = 784, out = 322\n",
      "fc2 : in = 322, out = 318\n",
      "fc3 : in = 318, out = 10\n",
      "Non frozen params in layer 1 : tensor(102372., device='cuda:2')\n",
      "Non frozen params in layer 2 : tensor(3162., device='cuda:2')\n"
     ]
    },
    {
     "name": "stderr",
     "output_type": "stream",
     "text": [
      " 11%|█         | 1/9 [00:06<00:49,  6.24s/it]"
     ]
    },
    {
     "name": "stdout",
     "output_type": "stream",
     "text": [
      "In and out sizes :\n",
      "fc1 : in = 784, out = 322\n",
      "fc2 : in = 322, out = 318\n",
      "fc3 : in = 318, out = 10\n",
      "Non frozen params in layer 1 : tensor(102372., device='cuda:2')\n",
      "Non frozen params in layer 2 : tensor(3162., device='cuda:2')\n"
     ]
    },
    {
     "name": "stderr",
     "output_type": "stream",
     "text": [
      " 22%|██▏       | 2/9 [00:12<00:43,  6.23s/it]"
     ]
    },
    {
     "name": "stdout",
     "output_type": "stream",
     "text": [
      "In and out sizes :\n",
      "fc1 : in = 784, out = 322\n",
      "fc2 : in = 322, out = 318\n",
      "fc3 : in = 318, out = 10\n",
      "Non frozen params in layer 1 : tensor(102372., device='cuda:2')\n",
      "Non frozen params in layer 2 : tensor(3162., device='cuda:2')\n"
     ]
    },
    {
     "name": "stderr",
     "output_type": "stream",
     "text": [
      " 33%|███▎      | 3/9 [00:18<00:37,  6.24s/it]"
     ]
    },
    {
     "name": "stdout",
     "output_type": "stream",
     "text": [
      "In and out sizes :\n",
      "fc1 : in = 784, out = 326\n",
      "fc2 : in = 326, out = 322\n",
      "fc3 : in = 322, out = 10\n",
      "Non frozen params in layer 1 : tensor(104944., device='cuda:2')\n",
      "Non frozen params in layer 2 : tensor(3198., device='cuda:2')\n"
     ]
    },
    {
     "name": "stderr",
     "output_type": "stream",
     "text": [
      " 44%|████▍     | 4/9 [00:24<00:31,  6.23s/it]"
     ]
    },
    {
     "name": "stdout",
     "output_type": "stream",
     "text": [
      "In and out sizes :\n",
      "fc1 : in = 784, out = 330\n",
      "fc2 : in = 330, out = 322\n",
      "fc3 : in = 322, out = 10\n",
      "Non frozen params in layer 1 : tensor(106228., device='cuda:2')\n",
      "Non frozen params in layer 2 : tensor(3198., device='cuda:2')\n"
     ]
    },
    {
     "name": "stderr",
     "output_type": "stream",
     "text": [
      " 56%|█████▌    | 5/9 [00:31<00:24,  6.21s/it]"
     ]
    },
    {
     "name": "stdout",
     "output_type": "stream",
     "text": [
      "In and out sizes :\n",
      "fc1 : in = 784, out = 330\n",
      "fc2 : in = 330, out = 322\n",
      "fc3 : in = 322, out = 10\n",
      "Non frozen params in layer 1 : tensor(106228., device='cuda:2')\n",
      "Non frozen params in layer 2 : tensor(3198., device='cuda:2')\n"
     ]
    },
    {
     "name": "stderr",
     "output_type": "stream",
     "text": [
      " 67%|██████▋   | 6/9 [00:37<00:18,  6.19s/it]"
     ]
    },
    {
     "name": "stdout",
     "output_type": "stream",
     "text": [
      "In and out sizes :\n",
      "fc1 : in = 784, out = 330\n",
      "fc2 : in = 330, out = 322\n",
      "fc3 : in = 322, out = 10\n",
      "Non frozen params in layer 1 : tensor(106228., device='cuda:2')\n",
      "Non frozen params in layer 2 : tensor(3198., device='cuda:2')\n"
     ]
    },
    {
     "name": "stderr",
     "output_type": "stream",
     "text": [
      " 78%|███████▊  | 7/9 [00:43<00:12,  6.20s/it]"
     ]
    },
    {
     "name": "stdout",
     "output_type": "stream",
     "text": [
      "In and out sizes :\n",
      "fc1 : in = 784, out = 330\n",
      "fc2 : in = 330, out = 326\n",
      "fc3 : in = 326, out = 10\n",
      "Non frozen params in layer 1 : tensor(107548., device='cuda:2')\n",
      "Non frozen params in layer 2 : tensor(3234., device='cuda:2')\n"
     ]
    },
    {
     "name": "stderr",
     "output_type": "stream",
     "text": [
      " 89%|████████▉ | 8/9 [00:49<00:06,  6.20s/it]"
     ]
    },
    {
     "name": "stdout",
     "output_type": "stream",
     "text": [
      "In and out sizes :\n",
      "fc1 : in = 784, out = 330\n",
      "fc2 : in = 330, out = 326\n",
      "fc3 : in = 326, out = 10\n",
      "Non frozen params in layer 1 : tensor(107548., device='cuda:2')\n",
      "Non frozen params in layer 2 : tensor(3234., device='cuda:2')\n"
     ]
    },
    {
     "name": "stderr",
     "output_type": "stream",
     "text": [
      "100%|██████████| 9/9 [00:55<00:00,  6.21s/it]\n",
      "[I 2024-08-09 10:40:06,770] A new study created in memory with name: Search number 5\n"
     ]
    },
    {
     "name": "stdout",
     "output_type": "stream",
     "text": [
      "\n",
      "--------------------------------------------------\n",
      "LEARNING TASK 5\n"
     ]
    },
    {
     "name": "stderr",
     "output_type": "stream",
     "text": [
      "100%|██████████| 9/9 [00:56<00:00,  6.31s/it]\n",
      "[I 2024-08-09 10:41:17,671] Trial 0 finished with value: 71.3527311827957 and parameters: {'lr': 0.0013127245462383958, 'num_epochs': 9, 'tau': 0.9990507149688213}. Best is trial 0 with value: 71.3527311827957.\n",
      "  0%|          | 0/9 [00:00<?, ?it/s]"
     ]
    },
    {
     "name": "stdout",
     "output_type": "stream",
     "text": [
      "In and out sizes :\n",
      "fc1 : in = 784, out = 330\n",
      "fc2 : in = 330, out = 326\n",
      "fc3 : in = 326, out = 10\n",
      "Non frozen params in layer 1 : tensor(107548., device='cuda:2')\n",
      "Non frozen params in layer 2 : tensor(3234., device='cuda:2')\n"
     ]
    },
    {
     "name": "stderr",
     "output_type": "stream",
     "text": [
      " 11%|█         | 1/9 [00:06<00:50,  6.30s/it]"
     ]
    },
    {
     "name": "stdout",
     "output_type": "stream",
     "text": [
      "In and out sizes :\n",
      "fc1 : in = 784, out = 334\n",
      "fc2 : in = 334, out = 326\n",
      "fc3 : in = 326, out = 10\n",
      "Non frozen params in layer 1 : tensor(108848., device='cuda:2')\n",
      "Non frozen params in layer 2 : tensor(3234., device='cuda:2')\n"
     ]
    },
    {
     "name": "stderr",
     "output_type": "stream",
     "text": [
      " 22%|██▏       | 2/9 [00:12<00:43,  6.26s/it]"
     ]
    },
    {
     "name": "stdout",
     "output_type": "stream",
     "text": [
      "In and out sizes :\n",
      "fc1 : in = 784, out = 334\n",
      "fc2 : in = 334, out = 330\n",
      "fc3 : in = 330, out = 10\n",
      "Non frozen params in layer 1 : tensor(110184., device='cuda:2')\n",
      "Non frozen params in layer 2 : tensor(3270., device='cuda:2')\n"
     ]
    },
    {
     "name": "stderr",
     "output_type": "stream",
     "text": [
      " 33%|███▎      | 3/9 [00:18<00:37,  6.24s/it]"
     ]
    },
    {
     "name": "stdout",
     "output_type": "stream",
     "text": [
      "In and out sizes :\n",
      "fc1 : in = 784, out = 338\n",
      "fc2 : in = 338, out = 330\n",
      "fc3 : in = 330, out = 10\n",
      "Non frozen params in layer 1 : tensor(111500., device='cuda:2')\n",
      "Non frozen params in layer 2 : tensor(3270., device='cuda:2')\n"
     ]
    },
    {
     "name": "stderr",
     "output_type": "stream",
     "text": [
      " 44%|████▍     | 4/9 [00:24<00:31,  6.23s/it]"
     ]
    },
    {
     "name": "stdout",
     "output_type": "stream",
     "text": [
      "In and out sizes :\n",
      "fc1 : in = 784, out = 338\n",
      "fc2 : in = 338, out = 330\n",
      "fc3 : in = 330, out = 10\n",
      "Non frozen params in layer 1 : tensor(111500., device='cuda:2')\n",
      "Non frozen params in layer 2 : tensor(3270., device='cuda:2')\n"
     ]
    },
    {
     "name": "stderr",
     "output_type": "stream",
     "text": [
      " 56%|█████▌    | 5/9 [00:31<00:25,  6.28s/it]"
     ]
    },
    {
     "name": "stdout",
     "output_type": "stream",
     "text": [
      "In and out sizes :\n",
      "fc1 : in = 784, out = 338\n",
      "fc2 : in = 338, out = 334\n",
      "fc3 : in = 334, out = 10\n",
      "Non frozen params in layer 1 : tensor(112852., device='cuda:2')\n",
      "Non frozen params in layer 2 : tensor(3306., device='cuda:2')\n"
     ]
    },
    {
     "name": "stderr",
     "output_type": "stream",
     "text": [
      " 67%|██████▋   | 6/9 [00:37<00:18,  6.28s/it]"
     ]
    },
    {
     "name": "stdout",
     "output_type": "stream",
     "text": [
      "In and out sizes :\n",
      "fc1 : in = 784, out = 342\n",
      "fc2 : in = 342, out = 334\n",
      "fc3 : in = 334, out = 10\n",
      "Non frozen params in layer 1 : tensor(114184., device='cuda:2')\n",
      "Non frozen params in layer 2 : tensor(3306., device='cuda:2')\n"
     ]
    },
    {
     "name": "stderr",
     "output_type": "stream",
     "text": [
      " 78%|███████▊  | 7/9 [00:43<00:12,  6.26s/it]"
     ]
    },
    {
     "name": "stdout",
     "output_type": "stream",
     "text": [
      "In and out sizes :\n",
      "fc1 : in = 784, out = 346\n",
      "fc2 : in = 346, out = 338\n",
      "fc3 : in = 338, out = 10\n",
      "Non frozen params in layer 1 : tensor(116900., device='cuda:2')\n",
      "Non frozen params in layer 2 : tensor(3342., device='cuda:2')\n"
     ]
    },
    {
     "name": "stderr",
     "output_type": "stream",
     "text": [
      " 89%|████████▉ | 8/9 [00:50<00:06,  6.25s/it]"
     ]
    },
    {
     "name": "stdout",
     "output_type": "stream",
     "text": [
      "In and out sizes :\n",
      "fc1 : in = 784, out = 346\n",
      "fc2 : in = 346, out = 342\n",
      "fc3 : in = 342, out = 10\n",
      "Non frozen params in layer 1 : tensor(118284., device='cuda:2')\n",
      "Non frozen params in layer 2 : tensor(3378., device='cuda:2')\n"
     ]
    },
    {
     "name": "stderr",
     "output_type": "stream",
     "text": [
      "100%|██████████| 9/9 [00:56<00:00,  6.26s/it]\n",
      "[I 2024-08-09 10:42:31,962] A new study created in memory with name: Search number 6\n"
     ]
    },
    {
     "name": "stdout",
     "output_type": "stream",
     "text": [
      "\n",
      "--------------------------------------------------\n",
      "LEARNING TASK 6\n"
     ]
    },
    {
     "name": "stderr",
     "output_type": "stream",
     "text": [
      "100%|██████████| 9/9 [00:55<00:00,  6.22s/it]\n",
      "[I 2024-08-09 10:43:43,554] Trial 0 finished with value: 69.01186379928315 and parameters: {'lr': 0.0013127245462383958, 'num_epochs': 9, 'tau': 0.9990507149688213}. Best is trial 0 with value: 69.01186379928315.\n",
      "  0%|          | 0/9 [00:00<?, ?it/s]"
     ]
    },
    {
     "name": "stdout",
     "output_type": "stream",
     "text": [
      "In and out sizes :\n",
      "fc1 : in = 784, out = 352\n",
      "fc2 : in = 352, out = 346\n",
      "fc3 : in = 346, out = 10\n",
      "Non frozen params in layer 1 : tensor(121738., device='cuda:2')\n",
      "Non frozen params in layer 2 : tensor(3414., device='cuda:2')\n"
     ]
    },
    {
     "name": "stderr",
     "output_type": "stream",
     "text": [
      " 11%|█         | 1/9 [00:06<00:50,  6.35s/it]"
     ]
    },
    {
     "name": "stdout",
     "output_type": "stream",
     "text": [
      "In and out sizes :\n",
      "fc1 : in = 784, out = 352\n",
      "fc2 : in = 352, out = 346\n",
      "fc3 : in = 346, out = 10\n",
      "Non frozen params in layer 1 : tensor(121738., device='cuda:2')\n",
      "Non frozen params in layer 2 : tensor(3414., device='cuda:2')\n"
     ]
    },
    {
     "name": "stderr",
     "output_type": "stream",
     "text": [
      " 22%|██▏       | 2/9 [00:12<00:43,  6.29s/it]"
     ]
    },
    {
     "name": "stdout",
     "output_type": "stream",
     "text": [
      "In and out sizes :\n",
      "fc1 : in = 784, out = 352\n",
      "fc2 : in = 352, out = 346\n",
      "fc3 : in = 346, out = 10\n",
      "Non frozen params in layer 1 : tensor(121738., device='cuda:2')\n",
      "Non frozen params in layer 2 : tensor(3414., device='cuda:2')\n"
     ]
    },
    {
     "name": "stderr",
     "output_type": "stream",
     "text": [
      " 33%|███▎      | 3/9 [00:18<00:37,  6.28s/it]"
     ]
    },
    {
     "name": "stdout",
     "output_type": "stream",
     "text": [
      "In and out sizes :\n",
      "fc1 : in = 784, out = 356\n",
      "fc2 : in = 356, out = 346\n",
      "fc3 : in = 346, out = 10\n",
      "Non frozen params in layer 1 : tensor(123118., device='cuda:2')\n",
      "Non frozen params in layer 2 : tensor(3414., device='cuda:2')\n"
     ]
    },
    {
     "name": "stderr",
     "output_type": "stream",
     "text": [
      " 44%|████▍     | 4/9 [00:25<00:31,  6.26s/it]"
     ]
    },
    {
     "name": "stdout",
     "output_type": "stream",
     "text": [
      "In and out sizes :\n",
      "fc1 : in = 784, out = 356\n",
      "fc2 : in = 356, out = 350\n",
      "fc3 : in = 350, out = 10\n",
      "Non frozen params in layer 1 : tensor(124542., device='cuda:2')\n",
      "Non frozen params in layer 2 : tensor(3450., device='cuda:2')\n"
     ]
    },
    {
     "name": "stderr",
     "output_type": "stream",
     "text": [
      " 56%|█████▌    | 5/9 [00:31<00:24,  6.25s/it]"
     ]
    },
    {
     "name": "stdout",
     "output_type": "stream",
     "text": [
      "In and out sizes :\n",
      "fc1 : in = 784, out = 360\n",
      "fc2 : in = 360, out = 350\n",
      "fc3 : in = 350, out = 10\n",
      "Non frozen params in layer 1 : tensor(125938., device='cuda:2')\n",
      "Non frozen params in layer 2 : tensor(3450., device='cuda:2')\n"
     ]
    },
    {
     "name": "stderr",
     "output_type": "stream",
     "text": [
      " 67%|██████▋   | 6/9 [00:37<00:18,  6.24s/it]"
     ]
    },
    {
     "name": "stdout",
     "output_type": "stream",
     "text": [
      "In and out sizes :\n",
      "fc1 : in = 784, out = 360\n",
      "fc2 : in = 360, out = 354\n",
      "fc3 : in = 354, out = 10\n",
      "Non frozen params in layer 1 : tensor(127378., device='cuda:2')\n",
      "Non frozen params in layer 2 : tensor(3486., device='cuda:2')\n"
     ]
    },
    {
     "name": "stderr",
     "output_type": "stream",
     "text": [
      " 78%|███████▊  | 7/9 [00:43<00:12,  6.23s/it]"
     ]
    },
    {
     "name": "stdout",
     "output_type": "stream",
     "text": [
      "In and out sizes :\n",
      "fc1 : in = 784, out = 360\n",
      "fc2 : in = 360, out = 354\n",
      "fc3 : in = 354, out = 10\n",
      "Non frozen params in layer 1 : tensor(127378., device='cuda:2')\n",
      "Non frozen params in layer 2 : tensor(3486., device='cuda:2')\n"
     ]
    },
    {
     "name": "stderr",
     "output_type": "stream",
     "text": [
      " 89%|████████▉ | 8/9 [00:50<00:06,  6.25s/it]"
     ]
    },
    {
     "name": "stdout",
     "output_type": "stream",
     "text": [
      "In and out sizes :\n",
      "fc1 : in = 784, out = 364\n",
      "fc2 : in = 364, out = 354\n",
      "fc3 : in = 354, out = 10\n",
      "Non frozen params in layer 1 : tensor(128790., device='cuda:2')\n",
      "Non frozen params in layer 2 : tensor(3486., device='cuda:2')\n"
     ]
    },
    {
     "name": "stderr",
     "output_type": "stream",
     "text": [
      "100%|██████████| 9/9 [00:56<00:00,  6.25s/it]\n",
      "[I 2024-08-09 10:44:58,615] A new study created in memory with name: Search number 7\n"
     ]
    },
    {
     "name": "stdout",
     "output_type": "stream",
     "text": [
      "\n",
      "--------------------------------------------------\n",
      "LEARNING TASK 7\n"
     ]
    },
    {
     "name": "stderr",
     "output_type": "stream",
     "text": [
      "100%|██████████| 9/9 [00:56<00:00,  6.28s/it]\n",
      "[I 2024-08-09 10:46:12,576] Trial 0 finished with value: 66.9966973886329 and parameters: {'lr': 0.0013127245462383958, 'num_epochs': 9, 'tau': 0.9990507149688213}. Best is trial 0 with value: 66.9966973886329.\n",
      "  0%|          | 0/9 [00:00<?, ?it/s]"
     ]
    },
    {
     "name": "stdout",
     "output_type": "stream",
     "text": [
      "In and out sizes :\n",
      "fc1 : in = 784, out = 364\n",
      "fc2 : in = 364, out = 358\n",
      "fc3 : in = 358, out = 10\n",
      "Non frozen params in layer 1 : tensor(130246., device='cuda:2')\n",
      "Non frozen params in layer 2 : tensor(3522., device='cuda:2')\n"
     ]
    },
    {
     "name": "stderr",
     "output_type": "stream",
     "text": [
      " 11%|█         | 1/9 [00:06<00:49,  6.22s/it]"
     ]
    },
    {
     "name": "stdout",
     "output_type": "stream",
     "text": [
      "In and out sizes :\n",
      "fc1 : in = 784, out = 368\n",
      "fc2 : in = 368, out = 358\n",
      "fc3 : in = 358, out = 10\n",
      "Non frozen params in layer 1 : tensor(131674., device='cuda:2')\n",
      "Non frozen params in layer 2 : tensor(3522., device='cuda:2')\n"
     ]
    },
    {
     "name": "stderr",
     "output_type": "stream",
     "text": [
      " 22%|██▏       | 2/9 [00:12<00:43,  6.28s/it]"
     ]
    },
    {
     "name": "stdout",
     "output_type": "stream",
     "text": [
      "In and out sizes :\n",
      "fc1 : in = 784, out = 368\n",
      "fc2 : in = 368, out = 362\n",
      "fc3 : in = 362, out = 10\n",
      "Non frozen params in layer 1 : tensor(133146., device='cuda:2')\n",
      "Non frozen params in layer 2 : tensor(3558., device='cuda:2')\n"
     ]
    },
    {
     "name": "stderr",
     "output_type": "stream",
     "text": [
      " 33%|███▎      | 3/9 [00:18<00:37,  6.33s/it]"
     ]
    },
    {
     "name": "stdout",
     "output_type": "stream",
     "text": [
      "In and out sizes :\n",
      "fc1 : in = 784, out = 368\n",
      "fc2 : in = 368, out = 362\n",
      "fc3 : in = 362, out = 10\n",
      "Non frozen params in layer 1 : tensor(133146., device='cuda:2')\n",
      "Non frozen params in layer 2 : tensor(3558., device='cuda:2')\n"
     ]
    },
    {
     "name": "stderr",
     "output_type": "stream",
     "text": [
      " 44%|████▍     | 4/9 [00:25<00:31,  6.30s/it]"
     ]
    },
    {
     "name": "stdout",
     "output_type": "stream",
     "text": [
      "In and out sizes :\n",
      "fc1 : in = 784, out = 368\n",
      "fc2 : in = 368, out = 362\n",
      "fc3 : in = 362, out = 10\n",
      "Non frozen params in layer 1 : tensor(133146., device='cuda:2')\n",
      "Non frozen params in layer 2 : tensor(3558., device='cuda:2')\n"
     ]
    },
    {
     "name": "stderr",
     "output_type": "stream",
     "text": [
      " 56%|█████▌    | 5/9 [00:31<00:25,  6.31s/it]"
     ]
    },
    {
     "name": "stdout",
     "output_type": "stream",
     "text": [
      "In and out sizes :\n",
      "fc1 : in = 784, out = 372\n",
      "fc2 : in = 372, out = 366\n",
      "fc3 : in = 366, out = 10\n",
      "Non frozen params in layer 1 : tensor(136078., device='cuda:2')\n",
      "Non frozen params in layer 2 : tensor(3594., device='cuda:2')\n"
     ]
    },
    {
     "name": "stderr",
     "output_type": "stream",
     "text": [
      " 67%|██████▋   | 6/9 [00:37<00:18,  6.29s/it]"
     ]
    },
    {
     "name": "stdout",
     "output_type": "stream",
     "text": [
      "In and out sizes :\n",
      "fc1 : in = 784, out = 372\n",
      "fc2 : in = 372, out = 366\n",
      "fc3 : in = 366, out = 10\n",
      "Non frozen params in layer 1 : tensor(136078., device='cuda:2')\n",
      "Non frozen params in layer 2 : tensor(3594., device='cuda:2')\n"
     ]
    },
    {
     "name": "stderr",
     "output_type": "stream",
     "text": [
      " 78%|███████▊  | 7/9 [00:44<00:12,  6.29s/it]"
     ]
    },
    {
     "name": "stdout",
     "output_type": "stream",
     "text": [
      "In and out sizes :\n",
      "fc1 : in = 784, out = 376\n",
      "fc2 : in = 376, out = 370\n",
      "fc3 : in = 370, out = 10\n",
      "Non frozen params in layer 1 : tensor(139042., device='cuda:2')\n",
      "Non frozen params in layer 2 : tensor(3630., device='cuda:2')\n"
     ]
    },
    {
     "name": "stderr",
     "output_type": "stream",
     "text": [
      " 89%|████████▉ | 8/9 [00:50<00:06,  6.30s/it]"
     ]
    },
    {
     "name": "stdout",
     "output_type": "stream",
     "text": [
      "In and out sizes :\n",
      "fc1 : in = 784, out = 380\n",
      "fc2 : in = 380, out = 374\n",
      "fc3 : in = 374, out = 10\n",
      "Non frozen params in layer 1 : tensor(142038., device='cuda:2')\n",
      "Non frozen params in layer 2 : tensor(3666., device='cuda:2')\n"
     ]
    },
    {
     "name": "stderr",
     "output_type": "stream",
     "text": [
      "100%|██████████| 9/9 [00:56<00:00,  6.31s/it]\n",
      "[I 2024-08-09 10:47:27,989] A new study created in memory with name: Search number 8\n"
     ]
    },
    {
     "name": "stdout",
     "output_type": "stream",
     "text": [
      "\n",
      "--------------------------------------------------\n",
      "LEARNING TASK 8\n"
     ]
    },
    {
     "name": "stderr",
     "output_type": "stream",
     "text": [
      "100%|██████████| 9/9 [00:56<00:00,  6.24s/it]\n",
      "[I 2024-08-09 10:48:42,532] Trial 0 finished with value: 58.58451612903226 and parameters: {'lr': 0.0013127245462383958, 'num_epochs': 9, 'tau': 0.9990507149688213}. Best is trial 0 with value: 58.58451612903226.\n",
      "  0%|          | 0/9 [00:00<?, ?it/s]"
     ]
    },
    {
     "name": "stdout",
     "output_type": "stream",
     "text": [
      "In and out sizes :\n",
      "fc1 : in = 784, out = 384\n",
      "fc2 : in = 384, out = 378\n",
      "fc3 : in = 378, out = 10\n",
      "Non frozen params in layer 1 : tensor(145066., device='cuda:2')\n",
      "Non frozen params in layer 2 : tensor(3702., device='cuda:2')\n"
     ]
    },
    {
     "name": "stderr",
     "output_type": "stream",
     "text": [
      " 11%|█         | 1/9 [00:06<00:50,  6.29s/it]"
     ]
    },
    {
     "name": "stdout",
     "output_type": "stream",
     "text": [
      "In and out sizes :\n",
      "fc1 : in = 784, out = 388\n",
      "fc2 : in = 388, out = 378\n",
      "fc3 : in = 378, out = 10\n",
      "Non frozen params in layer 1 : tensor(146574., device='cuda:2')\n",
      "Non frozen params in layer 2 : tensor(3702., device='cuda:2')\n"
     ]
    },
    {
     "name": "stderr",
     "output_type": "stream",
     "text": [
      " 22%|██▏       | 2/9 [00:12<00:43,  6.26s/it]"
     ]
    },
    {
     "name": "stdout",
     "output_type": "stream",
     "text": [
      "In and out sizes :\n",
      "fc1 : in = 784, out = 388\n",
      "fc2 : in = 388, out = 378\n",
      "fc3 : in = 378, out = 10\n",
      "Non frozen params in layer 1 : tensor(146574., device='cuda:2')\n",
      "Non frozen params in layer 2 : tensor(3702., device='cuda:2')\n"
     ]
    },
    {
     "name": "stderr",
     "output_type": "stream",
     "text": [
      " 33%|███▎      | 3/9 [00:18<00:37,  6.25s/it]"
     ]
    },
    {
     "name": "stdout",
     "output_type": "stream",
     "text": [
      "In and out sizes :\n",
      "fc1 : in = 784, out = 388\n",
      "fc2 : in = 388, out = 378\n",
      "fc3 : in = 378, out = 10\n",
      "Non frozen params in layer 1 : tensor(146574., device='cuda:2')\n",
      "Non frozen params in layer 2 : tensor(3702., device='cuda:2')\n"
     ]
    },
    {
     "name": "stderr",
     "output_type": "stream",
     "text": [
      " 44%|████▍     | 4/9 [00:25<00:31,  6.30s/it]"
     ]
    },
    {
     "name": "stdout",
     "output_type": "stream",
     "text": [
      "In and out sizes :\n",
      "fc1 : in = 784, out = 396\n",
      "fc2 : in = 396, out = 386\n",
      "fc3 : in = 386, out = 10\n",
      "Non frozen params in layer 1 : tensor(152758., device='cuda:2')\n",
      "Non frozen params in layer 2 : tensor(3774., device='cuda:2')\n"
     ]
    },
    {
     "name": "stderr",
     "output_type": "stream",
     "text": [
      " 56%|█████▌    | 5/9 [00:31<00:25,  6.28s/it]"
     ]
    },
    {
     "name": "stdout",
     "output_type": "stream",
     "text": [
      "In and out sizes :\n",
      "fc1 : in = 784, out = 396\n",
      "fc2 : in = 396, out = 390\n",
      "fc3 : in = 390, out = 10\n",
      "Non frozen params in layer 1 : tensor(154342., device='cuda:2')\n",
      "Non frozen params in layer 2 : tensor(3810., device='cuda:2')\n"
     ]
    },
    {
     "name": "stderr",
     "output_type": "stream",
     "text": [
      " 67%|██████▋   | 6/9 [00:37<00:18,  6.27s/it]"
     ]
    },
    {
     "name": "stdout",
     "output_type": "stream",
     "text": [
      "In and out sizes :\n",
      "fc1 : in = 784, out = 396\n",
      "fc2 : in = 396, out = 390\n",
      "fc3 : in = 390, out = 10\n",
      "Non frozen params in layer 1 : tensor(154342., device='cuda:2')\n",
      "Non frozen params in layer 2 : tensor(3810., device='cuda:2')\n"
     ]
    },
    {
     "name": "stderr",
     "output_type": "stream",
     "text": [
      " 78%|███████▊  | 7/9 [00:44<00:12,  6.31s/it]"
     ]
    },
    {
     "name": "stdout",
     "output_type": "stream",
     "text": [
      "In and out sizes :\n",
      "fc1 : in = 784, out = 400\n",
      "fc2 : in = 400, out = 394\n",
      "fc3 : in = 394, out = 10\n",
      "Non frozen params in layer 1 : tensor(157498., device='cuda:2')\n",
      "Non frozen params in layer 2 : tensor(3846., device='cuda:2')\n"
     ]
    },
    {
     "name": "stderr",
     "output_type": "stream",
     "text": [
      " 89%|████████▉ | 8/9 [00:50<00:06,  6.32s/it]"
     ]
    },
    {
     "name": "stdout",
     "output_type": "stream",
     "text": [
      "In and out sizes :\n",
      "fc1 : in = 784, out = 404\n",
      "fc2 : in = 404, out = 394\n",
      "fc3 : in = 394, out = 10\n",
      "Non frozen params in layer 1 : tensor(159070., device='cuda:2')\n",
      "Non frozen params in layer 2 : tensor(3846., device='cuda:2')\n"
     ]
    },
    {
     "name": "stderr",
     "output_type": "stream",
     "text": [
      "100%|██████████| 9/9 [00:56<00:00,  6.29s/it]\n",
      "[I 2024-08-09 10:49:57,555] A new study created in memory with name: Search number 9\n"
     ]
    },
    {
     "name": "stdout",
     "output_type": "stream",
     "text": [
      "\n",
      "--------------------------------------------------\n",
      "LEARNING TASK 9\n"
     ]
    },
    {
     "name": "stderr",
     "output_type": "stream",
     "text": [
      "100%|██████████| 9/9 [00:56<00:00,  6.27s/it]\n",
      "[I 2024-08-09 10:51:14,051] Trial 0 finished with value: 52.67335722819595 and parameters: {'lr': 0.0013127245462383958, 'num_epochs': 9, 'tau': 0.9990507149688213}. Best is trial 0 with value: 52.67335722819595.\n",
      "  0%|          | 0/9 [00:00<?, ?it/s]"
     ]
    },
    {
     "name": "stdout",
     "output_type": "stream",
     "text": [
      "In and out sizes :\n",
      "fc1 : in = 784, out = 404\n",
      "fc2 : in = 404, out = 398\n",
      "fc3 : in = 398, out = 10\n",
      "Non frozen params in layer 1 : tensor(160686., device='cuda:2')\n",
      "Non frozen params in layer 2 : tensor(3882., device='cuda:2')\n"
     ]
    },
    {
     "name": "stderr",
     "output_type": "stream",
     "text": [
      " 11%|█         | 1/9 [00:06<00:50,  6.29s/it]"
     ]
    },
    {
     "name": "stdout",
     "output_type": "stream",
     "text": [
      "In and out sizes :\n",
      "fc1 : in = 784, out = 404\n",
      "fc2 : in = 404, out = 398\n",
      "fc3 : in = 398, out = 10\n",
      "Non frozen params in layer 1 : tensor(160686., device='cuda:2')\n",
      "Non frozen params in layer 2 : tensor(3882., device='cuda:2')\n"
     ]
    },
    {
     "name": "stderr",
     "output_type": "stream",
     "text": [
      " 22%|██▏       | 2/9 [00:12<00:43,  6.27s/it]"
     ]
    },
    {
     "name": "stdout",
     "output_type": "stream",
     "text": [
      "In and out sizes :\n",
      "fc1 : in = 784, out = 408\n",
      "fc2 : in = 408, out = 398\n",
      "fc3 : in = 398, out = 10\n",
      "Non frozen params in layer 1 : tensor(162274., device='cuda:2')\n",
      "Non frozen params in layer 2 : tensor(3882., device='cuda:2')\n"
     ]
    },
    {
     "name": "stderr",
     "output_type": "stream",
     "text": [
      " 33%|███▎      | 3/9 [00:18<00:37,  6.29s/it]"
     ]
    },
    {
     "name": "stdout",
     "output_type": "stream",
     "text": [
      "In and out sizes :\n",
      "fc1 : in = 784, out = 412\n",
      "fc2 : in = 412, out = 402\n",
      "fc3 : in = 402, out = 10\n",
      "Non frozen params in layer 1 : tensor(165510., device='cuda:2')\n",
      "Non frozen params in layer 2 : tensor(3918., device='cuda:2')\n"
     ]
    },
    {
     "name": "stderr",
     "output_type": "stream",
     "text": [
      " 44%|████▍     | 4/9 [00:25<00:31,  6.27s/it]"
     ]
    },
    {
     "name": "stdout",
     "output_type": "stream",
     "text": [
      "In and out sizes :\n",
      "fc1 : in = 784, out = 412\n",
      "fc2 : in = 412, out = 402\n",
      "fc3 : in = 402, out = 10\n",
      "Non frozen params in layer 1 : tensor(165510., device='cuda:2')\n",
      "Non frozen params in layer 2 : tensor(3918., device='cuda:2')\n"
     ]
    },
    {
     "name": "stderr",
     "output_type": "stream",
     "text": [
      " 56%|█████▌    | 5/9 [00:31<00:25,  6.26s/it]"
     ]
    },
    {
     "name": "stdout",
     "output_type": "stream",
     "text": [
      "In and out sizes :\n",
      "fc1 : in = 784, out = 412\n",
      "fc2 : in = 412, out = 406\n",
      "fc3 : in = 406, out = 10\n",
      "Non frozen params in layer 1 : tensor(167158., device='cuda:2')\n",
      "Non frozen params in layer 2 : tensor(3954., device='cuda:2')\n"
     ]
    },
    {
     "name": "stderr",
     "output_type": "stream",
     "text": [
      " 67%|██████▋   | 6/9 [00:37<00:18,  6.26s/it]"
     ]
    },
    {
     "name": "stdout",
     "output_type": "stream",
     "text": [
      "In and out sizes :\n",
      "fc1 : in = 784, out = 412\n",
      "fc2 : in = 412, out = 406\n",
      "fc3 : in = 406, out = 10\n",
      "Non frozen params in layer 1 : tensor(167158., device='cuda:2')\n",
      "Non frozen params in layer 2 : tensor(3954., device='cuda:2')\n"
     ]
    },
    {
     "name": "stderr",
     "output_type": "stream",
     "text": [
      " 78%|███████▊  | 7/9 [00:43<00:12,  6.28s/it]"
     ]
    },
    {
     "name": "stdout",
     "output_type": "stream",
     "text": [
      "In and out sizes :\n",
      "fc1 : in = 784, out = 416\n",
      "fc2 : in = 416, out = 410\n",
      "fc3 : in = 410, out = 10\n",
      "Non frozen params in layer 1 : tensor(170442., device='cuda:2')\n",
      "Non frozen params in layer 2 : tensor(3990., device='cuda:2')\n"
     ]
    },
    {
     "name": "stderr",
     "output_type": "stream",
     "text": [
      " 89%|████████▉ | 8/9 [00:50<00:06,  6.32s/it]"
     ]
    },
    {
     "name": "stdout",
     "output_type": "stream",
     "text": [
      "In and out sizes :\n",
      "fc1 : in = 784, out = 424\n",
      "fc2 : in = 424, out = 414\n",
      "fc3 : in = 414, out = 10\n",
      "Non frozen params in layer 1 : tensor(175410., device='cuda:2')\n",
      "Non frozen params in layer 2 : tensor(4026., device='cuda:2')\n"
     ]
    },
    {
     "name": "stderr",
     "output_type": "stream",
     "text": [
      "100%|██████████| 9/9 [00:56<00:00,  6.29s/it]\n",
      "[I 2024-08-09 10:52:29,370] A new study created in memory with name: Search number 10\n"
     ]
    },
    {
     "name": "stdout",
     "output_type": "stream",
     "text": [
      "\n",
      "--------------------------------------------------\n",
      "LEARNING TASK 10\n"
     ]
    },
    {
     "name": "stderr",
     "output_type": "stream",
     "text": [
      "100%|██████████| 9/9 [00:56<00:00,  6.26s/it]\n",
      "[I 2024-08-09 10:53:47,157] Trial 0 finished with value: 44.70355913978494 and parameters: {'lr': 0.0013127245462383958, 'num_epochs': 9, 'tau': 0.9990507149688213}. Best is trial 0 with value: 44.70355913978494.\n",
      "  0%|          | 0/9 [00:00<?, ?it/s]"
     ]
    },
    {
     "name": "stdout",
     "output_type": "stream",
     "text": [
      "In and out sizes :\n",
      "fc1 : in = 784, out = 424\n",
      "fc2 : in = 424, out = 414\n",
      "fc3 : in = 414, out = 10\n",
      "Non frozen params in layer 1 : tensor(175410., device='cuda:2')\n",
      "Non frozen params in layer 2 : tensor(4026., device='cuda:2')\n"
     ]
    },
    {
     "name": "stderr",
     "output_type": "stream",
     "text": [
      " 11%|█         | 1/9 [00:06<00:49,  6.24s/it]"
     ]
    },
    {
     "name": "stdout",
     "output_type": "stream",
     "text": [
      "In and out sizes :\n",
      "fc1 : in = 784, out = 429\n",
      "fc2 : in = 429, out = 414\n",
      "fc3 : in = 414, out = 10\n",
      "Non frozen params in layer 1 : tensor(177475., device='cuda:2')\n",
      "Non frozen params in layer 2 : tensor(4026., device='cuda:2')\n"
     ]
    },
    {
     "name": "stderr",
     "output_type": "stream",
     "text": [
      " 22%|██▏       | 2/9 [00:12<00:43,  6.26s/it]"
     ]
    },
    {
     "name": "stdout",
     "output_type": "stream",
     "text": [
      "In and out sizes :\n",
      "fc1 : in = 784, out = 429\n",
      "fc2 : in = 429, out = 418\n",
      "fc3 : in = 418, out = 10\n",
      "Non frozen params in layer 1 : tensor(179191., device='cuda:2')\n",
      "Non frozen params in layer 2 : tensor(4062., device='cuda:2')\n"
     ]
    },
    {
     "name": "stderr",
     "output_type": "stream",
     "text": [
      " 33%|███▎      | 3/9 [00:18<00:37,  6.33s/it]"
     ]
    },
    {
     "name": "stdout",
     "output_type": "stream",
     "text": [
      "In and out sizes :\n",
      "fc1 : in = 784, out = 433\n",
      "fc2 : in = 433, out = 418\n",
      "fc3 : in = 418, out = 10\n",
      "Non frozen params in layer 1 : tensor(180859., device='cuda:2')\n",
      "Non frozen params in layer 2 : tensor(4062., device='cuda:2')\n"
     ]
    },
    {
     "name": "stderr",
     "output_type": "stream",
     "text": [
      " 44%|████▍     | 4/9 [00:25<00:31,  6.30s/it]"
     ]
    },
    {
     "name": "stdout",
     "output_type": "stream",
     "text": [
      "In and out sizes :\n",
      "fc1 : in = 784, out = 433\n",
      "fc2 : in = 433, out = 422\n",
      "fc3 : in = 422, out = 10\n",
      "Non frozen params in layer 1 : tensor(182591., device='cuda:2')\n",
      "Non frozen params in layer 2 : tensor(4098., device='cuda:2')\n"
     ]
    },
    {
     "name": "stderr",
     "output_type": "stream",
     "text": [
      " 56%|█████▌    | 5/9 [00:31<00:25,  6.29s/it]"
     ]
    },
    {
     "name": "stdout",
     "output_type": "stream",
     "text": [
      "In and out sizes :\n",
      "fc1 : in = 784, out = 437\n",
      "fc2 : in = 437, out = 422\n",
      "fc3 : in = 422, out = 10\n",
      "Non frozen params in layer 1 : tensor(184275., device='cuda:2')\n",
      "Non frozen params in layer 2 : tensor(4098., device='cuda:2')\n"
     ]
    },
    {
     "name": "stderr",
     "output_type": "stream",
     "text": [
      " 67%|██████▋   | 6/9 [00:37<00:18,  6.28s/it]"
     ]
    },
    {
     "name": "stdout",
     "output_type": "stream",
     "text": [
      "In and out sizes :\n",
      "fc1 : in = 784, out = 437\n",
      "fc2 : in = 437, out = 426\n",
      "fc3 : in = 426, out = 10\n",
      "Non frozen params in layer 1 : tensor(186023., device='cuda:2')\n",
      "Non frozen params in layer 2 : tensor(4134., device='cuda:2')\n"
     ]
    },
    {
     "name": "stderr",
     "output_type": "stream",
     "text": [
      " 78%|███████▊  | 7/9 [00:44<00:12,  6.29s/it]"
     ]
    },
    {
     "name": "stdout",
     "output_type": "stream",
     "text": [
      "In and out sizes :\n",
      "fc1 : in = 784, out = 441\n",
      "fc2 : in = 441, out = 426\n",
      "fc3 : in = 426, out = 10\n",
      "Non frozen params in layer 1 : tensor(187723., device='cuda:2')\n",
      "Non frozen params in layer 2 : tensor(4134., device='cuda:2')\n"
     ]
    },
    {
     "name": "stderr",
     "output_type": "stream",
     "text": [
      " 89%|████████▉ | 8/9 [00:50<00:06,  6.28s/it]"
     ]
    },
    {
     "name": "stdout",
     "output_type": "stream",
     "text": [
      "In and out sizes :\n",
      "fc1 : in = 784, out = 441\n",
      "fc2 : in = 441, out = 426\n",
      "fc3 : in = 426, out = 10\n",
      "Non frozen params in layer 1 : tensor(187723., device='cuda:2')\n",
      "Non frozen params in layer 2 : tensor(4134., device='cuda:2')\n"
     ]
    },
    {
     "name": "stderr",
     "output_type": "stream",
     "text": [
      "100%|██████████| 9/9 [00:56<00:00,  6.29s/it]\n"
     ]
    }
   ],
   "source": [
    "test_accs_matrix, best_params_list = run_HPO(HPO_settings, method_settings, benchmark_settings, benchmarks_list[0], device, global_seed)"
   ]
  },
  {
   "cell_type": "markdown",
   "metadata": {},
   "source": [
    "## Visualize results"
   ]
  },
  {
   "cell_type": "code",
   "execution_count": 10,
   "metadata": {},
   "outputs": [
    {
     "data": {
      "image/png": "[encoded data removed]",
      "text/plain": [
       "<Figure size 640x480 with 2 Axes>"
      ]
     },
     "metadata": {},
     "output_type": "display_data"
    },
    {
     "data": {
      "image/png": "[encoded data removed]",
      "text/plain": [
       "<Figure size 640x480 with 1 Axes>"
      ]
     },
     "metadata": {},
     "output_type": "display_data"
    },
    {
     "data": {
      "image/png": "[encoded data removed]",
      "text/plain": [
       "<Figure size 1500x500 with 3 Axes>"
      ]
     },
     "metadata": {},
     "output_type": "display_data"
    }
   ],
   "source": [
    "visualize_HPO(test_accs_matrix, best_params_list, visualization_settings, HPO_settings, method_settings, benchmark_settings)"
   ]
  },
  {
   "cell_type": "markdown",
   "metadata": {},
   "source": [
    "## Validate"
   ]
  },
  {
   "cell_type": "code",
   "execution_count": 11,
   "metadata": {},
   "outputs": [
    {
     "name": "stdout",
     "output_type": "stream",
     "text": [
      "[{'lr': 0.0013127245462383958, 'num_epochs': 9, 'tau': 0.9990507149688213}, {'lr': 0.0013127245462383958, 'num_epochs': 9, 'tau': 0.9990507149688213}, {'lr': 0.0013127245462383958, 'num_epochs': 9, 'tau': 0.9990507149688213}, {'lr': 0.0013127245462383958, 'num_epochs': 9, 'tau': 0.9990507149688213}, {'lr': 0.0013127245462383958, 'num_epochs': 9, 'tau': 0.9990507149688213}, {'lr': 0.0013127245462383958, 'num_epochs': 9, 'tau': 0.9990507149688213}, {'lr': 0.0013127245462383958, 'num_epochs': 9, 'tau': 0.9990507149688213}, {'lr': 0.0013127245462383958, 'num_epochs': 9, 'tau': 0.9990507149688213}, {'lr': 0.0013127245462383958, 'num_epochs': 9, 'tau': 0.9990507149688213}, {'lr': 0.0013127245462383958, 'num_epochs': 9, 'tau': 0.9990507149688213}]\n"
     ]
    }
   ],
   "source": [
    "print(best_params_list)"
   ]
  },
  {
   "cell_type": "code",
   "execution_count": 12,
   "metadata": {},
   "outputs": [
    {
     "name": "stdout",
     "output_type": "stream",
     "text": [
      "\n",
      "==================================================\n",
      "BENCHMARK 1\n",
      "\n",
      "--------------------------------------------------\n",
      "LEARNING TASK 1\n"
     ]
    },
    {
     "name": "stderr",
     "output_type": "stream",
     "text": [
      "  0%|          | 0/9 [00:00<?, ?it/s]"
     ]
    },
    {
     "name": "stdout",
     "output_type": "stream",
     "text": [
      "In and out sizes :\n",
      "fc1 : in = 784, out = 300\n",
      "fc2 : in = 300, out = 300\n",
      "fc3 : in = 300, out = 10\n",
      "Non frozen params in layer 1 : tensor(90000., device='cuda:2')\n",
      "Non frozen params in layer 2 : tensor(3000., device='cuda:2')\n"
     ]
    },
    {
     "name": "stderr",
     "output_type": "stream",
     "text": [
      " 11%|█         | 1/9 [00:06<00:50,  6.26s/it]"
     ]
    },
    {
     "name": "stdout",
     "output_type": "stream",
     "text": [
      "In and out sizes :\n",
      "fc1 : in = 784, out = 300\n",
      "fc2 : in = 300, out = 300\n",
      "fc3 : in = 300, out = 10\n",
      "Non frozen params in layer 1 : tensor(90000., device='cuda:2')\n",
      "Non frozen params in layer 2 : tensor(3000., device='cuda:2')\n"
     ]
    },
    {
     "name": "stderr",
     "output_type": "stream",
     "text": [
      " 22%|██▏       | 2/9 [00:12<00:43,  6.24s/it]"
     ]
    },
    {
     "name": "stdout",
     "output_type": "stream",
     "text": [
      "In and out sizes :\n",
      "fc1 : in = 784, out = 300\n",
      "fc2 : in = 300, out = 300\n",
      "fc3 : in = 300, out = 10\n",
      "Non frozen params in layer 1 : tensor(90000., device='cuda:2')\n",
      "Non frozen params in layer 2 : tensor(3000., device='cuda:2')\n"
     ]
    },
    {
     "name": "stderr",
     "output_type": "stream",
     "text": [
      " 33%|███▎      | 3/9 [00:18<00:37,  6.24s/it]"
     ]
    },
    {
     "name": "stdout",
     "output_type": "stream",
     "text": [
      "In and out sizes :\n",
      "fc1 : in = 784, out = 300\n",
      "fc2 : in = 300, out = 300\n",
      "fc3 : in = 300, out = 10\n",
      "Non frozen params in layer 1 : tensor(90000., device='cuda:2')\n",
      "Non frozen params in layer 2 : tensor(3000., device='cuda:2')\n"
     ]
    },
    {
     "name": "stderr",
     "output_type": "stream",
     "text": [
      " 44%|████▍     | 4/9 [00:25<00:31,  6.27s/it]"
     ]
    },
    {
     "name": "stdout",
     "output_type": "stream",
     "text": [
      "In and out sizes :\n",
      "fc1 : in = 784, out = 300\n",
      "fc2 : in = 300, out = 300\n",
      "fc3 : in = 300, out = 10\n",
      "Non frozen params in layer 1 : tensor(90000., device='cuda:2')\n",
      "Non frozen params in layer 2 : tensor(3000., device='cuda:2')\n"
     ]
    },
    {
     "name": "stderr",
     "output_type": "stream",
     "text": [
      " 56%|█████▌    | 5/9 [00:31<00:25,  6.27s/it]"
     ]
    },
    {
     "name": "stdout",
     "output_type": "stream",
     "text": [
      "In and out sizes :\n",
      "fc1 : in = 784, out = 300\n",
      "fc2 : in = 300, out = 300\n",
      "fc3 : in = 300, out = 10\n",
      "Non frozen params in layer 1 : tensor(90000., device='cuda:2')\n",
      "Non frozen params in layer 2 : tensor(3000., device='cuda:2')\n"
     ]
    },
    {
     "name": "stderr",
     "output_type": "stream",
     "text": [
      " 56%|█████▌    | 5/9 [00:34<00:27,  7.00s/it]\n"
     ]
    },
    {
     "ename": "KeyboardInterrupt",
     "evalue": "",
     "output_type": "error",
     "traceback": [
      "\u001b[0;31m---------------------------------------------------------------------------\u001b[0m",
      "\u001b[0;31mKeyboardInterrupt\u001b[0m                         Traceback (most recent call last)",
      "Cell \u001b[0;32mIn[12], line 1\u001b[0m\n\u001b[0;32m----> 1\u001b[0m val_accs_matrix \u001b[38;5;241m=\u001b[39m \u001b[43mvalidate\u001b[49m\u001b[43m(\u001b[49m\u001b[43mHPO_settings\u001b[49m\u001b[43m,\u001b[49m\u001b[43m \u001b[49m\u001b[43mbenchmarks_list\u001b[49m\u001b[43m,\u001b[49m\u001b[43m \u001b[49m\u001b[43mbenchmark_settings\u001b[49m\u001b[43m,\u001b[49m\u001b[43m \u001b[49m\u001b[43mmethod_settings\u001b[49m\u001b[43m,\u001b[49m\u001b[43m \u001b[49m\u001b[43mbest_params_list\u001b[49m\u001b[43m,\u001b[49m\u001b[43m \u001b[49m\u001b[43mdevice\u001b[49m\u001b[43m,\u001b[49m\u001b[43m \u001b[49m\u001b[43mglobal_seed\u001b[49m\u001b[43m)\u001b[49m\n",
      "File \u001b[0;32m~/Master-Thesis-1/Workspace/Core work/HPO_lib/validation.py:7\u001b[0m, in \u001b[0;36mvalidate\u001b[0;34m(HPO_settings, benchmarks_list, benchmark_settings, method_settings, best_params_list, device, global_seed)\u001b[0m\n\u001b[1;32m      5\u001b[0m \u001b[38;5;28;01mdef\u001b[39;00m \u001b[38;5;21mvalidate\u001b[39m(HPO_settings, benchmarks_list, benchmark_settings, method_settings, best_params_list, device, global_seed) :\n\u001b[1;32m      6\u001b[0m     \u001b[38;5;28;01mif\u001b[39;00m HPO_settings[\u001b[38;5;124m\"\u001b[39m\u001b[38;5;124mHPO_name\u001b[39m\u001b[38;5;124m\"\u001b[39m] \u001b[38;5;241m==\u001b[39m \u001b[38;5;124m\"\u001b[39m\u001b[38;5;124mgreedy_HPO\u001b[39m\u001b[38;5;124m\"\u001b[39m :\n\u001b[0;32m----> 7\u001b[0m         \u001b[38;5;28;01mreturn\u001b[39;00m \u001b[43mgreedy_validate\u001b[49m\u001b[43m(\u001b[49m\u001b[43mbenchmarks_list\u001b[49m\u001b[43m,\u001b[49m\u001b[43m \u001b[49m\u001b[43mbenchmark_settings\u001b[49m\u001b[43m,\u001b[49m\u001b[43m \u001b[49m\u001b[43mmethod_settings\u001b[49m\u001b[43m,\u001b[49m\u001b[43m \u001b[49m\u001b[43mbest_params_list\u001b[49m\u001b[43m,\u001b[49m\u001b[43m \u001b[49m\u001b[43mdevice\u001b[49m\u001b[43m,\u001b[49m\u001b[43m \u001b[49m\u001b[43mglobal_seed\u001b[49m\u001b[43m)\u001b[49m\n\u001b[1;32m      8\u001b[0m     \u001b[38;5;28;01mif\u001b[39;00m HPO_settings[\u001b[38;5;124m\"\u001b[39m\u001b[38;5;124mHPO_name\u001b[39m\u001b[38;5;124m\"\u001b[39m] \u001b[38;5;241m==\u001b[39m \u001b[38;5;124m\"\u001b[39m\u001b[38;5;124mcheated_HPO\u001b[39m\u001b[38;5;124m\"\u001b[39m :\n\u001b[1;32m      9\u001b[0m         \u001b[38;5;28;01mreturn\u001b[39;00m cheated_validate(benchmarks_list, benchmark_settings, method_settings, best_params_list, device, global_seed)\n",
      "File \u001b[0;32m~/Master-Thesis-1/Workspace/Core work/HPO_lib/validations/greedy_validation.py:112\u001b[0m, in \u001b[0;36mgreedy_validate\u001b[0;34m(benchmarks_list, benchmark_settings, method_settings, best_params_list, device, global_seed)\u001b[0m\n\u001b[1;32m    110\u001b[0m \u001b[38;5;66;03m# Train model with best params obtained through HPO on benchmark 0\u001b[39;00m\n\u001b[1;32m    111\u001b[0m benchmark \u001b[38;5;241m=\u001b[39m benchmarks_list[i]\n\u001b[0;32m--> 112\u001b[0m benchmark_model \u001b[38;5;241m=\u001b[39m \u001b[43mtrain_with_best_params\u001b[49m\u001b[43m(\u001b[49m\u001b[43mmethod_settings\u001b[49m\u001b[43m,\u001b[49m\u001b[43m \u001b[49m\u001b[43mbenchmark_settings\u001b[49m\u001b[43m,\u001b[49m\u001b[43m \u001b[49m\u001b[43mbest_params_list\u001b[49m\u001b[43m,\u001b[49m\u001b[43m \u001b[49m\u001b[43mbenchmark\u001b[49m\u001b[43m,\u001b[49m\u001b[43m \u001b[49m\u001b[43mnum_tasks\u001b[49m\u001b[43m,\u001b[49m\u001b[43m \u001b[49m\u001b[43mdevice\u001b[49m\u001b[43m,\u001b[49m\u001b[43m \u001b[49m\u001b[43mglobal_seed\u001b[49m\u001b[38;5;241;43m+\u001b[39;49m\u001b[38;5;241;43m1\u001b[39;49m\u001b[43m)\u001b[49m\n\u001b[1;32m    114\u001b[0m \u001b[38;5;66;03m# Test on each task\u001b[39;00m\n\u001b[1;32m    115\u001b[0m test_loaders_list \u001b[38;5;241m=\u001b[39m benchmarks_list[i][\u001b[38;5;241m2\u001b[39m]\n",
      "File \u001b[0;32m~/Master-Thesis-1/Workspace/Core work/HPO_lib/validations/greedy_validation.py:90\u001b[0m, in \u001b[0;36mtrain_with_best_params\u001b[0;34m(method_settings, benchmark_settings, best_params_list, benchmark, num_tasks, device, global_seed)\u001b[0m\n\u001b[1;32m     88\u001b[0m     \u001b[38;5;28;01mif\u001b[39;00m method_settings[\u001b[38;5;124m\"\u001b[39m\u001b[38;5;124mmethod_name\u001b[39m\u001b[38;5;124m\"\u001b[39m] \u001b[38;5;129;01min\u001b[39;00m [\u001b[38;5;124m\"\u001b[39m\u001b[38;5;124mLwF\u001b[39m\u001b[38;5;124m\"\u001b[39m] :\n\u001b[1;32m     89\u001b[0m         params \u001b[38;5;241m=\u001b[39m {\u001b[38;5;124m\"\u001b[39m\u001b[38;5;124mbatch_size\u001b[39m\u001b[38;5;124m\"\u001b[39m : benchmark_settings[\u001b[38;5;124m\"\u001b[39m\u001b[38;5;124mbatch_size\u001b[39m\u001b[38;5;124m\"\u001b[39m]}\n\u001b[0;32m---> 90\u001b[0m     output \u001b[38;5;241m=\u001b[39m \u001b[43mretrain_one_task\u001b[49m\u001b[43m(\u001b[49m\u001b[43mbenchmark_model\u001b[49m\u001b[43m,\u001b[49m\u001b[43m \u001b[49m\u001b[43mparams\u001b[49m\u001b[43m,\u001b[49m\u001b[43m \u001b[49m\u001b[43mmethod_settings\u001b[49m\u001b[43m,\u001b[49m\u001b[43m \u001b[49m\u001b[43mbest_params_list\u001b[49m\u001b[43m[\u001b[49m\u001b[43mtask_number\u001b[49m\u001b[43m]\u001b[49m\u001b[43m,\u001b[49m\u001b[43m \u001b[49m\u001b[43mtrain_loader\u001b[49m\u001b[43m,\u001b[49m\u001b[43m \u001b[49m\u001b[43mdevice\u001b[49m\u001b[43m,\u001b[49m\u001b[43m \u001b[49m\u001b[43mglobal_seed\u001b[49m\u001b[43m)\u001b[49m \n\u001b[1;32m     92\u001b[0m \u001b[38;5;28;01mreturn\u001b[39;00m benchmark_model\n",
      "File \u001b[0;32m~/Master-Thesis-1/Workspace/Core work/HPO_lib/validations/greedy_validation.py:47\u001b[0m, in \u001b[0;36mretrain_one_task\u001b[0;34m(model, params, method_settings, best_params, train_loader, device, global_seed)\u001b[0m\n\u001b[1;32m     45\u001b[0m \u001b[38;5;66;03m# Train\u001b[39;00m\n\u001b[1;32m     46\u001b[0m \u001b[38;5;28;01mif\u001b[39;00m method_settings[\u001b[38;5;124m\"\u001b[39m\u001b[38;5;124mmethod_name\u001b[39m\u001b[38;5;124m\"\u001b[39m] \u001b[38;5;129;01min\u001b[39;00m [\u001b[38;5;124m\"\u001b[39m\u001b[38;5;124mGroHess\u001b[39m\u001b[38;5;124m\"\u001b[39m, \u001b[38;5;124m\"\u001b[39m\u001b[38;5;124mGroHess_without_growing\u001b[39m\u001b[38;5;124m\"\u001b[39m] :\n\u001b[0;32m---> 47\u001b[0m     diag_hessians, overall_masks, _, _ \u001b[38;5;241m=\u001b[39m \u001b[43mtrain\u001b[49m\u001b[43m(\u001b[49m\u001b[43mmodel\u001b[49m\u001b[43m,\u001b[49m\u001b[43m \u001b[49m\u001b[43mmethod_settings\u001b[49m\u001b[43m,\u001b[49m\u001b[43m \u001b[49m\u001b[43mparams\u001b[49m\u001b[43m,\u001b[49m\u001b[43m \u001b[49m\u001b[43mbest_HPs\u001b[49m\u001b[43m,\u001b[49m\u001b[43m \u001b[49m\u001b[43mtrain_loader\u001b[49m\u001b[43m,\u001b[49m\u001b[43m \u001b[49m\u001b[43mdevice\u001b[49m\u001b[43m,\u001b[49m\u001b[43m \u001b[49m\u001b[43mglobal_seed\u001b[49m\u001b[43m,\u001b[49m\u001b[43m \u001b[49m\u001b[43mverbose\u001b[49m\u001b[38;5;241;43m=\u001b[39;49m\u001b[38;5;241;43m2\u001b[39;49m\u001b[43m)\u001b[49m\n\u001b[1;32m     48\u001b[0m     \u001b[38;5;28;01mreturn\u001b[39;00m diag_hessians, overall_masks\n\u001b[1;32m     49\u001b[0m \u001b[38;5;28;01melif\u001b[39;00m method_settings[\u001b[38;5;124m\"\u001b[39m\u001b[38;5;124mmethod_name\u001b[39m\u001b[38;5;124m\"\u001b[39m] \u001b[38;5;241m==\u001b[39m \u001b[38;5;124m\"\u001b[39m\u001b[38;5;124mEWC\u001b[39m\u001b[38;5;124m\"\u001b[39m :\n",
      "File \u001b[0;32m~/Master-Thesis-1/Workspace/Core work/Methods/GroHess/lib/method.py:58\u001b[0m, in \u001b[0;36mtrain\u001b[0;34m(model, method_settings, params, HPs, train_loader, device, global_seed, verbose)\u001b[0m\n\u001b[1;32m     55\u001b[0m     \u001b[38;5;28mprint\u001b[39m(\u001b[38;5;124m\"\u001b[39m\u001b[38;5;124mOne or more of the required HPs to train the model are missing. Please check the HPs.\u001b[39m\u001b[38;5;124m\"\u001b[39m)\n\u001b[1;32m     57\u001b[0m \u001b[38;5;66;03m# Train\u001b[39;00m\n\u001b[0;32m---> 58\u001b[0m diag_hessians, overall_masks, loss_hist, growth_indices \u001b[38;5;241m=\u001b[39m \u001b[43mtrain_model\u001b[49m\u001b[43m(\u001b[49m\u001b[43mmodel\u001b[49m\u001b[43m,\u001b[49m\u001b[43m \u001b[49m\u001b[43mgrow_from\u001b[49m\u001b[43m,\u001b[49m\u001b[43m \u001b[49m\u001b[43mdiag_hessians\u001b[49m\u001b[43m,\u001b[49m\u001b[43m \u001b[49m\u001b[43moverall_masks\u001b[49m\u001b[43m,\u001b[49m\u001b[43m \u001b[49m\u001b[43mis_first_task\u001b[49m\u001b[43m,\u001b[49m\n\u001b[1;32m     59\u001b[0m \u001b[43m                  \u001b[49m\u001b[43mloss_name\u001b[49m\u001b[43m,\u001b[49m\u001b[43m \u001b[49m\u001b[43moptimizer_name\u001b[49m\u001b[43m,\u001b[49m\u001b[43m \u001b[49m\u001b[43mlr\u001b[49m\u001b[43m,\u001b[49m\u001b[43m \u001b[49m\u001b[43mnum_epochs\u001b[49m\u001b[43m,\u001b[49m\n\u001b[1;32m     60\u001b[0m \u001b[43m                  \u001b[49m\u001b[43mtau\u001b[49m\u001b[43m,\u001b[49m\u001b[43m \u001b[49m\u001b[38;5;66;43;03m#hessian_percentile, grad_percentile,\u001b[39;49;00m\n\u001b[1;32m     61\u001b[0m \u001b[43m                  \u001b[49m\u001b[43mtrain_loader\u001b[49m\u001b[43m,\u001b[49m\n\u001b[1;32m     62\u001b[0m \u001b[43m                  \u001b[49m\u001b[43mdevice\u001b[49m\u001b[43m,\u001b[49m\u001b[43m \u001b[49m\u001b[43mglobal_seed\u001b[49m\u001b[43m,\u001b[49m\u001b[43m \u001b[49m\n\u001b[1;32m     63\u001b[0m \u001b[43m                  \u001b[49m\u001b[43mverbose\u001b[49m\u001b[38;5;241;43m=\u001b[39;49m\u001b[43mverbose\u001b[49m\u001b[43m)\u001b[49m\n\u001b[1;32m     65\u001b[0m \u001b[38;5;28;01mreturn\u001b[39;00m diag_hessians, overall_masks, loss_hist, growth_indices\n",
      "File \u001b[0;32m~/Master-Thesis-1/Workspace/Core work/Methods/GroHess/lib/train.py:167\u001b[0m, in \u001b[0;36mtrain\u001b[0;34m(model, grow_from, diag_hessians, overall_masks, is_first_task, loss_name, optimizer_name, lr, num_epochs, tau, train_loader, device, random_seed, num_classes, verbose)\u001b[0m\n\u001b[1;32m    164\u001b[0m nb_batches \u001b[38;5;241m=\u001b[39m \u001b[38;5;28mlen\u001b[39m(train_batch)\n\u001b[1;32m    166\u001b[0m \u001b[38;5;66;03m# Batch training loop\u001b[39;00m\n\u001b[0;32m--> 167\u001b[0m \u001b[43m\u001b[49m\u001b[38;5;28;43;01mfor\u001b[39;49;00m\u001b[43m \u001b[49m\u001b[43mi\u001b[49m\u001b[43m,\u001b[49m\u001b[43m \u001b[49m\u001b[43m(\u001b[49m\u001b[43mdata\u001b[49m\u001b[43m,\u001b[49m\u001b[43m \u001b[49m\u001b[43mtargets\u001b[49m\u001b[43m)\u001b[49m\u001b[43m \u001b[49m\u001b[38;5;129;43;01min\u001b[39;49;00m\u001b[43m \u001b[49m\u001b[38;5;28;43menumerate\u001b[39;49m\u001b[43m(\u001b[49m\u001b[43mtrain_batch\u001b[49m\u001b[43m)\u001b[49m\u001b[43m:\u001b[49m\n\u001b[1;32m    168\u001b[0m \n\u001b[1;32m    169\u001b[0m \u001b[43m    \u001b[49m\u001b[38;5;66;43;03m# Initialize batch\u001b[39;49;00m\n\u001b[1;32m    170\u001b[0m \u001b[43m    \u001b[49m\u001b[43mdata\u001b[49m\u001b[43m \u001b[49m\u001b[38;5;241;43m=\u001b[39;49m\u001b[43m \u001b[49m\u001b[43mdata\u001b[49m\u001b[38;5;241;43m.\u001b[39;49m\u001b[43mto\u001b[49m\u001b[43m(\u001b[49m\u001b[43mdevice\u001b[49m\u001b[43m)\u001b[49m\n\u001b[1;32m    171\u001b[0m \u001b[43m    \u001b[49m\u001b[43mtargets\u001b[49m\u001b[43m \u001b[49m\u001b[38;5;241;43m=\u001b[39;49m\u001b[43m \u001b[49m\u001b[43mtargets\u001b[49m\u001b[38;5;241;43m.\u001b[39;49m\u001b[43mto\u001b[49m\u001b[43m(\u001b[49m\u001b[43mdevice\u001b[49m\u001b[43m)\u001b[49m\n",
      "File \u001b[0;32m~/miniconda3/envs/.jax_env/lib/python3.12/site-packages/torch/utils/data/dataloader.py:631\u001b[0m, in \u001b[0;36m_BaseDataLoaderIter.__next__\u001b[0;34m(self)\u001b[0m\n\u001b[1;32m    628\u001b[0m \u001b[38;5;28;01mif\u001b[39;00m \u001b[38;5;28mself\u001b[39m\u001b[38;5;241m.\u001b[39m_sampler_iter \u001b[38;5;129;01mis\u001b[39;00m \u001b[38;5;28;01mNone\u001b[39;00m:\n\u001b[1;32m    629\u001b[0m     \u001b[38;5;66;03m# TODO(https://github.com/pytorch/pytorch/issues/76750)\u001b[39;00m\n\u001b[1;32m    630\u001b[0m     \u001b[38;5;28mself\u001b[39m\u001b[38;5;241m.\u001b[39m_reset()  \u001b[38;5;66;03m# type: ignore[call-arg]\u001b[39;00m\n\u001b[0;32m--> 631\u001b[0m data \u001b[38;5;241m=\u001b[39m \u001b[38;5;28;43mself\u001b[39;49m\u001b[38;5;241;43m.\u001b[39;49m\u001b[43m_next_data\u001b[49m\u001b[43m(\u001b[49m\u001b[43m)\u001b[49m\n\u001b[1;32m    632\u001b[0m \u001b[38;5;28mself\u001b[39m\u001b[38;5;241m.\u001b[39m_num_yielded \u001b[38;5;241m+\u001b[39m\u001b[38;5;241m=\u001b[39m \u001b[38;5;241m1\u001b[39m\n\u001b[1;32m    633\u001b[0m \u001b[38;5;28;01mif\u001b[39;00m \u001b[38;5;28mself\u001b[39m\u001b[38;5;241m.\u001b[39m_dataset_kind \u001b[38;5;241m==\u001b[39m _DatasetKind\u001b[38;5;241m.\u001b[39mIterable \u001b[38;5;129;01mand\u001b[39;00m \\\n\u001b[1;32m    634\u001b[0m         \u001b[38;5;28mself\u001b[39m\u001b[38;5;241m.\u001b[39m_IterableDataset_len_called \u001b[38;5;129;01mis\u001b[39;00m \u001b[38;5;129;01mnot\u001b[39;00m \u001b[38;5;28;01mNone\u001b[39;00m \u001b[38;5;129;01mand\u001b[39;00m \\\n\u001b[1;32m    635\u001b[0m         \u001b[38;5;28mself\u001b[39m\u001b[38;5;241m.\u001b[39m_num_yielded \u001b[38;5;241m>\u001b[39m \u001b[38;5;28mself\u001b[39m\u001b[38;5;241m.\u001b[39m_IterableDataset_len_called:\n",
      "File \u001b[0;32m~/miniconda3/envs/.jax_env/lib/python3.12/site-packages/torch/utils/data/dataloader.py:675\u001b[0m, in \u001b[0;36m_SingleProcessDataLoaderIter._next_data\u001b[0;34m(self)\u001b[0m\n\u001b[1;32m    673\u001b[0m \u001b[38;5;28;01mdef\u001b[39;00m \u001b[38;5;21m_next_data\u001b[39m(\u001b[38;5;28mself\u001b[39m):\n\u001b[1;32m    674\u001b[0m     index \u001b[38;5;241m=\u001b[39m \u001b[38;5;28mself\u001b[39m\u001b[38;5;241m.\u001b[39m_next_index()  \u001b[38;5;66;03m# may raise StopIteration\u001b[39;00m\n\u001b[0;32m--> 675\u001b[0m     data \u001b[38;5;241m=\u001b[39m \u001b[38;5;28;43mself\u001b[39;49m\u001b[38;5;241;43m.\u001b[39;49m\u001b[43m_dataset_fetcher\u001b[49m\u001b[38;5;241;43m.\u001b[39;49m\u001b[43mfetch\u001b[49m\u001b[43m(\u001b[49m\u001b[43mindex\u001b[49m\u001b[43m)\u001b[49m  \u001b[38;5;66;03m# may raise StopIteration\u001b[39;00m\n\u001b[1;32m    676\u001b[0m     \u001b[38;5;28;01mif\u001b[39;00m \u001b[38;5;28mself\u001b[39m\u001b[38;5;241m.\u001b[39m_pin_memory:\n\u001b[1;32m    677\u001b[0m         data \u001b[38;5;241m=\u001b[39m _utils\u001b[38;5;241m.\u001b[39mpin_memory\u001b[38;5;241m.\u001b[39mpin_memory(data, \u001b[38;5;28mself\u001b[39m\u001b[38;5;241m.\u001b[39m_pin_memory_device)\n",
      "File \u001b[0;32m~/miniconda3/envs/.jax_env/lib/python3.12/site-packages/torch/utils/data/_utils/fetch.py:49\u001b[0m, in \u001b[0;36m_MapDatasetFetcher.fetch\u001b[0;34m(self, possibly_batched_index)\u001b[0m\n\u001b[1;32m     47\u001b[0m \u001b[38;5;28;01mif\u001b[39;00m \u001b[38;5;28mself\u001b[39m\u001b[38;5;241m.\u001b[39mauto_collation:\n\u001b[1;32m     48\u001b[0m     \u001b[38;5;28;01mif\u001b[39;00m \u001b[38;5;28mhasattr\u001b[39m(\u001b[38;5;28mself\u001b[39m\u001b[38;5;241m.\u001b[39mdataset, \u001b[38;5;124m\"\u001b[39m\u001b[38;5;124m__getitems__\u001b[39m\u001b[38;5;124m\"\u001b[39m) \u001b[38;5;129;01mand\u001b[39;00m \u001b[38;5;28mself\u001b[39m\u001b[38;5;241m.\u001b[39mdataset\u001b[38;5;241m.\u001b[39m__getitems__:\n\u001b[0;32m---> 49\u001b[0m         data \u001b[38;5;241m=\u001b[39m \u001b[38;5;28;43mself\u001b[39;49m\u001b[38;5;241;43m.\u001b[39;49m\u001b[43mdataset\u001b[49m\u001b[38;5;241;43m.\u001b[39;49m\u001b[43m__getitems__\u001b[49m\u001b[43m(\u001b[49m\u001b[43mpossibly_batched_index\u001b[49m\u001b[43m)\u001b[49m\n\u001b[1;32m     50\u001b[0m     \u001b[38;5;28;01melse\u001b[39;00m:\n\u001b[1;32m     51\u001b[0m         data \u001b[38;5;241m=\u001b[39m [\u001b[38;5;28mself\u001b[39m\u001b[38;5;241m.\u001b[39mdataset[idx] \u001b[38;5;28;01mfor\u001b[39;00m idx \u001b[38;5;129;01min\u001b[39;00m possibly_batched_index]\n",
      "File \u001b[0;32m~/miniconda3/envs/.jax_env/lib/python3.12/site-packages/torch/utils/data/dataset.py:397\u001b[0m, in \u001b[0;36mSubset.__getitems__\u001b[0;34m(self, indices)\u001b[0m\n\u001b[1;32m    393\u001b[0m \u001b[38;5;28;01mdef\u001b[39;00m \u001b[38;5;21m__getitems__\u001b[39m(\u001b[38;5;28mself\u001b[39m, indices: List[\u001b[38;5;28mint\u001b[39m]) \u001b[38;5;241m-\u001b[39m\u001b[38;5;241m>\u001b[39m List[T_co]:\n\u001b[1;32m    394\u001b[0m     \u001b[38;5;66;03m# add batched sampling support when parent dataset supports it.\u001b[39;00m\n\u001b[1;32m    395\u001b[0m     \u001b[38;5;66;03m# see torch.utils.data._utils.fetch._MapDatasetFetcher\u001b[39;00m\n\u001b[1;32m    396\u001b[0m     \u001b[38;5;28;01mif\u001b[39;00m \u001b[38;5;28mcallable\u001b[39m(\u001b[38;5;28mgetattr\u001b[39m(\u001b[38;5;28mself\u001b[39m\u001b[38;5;241m.\u001b[39mdataset, \u001b[38;5;124m\"\u001b[39m\u001b[38;5;124m__getitems__\u001b[39m\u001b[38;5;124m\"\u001b[39m, \u001b[38;5;28;01mNone\u001b[39;00m)):\n\u001b[0;32m--> 397\u001b[0m         \u001b[38;5;28;01mreturn\u001b[39;00m \u001b[38;5;28;43mself\u001b[39;49m\u001b[38;5;241;43m.\u001b[39;49m\u001b[43mdataset\u001b[49m\u001b[38;5;241;43m.\u001b[39;49m\u001b[43m__getitems__\u001b[49m\u001b[43m(\u001b[49m\u001b[43m[\u001b[49m\u001b[38;5;28;43mself\u001b[39;49m\u001b[38;5;241;43m.\u001b[39;49m\u001b[43mindices\u001b[49m\u001b[43m[\u001b[49m\u001b[43midx\u001b[49m\u001b[43m]\u001b[49m\u001b[43m \u001b[49m\u001b[38;5;28;43;01mfor\u001b[39;49;00m\u001b[43m \u001b[49m\u001b[43midx\u001b[49m\u001b[43m \u001b[49m\u001b[38;5;129;43;01min\u001b[39;49;00m\u001b[43m \u001b[49m\u001b[43mindices\u001b[49m\u001b[43m]\u001b[49m\u001b[43m)\u001b[49m  \u001b[38;5;66;03m# type: ignore[attr-defined]\u001b[39;00m\n\u001b[1;32m    398\u001b[0m     \u001b[38;5;28;01melse\u001b[39;00m:\n\u001b[1;32m    399\u001b[0m         \u001b[38;5;28;01mreturn\u001b[39;00m [\u001b[38;5;28mself\u001b[39m\u001b[38;5;241m.\u001b[39mdataset[\u001b[38;5;28mself\u001b[39m\u001b[38;5;241m.\u001b[39mindices[idx]] \u001b[38;5;28;01mfor\u001b[39;00m idx \u001b[38;5;129;01min\u001b[39;00m indices]\n",
      "File \u001b[0;32m~/miniconda3/envs/.jax_env/lib/python3.12/site-packages/torch/utils/data/dataset.py:399\u001b[0m, in \u001b[0;36mSubset.__getitems__\u001b[0;34m(self, indices)\u001b[0m\n\u001b[1;32m    397\u001b[0m     \u001b[38;5;28;01mreturn\u001b[39;00m \u001b[38;5;28mself\u001b[39m\u001b[38;5;241m.\u001b[39mdataset\u001b[38;5;241m.\u001b[39m__getitems__([\u001b[38;5;28mself\u001b[39m\u001b[38;5;241m.\u001b[39mindices[idx] \u001b[38;5;28;01mfor\u001b[39;00m idx \u001b[38;5;129;01min\u001b[39;00m indices])  \u001b[38;5;66;03m# type: ignore[attr-defined]\u001b[39;00m\n\u001b[1;32m    398\u001b[0m \u001b[38;5;28;01melse\u001b[39;00m:\n\u001b[0;32m--> 399\u001b[0m     \u001b[38;5;28;01mreturn\u001b[39;00m [\u001b[38;5;28;43mself\u001b[39;49m\u001b[38;5;241;43m.\u001b[39;49m\u001b[43mdataset\u001b[49m\u001b[43m[\u001b[49m\u001b[38;5;28;43mself\u001b[39;49m\u001b[38;5;241;43m.\u001b[39;49m\u001b[43mindices\u001b[49m\u001b[43m[\u001b[49m\u001b[43midx\u001b[49m\u001b[43m]\u001b[49m\u001b[43m]\u001b[49m \u001b[38;5;28;01mfor\u001b[39;00m idx \u001b[38;5;129;01min\u001b[39;00m indices]\n",
      "File \u001b[0;32m~/miniconda3/envs/.jax_env/lib/python3.12/site-packages/torchvision/datasets/mnist.py:142\u001b[0m, in \u001b[0;36mMNIST.__getitem__\u001b[0;34m(self, index)\u001b[0m\n\u001b[1;32m    138\u001b[0m img, target \u001b[38;5;241m=\u001b[39m \u001b[38;5;28mself\u001b[39m\u001b[38;5;241m.\u001b[39mdata[index], \u001b[38;5;28mint\u001b[39m(\u001b[38;5;28mself\u001b[39m\u001b[38;5;241m.\u001b[39mtargets[index])\n\u001b[1;32m    140\u001b[0m \u001b[38;5;66;03m# doing this so that it is consistent with all other datasets\u001b[39;00m\n\u001b[1;32m    141\u001b[0m \u001b[38;5;66;03m# to return a PIL Image\u001b[39;00m\n\u001b[0;32m--> 142\u001b[0m img \u001b[38;5;241m=\u001b[39m \u001b[43mImage\u001b[49m\u001b[38;5;241;43m.\u001b[39;49m\u001b[43mfromarray\u001b[49m\u001b[43m(\u001b[49m\u001b[43mimg\u001b[49m\u001b[38;5;241;43m.\u001b[39;49m\u001b[43mnumpy\u001b[49m\u001b[43m(\u001b[49m\u001b[43m)\u001b[49m\u001b[43m,\u001b[49m\u001b[43m \u001b[49m\u001b[43mmode\u001b[49m\u001b[38;5;241;43m=\u001b[39;49m\u001b[38;5;124;43m\"\u001b[39;49m\u001b[38;5;124;43mL\u001b[39;49m\u001b[38;5;124;43m\"\u001b[39;49m\u001b[43m)\u001b[49m\n\u001b[1;32m    144\u001b[0m \u001b[38;5;28;01mif\u001b[39;00m \u001b[38;5;28mself\u001b[39m\u001b[38;5;241m.\u001b[39mtransform \u001b[38;5;129;01mis\u001b[39;00m \u001b[38;5;129;01mnot\u001b[39;00m \u001b[38;5;28;01mNone\u001b[39;00m:\n\u001b[1;32m    145\u001b[0m     img \u001b[38;5;241m=\u001b[39m \u001b[38;5;28mself\u001b[39m\u001b[38;5;241m.\u001b[39mtransform(img)\n",
      "File \u001b[0;32m~/miniconda3/envs/.jax_env/lib/python3.12/site-packages/PIL/Image.py:3122\u001b[0m, in \u001b[0;36mfromarray\u001b[0;34m(obj, mode)\u001b[0m\n\u001b[1;32m   3120\u001b[0m shape \u001b[38;5;241m=\u001b[39m arr[\u001b[38;5;124m\"\u001b[39m\u001b[38;5;124mshape\u001b[39m\u001b[38;5;124m\"\u001b[39m]\n\u001b[1;32m   3121\u001b[0m ndim \u001b[38;5;241m=\u001b[39m \u001b[38;5;28mlen\u001b[39m(shape)\n\u001b[0;32m-> 3122\u001b[0m strides \u001b[38;5;241m=\u001b[39m \u001b[43marr\u001b[49m\u001b[38;5;241;43m.\u001b[39;49m\u001b[43mget\u001b[49m\u001b[43m(\u001b[49m\u001b[38;5;124;43m\"\u001b[39;49m\u001b[38;5;124;43mstrides\u001b[39;49m\u001b[38;5;124;43m\"\u001b[39;49m\u001b[43m,\u001b[49m\u001b[43m \u001b[49m\u001b[38;5;28;43;01mNone\u001b[39;49;00m\u001b[43m)\u001b[49m\n\u001b[1;32m   3123\u001b[0m \u001b[38;5;28;01mif\u001b[39;00m mode \u001b[38;5;129;01mis\u001b[39;00m \u001b[38;5;28;01mNone\u001b[39;00m:\n\u001b[1;32m   3124\u001b[0m     \u001b[38;5;28;01mtry\u001b[39;00m:\n",
      "\u001b[0;31mKeyboardInterrupt\u001b[0m: "
     ]
    }
   ],
   "source": [
    "val_accs_matrix = validate(HPO_settings, benchmarks_list, benchmark_settings, method_settings, best_params_list, device, global_seed)"
   ]
  },
  {
   "cell_type": "markdown",
   "metadata": {},
   "source": [
    "## Visualize validation"
   ]
  },
  {
   "cell_type": "code",
   "execution_count": null,
   "metadata": {},
   "outputs": [
    {
     "data": {
      "image/png": "[encoded data removed]",
      "text/plain": [
       "<Figure size 600x500 with 2 Axes>"
      ]
     },
     "metadata": {},
     "output_type": "display_data"
    },
    {
     "data": {
      "image/png": "[encoded data removed]",
      "text/plain": [
       "<Figure size 800x500 with 2 Axes>"
      ]
     },
     "metadata": {},
     "output_type": "display_data"
    }
   ],
   "source": [
    "visualize_validation(val_accs_matrix, test_accs_matrix, visualization_settings, HPO_settings, method_settings, benchmark_settings)"
   ]
  },
  {
   "cell_type": "markdown",
   "metadata": {},
   "source": [
    "## Save results matrices"
   ]
  },
  {
   "cell_type": "code",
   "execution_count": null,
   "metadata": {},
   "outputs": [],
   "source": [
    "save(test_accs_matrix, best_params_list, val_accs_matrix, HPO_settings, method_settings, benchmark_settings, save_results)"
   ]
  }
 ],
 "metadata": {
  "kernelspec": {
   "display_name": ".jax_env",
   "language": "python",
   "name": "python3"
  },
  "language_info": {
   "codemirror_mode": {
    "name": "ipython",
    "version": 3
   },
   "file_extension": ".py",
   "mimetype": "text/x-python",
   "name": "python",
   "nbconvert_exporter": "python",
   "pygments_lexer": "ipython3",
   "version": "3.12.2"
  }
 },
 "nbformat": 4,
 "nbformat_minor": 2
}
