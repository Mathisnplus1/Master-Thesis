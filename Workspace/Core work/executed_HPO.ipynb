{
 "cells": [
  {
   "cell_type": "code",
   "execution_count": 1,
   "id": "8b842adb",
   "metadata": {
    "execution": {
     "iopub.execute_input": "2024-08-14T21:24:56.738813Z",
     "iopub.status.busy": "2024-08-14T21:24:56.738543Z",
     "iopub.status.idle": "2024-08-14T21:24:56.743930Z",
     "shell.execute_reply": "2024-08-14T21:24:56.743294Z"
    },
    "papermill": {
     "duration": 0.012291,
     "end_time": "2024-08-14T21:24:56.745598",
     "exception": false,
     "start_time": "2024-08-14T21:24:56.733307",
     "status": "completed"
    },
    "tags": [
     "injected-parameters"
    ]
   },
   "outputs": [],
   "source": [
    "# Parameters\n",
    "global_seed = 88\n",
    "save_results = True\n",
    "benchmark_settings = {\"benchmark_name\": \"pMNIST_via_avalanche\", \"difficulty\": \"standard\", \"num_tasks\": 10, \"train_percentage\": 0.8, \"num_val_benchmarks\": 10, \"batch_size\": 64}\n",
    "method_settings = {\"method_name\": \"EWC\", \"grow_from\": \"output\", \"num_inputs\": 784, \"num_hidden_root\": 1000, \"num_outputs\": 10, \"loss_name\": \"CE\", \"optimizer_name\": \"Adam\"}\n",
    "HPO_settings = {\"HPO_name\": \"greedy_HPO\", \"n_trials\": 20, \"lr\": [1e-05, 0.002], \"num_epochs\": [2, 10], \"ewc_lambda\": [50, 5000]}\n"
   ]
  },
  {
   "cell_type": "code",
   "execution_count": 2,
   "id": "f8f1d5f5",
   "metadata": {
    "execution": {
     "iopub.execute_input": "2024-08-14T21:24:56.753691Z",
     "iopub.status.busy": "2024-08-14T21:24:56.753447Z",
     "iopub.status.idle": "2024-08-14T21:24:56.756539Z",
     "shell.execute_reply": "2024-08-14T21:24:56.756018Z"
    },
    "papermill": {
     "duration": 0.008701,
     "end_time": "2024-08-14T21:24:56.757957",
     "exception": false,
     "start_time": "2024-08-14T21:24:56.749256",
     "status": "completed"
    },
    "tags": []
   },
   "outputs": [],
   "source": [
    "# Comment the following cell if running through the command :\n",
    "# papermill runnable_HPO.ipynb executed_HPO.ipynb -f params_for_HPO.yaml --kernel jupyter.jax_env"
   ]
  },
  {
   "cell_type": "markdown",
   "id": "1e0f6e54",
   "metadata": {
    "papermill": {
     "duration": 0.003466,
     "end_time": "2024-08-14T21:24:56.764905",
     "exception": false,
     "start_time": "2024-08-14T21:24:56.761439",
     "status": "completed"
    },
    "tags": []
   },
   "source": [
    "global_seed = 88\n",
    "save_results = False\n",
    "# Parameters specfific to the benchmark\n",
    "benchmark_settings = {\"benchmark_name\" : \"pMNIST_via_avalanche\",\n",
    "                      \"difficulty\" : \"standard\",\n",
    "                      \"num_tasks\" : 10,\n",
    "                      \"train_percentage\" : 0.2,\n",
    "                      \"num_val_benchmarks\" : 1,\n",
    "                      \"batch_size\" : 128}\n",
    "\n",
    "# Parameters specific to the method\n",
    "method_settings = {\"method_name\" : \"EWC\",\n",
    "                   \"grow_from\" : \"output\",\n",
    "                   #\"hessian_percentile\" : 95,\n",
    "                   #\"grad_percentile\" : 95,\n",
    "                   \"num_inputs\" : 28*28,\n",
    "                   \"num_hidden_root\" : 300,\n",
    "                   \"num_outputs\" : 10,\n",
    "                   \"loss_name\" : \"CE\",\n",
    "                   \"optimizer_name\" : \"Adam\"}\n",
    "\n",
    "# Parameters specific to HPO\n",
    "HPO_settings = {\"HPO_name\" : \"greedy_HPO\",\n",
    "                \"n_trials\" : 1,\n",
    "                \"lr\" : (5e-2, 5e-2),\n",
    "                \"num_epochs\" : (3,3),\n",
    "                #\"tau\" : (0.999, 0.9991),\n",
    "                \"ewc_lambda\" : (200,200)\n",
    "                #\"lwf_alpha\" : (0.1, 0.9),\n",
    "                #\"lwf_temperature\" : (1, 3),\n",
    "                }"
   ]
  },
  {
   "cell_type": "code",
   "execution_count": 3,
   "id": "999f13a2",
   "metadata": {
    "execution": {
     "iopub.execute_input": "2024-08-14T21:24:56.773044Z",
     "iopub.status.busy": "2024-08-14T21:24:56.772521Z",
     "iopub.status.idle": "2024-08-14T21:24:56.775973Z",
     "shell.execute_reply": "2024-08-14T21:24:56.775407Z"
    },
    "papermill": {
     "duration": 0.009047,
     "end_time": "2024-08-14T21:24:56.777411",
     "exception": false,
     "start_time": "2024-08-14T21:24:56.768364",
     "status": "completed"
    },
    "tags": []
   },
   "outputs": [],
   "source": [
    "# Parameters specific to the visualization\n",
    "visualization_settings = {\"savefig\" : False,\n",
    "                          \"visualize_accs_matrix\" : True,\n",
    "                          \"visualize_avg_acc_curve\" : True,\n",
    "                          \"visualize_best_params\" : True,\n",
    "                          \"visualize_val_accs_matrix\" : True,\n",
    "                          \"visualize_accuracy_through_benchmarks\" : True}"
   ]
  },
  {
   "cell_type": "code",
   "execution_count": 4,
   "id": "6642868d",
   "metadata": {
    "execution": {
     "iopub.execute_input": "2024-08-14T21:24:56.785701Z",
     "iopub.status.busy": "2024-08-14T21:24:56.785268Z",
     "iopub.status.idle": "2024-08-14T21:24:56.850931Z",
     "shell.execute_reply": "2024-08-14T21:24:56.850593Z"
    },
    "papermill": {
     "duration": 0.070864,
     "end_time": "2024-08-14T21:24:56.851792",
     "exception": false,
     "start_time": "2024-08-14T21:24:56.780928",
     "status": "completed"
    },
    "tags": []
   },
   "outputs": [],
   "source": [
    "import sys\n",
    "import os\n",
    "import numpy as np\n",
    "import warnings\n",
    "warnings.filterwarnings('ignore')\n",
    "\n",
    "sys.path.append(\"Methods/\" + method_settings[\"method_name\"])\n",
    "sys.path.append(\"HPO_lib\")\n",
    "sys.path.append(\"HPO_lib/benchmark_loaders\")\n",
    "\n",
    "\n",
    "path = os.path.dirname(os.path.abspath(\"__file__\"))\n",
    "data_path = path + \"/data\""
   ]
  },
  {
   "cell_type": "markdown",
   "id": "623edc17",
   "metadata": {
    "papermill": {
     "duration": 0.002402,
     "end_time": "2024-08-14T21:24:56.856830",
     "exception": false,
     "start_time": "2024-08-14T21:24:56.854428",
     "status": "completed"
    },
    "tags": []
   },
   "source": [
    "## Imports"
   ]
  },
  {
   "cell_type": "code",
   "execution_count": 5,
   "id": "2da3e583",
   "metadata": {
    "execution": {
     "iopub.execute_input": "2024-08-14T21:24:56.862641Z",
     "iopub.status.busy": "2024-08-14T21:24:56.862293Z",
     "iopub.status.idle": "2024-08-14T21:24:59.648455Z",
     "shell.execute_reply": "2024-08-14T21:24:59.648049Z"
    },
    "papermill": {
     "duration": 2.790597,
     "end_time": "2024-08-14T21:24:59.649877",
     "exception": false,
     "start_time": "2024-08-14T21:24:56.859280",
     "status": "completed"
    },
    "tags": []
   },
   "outputs": [],
   "source": [
    "from HPO_lib.abstract_torch import get_device\n",
    "from HPO_lib.get_benchmarks import get_benchmarks\n",
    "from HPO_lib.run_HPO import run_HPO\n",
    "from HPO_lib.validation import validate\n",
    "from HPO_lib.visualize import visualize_HPO, visualize_validation\n",
    "from HPO_lib.save_and_load_results import save"
   ]
  },
  {
   "cell_type": "code",
   "execution_count": 6,
   "id": "05306cca",
   "metadata": {
    "execution": {
     "iopub.execute_input": "2024-08-14T21:24:59.661679Z",
     "iopub.status.busy": "2024-08-14T21:24:59.661125Z",
     "iopub.status.idle": "2024-08-14T21:24:59.733986Z",
     "shell.execute_reply": "2024-08-14T21:24:59.733643Z"
    },
    "papermill": {
     "duration": 0.083346,
     "end_time": "2024-08-14T21:24:59.735083",
     "exception": false,
     "start_time": "2024-08-14T21:24:59.651737",
     "status": "completed"
    },
    "tags": []
   },
   "outputs": [],
   "source": [
    "device = get_device(3)"
   ]
  },
  {
   "cell_type": "markdown",
   "id": "d97b6f3b",
   "metadata": {
    "papermill": {
     "duration": 0.001662,
     "end_time": "2024-08-14T21:24:59.738597",
     "exception": false,
     "start_time": "2024-08-14T21:24:59.736935",
     "status": "completed"
    },
    "tags": []
   },
   "source": [
    "## Get benchmarks"
   ]
  },
  {
   "cell_type": "code",
   "execution_count": null,
   "id": "7ecf2736",
   "metadata": {
    "papermill": {
     "duration": null,
     "end_time": null,
     "exception": false,
     "start_time": "2024-08-14T21:24:59.741454",
     "status": "running"
    },
    "tags": []
   },
   "outputs": [],
   "source": [
    "benchmarks_list = get_benchmarks(benchmark_settings, global_seed)"
   ]
  },
  {
   "cell_type": "markdown",
   "id": "6566bca3",
   "metadata": {
    "papermill": {
     "duration": null,
     "end_time": null,
     "exception": null,
     "start_time": null,
     "status": "pending"
    },
    "tags": []
   },
   "source": [
    "## Run HPO"
   ]
  },
  {
   "cell_type": "code",
   "execution_count": null,
   "id": "fd212447",
   "metadata": {
    "papermill": {
     "duration": null,
     "end_time": null,
     "exception": null,
     "start_time": null,
     "status": "pending"
    },
    "tags": []
   },
   "outputs": [],
   "source": [
    "test_accs_matrix, best_params_list = run_HPO(HPO_settings, method_settings, benchmark_settings, benchmarks_list[0], device, global_seed)"
   ]
  },
  {
   "cell_type": "markdown",
   "id": "c631bbca",
   "metadata": {
    "papermill": {
     "duration": null,
     "end_time": null,
     "exception": null,
     "start_time": null,
     "status": "pending"
    },
    "tags": []
   },
   "source": [
    "## Visualize results"
   ]
  },
  {
   "cell_type": "code",
   "execution_count": null,
   "id": "c587f800",
   "metadata": {
    "papermill": {
     "duration": null,
     "end_time": null,
     "exception": null,
     "start_time": null,
     "status": "pending"
    },
    "tags": []
   },
   "outputs": [],
   "source": [
    "visualize_HPO(test_accs_matrix, best_params_list, visualization_settings, HPO_settings, method_settings, benchmark_settings)"
   ]
  },
  {
   "cell_type": "markdown",
   "id": "1b5afeca",
   "metadata": {
    "papermill": {
     "duration": null,
     "end_time": null,
     "exception": null,
     "start_time": null,
     "status": "pending"
    },
    "tags": []
   },
   "source": [
    "## Validate"
   ]
  },
  {
   "cell_type": "code",
   "execution_count": null,
   "id": "d0310b12",
   "metadata": {
    "papermill": {
     "duration": null,
     "end_time": null,
     "exception": null,
     "start_time": null,
     "status": "pending"
    },
    "tags": []
   },
   "outputs": [],
   "source": [
    "print(best_params_list)"
   ]
  },
  {
   "cell_type": "code",
   "execution_count": null,
   "id": "33027081",
   "metadata": {
    "papermill": {
     "duration": null,
     "end_time": null,
     "exception": null,
     "start_time": null,
     "status": "pending"
    },
    "tags": []
   },
   "outputs": [],
   "source": [
    "val_accs_matrix = validate(HPO_settings, benchmarks_list, benchmark_settings, method_settings, best_params_list, device, global_seed)"
   ]
  },
  {
   "cell_type": "markdown",
   "id": "3687407e",
   "metadata": {
    "papermill": {
     "duration": null,
     "end_time": null,
     "exception": null,
     "start_time": null,
     "status": "pending"
    },
    "tags": []
   },
   "source": [
    "## Visualize validation"
   ]
  },
  {
   "cell_type": "code",
   "execution_count": null,
   "id": "0b1a8a58",
   "metadata": {
    "papermill": {
     "duration": null,
     "end_time": null,
     "exception": null,
     "start_time": null,
     "status": "pending"
    },
    "tags": []
   },
   "outputs": [],
   "source": [
    "visualize_validation(val_accs_matrix, test_accs_matrix, visualization_settings, HPO_settings, method_settings, benchmark_settings)"
   ]
  },
  {
   "cell_type": "markdown",
   "id": "9945263d",
   "metadata": {
    "papermill": {
     "duration": null,
     "end_time": null,
     "exception": null,
     "start_time": null,
     "status": "pending"
    },
    "tags": []
   },
   "source": [
    "## Save results matrices"
   ]
  },
  {
   "cell_type": "code",
   "execution_count": null,
   "id": "2806bbad",
   "metadata": {
    "papermill": {
     "duration": null,
     "end_time": null,
     "exception": null,
     "start_time": null,
     "status": "pending"
    },
    "tags": []
   },
   "outputs": [],
   "source": [
    "save(test_accs_matrix, best_params_list, val_accs_matrix, HPO_settings, method_settings, benchmark_settings, save_results)"
   ]
  }
 ],
 "metadata": {
  "kernelspec": {
   "display_name": ".jax_env",
   "language": "python",
   "name": "python3"
  },
  "language_info": {
   "codemirror_mode": {
    "name": "ipython",
    "version": 3
   },
   "file_extension": ".py",
   "mimetype": "text/x-python",
   "name": "python",
   "nbconvert_exporter": "python",
   "pygments_lexer": "ipython3",
   "version": "3.12.2"
  },
  "papermill": {
   "default_parameters": {},
   "duration": null,
   "end_time": null,
   "environment_variables": {},
   "exception": null,
   "input_path": "runnable_HPO.ipynb",
   "output_path": "executed_HPO.ipynb",
   "parameters": {
    "HPO_settings": {
     "HPO_name": "greedy_HPO",
     "ewc_lambda": [
      50,
      5000
     ],
     "lr": [
      1e-05,
      0.002
     ],
     "n_trials": 20,
     "num_epochs": [
      2,
      10
     ]
    },
    "benchmark_settings": {
     "batch_size": 64,
     "benchmark_name": "pMNIST_via_avalanche",
     "difficulty": "standard",
     "num_tasks": 10,
     "num_val_benchmarks": 10,
     "train_percentage": 0.8
    },
    "global_seed": 88,
    "method_settings": {
     "grow_from": "output",
     "loss_name": "CE",
     "method_name": "EWC",
     "num_hidden_root": 1000,
     "num_inputs": 784,
     "num_outputs": 10,
     "optimizer_name": "Adam"
    },
    "save_results": true
   },
   "start_time": "2024-08-14T21:24:55.866486",
   "version": "2.6.0"
  }
 },
 "nbformat": 4,
 "nbformat_minor": 5
}