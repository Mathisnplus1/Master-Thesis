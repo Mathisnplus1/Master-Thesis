{
 "cells": [
  {
   "cell_type": "code",
   "execution_count": 24,
   "id": "3054bb26",
   "metadata": {},
   "outputs": [],
   "source": [
    "from lib.abstract_torch import get_device, get_loss, get_optimizer\n",
    "from lib.dataloader import get_MNIST_loaders, get_FMNIST_loaders, get_CIFAR100_loaders, get_CIFAR10_loaders\n",
    "from lib.model import ANN\n",
    "from lib.train import train\n",
    "from lib.test import test\n",
    "from lib.growth_schedules import get_CL_schedule\n",
    "from lib.visualize import (visualize_pathes,\n",
    "                          visualize_statistical_reliability,\n",
    "                          visualize_box_plot)               \n",
    "\n",
    "import os\n",
    "import numpy as np\n",
    "import matplotlib.pyplot as plt"
   ]
  },
  {
   "cell_type": "code",
   "execution_count": 2,
   "id": "226532eb",
   "metadata": {},
   "outputs": [],
   "source": [
    "device = get_device()"
   ]
  },
  {
   "cell_type": "code",
   "execution_count": 3,
   "id": "2b2d52e8",
   "metadata": {},
   "outputs": [],
   "source": [
    "path = os.path.dirname(os.path.abspath(\"__file__\"))\n",
    "data_path = path + \"\\\\data\""
   ]
  },
  {
   "cell_type": "markdown",
   "id": "256d70e5",
   "metadata": {},
   "source": [
    "# MNIST"
   ]
  },
  {
   "cell_type": "markdown",
   "id": "c5017cd3",
   "metadata": {},
   "source": [
    "## Get data loaders"
   ]
  },
  {
   "cell_type": "code",
   "execution_count": 4,
   "id": "f4df07e4",
   "metadata": {},
   "outputs": [],
   "source": [
    "batch_size=128"
   ]
  },
  {
   "cell_type": "code",
   "execution_count": 5,
   "id": "6a577a82",
   "metadata": {},
   "outputs": [],
   "source": [
    "# Get data for task 2\n",
    "train_loader_0_to_4, val_loader_0_to_4, test_loader_0_to_4 = get_MNIST_loaders(data_path, range(5), batch_size)\n",
    "train_loader_0_to_9, val_loader_0_to_9, test_loader_0_to_9 = get_MNIST_loaders(data_path, range(10), batch_size)\n",
    "\n",
    "train_loaders, val_loaders, test_loaders = [], [], []\n",
    "\n",
    "for i in range(10) :\n",
    "    class_name = [i]\n",
    "    train_loader, val_loader, test_loader = get_MNIST_loaders(data_path, [i], batch_size)\n",
    "    train_loaders.append(train_loader)\n",
    "    val_loaders.append(val_loader)\n",
    "    test_loaders.append(test_loader)"
   ]
  },
  {
   "cell_type": "markdown",
   "id": "17039c89",
   "metadata": {},
   "source": [
    "## Random Initialization"
   ]
  },
  {
   "cell_type": "code",
   "execution_count": 13,
   "id": "a5b41d67",
   "metadata": {},
   "outputs": [],
   "source": [
    "init_name = \"random\"\n",
    "savefig = \"MNIST_random_CL\""
   ]
  },
  {
   "cell_type": "markdown",
   "id": "7f504fbc",
   "metadata": {},
   "source": [
    "### Define, train and test both root & target models"
   ]
  },
  {
   "cell_type": "code",
   "execution_count": 14,
   "id": "2569654a",
   "metadata": {},
   "outputs": [],
   "source": [
    "# Network's initial architecture\n",
    "num_inputs = 28*28\n",
    "num_hidden = 50\n",
    "num_outputs = 10\n",
    "\n",
    "# Network's final architecture\n",
    "num_hidden_target = 95\n",
    "\n",
    "# Loss & optimizer\n",
    "loss_name = \"MSE\" # \"CE\"\n",
    "optimizer_name = \"Adam\"\n",
    "\n",
    "# Hyperparameters\n",
    "num_epochs = 3\n",
    "lr = 5e-3\n",
    "growth_schedule = None\n",
    "\n",
    "# Experiment parameters\n",
    "num_repetitions = 1"
   ]
  },
  {
   "cell_type": "markdown",
   "id": "016f67b8",
   "metadata": {},
   "source": [
    "#### Root model"
   ]
  },
  {
   "cell_type": "raw",
   "id": "487d1dae",
   "metadata": {
    "scrolled": true
   },
   "source": [
    "test_acc_roots = []\n",
    "for i in range(num_repetitions) :\n",
    "    root_model = ANN(num_inputs, num_hidden, num_outputs).to(device)\n",
    "    _ = train(root_model, num_outputs, growth_schedule, loss_name, optimizer_name, lr, train_loader_0_to_4, val_loader_0_to_4, num_epochs, batch_size, device, verbose=0)\n",
    "    test_acc_root = test(root_model, test_loader_0_to_4, batch_size, device)\n",
    "    test_acc_roots.append(test_acc_root)"
   ]
  },
  {
   "cell_type": "raw",
   "id": "9141867c",
   "metadata": {},
   "source": [
    "test_acc_roots"
   ]
  },
  {
   "cell_type": "markdown",
   "id": "4fd25b62",
   "metadata": {},
   "source": [
    "#### Target model"
   ]
  },
  {
   "cell_type": "raw",
   "id": "dcbd8526",
   "metadata": {
    "scrolled": true
   },
   "source": [
    "test_acc_targets = []\n",
    "for i in range(num_repetitions) :\n",
    "    target_model = ANN(num_inputs, num_hidden_target, num_outputs).to(device)\n",
    "    _ = train(target_model, num_outputs, growth_schedule, loss_name, optimizer_name, lr, train_loader_0_to_9, val_loader_0_to_9, num_epochs, batch_size, device, verbose=0)\n",
    "    test_acc_target = test(target_model, test_loader_0_to_9, batch_size, device)\n",
    "    test_acc_targets.append(test_acc_target)"
   ]
  },
  {
   "cell_type": "raw",
   "id": "eb88712e",
   "metadata": {},
   "source": [
    "test_acc_targets"
   ]
  },
  {
   "cell_type": "markdown",
   "id": "cf6a7280",
   "metadata": {},
   "source": [
    "### Grow root model"
   ]
  },
  {
   "cell_type": "code",
   "execution_count": 106,
   "id": "92329fb1",
   "metadata": {},
   "outputs": [],
   "source": [
    "# Growth parameters\n",
    "num_neurons = 9\n",
    "lr_root = 2e-3"
   ]
  },
  {
   "cell_type": "code",
   "execution_count": 107,
   "id": "e5f0b0be",
   "metadata": {},
   "outputs": [],
   "source": [
    "growth_schedules = get_CL_schedule(num_neurons)"
   ]
  },
  {
   "cell_type": "code",
   "execution_count": 112,
   "id": "8376cdf3",
   "metadata": {
    "scrolled": true
   },
   "outputs": [
    {
     "name": "stderr",
     "output_type": "stream",
     "text": [
      "  0%|          | 0/3 [00:00<?, ?it/s]"
     ]
    },
    {
     "name": "stdout",
     "output_type": "stream",
     "text": [
      "grad : tensor([ 0.0002,  0.0002, -0.0002,  0.0002,  0.0002,  0.0002,  0.0002,  0.0001,\n",
      "         0.0002,  0.0002], device='cuda:0')\n"
     ]
    },
    {
     "name": "stderr",
     "output_type": "stream",
     "text": [
      " 33%|███▎      | 1/3 [00:03<00:07,  3.97s/it]"
     ]
    },
    {
     "name": "stdout",
     "output_type": "stream",
     "text": [
      "grad : tensor([ 2.1808e-05,  8.2702e-05, -2.1612e-04,  6.6783e-05,  3.1259e-05,\n",
      "         2.7453e-06,  6.0796e-06,  1.9387e-06,  2.9558e-06,  2.3296e-06],\n",
      "       device='cuda:0')\n"
     ]
    },
    {
     "name": "stderr",
     "output_type": "stream",
     "text": [
      " 67%|██████▋   | 2/3 [00:08<00:04,  4.48s/it]"
     ]
    },
    {
     "name": "stdout",
     "output_type": "stream",
     "text": [
      "grad : tensor([ 1.6412e-05,  7.2792e-06,  1.6148e-05, -2.9530e-05,  2.3266e-06,\n",
      "         1.5781e-06,  1.9945e-06,  7.4677e-07,  1.8659e-06,  1.5126e-06],\n",
      "       device='cuda:0')\n"
     ]
    },
    {
     "name": "stderr",
     "output_type": "stream",
     "text": [
      "100%|██████████| 3/3 [00:13<00:00,  4.56s/it]\n"
     ]
    },
    {
     "name": "stdout",
     "output_type": "stream",
     "text": [
      "iteration : 5\n"
     ]
    },
    {
     "name": "stderr",
     "output_type": "stream",
     "text": [
      " 50%|█████     | 1/2 [00:00<00:00,  1.18it/s]"
     ]
    },
    {
     "name": "stdout",
     "output_type": "stream",
     "text": [
      "grad : tensor([ 1.4467e-07,  6.0090e-06,  1.7918e-05,  2.0839e-05,  2.2710e-04,\n",
      "        -1.7581e-04,  1.0278e-08,  4.2677e-07,  2.0321e-07,  2.9235e-06],\n",
      "       device='cuda:0')\n"
     ]
    },
    {
     "name": "stderr",
     "output_type": "stream",
     "text": [
      "100%|██████████| 2/2 [00:01<00:00,  1.24it/s]\n"
     ]
    }
   ],
   "source": [
    "test_accs_matrices_repeted = []\n",
    "for i in range(num_repetitions) :\n",
    "    test_accs_matrices = []\n",
    "    for growth_schedule in growth_schedules :\n",
    "        # Define & pretrain the root model\n",
    "        root_model = ANN(num_inputs, num_hidden, num_outputs).to(device)\n",
    "        _ = train(root_model, num_outputs, None, loss_name, optimizer_name, lr_root, train_loader_0_to_4, val_loader_0_to_4, num_epochs, batch_size, device, verbose=0)\n",
    "        # Initialize the matrix containing test accuracies on various task\n",
    "        test_accs_matrix = np.zeros((6,10))\n",
    "        for j in range(5) :\n",
    "            test_accs_matrix[0,j] = round(test(root_model, test_loaders[j], batch_size, device),2)\n",
    "        for i, train_loader, val_loader in zip(range(5,6), train_loaders[5:], val_loaders[5:]):\n",
    "            print(\"iteration :\", i)\n",
    "            lr_growth = 5*1e-4\n",
    "            _ = train(root_model,\n",
    "                      num_outputs,\n",
    "                      growth_schedule[i-5],\n",
    "                      loss_name, \n",
    "                      optimizer_name, lr_growth, \n",
    "                      train_loaders[i], val_loaders[i], \n",
    "                      2, batch_size, \n",
    "                      device,\n",
    "                      init_name=init_name,\n",
    "                      verbose=0)\n",
    "            for j in range(i+1) :\n",
    "                test_accs_matrix[i-4,j] = round(test(root_model, test_loaders[j], batch_size, device),2)\n",
    "        test_accs_matrices.append(test_accs_matrix)\n",
    "    test_accs_matrices_repeted.append(test_accs_matrices)"
   ]
  },
  {
   "cell_type": "code",
   "execution_count": 113,
   "id": "f1c88229",
   "metadata": {},
   "outputs": [
    {
     "name": "stdout",
     "output_type": "stream",
     "text": [
      "[[99.44 99.02 95.41 96.76 98.77  0.    0.    0.    0.    0.  ]\n",
      " [41.97  5.96 90.33 50.89 89.28 89.97  0.    0.    0.    0.  ]\n",
      " [ 0.    0.    0.    0.    0.    0.    0.    0.    0.    0.  ]\n",
      " [ 0.    0.    0.    0.    0.    0.    0.    0.    0.    0.  ]\n",
      " [ 0.    0.    0.    0.    0.    0.    0.    0.    0.    0.  ]\n",
      " [ 0.    0.    0.    0.    0.    0.    0.    0.    0.    0.  ]]\n"
     ]
    }
   ],
   "source": [
    "print(test_accs_matrices_repeted[0][0])"
   ]
  },
  {
   "cell_type": "code",
   "execution_count": 114,
   "id": "84a36b30",
   "metadata": {},
   "outputs": [
    {
     "data": {
      "image/png": "[encoded data removed]",
      "text/plain": [
       "<Figure size 640x480 with 2 Axes>"
      ]
     },
     "metadata": {},
     "output_type": "display_data"
    }
   ],
   "source": [
    "plt.imshow(test_accs_matrices_repeted[0][0], cmap='viridis', interpolation='nearest')\n",
    "plt.yticks(np.arange(6), np.arange(4, 10))\n",
    "plt.xlabel(\"Accuracy on task...\")\n",
    "plt.ylabel(\"...after training on task\")\n",
    "plt.title(\"Accuracy on task j after training on task i\")\n",
    "plt.colorbar()\n",
    "plt.savefig(\"LoRA_greedy_HPO_matrix_ICL5.png\")\n",
    "plt.show()"
   ]
  },
  {
   "cell_type": "code",
   "execution_count": 115,
   "id": "2ef38de9",
   "metadata": {},
   "outputs": [
    {
     "data": {
      "text/plain": [
       "array([489.4, 368.4,   0. ,   0. ,   0. ,   0. ])"
      ]
     },
     "execution_count": 115,
     "metadata": {},
     "output_type": "execute_result"
    }
   ],
   "source": [
    "np.array(test_accs_matrices_repeted[0][0]).sum(axis=1)"
   ]
  },
  {
   "cell_type": "code",
   "execution_count": 99,
   "id": "25b40423",
   "metadata": {},
   "outputs": [
    {
     "data": {
      "text/plain": [
       "[<matplotlib.lines.Line2D at 0x1bb305948b0>]"
      ]
     },
     "execution_count": 99,
     "metadata": {},
     "output_type": "execute_result"
    },
    {
     "data": {
      "image/png": "[encoded data removed]",
      "text/plain": [
       "<Figure size 640x480 with 1 Axes>"
      ]
     },
     "metadata": {},
     "output_type": "display_data"
    }
   ],
   "source": [
    "plt.plot(np.array(test_accs_matrices_repeted[0][0]).sum(axis=1))"
   ]
  },
  {
   "cell_type": "code",
   "execution_count": 75,
   "id": "f1eb763a",
   "metadata": {
    "scrolled": true
   },
   "outputs": [
    {
     "data": {
      "text/plain": [
       "<bound method Module.named_parameters of ANN(\n",
       "  (fc1): Linear(in_features=784, out_features=95, bias=True)\n",
       "  (fc2): Linear(in_features=95, out_features=95, bias=True)\n",
       "  (fc3): Linear(in_features=95, out_features=10, bias=True)\n",
       ")>"
      ]
     },
     "execution_count": 75,
     "metadata": {},
     "output_type": "execute_result"
    }
   ],
   "source": [
    "root_model.named_parameters"
   ]
  },
  {
   "cell_type": "code",
   "execution_count": null,
   "id": "9c72eccd",
   "metadata": {},
   "outputs": [],
   "source": [
    "for j in range(10) :\n",
    "    i = 0\n",
    "    for b in train_loaders[j] :\n",
    "        i += 1\n",
    "    print(i)"
   ]
  },
  {
   "cell_type": "markdown",
   "id": "af62d8aa",
   "metadata": {},
   "source": [
    "### Visualize results"
   ]
  },
  {
   "cell_type": "code",
   "execution_count": null,
   "id": "adfd4ef9",
   "metadata": {},
   "outputs": [],
   "source": []
  }
 ],
 "metadata": {
  "kernelspec": {
   "display_name": "Python 3 (ipykernel)",
   "language": "python",
   "name": "python3"
  },
  "language_info": {
   "codemirror_mode": {
    "name": "ipython",
    "version": 3
   },
   "file_extension": ".py",
   "mimetype": "text/x-python",
   "name": "python",
   "nbconvert_exporter": "python",
   "pygments_lexer": "ipython3",
   "version": "3.10.7"
  }
 },
 "nbformat": 4,
 "nbformat_minor": 5
}
