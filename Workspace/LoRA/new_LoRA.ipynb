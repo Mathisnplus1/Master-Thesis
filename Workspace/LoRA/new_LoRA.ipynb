{
 "cells": [
  {
   "cell_type": "code",
   "execution_count": 1,
   "id": "278d0bdd",
   "metadata": {},
   "outputs": [],
   "source": [
    "from lib.abstract_torch import get_device, get_loss, get_optimizer\n",
    "from lib.dataloader import get_MNIST_loaders\n",
    "from lib.models import ANN, LoRA_ANN\n",
    "from lib.train import train_ANN\n",
    "from lib.test import test\n",
    "from lib.save import save\n",
    "\n",
    "import os\n",
    "import numpy as np\n",
    "import torch"
   ]
  },
  {
   "cell_type": "code",
   "execution_count": 28,
   "id": "c9434849",
   "metadata": {},
   "outputs": [],
   "source": [
    "train_vanilla = True"
   ]
  },
  {
   "cell_type": "code",
   "execution_count": 3,
   "id": "e29d5e12",
   "metadata": {},
   "outputs": [],
   "source": [
    "device = get_device()"
   ]
  },
  {
   "cell_type": "code",
   "execution_count": 4,
   "id": "85c4e944",
   "metadata": {},
   "outputs": [],
   "source": [
    "path = os.path.dirname(os.path.abspath(\"__file__\"))\n",
    "data_path = path + \"\\\\data\"\n",
    "model_path = path + \"\\\\ANN_LoRA\\\\\""
   ]
  },
  {
   "cell_type": "markdown",
   "id": "86fe382a",
   "metadata": {},
   "source": [
    "Playable HPs :\n",
    "- LoRA rank\n",
    "- trade-off\n",
    "\n",
    "Other HPs :\n",
    "- batch_size"
   ]
  },
  {
   "cell_type": "code",
   "execution_count": 5,
   "id": "b67a7468",
   "metadata": {},
   "outputs": [],
   "source": [
    "# Data parameter\n",
    "batch_size=128\n",
    "\n",
    "# Network Architecture\n",
    "num_inputs = 28*28\n",
    "num_hidden = 100\n",
    "num_outputs = 10\n",
    "\n",
    "# Train parameters\n",
    "loss_name = \"CE\"\n",
    "optimizer_name = \"Adam\""
   ]
  },
  {
   "cell_type": "markdown",
   "id": "1c614d5f",
   "metadata": {},
   "source": [
    "## Reproducibility"
   ]
  },
  {
   "cell_type": "code",
   "execution_count": 6,
   "id": "ba7cf0e8",
   "metadata": {},
   "outputs": [],
   "source": [
    "random_seed = 88"
   ]
  },
  {
   "cell_type": "raw",
   "id": "13fe9290",
   "metadata": {},
   "source": [
    "np.random.seed(42)\n",
    "torch.manual_seed(42)\n",
    "\n",
    "if torch.cuda.is_available():\n",
    "    torch.cuda.manual_seed(42)\n",
    "\n",
    "# Ensure deterministic behavior in PyTorch\n",
    "torch.backends.cudnn.deterministic = True\n",
    "torch.backends.cudnn.benchmark = False"
   ]
  },
  {
   "cell_type": "markdown",
   "id": "97aa331d",
   "metadata": {},
   "source": [
    "## Get MNIST loaders"
   ]
  },
  {
   "cell_type": "code",
   "execution_count": 7,
   "id": "e77d0b7c",
   "metadata": {},
   "outputs": [],
   "source": [
    "# We train on MNIST 0 to 4, then each new task is being able to classify a new digit (5 to 9)"
   ]
  },
  {
   "cell_type": "code",
   "execution_count": 8,
   "id": "c02faa1e",
   "metadata": {},
   "outputs": [
    {
     "name": "stdout",
     "output_type": "stream",
     "text": [
      "<class 'torchvision.datasets.mnist.MNIST'>\n",
      "<class 'torchvision.datasets.mnist.MNIST'>\n",
      "<class 'torchvision.datasets.mnist.MNIST'>\n",
      "<class 'torchvision.datasets.mnist.MNIST'>\n",
      "<class 'torchvision.datasets.mnist.MNIST'>\n",
      "<class 'torchvision.datasets.mnist.MNIST'>\n"
     ]
    }
   ],
   "source": [
    "train_loaders_list, val_loaders_list, test_loaders_list = get_MNIST_loaders(data_path, batch_size, random_seed, 0.7)"
   ]
  },
  {
   "cell_type": "raw",
   "id": "3560a635",
   "metadata": {},
   "source": [
    "task_name_1_to_5 = \"task_\"+str(1)+\"_to_\"+str(5)\n",
    "train_loader_1_to_5, val_loader_1_to_5, test_loader_1_to_5 = get_MNIST_loaders(data_path, [0,1,2,3,4], batch_size)\n",
    "\n",
    "task_names = []\n",
    "train_loaders, val_loaders, test_loaders = [], [], []\n",
    "\n",
    "for i in range(10) :\n",
    "    task_names.append(\"task_\"+str(i+1))\n",
    "    class_label = [i]\n",
    "    train_loader, val_loader, test_loader = get_MNIST_loaders(data_path, class_label, batch_size)\n",
    "    train_loaders.append(train_loader)\n",
    "    val_loaders.append(val_loader)\n",
    "    test_loaders.append(test_loader)"
   ]
  },
  {
   "cell_type": "markdown",
   "id": "eebded17",
   "metadata": {},
   "source": [
    "## Train vanilla ANN on digits 0 to 4"
   ]
  },
  {
   "cell_type": "code",
   "execution_count": 9,
   "id": "4f1afd61",
   "metadata": {},
   "outputs": [],
   "source": [
    "if train_vanilla :\n",
    "    train_loader = train_loaders_list[0]\n",
    "    test_loader = test_loaders_list[0]"
   ]
  },
  {
   "cell_type": "code",
   "execution_count": 10,
   "id": "ff2a6260",
   "metadata": {},
   "outputs": [],
   "source": [
    "if train_vanilla :\n",
    "    lr = 1e-3\n",
    "    num_epochs = 2"
   ]
  },
  {
   "cell_type": "code",
   "execution_count": 11,
   "id": "98e2cae7",
   "metadata": {},
   "outputs": [],
   "source": [
    "if train_vanilla :\n",
    "    model = ANN(num_inputs, num_hidden, num_outputs)"
   ]
  },
  {
   "cell_type": "code",
   "execution_count": 12,
   "id": "34629613",
   "metadata": {},
   "outputs": [],
   "source": [
    "if train_vanilla :\n",
    "    train_ANN(model, loss_name, optimizer_name, lr, train_loader, num_epochs, batch_size, device)"
   ]
  },
  {
   "cell_type": "code",
   "execution_count": 13,
   "id": "6f9e8017",
   "metadata": {},
   "outputs": [],
   "source": [
    "if train_vanilla :\n",
    "    test(model, test_loader, batch_size, device)"
   ]
  },
  {
   "cell_type": "markdown",
   "id": "d6f25102",
   "metadata": {},
   "source": [
    "## Save vanilla ANN"
   ]
  },
  {
   "cell_type": "code",
   "execution_count": 14,
   "id": "0ddcec49",
   "metadata": {},
   "outputs": [],
   "source": [
    "if train_vanilla :\n",
    "    vanilla_path = model_path+\"ICL5_state_dict_digits_0_to_4.pth\""
   ]
  },
  {
   "cell_type": "code",
   "execution_count": 15,
   "id": "c0f8abdb",
   "metadata": {},
   "outputs": [],
   "source": [
    "if train_vanilla :\n",
    "    save(vanilla_path, model)"
   ]
  },
  {
   "cell_type": "markdown",
   "id": "12eec80b",
   "metadata": {},
   "source": [
    "## CL on digits 5 to 9 with LoRA"
   ]
  },
  {
   "cell_type": "code",
   "execution_count": 16,
   "id": "a8aa71e5",
   "metadata": {},
   "outputs": [],
   "source": [
    "import optuna\n",
    "from functools import partial\n",
    "import matplotlib.pyplot as plt"
   ]
  },
  {
   "cell_type": "code",
   "execution_count": 17,
   "id": "c403bc11",
   "metadata": {},
   "outputs": [],
   "source": [
    "def define_model(trial, model_path, params) :\n",
    "    lora_rank = trial.suggest_int(\"lora_rank\", 8, 16)\n",
    "    alpha = trial.suggest_float(\"alpha\", 0.5, 2)\n",
    "    \n",
    "    num_inputs, num_hidden, num_outputs, batch_size = params\n",
    "    lora_ann_model = LoRA_ANN(lora_rank,\n",
    "                              alpha, \n",
    "                              model_path, \n",
    "                              num_inputs, \n",
    "                              num_hidden, \n",
    "                              num_outputs,\n",
    "                              batch_size)\n",
    "\n",
    "    return lora_ann_model\n",
    "\n",
    "def objective(task_number, model_path, params, device, trial) :\n",
    "    # Define model\n",
    "    lora_ann_model = define_model(trial, model_path, params).to(device)\n",
    "    \n",
    "    # Set HPs\n",
    "    lr = trial.suggest_float(\"lr\", 1e-5, 5e-4)\n",
    "    num_epochs = trial.suggest_int(\"num_epochs\", 1, 4)\n",
    "    \n",
    "    # Train\n",
    "    batch_size = params[-1]\n",
    "    \n",
    "    task = task_names[task_number]\n",
    "    train_loader = train_loaders[task_number]\n",
    "    #val_loader = val_loaders[task_number]\n",
    "\n",
    "    train_ANN(lora_ann_model, loss_name, optimizer_name, lr, train_loader, num_epochs, batch_size, device)\n",
    "    \n",
    "    # Test\n",
    "    test_accs = np.zeros(task_number+1)\n",
    "    for j in range(task_number+1) :\n",
    "        test_acc = test(lora_ann_model, test_loaders[j], batch_size, device)\n",
    "        test_accs[j] = test_acc\n",
    "    \n",
    "    # Compute score\n",
    "    mu, sigma = np.mean(test_accs), np.std(test_accs)\n",
    "    score = mu - sigma\n",
    "    \n",
    "    return score"
   ]
  },
  {
   "cell_type": "code",
   "execution_count": 18,
   "id": "783c255b",
   "metadata": {},
   "outputs": [],
   "source": [
    "def retrain_and_save_with_best_HPs (best_trial, i, model_path) :\n",
    "    lora_rank  = best_trial.params[\"lora_rank\"]\n",
    "    alpha = best_trial.params[\"alpha\"]\n",
    "    lr = best_trial.params[\"lr\"]\n",
    "    num_epochs = best_trial.params[\"num_epochs\"]\n",
    "    \n",
    "    lora_ann_model = LoRA_ANN(lora_rank,\n",
    "                              alpha, \n",
    "                              model_path, \n",
    "                              num_inputs, \n",
    "                              num_hidden, \n",
    "                              num_outputs,\n",
    "                              batch_size).to(device)\n",
    "\n",
    "    # Train\n",
    "    \n",
    "    task = task_names[i]\n",
    "    train_loader = train_loaders[i]\n",
    "    val_loader = val_loaders[i]\n",
    "\n",
    "    train_ANN(lora_ann_model, loss_name, optimizer_name, lr, train_loader, num_epochs, batch_size, device)\n",
    "    \n",
    "    # Test\n",
    "    test_accs = np.zeros(10)\n",
    "    for j in range(10) :\n",
    "        test_acc = test(lora_ann_model, test_loaders[j], batch_size, device)\n",
    "        test_accs[j] = test_acc\n",
    "    \n",
    "    # Save model\n",
    "    fc1_update = lora_ann_model.model.fc1.weight + alpha*torch.mm(lora_ann_model.l1_lora_A, lora_ann_model.l1_lora_B).T\n",
    "    lora_ann_model.model.fc1.weight = torch.nn.Parameter(fc1_update)\n",
    "    \n",
    "    fc2_update = lora_ann_model.model.fc2.weight + alpha*torch.mm(lora_ann_model.l2_lora_A, lora_ann_model.l2_lora_B).T\n",
    "    lora_ann_model.model.fc2.weight = torch.nn.Parameter(fc2_update)\n",
    "    \n",
    "    model_path = path + f\"ICL5_state_dict_digit_{i}.pth\"\n",
    "    save(model_path, lora_ann_model.model)\n",
    "    \n",
    "    return test_accs"
   ]
  },
  {
   "cell_type": "code",
   "execution_count": 19,
   "id": "02f430be",
   "metadata": {
    "scrolled": true
   },
   "outputs": [
    {
     "name": "stderr",
     "output_type": "stream",
     "text": [
      "[I 2024-05-24 10:40:20,467] A new study created in memory with name: The Search\n"
     ]
    },
    {
     "name": "stdout",
     "output_type": "stream",
     "text": [
      "Learning Task 6\n"
     ]
    },
    {
     "name": "stderr",
     "output_type": "stream",
     "text": [
      "100%|████████████████████████████████████████████████████████████████████████████████████| 3/3 [00:01<00:00,  2.61it/s]\n",
      "[I 2024-05-24 10:40:22,109] Trial 0 finished with value: -3.2482390375889736 and parameters: {'lora_rank': 16, 'alpha': 0.8641721294030519, 'lr': 0.0004308990607821105, 'num_epochs': 3}. Best is trial 0 with value: -3.2482390375889736.\n",
      "100%|████████████████████████████████████████████████████████████████████████████████████| 1/1 [00:00<00:00,  2.77it/s]\n",
      "[I 2024-05-24 10:40:22,977] Trial 1 finished with value: 45.19582191603976 and parameters: {'lora_rank': 14, 'alpha': 1.6667352204049137, 'lr': 8.738214210485807e-05, 'num_epochs': 1}. Best is trial 1 with value: 45.19582191603976.\n",
      "100%|████████████████████████████████████████████████████████████████████████████████████| 2/2 [00:00<00:00,  2.74it/s]\n",
      "[I 2024-05-24 10:40:24,206] Trial 2 finished with value: 44.778639972817835 and parameters: {'lora_rank': 10, 'alpha': 1.7479693374868468, 'lr': 0.000176252036142911, 'num_epochs': 2}. Best is trial 1 with value: 45.19582191603976.\n",
      "100%|████████████████████████████████████████████████████████████████████████████████████| 1/1 [00:00<00:00,  2.78it/s]\n",
      "[I 2024-05-24 10:40:25,609] A new study created in memory with name: The Search\n"
     ]
    },
    {
     "name": "stdout",
     "output_type": "stream",
     "text": [
      "Learning Task 7\n"
     ]
    },
    {
     "name": "stderr",
     "output_type": "stream",
     "text": [
      "100%|████████████████████████████████████████████████████████████████████████████████████| 4/4 [00:01<00:00,  2.46it/s]\n",
      "[I 2024-05-24 10:40:27,837] Trial 0 finished with value: 39.51129584751698 and parameters: {'lora_rank': 10, 'alpha': 1.6125862548062484, 'lr': 0.00016721777233986854, 'num_epochs': 4}. Best is trial 0 with value: 39.51129584751698.\n",
      "100%|████████████████████████████████████████████████████████████████████████████████████| 3/3 [00:01<00:00,  2.34it/s]\n",
      "[I 2024-05-24 10:40:29,748] Trial 1 finished with value: 45.463806253157635 and parameters: {'lora_rank': 12, 'alpha': 0.7681803198451926, 'lr': 0.0002553526973374286, 'num_epochs': 3}. Best is trial 1 with value: 45.463806253157635.\n",
      "100%|████████████████████████████████████████████████████████████████████████████████████| 2/2 [00:00<00:00,  2.35it/s]\n",
      "[I 2024-05-24 10:40:31,257] Trial 2 finished with value: -6.6934008555579005 and parameters: {'lora_rank': 16, 'alpha': 1.1346545578660827, 'lr': 0.00045946207540252206, 'num_epochs': 2}. Best is trial 1 with value: 45.463806253157635.\n",
      "100%|████████████████████████████████████████████████████████████████████████████████████| 3/3 [00:01<00:00,  2.22it/s]\n",
      "[I 2024-05-24 10:40:33,556] A new study created in memory with name: The Search\n"
     ]
    },
    {
     "name": "stdout",
     "output_type": "stream",
     "text": [
      "Learning Task 8\n"
     ]
    },
    {
     "name": "stderr",
     "output_type": "stream",
     "text": [
      "100%|████████████████████████████████████████████████████████████████████████████████████| 3/3 [00:01<00:00,  2.13it/s]\n",
      "[I 2024-05-24 10:40:35,744] Trial 0 finished with value: 28.232409019411392 and parameters: {'lora_rank': 8, 'alpha': 1.5814027260491135, 'lr': 0.00011101179260422012, 'num_epochs': 3}. Best is trial 0 with value: 28.232409019411392.\n",
      "100%|████████████████████████████████████████████████████████████████████████████████████| 3/3 [00:01<00:00,  2.11it/s]\n",
      "[I 2024-05-24 10:40:37,897] Trial 1 finished with value: 37.20046277998143 and parameters: {'lora_rank': 16, 'alpha': 1.08243903885896, 'lr': 0.00015117405922507267, 'num_epochs': 3}. Best is trial 1 with value: 37.20046277998143.\n",
      "100%|████████████████████████████████████████████████████████████████████████████████████| 3/3 [00:01<00:00,  2.13it/s]\n",
      "[I 2024-05-24 10:40:40,041] Trial 2 finished with value: 26.926718460635342 and parameters: {'lora_rank': 14, 'alpha': 0.7577521669935716, 'lr': 3.310481246248343e-05, 'num_epochs': 3}. Best is trial 1 with value: 37.20046277998143.\n",
      "100%|████████████████████████████████████████████████████████████████████████████████████| 3/3 [00:01<00:00,  2.21it/s]\n",
      "[I 2024-05-24 10:40:42,368] A new study created in memory with name: The Search\n"
     ]
    },
    {
     "name": "stdout",
     "output_type": "stream",
     "text": [
      "Learning Task 9\n"
     ]
    },
    {
     "name": "stderr",
     "output_type": "stream",
     "text": [
      "100%|████████████████████████████████████████████████████████████████████████████████████| 4/4 [00:01<00:00,  2.23it/s]\n",
      "[I 2024-05-24 10:40:45,036] Trial 0 finished with value: 27.563846007844376 and parameters: {'lora_rank': 15, 'alpha': 1.1041396505860357, 'lr': 6.968663809665457e-05, 'num_epochs': 4}. Best is trial 0 with value: 27.563846007844376.\n",
      "100%|████████████████████████████████████████████████████████████████████████████████████| 4/4 [00:01<00:00,  2.26it/s]\n",
      "[I 2024-05-24 10:40:47,687] Trial 1 finished with value: 24.509042165592895 and parameters: {'lora_rank': 12, 'alpha': 0.7935216842268042, 'lr': 1.3717382014135177e-05, 'num_epochs': 4}. Best is trial 0 with value: 27.563846007844376.\n",
      "100%|████████████████████████████████████████████████████████████████████████████████████| 2/2 [00:00<00:00,  2.42it/s]\n",
      "[I 2024-05-24 10:40:49,337] Trial 2 finished with value: 25.68704831791429 and parameters: {'lora_rank': 13, 'alpha': 1.5716895520052498, 'lr': 7.96689668655652e-05, 'num_epochs': 2}. Best is trial 0 with value: 27.563846007844376.\n",
      "100%|████████████████████████████████████████████████████████████████████████████████████| 4/4 [00:01<00:00,  2.34it/s]\n",
      "[I 2024-05-24 10:40:51,958] A new study created in memory with name: The Search\n"
     ]
    },
    {
     "name": "stdout",
     "output_type": "stream",
     "text": [
      "Learning Task 10\n"
     ]
    },
    {
     "name": "stderr",
     "output_type": "stream",
     "text": [
      "100%|████████████████████████████████████████████████████████████████████████████████████| 4/4 [00:01<00:00,  2.21it/s]\n",
      "[I 2024-05-24 10:40:54,696] Trial 0 finished with value: 4.724189751459868 and parameters: {'lora_rank': 16, 'alpha': 1.710298142087029, 'lr': 0.0001332808454209124, 'num_epochs': 4}. Best is trial 0 with value: 4.724189751459868.\n",
      "100%|████████████████████████████████████████████████████████████████████████████████████| 2/2 [00:00<00:00,  2.24it/s]\n",
      "[I 2024-05-24 10:40:56,489] Trial 1 finished with value: 19.184567249507758 and parameters: {'lora_rank': 16, 'alpha': 0.530520911962181, 'lr': 1.2701346236086103e-05, 'num_epochs': 2}. Best is trial 1 with value: 19.184567249507758.\n",
      "100%|████████████████████████████████████████████████████████████████████████████████████| 3/3 [00:01<00:00,  2.34it/s]\n",
      "[I 2024-05-24 10:40:58,697] Trial 2 finished with value: -14.118130834591563 and parameters: {'lora_rank': 11, 'alpha': 1.7722322380305333, 'lr': 0.0004253897115316232, 'num_epochs': 3}. Best is trial 1 with value: 19.184567249507758.\n",
      "100%|████████████████████████████████████████████████████████████████████████████████████| 2/2 [00:00<00:00,  2.12it/s]\n"
     ]
    }
   ],
   "source": [
    "# Compute scores of the model trained on the first task\n",
    "model_path = path + \"\\\\ANN_LoRA\\\\ICL5_state_dict_digits_0_to_4.pth\"\n",
    "\n",
    "lora_rank = 16 # The value of this parameters has no influence\n",
    "alpha = 1.8 # The value of this parameter has no influence\n",
    "\n",
    "lora_ann_model = LoRA_ANN(lora_rank,\n",
    "                          alpha, \n",
    "                          model_path, \n",
    "                          num_inputs, \n",
    "                          num_hidden, \n",
    "                          num_outputs, \n",
    "                          batch_size).to(device)\n",
    "\n",
    "# Test the model trained on digits 0 to 4\n",
    "test_accs = np.zeros(10)\n",
    "for j in range(5) :\n",
    "    test_acc = test(lora_ann_model, test_loaders[j], batch_size, device)\n",
    "    test_accs[j] = test_acc\n",
    "        \n",
    "# Initialize variable to store the best HPs and the scores\n",
    "best_params = []\n",
    "scores = [test_acc]\n",
    "test_accs_matrix = [test_accs]\n",
    "mean_test_accs_through_past_tasks = [test_acc]\n",
    "\n",
    "for i in range(5,10) :\n",
    "    print(f\"Learning Task {i+1}\")\n",
    "    # Perform HPO\n",
    "    storage = optuna.storages.InMemoryStorage()\n",
    "    study = optuna.create_study(storage=storage,\n",
    "                                study_name=\"The Search\",\n",
    "                                #sampler=\n",
    "                                direction = \"maximize\")\n",
    "    \n",
    "    params = num_inputs, num_hidden, num_outputs, batch_size\n",
    "    partial_objective = partial(objective, i, model_path, params, device)\n",
    "    study.optimize(partial_objective,\n",
    "                   n_trials=3,\n",
    "                   timeout=3600)\n",
    "\n",
    "    # Retrain and save a model with the best params\n",
    "    best_trial = study.best_trial\n",
    "    best_params.append(best_trial.params)\n",
    "    test_accs = retrain_and_save_with_best_HPs(best_trial, i, model_path) \n",
    "    \n",
    "    model_path = path + f\"ICL5_state_dict_digit_{i}.pth\"\n",
    "    \n",
    "    # Compute and store scores\n",
    "    mu, sigma = np.mean(test_accs[:i+1]), np.std(test_accs[:i+1])\n",
    "    score = mu - sigma\n",
    "    \n",
    "    scores.append(score)\n",
    "    test_accs_matrix.append(test_accs)\n",
    "    mean_test_accs_through_past_tasks.append(mu)"
   ]
  },
  {
   "cell_type": "code",
   "execution_count": 20,
   "id": "5b523f22",
   "metadata": {},
   "outputs": [
    {
     "data": {
      "image/png": "[encoded data removed]",
      "text/plain": [
       "<Figure size 640x480 with 2 Axes>"
      ]
     },
     "metadata": {},
     "output_type": "display_data"
    }
   ],
   "source": [
    "plt.imshow(test_accs_matrix, cmap='viridis', interpolation='nearest')\n",
    "plt.yticks(np.arange(6), np.arange(4, 10))\n",
    "plt.xlabel(\"Accuracy on task...\")\n",
    "plt.ylabel(\"...after training on task\")\n",
    "plt.title(\"Accuracy on task j after training on task i\")\n",
    "plt.colorbar()\n",
    "plt.savefig(\"LoRA_greedy_HPO_matrix_ICL5.png\")\n",
    "plt.show()"
   ]
  },
  {
   "cell_type": "code",
   "execution_count": 31,
   "id": "c6363b4a",
   "metadata": {},
   "outputs": [
    {
     "data": {
      "image/png": "[encoded data removed]",
      "text/plain": [
       "<Figure size 640x480 with 2 Axes>"
      ]
     },
     "metadata": {},
     "output_type": "display_data"
    }
   ],
   "source": [
    "plt.imshow(test_accs_matrix, cmap='viridis', interpolation='nearest')\n",
    "plt.yticks(np.arange(6), np.arange(4, 10))\n",
    "plt.xlabel(\"Accuracy on task...\")\n",
    "plt.ylabel(\"...after training on task\")\n",
    "plt.title(\"Accuracy on task j after training on task i\")\n",
    "plt.colorbar()\n",
    "plt.savefig(\"LoRA_greedy_HPO_matrix_ICL5.png\")\n",
    "plt.show()"
   ]
  },
  {
   "cell_type": "code",
   "execution_count": null,
   "id": "957318e7",
   "metadata": {},
   "outputs": [],
   "source": []
  }
 ],
 "metadata": {
  "kernelspec": {
   "display_name": "Python 3 (ipykernel)",
   "language": "python",
   "name": "python3"
  },
  "language_info": {
   "codemirror_mode": {
    "name": "ipython",
    "version": 3
   },
   "file_extension": ".py",
   "mimetype": "text/x-python",
   "name": "python",
   "nbconvert_exporter": "python",
   "pygments_lexer": "ipython3",
   "version": "3.10.7"
  }
 },
 "nbformat": 4,
 "nbformat_minor": 5
}
