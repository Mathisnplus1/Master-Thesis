{
 "cells": [
  {
   "cell_type": "code",
   "execution_count": 1,
   "id": "cea53fbb",
   "metadata": {
    "execution": {
     "iopub.execute_input": "2024-07-05T12:36:18.981783Z",
     "iopub.status.busy": "2024-07-05T12:36:18.981496Z",
     "iopub.status.idle": "2024-07-05T12:36:18.985645Z",
     "shell.execute_reply": "2024-07-05T12:36:18.985387Z"
    },
    "papermill": {
     "duration": 0.00811,
     "end_time": "2024-07-05T12:36:18.986456",
     "exception": false,
     "start_time": "2024-07-05T12:36:18.978346",
     "status": "completed"
    },
    "tags": [
     "injected-parameters"
    ]
   },
   "outputs": [],
   "source": [
    "# Parameters\n",
    "global_seed = 88\n",
    "benchmark_settings = {\"benchmark_name\": \"pMNIST\", \"difficulty\": \"standard\", \"num_tasks\": 3, \"train_percentage\": 0.1, \"num_val_benchmarks\": 3, \"batch_size\": 128}\n",
    "method_settings = {\"method_name\": \"GroHess\", \"grow_from\": \"output\", \"hessian_percentile\": 95, \"grad_percentile\": 95, \"num_inputs\": 784, \"num_hidden_root\": 100, \"num_outputs\": 10, \"loss_name\": \"CE\", \"optimizer_name\": \"Adam\"}\n",
    "HPO_settings = {\"HPO_name\": \"greedy_HPO\", \"n_trials\": 2, \"lr\": [5e-05, 0.002], \"num_epochs\": [2, 4]}\n",
    "visualization_settings = {\"savefig\": True, \"visualize_accs_matrix\": True, \"visualize_avg_acc_curve\": True, \"visualize_best_params\": True, \"visualize_val_accs_matrix\": True, \"visualize_accuracy_through_benchmarks\": True, \"visualize_violin\": True}\n"
   ]
  },
  {
   "cell_type": "code",
   "execution_count": 2,
   "id": "97d14bf9",
   "metadata": {
    "execution": {
     "iopub.execute_input": "2024-07-05T12:36:18.992081Z",
     "iopub.status.busy": "2024-07-05T12:36:18.991900Z",
     "iopub.status.idle": "2024-07-05T12:36:19.023052Z",
     "shell.execute_reply": "2024-07-05T12:36:19.022456Z"
    },
    "papermill": {
     "duration": 0.035341,
     "end_time": "2024-07-05T12:36:19.024507",
     "exception": false,
     "start_time": "2024-07-05T12:36:18.989166",
     "status": "completed"
    },
    "tags": []
   },
   "outputs": [],
   "source": [
    "# Comment the following cell if running through the command :\n",
    "# papermill runnable_HPO.ipynb executed_HPO.ipynb -f params_for_HPO.yaml --kernel jupyter.jax_env"
   ]
  },
  {
   "cell_type": "markdown",
   "id": "6c278988",
   "metadata": {
    "papermill": {
     "duration": 0.001597,
     "end_time": "2024-07-05T12:36:19.027605",
     "exception": false,
     "start_time": "2024-07-05T12:36:19.026008",
     "status": "completed"
    },
    "tags": []
   },
   "source": [
    "global_seed = 88\n",
    "# Parameters specfific to the benchmark\n",
    "benchmark_settings = {\"benchmark_name\" : \"pMNIST\",\n",
    "                      \"difficulty\" : \"standard\",\n",
    "                      \"num_tasks\" : 3,\n",
    "                      \"train_percentage\" : 0.1,\n",
    "                      \"num_val_benchmarks\" : 3,\n",
    "                      \"batch_size\" : 128}\n",
    "\n",
    "# Parameters specific to the method\n",
    "method_settings = {\"method_name\" : \"GroHess\",\n",
    "                   \"grow_from\" : \"output\",\n",
    "                   \"hessian_percentile\" : 95,\n",
    "                   \"grad_percentile\" : 95,\n",
    "                   \"num_inputs\" : 28*28,\n",
    "                   \"num_hidden_root\" : 100,\n",
    "                   \"num_outputs\" : 10,\n",
    "                   \"loss_name\" : \"CE\",\n",
    "                   \"optimizer_name\" : \"Adam\"}\n",
    "\n",
    "# Parameters specific to HPO\n",
    "HPO_settings = {\"HPO_name\" : \"greedy_HPO\",\n",
    "                \"n_trials\" : 2,\n",
    "                \"lr\" : (5e-5, 2e-3),\n",
    "                \"num_epochs\" : (2, 4)}\n",
    "\n",
    "# Parameters specific to the visualization\n",
    "visualization_settings = {\"savefig\" : True,\n",
    "                          \"visualize_accs_matrix\" : True,\n",
    "                          \"visualize_avg_acc_curve\" : True,\n",
    "                          \"visualize_best_params\" : True,\n",
    "                          \"visualize_val_accs_matrix\" : True,\n",
    "                          \"visualize_accuracy_through_benchmarks\" : True,\n",
    "                          \"visualize_violin\" : True}"
   ]
  },
  {
   "cell_type": "code",
   "execution_count": 3,
   "id": "c7030dfb",
   "metadata": {
    "execution": {
     "iopub.execute_input": "2024-07-05T12:36:19.031507Z",
     "iopub.status.busy": "2024-07-05T12:36:19.031270Z",
     "iopub.status.idle": "2024-07-05T12:36:19.052575Z",
     "shell.execute_reply": "2024-07-05T12:36:19.051992Z"
    },
    "papermill": {
     "duration": 0.024341,
     "end_time": "2024-07-05T12:36:19.053387",
     "exception": false,
     "start_time": "2024-07-05T12:36:19.029046",
     "status": "completed"
    },
    "tags": []
   },
   "outputs": [
    {
     "name": "stdout",
     "output_type": "stream",
     "text": [
      "#########################################\n",
      "<class 'float'>\n",
      "#########################################\n"
     ]
    }
   ],
   "source": [
    "print(\"#########################################\")\n",
    "print(type(HPO_settings[\"lr\"][0]))\n",
    "print(\"#########################################\")"
   ]
  },
  {
   "cell_type": "code",
   "execution_count": 4,
   "id": "dd30ea49",
   "metadata": {
    "execution": {
     "iopub.execute_input": "2024-07-05T12:36:19.057558Z",
     "iopub.status.busy": "2024-07-05T12:36:19.057321Z",
     "iopub.status.idle": "2024-07-05T12:36:19.141860Z",
     "shell.execute_reply": "2024-07-05T12:36:19.141537Z"
    },
    "papermill": {
     "duration": 0.088024,
     "end_time": "2024-07-05T12:36:19.143121",
     "exception": false,
     "start_time": "2024-07-05T12:36:19.055097",
     "status": "completed"
    },
    "tags": []
   },
   "outputs": [],
   "source": [
    "import sys\n",
    "import os\n",
    "import numpy as np\n",
    "import warnings\n",
    "warnings.filterwarnings('ignore')\n",
    "\n",
    "sys.path.append(\"Methods/\" + method_settings[\"method_name\"])\n",
    "sys.path.append(\"HPO_lib/benchmark_loaders\")\n",
    "\n",
    "path = os.path.dirname(os.path.abspath(\"__file__\"))\n",
    "data_path = path + \"/data\""
   ]
  },
  {
   "cell_type": "markdown",
   "id": "a6d49a86",
   "metadata": {
    "papermill": {
     "duration": 0.002579,
     "end_time": "2024-07-05T12:36:19.148783",
     "exception": false,
     "start_time": "2024-07-05T12:36:19.146204",
     "status": "completed"
    },
    "tags": []
   },
   "source": [
    "## Imports"
   ]
  },
  {
   "cell_type": "code",
   "execution_count": 5,
   "id": "5b7e9fd4",
   "metadata": {
    "execution": {
     "iopub.execute_input": "2024-07-05T12:36:19.154806Z",
     "iopub.status.busy": "2024-07-05T12:36:19.154551Z",
     "iopub.status.idle": "2024-07-05T12:36:20.824908Z",
     "shell.execute_reply": "2024-07-05T12:36:20.824285Z"
    },
    "papermill": {
     "duration": 1.675127,
     "end_time": "2024-07-05T12:36:20.826610",
     "exception": false,
     "start_time": "2024-07-05T12:36:19.151483",
     "status": "completed"
    },
    "tags": []
   },
   "outputs": [],
   "source": [
    "from HPO_lib.abstract_torch import get_device\n",
    "from HPO_lib.get_benchmarks import get_benchmarks\n",
    "from HPO_lib.run_HPO import run_HPO\n",
    "from HPO_lib.validation import validate\n",
    "from HPO_lib.visualize import visualize_HPO, visualize_validation"
   ]
  },
  {
   "cell_type": "code",
   "execution_count": 6,
   "id": "a0860a56",
   "metadata": {
    "execution": {
     "iopub.execute_input": "2024-07-05T12:36:20.840032Z",
     "iopub.status.busy": "2024-07-05T12:36:20.839860Z",
     "iopub.status.idle": "2024-07-05T12:36:20.906291Z",
     "shell.execute_reply": "2024-07-05T12:36:20.905705Z"
    },
    "papermill": {
     "duration": 0.07765,
     "end_time": "2024-07-05T12:36:20.907809",
     "exception": false,
     "start_time": "2024-07-05T12:36:20.830159",
     "status": "completed"
    },
    "tags": []
   },
   "outputs": [],
   "source": [
    "device = get_device(1)"
   ]
  },
  {
   "cell_type": "markdown",
   "id": "196c366a",
   "metadata": {
    "papermill": {
     "duration": 0.003608,
     "end_time": "2024-07-05T12:36:20.915499",
     "exception": false,
     "start_time": "2024-07-05T12:36:20.911891",
     "status": "completed"
    },
    "tags": []
   },
   "source": [
    "## Get benchmarks"
   ]
  },
  {
   "cell_type": "code",
   "execution_count": 7,
   "id": "4df53ae9",
   "metadata": {
    "execution": {
     "iopub.execute_input": "2024-07-05T12:36:20.924147Z",
     "iopub.status.busy": "2024-07-05T12:36:20.923998Z",
     "iopub.status.idle": "2024-07-05T12:36:32.166343Z",
     "shell.execute_reply": "2024-07-05T12:36:32.165710Z"
    },
    "papermill": {
     "duration": 11.248916,
     "end_time": "2024-07-05T12:36:32.168149",
     "exception": false,
     "start_time": "2024-07-05T12:36:20.919233",
     "status": "completed"
    },
    "tags": []
   },
   "outputs": [],
   "source": [
    "benchmarks_list = get_benchmarks(benchmark_settings, global_seed)"
   ]
  },
  {
   "cell_type": "markdown",
   "id": "f1c22ec6",
   "metadata": {
    "papermill": {
     "duration": 0.008428,
     "end_time": "2024-07-05T12:36:32.182226",
     "exception": false,
     "start_time": "2024-07-05T12:36:32.173798",
     "status": "completed"
    },
    "tags": []
   },
   "source": [
    "## Run HPO"
   ]
  },
  {
   "cell_type": "code",
   "execution_count": 8,
   "id": "ab6a2d0b",
   "metadata": {
    "execution": {
     "iopub.execute_input": "2024-07-05T12:36:32.191218Z",
     "iopub.status.busy": "2024-07-05T12:36:32.190952Z",
     "iopub.status.idle": "2024-07-05T12:38:08.129454Z",
     "shell.execute_reply": "2024-07-05T12:38:08.128829Z"
    },
    "papermill": {
     "duration": 95.944979,
     "end_time": "2024-07-05T12:38:08.131129",
     "exception": false,
     "start_time": "2024-07-05T12:36:32.186150",
     "status": "completed"
    },
    "tags": []
   },
   "outputs": [
    {
     "name": "stderr",
     "output_type": "stream",
     "text": [
      "[I 2024-07-05 14:36:32,283] A new study created in memory with name: Search number 1\n"
     ]
    },
    {
     "name": "stdout",
     "output_type": "stream",
     "text": [
      "\n",
      "--------------------------------------------------\n",
      "LEARNING TASK 1\n"
     ]
    },
    {
     "name": "stderr",
     "output_type": "stream",
     "text": [
      "\r",
      "  0%|                                                                                                                           | 0/3 [00:00<?, ?it/s]"
     ]
    },
    {
     "name": "stderr",
     "output_type": "stream",
     "text": [
      "\r",
      " 33%|██████████████████████████████████████▎                                                                            | 1/3 [00:00<00:01,  1.24it/s]"
     ]
    },
    {
     "name": "stderr",
     "output_type": "stream",
     "text": [
      "\r",
      " 67%|████████████████████████████████████████████████████████████████████████████▋                                      | 2/3 [00:01<00:00,  1.38it/s]"
     ]
    },
    {
     "name": "stderr",
     "output_type": "stream",
     "text": [
      "\r",
      "100%|███████████████████████████████████████████████████████████████████████████████████████████████████████████████████| 3/3 [00:02<00:00,  1.43it/s]"
     ]
    },
    {
     "name": "stderr",
     "output_type": "stream",
     "text": [
      "\r",
      "100%|███████████████████████████████████████████████████████████████████████████████████████████████████████████████████| 3/3 [00:02<00:00,  1.40it/s]"
     ]
    },
    {
     "name": "stderr",
     "output_type": "stream",
     "text": [
      "\n"
     ]
    },
    {
     "name": "stderr",
     "output_type": "stream",
     "text": [
      "[I 2024-07-05 14:36:39,890] Trial 0 finished with value: 87.00099762470309 and parameters: {'lr': 0.0013127245462383958, 'num_epochs': 3}. Best is trial 0 with value: 87.00099762470309.\n"
     ]
    },
    {
     "name": "stderr",
     "output_type": "stream",
     "text": [
      "\r",
      "  0%|                                                                                                                           | 0/4 [00:00<?, ?it/s]"
     ]
    },
    {
     "name": "stderr",
     "output_type": "stream",
     "text": [
      "\r",
      " 25%|████████████████████████████▊                                                                                      | 1/4 [00:00<00:01,  1.52it/s]"
     ]
    },
    {
     "name": "stderr",
     "output_type": "stream",
     "text": [
      "\r",
      " 50%|█████████████████████████████████████████████████████████▌                                                         | 2/4 [00:01<00:01,  1.52it/s]"
     ]
    },
    {
     "name": "stderr",
     "output_type": "stream",
     "text": [
      "\r",
      " 75%|██████████████████████████████████████████████████████████████████████████████████████▎                            | 3/4 [00:01<00:00,  1.52it/s]"
     ]
    },
    {
     "name": "stderr",
     "output_type": "stream",
     "text": [
      "\r",
      "100%|███████████████████████████████████████████████████████████████████████████████████████████████████████████████████| 4/4 [00:02<00:00,  1.52it/s]"
     ]
    },
    {
     "name": "stderr",
     "output_type": "stream",
     "text": [
      "\r",
      "100%|███████████████████████████████████████████████████████████████████████████████████████████████████████████████████| 4/4 [00:02<00:00,  1.52it/s]"
     ]
    },
    {
     "name": "stderr",
     "output_type": "stream",
     "text": [
      "\n"
     ]
    },
    {
     "name": "stderr",
     "output_type": "stream",
     "text": [
      "[I 2024-07-05 14:36:47,970] Trial 1 finished with value: 88.54619952494063 and parameters: {'lr': 0.001080265691296867, 'num_epochs': 4}. Best is trial 1 with value: 88.54619952494063.\n"
     ]
    },
    {
     "name": "stderr",
     "output_type": "stream",
     "text": [
      "\r",
      "  0%|                                                                                                                           | 0/4 [00:00<?, ?it/s]"
     ]
    },
    {
     "name": "stdout",
     "output_type": "stream",
     "text": [
      "In and out sizes :\n",
      "fc1 : in = 784, out = 100\n",
      "fc2 : in = 100, out = 100\n",
      "fc3 : in = 100, out = 10\n"
     ]
    },
    {
     "name": "stderr",
     "output_type": "stream",
     "text": [
      "\r",
      " 25%|████████████████████████████▊                                                                                      | 1/4 [00:00<00:01,  1.51it/s]"
     ]
    },
    {
     "name": "stdout",
     "output_type": "stream",
     "text": [
      "In and out sizes :\n",
      "fc1 : in = 784, out = 100\n",
      "fc2 : in = 100, out = 100\n",
      "fc3 : in = 100, out = 10\n"
     ]
    },
    {
     "name": "stderr",
     "output_type": "stream",
     "text": [
      "\r",
      " 50%|█████████████████████████████████████████████████████████▌                                                         | 2/4 [00:01<00:01,  1.52it/s]"
     ]
    },
    {
     "name": "stdout",
     "output_type": "stream",
     "text": [
      "In and out sizes :\n",
      "fc1 : in = 784, out = 100\n",
      "fc2 : in = 100, out = 100\n",
      "fc3 : in = 100, out = 10\n"
     ]
    },
    {
     "name": "stderr",
     "output_type": "stream",
     "text": [
      "\r",
      " 75%|██████████████████████████████████████████████████████████████████████████████████████▎                            | 3/4 [00:01<00:00,  1.53it/s]"
     ]
    },
    {
     "name": "stdout",
     "output_type": "stream",
     "text": [
      "In and out sizes :\n",
      "fc1 : in = 784, out = 100\n",
      "fc2 : in = 100, out = 100\n",
      "fc3 : in = 100, out = 10\n"
     ]
    },
    {
     "name": "stderr",
     "output_type": "stream",
     "text": [
      "\r",
      "100%|███████████████████████████████████████████████████████████████████████████████████████████████████████████████████| 4/4 [00:02<00:00,  1.55it/s]"
     ]
    },
    {
     "name": "stderr",
     "output_type": "stream",
     "text": [
      "\r",
      "100%|███████████████████████████████████████████████████████████████████████████████████████████████████████████████████| 4/4 [00:02<00:00,  1.54it/s]"
     ]
    },
    {
     "name": "stderr",
     "output_type": "stream",
     "text": [
      "\n"
     ]
    },
    {
     "name": "stderr",
     "output_type": "stream",
     "text": [
      "[I 2024-07-05 14:36:53,601] A new study created in memory with name: Search number 2\n"
     ]
    },
    {
     "name": "stdout",
     "output_type": "stream",
     "text": [
      "\n",
      "--------------------------------------------------\n",
      "LEARNING TASK 2\n"
     ]
    },
    {
     "name": "stderr",
     "output_type": "stream",
     "text": [
      "\r",
      "  0%|                                                                                                                           | 0/3 [00:00<?, ?it/s]"
     ]
    },
    {
     "name": "stderr",
     "output_type": "stream",
     "text": [
      "\r",
      " 33%|██████████████████████████████████████▎                                                                            | 1/3 [00:00<00:01,  1.59it/s]"
     ]
    },
    {
     "name": "stderr",
     "output_type": "stream",
     "text": [
      "\r",
      " 67%|████████████████████████████████████████████████████████████████████████████▋                                      | 2/3 [00:01<00:00,  1.58it/s]"
     ]
    },
    {
     "name": "stderr",
     "output_type": "stream",
     "text": [
      "\r",
      "100%|███████████████████████████████████████████████████████████████████████████████████████████████████████████████████| 3/3 [00:01<00:00,  1.47it/s]"
     ]
    },
    {
     "name": "stderr",
     "output_type": "stream",
     "text": [
      "\r",
      "100%|███████████████████████████████████████████████████████████████████████████████████████████████████████████████████| 3/3 [00:01<00:00,  1.50it/s]"
     ]
    },
    {
     "name": "stderr",
     "output_type": "stream",
     "text": [
      "\n"
     ]
    },
    {
     "name": "stderr",
     "output_type": "stream",
     "text": [
      "[I 2024-07-05 14:37:06,473] Trial 0 finished with value: 86.66878859857484 and parameters: {'lr': 0.0013127245462383958, 'num_epochs': 3}. Best is trial 0 with value: 86.66878859857484.\n"
     ]
    },
    {
     "name": "stderr",
     "output_type": "stream",
     "text": [
      "\r",
      "  0%|                                                                                                                           | 0/4 [00:00<?, ?it/s]"
     ]
    },
    {
     "name": "stderr",
     "output_type": "stream",
     "text": [
      "\r",
      " 25%|████████████████████████████▊                                                                                      | 1/4 [00:00<00:01,  1.59it/s]"
     ]
    },
    {
     "name": "stderr",
     "output_type": "stream",
     "text": [
      "\r",
      " 50%|█████████████████████████████████████████████████████████▌                                                         | 2/4 [00:01<00:01,  1.58it/s]"
     ]
    },
    {
     "name": "stderr",
     "output_type": "stream",
     "text": [
      "\r",
      " 75%|██████████████████████████████████████████████████████████████████████████████████████▎                            | 3/4 [00:01<00:00,  1.58it/s]"
     ]
    },
    {
     "name": "stderr",
     "output_type": "stream",
     "text": [
      "\r",
      "100%|███████████████████████████████████████████████████████████████████████████████████████████████████████████████████| 4/4 [00:02<00:00,  1.59it/s]"
     ]
    },
    {
     "name": "stderr",
     "output_type": "stream",
     "text": [
      "\r",
      "100%|███████████████████████████████████████████████████████████████████████████████████████████████████████████████████| 4/4 [00:02<00:00,  1.58it/s]"
     ]
    },
    {
     "name": "stderr",
     "output_type": "stream",
     "text": [
      "\n"
     ]
    },
    {
     "name": "stderr",
     "output_type": "stream",
     "text": [
      "[I 2024-07-05 14:37:19,896] Trial 1 finished with value: 87.88934679334923 and parameters: {'lr': 0.001080265691296867, 'num_epochs': 4}. Best is trial 1 with value: 87.88934679334923.\n"
     ]
    },
    {
     "name": "stderr",
     "output_type": "stream",
     "text": [
      "\r",
      "  0%|                                                                                                                           | 0/4 [00:00<?, ?it/s]"
     ]
    },
    {
     "name": "stdout",
     "output_type": "stream",
     "text": [
      "In and out sizes :\n",
      "fc1 : in = 784, out = 100\n",
      "fc2 : in = 100, out = 100\n",
      "fc3 : in = 100, out = 10\n"
     ]
    },
    {
     "name": "stderr",
     "output_type": "stream",
     "text": [
      "\r",
      " 25%|████████████████████████████▊                                                                                      | 1/4 [00:00<00:01,  1.58it/s]"
     ]
    },
    {
     "name": "stdout",
     "output_type": "stream",
     "text": [
      "In and out sizes :\n",
      "fc1 : in = 784, out = 100\n",
      "fc2 : in = 100, out = 100\n",
      "fc3 : in = 100, out = 10\n"
     ]
    },
    {
     "name": "stderr",
     "output_type": "stream",
     "text": [
      "\r",
      " 50%|█████████████████████████████████████████████████████████▌                                                         | 2/4 [00:01<00:01,  1.58it/s]"
     ]
    },
    {
     "name": "stdout",
     "output_type": "stream",
     "text": [
      "In and out sizes :\n",
      "fc1 : in = 784, out = 100\n",
      "fc2 : in = 100, out = 100\n",
      "fc3 : in = 100, out = 10\n"
     ]
    },
    {
     "name": "stderr",
     "output_type": "stream",
     "text": [
      "\r",
      " 75%|██████████████████████████████████████████████████████████████████████████████████████▎                            | 3/4 [00:01<00:00,  1.58it/s]"
     ]
    },
    {
     "name": "stdout",
     "output_type": "stream",
     "text": [
      "In and out sizes :\n",
      "fc1 : in = 784, out = 100\n",
      "fc2 : in = 100, out = 100\n",
      "fc3 : in = 100, out = 10\n"
     ]
    },
    {
     "name": "stderr",
     "output_type": "stream",
     "text": [
      "\r",
      "100%|███████████████████████████████████████████████████████████████████████████████████████████████████████████████████| 4/4 [00:02<00:00,  1.58it/s]"
     ]
    },
    {
     "name": "stderr",
     "output_type": "stream",
     "text": [
      "\r",
      "100%|███████████████████████████████████████████████████████████████████████████████████████████████████████████████████| 4/4 [00:02<00:00,  1.58it/s]"
     ]
    },
    {
     "name": "stderr",
     "output_type": "stream",
     "text": [
      "\n"
     ]
    },
    {
     "name": "stderr",
     "output_type": "stream",
     "text": [
      "[I 2024-07-05 14:37:25,461] A new study created in memory with name: Search number 3\n"
     ]
    },
    {
     "name": "stdout",
     "output_type": "stream",
     "text": [
      "\n",
      "--------------------------------------------------\n",
      "LEARNING TASK 3\n"
     ]
    },
    {
     "name": "stderr",
     "output_type": "stream",
     "text": [
      "\r",
      "  0%|                                                                                                                           | 0/3 [00:00<?, ?it/s]"
     ]
    },
    {
     "name": "stderr",
     "output_type": "stream",
     "text": [
      "\r",
      " 33%|██████████████████████████████████████▎                                                                            | 1/3 [00:00<00:01,  1.57it/s]"
     ]
    },
    {
     "name": "stderr",
     "output_type": "stream",
     "text": [
      "\r",
      " 67%|████████████████████████████████████████████████████████████████████████████▋                                      | 2/3 [00:01<00:00,  1.58it/s]"
     ]
    },
    {
     "name": "stderr",
     "output_type": "stream",
     "text": [
      "\r",
      "100%|███████████████████████████████████████████████████████████████████████████████████████████████████████████████████| 3/3 [00:01<00:00,  1.58it/s]"
     ]
    },
    {
     "name": "stderr",
     "output_type": "stream",
     "text": [
      "\r",
      "100%|███████████████████████████████████████████████████████████████████████████████████████████████████████████████████| 3/3 [00:01<00:00,  1.58it/s]"
     ]
    },
    {
     "name": "stderr",
     "output_type": "stream",
     "text": [
      "\n"
     ]
    },
    {
     "name": "stderr",
     "output_type": "stream",
     "text": [
      "[I 2024-07-05 14:37:43,668] Trial 0 finished with value: 86.23572446555818 and parameters: {'lr': 0.0013127245462383958, 'num_epochs': 3}. Best is trial 0 with value: 86.23572446555818.\n"
     ]
    },
    {
     "name": "stderr",
     "output_type": "stream",
     "text": [
      "\r",
      "  0%|                                                                                                                           | 0/4 [00:00<?, ?it/s]"
     ]
    },
    {
     "name": "stderr",
     "output_type": "stream",
     "text": [
      "\r",
      " 25%|████████████████████████████▊                                                                                      | 1/4 [00:00<00:01,  1.58it/s]"
     ]
    },
    {
     "name": "stderr",
     "output_type": "stream",
     "text": [
      "\r",
      " 50%|█████████████████████████████████████████████████████████▌                                                         | 2/4 [00:01<00:01,  1.57it/s]"
     ]
    },
    {
     "name": "stderr",
     "output_type": "stream",
     "text": [
      "\r",
      " 75%|██████████████████████████████████████████████████████████████████████████████████████▎                            | 3/4 [00:01<00:00,  1.57it/s]"
     ]
    },
    {
     "name": "stderr",
     "output_type": "stream",
     "text": [
      "\r",
      "100%|███████████████████████████████████████████████████████████████████████████████████████████████████████████████████| 4/4 [00:02<00:00,  1.58it/s]"
     ]
    },
    {
     "name": "stderr",
     "output_type": "stream",
     "text": [
      "\r",
      "100%|███████████████████████████████████████████████████████████████████████████████████████████████████████████████████| 4/4 [00:02<00:00,  1.58it/s]"
     ]
    },
    {
     "name": "stderr",
     "output_type": "stream",
     "text": [
      "\n"
     ]
    },
    {
     "name": "stderr",
     "output_type": "stream",
     "text": [
      "[I 2024-07-05 14:38:02,573] Trial 1 finished with value: 86.45105304829774 and parameters: {'lr': 0.001080265691296867, 'num_epochs': 4}. Best is trial 1 with value: 86.45105304829774.\n"
     ]
    },
    {
     "name": "stderr",
     "output_type": "stream",
     "text": [
      "\r",
      "  0%|                                                                                                                           | 0/4 [00:00<?, ?it/s]"
     ]
    },
    {
     "name": "stdout",
     "output_type": "stream",
     "text": [
      "In and out sizes :\n",
      "fc1 : in = 784, out = 100\n",
      "fc2 : in = 100, out = 100\n",
      "fc3 : in = 100, out = 10\n"
     ]
    },
    {
     "name": "stderr",
     "output_type": "stream",
     "text": [
      "\r",
      " 25%|████████████████████████████▊                                                                                      | 1/4 [00:00<00:01,  1.59it/s]"
     ]
    },
    {
     "name": "stdout",
     "output_type": "stream",
     "text": [
      "In and out sizes :\n",
      "fc1 : in = 784, out = 100\n",
      "fc2 : in = 100, out = 100\n",
      "fc3 : in = 100, out = 10\n"
     ]
    },
    {
     "name": "stderr",
     "output_type": "stream",
     "text": [
      "\r",
      " 50%|█████████████████████████████████████████████████████████▌                                                         | 2/4 [00:01<00:01,  1.57it/s]"
     ]
    },
    {
     "name": "stdout",
     "output_type": "stream",
     "text": [
      "In and out sizes :\n",
      "fc1 : in = 784, out = 100\n",
      "fc2 : in = 100, out = 100\n",
      "fc3 : in = 100, out = 10\n"
     ]
    },
    {
     "name": "stderr",
     "output_type": "stream",
     "text": [
      "\r",
      " 75%|██████████████████████████████████████████████████████████████████████████████████████▎                            | 3/4 [00:01<00:00,  1.57it/s]"
     ]
    },
    {
     "name": "stdout",
     "output_type": "stream",
     "text": [
      "In and out sizes :\n",
      "fc1 : in = 784, out = 100\n",
      "fc2 : in = 100, out = 100\n",
      "fc3 : in = 100, out = 10\n"
     ]
    },
    {
     "name": "stderr",
     "output_type": "stream",
     "text": [
      "\r",
      "100%|███████████████████████████████████████████████████████████████████████████████████████████████████████████████████| 4/4 [00:02<00:00,  1.58it/s]"
     ]
    },
    {
     "name": "stderr",
     "output_type": "stream",
     "text": [
      "\r",
      "100%|███████████████████████████████████████████████████████████████████████████████████████████████████████████████████| 4/4 [00:02<00:00,  1.58it/s]"
     ]
    },
    {
     "name": "stderr",
     "output_type": "stream",
     "text": [
      "\n"
     ]
    }
   ],
   "source": [
    "test_accs_matrix, best_params_list, model = run_HPO(HPO_settings, method_settings, benchmarks_list[0], device, global_seed)"
   ]
  },
  {
   "cell_type": "markdown",
   "id": "b28385f7",
   "metadata": {
    "papermill": {
     "duration": 0.008577,
     "end_time": "2024-07-05T12:38:08.148970",
     "exception": false,
     "start_time": "2024-07-05T12:38:08.140393",
     "status": "completed"
    },
    "tags": []
   },
   "source": [
    "## Visualize results"
   ]
  },
  {
   "cell_type": "code",
   "execution_count": 9,
   "id": "c4ec80ae",
   "metadata": {
    "execution": {
     "iopub.execute_input": "2024-07-05T12:38:08.166609Z",
     "iopub.status.busy": "2024-07-05T12:38:08.166494Z",
     "iopub.status.idle": "2024-07-05T12:38:08.561718Z",
     "shell.execute_reply": "2024-07-05T12:38:08.561158Z"
    },
    "papermill": {
     "duration": 0.405677,
     "end_time": "2024-07-05T12:38:08.563289",
     "exception": false,
     "start_time": "2024-07-05T12:38:08.157612",
     "status": "completed"
    },
    "tags": []
   },
   "outputs": [
    {
     "data": {
      "image/png": "[encoded data removed]",
      "text/plain": [
       "<Figure size 640x480 with 2 Axes>"
      ]
     },
     "metadata": {},
     "output_type": "display_data"
    },
    {
     "data": {
      "image/png": "[encoded data removed]",
      "text/plain": [
       "<Figure size 640x480 with 1 Axes>"
      ]
     },
     "metadata": {},
     "output_type": "display_data"
    },
    {
     "data": {
      "image/png": "[encoded data removed]",
      "text/plain": [
       "<Figure size 1000x500 with 2 Axes>"
      ]
     },
     "metadata": {},
     "output_type": "display_data"
    }
   ],
   "source": [
    "visualize_HPO(test_accs_matrix, best_params_list, visualization_settings, HPO_settings, method_settings, benchmark_settings)"
   ]
  },
  {
   "cell_type": "markdown",
   "id": "28031657",
   "metadata": {
    "papermill": {
     "duration": 0.009269,
     "end_time": "2024-07-05T12:38:08.582180",
     "exception": false,
     "start_time": "2024-07-05T12:38:08.572911",
     "status": "completed"
    },
    "tags": []
   },
   "source": [
    "## Validate"
   ]
  },
  {
   "cell_type": "code",
   "execution_count": 10,
   "id": "b015d688",
   "metadata": {
    "execution": {
     "iopub.execute_input": "2024-07-05T12:38:08.600213Z",
     "iopub.status.busy": "2024-07-05T12:38:08.599945Z",
     "iopub.status.idle": "2024-07-05T12:38:51.140963Z",
     "shell.execute_reply": "2024-07-05T12:38:51.140313Z"
    },
    "papermill": {
     "duration": 42.550953,
     "end_time": "2024-07-05T12:38:51.142655",
     "exception": false,
     "start_time": "2024-07-05T12:38:08.591702",
     "status": "completed"
    },
    "tags": []
   },
   "outputs": [
    {
     "name": "stdout",
     "output_type": "stream",
     "text": [
      "\n",
      "==================================================\n",
      "BENCHMARK 0\n",
      "\n",
      "--------------------------------------------------\n",
      "LEARNING TASK 1\n"
     ]
    },
    {
     "name": "stderr",
     "output_type": "stream",
     "text": [
      "\r",
      "  0%|                                                                                                                           | 0/4 [00:00<?, ?it/s]"
     ]
    },
    {
     "name": "stdout",
     "output_type": "stream",
     "text": [
      "In and out sizes :\n",
      "fc1 : in = 784, out = 100\n",
      "fc2 : in = 100, out = 100\n",
      "fc3 : in = 100, out = 10\n"
     ]
    },
    {
     "name": "stderr",
     "output_type": "stream",
     "text": [
      "\r",
      " 25%|████████████████████████████▊                                                                                      | 1/4 [00:00<00:01,  1.57it/s]"
     ]
    },
    {
     "name": "stdout",
     "output_type": "stream",
     "text": [
      "In and out sizes :\n",
      "fc1 : in = 784, out = 100\n",
      "fc2 : in = 100, out = 100\n",
      "fc3 : in = 100, out = 10\n"
     ]
    },
    {
     "name": "stderr",
     "output_type": "stream",
     "text": [
      "\r",
      " 50%|█████████████████████████████████████████████████████████▌                                                         | 2/4 [00:01<00:01,  1.55it/s]"
     ]
    },
    {
     "name": "stdout",
     "output_type": "stream",
     "text": [
      "In and out sizes :\n",
      "fc1 : in = 784, out = 100\n",
      "fc2 : in = 100, out = 100\n",
      "fc3 : in = 100, out = 10\n"
     ]
    },
    {
     "name": "stderr",
     "output_type": "stream",
     "text": [
      "\r",
      " 75%|██████████████████████████████████████████████████████████████████████████████████████▎                            | 3/4 [00:01<00:00,  1.57it/s]"
     ]
    },
    {
     "name": "stdout",
     "output_type": "stream",
     "text": [
      "In and out sizes :\n",
      "fc1 : in = 784, out = 100\n",
      "fc2 : in = 100, out = 100\n",
      "fc3 : in = 100, out = 10\n"
     ]
    },
    {
     "name": "stderr",
     "output_type": "stream",
     "text": [
      "\r",
      "100%|███████████████████████████████████████████████████████████████████████████████████████████████████████████████████| 4/4 [00:02<00:00,  1.57it/s]"
     ]
    },
    {
     "name": "stderr",
     "output_type": "stream",
     "text": [
      "\r",
      "100%|███████████████████████████████████████████████████████████████████████████████████████████████████████████████████| 4/4 [00:02<00:00,  1.57it/s]"
     ]
    },
    {
     "name": "stderr",
     "output_type": "stream",
     "text": [
      "\n"
     ]
    },
    {
     "name": "stdout",
     "output_type": "stream",
     "text": [
      "\n",
      "--------------------------------------------------\n",
      "LEARNING TASK 2\n"
     ]
    },
    {
     "name": "stderr",
     "output_type": "stream",
     "text": [
      "\r",
      "  0%|                                                                                                                           | 0/4 [00:00<?, ?it/s]"
     ]
    },
    {
     "name": "stdout",
     "output_type": "stream",
     "text": [
      "In and out sizes :\n",
      "fc1 : in = 784, out = 100\n",
      "fc2 : in = 100, out = 100\n",
      "fc3 : in = 100, out = 10\n"
     ]
    },
    {
     "name": "stderr",
     "output_type": "stream",
     "text": [
      "\r",
      " 25%|████████████████████████████▊                                                                                      | 1/4 [00:00<00:01,  1.59it/s]"
     ]
    },
    {
     "name": "stdout",
     "output_type": "stream",
     "text": [
      "In and out sizes :\n",
      "fc1 : in = 784, out = 100\n",
      "fc2 : in = 100, out = 100\n",
      "fc3 : in = 100, out = 10\n"
     ]
    },
    {
     "name": "stderr",
     "output_type": "stream",
     "text": [
      "\r",
      " 50%|█████████████████████████████████████████████████████████▌                                                         | 2/4 [00:01<00:01,  1.58it/s]"
     ]
    },
    {
     "name": "stdout",
     "output_type": "stream",
     "text": [
      "In and out sizes :\n",
      "fc1 : in = 784, out = 100\n",
      "fc2 : in = 100, out = 100\n",
      "fc3 : in = 100, out = 10\n"
     ]
    },
    {
     "name": "stderr",
     "output_type": "stream",
     "text": [
      "\r",
      " 75%|██████████████████████████████████████████████████████████████████████████████████████▎                            | 3/4 [00:01<00:00,  1.58it/s]"
     ]
    },
    {
     "name": "stdout",
     "output_type": "stream",
     "text": [
      "In and out sizes :\n",
      "fc1 : in = 784, out = 100\n",
      "fc2 : in = 100, out = 100\n",
      "fc3 : in = 100, out = 10\n"
     ]
    },
    {
     "name": "stderr",
     "output_type": "stream",
     "text": [
      "\r",
      "100%|███████████████████████████████████████████████████████████████████████████████████████████████████████████████████| 4/4 [00:02<00:00,  1.58it/s]"
     ]
    },
    {
     "name": "stderr",
     "output_type": "stream",
     "text": [
      "\r",
      "100%|███████████████████████████████████████████████████████████████████████████████████████████████████████████████████| 4/4 [00:02<00:00,  1.58it/s]"
     ]
    },
    {
     "name": "stderr",
     "output_type": "stream",
     "text": [
      "\n"
     ]
    },
    {
     "name": "stdout",
     "output_type": "stream",
     "text": [
      "\n",
      "--------------------------------------------------\n",
      "LEARNING TASK 3\n"
     ]
    },
    {
     "name": "stderr",
     "output_type": "stream",
     "text": [
      "\r",
      "  0%|                                                                                                                           | 0/4 [00:00<?, ?it/s]"
     ]
    },
    {
     "name": "stdout",
     "output_type": "stream",
     "text": [
      "In and out sizes :\n",
      "fc1 : in = 784, out = 100\n",
      "fc2 : in = 100, out = 100\n",
      "fc3 : in = 100, out = 10\n"
     ]
    },
    {
     "name": "stderr",
     "output_type": "stream",
     "text": [
      "\r",
      " 25%|████████████████████████████▊                                                                                      | 1/4 [00:00<00:01,  1.57it/s]"
     ]
    },
    {
     "name": "stdout",
     "output_type": "stream",
     "text": [
      "In and out sizes :\n",
      "fc1 : in = 784, out = 100\n",
      "fc2 : in = 100, out = 100\n",
      "fc3 : in = 100, out = 10\n"
     ]
    },
    {
     "name": "stderr",
     "output_type": "stream",
     "text": [
      "\r",
      " 50%|█████████████████████████████████████████████████████████▌                                                         | 2/4 [00:01<00:01,  1.57it/s]"
     ]
    },
    {
     "name": "stdout",
     "output_type": "stream",
     "text": [
      "In and out sizes :\n",
      "fc1 : in = 784, out = 100\n",
      "fc2 : in = 100, out = 100\n",
      "fc3 : in = 100, out = 10\n"
     ]
    },
    {
     "name": "stderr",
     "output_type": "stream",
     "text": [
      "\r",
      " 75%|██████████████████████████████████████████████████████████████████████████████████████▎                            | 3/4 [00:01<00:00,  1.56it/s]"
     ]
    },
    {
     "name": "stdout",
     "output_type": "stream",
     "text": [
      "In and out sizes :\n",
      "fc1 : in = 784, out = 127\n",
      "fc2 : in = 127, out = 100\n",
      "fc3 : in = 100, out = 10\n"
     ]
    },
    {
     "name": "stderr",
     "output_type": "stream",
     "text": [
      "\r",
      "100%|███████████████████████████████████████████████████████████████████████████████████████████████████████████████████| 4/4 [00:02<00:00,  1.57it/s]"
     ]
    },
    {
     "name": "stderr",
     "output_type": "stream",
     "text": [
      "\r",
      "100%|███████████████████████████████████████████████████████████████████████████████████████████████████████████████████| 4/4 [00:02<00:00,  1.57it/s]"
     ]
    },
    {
     "name": "stderr",
     "output_type": "stream",
     "text": [
      "\n"
     ]
    },
    {
     "name": "stdout",
     "output_type": "stream",
     "text": [
      "\n",
      "==================================================\n",
      "BENCHMARK 1\n",
      "\n",
      "--------------------------------------------------\n",
      "LEARNING TASK 1\n"
     ]
    },
    {
     "name": "stderr",
     "output_type": "stream",
     "text": [
      "\r",
      "  0%|                                                                                                                           | 0/4 [00:00<?, ?it/s]"
     ]
    },
    {
     "name": "stdout",
     "output_type": "stream",
     "text": [
      "In and out sizes :\n",
      "fc1 : in = 784, out = 100\n",
      "fc2 : in = 100, out = 100\n",
      "fc3 : in = 100, out = 10\n"
     ]
    },
    {
     "name": "stderr",
     "output_type": "stream",
     "text": [
      "\r",
      " 25%|████████████████████████████▊                                                                                      | 1/4 [00:00<00:01,  1.56it/s]"
     ]
    },
    {
     "name": "stdout",
     "output_type": "stream",
     "text": [
      "In and out sizes :\n",
      "fc1 : in = 784, out = 100\n",
      "fc2 : in = 100, out = 100\n",
      "fc3 : in = 100, out = 10\n"
     ]
    },
    {
     "name": "stderr",
     "output_type": "stream",
     "text": [
      "\r",
      " 50%|█████████████████████████████████████████████████████████▌                                                         | 2/4 [00:01<00:01,  1.58it/s]"
     ]
    },
    {
     "name": "stdout",
     "output_type": "stream",
     "text": [
      "In and out sizes :\n",
      "fc1 : in = 784, out = 100\n",
      "fc2 : in = 100, out = 100\n",
      "fc3 : in = 100, out = 10\n"
     ]
    },
    {
     "name": "stderr",
     "output_type": "stream",
     "text": [
      "\r",
      " 75%|██████████████████████████████████████████████████████████████████████████████████████▎                            | 3/4 [00:01<00:00,  1.58it/s]"
     ]
    },
    {
     "name": "stdout",
     "output_type": "stream",
     "text": [
      "In and out sizes :\n",
      "fc1 : in = 784, out = 100\n",
      "fc2 : in = 100, out = 100\n",
      "fc3 : in = 100, out = 10\n"
     ]
    },
    {
     "name": "stderr",
     "output_type": "stream",
     "text": [
      "\r",
      "100%|███████████████████████████████████████████████████████████████████████████████████████████████████████████████████| 4/4 [00:02<00:00,  1.58it/s]"
     ]
    },
    {
     "name": "stderr",
     "output_type": "stream",
     "text": [
      "\r",
      "100%|███████████████████████████████████████████████████████████████████████████████████████████████████████████████████| 4/4 [00:02<00:00,  1.58it/s]"
     ]
    },
    {
     "name": "stderr",
     "output_type": "stream",
     "text": [
      "\n"
     ]
    },
    {
     "name": "stdout",
     "output_type": "stream",
     "text": [
      "\n",
      "--------------------------------------------------\n",
      "LEARNING TASK 2\n"
     ]
    },
    {
     "name": "stderr",
     "output_type": "stream",
     "text": [
      "\r",
      "  0%|                                                                                                                           | 0/4 [00:00<?, ?it/s]"
     ]
    },
    {
     "name": "stdout",
     "output_type": "stream",
     "text": [
      "In and out sizes :\n",
      "fc1 : in = 784, out = 100\n",
      "fc2 : in = 100, out = 100\n",
      "fc3 : in = 100, out = 10\n"
     ]
    },
    {
     "name": "stderr",
     "output_type": "stream",
     "text": [
      "\r",
      " 25%|████████████████████████████▊                                                                                      | 1/4 [00:00<00:01,  1.59it/s]"
     ]
    },
    {
     "name": "stdout",
     "output_type": "stream",
     "text": [
      "In and out sizes :\n",
      "fc1 : in = 784, out = 100\n",
      "fc2 : in = 100, out = 100\n",
      "fc3 : in = 100, out = 10\n"
     ]
    },
    {
     "name": "stderr",
     "output_type": "stream",
     "text": [
      "\r",
      " 50%|█████████████████████████████████████████████████████████▌                                                         | 2/4 [00:01<00:01,  1.59it/s]"
     ]
    },
    {
     "name": "stdout",
     "output_type": "stream",
     "text": [
      "In and out sizes :\n",
      "fc1 : in = 784, out = 100\n",
      "fc2 : in = 100, out = 100\n",
      "fc3 : in = 100, out = 10\n"
     ]
    },
    {
     "name": "stderr",
     "output_type": "stream",
     "text": [
      "\r",
      " 75%|██████████████████████████████████████████████████████████████████████████████████████▎                            | 3/4 [00:01<00:00,  1.58it/s]"
     ]
    },
    {
     "name": "stdout",
     "output_type": "stream",
     "text": [
      "In and out sizes :\n",
      "fc1 : in = 784, out = 100\n",
      "fc2 : in = 100, out = 100\n",
      "fc3 : in = 100, out = 10\n"
     ]
    },
    {
     "name": "stderr",
     "output_type": "stream",
     "text": [
      "\r",
      "100%|███████████████████████████████████████████████████████████████████████████████████████████████████████████████████| 4/4 [00:02<00:00,  1.58it/s]"
     ]
    },
    {
     "name": "stderr",
     "output_type": "stream",
     "text": [
      "\r",
      "100%|███████████████████████████████████████████████████████████████████████████████████████████████████████████████████| 4/4 [00:02<00:00,  1.58it/s]"
     ]
    },
    {
     "name": "stderr",
     "output_type": "stream",
     "text": [
      "\n"
     ]
    },
    {
     "name": "stdout",
     "output_type": "stream",
     "text": [
      "\n",
      "--------------------------------------------------\n",
      "LEARNING TASK 3\n"
     ]
    },
    {
     "name": "stderr",
     "output_type": "stream",
     "text": [
      "\r",
      "  0%|                                                                                                                           | 0/4 [00:00<?, ?it/s]"
     ]
    },
    {
     "name": "stdout",
     "output_type": "stream",
     "text": [
      "In and out sizes :\n",
      "fc1 : in = 784, out = 100\n",
      "fc2 : in = 100, out = 100\n",
      "fc3 : in = 100, out = 10\n"
     ]
    },
    {
     "name": "stderr",
     "output_type": "stream",
     "text": [
      "\r",
      " 25%|████████████████████████████▊                                                                                      | 1/4 [00:00<00:01,  1.57it/s]"
     ]
    },
    {
     "name": "stdout",
     "output_type": "stream",
     "text": [
      "In and out sizes :\n",
      "fc1 : in = 784, out = 100\n",
      "fc2 : in = 100, out = 100\n",
      "fc3 : in = 100, out = 10\n"
     ]
    },
    {
     "name": "stderr",
     "output_type": "stream",
     "text": [
      "\r",
      " 50%|█████████████████████████████████████████████████████████▌                                                         | 2/4 [00:01<00:01,  1.58it/s]"
     ]
    },
    {
     "name": "stdout",
     "output_type": "stream",
     "text": [
      "In and out sizes :\n",
      "fc1 : in = 784, out = 100\n",
      "fc2 : in = 100, out = 100\n",
      "fc3 : in = 100, out = 10\n"
     ]
    },
    {
     "name": "stderr",
     "output_type": "stream",
     "text": [
      "\r",
      " 75%|██████████████████████████████████████████████████████████████████████████████████████▎                            | 3/4 [00:01<00:00,  1.58it/s]"
     ]
    },
    {
     "name": "stdout",
     "output_type": "stream",
     "text": [
      "In and out sizes :\n",
      "fc1 : in = 784, out = 100\n",
      "fc2 : in = 100, out = 100\n",
      "fc3 : in = 100, out = 10\n"
     ]
    },
    {
     "name": "stderr",
     "output_type": "stream",
     "text": [
      "\r",
      "100%|███████████████████████████████████████████████████████████████████████████████████████████████████████████████████| 4/4 [00:02<00:00,  1.58it/s]"
     ]
    },
    {
     "name": "stderr",
     "output_type": "stream",
     "text": [
      "\r",
      "100%|███████████████████████████████████████████████████████████████████████████████████████████████████████████████████| 4/4 [00:02<00:00,  1.58it/s]"
     ]
    },
    {
     "name": "stderr",
     "output_type": "stream",
     "text": [
      "\n"
     ]
    },
    {
     "name": "stdout",
     "output_type": "stream",
     "text": [
      "\n",
      "==================================================\n",
      "BENCHMARK 2\n",
      "\n",
      "--------------------------------------------------\n",
      "LEARNING TASK 1\n"
     ]
    },
    {
     "name": "stderr",
     "output_type": "stream",
     "text": [
      "\r",
      "  0%|                                                                                                                           | 0/4 [00:00<?, ?it/s]"
     ]
    },
    {
     "name": "stdout",
     "output_type": "stream",
     "text": [
      "In and out sizes :\n",
      "fc1 : in = 784, out = 100\n",
      "fc2 : in = 100, out = 100\n",
      "fc3 : in = 100, out = 10\n"
     ]
    },
    {
     "name": "stderr",
     "output_type": "stream",
     "text": [
      "\r",
      " 25%|████████████████████████████▊                                                                                      | 1/4 [00:00<00:01,  1.59it/s]"
     ]
    },
    {
     "name": "stdout",
     "output_type": "stream",
     "text": [
      "In and out sizes :\n",
      "fc1 : in = 784, out = 100\n",
      "fc2 : in = 100, out = 100\n",
      "fc3 : in = 100, out = 10\n"
     ]
    },
    {
     "name": "stderr",
     "output_type": "stream",
     "text": [
      "\r",
      " 50%|█████████████████████████████████████████████████████████▌                                                         | 2/4 [00:01<00:01,  1.58it/s]"
     ]
    },
    {
     "name": "stdout",
     "output_type": "stream",
     "text": [
      "In and out sizes :\n",
      "fc1 : in = 784, out = 100\n",
      "fc2 : in = 100, out = 100\n",
      "fc3 : in = 100, out = 10\n"
     ]
    },
    {
     "name": "stderr",
     "output_type": "stream",
     "text": [
      "\r",
      " 75%|██████████████████████████████████████████████████████████████████████████████████████▎                            | 3/4 [00:01<00:00,  1.59it/s]"
     ]
    },
    {
     "name": "stdout",
     "output_type": "stream",
     "text": [
      "In and out sizes :\n",
      "fc1 : in = 784, out = 100\n",
      "fc2 : in = 100, out = 100\n",
      "fc3 : in = 100, out = 10\n"
     ]
    },
    {
     "name": "stderr",
     "output_type": "stream",
     "text": [
      "\r",
      "100%|███████████████████████████████████████████████████████████████████████████████████████████████████████████████████| 4/4 [00:02<00:00,  1.59it/s]"
     ]
    },
    {
     "name": "stderr",
     "output_type": "stream",
     "text": [
      "\r",
      "100%|███████████████████████████████████████████████████████████████████████████████████████████████████████████████████| 4/4 [00:02<00:00,  1.59it/s]"
     ]
    },
    {
     "name": "stderr",
     "output_type": "stream",
     "text": [
      "\n"
     ]
    },
    {
     "name": "stdout",
     "output_type": "stream",
     "text": [
      "\n",
      "--------------------------------------------------\n",
      "LEARNING TASK 2\n"
     ]
    },
    {
     "name": "stderr",
     "output_type": "stream",
     "text": [
      "\r",
      "  0%|                                                                                                                           | 0/4 [00:00<?, ?it/s]"
     ]
    },
    {
     "name": "stdout",
     "output_type": "stream",
     "text": [
      "In and out sizes :\n",
      "fc1 : in = 784, out = 100\n",
      "fc2 : in = 100, out = 100\n",
      "fc3 : in = 100, out = 10\n"
     ]
    },
    {
     "name": "stderr",
     "output_type": "stream",
     "text": [
      "\r",
      " 25%|████████████████████████████▊                                                                                      | 1/4 [00:00<00:01,  1.58it/s]"
     ]
    },
    {
     "name": "stdout",
     "output_type": "stream",
     "text": [
      "In and out sizes :\n",
      "fc1 : in = 784, out = 100\n",
      "fc2 : in = 100, out = 100\n",
      "fc3 : in = 100, out = 10\n"
     ]
    },
    {
     "name": "stderr",
     "output_type": "stream",
     "text": [
      "\r",
      " 50%|█████████████████████████████████████████████████████████▌                                                         | 2/4 [00:01<00:01,  1.58it/s]"
     ]
    },
    {
     "name": "stdout",
     "output_type": "stream",
     "text": [
      "In and out sizes :\n",
      "fc1 : in = 784, out = 100\n",
      "fc2 : in = 100, out = 100\n",
      "fc3 : in = 100, out = 10\n"
     ]
    },
    {
     "name": "stderr",
     "output_type": "stream",
     "text": [
      "\r",
      " 75%|██████████████████████████████████████████████████████████████████████████████████████▎                            | 3/4 [00:01<00:00,  1.58it/s]"
     ]
    },
    {
     "name": "stdout",
     "output_type": "stream",
     "text": [
      "In and out sizes :\n",
      "fc1 : in = 784, out = 100\n",
      "fc2 : in = 100, out = 100\n",
      "fc3 : in = 100, out = 10\n"
     ]
    },
    {
     "name": "stderr",
     "output_type": "stream",
     "text": [
      "\r",
      "100%|███████████████████████████████████████████████████████████████████████████████████████████████████████████████████| 4/4 [00:02<00:00,  1.58it/s]"
     ]
    },
    {
     "name": "stderr",
     "output_type": "stream",
     "text": [
      "\r",
      "100%|███████████████████████████████████████████████████████████████████████████████████████████████████████████████████| 4/4 [00:02<00:00,  1.58it/s]"
     ]
    },
    {
     "name": "stderr",
     "output_type": "stream",
     "text": [
      "\n"
     ]
    },
    {
     "name": "stdout",
     "output_type": "stream",
     "text": [
      "\n",
      "--------------------------------------------------\n",
      "LEARNING TASK 3\n"
     ]
    },
    {
     "name": "stderr",
     "output_type": "stream",
     "text": [
      "\r",
      "  0%|                                                                                                                           | 0/4 [00:00<?, ?it/s]"
     ]
    },
    {
     "name": "stdout",
     "output_type": "stream",
     "text": [
      "In and out sizes :\n",
      "fc1 : in = 784, out = 100\n",
      "fc2 : in = 100, out = 100\n",
      "fc3 : in = 100, out = 10\n"
     ]
    },
    {
     "name": "stderr",
     "output_type": "stream",
     "text": [
      "\r",
      " 25%|████████████████████████████▊                                                                                      | 1/4 [00:00<00:01,  1.59it/s]"
     ]
    },
    {
     "name": "stdout",
     "output_type": "stream",
     "text": [
      "In and out sizes :\n",
      "fc1 : in = 784, out = 100\n",
      "fc2 : in = 100, out = 100\n",
      "fc3 : in = 100, out = 10\n"
     ]
    },
    {
     "name": "stderr",
     "output_type": "stream",
     "text": [
      "\r",
      " 50%|█████████████████████████████████████████████████████████▌                                                         | 2/4 [00:01<00:01,  1.58it/s]"
     ]
    },
    {
     "name": "stdout",
     "output_type": "stream",
     "text": [
      "In and out sizes :\n",
      "fc1 : in = 784, out = 100\n",
      "fc2 : in = 100, out = 100\n",
      "fc3 : in = 100, out = 10\n"
     ]
    },
    {
     "name": "stderr",
     "output_type": "stream",
     "text": [
      "\r",
      " 75%|██████████████████████████████████████████████████████████████████████████████████████▎                            | 3/4 [00:01<00:00,  1.58it/s]"
     ]
    },
    {
     "name": "stdout",
     "output_type": "stream",
     "text": [
      "In and out sizes :\n",
      "fc1 : in = 784, out = 100\n",
      "fc2 : in = 100, out = 100\n",
      "fc3 : in = 100, out = 10\n"
     ]
    },
    {
     "name": "stderr",
     "output_type": "stream",
     "text": [
      "\r",
      "100%|███████████████████████████████████████████████████████████████████████████████████████████████████████████████████| 4/4 [00:02<00:00,  1.58it/s]"
     ]
    },
    {
     "name": "stderr",
     "output_type": "stream",
     "text": [
      "\r",
      "100%|███████████████████████████████████████████████████████████████████████████████████████████████████████████████████| 4/4 [00:02<00:00,  1.58it/s]"
     ]
    },
    {
     "name": "stderr",
     "output_type": "stream",
     "text": [
      "\n"
     ]
    },
    {
     "name": "stdout",
     "output_type": "stream",
     "text": [
      "\n",
      "==================================================\n",
      "BENCHMARK 3\n",
      "\n",
      "--------------------------------------------------\n",
      "LEARNING TASK 1\n"
     ]
    },
    {
     "name": "stderr",
     "output_type": "stream",
     "text": [
      "\r",
      "  0%|                                                                                                                           | 0/4 [00:00<?, ?it/s]"
     ]
    },
    {
     "name": "stdout",
     "output_type": "stream",
     "text": [
      "In and out sizes :\n",
      "fc1 : in = 784, out = 100\n",
      "fc2 : in = 100, out = 100\n",
      "fc3 : in = 100, out = 10\n"
     ]
    },
    {
     "name": "stderr",
     "output_type": "stream",
     "text": [
      "\r",
      " 25%|████████████████████████████▊                                                                                      | 1/4 [00:00<00:01,  1.57it/s]"
     ]
    },
    {
     "name": "stdout",
     "output_type": "stream",
     "text": [
      "In and out sizes :\n",
      "fc1 : in = 784, out = 100\n",
      "fc2 : in = 100, out = 100\n",
      "fc3 : in = 100, out = 10\n"
     ]
    },
    {
     "name": "stderr",
     "output_type": "stream",
     "text": [
      "\r",
      " 50%|█████████████████████████████████████████████████████████▌                                                         | 2/4 [00:01<00:01,  1.58it/s]"
     ]
    },
    {
     "name": "stdout",
     "output_type": "stream",
     "text": [
      "In and out sizes :\n",
      "fc1 : in = 784, out = 100\n",
      "fc2 : in = 100, out = 100\n",
      "fc3 : in = 100, out = 10\n"
     ]
    },
    {
     "name": "stderr",
     "output_type": "stream",
     "text": [
      "\r",
      " 75%|██████████████████████████████████████████████████████████████████████████████████████▎                            | 3/4 [00:01<00:00,  1.58it/s]"
     ]
    },
    {
     "name": "stdout",
     "output_type": "stream",
     "text": [
      "In and out sizes :\n",
      "fc1 : in = 784, out = 100\n",
      "fc2 : in = 100, out = 100\n",
      "fc3 : in = 100, out = 10\n"
     ]
    },
    {
     "name": "stderr",
     "output_type": "stream",
     "text": [
      "\r",
      "100%|███████████████████████████████████████████████████████████████████████████████████████████████████████████████████| 4/4 [00:02<00:00,  1.59it/s]"
     ]
    },
    {
     "name": "stderr",
     "output_type": "stream",
     "text": [
      "\r",
      "100%|███████████████████████████████████████████████████████████████████████████████████████████████████████████████████| 4/4 [00:02<00:00,  1.58it/s]"
     ]
    },
    {
     "name": "stderr",
     "output_type": "stream",
     "text": [
      "\n"
     ]
    },
    {
     "name": "stdout",
     "output_type": "stream",
     "text": [
      "\n",
      "--------------------------------------------------\n",
      "LEARNING TASK 2\n"
     ]
    },
    {
     "name": "stderr",
     "output_type": "stream",
     "text": [
      "\r",
      "  0%|                                                                                                                           | 0/4 [00:00<?, ?it/s]"
     ]
    },
    {
     "name": "stdout",
     "output_type": "stream",
     "text": [
      "In and out sizes :\n",
      "fc1 : in = 784, out = 100\n",
      "fc2 : in = 100, out = 100\n",
      "fc3 : in = 100, out = 10\n"
     ]
    },
    {
     "name": "stderr",
     "output_type": "stream",
     "text": [
      "\r",
      " 25%|████████████████████████████▊                                                                                      | 1/4 [00:00<00:01,  1.57it/s]"
     ]
    },
    {
     "name": "stdout",
     "output_type": "stream",
     "text": [
      "In and out sizes :\n",
      "fc1 : in = 784, out = 100\n",
      "fc2 : in = 100, out = 100\n",
      "fc3 : in = 100, out = 10\n"
     ]
    },
    {
     "name": "stderr",
     "output_type": "stream",
     "text": [
      "\r",
      " 50%|█████████████████████████████████████████████████████████▌                                                         | 2/4 [00:01<00:01,  1.58it/s]"
     ]
    },
    {
     "name": "stdout",
     "output_type": "stream",
     "text": [
      "In and out sizes :\n",
      "fc1 : in = 784, out = 100\n",
      "fc2 : in = 100, out = 100\n",
      "fc3 : in = 100, out = 10\n"
     ]
    },
    {
     "name": "stderr",
     "output_type": "stream",
     "text": [
      "\r",
      " 75%|██████████████████████████████████████████████████████████████████████████████████████▎                            | 3/4 [00:01<00:00,  1.57it/s]"
     ]
    },
    {
     "name": "stdout",
     "output_type": "stream",
     "text": [
      "In and out sizes :\n",
      "fc1 : in = 784, out = 100\n",
      "fc2 : in = 100, out = 100\n",
      "fc3 : in = 100, out = 10\n"
     ]
    },
    {
     "name": "stderr",
     "output_type": "stream",
     "text": [
      "\r",
      "100%|███████████████████████████████████████████████████████████████████████████████████████████████████████████████████| 4/4 [00:02<00:00,  1.58it/s]"
     ]
    },
    {
     "name": "stderr",
     "output_type": "stream",
     "text": [
      "\r",
      "100%|███████████████████████████████████████████████████████████████████████████████████████████████████████████████████| 4/4 [00:02<00:00,  1.58it/s]"
     ]
    },
    {
     "name": "stderr",
     "output_type": "stream",
     "text": [
      "\n"
     ]
    },
    {
     "name": "stdout",
     "output_type": "stream",
     "text": [
      "\n",
      "--------------------------------------------------\n",
      "LEARNING TASK 3\n"
     ]
    },
    {
     "name": "stderr",
     "output_type": "stream",
     "text": [
      "\r",
      "  0%|                                                                                                                           | 0/4 [00:00<?, ?it/s]"
     ]
    },
    {
     "name": "stdout",
     "output_type": "stream",
     "text": [
      "In and out sizes :\n",
      "fc1 : in = 784, out = 100\n",
      "fc2 : in = 100, out = 100\n",
      "fc3 : in = 100, out = 10\n"
     ]
    },
    {
     "name": "stderr",
     "output_type": "stream",
     "text": [
      "\r",
      " 25%|████████████████████████████▊                                                                                      | 1/4 [00:00<00:01,  1.58it/s]"
     ]
    },
    {
     "name": "stdout",
     "output_type": "stream",
     "text": [
      "In and out sizes :\n",
      "fc1 : in = 784, out = 100\n",
      "fc2 : in = 100, out = 100\n",
      "fc3 : in = 100, out = 10\n"
     ]
    },
    {
     "name": "stderr",
     "output_type": "stream",
     "text": [
      "\r",
      " 50%|█████████████████████████████████████████████████████████▌                                                         | 2/4 [00:01<00:01,  1.58it/s]"
     ]
    },
    {
     "name": "stdout",
     "output_type": "stream",
     "text": [
      "In and out sizes :\n",
      "fc1 : in = 784, out = 100\n",
      "fc2 : in = 100, out = 100\n",
      "fc3 : in = 100, out = 10\n"
     ]
    },
    {
     "name": "stderr",
     "output_type": "stream",
     "text": [
      "\r",
      " 75%|██████████████████████████████████████████████████████████████████████████████████████▎                            | 3/4 [00:01<00:00,  1.58it/s]"
     ]
    },
    {
     "name": "stdout",
     "output_type": "stream",
     "text": [
      "In and out sizes :\n",
      "fc1 : in = 784, out = 100\n",
      "fc2 : in = 100, out = 100\n",
      "fc3 : in = 100, out = 10\n"
     ]
    },
    {
     "name": "stderr",
     "output_type": "stream",
     "text": [
      "\r",
      "100%|███████████████████████████████████████████████████████████████████████████████████████████████████████████████████| 4/4 [00:02<00:00,  1.58it/s]"
     ]
    },
    {
     "name": "stderr",
     "output_type": "stream",
     "text": [
      "\r",
      "100%|███████████████████████████████████████████████████████████████████████████████████████████████████████████████████| 4/4 [00:02<00:00,  1.58it/s]"
     ]
    },
    {
     "name": "stderr",
     "output_type": "stream",
     "text": [
      "\n"
     ]
    }
   ],
   "source": [
    "val_accs_matrix = validate(benchmarks_list, method_settings, best_params_list, device, global_seed)"
   ]
  },
  {
   "cell_type": "markdown",
   "id": "54bd78bf",
   "metadata": {
    "papermill": {
     "duration": 0.016962,
     "end_time": "2024-07-05T12:38:51.178239",
     "exception": false,
     "start_time": "2024-07-05T12:38:51.161277",
     "status": "completed"
    },
    "tags": []
   },
   "source": [
    "## Visualize validation"
   ]
  },
  {
   "cell_type": "code",
   "execution_count": 11,
   "id": "3122533b",
   "metadata": {
    "execution": {
     "iopub.execute_input": "2024-07-05T12:38:51.196404Z",
     "iopub.status.busy": "2024-07-05T12:38:51.196131Z",
     "iopub.status.idle": "2024-07-05T12:38:51.200048Z",
     "shell.execute_reply": "2024-07-05T12:38:51.199728Z"
    },
    "papermill": {
     "duration": 0.012874,
     "end_time": "2024-07-05T12:38:51.200777",
     "exception": false,
     "start_time": "2024-07-05T12:38:51.187903",
     "status": "completed"
    },
    "tags": []
   },
   "outputs": [
    {
     "data": {
      "text/plain": [
       "array([[88.94, 13.39,  8.85],\n",
       "       [86.83, 89.59,  9.07],\n",
       "       [84.73, 87.06, 89.38]])"
      ]
     },
     "execution_count": 11,
     "metadata": {},
     "output_type": "execute_result"
    }
   ],
   "source": [
    "test_accs_matrix"
   ]
  },
  {
   "cell_type": "code",
   "execution_count": 12,
   "id": "7ad14c70",
   "metadata": {
    "execution": {
     "iopub.execute_input": "2024-07-05T12:38:51.216551Z",
     "iopub.status.busy": "2024-07-05T12:38:51.216293Z",
     "iopub.status.idle": "2024-07-05T12:38:51.219591Z",
     "shell.execute_reply": "2024-07-05T12:38:51.219262Z"
    },
    "papermill": {
     "duration": 0.012104,
     "end_time": "2024-07-05T12:38:51.220416",
     "exception": false,
     "start_time": "2024-07-05T12:38:51.208312",
     "status": "completed"
    },
    "tags": []
   },
   "outputs": [
    {
     "data": {
      "text/plain": [
       "array([[82.95, 87.37, 90.32],\n",
       "       [85.19, 87.41, 89.83],\n",
       "       [86.23, 86.87, 89.69],\n",
       "       [88.12, 84.8 , 89.67]])"
      ]
     },
     "execution_count": 12,
     "metadata": {},
     "output_type": "execute_result"
    }
   ],
   "source": [
    "val_accs_matrix"
   ]
  },
  {
   "cell_type": "code",
   "execution_count": 13,
   "id": "b970580c",
   "metadata": {
    "execution": {
     "iopub.execute_input": "2024-07-05T12:38:51.244959Z",
     "iopub.status.busy": "2024-07-05T12:38:51.244712Z",
     "iopub.status.idle": "2024-07-05T12:38:51.550317Z",
     "shell.execute_reply": "2024-07-05T12:38:51.549985Z"
    },
    "papermill": {
     "duration": 0.32288,
     "end_time": "2024-07-05T12:38:51.551050",
     "exception": false,
     "start_time": "2024-07-05T12:38:51.228170",
     "status": "completed"
    },
    "tags": []
   },
   "outputs": [
    {
     "data": {
      "image/png": "[encoded data removed]",
      "text/plain": [
       "<Figure size 640x480 with 2 Axes>"
      ]
     },
     "metadata": {},
     "output_type": "display_data"
    },
    {
     "data": {
      "image/png": "[encoded data removed]",
      "text/plain": [
       "<Figure size 640x480 with 1 Axes>"
      ]
     },
     "metadata": {},
     "output_type": "display_data"
    },
    {
     "data": {
      "image/png": "[encoded data removed]",
      "text/plain": [
       "<Figure size 200x500 with 1 Axes>"
      ]
     },
     "metadata": {},
     "output_type": "display_data"
    }
   ],
   "source": [
    "visualize_validation(val_accs_matrix, test_accs_matrix, visualization_settings, HPO_settings, method_settings, benchmark_settings)"
   ]
  },
  {
   "cell_type": "markdown",
   "id": "544537a3",
   "metadata": {
    "papermill": {
     "duration": 0.008873,
     "end_time": "2024-07-05T12:38:51.568695",
     "exception": false,
     "start_time": "2024-07-05T12:38:51.559822",
     "status": "completed"
    },
    "tags": []
   },
   "source": [
    "## Save results matrices"
   ]
  },
  {
   "cell_type": "code",
   "execution_count": 14,
   "id": "844f6811",
   "metadata": {
    "execution": {
     "iopub.execute_input": "2024-07-05T12:38:51.585358Z",
     "iopub.status.busy": "2024-07-05T12:38:51.585232Z",
     "iopub.status.idle": "2024-07-05T12:38:51.588267Z",
     "shell.execute_reply": "2024-07-05T12:38:51.587953Z"
    },
    "papermill": {
     "duration": 0.012295,
     "end_time": "2024-07-05T12:38:51.588966",
     "exception": false,
     "start_time": "2024-07-05T12:38:51.576671",
     "status": "completed"
    },
    "tags": []
   },
   "outputs": [],
   "source": [
    "np.savetxt('Results/test_accs_matrix.csv', test_accs_matrix)\n",
    "np.savetxt('Results/val_accs_matrix.csv', val_accs_matrix)"
   ]
  },
  {
   "cell_type": "code",
   "execution_count": null,
   "id": "47240786",
   "metadata": {
    "papermill": {
     "duration": 0.008141,
     "end_time": "2024-07-05T12:38:51.605484",
     "exception": false,
     "start_time": "2024-07-05T12:38:51.597343",
     "status": "completed"
    },
    "tags": []
   },
   "outputs": [],
   "source": []
  }
 ],
 "metadata": {
  "kernelspec": {
   "display_name": ".jax_env",
   "language": "python",
   "name": "python3"
  },
  "language_info": {
   "codemirror_mode": {
    "name": "ipython",
    "version": 3
   },
   "file_extension": ".py",
   "mimetype": "text/x-python",
   "name": "python",
   "nbconvert_exporter": "python",
   "pygments_lexer": "ipython3",
   "version": "3.12.2"
  },
  "papermill": {
   "default_parameters": {},
   "duration": 153.895111,
   "end_time": "2024-07-05T12:38:52.329960",
   "environment_variables": {},
   "exception": null,
   "input_path": "runnable_HPO.ipynb",
   "output_path": "executed_HPO.ipynb",
   "parameters": {
    "HPO_settings": {
     "HPO_name": "greedy_HPO",
     "lr": [
      5e-05,
      0.002
     ],
     "n_trials": 2,
     "num_epochs": [
      2,
      4
     ]
    },
    "benchmark_settings": {
     "batch_size": 128,
     "benchmark_name": "pMNIST",
     "difficulty": "standard",
     "num_tasks": 3,
     "num_val_benchmarks": 3,
     "train_percentage": 0.1
    },
    "global_seed": 88,
    "method_settings": {
     "grad_percentile": 95,
     "grow_from": "output",
     "hessian_percentile": 95,
     "loss_name": "CE",
     "method_name": "GroHess",
     "num_hidden_root": 100,
     "num_inputs": 784,
     "num_outputs": 10,
     "optimizer_name": "Adam"
    },
    "visualization_settings": {
     "savefig": true,
     "visualize_accs_matrix": true,
     "visualize_accuracy_through_benchmarks": true,
     "visualize_avg_acc_curve": true,
     "visualize_best_params": true,
     "visualize_val_accs_matrix": true,
     "visualize_violin": true
    }
   },
   "start_time": "2024-07-05T12:36:18.434849",
   "version": "2.6.0"
  }
 },
 "nbformat": 4,
 "nbformat_minor": 5
}