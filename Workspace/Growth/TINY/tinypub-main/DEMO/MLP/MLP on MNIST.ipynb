{
 "cells": [
  {
   "cell_type": "markdown",
   "id": "f93d2112-fae7-434a-9ef1-0d090ffd703f",
   "metadata": {},
   "source": [
    "## DEMO MLP"
   ]
  },
  {
   "cell_type": "code",
   "execution_count": 1,
   "id": "02610df0-55cb-4e89-9947-7c7264616334",
   "metadata": {},
   "outputs": [],
   "source": [
    "import sys\n",
    "sys.path.append('../../TINY/')\n",
    "import TINY \n",
    "import UTILS\n",
    "from mes_imports import *\n",
    "import load_data_Loader\n",
    "import SOLVE_EB as EB"
   ]
  },
  {
   "cell_type": "markdown",
   "id": "7886e29f-45bd-448e-b2f8-d0dfdbfe09e5",
   "metadata": {},
   "source": [
    "We define the name of the layer by \n",
    "- 'L' for a linear layer\n",
    "- 'CB' for a convolutional followed by a batchnorm\n"
   ]
  },
  {
   "cell_type": "code",
   "execution_count": 2,
   "id": "d4f40206-5b63-4af0-9dd1-c9c75dab2953",
   "metadata": {},
   "outputs": [],
   "source": [
    "layer_name = {1 : 'L', 2 : 'L', 3 :'L'}"
   ]
  },
  {
   "cell_type": "markdown",
   "id": "00f75e5a-408a-421a-b435-b316b9e1d8d8",
   "metadata": {},
   "source": [
    "We define the starting size of the model by the number of neurons in the starting architecture. In this example we start with 5 neurons by hidden layers.\n",
    "The last layer should be of the size of the prediction. For the MNIST dataset there is 10 classes so the size of the last layer is 10."
   ]
  },
  {
   "cell_type": "code",
   "execution_count": 3,
   "id": "ba81adb4-a438-445b-aa61-858cdb503540",
   "metadata": {},
   "outputs": [],
   "source": [
    "skeleton = {0: {}, 1 : {'size' : 5}, 2 : {'size' : 5}, 3 : {'size' : 10}}"
   ]
  },
  {
   "cell_type": "markdown",
   "id": "c806ed47-ef1d-4a09-b78e-c127d2125469",
   "metadata": {},
   "source": [
    "We select the activation function for all layers. In this notebook as we use the CrossEntropy loss https://pytorch.org/docs/stable/generated/torch.nn.CrossEntropyLoss.html we choose the Identity for the activation function at the last layer."
   ]
  },
  {
   "cell_type": "code",
   "execution_count": 4,
   "id": "8ad9e113-de06-4cda-a8b5-64327ace6429",
   "metadata": {},
   "outputs": [],
   "source": [
    "fct = {depth : torch.nn.ReLU() for depth in range(1, 3)}\n",
    "fct.update({3 : torch.nn.Identity()})"
   ]
  },
  {
   "cell_type": "markdown",
   "id": "24d4e928-6ead-4bdb-ae80-5c4774850052",
   "metadata": {},
   "source": [
    "We define the loss function :"
   ]
  },
  {
   "cell_type": "code",
   "execution_count": 5,
   "id": "e6238d6f-7a6b-4f3a-921f-280a9f323d3d",
   "metadata": {},
   "outputs": [],
   "source": [
    "### Loss function ###\n",
    "def Loss_entropy(x1, x2, reduction = 'mean') :\n",
    "    #print(x1.shape, x2.shape)\n",
    "    return(torch.nn.CrossEntropyLoss(reduction = reduction)(x1, x2))\n"
   ]
  },
  {
   "cell_type": "markdown",
   "id": "3f67c9d3-6212-4e24-9994-e8da24f78281",
   "metadata": {},
   "source": [
    "## MLP"
   ]
  },
  {
   "cell_type": "code",
   "execution_count": 6,
   "id": "a58059ba",
   "metadata": {},
   "outputs": [],
   "source": [
    "dico_parameters = {\n",
    "                 'skeleton' : copy.deepcopy(skeleton),\n",
    "                'Loss' : Loss_entropy,\n",
    "                'fct' : fct,\n",
    "                'layer_name' :layer_name,\n",
    "                'init_deplacement' : 1e-8, # min amplitude factor\n",
    "                'batch_size' : 64,# batchsize for training\n",
    "                'lr' : 1e-2,# leraning rate for training\n",
    "                'lambda_method' : 0, # = 0 for searching the amplitude factor, if > 0 the \n",
    "                                     # amplitude factor is automatically set to this value\n",
    "                'accroissement_decay' : 1e-4,# the minimum decay to update the \n",
    "                                             # architecture with the NewNeurons/BestUpdate \n",
    "                'depth_seuil' : {1 : 10, 2 : 10},\n",
    "                'lu_lin' : 2,\n",
    "                'max_batch_estimation' : 100,\n",
    "                'max_amplitude' : 20., # max amplitude factor\n",
    "                'ind_lmbda_shape' : 1000,\n",
    "                'init_X_shape' : [1, 28, 28], # size of the input, if your X are 1-d, unsqueeze them\n",
    "                'len_train_dataset' : 50000, # size of training data\n",
    "                'len_test_dataset' : 10000, # size of testing data\n",
    "                'selection_neuron' : UTILS.selection_neuron_seuil,\n",
    "                'how_to_define_batchsize' : UTILS.indices_non_constant,\n",
    "                }\n"
   ]
  },
  {
   "cell_type": "code",
   "execution_count": 7,
   "id": "a4ff47de",
   "metadata": {},
   "outputs": [],
   "source": [
    "MLP_model = TINY.TINY(dico_parameters)\n",
    "MLP_model.training_data, MLP_model.test_data = load_data_Loader.load_database_MNIST(batch_size = MLP_model.max_batch_estimation)\n",
    "MLP_model.tr_loader, MLP_model.te_loader =  DataLoader(MLP_model.training_data, batch_size=MLP_model.batch_size, shuffle=True),  DataLoader(MLP_model.test_data, batch_size=MLP_model.batch_size, shuffle=True)"
   ]
  },
  {
   "cell_type": "code",
   "execution_count": 8,
   "id": "5893e8e2-9e18-4047-b55b-148df39145f3",
   "metadata": {},
   "outputs": [
    {
     "data": {
      "text/plain": [
       "{1: {'L': Linear(in_features=784, out_features=5, bias=True)},\n",
       " 2: {'L': Linear(in_features=5, out_features=5, bias=True)},\n",
       " 3: {'L': Linear(in_features=5, out_features=10, bias=True)}}"
      ]
     },
     "execution_count": 8,
     "metadata": {},
     "output_type": "execute_result"
    }
   ],
   "source": [
    "MLP_model.layer"
   ]
  },
  {
   "cell_type": "markdown",
   "id": "ba4d7049",
   "metadata": {},
   "source": [
    "The starting performances are :"
   ]
  },
  {
   "cell_type": "code",
   "execution_count": 9,
   "id": "3ae0c7d5-77c9-4a59-a7c7-db5c9b31ce90",
   "metadata": {},
   "outputs": [],
   "source": [
    "X, Y = MLP_model.get_batch(data = 'tr', device = my_device_0) # parametres par défault\n",
    "X_te, Y_te =  MLP_model.get_batch(data = 'te', device = my_device_0)"
   ]
  },
  {
   "cell_type": "code",
   "execution_count": 10,
   "id": "cfac5430",
   "metadata": {},
   "outputs": [
    {
     "name": "stdout",
     "output_type": "stream",
     "text": [
      "Loss on train : 3.7904253005981445  || Loss on test : 3.794570207595825\n",
      "Accuracy on train : 0.0625  || Accuracy on test : 0.015625\n"
     ]
    }
   ],
   "source": [
    "with torch.no_grad() :\n",
    "    print('Loss on train :', MLP_model.Loss(Y, MLP_model(X)).item(), ' || Loss on test :', MLP_model.Loss(Y_te, MLP_model(X_te)).item())\n",
    "    print('Accuracy on train :', UTILS.calculate_accuracy(Y, MLP_model(X)), ' || Accuracy on test :', UTILS.calculate_accuracy(Y_te, MLP_model(X_te)))"
   ]
  },
  {
   "cell_type": "markdown",
   "id": "2df4851f-e3cf-437f-913e-9b87d78205c0",
   "metadata": {},
   "source": [
    "You can acces the basic functions of your model in the module TINY\n",
    "- count_parameters, count_parameters_layer, get_parameters, ....\n",
    "- get_batch, train_batch, ..."
   ]
  },
  {
   "cell_type": "code",
   "execution_count": 11,
   "id": "9904b37f-3514-4f61-91fd-eee2d8ffb231",
   "metadata": {},
   "outputs": [],
   "source": [
    "optimizer = torch.optim.SGD(MLP_model.parameters(), lr = 1e-4)\n",
    "L_tr, L_te, _, A_tr, A_te, _, T = MLP_model.train_batch(optimizer = optimizer, nbr_epoch = 0.01)"
   ]
  },
  {
   "cell_type": "code",
   "execution_count": 12,
   "id": "c1de4c9f-e15b-4ebe-8136-d984a70d00ad",
   "metadata": {},
   "outputs": [
    {
     "data": {
      "image/png": "[encoded data removed]",
      "text/plain": [
       "<Figure size 640x480 with 1 Axes>"
      ]
     },
     "metadata": {},
     "output_type": "display_data"
    }
   ],
   "source": [
    "plt.plot(L_tr, label = 'L_tr')\n",
    "plt.plot(L_te, label = 'L_te')\n",
    "plt.xlabel('step')\n",
    "plt.ylabel('Accuracy test')\n",
    "plt.legend()\n",
    "plt.show()"
   ]
  },
  {
   "cell_type": "markdown",
   "id": "00f7cef8-90a5-46f1-a01b-298f10058ce7",
   "metadata": {},
   "source": [
    "## architecture growth and training"
   ]
  },
  {
   "cell_type": "code",
   "execution_count": 13,
   "id": "35d45f49-df3a-4d75-819f-ee6b2040fdc1",
   "metadata": {},
   "outputs": [],
   "source": [
    "df_tracker = pd.DataFrame()\n",
    "A_tr, A_te, L_tr, L_te, T = np.array([]), np.array([]), np.array([]), np.array([]), np.array([0])\n",
    "to_add = [1, 2] ##  depth where neurons can be added\n",
    "nbr_pass = 20\n",
    "nbr_epochs_betw_adding = 0.5 ## Epochs of training between adding\n",
    "\n",
    "name_file_expe = 'resultats/' "
   ]
  },
  {
   "cell_type": "code",
   "execution_count": 14,
   "id": "fa48d48e",
   "metadata": {},
   "outputs": [],
   "source": [
    "def update_quantity_of_interest() :\n",
    "    global L_tr, L_te, A_tr, A_te, T, df_tracker\n",
    "    dico_tracker = {'vps' + str(i) : [ MLP_model.valeurs_propres[i].item()] for i in range(len(MLP_model.valeurs_propres))}\n",
    "    \n",
    "    dico_tracker.update({'depth_add' : best_depth, 'nbr_added_neuron': MLP_model.nbr_added_neuron})\n",
    "    dico_tracker.update({'accroissement' : [dico_EB[best_depth]['accroissement']], 'portion_gain' : [dico_EB[best_depth]['portion_gain']],\n",
    "                        'nbr_parameters_apres' : [MLP_model.count_parameters()], 'nbr_parameters_avant' : [nbr_parameters_avant],\n",
    "                        'T' : [T[-1]], 'len_L_tr' : [len(L_tr)], 'lu_conv' : [MLP_model.lu_conv]})\n",
    "    \n",
    "    df_tracker = pd.concat([df_tracker, pd.DataFrame.from_dict(dico_tracker)], ignore_index=True)\n",
    "    \n",
    "    L_tr = np.concatenate([L_tr, l_tr])\n",
    "    L_te = np.concatenate([L_te, l_te])\n",
    "    A_tr = np.concatenate([A_tr, a_tr])\n",
    "    A_te = np.concatenate([A_te, a_te])\n",
    "    T = np.concatenate([T, t +  T[-1]])\n",
    "\n",
    "    \n",
    "    \n",
    "def stabilize_training() :\n",
    "    MLP_model.batch_size = math.ceil(np.sqrt(MLP_model.count_parameters() / nbr_parameters_avant) *  MLP_model.batch_size)\n",
    "    #MLP_model.batch_size = math.ceil(MLP_model.count_parameters() / nbr_parameters_avant *  MLP_model.batch_size)"
   ]
  },
  {
   "cell_type": "code",
   "execution_count": 15,
   "id": "8a9e2255",
   "metadata": {},
   "outputs": [],
   "source": [
    "count = 1"
   ]
  },
  {
   "cell_type": "code",
   "execution_count": 21,
   "id": "ca985679",
   "metadata": {},
   "outputs": [
    {
     "data": {
      "application/json": {
       "ascii": false,
       "bar_format": null,
       "colour": null,
       "elapsed": 0.008995532989501953,
       "initial": 0,
       "n": 0,
       "ncols": null,
       "nrows": null,
       "postfix": null,
       "prefix": "",
       "rate": null,
       "total": 5,
       "unit": "it",
       "unit_divisor": 1000,
       "unit_scale": false
      },
      "application/vnd.jupyter.widget-view+json": {
       "model_id": "0ca66543235a464fab0701ca30f21f25",
       "version_major": 2,
       "version_minor": 0
      },
      "text/plain": [
       "  0%|          | 0/5 [00:00<?, ?it/s]"
      ]
     },
     "metadata": {},
     "output_type": "display_data"
    },
    {
     "name": "stdout",
     "output_type": "stream",
     "text": [
      "\n",
      "\n",
      "*** started  NG at  2 ***\n",
      "Batch size for estimation : 12300\n",
      "\n",
      "\n",
      "*** started  Add at  1 ***\n",
      "Batch size for estimation : 50000\n",
      "*** method : OUR ***\n",
      "eigh succed\n",
      "svd succed\n",
      "*** ADD : THRESHOLD SELECTION ***\n",
      "*** normalize NewNeurons acc. ||functional udpate|| ***\n",
      "norm_x_over_norm_DE_depth: 29.652645111083984\n",
      "norm_x_over_norm_DE_depthp1 :  87.47142028808594\n",
      "L_plus < L_moins: 0.31858113408088684 < 0.31858134269714355\n",
      "Delta Loss :  [0.0, 5.960464477539063e-08]  ... [0.0, 5.960464477539063e-08]\n",
      "betas :  [0.0, 7.450580596923828e-09] ... [0.0, 7.450580596923828e-09]\n",
      "rate of decrease : 0.0 ampli_fct : 0.0 L[0] : 0.28121301531791687\n",
      "\n",
      "\n",
      "*** started  NG at  3 ***\n",
      "Batch size for estimation : 2300\n",
      "*** SINGULAR MATRIX ***\n",
      "\n",
      "\n",
      "*** started  Add at  2 ***\n",
      "Batch size for estimation : 1100\n",
      "*** method : OUR ***\n",
      "eigh succed\n",
      "svd succed\n",
      "*** ADD : THRESHOLD SELECTION ***\n",
      "*** normalize NewNeurons acc. ||functional udpate|| ***\n",
      "norm_x_over_norm_DE_depth: 62.41836166381836\n",
      "norm_x_over_norm_DE_depthp1 :  253.8565216064453\n",
      "L_plus < L_moins: 0.15419353544712067 < 0.15419381856918335\n",
      "Delta Loss :  [0.0, -2.086162567138672e-07, -4.023313522338867e-07]  ... [-0.0024977028369903564, -0.0037949085235595703, 0.0014516562223434448]\n",
      "betas :  [0.0, 7.450580596923828e-09, 1.4901161193847656e-08] ... [0.0001220703125, 0.000244140625, 0.00048828125]\n",
      "rate of decrease : 0.018419748172163963 ampli_fct : 0.000244140625 L[0] : 0.2060239017009735\n",
      "\n",
      "\n",
      "*** started  Add at  2 ***\n",
      "Batch size for estimation : 1100\n",
      "*** ADD : THRESHOLD SELECTION ***\n",
      "*** normalize NewNeurons acc. ||functional udpate|| ***\n",
      "norm_x_over_norm_DE_depth: 0.8711574673652649\n",
      "norm_x_over_norm_DE_depthp1 :  0.01417599432170391\n",
      "amplitude factor for the new neurons : 0.000244140625\n",
      "(alpha, omega) <-- (sqrt(ampl) x alpha, sqrt(ampl) x omega)\n",
      "*** Added neurons at  2 ***\n",
      "\n",
      "\n",
      "\n",
      "\n",
      "*** started  NG at  2 ***\n",
      "Batch size for estimation : 13400\n",
      "\n",
      "\n",
      "*** started  Add at  1 ***\n",
      "Batch size for estimation : 50000\n",
      "*** method : OUR ***\n",
      "eigh succed\n",
      "svd succed\n",
      "*** ADD : THRESHOLD SELECTION ***\n",
      "*** normalize NewNeurons acc. ||functional udpate|| ***\n",
      "norm_x_over_norm_DE_depth: 11.321027755737305\n",
      "norm_x_over_norm_DE_depthp1 :  41.79114532470703\n",
      "L_plus < L_moins: 0.14427094161510468 < 0.14427095651626587\n",
      "Delta Loss :  [0.0, 1.4901161193847656e-08]  ... [0.0, 1.4901161193847656e-08]\n",
      "betas :  [0.0, 7.450580596923828e-09] ... [0.0, 7.450580596923828e-09]\n",
      "rate of decrease : 0.0 ampli_fct : 0.0 L[0] : 0.21759125590324402\n",
      "\n",
      "\n",
      "*** started  NG at  3 ***\n",
      "Batch size for estimation : 2500\n",
      "*** SINGULAR MATRIX ***\n",
      "\n",
      "\n",
      "*** started  Add at  2 ***\n",
      "Batch size for estimation : 1100\n",
      "*** method : OUR ***\n",
      "eigh succed\n",
      "svd succed\n",
      "*** ADD : THRESHOLD SELECTION ***\n",
      "*** normalize NewNeurons acc. ||functional udpate|| ***\n",
      "norm_x_over_norm_DE_depth: 58.602508544921875\n",
      "norm_x_over_norm_DE_depthp1 :  262.69012451171875\n",
      "(alpha, omega) <-- (-alpha, -omega)\n",
      "Delta Loss :  [0.0, -1.341104507446289e-07, -2.5331974029541016e-07]  ... [-2.4780631065368652e-05, -3.299117088317871e-05, -1.0341405868530273e-05]\n",
      "betas :  [0.0, 7.450580596923828e-09, 1.4901161193847656e-08] ... [1.9073486328125e-06, 3.814697265625e-06, 7.62939453125e-06]\n",
      "rate of decrease : 0.0001340833550784737 ampli_fct : 3.814697265625e-06 L[0] : 0.24604971706867218\n",
      "\n",
      "\n",
      "*** started  Add at  2 ***\n",
      "Batch size for estimation : 1100\n",
      "*** ADD : THRESHOLD SELECTION ***\n",
      "*** normalize NewNeurons acc. ||functional udpate|| ***\n",
      "norm_x_over_norm_DE_depth: 0.8096617460250854\n",
      "norm_x_over_norm_DE_depthp1 :  0.011182012036442757\n",
      "amplitude factor for the new neurons : 3.814697265625e-06\n",
      "(alpha, omega) <-- (sqrt(ampl) x alpha, sqrt(ampl) x omega)\n",
      "*** Added neurons at  2 ***\n",
      "\n",
      "\n",
      "\n",
      "\n",
      "*** started  NG at  2 ***\n",
      "Batch size for estimation : 14500\n",
      "\n",
      "\n",
      "*** started  Add at  1 ***\n",
      "Batch size for estimation : 50000\n",
      "*** method : OUR ***\n",
      "eigh succed\n",
      "svd succed\n",
      "*** ADD : THRESHOLD SELECTION ***\n",
      "*** normalize NewNeurons acc. ||functional udpate|| ***\n",
      "norm_x_over_norm_DE_depth: 52.61773681640625\n",
      "norm_x_over_norm_DE_depthp1 :  252.15328979492188\n",
      "(alpha, omega) <-- (-alpha, -omega)\n",
      "Delta Loss :  [0.0, -1.9371509552001953e-07, -3.5762786865234375e-07]  ... [-0.004308834671974182, -0.004402562975883484, 0.025760993361473083]\n",
      "betas :  [0.0, 7.450580596923828e-09, 1.4901161193847656e-08] ... [0.000244140625, 0.00048828125, 0.0009765625]\n",
      "rate of decrease : 0.02202983945608139 ampli_fct : 0.00048828125 L[0] : 0.19984544813632965\n",
      "\n",
      "\n",
      "*** started  NG at  3 ***\n",
      "Batch size for estimation : 2700\n",
      "*** SINGULAR MATRIX ***\n",
      "\n",
      "\n",
      "*** started  Add at  2 ***\n",
      "Batch size for estimation : 1100\n",
      "*** method : OUR ***\n",
      "eigh succed\n",
      "svd succed\n",
      "*** ADD : THRESHOLD SELECTION ***\n",
      "*** normalize NewNeurons acc. ||functional udpate|| ***\n",
      "norm_x_over_norm_DE_depth: 69.21360778808594\n",
      "norm_x_over_norm_DE_depthp1 :  284.3797912597656\n",
      "(alpha, omega) <-- (-alpha, -omega)\n",
      "Delta Loss :  [0.0, -2.9802322387695312e-08, -5.960464477539063e-08]  ... [-0.00037419795989990234, -0.00040884315967559814, 0.0005146563053131104]\n",
      "betas :  [0.0, 7.450580596923828e-09, 1.4901161193847656e-08] ... [0.0001220703125, 0.000244140625, 0.00048828125]\n",
      "rate of decrease : 0.0016912904102355242 ampli_fct : 0.000244140625 L[0] : 0.24173444509506226\n",
      "\n",
      "\n",
      "*** started  Add at  1 ***\n",
      "Batch size for estimation : 1100\n",
      "*** ADD : THRESHOLD SELECTION ***\n",
      "*** normalize NewNeurons acc. ||functional udpate|| ***\n",
      "norm_x_over_norm_DE_depth: 0.3829365074634552\n",
      "norm_x_over_norm_DE_depthp1 :  0.01625409536063671\n",
      "amplitude factor for the new neurons : 0.00048828125\n",
      "(alpha, omega) <-- (sqrt(ampl) x alpha, sqrt(ampl) x omega)\n",
      "*** Added neurons at  1 ***\n",
      "\n",
      "\n",
      "\n",
      "\n",
      "*** started  NG at  2 ***\n",
      "Batch size for estimation : 17100\n",
      "\n",
      "\n",
      "*** started  Add at  1 ***\n",
      "Batch size for estimation : 50000\n",
      "*** method : OUR ***\n",
      "eigh succed\n",
      "svd succed\n",
      "*** ADD : THRESHOLD SELECTION ***\n",
      "*** normalize NewNeurons acc. ||functional udpate|| ***\n",
      "norm_x_over_norm_DE_depth: 57.30894470214844\n",
      "norm_x_over_norm_DE_depthp1 :  82.0818099975586\n",
      "(alpha, omega) <-- (-alpha, -omega)\n",
      "Delta Loss :  [0.0, -2.2351741790771484e-07, -4.76837158203125e-07]  ... [-0.0002170354127883911, -0.00036221742630004883, -0.0002283155918121338]\n",
      "betas :  [0.0, 7.450580596923828e-09, 1.4901161193847656e-08] ... [7.62939453125e-06, 1.52587890625e-05, 3.0517578125e-05]\n",
      "rate of decrease : 0.0018879303243011236 ampli_fct : 1.52587890625e-05 L[0] : 0.19185952842235565\n",
      "\n",
      "\n",
      "*** started  NG at  3 ***\n",
      "Batch size for estimation : 2700\n",
      "*** SINGULAR MATRIX ***\n",
      "\n",
      "\n",
      "*** started  Add at  2 ***\n",
      "Batch size for estimation : 1300\n",
      "*** method : OUR ***\n",
      "eigh succed\n",
      "svd succed\n",
      "*** ADD : THRESHOLD SELECTION ***\n",
      "*** normalize NewNeurons acc. ||functional udpate|| ***\n",
      "norm_x_over_norm_DE_depth: 47.15047836303711\n",
      "norm_x_over_norm_DE_depthp1 :  183.8893585205078\n",
      "(alpha, omega) <-- (-alpha, -omega)\n",
      "Delta Loss :  [0.0, -1.4901161193847656e-08, -4.470348358154297e-08]  ... [-9.387731552124023e-06, -1.290440559387207e-05, -6.556510925292969e-07]\n",
      "betas :  [0.0, 7.450580596923828e-09, 1.4901161193847656e-08] ... [7.62939453125e-06, 1.52587890625e-05, 3.0517578125e-05]\n",
      "rate of decrease : 7.301138248294592e-05 ampli_fct : 1.52587890625e-05 L[0] : 0.17674511671066284\n",
      "\n",
      "\n",
      "*** started  Add at  1 ***\n",
      "Batch size for estimation : 1300\n",
      "*** ADD : THRESHOLD SELECTION ***\n",
      "*** normalize NewNeurons acc. ||functional udpate|| ***\n",
      "norm_x_over_norm_DE_depth: 0.6971182823181152\n",
      "norm_x_over_norm_DE_depthp1 :  0.010991916060447693\n",
      "amplitude factor for the new neurons : 1.52587890625e-05\n",
      "(alpha, omega) <-- (sqrt(ampl) x alpha, sqrt(ampl) x omega)\n",
      "*** Added neurons at  1 ***\n",
      "\n",
      "\n",
      "\n",
      "\n",
      "*** started  NG at  2 ***\n",
      "Batch size for estimation : 19700\n",
      "\n",
      "\n",
      "*** started  Add at  1 ***\n",
      "Batch size for estimation : 50000\n",
      "*** method : OUR ***\n",
      "eigh succed\n",
      "svd succed\n",
      "*** ADD : THRESHOLD SELECTION ***\n",
      "*** normalize NewNeurons acc. ||functional udpate|| ***\n",
      "norm_x_over_norm_DE_depth: 37.19447708129883\n",
      "norm_x_over_norm_DE_depthp1 :  92.6801528930664\n",
      "L_plus < L_moins: 0.3359874486923218 < 0.33598747849464417\n",
      "Delta Loss :  [0.0, 8.940696716308594e-08]  ... [0.0, 8.940696716308594e-08]\n",
      "betas :  [0.0, 7.450580596923828e-09] ... [0.0, 7.450580596923828e-09]\n",
      "rate of decrease : 0.0 ampli_fct : 0.0 L[0] : 0.2743881642818451\n",
      "\n",
      "\n",
      "*** started  NG at  3 ***\n",
      "Batch size for estimation : 2700\n",
      "*** SINGULAR MATRIX ***\n",
      "\n",
      "\n",
      "*** started  Add at  2 ***\n",
      "Batch size for estimation : 1500\n"
     ]
    },
    {
     "name": "stdout",
     "output_type": "stream",
     "text": [
      "*** method : OUR ***\n",
      "eigh succed\n",
      "svd succed\n",
      "*** ADD : THRESHOLD SELECTION ***\n",
      "*** normalize NewNeurons acc. ||functional udpate|| ***\n",
      "norm_x_over_norm_DE_depth: 64.71578979492188\n",
      "norm_x_over_norm_DE_depthp1 :  255.57113647460938\n",
      "L_plus < L_moins: 0.16742917895317078 < 0.16743502020835876\n",
      "Delta Loss :  [0.0, 1.8328428268432617e-06]  ... [0.0, 1.8328428268432617e-06]\n",
      "betas :  [0.0, 7.450580596923828e-09] ... [0.0, 7.450580596923828e-09]\n",
      "rate of decrease : 0.0 ampli_fct : 0.0 L[0] : 0.2121298760175705\n",
      "\n",
      "\n",
      "*** started  NG at  2 ***\n",
      "Batch size for estimation : 19700\n",
      "\n",
      "\n",
      "*** started  Add at  1 ***\n",
      "Batch size for estimation : 50000\n",
      "*** method : OUR ***\n",
      "eigh succed\n",
      "svd succed\n",
      "*** ADD : THRESHOLD SELECTION ***\n",
      "*** normalize NewNeurons acc. ||functional udpate|| ***\n",
      "norm_x_over_norm_DE_depth: 36.49835968017578\n",
      "norm_x_over_norm_DE_depthp1 :  309.9521484375\n",
      "L_plus < L_moins: 0.49035969376564026 < 0.49036043882369995\n",
      "Delta Loss :  [0.0, 1.4901161193847656e-08]  ... [0.0, 1.4901161193847656e-08]\n",
      "betas :  [0.0, 7.450580596923828e-09] ... [0.0, 7.450580596923828e-09]\n",
      "rate of decrease : 0.0 ampli_fct : 0.0 L[0] : 0.23731642961502075\n",
      "\n",
      "\n",
      "*** started  NG at  3 ***\n",
      "Batch size for estimation : 2700\n",
      "*** SINGULAR MATRIX ***\n",
      "\n",
      "\n",
      "*** started  Add at  2 ***\n",
      "Batch size for estimation : 1500\n",
      "*** method : OUR ***\n",
      "eigh succed\n",
      "svd succed\n",
      "*** ADD : THRESHOLD SELECTION ***\n",
      "*** normalize NewNeurons acc. ||functional udpate|| ***\n",
      "norm_x_over_norm_DE_depth: 58.66788101196289\n",
      "norm_x_over_norm_DE_depthp1 :  256.0524597167969\n",
      "(alpha, omega) <-- (-alpha, -omega)\n",
      "Delta Loss :  [0.0, -2.9802322387695312e-08, -8.940696716308594e-08]  ... [-0.0007145404815673828, -0.0011802911758422852, -0.00042641162872314453]\n",
      "betas :  [0.0, 7.450580596923828e-09, 1.4901161193847656e-08] ... [0.0001220703125, 0.000244140625, 0.00048828125]\n",
      "rate of decrease : 0.006297491956502199 ampli_fct : 0.000244140625 L[0] : 0.18742242455482483\n",
      "\n",
      "\n",
      "*** started  Add at  2 ***\n",
      "Batch size for estimation : 1500\n",
      "*** ADD : THRESHOLD SELECTION ***\n",
      "*** normalize NewNeurons acc. ||functional udpate|| ***\n",
      "norm_x_over_norm_DE_depth: 1.0791904926300049\n",
      "norm_x_over_norm_DE_depthp1 :  0.019459890201687813\n",
      "amplitude factor for the new neurons : 0.000244140625\n",
      "(alpha, omega) <-- (sqrt(ampl) x alpha, sqrt(ampl) x omega)\n",
      "*** Added neurons at  2 ***\n",
      "\n",
      "\n",
      "\n",
      "\n",
      "*** started  NG at  2 ***\n",
      "Batch size for estimation : 21200\n",
      "\n",
      "\n",
      "*** started  Add at  1 ***\n",
      "Batch size for estimation : 50000\n",
      "*** method : OUR ***\n",
      "eigh succed\n",
      "svd succed\n",
      "*** ADD : THRESHOLD SELECTION ***\n",
      "*** normalize NewNeurons acc. ||functional udpate|| ***\n",
      "norm_x_over_norm_DE_depth: 70.27508544921875\n",
      "norm_x_over_norm_DE_depthp1 :  595.8828125\n",
      "L_plus < L_moins: 0.13171663880348206 < 0.13171686232089996\n",
      "Delta Loss :  [0.0, 6.258487701416016e-07]  ... [0.0, 6.258487701416016e-07]\n",
      "betas :  [0.0, 7.450580596923828e-09] ... [0.0, 7.450580596923828e-09]\n",
      "rate of decrease : 0.0 ampli_fct : 0.0 L[0] : 0.22816841304302216\n",
      "\n",
      "\n",
      "*** started  NG at  3 ***\n",
      "Batch size for estimation : 2900\n",
      "*** SINGULAR MATRIX ***\n",
      "\n",
      "\n",
      "*** started  Add at  2 ***\n",
      "Batch size for estimation : 1500\n",
      "*** method : OUR ***\n",
      "eigh succed\n",
      "svd succed\n",
      "*** ADD : THRESHOLD SELECTION ***\n",
      "*** normalize NewNeurons acc. ||functional udpate|| ***\n",
      "norm_x_over_norm_DE_depth: 54.255577087402344\n",
      "norm_x_over_norm_DE_depthp1 :  220.81961059570312\n",
      "L_plus < L_moins: 0.1780269294977188 < 0.17802710831165314\n",
      "Delta Loss :  [0.0, -2.9802322387695312e-08, -8.940696716308594e-08]  ... [-0.00035139918327331543, -0.0003590881824493408, 0.000674128532409668]\n",
      "betas :  [0.0, 7.450580596923828e-09, 1.4901161193847656e-08] ... [0.0001220703125, 0.000244140625, 0.00048828125]\n",
      "rate of decrease : 0.0015895405085757375 ampli_fct : 0.000244140625 L[0] : 0.22590690851211548\n",
      "\n",
      "\n",
      "*** started  Add at  2 ***\n",
      "Batch size for estimation : 1500\n",
      "*** ADD : THRESHOLD SELECTION ***\n",
      "*** normalize NewNeurons acc. ||functional udpate|| ***\n",
      "norm_x_over_norm_DE_depth: 1.1389302015304565\n",
      "norm_x_over_norm_DE_depthp1 :  0.02088358625769615\n",
      "amplitude factor for the new neurons : 0.000244140625\n",
      "(alpha, omega) <-- (sqrt(ampl) x alpha, sqrt(ampl) x omega)\n",
      "*** Added neurons at  2 ***\n",
      "\n",
      "\n",
      "\n",
      "\n",
      "*** started  NG at  2 ***\n",
      "Batch size for estimation : 22700\n",
      "\n",
      "\n",
      "*** started  Add at  1 ***\n",
      "Batch size for estimation : 50000\n",
      "*** method : OUR ***\n",
      "eigh succed\n",
      "svd succed\n",
      "*** ADD : THRESHOLD SELECTION ***\n",
      "*** normalize NewNeurons acc. ||functional udpate|| ***\n",
      "norm_x_over_norm_DE_depth: 13.063868522644043\n",
      "norm_x_over_norm_DE_depthp1 :  280.4439392089844\n",
      "L_plus < L_moins: 0.1891908049583435 < 0.1891910880804062\n",
      "Delta Loss :  [0.0, 1.4901161193847656e-08]  ... [0.0, 1.4901161193847656e-08]\n",
      "betas :  [0.0, 7.450580596923828e-09] ... [0.0, 7.450580596923828e-09]\n",
      "rate of decrease : 0.0 ampli_fct : 0.0 L[0] : 0.23899121582508087\n",
      "\n",
      "\n",
      "*** started  NG at  3 ***\n",
      "Batch size for estimation : 3100\n",
      "*** SINGULAR MATRIX ***\n",
      "\n",
      "\n",
      "*** started  Add at  2 ***\n",
      "Batch size for estimation : 1500\n",
      "*** method : OUR ***\n",
      "eigh succed\n",
      "svd succed\n",
      "*** ADD : THRESHOLD SELECTION ***\n",
      "*** normalize NewNeurons acc. ||functional udpate|| ***\n",
      "norm_x_over_norm_DE_depth: 54.92648696899414\n",
      "norm_x_over_norm_DE_depthp1 :  249.81124877929688\n",
      "(alpha, omega) <-- (-alpha, -omega)\n",
      "Delta Loss :  [0.0, -7.450580596923828e-08, -1.341104507446289e-07]  ... [-0.0013404041528701782, -0.0016646385192871094, 0.000592544674873352]\n",
      "betas :  [0.0, 7.450580596923828e-09, 1.4901161193847656e-08] ... [0.000244140625, 0.00048828125, 0.0009765625]\n",
      "rate of decrease : 0.007463468238711357 ampli_fct : 0.00048828125 L[0] : 0.2230381965637207\n",
      "\n",
      "\n",
      "*** started  Add at  2 ***\n",
      "Batch size for estimation : 1500\n",
      "*** ADD : THRESHOLD SELECTION ***\n",
      "*** normalize NewNeurons acc. ||functional udpate|| ***\n",
      "norm_x_over_norm_DE_depth: 0.9736267328262329\n",
      "norm_x_over_norm_DE_depthp1 :  0.015040099620819092\n",
      "amplitude factor for the new neurons : 0.00048828125\n",
      "(alpha, omega) <-- (sqrt(ampl) x alpha, sqrt(ampl) x omega)\n",
      "*** Added neurons at  2 ***\n",
      "\n",
      "\n",
      "\n",
      "\n",
      "*** started  NG at  2 ***\n",
      "Batch size for estimation : 24200\n",
      "\n",
      "\n",
      "*** started  Add at  1 ***\n",
      "Batch size for estimation : 50000\n",
      "*** method : OUR ***\n",
      "eigh succed\n",
      "svd succed\n",
      "*** ADD : THRESHOLD SELECTION ***\n",
      "*** normalize NewNeurons acc. ||functional udpate|| ***\n",
      "norm_x_over_norm_DE_depth: 65.95005798339844\n",
      "norm_x_over_norm_DE_depthp1 :  735.9797973632812\n",
      "L_plus < L_moins: 0.157700315117836 < 0.1577008217573166\n",
      "Delta Loss :  [0.0, -1.6391277313232422e-07, -3.427267074584961e-07]  ... [-0.0011149793863296509, -0.001680612564086914, -0.0013304203748703003]\n",
      "betas :  [0.0, 7.450580596923828e-09, 1.4901161193847656e-08] ... [6.103515625e-05, 0.0001220703125, 0.000244140625]\n",
      "rate of decrease : 0.007319875992834568 ampli_fct : 0.0001220703125 L[0] : 0.22959576547145844\n",
      "\n",
      "\n",
      "*** started  NG at  3 ***\n",
      "Batch size for estimation : 3300\n",
      "*** SINGULAR MATRIX ***\n",
      "\n",
      "\n",
      "*** started  Add at  2 ***\n",
      "Batch size for estimation : 1500\n",
      "*** method : OUR ***\n",
      "eigh succed\n",
      "svd succed\n",
      "*** ADD : THRESHOLD SELECTION ***\n",
      "*** normalize NewNeurons acc. ||functional udpate|| ***\n",
      "norm_x_over_norm_DE_depth: 9.121698379516602\n",
      "norm_x_over_norm_DE_depthp1 :  17.847196578979492\n",
      "(alpha, omega) <-- (-alpha, -omega)\n",
      "Delta Loss :  [0.0, 2.9802322387695312e-08]  ... [0.0, 2.9802322387695312e-08]\n",
      "betas :  [0.0, 7.450580596923828e-09] ... [0.0, 7.450580596923828e-09]\n",
      "rate of decrease : 0.0 ampli_fct : 0.0 L[0] : 0.21094857156276703\n",
      "\n",
      "\n",
      "*** started  Add at  1 ***\n",
      "Batch size for estimation : 1500\n",
      "*** ADD : THRESHOLD SELECTION ***\n",
      "*** normalize NewNeurons acc. ||functional udpate|| ***\n",
      "norm_x_over_norm_DE_depth: 1.0157837867736816\n",
      "norm_x_over_norm_DE_depthp1 :  0.0173746757209301\n",
      "amplitude factor for the new neurons : 0.0001220703125\n",
      "(alpha, omega) <-- (sqrt(ampl) x alpha, sqrt(ampl) x omega)\n",
      "*** Added neurons at  1 ***\n",
      "\n",
      "\n",
      "\n",
      "\n",
      "*** started  NG at  2 ***\n",
      "Batch size for estimation : 27400\n",
      "\n",
      "\n",
      "*** started  Add at  1 ***\n",
      "Batch size for estimation : 50000\n",
      "*** method : OUR ***\n",
      "eigh succed\n",
      "svd succed\n",
      "*** ADD : THRESHOLD SELECTION ***\n",
      "*** normalize NewNeurons acc. ||functional udpate|| ***\n",
      "norm_x_over_norm_DE_depth: 49.881683349609375\n",
      "norm_x_over_norm_DE_depthp1 :  336.2953796386719\n",
      "L_plus < L_moins: 0.12640804052352905 < 0.12640810012817383\n",
      "Delta Loss :  [0.0, -1.9371509552001953e-07, -3.8743019104003906e-07]  ... [-0.002070799469947815, -0.0021303147077560425, 0.0067319124937057495]\n",
      "betas :  [0.0, 7.450580596923828e-09, 1.4901161193847656e-08] ... [0.0001220703125, 0.000244140625, 0.00048828125]\n",
      "rate of decrease : 0.013391421176493168 ampli_fct : 0.000244140625 L[0] : 0.15908055007457733\n",
      "\n",
      "\n",
      "*** started  NG at  3 ***\n",
      "Batch size for estimation : 3300\n"
     ]
    },
    {
     "name": "stdout",
     "output_type": "stream",
     "text": [
      "*** SINGULAR MATRIX ***\n",
      "\n",
      "\n",
      "*** started  Add at  2 ***\n",
      "Batch size for estimation : 1700\n",
      "*** method : OUR ***\n",
      "eigh succed\n",
      "svd succed\n",
      "*** ADD : THRESHOLD SELECTION ***\n",
      "*** normalize NewNeurons acc. ||functional udpate|| ***\n",
      "norm_x_over_norm_DE_depth: 71.15719604492188\n",
      "norm_x_over_norm_DE_depthp1 :  231.5941162109375\n",
      "L_plus < L_moins: 0.14939439296722412 < 0.149394690990448\n",
      "Delta Loss :  [0.0, -3.8743019104003906e-07, -7.152557373046875e-07]  ... [-0.0055994391441345215, -0.008612215518951416, -0.005084872245788574]\n",
      "betas :  [0.0, 7.450580596923828e-09, 1.4901161193847656e-08] ... [0.0001220703125, 0.000244140625, 0.00048828125]\n",
      "rate of decrease : 0.01804632507264614 ampli_fct : 0.000244140625 L[0] : 0.47722822427749634\n",
      "\n",
      "\n",
      "*** started  Add at  2 ***\n",
      "Batch size for estimation : 1700\n",
      "*** ADD : THRESHOLD SELECTION ***\n",
      "*** normalize NewNeurons acc. ||functional udpate|| ***\n",
      "norm_x_over_norm_DE_depth: 0.6874070167541504\n",
      "norm_x_over_norm_DE_depthp1 :  0.01130963210016489\n",
      "amplitude factor for the new neurons : 0.000244140625\n",
      "(alpha, omega) <-- (sqrt(ampl) x alpha, sqrt(ampl) x omega)\n",
      "*** Added neurons at  2 ***\n",
      "\n",
      "\n"
     ]
    }
   ],
   "source": [
    "for j in tqdm(range(5)) :\n",
    "    for k in range(len(to_add)) :\n",
    "        nbr_parameters_avant = MLP_model.count_parameters()\n",
    "        gc.collect()\n",
    "        torch.cuda.empty_cache()\n",
    "        depth_ajout = to_add\n",
    "        depth_in_decreasing_criterion, dico_EB = EB.where_is_EB_best_solved(MLP_model, depths = depth_ajout)\n",
    "\n",
    "        best_depth = depth_in_decreasing_criterion[0]\n",
    "        dico_EB_bd = dico_EB[best_depth]\n",
    "        alpha, omega, bias_alpha, vps = dico_EB_bd['alpha'], dico_EB_bd['omega'], dico_EB_bd['bias_alpha'], dico_EB_bd['vps']\n",
    "        lambda_method = dico_EB_bd['beta_min']\n",
    "\n",
    "        MLP_model.alpha, MLP_model.omega, MLP_model.bias_alpha, MLP_model.valeurs_propres = None, None, None, []\n",
    "        MLP_model.TAB_Add = None\n",
    "\n",
    "        \n",
    "        if lambda_method > 0 :\n",
    "            MLP_model.dico_w, MLP_model.lambda_method = dico_EB_bd['dico_w'], dico_EB_bd['beta_min']\n",
    "            EB.add_neurons(MLP_model, best_depth, alpha = alpha, omega = omega, bias_alpha = bias_alpha, valeurs_propres = vps)\n",
    "            MLP_model.lambda_method = torch.tensor(0., device = my_device_0)\n",
    "        ## Training Loops ##\n",
    "        \n",
    "        stabilize_training()\n",
    "        MLP_model.tr_loader = DataLoader(MLP_model.training_data, batch_size=MLP_model.batch_size, shuffle=True)\n",
    "        MLP_model.te_loader = DataLoader(MLP_model.test_data, batch_size=MLP_model.batch_size, shuffle=True)\n",
    "        optimizer = torch.optim.SGD(MLP_model.parameters(), lr = MLP_model.lr)\n",
    "        \n",
    "        l_tr, l_te, l_va, a_tr, a_te, a_va, t = MLP_model.train_batch(nbr_epochs_betw_adding, optimizer = optimizer)\n",
    "\n",
    "        update_quantity_of_interest()\n",
    "    \n",
    "    df_performance = pd.DataFrame.from_dict({'L_tr' : L_tr, 'L_te' : L_te, 'A_tr' : A_tr, 'A_te' : A_te, 'T' : T[1:], \n",
    "                                             'BatchSize' : np.ones(A_te.shape) * MLP_model.batch_size})\n",
    "    df_tracker.to_csv(name_file_expe + '/df_tracker.csv')\n",
    "    df_performance.to_csv(name_file_expe + '/df_performance.csv')\n",
    "    MLP_model.T = T[-1]\n",
    "    MLP_model.len_L_tr = len(L_tr)\n",
    "    UTILS.save_model_to_file(MLP_model, path = name_file_expe + '/' , name='model_' + str((j + 1) * (k + 1)))\n",
    "\n",
    "\n",
    "\n"
   ]
  },
  {
   "cell_type": "code",
   "execution_count": 22,
   "id": "31cced12",
   "metadata": {},
   "outputs": [],
   "source": [
    "#MLP"
   ]
  },
  {
   "cell_type": "code",
   "execution_count": 23,
   "id": "b20adf83",
   "metadata": {},
   "outputs": [],
   "source": [
    "#UTILS.save_model_to_file(MLP_model, path = name_file_expe + '/' , name='model_' + str((j + 1) * (k + 1)))\n"
   ]
  },
  {
   "cell_type": "markdown",
   "id": "224e315c",
   "metadata": {},
   "source": [
    "### Plotting"
   ]
  },
  {
   "cell_type": "code",
   "execution_count": 24,
   "id": "1ad9d6b9",
   "metadata": {},
   "outputs": [],
   "source": [
    "path = 'resultats/'"
   ]
  },
  {
   "cell_type": "code",
   "execution_count": 25,
   "id": "74fd6c46",
   "metadata": {},
   "outputs": [],
   "source": [
    "df_tracker = pd.read_csv(path + 'df_tracker.csv')\n",
    "df_performance = pd.read_csv(path + 'df_performance.csv')"
   ]
  },
  {
   "cell_type": "code",
   "execution_count": 26,
   "id": "d1c8abe0",
   "metadata": {},
   "outputs": [
    {
     "data": {
      "image/png": "[encoded data removed]",
      "text/plain": [
       "<Figure size 640x480 with 2 Axes>"
      ]
     },
     "metadata": {},
     "output_type": "display_data"
    }
   ],
   "source": [
    "fig, ax = plt.subplots(1, 1)\n",
    "coef = 5\n",
    "ax.plot(UTILS.lisser_courbe(df_performance[['A_tr', 'A_te']], coef = coef), label = ['A_tr', 'A_te'])\n",
    "ax.legend()\n",
    "ax_nbrp = ax.twinx()\n",
    "ax_nbrp.plot(df_tracker['len_L_tr'] / coef, df_tracker['nbr_parameters_apres'], '+', label = 'nbr_parameters', color = 'black')\n",
    "ax_nbrp.legend(loc = 'lower right')\n",
    "ax.set_title('Acc / nbr of parameters')\n",
    "ax.set_ylabel('Acc')\n",
    "ax_nbrp.set_ylabel('nbr of parameters')\n",
    "plt.show()"
   ]
  },
  {
   "cell_type": "code",
   "execution_count": 20,
   "id": "d069d659-4c83-4774-b4a9-b31d485a5522",
   "metadata": {},
   "outputs": [
    {
     "data": {
      "image/png": "[encoded data removed]",
      "text/plain": [
       "<Figure size 640x480 with 1 Axes>"
      ]
     },
     "metadata": {},
     "output_type": "display_data"
    }
   ],
   "source": [
    "coef = 10\n",
    "plt.plot(df_tracker['nbr_parameters_apres'], UTILS.lisser_courbe(df_performance['A_te'].values, coef = coef)[(df_tracker['len_L_tr'].values /coef).astype(int)])\n",
    "plt.xlabel('nbr parameters')\n",
    "plt.ylabel('accuracy test')\n",
    "plt.show()"
   ]
  },
  {
   "cell_type": "code",
   "execution_count": 51,
   "id": "f440d108",
   "metadata": {},
   "outputs": [
    {
     "data": {
      "text/plain": [
       "{0: {'size': 784}, 1: {'size': 30}, 2: {'size': 75}, 3: {'size': 10}}"
      ]
     },
     "execution_count": 51,
     "metadata": {},
     "output_type": "execute_result"
    }
   ],
   "source": [
    "MLP_model.skeleton"
   ]
  },
  {
   "cell_type": "code",
   "execution_count": 52,
   "id": "c8efacea",
   "metadata": {},
   "outputs": [
    {
     "data": {
      "text/plain": [
       "A_tr    0.947126\n",
       "A_te    0.922126\n",
       "dtype: float64"
      ]
     },
     "execution_count": 52,
     "metadata": {},
     "output_type": "execute_result"
    }
   ],
   "source": [
    "df_performance[['A_tr', 'A_te']][-20:].mean(axis = 0)"
   ]
  }
 ],
 "metadata": {
  "kernelspec": {
   "display_name": "Python 3 (ipykernel)",
   "language": "python",
   "name": "python3"
  },
  "language_info": {
   "codemirror_mode": {
    "name": "ipython",
    "version": 3
   },
   "file_extension": ".py",
   "mimetype": "text/x-python",
   "name": "python",
   "nbconvert_exporter": "python",
   "pygments_lexer": "ipython3",
   "version": "3.9.18"
  }
 },
 "nbformat": 4,
 "nbformat_minor": 5
}
