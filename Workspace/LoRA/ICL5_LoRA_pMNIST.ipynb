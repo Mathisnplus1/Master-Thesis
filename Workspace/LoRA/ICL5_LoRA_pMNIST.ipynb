{
 "cells": [
  {
   "cell_type": "code",
   "execution_count": 1,
   "id": "ae39d8a1",
   "metadata": {},
   "outputs": [],
   "source": [
    "from lib.abstract_torch import get_device, get_loss, get_optimizer\n",
    "from lib.dataloader import get_task_loaders\n",
    "from lib.models import ANN, LoRA_ANN\n",
    "from lib.train import train_ANN\n",
    "from lib.test import test\n",
    "from lib.save import save\n",
    "\n",
    "import os\n",
    "import numpy as np\n",
    "import torch"
   ]
  },
  {
   "cell_type": "code",
   "execution_count": 2,
   "id": "bd52111b",
   "metadata": {},
   "outputs": [],
   "source": [
    "train_vanilla = True"
   ]
  },
  {
   "cell_type": "code",
   "execution_count": 3,
   "id": "b27842a1",
   "metadata": {},
   "outputs": [],
   "source": [
    "device = get_device(0)"
   ]
  },
  {
   "cell_type": "code",
   "execution_count": 4,
   "id": "a1a6d7d6",
   "metadata": {},
   "outputs": [
    {
     "data": {
      "text/plain": [
       "device(type='cuda', index=0)"
      ]
     },
     "execution_count": 4,
     "metadata": {},
     "output_type": "execute_result"
    }
   ],
   "source": [
    "device"
   ]
  },
  {
   "cell_type": "code",
   "execution_count": 5,
   "id": "b93ec883",
   "metadata": {},
   "outputs": [],
   "source": [
    "path = os.path.dirname(os.path.abspath(\"__file__\"))\n",
    "data_path = path + \"\\\\data\"\n",
    "model_path = path + \"\\\\ANN_LoRA\\\\\""
   ]
  },
  {
   "cell_type": "code",
   "execution_count": 6,
   "id": "a980f1d5",
   "metadata": {},
   "outputs": [],
   "source": [
    "# Data parameter\n",
    "batch_size=128\n",
    "\n",
    "# Network Architecture\n",
    "num_inputs = 28*28\n",
    "num_hidden = 256\n",
    "num_outputs = 10\n",
    "\n",
    "# Train parameters\n",
    "loss_name = \"CE\"\n",
    "optimizer_name = \"Adam\""
   ]
  },
  {
   "cell_type": "markdown",
   "id": "3be79b89",
   "metadata": {},
   "source": [
    "## Reproducibility"
   ]
  },
  {
   "cell_type": "code",
   "execution_count": 7,
   "id": "51b4ebb0",
   "metadata": {},
   "outputs": [],
   "source": [
    "random_seed = 88\n",
    "permutation_random_seeds = list(range(10))"
   ]
  },
  {
   "cell_type": "markdown",
   "id": "f7934232",
   "metadata": {},
   "source": [
    "## Get pMNIST loaders"
   ]
  },
  {
   "cell_type": "code",
   "execution_count": 8,
   "id": "bc12fb3d",
   "metadata": {},
   "outputs": [],
   "source": [
    "train_loaders_list, val_loaders_list, test_loaders_list = [], [], []\n",
    "for random_seed in permutation_random_seeds :\n",
    "    train_loader, val_loader, test_loader = get_task_loaders(data_path, batch_size, random_seed, train_percentage=0.8, download=False)\n",
    "    train_loaders_list += [train_loader]\n",
    "    val_loaders_list += [val_loader]\n",
    "    test_loaders_list += [test_loader]"
   ]
  },
  {
   "cell_type": "markdown",
   "id": "334c8421",
   "metadata": {},
   "source": [
    "## Train vanilla ANN on task 0"
   ]
  },
  {
   "cell_type": "code",
   "execution_count": 9,
   "id": "0e03c41c",
   "metadata": {},
   "outputs": [],
   "source": [
    "if train_vanilla :\n",
    "    train_loader = train_loaders_list[0]\n",
    "    test_loader = test_loaders_list[0]"
   ]
  },
  {
   "cell_type": "code",
   "execution_count": 10,
   "id": "eca02004",
   "metadata": {},
   "outputs": [],
   "source": [
    "if train_vanilla :\n",
    "    lr = 1e-3\n",
    "    num_epochs = 5"
   ]
  },
  {
   "cell_type": "code",
   "execution_count": 11,
   "id": "2a84c224",
   "metadata": {},
   "outputs": [],
   "source": [
    "if train_vanilla :\n",
    "    model = ANN(num_inputs, num_hidden, num_outputs, random_seed)"
   ]
  },
  {
   "cell_type": "code",
   "execution_count": 12,
   "id": "63c50b5e",
   "metadata": {},
   "outputs": [
    {
     "name": "stderr",
     "output_type": "stream",
     "text": [
      "100%|██████████| 5/5 [00:26<00:00,  5.34s/it]\n"
     ]
    }
   ],
   "source": [
    "if train_vanilla :\n",
    "    train_ANN(model, loss_name, optimizer_name, lr, train_loader, num_epochs, batch_size, device, random_seed)"
   ]
  },
  {
   "cell_type": "code",
   "execution_count": 13,
   "id": "e6f62b96",
   "metadata": {},
   "outputs": [
    {
     "name": "stdout",
     "output_type": "stream",
     "text": [
      "97.59730769230771\n"
     ]
    }
   ],
   "source": [
    "if train_vanilla :\n",
    "    print(test(model, test_loader, batch_size, device))"
   ]
  },
  {
   "cell_type": "markdown",
   "id": "25d5da57",
   "metadata": {},
   "source": [
    "## Save vanilla ANN"
   ]
  },
  {
   "cell_type": "code",
   "execution_count": 14,
   "id": "9511b2bc",
   "metadata": {},
   "outputs": [],
   "source": [
    "if train_vanilla :\n",
    "    vanilla_path = model_path+\"ICL_state_dict_pMNIST_0.pth\""
   ]
  },
  {
   "cell_type": "code",
   "execution_count": 15,
   "id": "a5d1ff9b",
   "metadata": {},
   "outputs": [],
   "source": [
    "if train_vanilla :\n",
    "    save(vanilla_path, model)"
   ]
  },
  {
   "cell_type": "markdown",
   "id": "2eb2e1c4",
   "metadata": {},
   "source": [
    "## CL on other permuted tasks with LoRA"
   ]
  },
  {
   "cell_type": "code",
   "execution_count": 16,
   "id": "0d30e1b7",
   "metadata": {},
   "outputs": [
    {
     "name": "stderr",
     "output_type": "stream",
     "text": [
      "/home/mathis/miniconda3/envs/.jax_env/lib/python3.12/site-packages/tqdm/auto.py:21: TqdmWarning: IProgress not found. Please update jupyter and ipywidgets. See https://ipywidgets.readthedocs.io/en/stable/user_install.html\n",
      "  from .autonotebook import tqdm as notebook_tqdm\n"
     ]
    }
   ],
   "source": [
    "import optuna\n",
    "from functools import partial\n",
    "import matplotlib.pyplot as plt"
   ]
  },
  {
   "cell_type": "markdown",
   "id": "7eaba372",
   "metadata": {},
   "source": [
    "### Greedy HPO"
   ]
  },
  {
   "cell_type": "code",
   "execution_count": 17,
   "id": "0b501874",
   "metadata": {},
   "outputs": [],
   "source": [
    "def define_model(trial, model_path, params) :\n",
    "    lora_rank = trial.suggest_int(\"lora_rank\", 8, 40)\n",
    "    alpha = trial.suggest_float(\"alpha\", 0.5, 3)\n",
    "    \n",
    "    num_inputs, num_hidden, num_outputs, batch_size = params\n",
    "    lora_ann_model = LoRA_ANN(lora_rank,\n",
    "                              alpha, \n",
    "                              model_path, \n",
    "                              num_inputs, \n",
    "                              num_hidden, \n",
    "                              num_outputs,\n",
    "                              batch_size,\n",
    "                              random_seed)\n",
    "\n",
    "    return lora_ann_model\n",
    "\n",
    "def objective(task_number, model_path, params, device, trial) :\n",
    "    # Define model\n",
    "    lora_ann_model = define_model(trial, model_path, params).to(device)\n",
    "    \n",
    "    # Set HPs\n",
    "    lr = trial.suggest_float(\"lr\", 5e-5, 1e-3)\n",
    "    num_epochs = trial.suggest_int(\"num_epochs\", 1, 4)\n",
    "    \n",
    "    # Train\n",
    "    batch_size = params[-1]\n",
    "    \n",
    "    train_loader = train_loaders_list[task_number]\n",
    "\n",
    "    train_ANN(lora_ann_model, loss_name, optimizer_name, lr, train_loader, num_epochs, batch_size, device, random_seed)\n",
    "    \n",
    "    # Test\n",
    "    test_accs = np.zeros(task_number+1)\n",
    "    for j in range(task_number+1) :\n",
    "        test_acc = test(lora_ann_model, test_loaders_list[j], batch_size, device)\n",
    "        test_accs[j] = test_acc\n",
    "    \n",
    "    # Compute score\n",
    "    mu, sigma = np.mean(test_accs), np.std(test_accs)\n",
    "    score = mu/sigma\n",
    "    \n",
    "    return score"
   ]
  },
  {
   "cell_type": "code",
   "execution_count": 18,
   "id": "931d2b28",
   "metadata": {},
   "outputs": [],
   "source": [
    "def retrain_and_save_with_best_HPs (best_trial, i, model_path) :\n",
    "    lora_rank  = best_trial.params[\"lora_rank\"]\n",
    "    alpha = best_trial.params[\"alpha\"]\n",
    "    lr = best_trial.params[\"lr\"]\n",
    "    num_epochs = best_trial.params[\"num_epochs\"]\n",
    "    \n",
    "    lora_ann_model = LoRA_ANN(lora_rank,\n",
    "                              alpha, \n",
    "                              model_path, \n",
    "                              num_inputs, \n",
    "                              num_hidden, \n",
    "                              num_outputs,\n",
    "                              batch_size,\n",
    "                              random_seed).to(device)\n",
    "\n",
    "    # Train\n",
    "    train_loader = train_loaders_list[i]\n",
    "    #val_loader = val_loaders[i]\n",
    "\n",
    "    train_ANN(lora_ann_model, loss_name, optimizer_name, lr, train_loader, num_epochs, batch_size, device, random_seed)\n",
    "    \n",
    "    # Test\n",
    "    test_accs = np.zeros(10)\n",
    "    for j in range(10) :\n",
    "        test_acc = test(lora_ann_model, test_loaders_list[j], batch_size, device)\n",
    "        test_accs[j] = test_acc\n",
    "    \n",
    "    # Save model\n",
    "    fc1_update = lora_ann_model.model.fc1.weight + alpha*torch.mm(lora_ann_model.l1_lora_A, lora_ann_model.l1_lora_B).T\n",
    "    lora_ann_model.model.fc1.weight = torch.nn.Parameter(fc1_update)\n",
    "    \n",
    "    fc2_update = lora_ann_model.model.fc2.weight + alpha*torch.mm(lora_ann_model.l2_lora_A, lora_ann_model.l2_lora_B).T\n",
    "    lora_ann_model.model.fc2.weight = torch.nn.Parameter(fc2_update)\n",
    "    \n",
    "    model_path = path + f\"ICL_state_dict_pMNIST_{i}.pth\"\n",
    "    save(model_path, lora_ann_model.model)\n",
    "    \n",
    "    return test_accs"
   ]
  },
  {
   "cell_type": "code",
   "execution_count": 19,
   "id": "0138d538",
   "metadata": {
    "scrolled": true
   },
   "outputs": [],
   "source": [
    "def call_greedy_HPO(n_trials) :\n",
    "    # Compute scores of the model trained on the first task\n",
    "    model_path = path + \"\\\\ANN_LoRA\\\\ICL_state_dict_pMNIST_0.pth\"\n",
    "\n",
    "    lora_rank = 16 # The value of this parameters has no influence\n",
    "    alpha = 1.8 # The value of this parameter has no influence\n",
    "\n",
    "    lora_ann_model = LoRA_ANN(lora_rank,\n",
    "                            alpha, \n",
    "                            model_path, \n",
    "                            num_inputs, \n",
    "                            num_hidden, \n",
    "                            num_outputs, \n",
    "                            batch_size,\n",
    "                            random_seed).to(device)\n",
    "\n",
    "    # Test the model trained on digits 0 to 4\n",
    "    test_accs = np.zeros(10)\n",
    "    for j in range(10) :\n",
    "        test_acc = test(lora_ann_model, test_loaders_list[j], batch_size, device)\n",
    "        test_accs[j] = test_acc\n",
    "            \n",
    "    # Initialize variable to store the best HPs and the scores\n",
    "    best_params = []\n",
    "    scores = [test_acc]\n",
    "    test_accs_matrix = [test_accs]\n",
    "    mean_test_accs_through_past_tasks = [test_acc]\n",
    "\n",
    "    for i in range(1,10) :\n",
    "        print(f\"Learning Task {i+1}\")\n",
    "        # Perform HPO\n",
    "        storage = optuna.storages.InMemoryStorage()\n",
    "        study = optuna.create_study(storage=storage,\n",
    "                                    study_name=\"The Search\",\n",
    "                                    sampler=optuna.samplers.TPESampler(seed=random_seed),\n",
    "                                    direction = \"maximize\")\n",
    "        \n",
    "        params = num_inputs, num_hidden, num_outputs, batch_size\n",
    "        partial_objective = partial(objective, i, model_path, params, device)\n",
    "        study.optimize(partial_objective,\n",
    "                    n_trials=n_trials,\n",
    "                    timeout=3600)\n",
    "\n",
    "        # Retrain and save a model with the best params\n",
    "        best_trial = study.best_trial\n",
    "        best_params.append(best_trial.params)\n",
    "        test_accs = retrain_and_save_with_best_HPs(best_trial, i, model_path) \n",
    "        \n",
    "        model_path = path + f\"ICL_state_dict_pMNIST_{i}.pth\"\n",
    "        \n",
    "        # Compute and store scores\n",
    "        mu, sigma = np.mean(test_accs[:i+1]), np.std(test_accs[:i+1])\n",
    "        score = mu - sigma\n",
    "        \n",
    "        scores.append(score)\n",
    "        test_accs_matrix.append(test_accs)\n",
    "        mean_test_accs_through_past_tasks.append(mu)\n",
    "    \n",
    "    return test_accs_matrix"
   ]
  },
  {
   "cell_type": "code",
   "execution_count": 20,
   "id": "09a25535",
   "metadata": {},
   "outputs": [],
   "source": [
    "n_trials_list = [4]"
   ]
  },
  {
   "cell_type": "code",
   "execution_count": 21,
   "id": "79573bd7",
   "metadata": {},
   "outputs": [
    {
     "name": "stderr",
     "output_type": "stream",
     "text": [
      "[I 2024-05-29 17:23:05,797] A new study created in memory with name: The Search\n"
     ]
    },
    {
     "name": "stdout",
     "output_type": "stream",
     "text": [
      "Learning Task 2\n"
     ]
    },
    {
     "name": "stderr",
     "output_type": "stream",
     "text": [
      "100%|██████████| 1/1 [00:05<00:00,  5.58s/it]\n",
      "[I 2024-05-29 17:23:13,493] Trial 0 finished with value: 31.006850066964024 and parameters: {'lora_rank': 8, 'alpha': 1.754686480371847, 'lr': 0.0005209846284774388, 'num_epochs': 1}. Best is trial 0 with value: 31.006850066964024.\n",
      "100%|██████████| 1/1 [00:05<00:00,  5.53s/it]\n",
      "[I 2024-05-29 17:23:21,379] Trial 1 finished with value: 19.15746746733348 and parameters: {'lora_rank': 12, 'alpha': 1.0463966890651957, 'lr': 0.00044758277148492984, 'num_epochs': 1}. Best is trial 0 with value: 31.006850066964024.\n",
      "100%|██████████| 4/4 [00:23<00:00,  5.89s/it]\n",
      "[I 2024-05-29 17:23:47,230] Trial 2 finished with value: 49.39150911200683 and parameters: {'lora_rank': 10, 'alpha': 1.3637466001260004, 'lr': 0.00020843752920570536, 'num_epochs': 4}. Best is trial 2 with value: 49.39150911200683.\n",
      "100%|██████████| 3/3 [00:16<00:00,  5.39s/it]\n",
      "[I 2024-05-29 17:24:05,517] Trial 3 finished with value: 242.82280557833926 and parameters: {'lora_rank': 39, 'alpha': 0.5968709395807996, 'lr': 0.0007141520218288229, 'num_epochs': 3}. Best is trial 3 with value: 242.82280557833926.\n",
      "100%|██████████| 3/3 [00:16<00:00,  5.42s/it]\n",
      "[I 2024-05-29 17:24:32,246] A new study created in memory with name: The Search\n"
     ]
    },
    {
     "name": "stdout",
     "output_type": "stream",
     "text": [
      "Learning Task 3\n"
     ]
    },
    {
     "name": "stderr",
     "output_type": "stream",
     "text": [
      "100%|██████████| 1/1 [00:05<00:00,  5.40s/it]\n",
      "[I 2024-05-29 17:24:40,785] Trial 0 finished with value: 91.98213819509282 and parameters: {'lora_rank': 8, 'alpha': 1.754686480371847, 'lr': 0.0005209846284774388, 'num_epochs': 1}. Best is trial 0 with value: 91.98213819509282.\n",
      "100%|██████████| 1/1 [00:05<00:00,  5.38s/it]\n",
      "[I 2024-05-29 17:24:49,299] Trial 1 finished with value: 54.71763024218678 and parameters: {'lora_rank': 12, 'alpha': 1.0463966890651957, 'lr': 0.00044758277148492984, 'num_epochs': 1}. Best is trial 0 with value: 91.98213819509282.\n",
      "100%|██████████| 4/4 [00:21<00:00,  5.39s/it]\n",
      "[I 2024-05-29 17:25:13,965] Trial 2 finished with value: 86.10934469940098 and parameters: {'lora_rank': 10, 'alpha': 1.3637466001260004, 'lr': 0.00020843752920570536, 'num_epochs': 4}. Best is trial 0 with value: 91.98213819509282.\n",
      "100%|██████████| 3/3 [00:16<00:00,  5.40s/it]\n",
      "[I 2024-05-29 17:25:33,283] Trial 3 finished with value: 19.073540577797484 and parameters: {'lora_rank': 39, 'alpha': 0.5968709395807996, 'lr': 0.0007141520218288229, 'num_epochs': 3}. Best is trial 0 with value: 91.98213819509282.\n",
      "100%|██████████| 1/1 [00:05<00:00,  5.40s/it]\n",
      "[I 2024-05-29 17:25:49,142] A new study created in memory with name: The Search\n"
     ]
    },
    {
     "name": "stdout",
     "output_type": "stream",
     "text": [
      "Learning Task 4\n"
     ]
    },
    {
     "name": "stderr",
     "output_type": "stream",
     "text": [
      "100%|██████████| 1/1 [00:05<00:00,  5.40s/it]\n",
      "[I 2024-05-29 17:25:58,722] Trial 0 finished with value: 23.84102468705905 and parameters: {'lora_rank': 8, 'alpha': 1.754686480371847, 'lr': 0.0005209846284774388, 'num_epochs': 1}. Best is trial 0 with value: 23.84102468705905.\n",
      "100%|██████████| 1/1 [00:05<00:00,  5.39s/it]\n",
      "[I 2024-05-29 17:26:08,285] Trial 1 finished with value: 19.096056758638166 and parameters: {'lora_rank': 12, 'alpha': 1.0463966890651957, 'lr': 0.00044758277148492984, 'num_epochs': 1}. Best is trial 0 with value: 23.84102468705905.\n",
      "100%|██████████| 4/4 [00:21<00:00,  5.39s/it]\n",
      "[I 2024-05-29 17:26:34,023] Trial 2 finished with value: 12.705358149677814 and parameters: {'lora_rank': 10, 'alpha': 1.3637466001260004, 'lr': 0.00020843752920570536, 'num_epochs': 4}. Best is trial 0 with value: 23.84102468705905.\n",
      "100%|██████████| 3/3 [00:16<00:00,  5.39s/it]\n",
      "[I 2024-05-29 17:26:54,365] Trial 3 finished with value: 8.478281806188617 and parameters: {'lora_rank': 39, 'alpha': 0.5968709395807996, 'lr': 0.0007141520218288229, 'num_epochs': 3}. Best is trial 0 with value: 23.84102468705905.\n",
      "100%|██████████| 1/1 [00:05<00:00,  5.40s/it]\n",
      "[I 2024-05-29 17:27:10,196] A new study created in memory with name: The Search\n"
     ]
    },
    {
     "name": "stdout",
     "output_type": "stream",
     "text": [
      "Learning Task 5\n"
     ]
    },
    {
     "name": "stderr",
     "output_type": "stream",
     "text": [
      "100%|██████████| 1/1 [00:05<00:00,  5.39s/it]\n",
      "[I 2024-05-29 17:27:20,796] Trial 0 finished with value: 8.99746990313732 and parameters: {'lora_rank': 8, 'alpha': 1.754686480371847, 'lr': 0.0005209846284774388, 'num_epochs': 1}. Best is trial 0 with value: 8.99746990313732.\n",
      "100%|██████████| 1/1 [00:05<00:00,  5.39s/it]\n",
      "[I 2024-05-29 17:27:31,406] Trial 1 finished with value: 11.520270543118354 and parameters: {'lora_rank': 12, 'alpha': 1.0463966890651957, 'lr': 0.00044758277148492984, 'num_epochs': 1}. Best is trial 1 with value: 11.520270543118354.\n",
      "100%|██████████| 4/4 [00:21<00:00,  5.38s/it]\n",
      "[I 2024-05-29 17:27:58,139] Trial 2 finished with value: 7.72424281485192 and parameters: {'lora_rank': 10, 'alpha': 1.3637466001260004, 'lr': 0.00020843752920570536, 'num_epochs': 4}. Best is trial 1 with value: 11.520270543118354.\n",
      "100%|██████████| 3/3 [00:16<00:00,  5.40s/it]\n",
      "[I 2024-05-29 17:28:19,556] Trial 3 finished with value: 5.866661945981942 and parameters: {'lora_rank': 39, 'alpha': 0.5968709395807996, 'lr': 0.0007141520218288229, 'num_epochs': 3}. Best is trial 1 with value: 11.520270543118354.\n",
      "100%|██████████| 1/1 [00:05<00:00,  5.40s/it]\n",
      "[I 2024-05-29 17:28:35,399] A new study created in memory with name: The Search\n"
     ]
    },
    {
     "name": "stdout",
     "output_type": "stream",
     "text": [
      "Learning Task 6\n"
     ]
    },
    {
     "name": "stderr",
     "output_type": "stream",
     "text": [
      "100%|██████████| 1/1 [00:05<00:00,  5.41s/it]\n",
      "[I 2024-05-29 17:28:47,145] Trial 0 finished with value: 6.5079271748076915 and parameters: {'lora_rank': 8, 'alpha': 1.754686480371847, 'lr': 0.0005209846284774388, 'num_epochs': 1}. Best is trial 0 with value: 6.5079271748076915.\n",
      "100%|██████████| 1/1 [00:05<00:00,  5.38s/it]\n",
      "[I 2024-05-29 17:28:58,789] Trial 1 finished with value: 10.246931590516976 and parameters: {'lora_rank': 12, 'alpha': 1.0463966890651957, 'lr': 0.00044758277148492984, 'num_epochs': 1}. Best is trial 1 with value: 10.246931590516976.\n",
      "100%|██████████| 4/4 [00:21<00:00,  5.39s/it]\n",
      "[I 2024-05-29 17:29:26,595] Trial 2 finished with value: 5.208019284275296 and parameters: {'lora_rank': 10, 'alpha': 1.3637466001260004, 'lr': 0.00020843752920570536, 'num_epochs': 4}. Best is trial 1 with value: 10.246931590516976.\n",
      "100%|██████████| 3/3 [00:16<00:00,  5.39s/it]\n",
      "[I 2024-05-29 17:29:49,031] Trial 3 finished with value: 4.855587871064821 and parameters: {'lora_rank': 39, 'alpha': 0.5968709395807996, 'lr': 0.0007141520218288229, 'num_epochs': 3}. Best is trial 1 with value: 10.246931590516976.\n",
      "100%|██████████| 1/1 [00:05<00:00,  5.40s/it]\n",
      "[I 2024-05-29 17:30:04,888] A new study created in memory with name: The Search\n"
     ]
    },
    {
     "name": "stdout",
     "output_type": "stream",
     "text": [
      "Learning Task 7\n"
     ]
    },
    {
     "name": "stderr",
     "output_type": "stream",
     "text": [
      "100%|██████████| 1/1 [00:05<00:00,  5.40s/it]\n",
      "[I 2024-05-29 17:30:17,585] Trial 0 finished with value: 6.874347088839439 and parameters: {'lora_rank': 8, 'alpha': 1.754686480371847, 'lr': 0.0005209846284774388, 'num_epochs': 1}. Best is trial 0 with value: 6.874347088839439.\n",
      "100%|██████████| 1/1 [00:05<00:00,  5.38s/it]\n",
      "[I 2024-05-29 17:30:30,235] Trial 1 finished with value: 9.358140893945201 and parameters: {'lora_rank': 12, 'alpha': 1.0463966890651957, 'lr': 0.00044758277148492984, 'num_epochs': 1}. Best is trial 1 with value: 9.358140893945201.\n",
      "100%|██████████| 4/4 [00:21<00:00,  5.38s/it]\n",
      "[I 2024-05-29 17:30:59,063] Trial 2 finished with value: 5.736860778587466 and parameters: {'lora_rank': 10, 'alpha': 1.3637466001260004, 'lr': 0.00020843752920570536, 'num_epochs': 4}. Best is trial 1 with value: 9.358140893945201.\n",
      "100%|██████████| 3/3 [00:16<00:00,  5.46s/it]\n",
      "[I 2024-05-29 17:31:23,524] Trial 3 finished with value: 5.250918544614646 and parameters: {'lora_rank': 39, 'alpha': 0.5968709395807996, 'lr': 0.0007141520218288229, 'num_epochs': 3}. Best is trial 1 with value: 9.358140893945201.\n",
      "100%|██████████| 1/1 [00:05<00:00,  5.59s/it]\n",
      "[I 2024-05-29 17:31:40,728] A new study created in memory with name: The Search\n"
     ]
    },
    {
     "name": "stdout",
     "output_type": "stream",
     "text": [
      "Learning Task 8\n"
     ]
    },
    {
     "name": "stderr",
     "output_type": "stream",
     "text": [
      "100%|██████████| 1/1 [00:05<00:00,  5.54s/it]\n",
      "[I 2024-05-29 17:31:54,617] Trial 0 finished with value: 6.232116632919758 and parameters: {'lora_rank': 8, 'alpha': 1.754686480371847, 'lr': 0.0005209846284774388, 'num_epochs': 1}. Best is trial 0 with value: 6.232116632919758.\n",
      "100%|██████████| 1/1 [00:05<00:00,  5.38s/it]\n",
      "[I 2024-05-29 17:32:08,908] Trial 1 finished with value: 7.346919598253731 and parameters: {'lora_rank': 12, 'alpha': 1.0463966890651957, 'lr': 0.00044758277148492984, 'num_epochs': 1}. Best is trial 1 with value: 7.346919598253731.\n",
      "100%|██████████| 4/4 [00:22<00:00,  5.72s/it]\n",
      "[I 2024-05-29 17:32:41,047] Trial 2 finished with value: 5.667147270341917 and parameters: {'lora_rank': 10, 'alpha': 1.3637466001260004, 'lr': 0.00020843752920570536, 'num_epochs': 4}. Best is trial 1 with value: 7.346919598253731.\n",
      "100%|██████████| 3/3 [00:16<00:00,  5.59s/it]\n",
      "[I 2024-05-29 17:33:07,041] Trial 3 finished with value: 4.937094423896774 and parameters: {'lora_rank': 39, 'alpha': 0.5968709395807996, 'lr': 0.0007141520218288229, 'num_epochs': 3}. Best is trial 1 with value: 7.346919598253731.\n",
      "100%|██████████| 1/1 [00:05<00:00,  5.51s/it]\n",
      "[I 2024-05-29 17:33:24,166] A new study created in memory with name: The Search\n"
     ]
    },
    {
     "name": "stdout",
     "output_type": "stream",
     "text": [
      "Learning Task 9\n"
     ]
    },
    {
     "name": "stderr",
     "output_type": "stream",
     "text": [
      "100%|██████████| 1/1 [00:05<00:00,  5.39s/it]\n",
      "[I 2024-05-29 17:33:38,927] Trial 0 finished with value: 4.181763314953762 and parameters: {'lora_rank': 8, 'alpha': 1.754686480371847, 'lr': 0.0005209846284774388, 'num_epochs': 1}. Best is trial 0 with value: 4.181763314953762.\n",
      "100%|██████████| 1/1 [00:05<00:00,  5.39s/it]\n",
      "[I 2024-05-29 17:33:53,682] Trial 1 finished with value: 6.069667997404058 and parameters: {'lora_rank': 12, 'alpha': 1.0463966890651957, 'lr': 0.00044758277148492984, 'num_epochs': 1}. Best is trial 1 with value: 6.069667997404058.\n",
      "100%|██████████| 4/4 [00:22<00:00,  5.68s/it]\n",
      "[I 2024-05-29 17:34:26,486] Trial 2 finished with value: 3.7274180621319246 and parameters: {'lora_rank': 10, 'alpha': 1.3637466001260004, 'lr': 0.00020843752920570536, 'num_epochs': 4}. Best is trial 1 with value: 6.069667997404058.\n",
      "100%|██████████| 3/3 [00:16<00:00,  5.66s/it]\n",
      "[I 2024-05-29 17:34:53,850] Trial 3 finished with value: 3.5830973565051263 and parameters: {'lora_rank': 39, 'alpha': 0.5968709395807996, 'lr': 0.0007141520218288229, 'num_epochs': 3}. Best is trial 1 with value: 6.069667997404058.\n",
      "100%|██████████| 1/1 [00:05<00:00,  5.40s/it]\n",
      "[I 2024-05-29 17:35:10,353] A new study created in memory with name: The Search\n"
     ]
    },
    {
     "name": "stdout",
     "output_type": "stream",
     "text": [
      "Learning Task 10\n"
     ]
    },
    {
     "name": "stderr",
     "output_type": "stream",
     "text": [
      "100%|██████████| 1/1 [00:05<00:00,  5.38s/it]\n",
      "[I 2024-05-29 17:35:26,140] Trial 0 finished with value: 4.670942316020649 and parameters: {'lora_rank': 8, 'alpha': 1.754686480371847, 'lr': 0.0005209846284774388, 'num_epochs': 1}. Best is trial 0 with value: 4.670942316020649.\n",
      "100%|██████████| 1/1 [00:05<00:00,  5.36s/it]\n",
      "[I 2024-05-29 17:35:42,182] Trial 1 finished with value: 6.083227483327554 and parameters: {'lora_rank': 12, 'alpha': 1.0463966890651957, 'lr': 0.00044758277148492984, 'num_epochs': 1}. Best is trial 1 with value: 6.083227483327554.\n",
      "100%|██████████| 4/4 [00:21<00:00,  5.38s/it]\n",
      "[I 2024-05-29 17:36:14,406] Trial 2 finished with value: 3.7664827024232235 and parameters: {'lora_rank': 10, 'alpha': 1.3637466001260004, 'lr': 0.00020843752920570536, 'num_epochs': 4}. Best is trial 1 with value: 6.083227483327554.\n",
      "100%|██████████| 3/3 [00:16<00:00,  5.37s/it]\n",
      "[I 2024-05-29 17:36:41,116] Trial 3 finished with value: 3.3529600589408632 and parameters: {'lora_rank': 39, 'alpha': 0.5968709395807996, 'lr': 0.0007141520218288229, 'num_epochs': 3}. Best is trial 1 with value: 6.083227483327554.\n",
      "100%|██████████| 1/1 [00:05<00:00,  5.59s/it]\n"
     ]
    }
   ],
   "source": [
    "test_accs_matrix_list = []\n",
    "for n_trials in n_trials_list :\n",
    "    test_accs_matrix = call_greedy_HPO(n_trials)\n",
    "    test_accs_matrix_list += [test_accs_matrix]"
   ]
  },
  {
   "cell_type": "code",
   "execution_count": 22,
   "id": "96b858de",
   "metadata": {},
   "outputs": [],
   "source": [
    "def visualize_greedy_HPO_matrix(test_accs_matrix, n_trials, savefig=False):\n",
    "    plt.imshow(test_accs_matrix, cmap='viridis', interpolation='nearest')\n",
    "    plt.yticks(np.arange(10), np.arange(10))\n",
    "    plt.xlabel(\"Accuracy on digit j...\")\n",
    "    plt.ylabel(\"...after training on digit i\")\n",
    "    plt.title(f\"Result of greedy HPO with {n_trials} trials per task\")\n",
    "    plt.colorbar()\n",
    "    if savefig :\n",
    "        plt.savefig(f\"results/ICL5_{n_trials}_trial_greedy_HPO_matrix_LoRA.png\")\n",
    "    plt.show()"
   ]
  },
  {
   "cell_type": "code",
   "execution_count": 23,
   "id": "169c624a",
   "metadata": {},
   "outputs": [
    {
     "data": {
      "image/png": "[encoded data removed]",
      "text/plain": [
       "<Figure size 640x480 with 2 Axes>"
      ]
     },
     "metadata": {},
     "output_type": "display_data"
    }
   ],
   "source": [
    "for test_accs_matrix, n_trials in zip(test_accs_matrix_list, n_trials_list) :\n",
    "    visualize_greedy_HPO_matrix(test_accs_matrix, n_trials, savefig=False)"
   ]
  },
  {
   "cell_type": "code",
   "execution_count": 24,
   "id": "5148f2f8",
   "metadata": {},
   "outputs": [],
   "source": [
    "import matplotlib.pyplot as plt\n",
    "import matplotlib.cm as cm\n",
    "import matplotlib.colors as mcolors"
   ]
  },
  {
   "cell_type": "code",
   "execution_count": 28,
   "id": "864e6c3e",
   "metadata": {},
   "outputs": [],
   "source": [
    "def visualize_greedy_HPO_curve(test_accs_matrix_list, n_trials_list, savefig=False):\n",
    "    # Normalize n_trials values for the colormap\n",
    "    norm = mcolors.LogNorm(vmin=min(n_trials_list), vmax=max(n_trials_list))\n",
    "    colormap = cm.viridis\n",
    "\n",
    "    fig, ax = plt.subplots(figsize=(10, 6))\n",
    "    for test_accs_matrix, n_trials in zip(test_accs_matrix_list, n_trials_list):\n",
    "        mean_accs = [np.array(test_accs_matrix[i][:i+1]).sum() / (i+1) for i in range(10)]\n",
    "        color = colormap(norm(n_trials))\n",
    "        ax.plot(range(10), mean_accs, label=f\"{n_trials} trials\", color=color)\n",
    "    \n",
    "    ax.set_xlabel(\"Number of classes trained\")\n",
    "    ax.set_ylabel(\"Average accuracy for classes trained so far\")\n",
    "    ax.set_ylim(0, 100)\n",
    "    ax.set_title(\"Result of greedy HPO with various numbers of trials\")\n",
    "\n",
    "    # Create a scalar mappable for the color bar\n",
    "    sm = cm.ScalarMappable(cmap=colormap, norm=norm)\n",
    "    sm.set_array([])\n",
    "    cbar = fig.colorbar(sm, ax=ax)\n",
    "    cbar.set_label('Number of Trials')\n",
    "\n",
    "    ax.legend(loc='lower left')\n",
    "    \n",
    "    if savefig:\n",
    "        plt.savefig(f\"results/ICL5_greedy_HPO_curve_LoRA.png\")\n",
    "    \n",
    "    plt.show()\n",
    "\n",
    "# Example usage\n",
    "# visualize_greedy_HPO_curve(test_accs_matrix_list, n_trials_list, savefig=True)\n"
   ]
  },
  {
   "cell_type": "code",
   "execution_count": 29,
   "id": "7511b302",
   "metadata": {},
   "outputs": [
    {
     "data": {
      "image/png": "[encoded data removed]",
      "text/plain": [
       "<Figure size 1000x600 with 2 Axes>"
      ]
     },
     "metadata": {},
     "output_type": "display_data"
    }
   ],
   "source": [
    "visualize_greedy_HPO_curve(test_accs_matrix_list, n_trials_list, savefig=False)"
   ]
  },
  {
   "cell_type": "code",
   "execution_count": 27,
   "id": "5a322db1",
   "metadata": {},
   "outputs": [
    {
     "ename": "NameError",
     "evalue": "name 'stop' is not defined",
     "output_type": "error",
     "traceback": [
      "\u001b[0;31m---------------------------------------------------------------------------\u001b[0m",
      "\u001b[0;31mNameError\u001b[0m                                 Traceback (most recent call last)",
      "Cell \u001b[0;32mIn[27], line 1\u001b[0m\n\u001b[0;32m----> 1\u001b[0m \u001b[43mstop\u001b[49m\n",
      "\u001b[0;31mNameError\u001b[0m: name 'stop' is not defined"
     ]
    }
   ],
   "source": [
    "stop"
   ]
  },
  {
   "cell_type": "markdown",
   "id": "fd63a2a2",
   "metadata": {},
   "source": [
    "### Refined greedy HPO"
   ]
  },
  {
   "cell_type": "code",
   "execution_count": null,
   "id": "0f6a23c5",
   "metadata": {},
   "outputs": [],
   "source": [
    "def call_refined_geedy_HPO(n_trials_task_wise) :\n",
    "    # Compute scores of the model trained on the first task\n",
    "    model_path = path + \"\\\\ANN_LoRA\\\\ICL5_state_dict_digits_0_to_4.pth\"\n",
    "\n",
    "    lora_rank = 16 # The value of this parameters has no influence\n",
    "    alpha = 1.8 # The value of this parameter has no influence\n",
    "\n",
    "    lora_ann_model = LoRA_ANN(lora_rank,\n",
    "                            alpha, \n",
    "                            model_path, \n",
    "                            num_inputs, \n",
    "                            num_hidden, \n",
    "                            num_outputs, \n",
    "                            batch_size,\n",
    "                            random_seed).to(device)\n",
    "\n",
    "    # Test the model trained on digits 0 to 4\n",
    "    test_accs = np.zeros(10)\n",
    "    for j in range(5) :\n",
    "        test_acc = test(lora_ann_model, test_loaders_list[j+1], batch_size, device)\n",
    "        test_accs[j] = test_acc\n",
    "            \n",
    "    # Initialize variable to store the best HPs and the scores\n",
    "    best_params = []\n",
    "    scores = [test_acc]\n",
    "    test_accs_matrix = [test_accs]\n",
    "    mean_test_accs_through_past_tasks = [test_acc]\n",
    "\n",
    "    for i in range(5,10) :\n",
    "        print(f\"Learning Task {i+1}\")\n",
    "        # Perform HPO\n",
    "        storage = optuna.storages.InMemoryStorage()\n",
    "        study = optuna.create_study(storage=storage,\n",
    "                                    study_name=\"The Search\",\n",
    "                                    sampler=optuna.samplers.TPESampler(seed=random_seed),\n",
    "                                    direction = \"maximize\")\n",
    "        \n",
    "        params = num_inputs, num_hidden, num_outputs, batch_size\n",
    "        partial_objective = partial(objective, i, model_path, params, device)\n",
    "        study.optimize(partial_objective,\n",
    "                    n_trials=n_trials_task_wise[i-5],\n",
    "                    timeout=3600)\n",
    "\n",
    "        # Retrain and save a model with the best params\n",
    "        best_trial = study.best_trial\n",
    "        best_params.append(best_trial.params)\n",
    "        test_accs = retrain_and_save_with_best_HPs(best_trial, i, model_path) \n",
    "        \n",
    "        model_path = path + f\"ICL5_state_dict_digit_{i}.pth\"\n",
    "        \n",
    "        # Compute and store scores\n",
    "        mu, sigma = np.mean(test_accs[:i+1]), np.std(test_accs[:i+1])\n",
    "        score = mu - sigma\n",
    "        \n",
    "        scores.append(score)\n",
    "        test_accs_matrix.append(test_accs)\n",
    "        mean_test_accs_through_past_tasks.append(mu)\n",
    "    \n",
    "    return test_accs_matrix"
   ]
  },
  {
   "cell_type": "code",
   "execution_count": null,
   "id": "da78471b",
   "metadata": {},
   "outputs": [],
   "source": [
    "n_trials_task_wise = [32,32,64,64,128]"
   ]
  },
  {
   "cell_type": "code",
   "execution_count": null,
   "id": "ff5e43de",
   "metadata": {},
   "outputs": [
    {
     "name": "stderr",
     "output_type": "stream",
     "text": [
      "[I 2024-05-28 09:56:31,343] A new study created in memory with name: The Search\n"
     ]
    },
    {
     "name": "stdout",
     "output_type": "stream",
     "text": [
      "Learning Task 6\n"
     ]
    },
    {
     "name": "stderr",
     "output_type": "stream",
     "text": [
      "100%|██████████| 4/4 [00:01<00:00,  2.40it/s]\n",
      "[I 2024-05-28 09:56:33,541] Trial 0 finished with value: 0.4478114502532753 and parameters: {'lora_rank': 29, 'alpha': 1.7678742205327005, 'lr': 0.0005519243111446275, 'num_epochs': 4}. Best is trial 0 with value: 0.4478114502532753.\n",
      "100%|██████████| 1/1 [00:00<00:00,  2.39it/s]\n",
      "[I 2024-05-28 09:56:34,491] Trial 1 finished with value: 0.447213595499958 and parameters: {'lora_rank': 31, 'alpha': 2.2857427546778375, 'lr': 0.0007314714629868308, 'num_epochs': 1}. Best is trial 0 with value: 0.4478114502532753.\n",
      "100%|██████████| 1/1 [00:00<00:00,  2.41it/s]\n",
      "[I 2024-05-28 09:56:35,439] Trial 2 finished with value: 0.4561773478653366 and parameters: {'lora_rank': 13, 'alpha': 1.6421037208452025, 'lr': 0.0009323015099616342, 'num_epochs': 1}. Best is trial 2 with value: 0.4561773478653366.\n",
      "100%|██████████| 4/4 [00:01<00:00,  2.41it/s]\n",
      "[I 2024-05-28 09:56:37,630] Trial 3 finished with value: 0.48383932803593416 and parameters: {'lora_rank': 10, 'alpha': 2.6255006696373164, 'lr': 0.0005113400059503117, 'num_epochs': 4}. Best is trial 3 with value: 0.48383932803593416.\n",
      "100%|██████████| 1/1 [00:00<00:00,  2.40it/s]\n",
      "[I 2024-05-28 09:56:38,578] Trial 4 finished with value: 0.5741862428579952 and parameters: {'lora_rank': 18, 'alpha': 1.4699138654035446, 'lr': 0.0006023734557939007, 'num_epochs': 1}. Best is trial 4 with value: 0.5741862428579952.\n",
      "100%|██████████| 1/1 [00:00<00:00,  2.40it/s]\n",
      "[I 2024-05-28 09:56:39,539] Trial 5 finished with value: 0.4658594968337527 and parameters: {'lora_rank': 33, 'alpha': 1.2814150995075169, 'lr': 0.0006637099367646708, 'num_epochs': 1}. Best is trial 4 with value: 0.5741862428579952.\n",
      "100%|██████████| 4/4 [00:01<00:00,  2.42it/s]\n",
      "[I 2024-05-28 09:56:41,728] Trial 6 finished with value: 1.2127813654857627 and parameters: {'lora_rank': 13, 'alpha': 1.5757575809631148, 'lr': 0.0002664161465069263, 'num_epochs': 4}. Best is trial 6 with value: 1.2127813654857627.\n",
      "100%|██████████| 4/4 [00:01<00:00,  2.41it/s]\n",
      "[I 2024-05-28 09:56:43,919] Trial 7 finished with value: 1.8508005755347248 and parameters: {'lora_rank': 37, 'alpha': 2.664157282666268, 'lr': 8.055464325556489e-05, 'num_epochs': 4}. Best is trial 7 with value: 1.8508005755347248.\n",
      "100%|██████████| 2/2 [00:00<00:00,  2.41it/s]\n",
      "[I 2024-05-28 09:56:45,279] Trial 8 finished with value: 0.5249030303069373 and parameters: {'lora_rank': 37, 'alpha': 2.259833326884998, 'lr': 0.00026822682434784367, 'num_epochs': 2}. Best is trial 7 with value: 1.8508005755347248.\n",
      "100%|██████████| 3/3 [00:01<00:00,  2.41it/s]\n",
      "[I 2024-05-28 09:56:47,060] Trial 9 finished with value: 0.447213595499958 and parameters: {'lora_rank': 40, 'alpha': 1.3226149001755487, 'lr': 0.0006157526179465163, 'num_epochs': 3}. Best is trial 7 with value: 1.8508005755347248.\n",
      "100%|██████████| 3/3 [00:01<00:00,  2.40it/s]\n",
      "[I 2024-05-28 09:56:48,850] Trial 10 finished with value: 2.23563976348292 and parameters: {'lora_rank': 23, 'alpha': 0.5597135778077107, 'lr': 5.228392357003553e-05, 'num_epochs': 3}. Best is trial 10 with value: 2.23563976348292.\n",
      "100%|██████████| 3/3 [00:01<00:00,  2.42it/s]\n",
      "[I 2024-05-28 09:56:50,630] Trial 11 finished with value: 2.23580410479751 and parameters: {'lora_rank': 24, 'alpha': 0.6099218123286914, 'lr': 6.072680749917535e-05, 'num_epochs': 3}. Best is trial 11 with value: 2.23580410479751.\n",
      "100%|██████████| 3/3 [00:01<00:00,  2.39it/s]\n",
      "[I 2024-05-28 09:56:52,426] Trial 12 finished with value: 2.2357193578842227 and parameters: {'lora_rank': 22, 'alpha': 0.6500446103886679, 'lr': 5.067770897977318e-05, 'num_epochs': 3}. Best is trial 11 with value: 2.23580410479751.\n",
      "100%|██████████| 3/3 [00:01<00:00,  2.41it/s]\n",
      "[I 2024-05-28 09:56:54,213] Trial 13 finished with value: 2.4094052745514962 and parameters: {'lora_rank': 23, 'alpha': 0.5762165225467686, 'lr': 0.00024056411251947065, 'num_epochs': 3}. Best is trial 13 with value: 2.4094052745514962.\n",
      "100%|██████████| 2/2 [00:00<00:00,  2.42it/s]\n",
      "[I 2024-05-28 09:56:55,581] Trial 14 finished with value: 1.8498872821432524 and parameters: {'lora_rank': 27, 'alpha': 0.9220419778912248, 'lr': 0.0002624970310156158, 'num_epochs': 2}. Best is trial 13 with value: 2.4094052745514962.\n",
      "100%|██████████| 3/3 [00:01<00:00,  2.40it/s]\n",
      "[I 2024-05-28 09:56:57,370] Trial 15 finished with value: 0.8561904290111052 and parameters: {'lora_rank': 20, 'alpha': 0.9539935444325232, 'lr': 0.00036541099947033, 'num_epochs': 3}. Best is trial 13 with value: 2.4094052745514962.\n",
      "100%|██████████| 2/2 [00:00<00:00,  2.40it/s]\n",
      "[I 2024-05-28 09:56:58,752] Trial 16 finished with value: 3.6539225133712594 and parameters: {'lora_rank': 26, 'alpha': 0.8909978741639797, 'lr': 0.0001988862993326141, 'num_epochs': 2}. Best is trial 16 with value: 3.6539225133712594.\n",
      "100%|██████████| 2/2 [00:00<00:00,  2.40it/s]\n",
      "[I 2024-05-28 09:57:00,124] Trial 17 finished with value: 0.9591536907448974 and parameters: {'lora_rank': 17, 'alpha': 0.9787248402297346, 'lr': 0.0004028231535440783, 'num_epochs': 2}. Best is trial 16 with value: 3.6539225133712594.\n",
      "100%|██████████| 2/2 [00:00<00:00,  2.41it/s]\n",
      "[I 2024-05-28 09:57:01,495] Trial 18 finished with value: 2.104840112724918 and parameters: {'lora_rank': 26, 'alpha': 1.9582631669438633, 'lr': 0.00018600639909901242, 'num_epochs': 2}. Best is trial 16 with value: 3.6539225133712594.\n",
      "100%|██████████| 2/2 [00:00<00:00,  2.38it/s]\n",
      "[I 2024-05-28 09:57:02,891] Trial 19 finished with value: 0.5225588132852235 and parameters: {'lora_rank': 34, 'alpha': 1.1621559658276635, 'lr': 0.00042830742795115976, 'num_epochs': 2}. Best is trial 16 with value: 3.6539225133712594.\n",
      "100%|██████████| 2/2 [00:00<00:00,  2.39it/s]\n",
      "[I 2024-05-28 09:57:04,284] Trial 20 finished with value: 7.904880167908055 and parameters: {'lora_rank': 28, 'alpha': 0.8177884506128357, 'lr': 0.0001720500809822117, 'num_epochs': 2}. Best is trial 20 with value: 7.904880167908055.\n",
      "100%|██████████| 2/2 [00:00<00:00,  2.39it/s]\n",
      "[I 2024-05-28 09:57:05,663] Trial 21 finished with value: 6.373594108521464 and parameters: {'lora_rank': 28, 'alpha': 0.791690743360247, 'lr': 0.00018114376748808565, 'num_epochs': 2}. Best is trial 20 with value: 7.904880167908055.\n",
      "100%|██████████| 2/2 [00:00<00:00,  2.41it/s]\n",
      "[I 2024-05-28 09:57:07,039] Trial 22 finished with value: 6.957571143748586 and parameters: {'lora_rank': 29, 'alpha': 0.821299806461094, 'lr': 0.00015062312321712014, 'num_epochs': 2}. Best is trial 20 with value: 7.904880167908055.\n",
      "100%|██████████| 2/2 [00:00<00:00,  2.39it/s]\n",
      "[I 2024-05-28 09:57:08,416] Trial 23 finished with value: 6.820438996062162 and parameters: {'lora_rank': 29, 'alpha': 0.7828153914933861, 'lr': 0.00015379581914388914, 'num_epochs': 2}. Best is trial 20 with value: 7.904880167908055.\n",
      "100%|██████████| 2/2 [00:00<00:00,  2.41it/s]\n",
      "[I 2024-05-28 09:57:09,786] Trial 24 finished with value: 7.712168069537343 and parameters: {'lora_rank': 31, 'alpha': 1.1522505264605294, 'lr': 0.00014112324267888304, 'num_epochs': 2}. Best is trial 20 with value: 7.904880167908055.\n",
      "100%|██████████| 1/1 [00:00<00:00,  2.40it/s]\n",
      "[I 2024-05-28 09:57:10,745] Trial 25 finished with value: 4.038955464714857 and parameters: {'lora_rank': 33, 'alpha': 1.1572023016837027, 'lr': 0.00030816115378104404, 'num_epochs': 1}. Best is trial 20 with value: 7.904880167908055.\n",
      "100%|██████████| 2/2 [00:00<00:00,  2.41it/s]\n",
      "[I 2024-05-28 09:57:12,117] Trial 26 finished with value: 10.005199789642923 and parameters: {'lora_rank': 30, 'alpha': 1.1191347568658794, 'lr': 0.00013211192132623606, 'num_epochs': 2}. Best is trial 26 with value: 10.005199789642923.\n",
      "100%|██████████| 2/2 [00:00<00:00,  2.40it/s]\n",
      "[I 2024-05-28 09:57:13,494] Trial 27 finished with value: 0.6478146143132778 and parameters: {'lora_rank': 31, 'alpha': 1.1038440277834498, 'lr': 0.0003479386620506474, 'num_epochs': 2}. Best is trial 26 with value: 10.005199789642923.\n",
      "100%|██████████| 1/1 [00:00<00:00,  2.39it/s]\n",
      "[I 2024-05-28 09:57:14,453] Trial 28 finished with value: 0.6248805002907885 and parameters: {'lora_rank': 36, 'alpha': 1.4028299018163546, 'lr': 0.0004717529396703129, 'num_epochs': 1}. Best is trial 26 with value: 10.005199789642923.\n",
      "100%|██████████| 2/2 [00:00<00:00,  2.36it/s]\n",
      "[I 2024-05-28 09:57:15,877] Trial 29 finished with value: 2.902737533341379 and parameters: {'lora_rank': 32, 'alpha': 1.963332516862606, 'lr': 0.00013091535668817395, 'num_epochs': 2}. Best is trial 26 with value: 10.005199789642923.\n",
      "100%|██████████| 3/3 [00:01<00:00,  2.29it/s]\n",
      "[I 2024-05-28 09:57:17,747] Trial 30 finished with value: 0.447213595499958 and parameters: {'lora_rank': 40, 'alpha': 1.9116648873853404, 'lr': 0.0008241739372327002, 'num_epochs': 3}. Best is trial 26 with value: 10.005199789642923.\n",
      "100%|██████████| 2/2 [00:00<00:00,  2.35it/s]\n",
      "[I 2024-05-28 09:57:19,145] Trial 31 finished with value: 2.00698851142587 and parameters: {'lora_rank': 29, 'alpha': 2.9884306999539136, 'lr': 0.0001328822822224726, 'num_epochs': 2}. Best is trial 26 with value: 10.005199789642923.\n",
      "100%|██████████| 2/2 [00:00<00:00,  2.41it/s]\n",
      "[I 2024-05-28 09:57:20,881] A new study created in memory with name: The Search\n"
     ]
    },
    {
     "name": "stdout",
     "output_type": "stream",
     "text": [
      "Learning Task 7\n"
     ]
    },
    {
     "name": "stderr",
     "output_type": "stream",
     "text": [
      "100%|██████████| 4/4 [00:01<00:00,  2.20it/s]\n",
      "[I 2024-05-28 09:57:23,318] Trial 0 finished with value: 0.43991352341409873 and parameters: {'lora_rank': 29, 'alpha': 1.7678742205327005, 'lr': 0.0005519243111446275, 'num_epochs': 4}. Best is trial 0 with value: 0.43991352341409873.\n",
      "100%|██████████| 1/1 [00:00<00:00,  2.20it/s]\n",
      "[I 2024-05-28 09:57:24,389] Trial 1 finished with value: 0.4109005443064499 and parameters: {'lora_rank': 31, 'alpha': 2.2857427546778375, 'lr': 0.0007314714629868308, 'num_epochs': 1}. Best is trial 0 with value: 0.43991352341409873.\n",
      "100%|██████████| 1/1 [00:00<00:00,  2.21it/s]\n",
      "[I 2024-05-28 09:57:25,457] Trial 2 finished with value: 0.4293629150430663 and parameters: {'lora_rank': 13, 'alpha': 1.6421037208452025, 'lr': 0.0009323015099616342, 'num_epochs': 1}. Best is trial 0 with value: 0.43991352341409873.\n",
      "100%|██████████| 4/4 [00:01<00:00,  2.21it/s]\n",
      "[I 2024-05-28 09:57:27,892] Trial 3 finished with value: 0.5474770058755275 and parameters: {'lora_rank': 10, 'alpha': 2.6255006696373164, 'lr': 0.0005113400059503117, 'num_epochs': 4}. Best is trial 3 with value: 0.5474770058755275.\n",
      "100%|██████████| 1/1 [00:00<00:00,  2.21it/s]\n",
      "[I 2024-05-28 09:57:28,961] Trial 4 finished with value: 0.8974720716984738 and parameters: {'lora_rank': 18, 'alpha': 1.4699138654035446, 'lr': 0.0006023734557939007, 'num_epochs': 1}. Best is trial 4 with value: 0.8974720716984738.\n",
      "100%|██████████| 1/1 [00:00<00:00,  2.20it/s]\n",
      "[I 2024-05-28 09:57:30,032] Trial 5 finished with value: 0.491862788854575 and parameters: {'lora_rank': 33, 'alpha': 1.2814150995075169, 'lr': 0.0006637099367646708, 'num_epochs': 1}. Best is trial 4 with value: 0.8974720716984738.\n",
      "100%|██████████| 4/4 [00:01<00:00,  2.21it/s]\n",
      "[I 2024-05-28 09:57:32,459] Trial 6 finished with value: 1.1326584162580107 and parameters: {'lora_rank': 13, 'alpha': 1.5757575809631148, 'lr': 0.0002664161465069263, 'num_epochs': 4}. Best is trial 6 with value: 1.1326584162580107.\n",
      "100%|██████████| 4/4 [00:01<00:00,  2.20it/s]\n",
      "[I 2024-05-28 09:57:34,889] Trial 7 finished with value: 1.699249526444259 and parameters: {'lora_rank': 37, 'alpha': 2.664157282666268, 'lr': 8.055464325556489e-05, 'num_epochs': 4}. Best is trial 7 with value: 1.699249526444259.\n",
      "100%|██████████| 2/2 [00:00<00:00,  2.20it/s]\n",
      "[I 2024-05-28 09:57:36,415] Trial 8 finished with value: 0.7364289447865595 and parameters: {'lora_rank': 37, 'alpha': 2.259833326884998, 'lr': 0.00026822682434784367, 'num_epochs': 2}. Best is trial 7 with value: 1.699249526444259.\n",
      "100%|██████████| 3/3 [00:01<00:00,  2.19it/s]\n",
      "[I 2024-05-28 09:57:38,402] Trial 9 finished with value: 0.44349079210191994 and parameters: {'lora_rank': 40, 'alpha': 1.3226149001755487, 'lr': 0.0006157526179465163, 'num_epochs': 3}. Best is trial 7 with value: 1.699249526444259.\n",
      "100%|██████████| 3/3 [00:01<00:00,  2.21it/s]\n",
      "[I 2024-05-28 09:57:40,380] Trial 10 finished with value: 2.3672750738010118 and parameters: {'lora_rank': 23, 'alpha': 0.5597135778077107, 'lr': 5.228392357003553e-05, 'num_epochs': 3}. Best is trial 10 with value: 2.3672750738010118.\n",
      "100%|██████████| 3/3 [00:01<00:00,  2.20it/s]\n",
      "[I 2024-05-28 09:57:42,364] Trial 11 finished with value: 2.3479474948671624 and parameters: {'lora_rank': 24, 'alpha': 0.6099218123286914, 'lr': 6.072680749917535e-05, 'num_epochs': 3}. Best is trial 10 with value: 2.3672750738010118.\n",
      "100%|██████████| 3/3 [00:01<00:00,  2.21it/s]\n",
      "[I 2024-05-28 09:57:44,348] Trial 12 finished with value: 2.356415805675198 and parameters: {'lora_rank': 22, 'alpha': 0.6500446103886679, 'lr': 5.067770897977318e-05, 'num_epochs': 3}. Best is trial 10 with value: 2.3672750738010118.\n",
      "100%|██████████| 3/3 [00:01<00:00,  2.17it/s]\n",
      "[I 2024-05-28 09:57:46,370] Trial 13 finished with value: 1.970394774284398 and parameters: {'lora_rank': 22, 'alpha': 0.5762165225467686, 'lr': 0.00024056411251947065, 'num_epochs': 3}. Best is trial 10 with value: 2.3672750738010118.\n",
      "100%|██████████| 2/2 [00:00<00:00,  2.20it/s]\n",
      "[I 2024-05-28 09:57:47,902] Trial 14 finished with value: 1.101160041128282 and parameters: {'lora_rank': 20, 'alpha': 0.9854093443792825, 'lr': 0.00038213116466678527, 'num_epochs': 2}. Best is trial 10 with value: 2.3672750738010118.\n",
      "100%|██████████| 3/3 [00:01<00:00,  2.21it/s]\n",
      "[I 2024-05-28 09:57:49,885] Trial 15 finished with value: 2.375502384465937 and parameters: {'lora_rank': 27, 'alpha': 0.9355874936525115, 'lr': 0.00015853763598759596, 'num_epochs': 3}. Best is trial 15 with value: 2.375502384465937.\n",
      "100%|██████████| 2/2 [00:00<00:00,  2.06it/s]\n",
      "[I 2024-05-28 09:57:51,513] Trial 16 finished with value: 2.5168434023688846 and parameters: {'lora_rank': 27, 'alpha': 0.954982432692983, 'lr': 0.0001937777661232348, 'num_epochs': 2}. Best is trial 16 with value: 2.5168434023688846.\n",
      "100%|██████████| 2/2 [00:00<00:00,  2.12it/s]\n",
      "[I 2024-05-28 09:57:53,098] Trial 17 finished with value: 1.076640925594433 and parameters: {'lora_rank': 28, 'alpha': 0.9821349774510346, 'lr': 0.0003789454994881146, 'num_epochs': 2}. Best is trial 16 with value: 2.5168434023688846.\n",
      "100%|██████████| 2/2 [00:00<00:00,  2.21it/s]\n",
      "[I 2024-05-28 09:57:54,626] Trial 18 finished with value: 2.798982532773065 and parameters: {'lora_rank': 26, 'alpha': 0.9947714751627288, 'lr': 0.00018543282380519837, 'num_epochs': 2}. Best is trial 18 with value: 2.798982532773065.\n",
      "100%|██████████| 2/2 [00:00<00:00,  2.21it/s]\n",
      "[I 2024-05-28 09:57:56,156] Trial 19 finished with value: 0.564870863407284 and parameters: {'lora_rank': 17, 'alpha': 1.967058673402422, 'lr': 0.00040373341395123834, 'num_epochs': 2}. Best is trial 18 with value: 2.798982532773065.\n",
      "100%|██████████| 2/2 [00:00<00:00,  2.20it/s]\n",
      "[I 2024-05-28 09:57:57,690] Trial 20 finished with value: 2.601214401385481 and parameters: {'lora_rank': 26, 'alpha': 1.1998319532974209, 'lr': 0.00017749658607792235, 'num_epochs': 2}. Best is trial 18 with value: 2.798982532773065.\n",
      "100%|██████████| 2/2 [00:00<00:00,  2.21it/s]\n",
      "[I 2024-05-28 09:57:59,220] Trial 21 finished with value: 2.4214880487652617 and parameters: {'lora_rank': 26, 'alpha': 1.1731463282819008, 'lr': 0.0001913061669048138, 'num_epochs': 2}. Best is trial 18 with value: 2.798982532773065.\n",
      "100%|██████████| 2/2 [00:00<00:00,  2.22it/s]\n",
      "[I 2024-05-28 09:58:00,745] Trial 22 finished with value: 1.4267600463569747 and parameters: {'lora_rank': 32, 'alpha': 0.8793211848416578, 'lr': 0.00030939717644052706, 'num_epochs': 2}. Best is trial 18 with value: 2.798982532773065.\n",
      "100%|██████████| 2/2 [00:00<00:00,  2.20it/s]\n",
      "[I 2024-05-28 09:58:02,280] Trial 23 finished with value: 3.1239154042562 and parameters: {'lora_rank': 26, 'alpha': 1.106036066149738, 'lr': 0.0001602991996688372, 'num_epochs': 2}. Best is trial 23 with value: 3.1239154042562.\n",
      "100%|██████████| 2/2 [00:00<00:00,  2.20it/s]\n",
      "[I 2024-05-28 09:58:03,811] Trial 24 finished with value: 2.9123084140950874 and parameters: {'lora_rank': 30, 'alpha': 1.154428008993967, 'lr': 0.0001445242031997855, 'num_epochs': 2}. Best is trial 23 with value: 3.1239154042562.\n",
      "100%|██████████| 1/1 [00:00<00:00,  2.07it/s]\n",
      "[I 2024-05-28 09:58:04,923] Trial 25 finished with value: 0.6084922879905917 and parameters: {'lora_rank': 34, 'alpha': 1.8643744900000112, 'lr': 0.00047967596863604056, 'num_epochs': 1}. Best is trial 23 with value: 3.1239154042562.\n",
      "100%|██████████| 2/2 [00:00<00:00,  2.20it/s]\n",
      "[I 2024-05-28 09:58:06,457] Trial 26 finished with value: 5.1250563308657995 and parameters: {'lora_rank': 30, 'alpha': 0.7931218422411247, 'lr': 0.0001353781580001216, 'num_epochs': 2}. Best is trial 26 with value: 5.1250563308657995.\n",
      "100%|██████████| 2/2 [00:00<00:00,  2.20it/s]\n",
      "[I 2024-05-28 09:58:07,997] Trial 27 finished with value: 4.602032413916722 and parameters: {'lora_rank': 31, 'alpha': 0.7923138954979588, 'lr': 0.0001341606590813211, 'num_epochs': 2}. Best is trial 26 with value: 5.1250563308657995.\n",
      "100%|██████████| 1/1 [00:00<00:00,  2.18it/s]\n",
      "[I 2024-05-28 09:58:09,088] Trial 28 finished with value: 4.275899016748074 and parameters: {'lora_rank': 36, 'alpha': 0.7632938422516808, 'lr': 0.0003179164829106209, 'num_epochs': 1}. Best is trial 26 with value: 5.1250563308657995.\n",
      "100%|██████████| 1/1 [00:00<00:00,  2.20it/s]\n",
      "[I 2024-05-28 09:58:10,170] Trial 29 finished with value: 4.802416470413802 and parameters: {'lora_rank': 36, 'alpha': 0.7191328435396134, 'lr': 0.00030220494558300944, 'num_epochs': 1}. Best is trial 26 with value: 5.1250563308657995.\n",
      "100%|██████████| 1/1 [00:00<00:00,  2.20it/s]\n",
      "[I 2024-05-28 09:58:11,250] Trial 30 finished with value: 2.0230948747680406 and parameters: {'lora_rank': 40, 'alpha': 0.7591981401425512, 'lr': 0.00042703489537383504, 'num_epochs': 1}. Best is trial 26 with value: 5.1250563308657995.\n",
      "100%|██████████| 1/1 [00:00<00:00,  2.19it/s]\n",
      "[I 2024-05-28 09:58:12,333] Trial 31 finished with value: 3.649340560965247 and parameters: {'lora_rank': 35, 'alpha': 0.7703151623474063, 'lr': 0.0003215990485710911, 'num_epochs': 1}. Best is trial 26 with value: 5.1250563308657995.\n",
      "100%|██████████| 2/2 [00:00<00:00,  2.19it/s]\n",
      "[I 2024-05-28 09:58:14,150] A new study created in memory with name: The Search\n"
     ]
    },
    {
     "name": "stdout",
     "output_type": "stream",
     "text": [
      "Learning Task 8\n"
     ]
    },
    {
     "name": "stderr",
     "output_type": "stream",
     "text": [
      "100%|██████████| 4/4 [00:01<00:00,  2.00it/s]\n",
      "[I 2024-05-28 09:58:16,867] Trial 0 finished with value: 0.4512160246023868 and parameters: {'lora_rank': 29, 'alpha': 1.7678742205327005, 'lr': 0.0005519243111446275, 'num_epochs': 4}. Best is trial 0 with value: 0.4512160246023868.\n",
      "100%|██████████| 1/1 [00:00<00:00,  2.04it/s]\n",
      "[I 2024-05-28 09:58:18,075] Trial 1 finished with value: 0.424311156413519 and parameters: {'lora_rank': 31, 'alpha': 2.2857427546778375, 'lr': 0.0007314714629868308, 'num_epochs': 1}. Best is trial 0 with value: 0.4512160246023868.\n",
      "100%|██████████| 1/1 [00:00<00:00,  2.03it/s]\n",
      "[I 2024-05-28 09:58:19,279] Trial 2 finished with value: 0.5032295372488667 and parameters: {'lora_rank': 13, 'alpha': 1.6421037208452025, 'lr': 0.0009323015099616342, 'num_epochs': 1}. Best is trial 2 with value: 0.5032295372488667.\n",
      "100%|██████████| 4/4 [00:01<00:00,  2.03it/s]\n",
      "[I 2024-05-28 09:58:21,961] Trial 3 finished with value: 0.7010688081577787 and parameters: {'lora_rank': 10, 'alpha': 2.6255006696373164, 'lr': 0.0005113400059503117, 'num_epochs': 4}. Best is trial 3 with value: 0.7010688081577787.\n",
      "100%|██████████| 1/1 [00:00<00:00,  2.04it/s]\n",
      "[I 2024-05-28 09:58:23,167] Trial 4 finished with value: 0.6865710462444027 and parameters: {'lora_rank': 18, 'alpha': 1.4699138654035446, 'lr': 0.0006023734557939007, 'num_epochs': 1}. Best is trial 3 with value: 0.7010688081577787.\n",
      "100%|██████████| 1/1 [00:00<00:00,  2.03it/s]\n",
      "[I 2024-05-28 09:58:24,372] Trial 5 finished with value: 0.5652380760793203 and parameters: {'lora_rank': 33, 'alpha': 1.2814150995075169, 'lr': 0.0006637099367646708, 'num_epochs': 1}. Best is trial 3 with value: 0.7010688081577787.\n",
      "100%|██████████| 4/4 [00:01<00:00,  2.04it/s]\n",
      "[I 2024-05-28 09:58:27,052] Trial 6 finished with value: 1.1447046392850477 and parameters: {'lora_rank': 13, 'alpha': 1.5757575809631148, 'lr': 0.0002664161465069263, 'num_epochs': 4}. Best is trial 6 with value: 1.1447046392850477.\n",
      "100%|██████████| 4/4 [00:01<00:00,  2.04it/s]\n",
      "[I 2024-05-28 09:58:29,721] Trial 7 finished with value: 1.4477119643031973 and parameters: {'lora_rank': 37, 'alpha': 2.664157282666268, 'lr': 8.055464325556489e-05, 'num_epochs': 4}. Best is trial 7 with value: 1.4477119643031973.\n",
      "100%|██████████| 2/2 [00:00<00:00,  2.03it/s]\n",
      "[I 2024-05-28 09:58:31,421] Trial 8 finished with value: 0.9078224802770943 and parameters: {'lora_rank': 37, 'alpha': 2.259833326884998, 'lr': 0.00026822682434784367, 'num_epochs': 2}. Best is trial 7 with value: 1.4477119643031973.\n",
      "100%|██████████| 3/3 [00:01<00:00,  2.03it/s]\n",
      "[I 2024-05-28 09:58:33,610] Trial 9 finished with value: 0.46345534065225785 and parameters: {'lora_rank': 40, 'alpha': 1.3226149001755487, 'lr': 0.0006157526179465163, 'num_epochs': 3}. Best is trial 7 with value: 1.4477119643031973.\n",
      "100%|██████████| 3/3 [00:01<00:00,  2.04it/s]\n",
      "[I 2024-05-28 09:58:35,806] Trial 10 finished with value: 2.2723340248587363 and parameters: {'lora_rank': 23, 'alpha': 0.5597135778077107, 'lr': 5.228392357003553e-05, 'num_epochs': 3}. Best is trial 10 with value: 2.2723340248587363.\n",
      "100%|██████████| 3/3 [00:01<00:00,  2.05it/s]\n",
      "[I 2024-05-28 09:58:38,000] Trial 11 finished with value: 2.2414625139532447 and parameters: {'lora_rank': 24, 'alpha': 0.6099218123286914, 'lr': 6.072680749917535e-05, 'num_epochs': 3}. Best is trial 10 with value: 2.2723340248587363.\n",
      "100%|██████████| 3/3 [00:01<00:00,  2.04it/s]\n",
      "[I 2024-05-28 09:58:40,208] Trial 12 finished with value: 2.237331192394798 and parameters: {'lora_rank': 22, 'alpha': 0.6500446103886679, 'lr': 5.067770897977318e-05, 'num_epochs': 3}. Best is trial 10 with value: 2.2723340248587363.\n",
      "100%|██████████| 3/3 [00:01<00:00,  2.02it/s]\n",
      "[I 2024-05-28 09:58:42,414] Trial 13 finished with value: 1.4018580851321334 and parameters: {'lora_rank': 25, 'alpha': 0.5762165225467686, 'lr': 0.00026463673638545376, 'num_epochs': 3}. Best is trial 10 with value: 2.2723340248587363.\n",
      "100%|██████████| 2/2 [00:00<00:00,  2.03it/s]\n",
      "[I 2024-05-28 09:58:44,119] Trial 14 finished with value: 2.695909656044332 and parameters: {'lora_rank': 21, 'alpha': 0.8781154811707935, 'lr': 0.0001718521034689534, 'num_epochs': 2}. Best is trial 14 with value: 2.695909656044332.\n",
      "100%|██████████| 2/2 [00:00<00:00,  2.04it/s]\n",
      "[I 2024-05-28 09:58:45,821] Trial 15 finished with value: 1.0843710218035052 and parameters: {'lora_rank': 18, 'alpha': 0.9852631098694418, 'lr': 0.00036071161145507136, 'num_epochs': 2}. Best is trial 14 with value: 2.695909656044332.\n",
      "100%|██████████| 2/2 [00:00<00:00,  2.03it/s]\n",
      "[I 2024-05-28 09:58:47,527] Trial 16 finished with value: 2.5163910161297642 and parameters: {'lora_rank': 19, 'alpha': 0.954982432692983, 'lr': 0.00019386939235311213, 'num_epochs': 2}. Best is trial 14 with value: 2.695909656044332.\n",
      "100%|██████████| 2/2 [00:00<00:00,  2.03it/s]\n",
      "[I 2024-05-28 09:58:49,239] Trial 17 finished with value: 1.0077709953826706 and parameters: {'lora_rank': 19, 'alpha': 0.9821349774510346, 'lr': 0.00042505874818729, 'num_epochs': 2}. Best is trial 14 with value: 2.695909656044332.\n",
      "100%|██████████| 2/2 [00:00<00:00,  2.05it/s]\n",
      "[I 2024-05-28 09:58:50,939] Trial 18 finished with value: 1.6849588641671631 and parameters: {'lora_rank': 27, 'alpha': 0.9659571080266134, 'lr': 0.00018543735508875494, 'num_epochs': 2}. Best is trial 14 with value: 2.695909656044332.\n",
      "100%|██████████| 2/2 [00:00<00:00,  2.04it/s]\n",
      "[I 2024-05-28 09:58:52,645] Trial 19 finished with value: 1.5219041513694922 and parameters: {'lora_rank': 14, 'alpha': 1.967058673402422, 'lr': 0.00016638600911859512, 'num_epochs': 2}. Best is trial 14 with value: 2.695909656044332.\n",
      "100%|██████████| 2/2 [00:00<00:00,  2.04it/s]\n",
      "[I 2024-05-28 09:58:54,372] Trial 20 finished with value: 1.4773910699137913 and parameters: {'lora_rank': 8, 'alpha': 1.1908251673586239, 'lr': 0.00037832172365275516, 'num_epochs': 2}. Best is trial 14 with value: 2.695909656044332.\n",
      "100%|██████████| 3/3 [00:01<00:00,  2.03it/s]\n",
      "[I 2024-05-28 09:58:56,609] Trial 21 finished with value: 1.8173965668473135 and parameters: {'lora_rank': 21, 'alpha': 0.7657814530345233, 'lr': 0.0001669963722235014, 'num_epochs': 3}. Best is trial 14 with value: 2.695909656044332.\n",
      "100%|██████████| 2/2 [00:00<00:00,  2.01it/s]\n",
      "[I 2024-05-28 09:58:58,331] Trial 22 finished with value: 3.8259597528217033 and parameters: {'lora_rank': 16, 'alpha': 0.8496944849196658, 'lr': 0.00015054459518287996, 'num_epochs': 2}. Best is trial 22 with value: 3.8259597528217033.\n",
      "100%|██████████| 2/2 [00:00<00:00,  2.05it/s]\n",
      "[I 2024-05-28 09:59:00,027] Trial 23 finished with value: 2.3949154903414818 and parameters: {'lora_rank': 16, 'alpha': 0.8368083157104083, 'lr': 0.0002050714227644433, 'num_epochs': 2}. Best is trial 22 with value: 3.8259597528217033.\n",
      "100%|██████████| 2/2 [00:00<00:00,  2.03it/s]\n",
      "[I 2024-05-28 09:59:01,740] Trial 24 finished with value: 1.203663870318289 and parameters: {'lora_rank': 16, 'alpha': 1.1704882625201851, 'lr': 0.00032491366248324635, 'num_epochs': 2}. Best is trial 22 with value: 3.8259597528217033.\n",
      "100%|██████████| 1/1 [00:00<00:00,  2.03it/s]\n",
      "[I 2024-05-28 09:59:02,980] Trial 25 finished with value: 2.2727698261334157 and parameters: {'lora_rank': 20, 'alpha': 0.8823138140539196, 'lr': 0.00013369365304914514, 'num_epochs': 1}. Best is trial 22 with value: 3.8259597528217033.\n",
      "100%|██████████| 2/2 [00:00<00:00,  2.02it/s]\n",
      "[I 2024-05-28 09:59:04,691] Trial 26 finished with value: 0.8979414365704386 and parameters: {'lora_rank': 16, 'alpha': 1.090310640894503, 'lr': 0.0004638008930876651, 'num_epochs': 2}. Best is trial 22 with value: 3.8259597528217033.\n",
      "100%|██████████| 2/2 [00:00<00:00,  2.05it/s]\n",
      "[I 2024-05-28 09:59:06,389] Trial 27 finished with value: 0.5077811381995362 and parameters: {'lora_rank': 10, 'alpha': 2.9012404332676036, 'lr': 0.0008306288355894157, 'num_epochs': 2}. Best is trial 22 with value: 3.8259597528217033.\n",
      "100%|██████████| 1/1 [00:00<00:00,  2.03it/s]\n",
      "[I 2024-05-28 09:59:07,600] Trial 28 finished with value: 2.6845693049726314 and parameters: {'lora_rank': 27, 'alpha': 1.4028299018163546, 'lr': 0.00023261637566886667, 'num_epochs': 1}. Best is trial 22 with value: 3.8259597528217033.\n",
      "100%|██████████| 1/1 [00:00<00:00,  2.04it/s]\n",
      "[I 2024-05-28 09:59:08,810] Trial 29 finished with value: 1.316611806432311 and parameters: {'lora_rank': 26, 'alpha': 1.963332516862606, 'lr': 0.00031263426684239074, 'num_epochs': 1}. Best is trial 22 with value: 3.8259597528217033.\n",
      "100%|██████████| 1/1 [00:00<00:00,  2.02it/s]\n",
      "[I 2024-05-28 09:59:10,037] Trial 30 finished with value: 2.2208103705499807 and parameters: {'lora_rank': 28, 'alpha': 1.431286399579621, 'lr': 0.00011834906639810326, 'num_epochs': 1}. Best is trial 22 with value: 3.8259597528217033.\n",
      "100%|██████████| 2/2 [00:00<00:00,  2.04it/s]\n",
      "[I 2024-05-28 09:59:11,742] Trial 31 finished with value: 1.6089809713875387 and parameters: {'lora_rank': 29, 'alpha': 0.7505627534229563, 'lr': 0.00023517835840973869, 'num_epochs': 2}. Best is trial 22 with value: 3.8259597528217033.\n",
      "100%|██████████| 1/1 [00:00<00:00,  2.03it/s]\n",
      "[I 2024-05-28 09:59:12,969] Trial 32 finished with value: 2.2090329306243492 and parameters: {'lora_rank': 22, 'alpha': 1.7819565635076589, 'lr': 0.0001163759163379602, 'num_epochs': 1}. Best is trial 22 with value: 3.8259597528217033.\n",
      "100%|██████████| 1/1 [00:00<00:00,  2.04it/s]\n",
      "[I 2024-05-28 09:59:14,177] Trial 33 finished with value: 3.6941505719466554 and parameters: {'lora_rank': 32, 'alpha': 1.0822933492354787, 'lr': 0.00019876922217810142, 'num_epochs': 1}. Best is trial 22 with value: 3.8259597528217033.\n",
      "100%|██████████| 1/1 [00:00<00:00,  2.03it/s]\n",
      "[I 2024-05-28 09:59:15,389] Trial 34 finished with value: 2.005868644180329 and parameters: {'lora_rank': 32, 'alpha': 1.3370295486816355, 'lr': 0.0003172101669659741, 'num_epochs': 1}. Best is trial 22 with value: 3.8259597528217033.\n",
      "100%|██████████| 1/1 [00:00<00:00,  2.04it/s]\n",
      "[I 2024-05-28 09:59:16,603] Trial 35 finished with value: 1.1241347267234019 and parameters: {'lora_rank': 33, 'alpha': 1.1162530642695858, 'lr': 0.00043021349879678354, 'num_epochs': 1}. Best is trial 22 with value: 3.8259597528217033.\n",
      "100%|██████████| 1/1 [00:00<00:00,  2.04it/s]\n",
      "[I 2024-05-28 09:59:17,817] Trial 36 finished with value: 0.4008315536995331 and parameters: {'lora_rank': 31, 'alpha': 1.581347130770585, 'lr': 0.0009634221522092188, 'num_epochs': 1}. Best is trial 22 with value: 3.8259597528217033.\n",
      "100%|██████████| 1/1 [00:00<00:00,  2.04it/s]\n",
      "[I 2024-05-28 09:59:19,030] Trial 37 finished with value: 0.6367310872303589 and parameters: {'lora_rank': 36, 'alpha': 1.7505150061567334, 'lr': 0.0005159905524795322, 'num_epochs': 1}. Best is trial 22 with value: 3.8259597528217033.\n",
      "100%|██████████| 1/1 [00:00<00:00,  2.04it/s]\n",
      "[I 2024-05-28 09:59:20,241] Trial 38 finished with value: 0.42744437503645066 and parameters: {'lora_rank': 30, 'alpha': 1.4835070104488934, 'lr': 0.0007630970507496479, 'num_epochs': 1}. Best is trial 22 with value: 3.8259597528217033.\n",
      "100%|██████████| 1/1 [00:00<00:00,  1.86it/s]\n",
      "[I 2024-05-28 09:59:21,503] Trial 39 finished with value: 3.517741577220211 and parameters: {'lora_rank': 35, 'alpha': 0.7181355927509341, 'lr': 0.00023221002000356218, 'num_epochs': 1}. Best is trial 22 with value: 3.8259597528217033.\n",
      "100%|██████████| 1/1 [00:00<00:00,  2.01it/s]\n",
      "[I 2024-05-28 09:59:22,726] Trial 40 finished with value: 2.2208063295590423 and parameters: {'lora_rank': 35, 'alpha': 0.7331837973206601, 'lr': 0.0001456912645456351, 'num_epochs': 1}. Best is trial 22 with value: 3.8259597528217033.\n",
      "100%|██████████| 1/1 [00:00<00:00,  2.02it/s]\n",
      "[I 2024-05-28 09:59:23,944] Trial 41 finished with value: 2.7888959090822585 and parameters: {'lora_rank': 34, 'alpha': 1.2421734690977753, 'lr': 0.000236573269037491, 'num_epochs': 1}. Best is trial 22 with value: 3.8259597528217033.\n",
      "100%|██████████| 1/1 [00:00<00:00,  2.03it/s]\n",
      "[I 2024-05-28 09:59:25,160] Trial 42 finished with value: 3.351467679373027 and parameters: {'lora_rank': 39, 'alpha': 0.5017002740069892, 'lr': 0.0002679825556240837, 'num_epochs': 1}. Best is trial 22 with value: 3.8259597528217033.\n",
      "100%|██████████| 1/1 [00:00<00:00,  2.04it/s]\n",
      "[I 2024-05-28 09:59:26,373] Trial 43 finished with value: 3.5198671242363377 and parameters: {'lora_rank': 39, 'alpha': 0.5320205300444862, 'lr': 0.0002794772224843978, 'num_epochs': 1}. Best is trial 22 with value: 3.8259597528217033.\n",
      "100%|██████████| 1/1 [00:00<00:00,  2.02it/s]\n",
      "[I 2024-05-28 09:59:27,588] Trial 44 finished with value: 3.4956392970090198 and parameters: {'lora_rank': 39, 'alpha': 0.5063702468492924, 'lr': 0.00028932363992035577, 'num_epochs': 1}. Best is trial 22 with value: 3.8259597528217033.\n",
      "100%|██████████| 1/1 [00:00<00:00,  2.03it/s]\n",
      "[I 2024-05-28 09:59:28,800] Trial 45 finished with value: 2.111038822381869 and parameters: {'lora_rank': 38, 'alpha': 0.701539789640472, 'lr': 0.00036286421625708647, 'num_epochs': 1}. Best is trial 22 with value: 3.8259597528217033.\n",
      "100%|██████████| 1/1 [00:00<00:00,  2.04it/s]\n",
      "[I 2024-05-28 09:59:30,010] Trial 46 finished with value: 2.295906135135244 and parameters: {'lora_rank': 40, 'alpha': 0.5226014256252097, 'lr': 0.00010104529421550785, 'num_epochs': 1}. Best is trial 22 with value: 3.8259597528217033.\n",
      "100%|██████████| 1/1 [00:00<00:00,  2.03it/s]\n",
      "[I 2024-05-28 09:59:31,223] Trial 47 finished with value: 2.84593815883397 and parameters: {'lora_rank': 37, 'alpha': 0.6893906185626956, 'lr': 0.0003056654694782262, 'num_epochs': 1}. Best is trial 22 with value: 3.8259597528217033.\n",
      "100%|██████████| 4/4 [00:01<00:00,  2.04it/s]\n",
      "[I 2024-05-28 09:59:33,908] Trial 48 finished with value: 0.7594939393891361 and parameters: {'lora_rank': 38, 'alpha': 0.8453125959526141, 'lr': 0.0004076813843102939, 'num_epochs': 4}. Best is trial 22 with value: 3.8259597528217033.\n",
      "100%|██████████| 1/1 [00:00<00:00,  2.04it/s]\n",
      "[I 2024-05-28 09:59:35,123] Trial 49 finished with value: 1.079301368033701 and parameters: {'lora_rank': 35, 'alpha': 0.6226269742400231, 'lr': 0.0005806999424101343, 'num_epochs': 1}. Best is trial 22 with value: 3.8259597528217033.\n",
      "100%|██████████| 1/1 [00:00<00:00,  2.04it/s]\n",
      "[I 2024-05-28 09:59:36,335] Trial 50 finished with value: 3.5783175031743655 and parameters: {'lora_rank': 40, 'alpha': 1.0515171440700755, 'lr': 0.00021601936794902606, 'num_epochs': 1}. Best is trial 22 with value: 3.8259597528217033.\n",
      "100%|██████████| 1/1 [00:00<00:00,  2.02it/s]\n",
      "[I 2024-05-28 09:59:37,552] Trial 51 finished with value: 3.7553337871193166 and parameters: {'lora_rank': 40, 'alpha': 1.047449510469907, 'lr': 0.00020757780321355965, 'num_epochs': 1}. Best is trial 22 with value: 3.8259597528217033.\n",
      "100%|██████████| 1/1 [00:00<00:00,  2.02it/s]\n",
      "[I 2024-05-28 09:59:38,770] Trial 52 finished with value: 3.596982199503062 and parameters: {'lora_rank': 40, 'alpha': 1.0583118956284434, 'lr': 0.00021420885913084477, 'num_epochs': 1}. Best is trial 22 with value: 3.8259597528217033.\n",
      "100%|██████████| 1/1 [00:00<00:00,  2.04it/s]\n",
      "[I 2024-05-28 09:59:39,982] Trial 53 finished with value: 3.5731702139928534 and parameters: {'lora_rank': 40, 'alpha': 1.1215251989665376, 'lr': 0.00020892393392093892, 'num_epochs': 1}. Best is trial 22 with value: 3.8259597528217033.\n",
      "100%|██████████| 1/1 [00:00<00:00,  2.03it/s]\n",
      "[I 2024-05-28 09:59:41,197] Trial 54 finished with value: 2.2916130125787397 and parameters: {'lora_rank': 40, 'alpha': 1.0553092864023759, 'lr': 7.902819262945178e-05, 'num_epochs': 1}. Best is trial 22 with value: 3.8259597528217033.\n",
      "100%|██████████| 1/1 [00:00<00:00,  2.02it/s]\n",
      "[I 2024-05-28 09:59:42,416] Trial 55 finished with value: 3.467821588185817 and parameters: {'lora_rank': 38, 'alpha': 1.2362253225880515, 'lr': 0.0002024014235558992, 'num_epochs': 1}. Best is trial 22 with value: 3.8259597528217033.\n",
      "100%|██████████| 1/1 [00:00<00:00,  2.02it/s]\n",
      "[I 2024-05-28 09:59:43,630] Trial 56 finished with value: 2.5481394953282788 and parameters: {'lora_rank': 40, 'alpha': 1.0681976357757934, 'lr': 0.0001473905184650519, 'num_epochs': 1}. Best is trial 22 with value: 3.8259597528217033.\n",
      "100%|██████████| 1/1 [00:00<00:00,  2.04it/s]\n",
      "[I 2024-05-28 09:59:44,845] Trial 57 finished with value: 2.280368221208288 and parameters: {'lora_rank': 36, 'alpha': 0.937775463527468, 'lr': 8.779982638321695e-05, 'num_epochs': 1}. Best is trial 22 with value: 3.8259597528217033.\n",
      "100%|██████████| 2/2 [00:00<00:00,  2.05it/s]\n",
      "[I 2024-05-28 09:59:46,543] Trial 58 finished with value: 1.3718734277091662 and parameters: {'lora_rank': 37, 'alpha': 1.1481978903169927, 'lr': 0.0002170676518320331, 'num_epochs': 2}. Best is trial 22 with value: 3.8259597528217033.\n",
      "100%|██████████| 3/3 [00:01<00:00,  2.04it/s]\n",
      "[I 2024-05-28 09:59:48,734] Trial 59 finished with value: 1.4978654008890473 and parameters: {'lora_rank': 33, 'alpha': 1.0156492841159648, 'lr': 0.00016730277497010472, 'num_epochs': 3}. Best is trial 22 with value: 3.8259597528217033.\n",
      "100%|██████████| 1/1 [00:00<00:00,  2.03it/s]\n",
      "[I 2024-05-28 09:59:49,949] Trial 60 finished with value: 2.352799386295383 and parameters: {'lora_rank': 36, 'alpha': 0.8272564060411616, 'lr': 0.00033049316671260776, 'num_epochs': 1}. Best is trial 22 with value: 3.8259597528217033.\n",
      "100%|██████████| 1/1 [00:00<00:00,  2.04it/s]\n",
      "[I 2024-05-28 09:59:51,163] Trial 61 finished with value: 1.878638592099972 and parameters: {'lora_rank': 39, 'alpha': 1.3641378655562466, 'lr': 0.00026627228517807046, 'num_epochs': 1}. Best is trial 22 with value: 3.8259597528217033.\n",
      "100%|██████████| 1/1 [00:00<00:00,  2.02it/s]\n",
      "[I 2024-05-28 09:59:52,377] Trial 62 finished with value: 3.639021959856733 and parameters: {'lora_rank': 40, 'alpha': 0.9163438788935585, 'lr': 0.0001878613574558511, 'num_epochs': 1}. Best is trial 22 with value: 3.8259597528217033.\n",
      "100%|██████████| 1/1 [00:00<00:00,  2.02it/s]\n",
      "[I 2024-05-28 09:59:53,593] Trial 63 finished with value: 3.7165563490804305 and parameters: {'lora_rank': 40, 'alpha': 0.905668164137116, 'lr': 0.00019119514879616315, 'num_epochs': 1}. Best is trial 22 with value: 3.8259597528217033.\n",
      "100%|██████████| 2/2 [00:00<00:00,  2.03it/s]\n",
      "[I 2024-05-28 09:59:55,481] A new study created in memory with name: The Search\n"
     ]
    },
    {
     "name": "stdout",
     "output_type": "stream",
     "text": [
      "Learning Task 9\n"
     ]
    },
    {
     "name": "stderr",
     "output_type": "stream",
     "text": [
      "100%|██████████| 4/4 [00:01<00:00,  2.21it/s]\n",
      "[I 2024-05-28 09:59:58,095] Trial 0 finished with value: 0.35665413862206236 and parameters: {'lora_rank': 29, 'alpha': 1.7678742205327005, 'lr': 0.0005519243111446275, 'num_epochs': 4}. Best is trial 0 with value: 0.35665413862206236.\n",
      "100%|██████████| 1/1 [00:00<00:00,  2.22it/s]\n",
      "[I 2024-05-28 09:59:59,342] Trial 1 finished with value: 0.35399644036971656 and parameters: {'lora_rank': 31, 'alpha': 2.2857427546778375, 'lr': 0.0007314714629868308, 'num_epochs': 1}. Best is trial 0 with value: 0.35665413862206236.\n",
      "100%|██████████| 1/1 [00:00<00:00,  2.22it/s]\n",
      "[I 2024-05-28 10:00:00,586] Trial 2 finished with value: 0.3729021569800334 and parameters: {'lora_rank': 13, 'alpha': 1.6421037208452025, 'lr': 0.0009323015099616342, 'num_epochs': 1}. Best is trial 2 with value: 0.3729021569800334.\n",
      "100%|██████████| 4/4 [00:01<00:00,  2.22it/s]\n",
      "[I 2024-05-28 10:00:03,200] Trial 3 finished with value: 0.4333146415400987 and parameters: {'lora_rank': 10, 'alpha': 2.6255006696373164, 'lr': 0.0005113400059503117, 'num_epochs': 4}. Best is trial 3 with value: 0.4333146415400987.\n",
      "100%|██████████| 1/1 [00:00<00:00,  2.16it/s]\n",
      "[I 2024-05-28 10:00:04,459] Trial 4 finished with value: 0.42592822079235987 and parameters: {'lora_rank': 18, 'alpha': 1.4699138654035446, 'lr': 0.0006023734557939007, 'num_epochs': 1}. Best is trial 3 with value: 0.4333146415400987.\n",
      "100%|██████████| 1/1 [00:00<00:00,  2.20it/s]\n",
      "[I 2024-05-28 10:00:05,710] Trial 5 finished with value: 0.36456374787441537 and parameters: {'lora_rank': 33, 'alpha': 1.2814150995075169, 'lr': 0.0006637099367646708, 'num_epochs': 1}. Best is trial 3 with value: 0.4333146415400987.\n",
      "100%|██████████| 4/4 [00:01<00:00,  2.22it/s]\n",
      "[I 2024-05-28 10:00:08,316] Trial 6 finished with value: 0.6055590874656467 and parameters: {'lora_rank': 13, 'alpha': 1.5757575809631148, 'lr': 0.0002664161465069263, 'num_epochs': 4}. Best is trial 6 with value: 0.6055590874656467.\n",
      "100%|██████████| 4/4 [00:01<00:00,  2.22it/s]\n",
      "[I 2024-05-28 10:00:10,921] Trial 7 finished with value: 0.817893288691028 and parameters: {'lora_rank': 37, 'alpha': 2.664157282666268, 'lr': 8.055464325556489e-05, 'num_epochs': 4}. Best is trial 7 with value: 0.817893288691028.\n",
      "100%|██████████| 2/2 [00:00<00:00,  2.21it/s]\n",
      "[I 2024-05-28 10:00:12,623] Trial 8 finished with value: 0.45456871144574046 and parameters: {'lora_rank': 37, 'alpha': 2.259833326884998, 'lr': 0.00026822682434784367, 'num_epochs': 2}. Best is trial 7 with value: 0.817893288691028.\n",
      "100%|██████████| 3/3 [00:01<00:00,  2.18it/s]\n",
      "[I 2024-05-28 10:00:14,795] Trial 9 finished with value: 0.3553252090385641 and parameters: {'lora_rank': 40, 'alpha': 1.3226149001755487, 'lr': 0.0006157526179465163, 'num_epochs': 3}. Best is trial 7 with value: 0.817893288691028.\n",
      "100%|██████████| 3/3 [00:01<00:00,  2.22it/s]\n",
      "[I 2024-05-28 10:00:16,958] Trial 10 finished with value: 2.2120314110897907 and parameters: {'lora_rank': 23, 'alpha': 0.5597135778077107, 'lr': 5.228392357003553e-05, 'num_epochs': 3}. Best is trial 10 with value: 2.2120314110897907.\n",
      "100%|██████████| 3/3 [00:01<00:00,  2.21it/s]\n",
      "[I 2024-05-28 10:00:19,118] Trial 11 finished with value: 2.209815943060723 and parameters: {'lora_rank': 24, 'alpha': 0.6099218123286914, 'lr': 6.072680749917535e-05, 'num_epochs': 3}. Best is trial 10 with value: 2.2120314110897907.\n",
      "100%|██████████| 3/3 [00:01<00:00,  2.18it/s]\n",
      "[I 2024-05-28 10:00:21,301] Trial 12 finished with value: 2.207095386430002 and parameters: {'lora_rank': 22, 'alpha': 0.6500446103886679, 'lr': 5.067770897977318e-05, 'num_epochs': 3}. Best is trial 10 with value: 2.2120314110897907.\n",
      "100%|██████████| 3/3 [00:01<00:00,  2.18it/s]\n",
      "[I 2024-05-28 10:00:23,481] Trial 13 finished with value: 0.908686227545439 and parameters: {'lora_rank': 25, 'alpha': 0.5762165225467686, 'lr': 0.00026463673638545376, 'num_epochs': 3}. Best is trial 10 with value: 2.2120314110897907.\n",
      "100%|██████████| 2/2 [00:00<00:00,  2.19it/s]\n",
      "[I 2024-05-28 10:00:25,202] Trial 14 finished with value: 1.6758593543437317 and parameters: {'lora_rank': 21, 'alpha': 0.8781154811707935, 'lr': 0.0001718521034689534, 'num_epochs': 2}. Best is trial 10 with value: 2.2120314110897907.\n",
      "100%|██████████| 3/3 [00:01<00:00,  2.22it/s]\n",
      "[I 2024-05-28 10:00:27,362] Trial 15 finished with value: 0.45876201321267296 and parameters: {'lora_rank': 26, 'alpha': 0.9852631098694418, 'lr': 0.00042430708583238044, 'num_epochs': 3}. Best is trial 10 with value: 2.2120314110897907.\n",
      "100%|██████████| 2/2 [00:00<00:00,  2.20it/s]\n",
      "[I 2024-05-28 10:00:29,086] Trial 16 finished with value: 0.5903361375566092 and parameters: {'lora_rank': 18, 'alpha': 0.954982432692983, 'lr': 0.00034607293737877085, 'num_epochs': 2}. Best is trial 10 with value: 2.2120314110897907.\n",
      "100%|██████████| 3/3 [00:01<00:00,  2.22it/s]\n",
      "[I 2024-05-28 10:00:31,242] Trial 17 finished with value: 1.3184474650978546 and parameters: {'lora_rank': 28, 'alpha': 0.5581267407161404, 'lr': 0.00014636042640021646, 'num_epochs': 3}. Best is trial 10 with value: 2.2120314110897907.\n",
      "100%|██████████| 2/2 [00:00<00:00,  2.21it/s]\n",
      "[I 2024-05-28 10:00:32,955] Trial 18 finished with value: 0.35399644036971656 and parameters: {'lora_rank': 18, 'alpha': 1.9465361154568994, 'lr': 0.0008747465600933329, 'num_epochs': 2}. Best is trial 10 with value: 2.2120314110897907.\n",
      "100%|██████████| 3/3 [00:01<00:00,  2.22it/s]\n",
      "[I 2024-05-28 10:00:35,111] Trial 19 finished with value: 0.9485508307731677 and parameters: {'lora_rank': 22, 'alpha': 1.1621559658276635, 'lr': 0.00016638600911859512, 'num_epochs': 3}. Best is trial 10 with value: 2.2120314110897907.\n",
      "100%|██████████| 2/2 [00:00<00:00,  2.22it/s]\n",
      "[I 2024-05-28 10:00:36,819] Trial 20 finished with value: 0.6720280778897746 and parameters: {'lora_rank': 15, 'alpha': 0.8125935198738705, 'lr': 0.00040218426843467313, 'num_epochs': 2}. Best is trial 10 with value: 2.2120314110897907.\n",
      "100%|██████████| 3/3 [00:01<00:00,  2.21it/s]\n",
      "[I 2024-05-28 10:00:38,980] Trial 21 finished with value: 2.2093890212636476 and parameters: {'lora_rank': 23, 'alpha': 0.5481969803635575, 'lr': 6.353975959675338e-05, 'num_epochs': 3}. Best is trial 10 with value: 2.2120314110897907.\n",
      "100%|██████████| 3/3 [00:01<00:00,  2.22it/s]\n",
      "[I 2024-05-28 10:00:41,136] Trial 22 finished with value: 2.2089227484352314 and parameters: {'lora_rank': 24, 'alpha': 0.5133616278893915, 'lr': 5.113372359582472e-05, 'num_epochs': 3}. Best is trial 10 with value: 2.2120314110897907.\n",
      "100%|██████████| 3/3 [00:01<00:00,  2.22it/s]\n",
      "[I 2024-05-28 10:00:43,294] Trial 23 finished with value: 0.6434687941351703 and parameters: {'lora_rank': 27, 'alpha': 2.9815806491723014, 'lr': 0.00013846420397412018, 'num_epochs': 3}. Best is trial 10 with value: 2.2120314110897907.\n",
      "100%|██████████| 4/4 [00:01<00:00,  2.21it/s]\n",
      "[I 2024-05-28 10:00:45,929] Trial 24 finished with value: 0.8307754099173907 and parameters: {'lora_rank': 23, 'alpha': 0.7575796421907746, 'lr': 0.00019874481343659891, 'num_epochs': 4}. Best is trial 10 with value: 2.2120314110897907.\n",
      "100%|██████████| 3/3 [00:01<00:00,  2.13it/s]\n",
      "[I 2024-05-28 10:00:48,145] Trial 25 finished with value: 0.5308153239012022 and parameters: {'lora_rank': 20, 'alpha': 1.1032108330765016, 'lr': 0.00033840453476389527, 'num_epochs': 3}. Best is trial 10 with value: 2.2120314110897907.\n",
      "100%|██████████| 2/2 [00:00<00:00,  2.18it/s]\n",
      "[I 2024-05-28 10:00:49,899] Trial 26 finished with value: 3.053989170795817 and parameters: {'lora_rank': 31, 'alpha': 0.7570029008435432, 'lr': 0.00010829504401216452, 'num_epochs': 2}. Best is trial 26 with value: 3.053989170795817.\n",
      "100%|██████████| 2/2 [00:00<00:00,  2.22it/s]\n",
      "[I 2024-05-28 10:00:51,610] Trial 27 finished with value: 0.9398700821937356 and parameters: {'lora_rank': 33, 'alpha': 0.7796532055935022, 'lr': 0.00022580708182060657, 'num_epochs': 2}. Best is trial 26 with value: 3.053989170795817.\n",
      "100%|██████████| 2/2 [00:00<00:00,  2.22it/s]\n",
      "[I 2024-05-28 10:00:53,318] Trial 28 finished with value: 2.061047899855971 and parameters: {'lora_rank': 31, 'alpha': 1.0977549501243924, 'lr': 0.0001157487291975435, 'num_epochs': 2}. Best is trial 26 with value: 3.053989170795817.\n",
      "100%|██████████| 4/4 [00:01<00:00,  2.22it/s]\n",
      "[I 2024-05-28 10:00:55,932] Trial 29 finished with value: 0.36241077271898203 and parameters: {'lora_rank': 30, 'alpha': 1.963332516862606, 'lr': 0.0004930684728706217, 'num_epochs': 4}. Best is trial 26 with value: 3.053989170795817.\n",
      "100%|██████████| 2/2 [00:00<00:00,  2.19it/s]\n",
      "[I 2024-05-28 10:00:57,661] Trial 30 finished with value: 0.5281705093814004 and parameters: {'lora_rank': 34, 'alpha': 0.7795117573444721, 'lr': 0.00034506970342624877, 'num_epochs': 2}. Best is trial 26 with value: 3.053989170795817.\n",
      "100%|██████████| 3/3 [00:01<00:00,  2.19it/s]\n",
      "[I 2024-05-28 10:00:59,838] Trial 31 finished with value: 1.8727289826317448 and parameters: {'lora_rank': 28, 'alpha': 0.6879046503271872, 'lr': 0.00010410607112714196, 'num_epochs': 3}. Best is trial 26 with value: 3.053989170795817.\n",
      "100%|██████████| 3/3 [00:01<00:00,  2.22it/s]\n",
      "[I 2024-05-28 10:01:02,004] Trial 32 finished with value: 2.6612501684606653 and parameters: {'lora_rank': 25, 'alpha': 0.510614509009171, 'lr': 0.00010347233161919005, 'num_epochs': 3}. Best is trial 26 with value: 3.053989170795817.\n",
      "100%|██████████| 3/3 [00:01<00:00,  2.21it/s]\n",
      "[I 2024-05-28 10:01:04,166] Trial 33 finished with value: 0.7345032373177421 and parameters: {'lora_rank': 26, 'alpha': 0.9912092288863719, 'lr': 0.00022470656064643024, 'num_epochs': 3}. Best is trial 26 with value: 3.053989170795817.\n",
      "100%|██████████| 4/4 [00:01<00:00,  2.22it/s]\n",
      "[I 2024-05-28 10:01:06,777] Trial 34 finished with value: 1.215072400982582 and parameters: {'lora_rank': 29, 'alpha': 0.681600791197767, 'lr': 0.0001128036550050819, 'num_epochs': 4}. Best is trial 26 with value: 3.053989170795817.\n",
      "100%|██████████| 1/1 [00:00<00:00,  2.22it/s]\n",
      "[I 2024-05-28 10:01:08,038] Trial 35 finished with value: 2.2102999204870564 and parameters: {'lora_rank': 20, 'alpha': 0.9092176200094402, 'lr': 0.0001991110159318229, 'num_epochs': 1}. Best is trial 26 with value: 3.053989170795817.\n",
      "100%|██████████| 1/1 [00:00<00:00,  2.22it/s]\n",
      "[I 2024-05-28 10:01:09,293] Trial 36 finished with value: 0.36385198681741054 and parameters: {'lora_rank': 16, 'alpha': 1.378239859954432, 'lr': 0.0008047113740392786, 'num_epochs': 1}. Best is trial 26 with value: 3.053989170795817.\n",
      "100%|██████████| 1/1 [00:00<00:00,  2.22it/s]\n",
      "[I 2024-05-28 10:01:10,551] Trial 37 finished with value: 2.411605018619515 and parameters: {'lora_rank': 8, 'alpha': 1.1881845699913756, 'lr': 0.0002904161349084573, 'num_epochs': 1}. Best is trial 26 with value: 3.053989170795817.\n",
      "100%|██████████| 1/1 [00:00<00:00,  2.21it/s]\n",
      "[I 2024-05-28 10:01:11,819] Trial 38 finished with value: 2.6495199484651293 and parameters: {'lora_rank': 8, 'alpha': 1.75715609009365, 'lr': 0.0002934436262040731, 'num_epochs': 1}. Best is trial 26 with value: 3.053989170795817.\n",
      "100%|██████████| 1/1 [00:00<00:00,  2.21it/s]\n",
      "[I 2024-05-28 10:01:13,090] Trial 39 finished with value: 2.363216801477781 and parameters: {'lora_rank': 9, 'alpha': 1.8040707407624033, 'lr': 0.0002948670959173103, 'num_epochs': 1}. Best is trial 26 with value: 3.053989170795817.\n",
      "100%|██████████| 1/1 [00:00<00:00,  2.20it/s]\n",
      "[I 2024-05-28 10:01:14,362] Trial 40 finished with value: 1.0144061809068528 and parameters: {'lora_rank': 12, 'alpha': 1.6049408427857852, 'lr': 0.00044111417441737924, 'num_epochs': 1}. Best is trial 26 with value: 3.053989170795817.\n",
      "100%|██████████| 1/1 [00:00<00:00,  2.04it/s]\n",
      "[I 2024-05-28 10:01:15,682] Trial 41 finished with value: 2.373843147157673 and parameters: {'lora_rank': 10, 'alpha': 1.7216590163842165, 'lr': 0.00030933706710485105, 'num_epochs': 1}. Best is trial 26 with value: 3.053989170795817.\n",
      "100%|██████████| 1/1 [00:00<00:00,  2.21it/s]\n",
      "[I 2024-05-28 10:01:16,942] Trial 42 finished with value: 1.4502148204993197 and parameters: {'lora_rank': 10, 'alpha': 1.7868813568028146, 'lr': 0.0003849383653519017, 'num_epochs': 1}. Best is trial 26 with value: 3.053989170795817.\n",
      "100%|██████████| 1/1 [00:00<00:00,  2.20it/s]\n",
      "[I 2024-05-28 10:01:18,215] Trial 43 finished with value: 0.6998792690824556 and parameters: {'lora_rank': 8, 'alpha': 2.2069367320709916, 'lr': 0.000563682129552792, 'num_epochs': 1}. Best is trial 26 with value: 3.053989170795817.\n",
      "100%|██████████| 1/1 [00:00<00:00,  2.22it/s]\n",
      "[I 2024-05-28 10:01:19,471] Trial 44 finished with value: 2.2694398148003327 and parameters: {'lora_rank': 11, 'alpha': 1.522921060106422, 'lr': 0.00030584299075789203, 'num_epochs': 1}. Best is trial 26 with value: 3.053989170795817.\n",
      "100%|██████████| 1/1 [00:00<00:00,  2.22it/s]\n",
      "[I 2024-05-28 10:01:20,728] Trial 45 finished with value: 1.0157100879453393 and parameters: {'lora_rank': 8, 'alpha': 2.140221263337165, 'lr': 0.0004673134945396176, 'num_epochs': 1}. Best is trial 26 with value: 3.053989170795817.\n",
      "100%|██████████| 1/1 [00:00<00:00,  2.21it/s]\n",
      "[I 2024-05-28 10:01:21,990] Trial 46 finished with value: 1.5977115743110908 and parameters: {'lora_rank': 14, 'alpha': 2.52045456112146, 'lr': 0.00025731693354693035, 'num_epochs': 1}. Best is trial 26 with value: 3.053989170795817.\n",
      "100%|██████████| 1/1 [00:00<00:00,  2.22it/s]\n",
      "[I 2024-05-28 10:01:23,252] Trial 47 finished with value: 0.5770162844018646 and parameters: {'lora_rank': 11, 'alpha': 1.22027649277797, 'lr': 0.0007013012288426065, 'num_epochs': 1}. Best is trial 26 with value: 3.053989170795817.\n",
      "100%|██████████| 1/1 [00:00<00:00,  2.22it/s]\n",
      "[I 2024-05-28 10:01:24,509] Trial 48 finished with value: 0.5467599614013874 and parameters: {'lora_rank': 13, 'alpha': 1.6948523906838049, 'lr': 0.000533201309074994, 'num_epochs': 1}. Best is trial 26 with value: 3.053989170795817.\n",
      "100%|██████████| 2/2 [00:00<00:00,  2.11it/s]\n",
      "[I 2024-05-28 10:01:26,267] Trial 49 finished with value: 0.43776823567335377 and parameters: {'lora_rank': 36, 'alpha': 1.3972315787495426, 'lr': 0.0003694370227488262, 'num_epochs': 2}. Best is trial 26 with value: 3.053989170795817.\n",
      "100%|██████████| 1/1 [00:00<00:00,  2.20it/s]\n",
      "[I 2024-05-28 10:01:27,528] Trial 50 finished with value: 2.2674266431009618 and parameters: {'lora_rank': 10, 'alpha': 1.930810569628291, 'lr': 0.0002917203344616606, 'num_epochs': 1}. Best is trial 26 with value: 3.053989170795817.\n",
      "100%|██████████| 1/1 [00:00<00:00,  2.20it/s]\n",
      "[I 2024-05-28 10:01:28,792] Trial 51 finished with value: 2.5966455113929077 and parameters: {'lora_rank': 8, 'alpha': 1.7652582716284602, 'lr': 0.0003042848759131073, 'num_epochs': 1}. Best is trial 26 with value: 3.053989170795817.\n",
      "100%|██████████| 1/1 [00:00<00:00,  2.21it/s]\n",
      "[I 2024-05-28 10:01:30,049] Trial 52 finished with value: 2.7273033325559637 and parameters: {'lora_rank': 8, 'alpha': 2.0564113709701104, 'lr': 0.00021420885913084477, 'num_epochs': 1}. Best is trial 26 with value: 3.053989170795817.\n",
      "100%|██████████| 1/1 [00:00<00:00,  2.21it/s]\n",
      "[I 2024-05-28 10:01:31,307] Trial 53 finished with value: 2.748607758076892 and parameters: {'lora_rank': 8, 'alpha': 2.120646877440492, 'lr': 0.0002307344448130806, 'num_epochs': 1}. Best is trial 26 with value: 3.053989170795817.\n",
      "100%|██████████| 1/1 [00:00<00:00,  2.17it/s]\n",
      "[I 2024-05-28 10:01:32,574] Trial 54 finished with value: 1.1421404617318969 and parameters: {'lora_rank': 40, 'alpha': 2.0573371949851214, 'lr': 0.00022836123599571863, 'num_epochs': 1}. Best is trial 26 with value: 3.053989170795817.\n",
      "100%|██████████| 2/2 [00:00<00:00,  2.21it/s]\n",
      "[I 2024-05-28 10:01:34,290] Trial 55 finished with value: 1.0229593192129272 and parameters: {'lora_rank': 12, 'alpha': 2.3457366439499423, 'lr': 0.0001789239862777609, 'num_epochs': 2}. Best is trial 26 with value: 3.053989170795817.\n",
      "100%|██████████| 1/1 [00:00<00:00,  2.19it/s]\n",
      "[I 2024-05-28 10:01:35,562] Trial 56 finished with value: 2.403884945597022 and parameters: {'lora_rank': 17, 'alpha': 1.8658202295155766, 'lr': 0.00014348701170432363, 'num_epochs': 1}. Best is trial 26 with value: 3.053989170795817.\n",
      "100%|██████████| 2/2 [00:00<00:00,  2.21it/s]\n",
      "[I 2024-05-28 10:01:37,275] Trial 57 finished with value: 0.7270649794384222 and parameters: {'lora_rank': 9, 'alpha': 2.4036368787851696, 'lr': 0.0002393294868365391, 'num_epochs': 2}. Best is trial 26 with value: 3.053989170795817.\n",
      "100%|██████████| 1/1 [00:00<00:00,  2.20it/s]\n",
      "[I 2024-05-28 10:01:38,538] Trial 58 finished with value: 2.217284875963073 and parameters: {'lora_rank': 14, 'alpha': 2.052086915127439, 'lr': 9.279868607355745e-05, 'num_epochs': 1}. Best is trial 26 with value: 3.053989170795817.\n",
      "100%|██████████| 2/2 [00:00<00:00,  2.23it/s]\n",
      "[I 2024-05-28 10:01:40,243] Trial 59 finished with value: 1.1682486855843257 and parameters: {'lora_rank': 9, 'alpha': 2.0612535351210997, 'lr': 0.00017990286982236866, 'num_epochs': 2}. Best is trial 26 with value: 3.053989170795817.\n",
      "100%|██████████| 1/1 [00:00<00:00,  2.21it/s]\n",
      "[I 2024-05-28 10:01:41,503] Trial 60 finished with value: 0.3952090890200246 and parameters: {'lora_rank': 11, 'alpha': 1.5121366148566282, 'lr': 0.0009873635247195421, 'num_epochs': 1}. Best is trial 26 with value: 3.053989170795817.\n",
      "100%|██████████| 1/1 [00:00<00:00,  2.20it/s]\n",
      "[I 2024-05-28 10:01:42,771] Trial 61 finished with value: 2.2077611216665387 and parameters: {'lora_rank': 8, 'alpha': 1.6218650471736138, 'lr': 0.00020596199993618266, 'num_epochs': 1}. Best is trial 26 with value: 3.053989170795817.\n",
      "100%|██████████| 1/1 [00:00<00:00,  2.13it/s]\n",
      "[I 2024-05-28 10:01:44,046] Trial 62 finished with value: 2.685395284114999 and parameters: {'lora_rank': 8, 'alpha': 1.8649704752369343, 'lr': 0.000277184514998697, 'num_epochs': 1}. Best is trial 26 with value: 3.053989170795817.\n",
      "100%|██████████| 1/1 [00:00<00:00,  2.21it/s]\n",
      "[I 2024-05-28 10:01:45,307] Trial 63 finished with value: 2.2349666773411307 and parameters: {'lora_rank': 12, 'alpha': 2.214936201690359, 'lr': 0.00014525376401904866, 'num_epochs': 1}. Best is trial 26 with value: 3.053989170795817.\n",
      "100%|██████████| 2/2 [00:00<00:00,  2.21it/s]\n",
      "[I 2024-05-28 10:01:47,109] A new study created in memory with name: The Search\n"
     ]
    },
    {
     "name": "stdout",
     "output_type": "stream",
     "text": [
      "Learning Task 10\n"
     ]
    },
    {
     "name": "stderr",
     "output_type": "stream",
     "text": [
      "100%|██████████| 4/4 [00:01<00:00,  2.15it/s]\n",
      "[I 2024-05-28 10:01:49,850] Trial 0 finished with value: 0.37653007734505917 and parameters: {'lora_rank': 29, 'alpha': 1.7678742205327005, 'lr': 0.0005519243111446275, 'num_epochs': 4}. Best is trial 0 with value: 0.37653007734505917.\n",
      "100%|██████████| 1/1 [00:00<00:00,  2.16it/s]\n",
      "[I 2024-05-28 10:01:51,196] Trial 1 finished with value: 0.3385367482027919 and parameters: {'lora_rank': 31, 'alpha': 2.2857427546778375, 'lr': 0.0007314714629868308, 'num_epochs': 1}. Best is trial 0 with value: 0.37653007734505917.\n",
      "100%|██████████| 1/1 [00:00<00:00,  2.15it/s]\n",
      "[I 2024-05-28 10:01:52,545] Trial 2 finished with value: 0.37771688740136183 and parameters: {'lora_rank': 13, 'alpha': 1.6421037208452025, 'lr': 0.0009323015099616342, 'num_epochs': 1}. Best is trial 2 with value: 0.37771688740136183.\n",
      "100%|██████████| 4/4 [00:01<00:00,  2.15it/s]\n",
      "[I 2024-05-28 10:01:55,283] Trial 3 finished with value: 0.45009147291091406 and parameters: {'lora_rank': 10, 'alpha': 2.6255006696373164, 'lr': 0.0005113400059503117, 'num_epochs': 4}. Best is trial 3 with value: 0.45009147291091406.\n",
      "100%|██████████| 1/1 [00:00<00:00,  2.16it/s]\n",
      "[I 2024-05-28 10:01:56,632] Trial 4 finished with value: 0.595144911761297 and parameters: {'lora_rank': 18, 'alpha': 1.4699138654035446, 'lr': 0.0006023734557939007, 'num_epochs': 1}. Best is trial 4 with value: 0.595144911761297.\n",
      "100%|██████████| 1/1 [00:00<00:00,  2.14it/s]\n",
      "[I 2024-05-28 10:01:57,985] Trial 5 finished with value: 0.41162471624781644 and parameters: {'lora_rank': 33, 'alpha': 1.2814150995075169, 'lr': 0.0006637099367646708, 'num_epochs': 1}. Best is trial 4 with value: 0.595144911761297.\n",
      "100%|██████████| 4/4 [00:01<00:00,  2.16it/s]\n",
      "[I 2024-05-28 10:02:00,720] Trial 6 finished with value: 0.6983401304887935 and parameters: {'lora_rank': 13, 'alpha': 1.5757575809631148, 'lr': 0.0002664161465069263, 'num_epochs': 4}. Best is trial 6 with value: 0.6983401304887935.\n",
      "100%|██████████| 4/4 [00:01<00:00,  2.16it/s]\n",
      "[I 2024-05-28 10:02:03,460] Trial 7 finished with value: 0.9267941535970031 and parameters: {'lora_rank': 37, 'alpha': 2.664157282666268, 'lr': 8.055464325556489e-05, 'num_epochs': 4}. Best is trial 7 with value: 0.9267941535970031.\n",
      "100%|██████████| 2/2 [00:00<00:00,  2.14it/s]\n",
      "[I 2024-05-28 10:02:05,278] Trial 8 finished with value: 0.5773966519901754 and parameters: {'lora_rank': 37, 'alpha': 2.259833326884998, 'lr': 0.00026822682434784367, 'num_epochs': 2}. Best is trial 7 with value: 0.9267941535970031.\n",
      "100%|██████████| 3/3 [00:01<00:00,  2.10it/s]\n",
      "[I 2024-05-28 10:02:07,588] Trial 9 finished with value: 0.36308967027719047 and parameters: {'lora_rank': 40, 'alpha': 1.3226149001755487, 'lr': 0.0006157526179465163, 'num_epochs': 3}. Best is trial 7 with value: 0.9267941535970031.\n",
      "100%|██████████| 3/3 [00:01<00:00,  2.15it/s]\n",
      "[I 2024-05-28 10:02:09,875] Trial 10 finished with value: 2.0206117381668 and parameters: {'lora_rank': 23, 'alpha': 0.5597135778077107, 'lr': 5.228392357003553e-05, 'num_epochs': 3}. Best is trial 10 with value: 2.0206117381668.\n",
      "100%|██████████| 3/3 [00:01<00:00,  2.15it/s]\n",
      "[I 2024-05-28 10:02:12,194] Trial 11 finished with value: 1.9859996227205032 and parameters: {'lora_rank': 24, 'alpha': 0.6099218123286914, 'lr': 6.072680749917535e-05, 'num_epochs': 3}. Best is trial 10 with value: 2.0206117381668.\n",
      "100%|██████████| 3/3 [00:01<00:00,  2.04it/s]\n",
      "[I 2024-05-28 10:02:14,576] Trial 12 finished with value: 1.9882449636827957 and parameters: {'lora_rank': 22, 'alpha': 0.6500446103886679, 'lr': 5.067770897977318e-05, 'num_epochs': 3}. Best is trial 10 with value: 2.0206117381668.\n",
      "100%|██████████| 3/3 [00:01<00:00,  2.16it/s]\n",
      "[I 2024-05-28 10:02:16,853] Trial 13 finished with value: 0.928649282779501 and parameters: {'lora_rank': 22, 'alpha': 0.5762165225467686, 'lr': 0.00024056411251947065, 'num_epochs': 3}. Best is trial 10 with value: 2.0206117381668.\n",
      "100%|██████████| 2/2 [00:00<00:00,  2.16it/s]\n",
      "[I 2024-05-28 10:02:18,669] Trial 14 finished with value: 0.6619618629733804 and parameters: {'lora_rank': 20, 'alpha': 0.9854093443792825, 'lr': 0.00038213116466678527, 'num_epochs': 2}. Best is trial 10 with value: 2.0206117381668.\n",
      "100%|██████████| 3/3 [00:01<00:00,  2.16it/s]\n",
      "[I 2024-05-28 10:02:20,945] Trial 15 finished with value: 0.9386882455571613 and parameters: {'lora_rank': 27, 'alpha': 0.9355874936525115, 'lr': 0.00015853763598759596, 'num_epochs': 3}. Best is trial 10 with value: 2.0206117381668.\n",
      "100%|██████████| 2/2 [00:00<00:00,  2.15it/s]\n",
      "[I 2024-05-28 10:02:22,771] Trial 16 finished with value: 0.7598642703287364 and parameters: {'lora_rank': 17, 'alpha': 0.8909978741639797, 'lr': 0.0004038647689212273, 'num_epochs': 2}. Best is trial 10 with value: 2.0206117381668.\n",
      "100%|██████████| 3/3 [00:01<00:00,  2.17it/s]\n",
      "[I 2024-05-28 10:02:25,044] Trial 17 finished with value: 1.0062507006285175 and parameters: {'lora_rank': 26, 'alpha': 0.5581774929920216, 'lr': 0.00016897378303036803, 'num_epochs': 3}. Best is trial 10 with value: 2.0206117381668.\n",
      "100%|██████████| 2/2 [00:00<00:00,  2.16it/s]\n",
      "[I 2024-05-28 10:02:26,859] Trial 18 finished with value: 0.5102724690116243 and parameters: {'lora_rank': 23, 'alpha': 1.9465361154568994, 'lr': 0.000388577994664059, 'num_epochs': 2}. Best is trial 10 with value: 2.0206117381668.\n",
      "100%|██████████| 3/3 [00:01<00:00,  2.15it/s]\n",
      "[I 2024-05-28 10:02:29,145] Trial 19 finished with value: 0.35534266276909576 and parameters: {'lora_rank': 17, 'alpha': 1.1621559658276635, 'lr': 0.0008702131574263325, 'num_epochs': 3}. Best is trial 10 with value: 2.0206117381668.\n",
      "100%|██████████| 2/2 [00:00<00:00,  2.16it/s]\n",
      "[I 2024-05-28 10:02:30,963] Trial 20 finished with value: 1.9458968802961496 and parameters: {'lora_rank': 8, 'alpha': 0.8125935198738705, 'lr': 0.00015146125585027297, 'num_epochs': 2}. Best is trial 10 with value: 2.0206117381668.\n",
      "100%|██████████| 3/3 [00:01<00:00,  2.16it/s]\n",
      "[I 2024-05-28 10:02:33,252] Trial 21 finished with value: 1.9884323204061038 and parameters: {'lora_rank': 24, 'alpha': 0.5481969803635575, 'lr': 6.353975959675338e-05, 'num_epochs': 3}. Best is trial 10 with value: 2.0206117381668.\n",
      "100%|██████████| 3/3 [00:01<00:00,  2.16it/s]\n",
      "[I 2024-05-28 10:02:35,533] Trial 22 finished with value: 2.012328987690246 and parameters: {'lora_rank': 21, 'alpha': 0.7238289299264763, 'lr': 5.113372359582472e-05, 'num_epochs': 3}. Best is trial 10 with value: 2.0206117381668.\n",
      "100%|██████████| 3/3 [00:01<00:00,  2.15it/s]\n",
      "[I 2024-05-28 10:02:37,826] Trial 23 finished with value: 0.8711358431866698 and parameters: {'lora_rank': 26, 'alpha': 1.0782811285828282, 'lr': 0.000208246689159456, 'num_epochs': 3}. Best is trial 10 with value: 2.0206117381668.\n",
      "100%|██████████| 4/4 [00:01<00:00,  2.16it/s]\n",
      "[I 2024-05-28 10:02:40,571] Trial 24 finished with value: 0.985086869593702 and parameters: {'lora_rank': 20, 'alpha': 0.7883116544123554, 'lr': 0.00011769662792858739, 'num_epochs': 4}. Best is trial 10 with value: 2.0206117381668.\n",
      "100%|██████████| 3/3 [00:01<00:00,  2.15it/s]\n",
      "[I 2024-05-28 10:02:42,861] Trial 25 finished with value: 0.6260262111212525 and parameters: {'lora_rank': 14, 'alpha': 2.945208594182914, 'lr': 0.00030816115378104404, 'num_epochs': 3}. Best is trial 10 with value: 2.0206117381668.\n",
      "100%|██████████| 2/2 [00:00<00:00,  2.15it/s]\n",
      "[I 2024-05-28 10:02:44,685] Trial 26 finished with value: 0.8974748734426526 and parameters: {'lora_rank': 31, 'alpha': 0.5012434186087269, 'lr': 0.0003322496035922314, 'num_epochs': 2}. Best is trial 10 with value: 2.0206117381668.\n",
      "100%|██████████| 3/3 [00:01<00:00,  2.16it/s]\n",
      "[I 2024-05-28 10:02:46,972] Trial 27 finished with value: 0.5885623622139315 and parameters: {'lora_rank': 20, 'alpha': 0.7394759829511806, 'lr': 0.00046086817359505697, 'num_epochs': 3}. Best is trial 10 with value: 2.0206117381668.\n",
      "100%|██████████| 4/4 [00:01<00:00,  2.15it/s]\n",
      "[I 2024-05-28 10:02:49,721] Trial 28 finished with value: 0.915329737074884 and parameters: {'lora_rank': 25, 'alpha': 1.1892558589817608, 'lr': 0.0001157487291975435, 'num_epochs': 4}. Best is trial 10 with value: 2.0206117381668.\n",
      "100%|██████████| 4/4 [00:01<00:00,  2.16it/s]\n",
      "[I 2024-05-28 10:02:52,465] Trial 29 finished with value: 0.6766012802345119 and parameters: {'lora_rank': 28, 'alpha': 1.963332516862606, 'lr': 0.00019764725924580434, 'num_epochs': 4}. Best is trial 10 with value: 2.0206117381668.\n",
      "100%|██████████| 3/3 [00:01<00:00,  2.16it/s]\n",
      "[I 2024-05-28 10:02:54,748] Trial 30 finished with value: 0.36002402946747625 and parameters: {'lora_rank': 30, 'alpha': 0.7587654094599001, 'lr': 0.0007815552073380863, 'num_epochs': 3}. Best is trial 10 with value: 2.0206117381668.\n",
      "100%|██████████| 3/3 [00:01<00:00,  2.17it/s]\n",
      "[I 2024-05-28 10:02:57,030] Trial 31 finished with value: 1.9821238692113219 and parameters: {'lora_rank': 22, 'alpha': 0.7007708338887487, 'lr': 5.344529933253552e-05, 'num_epochs': 3}. Best is trial 10 with value: 2.0206117381668.\n",
      "100%|██████████| 3/3 [00:01<00:00,  2.15it/s]\n",
      "[I 2024-05-28 10:02:59,315] Trial 32 finished with value: 1.1348717902469574 and parameters: {'lora_rank': 21, 'alpha': 1.0107398066001658, 'lr': 0.00011001110374956886, 'num_epochs': 3}. Best is trial 10 with value: 2.0206117381668.\n",
      "100%|██████████| 3/3 [00:01<00:00,  2.16it/s]\n",
      "[I 2024-05-28 10:03:01,597] Trial 33 finished with value: 2.001336904459858 and parameters: {'lora_rank': 24, 'alpha': 0.6280204428297607, 'lr': 5.3780837768548236e-05, 'num_epochs': 3}. Best is trial 10 with value: 2.0206117381668.\n",
      "100%|██████████| 3/3 [00:01<00:00,  2.15it/s]\n",
      "[I 2024-05-28 10:03:03,884] Trial 34 finished with value: 1.1256094302866013 and parameters: {'lora_rank': 29, 'alpha': 0.5511420837993282, 'lr': 0.00013167509150479546, 'num_epochs': 3}. Best is trial 10 with value: 2.0206117381668.\n",
      "100%|██████████| 4/4 [00:01<00:00,  2.14it/s]\n",
      "[I 2024-05-28 10:03:06,650] Trial 35 finished with value: 0.932332138187262 and parameters: {'lora_rank': 15, 'alpha': 0.8790305526615545, 'lr': 0.0001991110159318229, 'num_epochs': 4}. Best is trial 10 with value: 2.0206117381668.\n",
      "100%|██████████| 2/2 [00:00<00:00,  2.16it/s]\n",
      "[I 2024-05-28 10:03:08,470] Trial 36 finished with value: 1.9652004205528584 and parameters: {'lora_rank': 24, 'alpha': 0.7071994160892813, 'lr': 0.00010910382975814251, 'num_epochs': 2}. Best is trial 10 with value: 2.0206117381668.\n",
      "100%|██████████| 3/3 [00:01<00:00,  2.16it/s]\n",
      "[I 2024-05-28 10:03:10,754] Trial 37 finished with value: 0.5916994483666519 and parameters: {'lora_rank': 33, 'alpha': 1.3947920061572356, 'lr': 0.0003252394251861848, 'num_epochs': 3}. Best is trial 10 with value: 2.0206117381668.\n",
      "100%|██████████| 4/4 [00:01<00:00,  2.15it/s]\n",
      "[I 2024-05-28 10:03:13,502] Trial 38 finished with value: 0.7128656845836019 and parameters: {'lora_rank': 18, 'alpha': 1.75715609009365, 'lr': 0.00024399447762199242, 'num_epochs': 4}. Best is trial 10 with value: 2.0206117381668.\n",
      "100%|██████████| 3/3 [00:01<00:00,  2.16it/s]\n",
      "[I 2024-05-28 10:03:15,784] Trial 39 finished with value: 1.2123642378386779 and parameters: {'lora_rank': 19, 'alpha': 1.5309014139347792, 'lr': 8.947885868739914e-05, 'num_epochs': 3}. Best is trial 10 with value: 2.0206117381668.\n",
      "100%|██████████| 2/2 [00:00<00:00,  2.15it/s]\n",
      "[I 2024-05-28 10:03:17,610] Trial 40 finished with value: 0.46181271104312227 and parameters: {'lora_rank': 33, 'alpha': 1.0905081281561446, 'lr': 0.0005120778063279503, 'num_epochs': 2}. Best is trial 10 with value: 2.0206117381668.\n",
      "100%|██████████| 3/3 [00:01<00:00,  2.15it/s]\n",
      "[I 2024-05-28 10:03:19,896] Trial 41 finished with value: 1.979207584670455 and parameters: {'lora_rank': 23, 'alpha': 0.662372013162589, 'lr': 6.558586085711207e-05, 'num_epochs': 3}. Best is trial 10 with value: 2.0206117381668.\n",
      "100%|██████████| 3/3 [00:01<00:00,  2.15it/s]\n",
      "[I 2024-05-28 10:03:22,186] Trial 42 finished with value: 1.987552822955199 and parameters: {'lora_rank': 25, 'alpha': 0.5032657092821831, 'lr': 5.7678513296891894e-05, 'num_epochs': 3}. Best is trial 10 with value: 2.0206117381668.\n",
      "100%|██████████| 3/3 [00:01<00:00,  2.14it/s]\n",
      "[I 2024-05-28 10:03:24,479] Trial 43 finished with value: 0.9895033394605397 and parameters: {'lora_rank': 22, 'alpha': 0.6476749280918002, 'lr': 0.00016990645934148222, 'num_epochs': 3}. Best is trial 10 with value: 2.0206117381668.\n",
      "100%|██████████| 3/3 [00:01<00:00,  2.15it/s]\n",
      "[I 2024-05-28 10:03:26,771] Trial 44 finished with value: 2.500549632758949 and parameters: {'lora_rank': 16, 'alpha': 0.8629286097242763, 'lr': 9.460547191569995e-05, 'num_epochs': 3}. Best is trial 44 with value: 2.500549632758949.\n",
      "100%|██████████| 4/4 [00:01<00:00,  2.15it/s]\n",
      "[I 2024-05-28 10:03:29,528] Trial 45 finished with value: 0.9346397541146761 and parameters: {'lora_rank': 12, 'alpha': 0.8698777385007441, 'lr': 0.00021275098839126675, 'num_epochs': 4}. Best is trial 44 with value: 2.500549632758949.\n",
      "100%|██████████| 3/3 [00:01<00:00,  2.15it/s]\n",
      "[I 2024-05-28 10:03:31,821] Trial 46 finished with value: 0.7457033517018972 and parameters: {'lora_rank': 16, 'alpha': 1.2617004583962725, 'lr': 0.0002746898787272913, 'num_epochs': 3}. Best is trial 44 with value: 2.500549632758949.\n",
      "100%|██████████| 1/1 [00:00<00:00,  2.14it/s]\n",
      "[I 2024-05-28 10:03:33,184] Trial 47 finished with value: 2.0456392006322774 and parameters: {'lora_rank': 11, 'alpha': 0.9614302714508687, 'lr': 9.083268992861202e-05, 'num_epochs': 1}. Best is trial 44 with value: 2.500549632758949.\n",
      "100%|██████████| 1/1 [00:00<00:00,  2.14it/s]\n",
      "[I 2024-05-28 10:03:34,546] Trial 48 finished with value: 2.039774301141492 and parameters: {'lora_rank': 10, 'alpha': 1.0192163168998538, 'lr': 0.00013997576957607488, 'num_epochs': 1}. Best is trial 44 with value: 2.500549632758949.\n",
      "100%|██████████| 1/1 [00:00<00:00,  2.15it/s]\n",
      "[I 2024-05-28 10:03:35,902] Trial 49 finished with value: 1.0732775795402332 and parameters: {'lora_rank': 10, 'alpha': 0.9963346678989373, 'lr': 0.0005806999424101343, 'num_epochs': 1}. Best is trial 44 with value: 2.500549632758949.\n",
      "100%|██████████| 1/1 [00:00<00:00,  2.15it/s]\n",
      "[I 2024-05-28 10:03:37,312] Trial 50 finished with value: 0.6975145801771807 and parameters: {'lora_rank': 11, 'alpha': 1.3826018685933732, 'lr': 0.0006659541021877948, 'num_epochs': 1}. Best is trial 44 with value: 2.500549632758949.\n",
      "100%|██████████| 1/1 [00:00<00:00,  2.14it/s]\n",
      "[I 2024-05-28 10:03:38,671] Trial 51 finished with value: 2.038500332053469 and parameters: {'lora_rank': 9, 'alpha': 0.8769329155347786, 'lr': 0.00014659569358663904, 'num_epochs': 1}. Best is trial 44 with value: 2.500549632758949.\n",
      "100%|██████████| 1/1 [00:00<00:00,  2.15it/s]\n",
      "[I 2024-05-28 10:03:40,028] Trial 52 finished with value: 2.0269987744891784 and parameters: {'lora_rank': 8, 'alpha': 1.0997231526431412, 'lr': 0.0001433015173724999, 'num_epochs': 1}. Best is trial 44 with value: 2.500549632758949.\n",
      "100%|██████████| 1/1 [00:00<00:00,  2.15it/s]\n",
      "[I 2024-05-28 10:03:41,386] Trial 53 finished with value: 2.009832025278545 and parameters: {'lora_rank': 8, 'alpha': 1.1098678590024673, 'lr': 0.0001572545640700847, 'num_epochs': 1}. Best is trial 44 with value: 2.500549632758949.\n",
      "100%|██████████| 1/1 [00:00<00:00,  2.14it/s]\n",
      "[I 2024-05-28 10:03:42,751] Trial 54 finished with value: 0.5229754368719696 and parameters: {'lora_rank': 10, 'alpha': 1.223479199239566, 'lr': 0.0009647992581407919, 'num_epochs': 1}. Best is trial 44 with value: 2.500549632758949.\n",
      "100%|██████████| 1/1 [00:00<00:00,  2.15it/s]\n",
      "[I 2024-05-28 10:03:44,114] Trial 55 finished with value: 1.9695448285905512 and parameters: {'lora_rank': 13, 'alpha': 0.9430647695496904, 'lr': 0.00023276508552745693, 'num_epochs': 1}. Best is trial 44 with value: 2.500549632758949.\n",
      "100%|██████████| 1/1 [00:00<00:00,  2.15it/s]\n",
      "[I 2024-05-28 10:03:45,475] Trial 56 finished with value: 2.050127997770086 and parameters: {'lora_rank': 9, 'alpha': 0.8257810896490829, 'lr': 0.00013694295772012391, 'num_epochs': 1}. Best is trial 44 with value: 2.500549632758949.\n",
      "100%|██████████| 1/1 [00:00<00:00,  2.15it/s]\n",
      "[I 2024-05-28 10:03:46,836] Trial 57 finished with value: 2.022036797081606 and parameters: {'lora_rank': 9, 'alpha': 1.0456400731159254, 'lr': 0.0001733412325623043, 'num_epochs': 1}. Best is trial 44 with value: 2.500549632758949.\n",
      "100%|██████████| 1/1 [00:00<00:00,  2.14it/s]\n",
      "[I 2024-05-28 10:03:48,198] Trial 58 finished with value: 2.0212560486852333 and parameters: {'lora_rank': 11, 'alpha': 0.9007554716422917, 'lr': 0.00012953583883202114, 'num_epochs': 1}. Best is trial 44 with value: 2.500549632758949.\n",
      "100%|██████████| 1/1 [00:00<00:00,  2.15it/s]\n",
      "[I 2024-05-28 10:03:49,558] Trial 59 finished with value: 2.3481201963478293 and parameters: {'lora_rank': 9, 'alpha': 1.6187179370487645, 'lr': 0.00024837939372306995, 'num_epochs': 1}. Best is trial 44 with value: 2.500549632758949.\n",
      "100%|██████████| 1/1 [00:00<00:00,  2.15it/s]\n",
      "[I 2024-05-28 10:03:50,974] Trial 60 finished with value: 1.2142632011123118 and parameters: {'lora_rank': 12, 'alpha': 2.2911593381311754, 'lr': 0.0002616548539772433, 'num_epochs': 1}. Best is trial 44 with value: 2.500549632758949.\n",
      "100%|██████████| 1/1 [00:00<00:00,  2.15it/s]\n",
      "[I 2024-05-28 10:03:52,338] Trial 61 finished with value: 2.0286929770684705 and parameters: {'lora_rank': 9, 'alpha': 1.8767759777104138, 'lr': 9.75375267243217e-05, 'num_epochs': 1}. Best is trial 44 with value: 2.500549632758949.\n",
      "100%|██████████| 1/1 [00:00<00:00,  2.13it/s]\n",
      "[I 2024-05-28 10:03:53,713] Trial 62 finished with value: 2.040677367692189 and parameters: {'lora_rank': 9, 'alpha': 1.6413469583520266, 'lr': 9.577073216046935e-05, 'num_epochs': 1}. Best is trial 44 with value: 2.500549632758949.\n",
      "100%|██████████| 1/1 [00:00<00:00,  2.15it/s]\n",
      "[I 2024-05-28 10:03:55,127] Trial 63 finished with value: 1.978000415179232 and parameters: {'lora_rank': 14, 'alpha': 1.5972936205346848, 'lr': 0.00018448212037012782, 'num_epochs': 1}. Best is trial 44 with value: 2.500549632758949.\n",
      "100%|██████████| 1/1 [00:00<00:00,  2.15it/s]\n",
      "[I 2024-05-28 10:03:56,484] Trial 64 finished with value: 2.012996403220087 and parameters: {'lora_rank': 11, 'alpha': 2.166067628617289, 'lr': 8.991378412468819e-05, 'num_epochs': 1}. Best is trial 44 with value: 2.500549632758949.\n",
      "100%|██████████| 1/1 [00:00<00:00,  2.13it/s]\n",
      "[I 2024-05-28 10:03:57,850] Trial 65 finished with value: 2.3350875313288513 and parameters: {'lora_rank': 9, 'alpha': 1.6652051208957295, 'lr': 0.0002870467285405223, 'num_epochs': 1}. Best is trial 44 with value: 2.500549632758949.\n",
      "100%|██████████| 1/1 [00:00<00:00,  2.15it/s]\n",
      "[I 2024-05-28 10:03:59,205] Trial 66 finished with value: 1.025478718662639 and parameters: {'lora_rank': 10, 'alpha': 1.6778875740302746, 'lr': 0.0004680393251585592, 'num_epochs': 1}. Best is trial 44 with value: 2.500549632758949.\n",
      "100%|██████████| 1/1 [00:00<00:00,  2.15it/s]\n",
      "[I 2024-05-28 10:04:00,567] Trial 67 finished with value: 1.321942672678599 and parameters: {'lora_rank': 13, 'alpha': 1.839352194890322, 'lr': 0.0002765085979450145, 'num_epochs': 1}. Best is trial 44 with value: 2.500549632758949.\n",
      "100%|██████████| 1/1 [00:00<00:00,  2.15it/s]\n",
      "[I 2024-05-28 10:04:01,929] Trial 68 finished with value: 2.178219855582044 and parameters: {'lora_rank': 12, 'alpha': 1.4015743065083877, 'lr': 0.00022821707637384173, 'num_epochs': 1}. Best is trial 44 with value: 2.500549632758949.\n",
      "100%|██████████| 1/1 [00:00<00:00,  2.15it/s]\n",
      "[I 2024-05-28 10:04:03,289] Trial 69 finished with value: 1.6221391007218524 and parameters: {'lora_rank': 12, 'alpha': 1.44171174111438, 'lr': 0.0003011359544826974, 'num_epochs': 1}. Best is trial 44 with value: 2.500549632758949.\n",
      "100%|██████████| 2/2 [00:00<00:00,  2.16it/s]\n",
      "[I 2024-05-28 10:04:05,112] Trial 70 finished with value: 0.7002378995802716 and parameters: {'lora_rank': 15, 'alpha': 1.516070756367376, 'lr': 0.0003604347080439641, 'num_epochs': 2}. Best is trial 44 with value: 2.500549632758949.\n",
      "100%|██████████| 1/1 [00:00<00:00,  2.15it/s]\n",
      "[I 2024-05-28 10:04:06,468] Trial 71 finished with value: 1.9824059809092673 and parameters: {'lora_rank': 8, 'alpha': 1.736731066564832, 'lr': 0.0002212765657131499, 'num_epochs': 1}. Best is trial 44 with value: 2.500549632758949.\n",
      "100%|██████████| 1/1 [00:00<00:00,  2.14it/s]\n",
      "[I 2024-05-28 10:04:07,834] Trial 72 finished with value: 1.99304322942944 and parameters: {'lora_rank': 9, 'alpha': 1.6123356463785465, 'lr': 0.00018598634460609606, 'num_epochs': 1}. Best is trial 44 with value: 2.500549632758949.\n",
      "100%|██████████| 1/1 [00:00<00:00,  2.14it/s]\n",
      "[I 2024-05-28 10:04:09,195] Trial 73 finished with value: 1.9416426831516267 and parameters: {'lora_rank': 11, 'alpha': 1.2883024820614533, 'lr': 0.00024144290281972344, 'num_epochs': 1}. Best is trial 44 with value: 2.500549632758949.\n",
      "100%|██████████| 1/1 [00:00<00:00,  2.15it/s]\n",
      "[I 2024-05-28 10:04:10,552] Trial 74 finished with value: 2.0500206106006678 and parameters: {'lora_rank': 10, 'alpha': 1.678355980546186, 'lr': 8.661727637599766e-05, 'num_epochs': 1}. Best is trial 44 with value: 2.500549632758949.\n",
      "100%|██████████| 1/1 [00:00<00:00,  2.15it/s]\n",
      "[I 2024-05-28 10:04:11,911] Trial 75 finished with value: 2.034012606098352 and parameters: {'lora_rank': 13, 'alpha': 1.6657836087906424, 'lr': 9.310063375706611e-05, 'num_epochs': 1}. Best is trial 44 with value: 2.500549632758949.\n",
      "100%|██████████| 1/1 [00:00<00:00,  2.15it/s]\n",
      "[I 2024-05-28 10:04:13,272] Trial 76 finished with value: 2.0333342356912736 and parameters: {'lora_rank': 14, 'alpha': 2.0326916773454804, 'lr': 8.31751876616417e-05, 'num_epochs': 1}. Best is trial 44 with value: 2.500549632758949.\n",
      "100%|██████████| 2/2 [00:00<00:00,  2.16it/s]\n",
      "[I 2024-05-28 10:04:15,089] Trial 77 finished with value: 0.6334822103081766 and parameters: {'lora_rank': 9, 'alpha': 1.8121704913417398, 'lr': 0.0004245910335808345, 'num_epochs': 2}. Best is trial 44 with value: 2.500549632758949.\n",
      "100%|██████████| 1/1 [00:00<00:00,  2.14it/s]\n",
      "[I 2024-05-28 10:04:16,448] Trial 78 finished with value: 1.1671483408848815 and parameters: {'lora_rank': 12, 'alpha': 1.5386482478323211, 'lr': 0.0003506182884547537, 'num_epochs': 1}. Best is trial 44 with value: 2.500549632758949.\n",
      "100%|██████████| 1/1 [00:00<00:00,  2.14it/s]\n",
      "[I 2024-05-28 10:04:17,810] Trial 79 finished with value: 2.014577992814803 and parameters: {'lora_rank': 8, 'alpha': 1.7215374855985575, 'lr': 0.00011408996797781559, 'num_epochs': 1}. Best is trial 44 with value: 2.500549632758949.\n",
      "100%|██████████| 1/1 [00:00<00:00,  2.15it/s]\n",
      "[I 2024-05-28 10:04:19,164] Trial 80 finished with value: 2.4121151210005505 and parameters: {'lora_rank': 10, 'alpha': 1.3535342586474788, 'lr': 0.0002916116638798327, 'num_epochs': 1}. Best is trial 44 with value: 2.500549632758949.\n",
      "100%|██████████| 1/1 [00:00<00:00,  2.15it/s]\n",
      "[I 2024-05-28 10:04:20,519] Trial 81 finished with value: 2.28034103778222 and parameters: {'lora_rank': 10, 'alpha': 1.4550531185669078, 'lr': 0.0002884643573164645, 'num_epochs': 1}. Best is trial 44 with value: 2.500549632758949.\n",
      "100%|██████████| 1/1 [00:00<00:00,  2.15it/s]\n",
      "[I 2024-05-28 10:04:21,880] Trial 82 finished with value: 2.0109739824983146 and parameters: {'lora_rank': 11, 'alpha': 1.3492991221372688, 'lr': 0.0003128713091235912, 'num_epochs': 1}. Best is trial 44 with value: 2.500549632758949.\n",
      "100%|██████████| 1/1 [00:00<00:00,  2.16it/s]\n",
      "[I 2024-05-28 10:04:23,238] Trial 83 finished with value: 2.160763818993405 and parameters: {'lora_rank': 10, 'alpha': 1.4554790484448454, 'lr': 0.0002960793250338066, 'num_epochs': 1}. Best is trial 44 with value: 2.500549632758949.\n",
      "100%|██████████| 1/1 [00:00<00:00,  2.16it/s]\n",
      "[I 2024-05-28 10:04:24,589] Trial 84 finished with value: 2.2253430557799354 and parameters: {'lora_rank': 10, 'alpha': 1.4731814010021997, 'lr': 0.0002901711669602688, 'num_epochs': 1}. Best is trial 44 with value: 2.500549632758949.\n",
      "100%|██████████| 1/1 [00:00<00:00,  2.15it/s]\n",
      "[I 2024-05-28 10:04:25,944] Trial 85 finished with value: 1.642387795515718 and parameters: {'lora_rank': 15, 'alpha': 1.4171048410401308, 'lr': 0.0002922571078753793, 'num_epochs': 1}. Best is trial 44 with value: 2.500549632758949.\n",
      "100%|██████████| 1/1 [00:00<00:00,  2.15it/s]\n",
      "[I 2024-05-28 10:04:27,304] Trial 86 finished with value: 1.0987236211808538 and parameters: {'lora_rank': 12, 'alpha': 1.47601817845057, 'lr': 0.00037584973299953497, 'num_epochs': 1}. Best is trial 44 with value: 2.500549632758949.\n",
      "100%|██████████| 2/2 [00:00<00:00,  2.14it/s]\n",
      "[I 2024-05-28 10:04:29,136] Trial 87 finished with value: 1.0156879817081887 and parameters: {'lora_rank': 10, 'alpha': 1.34612897112456, 'lr': 0.0002639824209245229, 'num_epochs': 2}. Best is trial 44 with value: 2.500549632758949.\n",
      "100%|██████████| 1/1 [00:00<00:00,  2.15it/s]\n",
      "[I 2024-05-28 10:04:30,493] Trial 88 finished with value: 1.8496853665868074 and parameters: {'lora_rank': 8, 'alpha': 1.4663023312290278, 'lr': 0.0003408913799478223, 'num_epochs': 1}. Best is trial 44 with value: 2.500549632758949.\n",
      "100%|██████████| 1/1 [00:00<00:00,  2.16it/s]\n",
      "[I 2024-05-28 10:04:31,855] Trial 89 finished with value: 1.0533745847767069 and parameters: {'lora_rank': 13, 'alpha': 1.2448272418222004, 'lr': 0.00040616957800036334, 'num_epochs': 1}. Best is trial 44 with value: 2.500549632758949.\n",
      "100%|██████████| 2/2 [00:00<00:00,  2.15it/s]\n",
      "[I 2024-05-28 10:04:33,681] Trial 90 finished with value: 1.0079554231518761 and parameters: {'lora_rank': 10, 'alpha': 1.1596920651775564, 'lr': 0.00029005553636452354, 'num_epochs': 2}. Best is trial 44 with value: 2.500549632758949.\n",
      "100%|██████████| 1/1 [00:00<00:00,  2.16it/s]\n",
      "[I 2024-05-28 10:04:35,038] Trial 91 finished with value: 1.9871042602491262 and parameters: {'lora_rank': 10, 'alpha': 1.56387492131437, 'lr': 0.00020917558167915932, 'num_epochs': 1}. Best is trial 44 with value: 2.500549632758949.\n",
      "100%|██████████| 1/1 [00:00<00:00,  2.14it/s]\n",
      "[I 2024-05-28 10:04:36,398] Trial 92 finished with value: 2.17123832314732 and parameters: {'lora_rank': 9, 'alpha': 1.4848479051599102, 'lr': 0.0002512590743374461, 'num_epochs': 1}. Best is trial 44 with value: 2.500549632758949.\n",
      "100%|██████████| 1/1 [00:00<00:00,  2.13it/s]\n",
      "[I 2024-05-28 10:04:37,764] Trial 93 finished with value: 1.900129414934232 and parameters: {'lora_rank': 9, 'alpha': 1.4892465846587328, 'lr': 0.00033457359168903903, 'num_epochs': 1}. Best is trial 44 with value: 2.500549632758949.\n",
      "100%|██████████| 1/1 [00:00<00:00,  2.16it/s]\n",
      "[I 2024-05-28 10:04:39,120] Trial 94 finished with value: 1.957820149421999 and parameters: {'lora_rank': 11, 'alpha': 1.312256692815275, 'lr': 0.00024111822429103102, 'num_epochs': 1}. Best is trial 44 with value: 2.500549632758949.\n",
      "100%|██████████| 1/1 [00:00<00:00,  2.14it/s]\n",
      "[I 2024-05-28 10:04:40,481] Trial 95 finished with value: 2.0011787308670357 and parameters: {'lora_rank': 8, 'alpha': 1.4013326844088299, 'lr': 0.00026197271629373626, 'num_epochs': 1}. Best is trial 44 with value: 2.500549632758949.\n",
      "100%|██████████| 1/1 [00:00<00:00,  2.15it/s]\n",
      "[I 2024-05-28 10:04:41,843] Trial 96 finished with value: 1.904940115187797 and parameters: {'lora_rank': 9, 'alpha': 1.594761422021273, 'lr': 0.00031957988224366556, 'num_epochs': 1}. Best is trial 44 with value: 2.500549632758949.\n",
      "100%|██████████| 1/1 [00:00<00:00,  2.15it/s]\n",
      "[I 2024-05-28 10:04:43,206] Trial 97 finished with value: 1.9600714345328698 and parameters: {'lora_rank': 12, 'alpha': 1.1855244128050153, 'lr': 0.00022271828808017552, 'num_epochs': 1}. Best is trial 44 with value: 2.500549632758949.\n",
      "100%|██████████| 1/1 [00:00<00:00,  2.14it/s]\n",
      "[I 2024-05-28 10:04:44,567] Trial 98 finished with value: 1.0519175663602867 and parameters: {'lora_rank': 14, 'alpha': 1.5464996687035795, 'lr': 0.00037220208696881276, 'num_epochs': 1}. Best is trial 44 with value: 2.500549632758949.\n",
      "100%|██████████| 1/1 [00:00<00:00,  2.15it/s]\n",
      "[I 2024-05-28 10:04:45,925] Trial 99 finished with value: 2.1611223240229145 and parameters: {'lora_rank': 8, 'alpha': 1.7820027261969542, 'lr': 0.0002796776745829802, 'num_epochs': 1}. Best is trial 44 with value: 2.500549632758949.\n",
      "100%|██████████| 1/1 [00:00<00:00,  2.14it/s]\n",
      "[I 2024-05-28 10:04:47,289] Trial 100 finished with value: 1.0953988255685225 and parameters: {'lora_rank': 16, 'alpha': 1.8954579462332424, 'lr': 0.0002855784517454948, 'num_epochs': 1}. Best is trial 44 with value: 2.500549632758949.\n",
      "100%|██████████| 1/1 [00:00<00:00,  2.13it/s]\n",
      "[I 2024-05-28 10:04:48,654] Trial 101 finished with value: 2.2866223084376185 and parameters: {'lora_rank': 8, 'alpha': 1.8034009846822605, 'lr': 0.00024761483535369583, 'num_epochs': 1}. Best is trial 44 with value: 2.500549632758949.\n",
      "100%|██████████| 1/1 [00:00<00:00,  2.14it/s]\n",
      "[I 2024-05-28 10:04:50,018] Trial 102 finished with value: 2.320491233891642 and parameters: {'lora_rank': 8, 'alpha': 1.8029360920523867, 'lr': 0.00025395245055749084, 'num_epochs': 1}. Best is trial 44 with value: 2.500549632758949.\n",
      "100%|██████████| 1/1 [00:00<00:00,  2.14it/s]\n",
      "[I 2024-05-28 10:04:51,381] Trial 103 finished with value: 2.251436447213817 and parameters: {'lora_rank': 8, 'alpha': 1.996874262708183, 'lr': 0.00025227946731901844, 'num_epochs': 1}. Best is trial 44 with value: 2.500549632758949.\n",
      "100%|██████████| 1/1 [00:00<00:00,  2.13it/s]\n",
      "[I 2024-05-28 10:04:52,745] Trial 104 finished with value: 2.4284841023678574 and parameters: {'lora_rank': 9, 'alpha': 2.0157958858274148, 'lr': 0.00024580117751441406, 'num_epochs': 1}. Best is trial 44 with value: 2.500549632758949.\n",
      "100%|██████████| 1/1 [00:00<00:00,  2.16it/s]\n",
      "[I 2024-05-28 10:04:54,100] Trial 105 finished with value: 1.9507939349338437 and parameters: {'lora_rank': 8, 'alpha': 1.9387205797462363, 'lr': 0.00019411067717243913, 'num_epochs': 1}. Best is trial 44 with value: 2.500549632758949.\n",
      "100%|██████████| 1/1 [00:00<00:00,  2.16it/s]\n",
      "[I 2024-05-28 10:04:55,458] Trial 106 finished with value: 1.0756339996180138 and parameters: {'lora_rank': 11, 'alpha': 2.065498476467093, 'lr': 0.0003188665985595628, 'num_epochs': 1}. Best is trial 44 with value: 2.500549632758949.\n",
      "100%|██████████| 1/1 [00:00<00:00,  2.02it/s]\n",
      "[I 2024-05-28 10:04:56,856] Trial 107 finished with value: 0.9210256807222115 and parameters: {'lora_rank': 39, 'alpha': 2.163992765820429, 'lr': 0.00022477894401884863, 'num_epochs': 1}. Best is trial 44 with value: 2.500549632758949.\n",
      "100%|██████████| 1/1 [00:00<00:00,  2.15it/s]\n",
      "[I 2024-05-28 10:04:58,217] Trial 108 finished with value: 1.789390417553509 and parameters: {'lora_rank': 8, 'alpha': 2.3831896277121256, 'lr': 0.0002478272899436436, 'num_epochs': 1}. Best is trial 44 with value: 2.500549632758949.\n",
      "100%|██████████| 1/1 [00:00<00:00,  2.13it/s]\n",
      "[I 2024-05-28 10:04:59,583] Trial 109 finished with value: 1.9915920010295942 and parameters: {'lora_rank': 10, 'alpha': 2.0072893938262797, 'lr': 0.0001693334169740708, 'num_epochs': 1}. Best is trial 44 with value: 2.500549632758949.\n",
      "100%|██████████| 1/1 [00:00<00:00,  2.15it/s]\n",
      "[I 2024-05-28 10:05:00,939] Trial 110 finished with value: 2.3627093664454755 and parameters: {'lora_rank': 9, 'alpha': 2.109366187306818, 'lr': 0.00020619944708655664, 'num_epochs': 1}. Best is trial 44 with value: 2.500549632758949.\n",
      "100%|██████████| 1/1 [00:00<00:00,  2.15it/s]\n",
      "[I 2024-05-28 10:05:02,301] Trial 111 finished with value: 2.3526702146911145 and parameters: {'lora_rank': 9, 'alpha': 2.11456258360813, 'lr': 0.000205200800538337, 'num_epochs': 1}. Best is trial 44 with value: 2.500549632758949.\n",
      "100%|██████████| 1/1 [00:00<00:00,  2.14it/s]\n",
      "[I 2024-05-28 10:05:03,660] Trial 112 finished with value: 2.43317942159888 and parameters: {'lora_rank': 9, 'alpha': 2.121544185883198, 'lr': 0.00021074398139133476, 'num_epochs': 1}. Best is trial 44 with value: 2.500549632758949.\n",
      "100%|██████████| 1/1 [00:00<00:00,  2.14it/s]\n",
      "[I 2024-05-28 10:05:05,021] Trial 113 finished with value: 2.525287526257326 and parameters: {'lora_rank': 9, 'alpha': 2.3305191757494255, 'lr': 0.00020412152708454838, 'num_epochs': 1}. Best is trial 113 with value: 2.525287526257326.\n",
      "100%|██████████| 1/1 [00:00<00:00,  2.16it/s]\n",
      "[I 2024-05-28 10:05:06,374] Trial 114 finished with value: 2.542451336809648 and parameters: {'lora_rank': 9, 'alpha': 2.4805867191825217, 'lr': 0.00020234691893891889, 'num_epochs': 1}. Best is trial 114 with value: 2.542451336809648.\n",
      "100%|██████████| 1/1 [00:00<00:00,  2.11it/s]\n",
      "[I 2024-05-28 10:05:07,741] Trial 115 finished with value: 2.493187347945905 and parameters: {'lora_rank': 9, 'alpha': 2.5796444684391555, 'lr': 0.00020230636254688048, 'num_epochs': 1}. Best is trial 114 with value: 2.542451336809648.\n",
      "100%|██████████| 1/1 [00:00<00:00,  2.15it/s]\n",
      "[I 2024-05-28 10:05:09,098] Trial 116 finished with value: 2.49664764545279 and parameters: {'lora_rank': 9, 'alpha': 2.6637450677920005, 'lr': 0.00019778356044299107, 'num_epochs': 1}. Best is trial 114 with value: 2.542451336809648.\n",
      "100%|██████████| 1/1 [00:00<00:00,  2.15it/s]\n",
      "[I 2024-05-28 10:05:10,454] Trial 117 finished with value: 2.5256329732865517 and parameters: {'lora_rank': 9, 'alpha': 2.6057097344983533, 'lr': 0.00019734287654384143, 'num_epochs': 1}. Best is trial 114 with value: 2.542451336809648.\n",
      "100%|██████████| 1/1 [00:00<00:00,  2.15it/s]\n",
      "[I 2024-05-28 10:05:11,815] Trial 118 finished with value: 2.533696703715734 and parameters: {'lora_rank': 9, 'alpha': 2.591503405583671, 'lr': 0.00019711464940924534, 'num_epochs': 1}. Best is trial 114 with value: 2.542451336809648.\n",
      "100%|██████████| 1/1 [00:00<00:00,  2.16it/s]\n",
      "[I 2024-05-28 10:05:13,176] Trial 119 finished with value: 2.124489882009932 and parameters: {'lora_rank': 11, 'alpha': 2.5768173960455902, 'lr': 0.0001600735462660291, 'num_epochs': 1}. Best is trial 114 with value: 2.542451336809648.\n",
      "100%|██████████| 1/1 [00:00<00:00,  2.14it/s]\n",
      "[I 2024-05-28 10:05:14,534] Trial 120 finished with value: 2.5132754201269774 and parameters: {'lora_rank': 9, 'alpha': 2.6738648795462154, 'lr': 0.00019611117611696209, 'num_epochs': 1}. Best is trial 114 with value: 2.542451336809648.\n",
      "100%|██████████| 1/1 [00:00<00:00,  2.14it/s]\n",
      "[I 2024-05-28 10:05:15,894] Trial 121 finished with value: 2.3859110616077053 and parameters: {'lora_rank': 9, 'alpha': 2.735239779682458, 'lr': 0.00020136372741982335, 'num_epochs': 1}. Best is trial 114 with value: 2.542451336809648.\n",
      "100%|██████████| 1/1 [00:00<00:00,  2.16it/s]\n",
      "[I 2024-05-28 10:05:17,257] Trial 122 finished with value: 2.545656087211999 and parameters: {'lora_rank': 9, 'alpha': 2.7392024166835927, 'lr': 0.00018356194348562177, 'num_epochs': 1}. Best is trial 122 with value: 2.545656087211999.\n",
      "100%|██████████| 1/1 [00:00<00:00,  2.14it/s]\n",
      "[I 2024-05-28 10:05:18,619] Trial 123 finished with value: 2.383206224875786 and parameters: {'lora_rank': 10, 'alpha': 2.767058452428345, 'lr': 0.00017813255190239172, 'num_epochs': 1}. Best is trial 122 with value: 2.545656087211999.\n",
      "100%|██████████| 1/1 [00:00<00:00,  2.15it/s]\n",
      "[I 2024-05-28 10:05:19,981] Trial 124 finished with value: 2.3412234273422308 and parameters: {'lora_rank': 11, 'alpha': 2.5949095990068543, 'lr': 0.00018526938225453345, 'num_epochs': 1}. Best is trial 122 with value: 2.545656087211999.\n",
      "100%|██████████| 1/1 [00:00<00:00,  2.15it/s]\n",
      "[I 2024-05-28 10:05:21,339] Trial 125 finished with value: 2.006098364426739 and parameters: {'lora_rank': 9, 'alpha': 2.497639954291847, 'lr': 0.0001318709041599629, 'num_epochs': 1}. Best is trial 122 with value: 2.545656087211999.\n",
      "100%|██████████| 1/1 [00:00<00:00,  2.13it/s]\n",
      "[I 2024-05-28 10:05:22,705] Trial 126 finished with value: 2.170919613931378 and parameters: {'lora_rank': 9, 'alpha': 2.7526789195555126, 'lr': 0.00015883204407773807, 'num_epochs': 1}. Best is trial 122 with value: 2.545656087211999.\n",
      "100%|██████████| 1/1 [00:00<00:00,  2.15it/s]\n",
      "[I 2024-05-28 10:05:24,064] Trial 127 finished with value: 2.0248701869317447 and parameters: {'lora_rank': 11, 'alpha': 2.7203354916712486, 'lr': 0.00019340398960390913, 'num_epochs': 1}. Best is trial 122 with value: 2.545656087211999.\n",
      "100%|██████████| 1/1 [00:00<00:00,  2.15it/s]\n"
     ]
    }
   ],
   "source": [
    "refined_test_accs_matrix = call_refined_geedy_HPO(n_trials_task_wise)"
   ]
  },
  {
   "cell_type": "code",
   "execution_count": null,
   "id": "e106f094",
   "metadata": {},
   "outputs": [
    {
     "data": {
      "image/png": "[encoded data removed]",
      "text/plain": [
       "<Figure size 640x480 with 2 Axes>"
      ]
     },
     "metadata": {},
     "output_type": "display_data"
    }
   ],
   "source": [
    "visualize_greedy_HPO_matrix(refined_test_accs_matrix, 88, savefig=False)"
   ]
  },
  {
   "cell_type": "code",
   "execution_count": null,
   "id": "a5ff6d15",
   "metadata": {},
   "outputs": [
    {
     "data": {
      "image/png": "[encoded data removed]",
      "text/plain": [
       "<Figure size 1000x600 with 2 Axes>"
      ]
     },
     "metadata": {},
     "output_type": "display_data"
    }
   ],
   "source": [
    "visualize_greedy_HPO_curve([refined_test_accs_matrix], [88], savefig=False)"
   ]
  },
  {
   "cell_type": "markdown",
   "id": "ad78466e",
   "metadata": {},
   "source": [
    "## Leaky HPO"
   ]
  },
  {
   "cell_type": "code",
   "execution_count": null,
   "id": "34330e67",
   "metadata": {},
   "outputs": [],
   "source": [
    "def define_model(model_path, params, lora_rank, alpha) :\n",
    "    num_inputs, num_hidden, num_outputs, batch_size = params\n",
    "    lora_ann_model = LoRA_ANN(lora_rank,\n",
    "                              alpha, \n",
    "                              model_path, \n",
    "                              num_inputs, \n",
    "                              num_hidden, \n",
    "                              num_outputs,\n",
    "                              batch_size,\n",
    "                              random_seed)\n",
    "\n",
    "    return lora_ann_model\n",
    "\n",
    "def objective(model_path, params, device, trial) :\n",
    "    # Set HPs\n",
    "    lr = trial.suggest_float(\"lr\", 1e-4, 3e-4)\n",
    "    num_epochs = trial.suggest_categorical(\"num_epochs\", [1]) # trial.suggest_int(\"num_epochs\", 1, 4)\n",
    "    lora_rank = trial.suggest_int(\"lora_rank\", 8, 40)\n",
    "    alpha = trial.suggest_categorical(\"alpha\", [1.8,1.9,2,2.1])\n",
    "\n",
    "    l1_sum, l2_sum = 0, 0\n",
    "    for i in range(5,10) :\n",
    "        # Define model\n",
    "        lora_ann_model = define_model(model_path, params, lora_rank, alpha).to(device)\n",
    "        \n",
    "        # Train\n",
    "        batch_size = params[-1]\n",
    "        \n",
    "        train_loader = train_loaders_list[i+1]\n",
    "\n",
    "        train_ANN(lora_ann_model, loss_name, optimizer_name, lr, train_loader, num_epochs, batch_size, device, random_seed)\n",
    "\n",
    "        # Save LoRA weights for future average\n",
    "        l1_sum += torch.mm(lora_ann_model.l1_lora_A, lora_ann_model.l1_lora_B).T\n",
    "        l2_sum += torch.mm(lora_ann_model.l2_lora_A, lora_ann_model.l2_lora_B).T\n",
    "\n",
    "        # Save model\n",
    "        if i < 9 :\n",
    "            fc1_update = lora_ann_model.model.fc1.weight #+ alpha*torch.mm(lora_ann_model.l1_lora_A, lora_ann_model.l1_lora_B).T\n",
    "            lora_ann_model.model.fc1.weight = torch.nn.Parameter(fc1_update)\n",
    "            \n",
    "            fc2_update = lora_ann_model.model.fc2.weight #+ alpha*torch.mm(lora_ann_model.l2_lora_A, lora_ann_model.l2_lora_B).T\n",
    "            lora_ann_model.model.fc2.weight = torch.nn.Parameter(fc2_update)\n",
    "        else :\n",
    "            fc1_update = lora_ann_model.model.fc1.weight + alpha*l1_sum/5\n",
    "            lora_ann_model.model.fc1.weight = torch.nn.Parameter(fc1_update)\n",
    "            \n",
    "            fc2_update = lora_ann_model.model.fc2.weight + alpha*l2_sum/5\n",
    "            lora_ann_model.model.fc2.weight = torch.nn.Parameter(fc2_update)\n",
    "        model_path = path + f\"ICL5_state_dict_digit_{i}.pth\"\n",
    "        save(model_path, lora_ann_model.model)\n",
    "\n",
    "    # Test\n",
    "    test_accs = np.zeros(10)\n",
    "    for j in range(10) :\n",
    "        test_acc = test(lora_ann_model, test_loaders_list[j+1], batch_size, device)\n",
    "        test_accs[j] = test_acc\n",
    "    \n",
    "    # Compute score\n",
    "    print(test_accs)\n",
    "    mu = np.mean(test_accs)\n",
    "    \n",
    "    return mu"
   ]
  },
  {
   "cell_type": "code",
   "execution_count": null,
   "id": "89e8cf5a",
   "metadata": {},
   "outputs": [],
   "source": [
    "def call_leaky_HPO(n_trials) :\n",
    "    # Compute scores of the model trained on the first task\n",
    "    model_path = path + \"\\\\ANN_LoRA\\\\ICL5_state_dict_digits_0_to_4.pth\"\n",
    "\n",
    "    lora_rank = 16 # The value of this parameters has no influence\n",
    "    alpha = 1.8 # The value of this parameter has no influence\n",
    "\n",
    "    lora_ann_model = LoRA_ANN(lora_rank,\n",
    "                            alpha, \n",
    "                            model_path, \n",
    "                            num_inputs, \n",
    "                            num_hidden, \n",
    "                            num_outputs, \n",
    "                            batch_size,\n",
    "                            random_seed).to(device)\n",
    "\n",
    "    # Test the model trained on digits 0 to 4\n",
    "    test_accs = np.zeros(10)\n",
    "    for j in range(5) :\n",
    "        test_acc = test(lora_ann_model, test_loaders_list[j+1], batch_size, device)\n",
    "        test_accs[j] = test_acc\n",
    "            \n",
    "    # Initialize variable to store the best HPs and the scores\n",
    "    test_accs_matrix = [test_accs]\n",
    "\n",
    "    # Perform HPO\n",
    "    storage = optuna.storages.InMemoryStorage()\n",
    "    study = optuna.create_study(storage=storage,\n",
    "                                study_name=\"The Search\",\n",
    "                                sampler=optuna.samplers.TPESampler(seed=random_seed),\n",
    "                                direction = \"maximize\")\n",
    "    \n",
    "    params = num_inputs, num_hidden, num_outputs, batch_size\n",
    "    partial_objective = partial(objective, model_path, params, device)\n",
    "    study.optimize(partial_objective,\n",
    "                   n_trials=n_trials,\n",
    "                   timeout=3600)\n",
    "    \n",
    "    # Return results of best study\n",
    "    best_trial = study.best_trial\n",
    "    best_score = best_trial.value\n",
    "    best_params = best_trial.params\n",
    "\n",
    "    # Retrain with best parameters\n",
    "    for i in range(5,10) :\n",
    "        test_accs = retrain_and_save_with_best_HPs (best_trial, i, model_path)\n",
    "        model_path = path + f\"ICL5_state_dict_digit_{i}.pth\"\n",
    "        test_accs_matrix += [test_accs]\n",
    "    \n",
    "    return test_accs_matrix"
   ]
  },
  {
   "cell_type": "code",
   "execution_count": null,
   "id": "213a61d9",
   "metadata": {},
   "outputs": [
    {
     "name": "stderr",
     "output_type": "stream",
     "text": [
      "[I 2024-05-28 11:23:52,955] A new study created in memory with name: The Search\n",
      "100%|██████████| 1/1 [00:00<00:00,  2.36it/s]\n",
      "100%|██████████| 1/1 [00:00<00:00,  2.19it/s]\n",
      "100%|██████████| 1/1 [00:00<00:00,  1.99it/s]\n",
      "100%|██████████| 1/1 [00:00<00:00,  2.17it/s]\n",
      "100%|██████████| 1/1 [00:00<00:00,  2.12it/s]\n",
      "[I 2024-05-28 11:23:56,222] Trial 0 finished with value: 48.19944642857142 and parameters: {'lr': 0.00022951020987060466, 'num_epochs': 1, 'lora_rank': 24, 'alpha': 1.9}. Best is trial 0 with value: 48.19944642857142.\n"
     ]
    },
    {
     "name": "stdout",
     "output_type": "stream",
     "text": [
      "[99.22       97.2675     98.34125    75.89285714 13.84        0.\n",
      "  0.          0.          0.         97.43285714]\n"
     ]
    },
    {
     "name": "stderr",
     "output_type": "stream",
     "text": [
      "100%|██████████| 1/1 [00:00<00:00,  2.36it/s]\n",
      "100%|██████████| 1/1 [00:00<00:00,  2.16it/s]\n",
      "100%|██████████| 1/1 [00:00<00:00,  2.04it/s]\n",
      "100%|██████████| 1/1 [00:00<00:00,  2.19it/s]\n",
      "100%|██████████| 1/1 [00:00<00:00,  2.15it/s]\n",
      "[I 2024-05-28 11:23:59,466] Trial 1 finished with value: 50.29060714285715 and parameters: {'lr': 0.00024346767641828014, 'num_epochs': 1, 'lora_rank': 15, 'alpha': 2}. Best is trial 1 with value: 50.29060714285715.\n"
     ]
    },
    {
     "name": "stdout",
     "output_type": "stream",
     "text": [
      "[99.66571429 98.7325     98.145      81.36142857 29.24142857  0.\n",
      "  0.          0.          0.         95.76      ]\n"
     ]
    },
    {
     "name": "stderr",
     "output_type": "stream",
     "text": [
      "100%|██████████| 1/1 [00:00<00:00,  2.38it/s]\n",
      "100%|██████████| 1/1 [00:00<00:00,  2.20it/s]\n",
      "100%|██████████| 1/1 [00:00<00:00,  2.04it/s]\n",
      "100%|██████████| 1/1 [00:00<00:00,  2.20it/s]\n",
      "100%|██████████| 1/1 [00:00<00:00,  2.11it/s]\n",
      "[I 2024-05-28 11:24:02,703] Trial 2 finished with value: 52.587071428571434 and parameters: {'lr': 0.00011798443893679071, 'num_epochs': 1, 'lora_rank': 36, 'alpha': 1.9}. Best is trial 2 with value: 52.587071428571434.\n"
     ]
    },
    {
     "name": "stdout",
     "output_type": "stream",
     "text": [
      "[99.88857143 99.22       98.635      98.10428571 90.62428571  0.\n",
      "  0.          0.          0.         39.39857143]\n"
     ]
    },
    {
     "name": "stderr",
     "output_type": "stream",
     "text": [
      "100%|██████████| 1/1 [00:00<00:00,  2.38it/s]\n",
      "100%|██████████| 1/1 [00:00<00:00,  2.20it/s]\n",
      "100%|██████████| 1/1 [00:00<00:00,  2.04it/s]\n",
      "100%|██████████| 1/1 [00:00<00:00,  2.21it/s]\n",
      "100%|██████████| 1/1 [00:00<00:00,  2.15it/s]\n",
      "[I 2024-05-28 11:24:05,924] Trial 3 finished with value: 52.384392857142856 and parameters: {'lr': 0.0002162891485881896, 'num_epochs': 1, 'lora_rank': 11, 'alpha': 1.8}. Best is trial 2 with value: 52.587071428571434.\n"
     ]
    },
    {
     "name": "stdout",
     "output_type": "stream",
     "text": [
      "[99.88857143 99.3175     98.635      98.10428571 84.37428571  0.\n",
      "  0.          0.          0.         43.52428571]\n"
     ]
    },
    {
     "name": "stderr",
     "output_type": "stream",
     "text": [
      "100%|██████████| 1/1 [00:00<00:00,  2.40it/s]\n",
      "100%|██████████| 1/1 [00:00<00:00,  2.18it/s]\n",
      "100%|██████████| 1/1 [00:00<00:00,  2.02it/s]\n",
      "100%|██████████| 1/1 [00:00<00:00,  2.20it/s]\n",
      "100%|██████████| 1/1 [00:00<00:00,  2.12it/s]\n",
      "[I 2024-05-28 11:24:09,166] Trial 4 finished with value: 52.461571428571425 and parameters: {'lr': 0.00013327911538634009, 'num_epochs': 1, 'lora_rank': 22, 'alpha': 1.9}. Best is trial 2 with value: 52.587071428571434.\n"
     ]
    },
    {
     "name": "stdout",
     "output_type": "stream",
     "text": [
      "[99.88857143 99.22       98.83       98.21571429 87.05428571  0.\n",
      "  0.          0.          0.         41.40714286]\n"
     ]
    },
    {
     "name": "stderr",
     "output_type": "stream",
     "text": [
      "100%|██████████| 1/1 [00:00<00:00,  2.38it/s]\n",
      "100%|██████████| 1/1 [00:00<00:00,  2.18it/s]\n",
      "100%|██████████| 1/1 [00:00<00:00,  2.02it/s]\n",
      "100%|██████████| 1/1 [00:00<00:00,  2.19it/s]\n",
      "100%|██████████| 1/1 [00:00<00:00,  2.13it/s]\n",
      "[I 2024-05-28 11:24:12,418] Trial 5 finished with value: 49.90989285714286 and parameters: {'lr': 0.00010643255647485577, 'num_epochs': 1, 'lora_rank': 34, 'alpha': 1.8}. Best is trial 2 with value: 52.587071428571434.\n"
     ]
    },
    {
     "name": "stdout",
     "output_type": "stream",
     "text": [
      "[99.88857143 99.22       98.5375     98.88571429 93.52571429  0.\n",
      "  0.          0.          0.          9.04142857]\n"
     ]
    },
    {
     "name": "stderr",
     "output_type": "stream",
     "text": [
      "100%|██████████| 1/1 [00:00<00:00,  2.39it/s]\n",
      "100%|██████████| 1/1 [00:00<00:00,  2.17it/s]\n",
      "100%|██████████| 1/1 [00:00<00:00,  2.01it/s]\n",
      "100%|██████████| 1/1 [00:00<00:00,  2.20it/s]\n",
      "100%|██████████| 1/1 [00:00<00:00,  2.12it/s]\n",
      "[I 2024-05-28 11:24:15,661] Trial 6 finished with value: 41.34066071428572 and parameters: {'lr': 0.00029572879231709977, 'num_epochs': 1, 'lora_rank': 18, 'alpha': 1.8}. Best is trial 2 with value: 52.587071428571434.\n"
     ]
    },
    {
     "name": "stdout",
     "output_type": "stream",
     "text": [
      "[90.62571429 82.61875    92.285      44.41714286  4.35142857  0.\n",
      "  0.          0.          0.         99.10857143]\n"
     ]
    },
    {
     "name": "stderr",
     "output_type": "stream",
     "text": [
      "100%|██████████| 1/1 [00:00<00:00,  2.37it/s]\n",
      "100%|██████████| 1/1 [00:00<00:00,  2.20it/s]\n",
      "100%|██████████| 1/1 [00:00<00:00,  2.00it/s]\n",
      "100%|██████████| 1/1 [00:00<00:00,  2.21it/s]\n",
      "100%|██████████| 1/1 [00:00<00:00,  2.13it/s]\n",
      "[I 2024-05-28 11:24:18,898] Trial 7 finished with value: 28.3805 and parameters: {'lr': 0.00028411059323876927, 'num_epochs': 1, 'lora_rank': 28, 'alpha': 2}. Best is trial 2 with value: 52.587071428571434.\n"
     ]
    },
    {
     "name": "stdout",
     "output_type": "stream",
     "text": [
      "[51.34142857 48.6325     74.9025      8.70571429  0.33428571  0.\n",
      "  0.          0.          0.         99.88857143]\n"
     ]
    },
    {
     "name": "stderr",
     "output_type": "stream",
     "text": [
      "100%|██████████| 1/1 [00:00<00:00,  2.39it/s]\n",
      "100%|██████████| 1/1 [00:00<00:00,  2.18it/s]\n",
      "100%|██████████| 1/1 [00:00<00:00,  2.03it/s]\n",
      "100%|██████████| 1/1 [00:00<00:00,  2.20it/s]\n",
      "100%|██████████| 1/1 [00:00<00:00,  2.14it/s]\n",
      "[I 2024-05-28 11:24:22,134] Trial 8 finished with value: 34.59391071428571 and parameters: {'lr': 0.0002636136560104354, 'num_epochs': 1, 'lora_rank': 30, 'alpha': 1.8}. Best is trial 2 with value: 52.587071428571434.\n"
     ]
    },
    {
     "name": "stdout",
     "output_type": "stream",
     "text": [
      "[66.51714286 71.38625    81.25       25.89428571  1.33714286  0.\n",
      "  0.          0.          0.         99.55428571]\n"
     ]
    },
    {
     "name": "stderr",
     "output_type": "stream",
     "text": [
      "100%|██████████| 1/1 [00:00<00:00,  2.39it/s]\n",
      "100%|██████████| 1/1 [00:00<00:00,  2.17it/s]\n",
      "100%|██████████| 1/1 [00:00<00:00,  2.02it/s]\n",
      "100%|██████████| 1/1 [00:00<00:00,  2.20it/s]\n",
      "100%|██████████| 1/1 [00:00<00:00,  2.13it/s]\n",
      "[I 2024-05-28 11:24:25,371] Trial 9 finished with value: 52.11389285714286 and parameters: {'lr': 0.0001767414825908611, 'num_epochs': 1, 'lora_rank': 32, 'alpha': 1.9}. Best is trial 2 with value: 52.587071428571434.\n"
     ]
    },
    {
     "name": "stdout",
     "output_type": "stream",
     "text": [
      "[99.88857143 99.1225     99.025      92.18714286 38.39285714  0.\n",
      "  0.          0.          0.         92.52285714]\n"
     ]
    },
    {
     "name": "stderr",
     "output_type": "stream",
     "text": [
      "100%|██████████| 1/1 [00:00<00:00,  2.38it/s]\n",
      "100%|██████████| 1/1 [00:00<00:00,  2.19it/s]\n",
      "100%|██████████| 1/1 [00:00<00:00,  2.00it/s]\n",
      "100%|██████████| 1/1 [00:00<00:00,  2.16it/s]\n",
      "100%|██████████| 1/1 [00:00<00:00,  2.14it/s]\n",
      "[I 2024-05-28 11:24:28,625] Trial 10 finished with value: 50.54716071428571 and parameters: {'lr': 0.00016703325921932198, 'num_epochs': 1, 'lora_rank': 40, 'alpha': 2.1}. Best is trial 2 with value: 52.587071428571434.\n"
     ]
    },
    {
     "name": "stdout",
     "output_type": "stream",
     "text": [
      "[99.66571429 98.73125    98.9275     87.16428571 25.55857143  0.\n",
      "  0.          0.          0.         95.42428571]\n"
     ]
    },
    {
     "name": "stderr",
     "output_type": "stream",
     "text": [
      "100%|██████████| 1/1 [00:00<00:00,  2.40it/s]\n",
      "100%|██████████| 1/1 [00:00<00:00,  2.19it/s]\n",
      "100%|██████████| 1/1 [00:00<00:00,  2.03it/s]\n",
      "100%|██████████| 1/1 [00:00<00:00,  2.20it/s]\n",
      "100%|██████████| 1/1 [00:00<00:00,  2.13it/s]\n",
      "[I 2024-05-28 11:24:31,866] Trial 11 finished with value: 49.34760714285714 and parameters: {'lr': 0.00010607437543666429, 'num_epochs': 1, 'lora_rank': 21, 'alpha': 1.9}. Best is trial 2 with value: 52.587071428571434.\n"
     ]
    },
    {
     "name": "stdout",
     "output_type": "stream",
     "text": [
      "[99.77714286 99.22       98.0475     99.10857143 97.32285714  0.\n",
      "  0.          0.          0.          0.        ]\n"
     ]
    },
    {
     "name": "stderr",
     "output_type": "stream",
     "text": [
      "100%|██████████| 1/1 [00:00<00:00,  2.33it/s]\n",
      "100%|██████████| 1/1 [00:00<00:00,  2.18it/s]\n",
      "100%|██████████| 1/1 [00:00<00:00,  1.97it/s]\n",
      "100%|██████████| 1/1 [00:00<00:00,  2.19it/s]\n",
      "100%|██████████| 1/1 [00:00<00:00,  2.12it/s]\n",
      "[I 2024-05-28 11:24:35,148] Trial 12 finished with value: 53.87842857142857 and parameters: {'lr': 0.00014410690057454679, 'num_epochs': 1, 'lora_rank': 40, 'alpha': 1.9}. Best is trial 12 with value: 53.87842857142857.\n"
     ]
    },
    {
     "name": "stdout",
     "output_type": "stream",
     "text": [
      "[99.88857143 99.3175     98.7325     97.54428571 68.86142857  0.\n",
      "  0.          0.          0.         74.44      ]\n"
     ]
    },
    {
     "name": "stderr",
     "output_type": "stream",
     "text": [
      "100%|██████████| 1/1 [00:00<00:00,  2.35it/s]\n",
      "100%|██████████| 1/1 [00:00<00:00,  2.16it/s]\n",
      "100%|██████████| 1/1 [00:00<00:00,  2.03it/s]\n",
      "100%|██████████| 1/1 [00:00<00:00,  2.16it/s]\n",
      "100%|██████████| 1/1 [00:00<00:00,  2.12it/s]\n",
      "[I 2024-05-28 11:24:38,414] Trial 13 finished with value: 53.43242857142857 and parameters: {'lr': 0.00014421811091444424, 'num_epochs': 1, 'lora_rank': 39, 'alpha': 1.9}. Best is trial 12 with value: 53.87842857142857.\n"
     ]
    },
    {
     "name": "stdout",
     "output_type": "stream",
     "text": [
      "[99.88857143 99.1225     98.9275     90.40285714 65.17857143  0.\n",
      "  0.          0.          0.         80.80428571]\n"
     ]
    },
    {
     "name": "stderr",
     "output_type": "stream",
     "text": [
      "100%|██████████| 1/1 [00:00<00:00,  2.39it/s]\n",
      "100%|██████████| 1/1 [00:00<00:00,  2.17it/s]\n",
      "100%|██████████| 1/1 [00:00<00:00,  2.02it/s]\n",
      "100%|██████████| 1/1 [00:00<00:00,  2.19it/s]\n",
      "100%|██████████| 1/1 [00:00<00:00,  1.91it/s]\n",
      "[I 2024-05-28 11:24:41,735] Trial 14 finished with value: 52.90632142857144 and parameters: {'lr': 0.0001510231195623101, 'num_epochs': 1, 'lora_rank': 40, 'alpha': 2.1}. Best is trial 12 with value: 53.87842857142857.\n"
     ]
    },
    {
     "name": "stdout",
     "output_type": "stream",
     "text": [
      "[99.77714286 99.22       98.9275     94.08571429 47.76714286  0.\n",
      "  0.          0.          0.         89.28571429]\n"
     ]
    },
    {
     "name": "stderr",
     "output_type": "stream",
     "text": [
      "100%|██████████| 1/1 [00:00<00:00,  2.35it/s]\n",
      "100%|██████████| 1/1 [00:00<00:00,  2.19it/s]\n",
      "100%|██████████| 1/1 [00:00<00:00,  1.99it/s]\n",
      "100%|██████████| 1/1 [00:00<00:00,  2.19it/s]\n",
      "100%|██████████| 1/1 [00:00<00:00,  2.13it/s]\n",
      "[I 2024-05-28 11:24:44,987] Trial 15 finished with value: 45.491839285714285 and parameters: {'lr': 0.00019401549383422963, 'num_epochs': 1, 'lora_rank': 36, 'alpha': 1.9}. Best is trial 12 with value: 53.87842857142857.\n"
     ]
    },
    {
     "name": "stdout",
     "output_type": "stream",
     "text": [
      "[98.43714286 90.7225     96.67875    56.02571429 15.06428571  0.\n",
      "  0.          0.          0.         97.99      ]\n"
     ]
    },
    {
     "name": "stderr",
     "output_type": "stream",
     "text": [
      "100%|██████████| 1/1 [00:00<00:00,  2.39it/s]\n",
      "100%|██████████| 1/1 [00:00<00:00,  2.20it/s]\n",
      "100%|██████████| 1/1 [00:00<00:00,  2.03it/s]\n",
      "100%|██████████| 1/1 [00:00<00:00,  2.18it/s]\n",
      "100%|██████████| 1/1 [00:00<00:00,  2.13it/s]\n",
      "[I 2024-05-28 11:24:48,222] Trial 16 finished with value: 53.657267857142855 and parameters: {'lr': 0.00014530347441693738, 'num_epochs': 1, 'lora_rank': 27, 'alpha': 1.9}. Best is trial 12 with value: 53.87842857142857.\n"
     ]
    },
    {
     "name": "stdout",
     "output_type": "stream",
     "text": [
      "[99.88857143 99.22       98.73125    97.21       75.67142857  0.\n",
      "  0.          0.          0.         65.85142857]\n"
     ]
    },
    {
     "name": "stderr",
     "output_type": "stream",
     "text": [
      "100%|██████████| 1/1 [00:00<00:00,  2.40it/s]\n",
      "100%|██████████| 1/1 [00:00<00:00,  2.20it/s]\n",
      "100%|██████████| 1/1 [00:00<00:00,  2.03it/s]\n",
      "100%|██████████| 1/1 [00:00<00:00,  2.19it/s]\n",
      "100%|██████████| 1/1 [00:00<00:00,  1.94it/s]\n",
      "[I 2024-05-28 11:24:51,501] Trial 17 finished with value: 49.472928571428575 and parameters: {'lr': 0.00018641194098802102, 'num_epochs': 1, 'lora_rank': 27, 'alpha': 1.9}. Best is trial 12 with value: 53.87842857142857.\n"
     ]
    },
    {
     "name": "stdout",
     "output_type": "stream",
     "text": [
      "[99.88857143 98.9275     98.9275     86.38142857 15.51428571  0.\n",
      "  0.          0.          0.         95.09      ]\n"
     ]
    },
    {
     "name": "stderr",
     "output_type": "stream",
     "text": [
      "100%|██████████| 1/1 [00:00<00:00,  2.37it/s]\n",
      "100%|██████████| 1/1 [00:00<00:00,  2.16it/s]\n",
      "100%|██████████| 1/1 [00:00<00:00,  2.00it/s]\n",
      "100%|██████████| 1/1 [00:00<00:00,  2.21it/s]\n",
      "100%|██████████| 1/1 [00:00<00:00,  2.13it/s]\n",
      "[I 2024-05-28 11:24:54,756] Trial 18 finished with value: 49.234625 and parameters: {'lr': 0.00016333988869088174, 'num_epochs': 1, 'lora_rank': 10, 'alpha': 2.1}. Best is trial 12 with value: 53.87842857142857.\n"
     ]
    },
    {
     "name": "stdout",
     "output_type": "stream",
     "text": [
      "[99.77714286 99.22       98.14625    99.10857143 95.64857143  0.\n",
      "  0.          0.          0.          0.44571429]\n"
     ]
    },
    {
     "name": "stderr",
     "output_type": "stream",
     "text": [
      "100%|██████████| 1/1 [00:00<00:00,  2.33it/s]\n",
      "100%|██████████| 1/1 [00:00<00:00,  2.20it/s]\n",
      "100%|██████████| 1/1 [00:00<00:00,  2.03it/s]\n",
      "100%|██████████| 1/1 [00:00<00:00,  2.20it/s]\n",
      "100%|██████████| 1/1 [00:00<00:00,  2.12it/s]\n",
      "[I 2024-05-28 11:24:58,010] Trial 19 finished with value: 52.49905357142857 and parameters: {'lr': 0.0001301238269921274, 'num_epochs': 1, 'lora_rank': 27, 'alpha': 2}. Best is trial 12 with value: 53.87842857142857.\n"
     ]
    },
    {
     "name": "stdout",
     "output_type": "stream",
     "text": [
      "[99.88857143 99.22       98.53625    97.88       85.15571429  0.\n",
      "  0.          0.          0.         44.31      ]\n"
     ]
    },
    {
     "name": "stderr",
     "output_type": "stream",
     "text": [
      "100%|██████████| 1/1 [00:00<00:00,  2.39it/s]\n",
      "100%|██████████| 1/1 [00:00<00:00,  2.19it/s]\n",
      "100%|██████████| 1/1 [00:00<00:00,  2.00it/s]\n",
      "100%|██████████| 1/1 [00:00<00:00,  2.18it/s]\n",
      "100%|██████████| 1/1 [00:00<00:00,  2.14it/s]\n",
      "[I 2024-05-28 11:25:01,251] Trial 20 finished with value: 53.091857142857144 and parameters: {'lr': 0.00021328616742103133, 'num_epochs': 1, 'lora_rank': 17, 'alpha': 1.9}. Best is trial 12 with value: 53.87842857142857.\n"
     ]
    },
    {
     "name": "stdout",
     "output_type": "stream",
     "text": [
      "[99.88857143 99.3175     99.1225     91.74142857 50.55857143  0.\n",
      "  0.          0.          0.         90.29      ]\n"
     ]
    },
    {
     "name": "stderr",
     "output_type": "stream",
     "text": [
      "100%|██████████| 1/1 [00:00<00:00,  2.38it/s]\n",
      "100%|██████████| 1/1 [00:00<00:00,  2.17it/s]\n",
      "100%|██████████| 1/1 [00:00<00:00,  2.02it/s]\n",
      "100%|██████████| 1/1 [00:00<00:00,  2.16it/s]\n",
      "100%|██████████| 1/1 [00:00<00:00,  2.13it/s]\n",
      "[I 2024-05-28 11:25:04,501] Trial 21 finished with value: 53.10871428571429 and parameters: {'lr': 0.0001472375918321498, 'num_epochs': 1, 'lora_rank': 37, 'alpha': 1.9}. Best is trial 12 with value: 53.87842857142857.\n"
     ]
    },
    {
     "name": "stdout",
     "output_type": "stream",
     "text": [
      "[99.88857143 99.22       98.83       91.96285714 51.11857143  0.\n",
      "  0.          0.          0.         90.06714286]\n"
     ]
    },
    {
     "name": "stderr",
     "output_type": "stream",
     "text": [
      "100%|██████████| 1/1 [00:00<00:00,  2.40it/s]\n",
      "100%|██████████| 1/1 [00:00<00:00,  2.18it/s]\n",
      "100%|██████████| 1/1 [00:00<00:00,  2.02it/s]\n",
      "100%|██████████| 1/1 [00:00<00:00,  2.19it/s]\n",
      "100%|██████████| 1/1 [00:00<00:00,  2.11it/s]\n",
      "[I 2024-05-28 11:25:07,744] Trial 22 finished with value: 54.312607142857146 and parameters: {'lr': 0.00014559647066222177, 'num_epochs': 1, 'lora_rank': 32, 'alpha': 1.9}. Best is trial 22 with value: 54.312607142857146.\n"
     ]
    },
    {
     "name": "stdout",
     "output_type": "stream",
     "text": [
      "[99.88857143 99.22       98.9275     97.76857143 82.58857143  0.\n",
      "  0.          0.          0.         64.73285714]\n"
     ]
    },
    {
     "name": "stderr",
     "output_type": "stream",
     "text": [
      "100%|██████████| 1/1 [00:00<00:00,  2.35it/s]\n",
      "100%|██████████| 1/1 [00:00<00:00,  2.18it/s]\n",
      "100%|██████████| 1/1 [00:00<00:00,  2.01it/s]\n",
      "100%|██████████| 1/1 [00:00<00:00,  2.18it/s]\n",
      "100%|██████████| 1/1 [00:00<00:00,  2.11it/s]\n",
      "[I 2024-05-28 11:25:11,006] Trial 23 finished with value: 52.14217857142857 and parameters: {'lr': 0.00012423393770639375, 'num_epochs': 1, 'lora_rank': 31, 'alpha': 1.9}. Best is trial 22 with value: 54.312607142857146.\n"
     ]
    },
    {
     "name": "stdout",
     "output_type": "stream",
     "text": [
      "[99.88857143 99.22       98.5375     98.44       88.84        0.\n",
      "  0.          0.          0.         36.49571429]\n"
     ]
    },
    {
     "name": "stderr",
     "output_type": "stream",
     "text": [
      "100%|██████████| 1/1 [00:00<00:00,  2.35it/s]\n",
      "100%|██████████| 1/1 [00:00<00:00,  2.16it/s]\n",
      "100%|██████████| 1/1 [00:00<00:00,  2.00it/s]\n",
      "100%|██████████| 1/1 [00:00<00:00,  2.14it/s]\n",
      "100%|██████████| 1/1 [00:00<00:00,  2.11it/s]\n",
      "[I 2024-05-28 11:25:14,288] Trial 24 finished with value: 53.39160714285714 and parameters: {'lr': 0.00016055309235965608, 'num_epochs': 1, 'lora_rank': 33, 'alpha': 1.9}. Best is trial 22 with value: 54.312607142857146.\n"
     ]
    },
    {
     "name": "stdout",
     "output_type": "stream",
     "text": [
      "[99.88857143 98.9275     98.83       90.51285714 53.34714286  0.\n",
      "  0.          0.          0.         92.41      ]\n"
     ]
    },
    {
     "name": "stderr",
     "output_type": "stream",
     "text": [
      "100%|██████████| 1/1 [00:00<00:00,  2.38it/s]\n",
      "100%|██████████| 1/1 [00:00<00:00,  2.20it/s]\n",
      "100%|██████████| 1/1 [00:00<00:00,  2.01it/s]\n",
      "100%|██████████| 1/1 [00:00<00:00,  2.16it/s]\n",
      "100%|██████████| 1/1 [00:00<00:00,  2.12it/s]\n",
      "[I 2024-05-28 11:25:17,539] Trial 25 finished with value: 53.54414285714286 and parameters: {'lr': 0.00013786567573532353, 'num_epochs': 1, 'lora_rank': 29, 'alpha': 1.9}. Best is trial 22 with value: 54.312607142857146.\n"
     ]
    },
    {
     "name": "stdout",
     "output_type": "stream",
     "text": [
      "[99.88857143 99.3175     98.7325     97.88142857 89.28571429  0.\n",
      "  0.          0.          0.         50.33571429]\n"
     ]
    },
    {
     "name": "stderr",
     "output_type": "stream",
     "text": [
      "100%|██████████| 1/1 [00:00<00:00,  2.39it/s]\n",
      "100%|██████████| 1/1 [00:00<00:00,  2.20it/s]\n",
      "100%|██████████| 1/1 [00:00<00:00,  2.00it/s]\n",
      "100%|██████████| 1/1 [00:00<00:00,  2.17it/s]\n",
      "100%|██████████| 1/1 [00:00<00:00,  2.09it/s]\n",
      "[I 2024-05-28 11:25:20,793] Trial 26 finished with value: 53.561821428571434 and parameters: {'lr': 0.00017833811012067674, 'num_epochs': 1, 'lora_rank': 25, 'alpha': 1.9}. Best is trial 22 with value: 54.312607142857146.\n"
     ]
    },
    {
     "name": "stdout",
     "output_type": "stream",
     "text": [
      "[99.88857143 99.22       99.1225     86.94142857 66.40571429  0.\n",
      "  0.          0.          0.         84.04      ]\n"
     ]
    },
    {
     "name": "stderr",
     "output_type": "stream",
     "text": [
      "100%|██████████| 1/1 [00:00<00:00,  2.38it/s]\n",
      "100%|██████████| 1/1 [00:00<00:00,  2.18it/s]\n",
      "100%|██████████| 1/1 [00:00<00:00,  2.00it/s]\n",
      "100%|██████████| 1/1 [00:00<00:00,  2.19it/s]\n",
      "100%|██████████| 1/1 [00:00<00:00,  2.10it/s]\n",
      "[I 2024-05-28 11:25:24,052] Trial 27 finished with value: 45.734267857142854 and parameters: {'lr': 0.00020005283122564077, 'num_epochs': 1, 'lora_rank': 34, 'alpha': 2}. Best is trial 22 with value: 54.312607142857146.\n"
     ]
    },
    {
     "name": "stdout",
     "output_type": "stream",
     "text": [
      "[98.99714286 87.10875    97.4625     71.09571429  4.35142857  0.\n",
      "  0.          0.          0.         98.32714286]\n"
     ]
    },
    {
     "name": "stderr",
     "output_type": "stream",
     "text": [
      "100%|██████████| 1/1 [00:00<00:00,  2.39it/s]\n",
      "100%|██████████| 1/1 [00:00<00:00,  2.19it/s]\n",
      "100%|██████████| 1/1 [00:00<00:00,  2.01it/s]\n",
      "100%|██████████| 1/1 [00:00<00:00,  2.07it/s]\n",
      "100%|██████████| 1/1 [00:00<00:00,  2.11it/s]\n",
      "[I 2024-05-28 11:25:27,401] Trial 28 finished with value: 54.40467857142856 and parameters: {'lr': 0.00011628036509794045, 'num_epochs': 1, 'lora_rank': 37, 'alpha': 2.1}. Best is trial 28 with value: 54.40467857142856.\n"
     ]
    },
    {
     "name": "stdout",
     "output_type": "stream",
     "text": [
      "[99.88857143 99.22       98.7325     96.31714286 79.8         0.\n",
      "  0.          0.          0.         70.08857143]\n"
     ]
    },
    {
     "name": "stderr",
     "output_type": "stream",
     "text": [
      "100%|██████████| 1/1 [00:00<00:00,  2.37it/s]\n",
      "100%|██████████| 1/1 [00:00<00:00,  2.19it/s]\n",
      "100%|██████████| 1/1 [00:00<00:00,  2.02it/s]\n",
      "100%|██████████| 1/1 [00:00<00:00,  1.99it/s]\n",
      "100%|██████████| 1/1 [00:00<00:00,  2.10it/s]\n",
      "[I 2024-05-28 11:25:30,702] Trial 29 finished with value: 52.373678571428584 and parameters: {'lr': 0.00010232248172513839, 'num_epochs': 1, 'lora_rank': 38, 'alpha': 2.1}. Best is trial 28 with value: 54.40467857142856.\n"
     ]
    },
    {
     "name": "stdout",
     "output_type": "stream",
     "text": [
      "[99.88857143 99.22       98.7325     97.65571429 88.17142857  0.\n",
      "  0.          0.          0.         40.06857143]\n"
     ]
    },
    {
     "name": "stderr",
     "output_type": "stream",
     "text": [
      "100%|██████████| 1/1 [00:00<00:00,  2.37it/s]\n",
      "100%|██████████| 1/1 [00:00<00:00,  2.17it/s]\n",
      "100%|██████████| 1/1 [00:00<00:00,  1.98it/s]\n",
      "100%|██████████| 1/1 [00:00<00:00,  2.19it/s]\n",
      "100%|██████████| 1/1 [00:00<00:00,  2.12it/s]\n"
     ]
    }
   ],
   "source": [
    "test_accs_matrix = call_leaky_HPO(30)"
   ]
  },
  {
   "cell_type": "code",
   "execution_count": null,
   "id": "0a0cc6c6",
   "metadata": {},
   "outputs": [
    {
     "data": {
      "image/png": "[encoded data removed]",
      "text/plain": [
       "<Figure size 640x480 with 2 Axes>"
      ]
     },
     "metadata": {},
     "output_type": "display_data"
    }
   ],
   "source": [
    "visualize_greedy_HPO_matrix(test_accs_matrix, 88, savefig=False)"
   ]
  },
  {
   "cell_type": "code",
   "execution_count": null,
   "id": "4c45830f",
   "metadata": {},
   "outputs": [
    {
     "data": {
      "image/png": "[encoded data removed]",
      "text/plain": [
       "<Figure size 1000x600 with 2 Axes>"
      ]
     },
     "metadata": {},
     "output_type": "display_data"
    }
   ],
   "source": [
    "visualize_greedy_HPO_curve([test_accs_matrix], [88], savefig=False)"
   ]
  },
  {
   "cell_type": "code",
   "execution_count": null,
   "id": "1f7c9f99",
   "metadata": {},
   "outputs": [],
   "source": []
  }
 ],
 "metadata": {
  "kernelspec": {
   "display_name": "Python 3 (ipykernel)",
   "language": "python",
   "name": "python3"
  },
  "language_info": {
   "codemirror_mode": {
    "name": "ipython",
    "version": 3
   },
   "file_extension": ".py",
   "mimetype": "text/x-python",
   "name": "python",
   "nbconvert_exporter": "python",
   "pygments_lexer": "ipython3",
   "version": "3.12.2"
  }
 },
 "nbformat": 4,
 "nbformat_minor": 5
}
