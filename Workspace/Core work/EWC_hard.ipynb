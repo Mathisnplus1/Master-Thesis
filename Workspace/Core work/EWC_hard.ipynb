{
 "cells": [
  {
   "cell_type": "code",
   "execution_count": 1,
   "metadata": {},
   "outputs": [],
   "source": [
    "import sys\n",
    "sys.path.append(\"Methods/EWC/old\")"
   ]
  },
  {
   "cell_type": "code",
   "execution_count": 2,
   "metadata": {},
   "outputs": [
    {
     "name": "stderr",
     "output_type": "stream",
     "text": [
      "/home/mathis/miniconda3/envs/.jax_env/lib/python3.12/site-packages/tqdm/auto.py:21: TqdmWarning: IProgress not found. Please update jupyter and ipywidgets. See https://ipywidgets.readthedocs.io/en/stable/user_install.html\n",
      "  from .autonotebook import tqdm as notebook_tqdm\n"
     ]
    }
   ],
   "source": [
    "from lib.abstract_torch import get_device, get_optimizer, get_loss\n",
    "from lib.benchmark_generator import PermutedMNIST\n",
    "from lib.models import ANN\n",
    "from lib.train import train\n",
    "from lib.test import test\n",
    "from lib.visualize import vizualize_loss_hists, visualize_accs_matrix, visualize_avg_acc_curve\n",
    "\n",
    "import os\n",
    "import numpy as np\n",
    "import matplotlib.pyplot as plt\n",
    "\n",
    "import warnings\n",
    "warnings.filterwarnings('ignore')\n",
    "\n",
    "from avalanche.training.supervised import EWC\n",
    "from avalanche.training.plugins import EWCPlugin\n",
    "from avalanche.evaluation.metrics import accuracy_metrics, loss_metrics, forgetting_metrics\n",
    "from avalanche.logging import InteractiveLogger\n",
    "from avalanche.training.plugins import EvaluationPlugin"
   ]
  },
  {
   "cell_type": "code",
   "execution_count": 3,
   "metadata": {},
   "outputs": [],
   "source": [
    "path = os.path.dirname(os.path.abspath(\"__file__\"))\n",
    "data_path = path + \"/data\""
   ]
  },
  {
   "cell_type": "code",
   "execution_count": 4,
   "metadata": {},
   "outputs": [],
   "source": [
    "device = get_device(1)"
   ]
  },
  {
   "cell_type": "markdown",
   "metadata": {},
   "source": [
    "## Set parameters"
   ]
  },
  {
   "cell_type": "code",
   "execution_count": 5,
   "metadata": {},
   "outputs": [],
   "source": [
    "# Benchmark parameter\n",
    "num_tasks = 5\n",
    "train_percentage = 0.5\n",
    "\n",
    "# EWC parameter\n",
    "ewc_lambda = 400\n",
    "\n",
    "# Data parameter\n",
    "batch_size=128\n",
    "\n",
    "# Network Architecture\n",
    "num_inputs = 28*28\n",
    "num_hidden_root = 1000\n",
    "num_outputs = 10\n",
    "\n",
    "# Train parameters\n",
    "loss_name = \"CE\"\n",
    "optimizer_name = \"Adam\"\n",
    "\n",
    "# Hyperparameters\n",
    "num_epochs = 3\n",
    "lr = 1e-3"
   ]
  },
  {
   "cell_type": "markdown",
   "metadata": {},
   "source": [
    "## Reproducibility"
   ]
  },
  {
   "cell_type": "code",
   "execution_count": 6,
   "metadata": {},
   "outputs": [],
   "source": [
    "random_seed = 88"
   ]
  },
  {
   "cell_type": "markdown",
   "metadata": {},
   "source": [
    "## Get p-MNIST benchmark"
   ]
  },
  {
   "cell_type": "code",
   "execution_count": 7,
   "metadata": {},
   "outputs": [],
   "source": [
    "benchmark = PermutedMNIST(n_experiences=num_tasks, train_percentage=train_percentage, difficulty=\"hard\", seed=random_seed)"
   ]
  },
  {
   "cell_type": "code",
   "execution_count": 8,
   "metadata": {},
   "outputs": [],
   "source": [
    "import torch"
   ]
  },
  {
   "cell_type": "code",
   "execution_count": 9,
   "metadata": {},
   "outputs": [
    {
     "name": "stdout",
     "output_type": "stream",
     "text": [
      "125832328464096\n",
      "125832328464672\n",
      "125832328465248\n",
      "125832328465824\n",
      "125832328466400\n"
     ]
    }
   ],
   "source": [
    "test_loaders_list = []\n",
    "for test_experience in benchmark.test_stream :\n",
    "        print(id(test_experience.dataset))\n",
    "        test_dataset = test_experience.dataset\n",
    "        test_data_loader = torch.utils.data.DataLoader(test_dataset, batch_size=128, shuffle=True)\n",
    "        test_loaders_list.append(test_data_loader)"
   ]
  },
  {
   "cell_type": "code",
   "execution_count": 10,
   "metadata": {},
   "outputs": [
    {
     "name": "stdout",
     "output_type": "stream",
     "text": [
      "125832328406384\n",
      "125832328410512\n",
      "125832328411472\n",
      "125832447621744\n",
      "125832328463520\n"
     ]
    }
   ],
   "source": [
    "train_loaders_list = []\n",
    "for test_experience in benchmark.train_stream :\n",
    "        print(id(test_experience.dataset))\n",
    "        test_dataset = test_experience.dataset\n",
    "        test_data_loader = torch.utils.data.DataLoader(test_dataset, batch_size=128, shuffle=True)\n",
    "        train_loaders_list.append(test_data_loader)"
   ]
  },
  {
   "cell_type": "markdown",
   "metadata": {},
   "source": [
    "## Define model"
   ]
  },
  {
   "cell_type": "code",
   "execution_count": 11,
   "metadata": {},
   "outputs": [],
   "source": [
    "model = ANN(num_inputs, num_hidden_root, num_outputs, random_seed).to(device)"
   ]
  },
  {
   "cell_type": "markdown",
   "metadata": {},
   "source": [
    "## Train with EWC"
   ]
  },
  {
   "cell_type": "code",
   "execution_count": 12,
   "metadata": {},
   "outputs": [],
   "source": [
    "optimizer = get_optimizer(optimizer_name, model)"
   ]
  },
  {
   "cell_type": "code",
   "execution_count": 13,
   "metadata": {},
   "outputs": [],
   "source": [
    "eval_plugin = EvaluationPlugin(\n",
    "    accuracy_metrics(minibatch=True, epoch=True, experience=True, stream=True, trained_experience = True),\n",
    "    loggers=[InteractiveLogger()]\n",
    ")\n",
    "\n",
    "ewc = EWC(\n",
    "    model, optimizer, criterion=get_loss(loss_name), ewc_lambda=ewc_lambda,\n",
    "    train_mb_size=batch_size, train_epochs=num_epochs, eval_mb_size=batch_size, eval_every=-1, #evaluator=eval_plugin,\n",
    "    device=device\n",
    ")"
   ]
  },
  {
   "cell_type": "markdown",
   "metadata": {},
   "source": [
    "print((ewc.plugins[0].compute_importances(model=model,\n",
    "                                       criterion=get_loss(loss_name),\n",
    "                                       optimizer=optimizer,\n",
    "                                       dataset=experience.dataset,\n",
    "                                       device=device,\n",
    "                                       batch_size=128)[\"fc1.weight\"].data> 1e-6).sum())"
   ]
  },
  {
   "cell_type": "code",
   "execution_count": 14,
   "metadata": {},
   "outputs": [
    {
     "data": {
      "text/plain": [
       "tensor([[8.0785e-08, 1.5004e-07, 4.1475e-07,  ..., 8.0528e-08, 9.3490e-07,\n",
       "         1.5463e-07],\n",
       "        [1.0948e-07, 2.3026e-07, 4.8135e-07,  ..., 1.0908e-07, 9.6608e-07,\n",
       "         3.4684e-07],\n",
       "        [1.1057e-07, 5.9118e-07, 4.5488e-07,  ..., 1.0964e-07, 1.4473e-06,\n",
       "         3.0306e-07],\n",
       "        ...,\n",
       "        [5.3860e-08, 2.4493e-07, 1.8375e-07,  ..., 5.3403e-08, 7.0856e-07,\n",
       "         7.2781e-08],\n",
       "        [4.7135e-08, 2.4047e-07, 3.2157e-07,  ..., 4.7001e-08, 4.3455e-07,\n",
       "         9.4483e-08],\n",
       "        [1.3662e-07, 4.5235e-07, 6.3668e-07,  ..., 1.3597e-07, 1.8995e-06,\n",
       "         1.9405e-07]], device='cuda:1')"
      ]
     },
     "execution_count": 14,
     "metadata": {},
     "output_type": "execute_result"
    }
   ],
   "source": [
    "experience = benchmark.train_stream[0]\n",
    "ewc.plugins[0].compute_importances(model=model,\n",
    "                                       criterion=get_loss(loss_name),\n",
    "                                       optimizer=optimizer,\n",
    "                                       dataset=experience.dataset,\n",
    "                                       device=device,\n",
    "                                       batch_size=128)[\"fc1.weight\"].data"
   ]
  },
  {
   "cell_type": "code",
   "execution_count": 15,
   "metadata": {},
   "outputs": [
    {
     "data": {
      "text/plain": [
       "defaultdict(dict, {})"
      ]
     },
     "execution_count": 15,
     "metadata": {},
     "output_type": "execute_result"
    }
   ],
   "source": [
    "ewc.plugins[0].importances"
   ]
  },
  {
   "cell_type": "code",
   "execution_count": 16,
   "metadata": {},
   "outputs": [
    {
     "name": "stdout",
     "output_type": "stream",
     "text": [
      "-- >> Start of training phase << --\n",
      "0it [00:00, ?it/s]"
     ]
    },
    {
     "name": "stdout",
     "output_type": "stream",
     "text": [
      "100%|██████████| 235/235 [00:03<00:00, 69.58it/s]\n",
      "Epoch 0 ended.\n",
      "\tLoss_Epoch/train_phase/train_stream/Task000 = 0.4232\n",
      "\tTop1_Acc_Epoch/train_phase/train_stream/Task000 = 0.8761\n",
      "100%|██████████| 235/235 [00:03<00:00, 72.21it/s]\n",
      "Epoch 1 ended.\n",
      "\tLoss_Epoch/train_phase/train_stream/Task000 = 0.1318\n",
      "\tTop1_Acc_Epoch/train_phase/train_stream/Task000 = 0.9596\n",
      "100%|██████████| 235/235 [00:03<00:00, 68.43it/s]\n",
      "Epoch 2 ended.\n",
      "\tLoss_Epoch/train_phase/train_stream/Task000 = 0.1029\n",
      "\tTop1_Acc_Epoch/train_phase/train_stream/Task000 = 0.9672\n",
      "-- >> End of training phase << --\n",
      "-- >> Start of training phase << --\n",
      "100%|██████████| 235/235 [00:03<00:00, 68.02it/s]\n",
      "Epoch 0 ended.\n",
      "\tLoss_Epoch/train_phase/train_stream/Task000 = 0.5370\n",
      "\tTop1_Acc_Epoch/train_phase/train_stream/Task000 = 0.8630\n",
      "100%|██████████| 235/235 [00:03<00:00, 68.12it/s]\n",
      "Epoch 1 ended.\n",
      "\tLoss_Epoch/train_phase/train_stream/Task000 = 0.2356\n",
      "\tTop1_Acc_Epoch/train_phase/train_stream/Task000 = 0.9516\n",
      "100%|██████████| 235/235 [00:03<00:00, 68.03it/s]\n",
      "Epoch 2 ended.\n",
      "\tLoss_Epoch/train_phase/train_stream/Task000 = 0.1917\n",
      "\tTop1_Acc_Epoch/train_phase/train_stream/Task000 = 0.9636\n",
      "-- >> End of training phase << --\n",
      "-- >> Start of training phase << --\n",
      "100%|██████████| 235/235 [00:03<00:00, 64.86it/s]\n",
      "Epoch 0 ended.\n",
      "\tLoss_Epoch/train_phase/train_stream/Task000 = 0.5588\n",
      "\tTop1_Acc_Epoch/train_phase/train_stream/Task000 = 0.8772\n",
      "100%|██████████| 235/235 [00:03<00:00, 64.62it/s]\n",
      "Epoch 1 ended.\n",
      "\tLoss_Epoch/train_phase/train_stream/Task000 = 0.2821\n",
      "\tTop1_Acc_Epoch/train_phase/train_stream/Task000 = 0.9512\n",
      "100%|██████████| 235/235 [00:03<00:00, 64.57it/s]\n",
      "Epoch 2 ended.\n",
      "\tLoss_Epoch/train_phase/train_stream/Task000 = 0.2385\n",
      "\tTop1_Acc_Epoch/train_phase/train_stream/Task000 = 0.9635\n",
      "-- >> End of training phase << --\n",
      "-- >> Start of training phase << --\n",
      "100%|██████████| 235/235 [00:03<00:00, 61.82it/s]\n",
      "Epoch 0 ended.\n",
      "\tLoss_Epoch/train_phase/train_stream/Task000 = 0.6256\n",
      "\tTop1_Acc_Epoch/train_phase/train_stream/Task000 = 0.8776\n",
      "100%|██████████| 235/235 [00:03<00:00, 63.84it/s]\n",
      "Epoch 1 ended.\n",
      "\tLoss_Epoch/train_phase/train_stream/Task000 = 0.3632\n",
      "\tTop1_Acc_Epoch/train_phase/train_stream/Task000 = 0.9473\n",
      "100%|██████████| 235/235 [00:03<00:00, 65.42it/s]\n",
      "Epoch 2 ended.\n",
      "\tLoss_Epoch/train_phase/train_stream/Task000 = 0.3168\n",
      "\tTop1_Acc_Epoch/train_phase/train_stream/Task000 = 0.9587\n",
      "-- >> End of training phase << --\n",
      "-- >> Start of training phase << --\n",
      "100%|██████████| 235/235 [00:03<00:00, 59.29it/s]\n",
      "Epoch 0 ended.\n",
      "\tLoss_Epoch/train_phase/train_stream/Task000 = 0.7017\n",
      "\tTop1_Acc_Epoch/train_phase/train_stream/Task000 = 0.8782\n",
      "100%|██████████| 235/235 [00:03<00:00, 59.01it/s]\n",
      "Epoch 1 ended.\n",
      "\tLoss_Epoch/train_phase/train_stream/Task000 = 0.4428\n",
      "\tTop1_Acc_Epoch/train_phase/train_stream/Task000 = 0.9458\n",
      "100%|██████████| 235/235 [00:03<00:00, 58.93it/s]\n",
      "Epoch 2 ended.\n",
      "\tLoss_Epoch/train_phase/train_stream/Task000 = 0.3939\n",
      "\tTop1_Acc_Epoch/train_phase/train_stream/Task000 = 0.9587\n",
      "-- >> End of training phase << --\n"
     ]
    }
   ],
   "source": [
    "test_accs_matrix = np.zeros((num_tasks, num_tasks))\n",
    "train_accs_matrix = np.zeros((num_tasks, num_tasks))\n",
    "\n",
    "for task_number, train_experience, test_experience in zip(list(range(num_tasks)), benchmark.train_stream, benchmark.test_stream) :\n",
    "    ewc.train(train_experience)\n",
    "    for j in range(num_tasks) :\n",
    "        test_accs_matrix[task_number,j] = round(test(model, test_loaders_list[j], 128, device),2)\n",
    "        train_accs_matrix[task_number,j] = round(test(model, train_loaders_list[j], 128, device),2)"
   ]
  },
  {
   "cell_type": "markdown",
   "metadata": {},
   "source": [
    "## Visualize results"
   ]
  },
  {
   "cell_type": "code",
   "execution_count": 17,
   "metadata": {},
   "outputs": [
    {
     "data": {
      "text/plain": [
       "array([[95.68,  8.05,  6.25, 11.79,  9.96],\n",
       "       [90.67, 96.  ,  9.11, 10.57, 10.2 ],\n",
       "       [85.29, 86.82, 95.98,  6.98,  9.03],\n",
       "       [83.19, 80.88, 81.55, 95.13, 11.88],\n",
       "       [79.41, 81.8 , 78.97, 89.06, 95.04]])"
      ]
     },
     "execution_count": 17,
     "metadata": {},
     "output_type": "execute_result"
    }
   ],
   "source": [
    "test_accs_matrix"
   ]
  },
  {
   "cell_type": "code",
   "execution_count": 18,
   "metadata": {},
   "outputs": [
    {
     "data": {
      "text/plain": [
       "array([[97.02,  8.72,  6.29, 12.25,  9.82],\n",
       "       [92.23, 97.46,  9.1 , 10.4 , 10.83],\n",
       "       [86.35, 87.06, 97.43,  7.39,  9.34],\n",
       "       [83.76, 80.61, 81.52, 96.86, 12.4 ],\n",
       "       [80.02, 81.13, 78.89, 89.87, 96.93]])"
      ]
     },
     "execution_count": 18,
     "metadata": {},
     "output_type": "execute_result"
    }
   ],
   "source": [
    "train_accs_matrix"
   ]
  },
  {
   "cell_type": "code",
   "execution_count": 19,
   "metadata": {},
   "outputs": [
    {
     "data": {
      "image/png": "[encoded data removed]",
      "text/plain": [
       "<Figure size 640x480 with 2 Axes>"
      ]
     },
     "metadata": {},
     "output_type": "display_data"
    },
    {
     "data": {
      "image/png": "[encoded data removed]",
      "text/plain": [
       "<Figure size 640x480 with 2 Axes>"
      ]
     },
     "metadata": {},
     "output_type": "display_data"
    }
   ],
   "source": [
    "visualize_accs_matrix(test_accs_matrix)\n",
    "visualize_accs_matrix(train_accs_matrix)"
   ]
  },
  {
   "cell_type": "code",
   "execution_count": 20,
   "metadata": {},
   "outputs": [
    {
     "data": {
      "image/png": "[encoded data removed]",
      "text/plain": [
       "<Figure size 640x480 with 1 Axes>"
      ]
     },
     "metadata": {},
     "output_type": "display_data"
    }
   ],
   "source": [
    "visualize_avg_acc_curve(test_accs_matrix)"
   ]
  },
  {
   "cell_type": "code",
   "execution_count": 21,
   "metadata": {},
   "outputs": [],
   "source": [
    "model = ANN(num_inputs, num_hidden_root, num_outputs, random_seed).to(device)\n",
    "optimizer = get_optimizer(optimizer_name, model)"
   ]
  },
  {
   "cell_type": "code",
   "execution_count": 22,
   "metadata": {},
   "outputs": [],
   "source": [
    "eval_plugin = EvaluationPlugin(\n",
    "    accuracy_metrics(minibatch=True, epoch=True, experience=True, stream=True, trained_experience = True),\n",
    "    loggers=[InteractiveLogger()]\n",
    ")\n",
    "\n",
    "ewc = EWC(\n",
    "    model, optimizer, criterion=get_loss(loss_name), ewc_lambda=ewc_lambda,\n",
    "    train_mb_size=batch_size, train_epochs=num_epochs, eval_mb_size=batch_size, evaluator=eval_plugin,\n",
    "    device=device\n",
    ")"
   ]
  },
  {
   "cell_type": "code",
   "execution_count": 23,
   "metadata": {},
   "outputs": [
    {
     "data": {
      "text/plain": [
       "0"
      ]
     },
     "execution_count": 23,
     "metadata": {},
     "output_type": "execute_result"
    }
   ],
   "source": [
    "ewc.plugins[0].importances[0]\n",
    "ewc.plugins[3].train_exp_counter"
   ]
  },
  {
   "cell_type": "code",
   "execution_count": 24,
   "metadata": {},
   "outputs": [],
   "source": [
    "#ewc.plugins[0].importances[0] = sto[0]\n",
    "#ewc.plugins[3].train_exp_counter = 1"
   ]
  },
  {
   "cell_type": "code",
   "execution_count": 25,
   "metadata": {},
   "outputs": [
    {
     "data": {
      "text/plain": [
       "0"
      ]
     },
     "execution_count": 25,
     "metadata": {},
     "output_type": "execute_result"
    }
   ],
   "source": [
    "ewc.plugins[0].importances[0]\n",
    "ewc.plugins[3].train_exp_counter"
   ]
  },
  {
   "cell_type": "code",
   "execution_count": 26,
   "metadata": {},
   "outputs": [],
   "source": [
    "ewc = EWC(\n",
    "        model=model, \n",
    "        optimizer=get_optimizer(optimizer_name, model),\n",
    "        criterion=get_loss(loss_name),\n",
    "        ewc_lambda=0,\n",
    "        train_mb_size=batch_size,\n",
    "        train_epochs=0, \n",
    "        eval_every=-1,\n",
    "        device=device\n",
    "    )"
   ]
  },
  {
   "cell_type": "code",
   "execution_count": 27,
   "metadata": {},
   "outputs": [
    {
     "data": {
      "text/plain": [
       "125831742332928"
      ]
     },
     "execution_count": 27,
     "metadata": {},
     "output_type": "execute_result"
    }
   ],
   "source": [
    "id(ewc.model)"
   ]
  },
  {
   "cell_type": "code",
   "execution_count": 28,
   "metadata": {},
   "outputs": [
    {
     "data": {
      "text/plain": [
       "0"
      ]
     },
     "execution_count": 28,
     "metadata": {},
     "output_type": "execute_result"
    }
   ],
   "source": [
    "ewc.train_epochs"
   ]
  },
  {
   "cell_type": "code",
   "execution_count": 29,
   "metadata": {},
   "outputs": [
    {
     "name": "stdout",
     "output_type": "stream",
     "text": [
      "-- >> Start of training phase << --\n",
      "  1%|          | 2/235 [00:00<00:12, 19.26it/s]"
     ]
    },
    {
     "name": "stdout",
     "output_type": "stream",
     "text": [
      "100%|██████████| 235/235 [00:03<00:00, 70.12it/s]\n",
      "Epoch 0 ended.\n",
      "\tTop1_Acc_Epoch/train_phase/train_stream/Task000 = 0.8626\n",
      "\tTop1_Acc_MB/train_phase/train_stream/Task000 = 0.9792\n",
      "100%|██████████| 235/235 [00:03<00:00, 69.81it/s]\n",
      "Epoch 1 ended.\n",
      "\tTop1_Acc_Epoch/train_phase/train_stream/Task000 = 0.9588\n",
      "\tTop1_Acc_MB/train_phase/train_stream/Task000 = 0.9792\n",
      "100%|██████████| 235/235 [00:03<00:00, 68.05it/s]\n",
      "Epoch 2 ended.\n",
      "\tTop1_Acc_Epoch/train_phase/train_stream/Task000 = 0.9684\n",
      "\tTop1_Acc_MB/train_phase/train_stream/Task000 = 0.9792\n",
      "-- >> End of training phase << --\n",
      "-- >> Start of training phase << --\n",
      "100%|██████████| 235/235 [00:03<00:00, 67.41it/s]\n",
      "Epoch 0 ended.\n",
      "\tTop1_Acc_Epoch/train_phase/train_stream/Task000 = 0.8712\n",
      "\tTop1_Acc_MB/train_phase/train_stream/Task000 = 0.9167\n",
      "100%|██████████| 235/235 [00:03<00:00, 66.81it/s]\n",
      "Epoch 1 ended.\n",
      "\tTop1_Acc_Epoch/train_phase/train_stream/Task000 = 0.9516\n",
      "\tTop1_Acc_MB/train_phase/train_stream/Task000 = 0.9792\n",
      "100%|██████████| 235/235 [00:03<00:00, 66.77it/s]\n",
      "Epoch 2 ended.\n",
      "\tTop1_Acc_Epoch/train_phase/train_stream/Task000 = 0.9651\n",
      "\tTop1_Acc_MB/train_phase/train_stream/Task000 = 0.9375\n",
      "-- >> End of training phase << --\n",
      "-- >> Start of training phase << --\n",
      "100%|██████████| 235/235 [00:03<00:00, 64.05it/s]\n",
      "Epoch 0 ended.\n",
      "\tTop1_Acc_Epoch/train_phase/train_stream/Task000 = 0.8213\n",
      "\tTop1_Acc_MB/train_phase/train_stream/Task000 = 0.8750\n",
      "100%|██████████| 235/235 [00:03<00:00, 64.15it/s]\n",
      "Epoch 1 ended.\n",
      "\tTop1_Acc_Epoch/train_phase/train_stream/Task000 = 0.9315\n",
      "\tTop1_Acc_MB/train_phase/train_stream/Task000 = 0.8958\n",
      "100%|██████████| 235/235 [00:03<00:00, 64.13it/s]\n",
      "Epoch 2 ended.\n",
      "\tTop1_Acc_Epoch/train_phase/train_stream/Task000 = 0.9497\n",
      "\tTop1_Acc_MB/train_phase/train_stream/Task000 = 0.8542\n",
      "-- >> End of training phase << --\n",
      "-- >> Start of training phase << --\n",
      "100%|██████████| 235/235 [00:03<00:00, 61.07it/s]\n",
      "Epoch 0 ended.\n",
      "\tTop1_Acc_Epoch/train_phase/train_stream/Task000 = 0.2801\n",
      "\tTop1_Acc_MB/train_phase/train_stream/Task000 = 0.4167\n",
      "100%|██████████| 235/235 [00:03<00:00, 61.42it/s]\n",
      "Epoch 1 ended.\n",
      "\tTop1_Acc_Epoch/train_phase/train_stream/Task000 = 0.5119\n",
      "\tTop1_Acc_MB/train_phase/train_stream/Task000 = 0.4167\n",
      "100%|██████████| 235/235 [00:04<00:00, 57.43it/s]\n",
      "Epoch 2 ended.\n",
      "\tTop1_Acc_Epoch/train_phase/train_stream/Task000 = 0.6557\n",
      "\tTop1_Acc_MB/train_phase/train_stream/Task000 = 0.7083\n",
      "-- >> End of training phase << --\n",
      "-- >> Start of training phase << --\n",
      "100%|██████████| 235/235 [00:03<00:00, 59.85it/s]\n",
      "Epoch 0 ended.\n",
      "\tTop1_Acc_Epoch/train_phase/train_stream/Task000 = 0.1441\n",
      "\tTop1_Acc_MB/train_phase/train_stream/Task000 = 0.1667\n",
      "100%|██████████| 235/235 [00:03<00:00, 59.82it/s]\n",
      "Epoch 1 ended.\n",
      "\tTop1_Acc_Epoch/train_phase/train_stream/Task000 = 0.1577\n",
      "\tTop1_Acc_MB/train_phase/train_stream/Task000 = 0.0625\n",
      "100%|██████████| 235/235 [00:03<00:00, 59.76it/s]\n",
      "Epoch 2 ended.\n",
      "\tTop1_Acc_Epoch/train_phase/train_stream/Task000 = 0.1802\n",
      "\tTop1_Acc_MB/train_phase/train_stream/Task000 = 0.2500\n",
      "-- >> End of training phase << --\n"
     ]
    }
   ],
   "source": [
    "sto_ewc = None\n",
    "test_accs_matrix = np.zeros((num_tasks, num_tasks))\n",
    "for task_number, train_experience in zip(list(range(num_tasks)), benchmark.train_stream) :\n",
    "    # Define the EWC Plugin\n",
    "    if task_number != 0:\n",
    "        ewc = sto_ewc\n",
    "    else :\n",
    "        ewc = EWC(\n",
    "        model, optimizer, criterion=get_loss(loss_name), ewc_lambda=ewc_lambda,\n",
    "        train_mb_size=batch_size, train_epochs=num_epochs, eval_mb_size=batch_size, evaluator=eval_plugin,\n",
    "        device=device\n",
    "        )\n",
    "    \n",
    "    if task_number == 2:\n",
    "        ewc.plugins[0].ewc_lambda = 4000000\n",
    "\n",
    "    ewc.train(train_experience)\n",
    "\n",
    "    for j in range(num_tasks) :\n",
    "        test_accs_matrix[task_number,j] = round(test(model, test_loaders_list[j], 128, device),2)\n",
    "    sto_ewc = ewc"
   ]
  },
  {
   "cell_type": "markdown",
   "metadata": {},
   "source": [
    "## Visualize results"
   ]
  },
  {
   "cell_type": "code",
   "execution_count": 30,
   "metadata": {},
   "outputs": [
    {
     "data": {
      "image/png": "[encoded data removed]",
      "text/plain": [
       "<Figure size 640x480 with 2 Axes>"
      ]
     },
     "metadata": {},
     "output_type": "display_data"
    }
   ],
   "source": [
    "visualize_accs_matrix(test_accs_matrix)"
   ]
  },
  {
   "cell_type": "code",
   "execution_count": 31,
   "metadata": {},
   "outputs": [
    {
     "data": {
      "image/png": "[encoded data removed]",
      "text/plain": [
       "<Figure size 640x480 with 1 Axes>"
      ]
     },
     "metadata": {},
     "output_type": "display_data"
    }
   ],
   "source": [
    "visualize_avg_acc_curve(test_accs_matrix)"
   ]
  },
  {
   "cell_type": "code",
   "execution_count": null,
   "metadata": {},
   "outputs": [],
   "source": []
  }
 ],
 "metadata": {
  "kernelspec": {
   "display_name": "Python 3",
   "language": "python",
   "name": "python3"
  },
  "language_info": {
   "codemirror_mode": {
    "name": "ipython",
    "version": 3
   },
   "file_extension": ".py",
   "mimetype": "text/x-python",
   "name": "python",
   "nbconvert_exporter": "python",
   "pygments_lexer": "ipython3",
   "version": "3.12.2"
  }
 },
 "nbformat": 4,
 "nbformat_minor": 2
}
