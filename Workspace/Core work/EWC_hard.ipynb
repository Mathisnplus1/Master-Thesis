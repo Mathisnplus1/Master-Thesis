{
 "cells": [
  {
   "cell_type": "code",
   "execution_count": 1,
   "metadata": {},
   "outputs": [],
   "source": [
    "import sys\n",
    "sys.path.append(\"Methods/EWC/old\")"
   ]
  },
  {
   "cell_type": "code",
   "execution_count": 2,
   "metadata": {},
   "outputs": [
    {
     "name": "stderr",
     "output_type": "stream",
     "text": [
      "/home/mathis/miniconda3/envs/.jax_env/lib/python3.12/site-packages/tqdm/auto.py:21: TqdmWarning: IProgress not found. Please update jupyter and ipywidgets. See https://ipywidgets.readthedocs.io/en/stable/user_install.html\n",
      "  from .autonotebook import tqdm as notebook_tqdm\n"
     ]
    }
   ],
   "source": [
    "from lib.abstract_torch import get_device, get_optimizer, get_loss\n",
    "from lib.benchmark_generator import PermutedMNIST\n",
    "from lib.models import ANN\n",
    "from lib.train import train\n",
    "from lib.test import test\n",
    "from lib.visualize import vizualize_loss_hists, visualize_accs_matrix, visualize_avg_acc_curve\n",
    "\n",
    "import os\n",
    "import numpy as np\n",
    "import matplotlib.pyplot as plt\n",
    "\n",
    "import warnings\n",
    "warnings.filterwarnings('ignore')\n",
    "\n",
    "from avalanche.training.supervised import EWC\n",
    "from avalanche.training.plugins import EWCPlugin\n",
    "from avalanche.evaluation.metrics import accuracy_metrics, loss_metrics, forgetting_metrics\n",
    "from avalanche.logging import InteractiveLogger\n",
    "from avalanche.training.plugins import EvaluationPlugin"
   ]
  },
  {
   "cell_type": "code",
   "execution_count": 3,
   "metadata": {},
   "outputs": [],
   "source": [
    "path = os.path.dirname(os.path.abspath(\"__file__\"))\n",
    "data_path = path + \"/data\""
   ]
  },
  {
   "cell_type": "code",
   "execution_count": 4,
   "metadata": {},
   "outputs": [],
   "source": [
    "device = get_device(1)"
   ]
  },
  {
   "cell_type": "markdown",
   "metadata": {},
   "source": [
    "## Set parameters"
   ]
  },
  {
   "cell_type": "code",
   "execution_count": 5,
   "metadata": {},
   "outputs": [],
   "source": [
    "# Benchmark parameter\n",
    "num_tasks = 3\n",
    "train_percentage = 0.3\n",
    "\n",
    "# EWC parameter\n",
    "ewc_lambda = 400\n",
    "\n",
    "# Data parameter\n",
    "batch_size=128\n",
    "\n",
    "# Network Architecture\n",
    "num_inputs = 28*28\n",
    "num_hidden_root = 1000\n",
    "num_outputs = 10\n",
    "\n",
    "# Train parameters\n",
    "loss_name = \"CE\"\n",
    "optimizer_name = \"Adam\"\n",
    "\n",
    "# Hyperparameters\n",
    "num_epochs = 3\n",
    "lr = 1e-3"
   ]
  },
  {
   "cell_type": "markdown",
   "metadata": {},
   "source": [
    "## Reproducibility"
   ]
  },
  {
   "cell_type": "code",
   "execution_count": 6,
   "metadata": {},
   "outputs": [],
   "source": [
    "random_seed = 88"
   ]
  },
  {
   "cell_type": "markdown",
   "metadata": {},
   "source": [
    "## Get p-MNIST benchmark"
   ]
  },
  {
   "cell_type": "code",
   "execution_count": 7,
   "metadata": {},
   "outputs": [],
   "source": [
    "benchmark = PermutedMNIST(n_experiences=num_tasks, train_percentage=train_percentage, difficulty=\"hard\", seed=random_seed)"
   ]
  },
  {
   "cell_type": "markdown",
   "metadata": {},
   "source": [
    "## Define model"
   ]
  },
  {
   "cell_type": "code",
   "execution_count": 8,
   "metadata": {},
   "outputs": [],
   "source": [
    "model = ANN(num_inputs, num_hidden_root, num_outputs, random_seed).to(device)"
   ]
  },
  {
   "cell_type": "markdown",
   "metadata": {},
   "source": [
    "## Train with EWC"
   ]
  },
  {
   "cell_type": "code",
   "execution_count": 9,
   "metadata": {},
   "outputs": [],
   "source": [
    "optimizer = get_optimizer(optimizer_name, model)"
   ]
  },
  {
   "cell_type": "code",
   "execution_count": 10,
   "metadata": {},
   "outputs": [],
   "source": [
    "eval_plugin = EvaluationPlugin(\n",
    "    accuracy_metrics(minibatch=True, epoch=True, experience=True, stream=True, trained_experience = True),\n",
    "    loggers=[InteractiveLogger()]\n",
    ")\n",
    "\n",
    "ewc = EWC(\n",
    "    model, optimizer, criterion=get_loss(loss_name), ewc_lambda=ewc_lambda,\n",
    "    train_mb_size=batch_size, train_epochs=num_epochs, eval_mb_size=batch_size, evaluator=eval_plugin,\n",
    "    device=device\n",
    ")"
   ]
  },
  {
   "cell_type": "markdown",
   "metadata": {},
   "source": [
    "print((ewc.plugins[0].compute_importances(model=model,\n",
    "                                       criterion=get_loss(loss_name),\n",
    "                                       optimizer=optimizer,\n",
    "                                       dataset=experience.dataset,\n",
    "                                       device=device,\n",
    "                                       batch_size=128)[\"fc1.weight\"].data> 1e-6).sum())"
   ]
  },
  {
   "cell_type": "code",
   "execution_count": 11,
   "metadata": {},
   "outputs": [
    {
     "data": {
      "text/plain": [
       "tensor([[8.0730e-08, 1.4048e-07, 4.1409e-07,  ..., 8.0626e-08, 9.1909e-07,\n",
       "         1.5157e-07],\n",
       "        [1.0740e-07, 2.2721e-07, 4.7967e-07,  ..., 1.0709e-07, 9.3812e-07,\n",
       "         3.3623e-07],\n",
       "        [1.0950e-07, 5.4087e-07, 4.5733e-07,  ..., 1.0870e-07, 1.4194e-06,\n",
       "         2.8137e-07],\n",
       "        ...,\n",
       "        [5.1850e-08, 2.3018e-07, 1.7951e-07,  ..., 5.1633e-08, 6.8149e-07,\n",
       "         6.5693e-08],\n",
       "        [4.7026e-08, 2.2223e-07, 3.1159e-07,  ..., 4.6890e-08, 4.3372e-07,\n",
       "         8.6141e-08],\n",
       "        [1.3691e-07, 4.4752e-07, 6.3682e-07,  ..., 1.3647e-07, 1.8381e-06,\n",
       "         1.7989e-07]], device='cuda:1')"
      ]
     },
     "execution_count": 11,
     "metadata": {},
     "output_type": "execute_result"
    }
   ],
   "source": [
    "experience = benchmark.train_stream[0]\n",
    "ewc.plugins[0].compute_importances(model=model,\n",
    "                                       criterion=get_loss(loss_name),\n",
    "                                       optimizer=optimizer,\n",
    "                                       dataset=experience.dataset,\n",
    "                                       device=device,\n",
    "                                       batch_size=128)[\"fc1.weight\"].data"
   ]
  },
  {
   "cell_type": "code",
   "execution_count": 12,
   "metadata": {},
   "outputs": [
    {
     "data": {
      "text/plain": [
       "defaultdict(dict, {})"
      ]
     },
     "execution_count": 12,
     "metadata": {},
     "output_type": "execute_result"
    }
   ],
   "source": [
    "ewc.plugins[0].importances"
   ]
  },
  {
   "cell_type": "code",
   "execution_count": 13,
   "metadata": {},
   "outputs": [
    {
     "name": "stdout",
     "output_type": "stream",
     "text": [
      "-- >> Start of training phase << --\n",
      "0it [00:00, ?it/s]"
     ]
    },
    {
     "name": "stdout",
     "output_type": "stream",
     "text": [
      "100%|██████████| 141/141 [00:02<00:00, 67.86it/s]\n",
      "Epoch 0 ended.\n",
      "\tTop1_Acc_Epoch/train_phase/train_stream/Task000 = 0.8372\n",
      "\tTop1_Acc_MB/train_phase/train_stream/Task000 = 0.8875\n",
      "100%|██████████| 141/141 [00:02<00:00, 69.83it/s]\n",
      "Epoch 1 ended.\n",
      "\tTop1_Acc_Epoch/train_phase/train_stream/Task000 = 0.9524\n",
      "\tTop1_Acc_MB/train_phase/train_stream/Task000 = 0.9750\n",
      "100%|██████████| 141/141 [00:02<00:00, 68.22it/s]\n",
      "Epoch 2 ended.\n",
      "\tTop1_Acc_Epoch/train_phase/train_stream/Task000 = 0.9672\n",
      "\tTop1_Acc_MB/train_phase/train_stream/Task000 = 0.9875\n",
      "-- >> End of training phase << --\n"
     ]
    }
   ],
   "source": [
    "results = []\n",
    "tr = []\n",
    "sto = []\n",
    "test_accs_matrix = np.zeros((num_tasks, num_tasks))\n",
    "for task_number, train_experience, test_experience in zip(list(range(num_tasks)), benchmark.train_stream, benchmark.test_stream) :\n",
    "    ewc.train(train_experience)\n",
    "    sto.append(ewc.plugins[0].importances[0])\n",
    "    break\n",
    "    #results.append(ewc.eval(test_experience))\n",
    "    #test_dataset = test_experience.dataset\n",
    "    #test_data_loader = torch.utils.data.DataLoader(test_dataset, batch_size=128, shuffle=True)\n",
    "    #tr.append(test(model, test_data_loader, batch_size, device=device))\n",
    "    #for j in range(num_tasks) :\n",
    "    #        test_accs_matrix[task_number,j] = round(test(model, test_loaders_list[j], device),2)"
   ]
  },
  {
   "cell_type": "code",
   "execution_count": 14,
   "metadata": {},
   "outputs": [
    {
     "data": {
      "text/plain": [
       "tensor([3.1795e-08, 6.9682e-08, 8.3742e-08, 1.1824e-07, 2.3849e-07],\n",
       "       device='cuda:1')"
      ]
     },
     "execution_count": 14,
     "metadata": {},
     "output_type": "execute_result"
    }
   ],
   "source": [
    "sto[0][\"fc1.weight\"].data[0,:5]"
   ]
  },
  {
   "cell_type": "code",
   "execution_count": 15,
   "metadata": {},
   "outputs": [],
   "source": [
    "eval_plugin = EvaluationPlugin(\n",
    "    accuracy_metrics(minibatch=True, epoch=True, experience=True, stream=True, trained_experience = True),\n",
    "    loggers=[InteractiveLogger()]\n",
    ")\n",
    "\n",
    "ewc = EWC(\n",
    "    model, optimizer, criterion=get_loss(loss_name), ewc_lambda=ewc_lambda,\n",
    "    train_mb_size=batch_size, train_epochs=num_epochs, eval_mb_size=batch_size, evaluator=eval_plugin,\n",
    "    device=device\n",
    ")"
   ]
  },
  {
   "cell_type": "code",
   "execution_count": 16,
   "metadata": {},
   "outputs": [
    {
     "data": {
      "text/plain": [
       "0"
      ]
     },
     "execution_count": 16,
     "metadata": {},
     "output_type": "execute_result"
    }
   ],
   "source": [
    "ewc.plugins[0].importances[0]\n",
    "ewc.plugins[3].train_exp_counter"
   ]
  },
  {
   "cell_type": "code",
   "execution_count": 17,
   "metadata": {},
   "outputs": [],
   "source": [
    "ewc.plugins[0].importances[0] = sto[0]\n",
    "ewc.plugins[3].train_exp_counter = 1"
   ]
  },
  {
   "cell_type": "code",
   "execution_count": 18,
   "metadata": {},
   "outputs": [
    {
     "data": {
      "text/plain": [
       "1"
      ]
     },
     "execution_count": 18,
     "metadata": {},
     "output_type": "execute_result"
    }
   ],
   "source": [
    "ewc.plugins[0].importances[0]\n",
    "ewc.plugins[3].train_exp_counter"
   ]
  },
  {
   "cell_type": "code",
   "execution_count": 19,
   "metadata": {},
   "outputs": [
    {
     "name": "stdout",
     "output_type": "stream",
     "text": [
      "-- >> Start of training phase << --\n",
      "  9%|▉         | 13/141 [00:00<00:02, 56.90it/s]"
     ]
    },
    {
     "name": "stdout",
     "output_type": "stream",
     "text": [
      "100%|██████████| 141/141 [00:02<00:00, 70.15it/s]\n",
      "Epoch 0 ended.\n",
      "\tTop1_Acc_Epoch/train_phase/train_stream/Task000 = 0.8508\n",
      "\tTop1_Acc_MB/train_phase/train_stream/Task000 = 0.8625\n",
      "100%|██████████| 141/141 [00:01<00:00, 70.62it/s]\n",
      "Epoch 1 ended.\n",
      "\tTop1_Acc_Epoch/train_phase/train_stream/Task000 = 0.9456\n",
      "\tTop1_Acc_MB/train_phase/train_stream/Task000 = 0.9875\n",
      "100%|██████████| 141/141 [00:02<00:00, 70.37it/s]\n",
      "Epoch 2 ended.\n",
      "\tTop1_Acc_Epoch/train_phase/train_stream/Task000 = 0.9652\n",
      "\tTop1_Acc_MB/train_phase/train_stream/Task000 = 0.9500\n",
      "-- >> End of training phase << --\n",
      "-- >> Start of training phase << --\n",
      "100%|██████████| 141/141 [00:02<00:00, 68.52it/s]\n",
      "Epoch 0 ended.\n",
      "\tTop1_Acc_Epoch/train_phase/train_stream/Task000 = 0.8578\n",
      "\tTop1_Acc_MB/train_phase/train_stream/Task000 = 0.9000\n",
      "100%|██████████| 141/141 [00:02<00:00, 67.44it/s]\n",
      "Epoch 1 ended.\n",
      "\tTop1_Acc_Epoch/train_phase/train_stream/Task000 = 0.9458\n",
      "\tTop1_Acc_MB/train_phase/train_stream/Task000 = 0.9375\n",
      "100%|██████████| 141/141 [00:02<00:00, 67.41it/s]\n",
      "Epoch 2 ended.\n",
      "\tTop1_Acc_Epoch/train_phase/train_stream/Task000 = 0.9578\n",
      "\tTop1_Acc_MB/train_phase/train_stream/Task000 = 0.9250\n",
      "-- >> End of training phase << --\n"
     ]
    }
   ],
   "source": [
    "resto = []\n",
    "for task_number, train_experience, test_experience in zip(list(range(num_tasks)), benchmark.train_stream, benchmark.test_stream) :\n",
    "    if task_number != 0:\n",
    "        ewc.train(train_experience)\n",
    "        resto.append(ewc.plugins[0].importances)"
   ]
  },
  {
   "cell_type": "code",
   "execution_count": 24,
   "metadata": {},
   "outputs": [
    {
     "data": {
      "text/plain": [
       "tensor([3.1795e-08, 6.9682e-08, 8.3742e-08, 1.1824e-07, 2.3849e-07],\n",
       "       device='cuda:1')"
      ]
     },
     "execution_count": 24,
     "metadata": {},
     "output_type": "execute_result"
    }
   ],
   "source": [
    "resto[0][0][\"fc1.weight\"].data[0,:5]"
   ]
  },
  {
   "cell_type": "markdown",
   "metadata": {},
   "source": [
    "## Visualize results"
   ]
  },
  {
   "cell_type": "code",
   "execution_count": 21,
   "metadata": {},
   "outputs": [],
   "source": [
    "test_accs_matrix = np.zeros((num_tasks,num_tasks))\n",
    "for i,r in enumerate(results) :\n",
    "    for j in range(num_tasks) :\n",
    "        test_accs_matrix[i][j] = r[f'Top1_Acc_Exp/eval_phase/test_stream/Task000/Exp00{j}']*100"
   ]
  },
  {
   "cell_type": "code",
   "execution_count": 22,
   "metadata": {},
   "outputs": [
    {
     "data": {
      "image/png": "[encoded data removed]",
      "text/plain": [
       "<Figure size 640x480 with 2 Axes>"
      ]
     },
     "metadata": {},
     "output_type": "display_data"
    }
   ],
   "source": [
    "visualize_accs_matrix(test_accs_matrix)"
   ]
  },
  {
   "cell_type": "code",
   "execution_count": 23,
   "metadata": {},
   "outputs": [
    {
     "data": {
      "image/png": "[encoded data removed]",
      "text/plain": [
       "<Figure size 640x480 with 1 Axes>"
      ]
     },
     "metadata": {},
     "output_type": "display_data"
    }
   ],
   "source": [
    "visualize_avg_acc_curve(test_accs_matrix)"
   ]
  },
  {
   "cell_type": "code",
   "execution_count": null,
   "metadata": {},
   "outputs": [],
   "source": []
  }
 ],
 "metadata": {
  "kernelspec": {
   "display_name": "Python 3",
   "language": "python",
   "name": "python3"
  },
  "language_info": {
   "codemirror_mode": {
    "name": "ipython",
    "version": 3
   },
   "file_extension": ".py",
   "mimetype": "text/x-python",
   "name": "python",
   "nbconvert_exporter": "python",
   "pygments_lexer": "ipython3",
   "version": "3.12.2"
  }
 },
 "nbformat": 4,
 "nbformat_minor": 2
}
