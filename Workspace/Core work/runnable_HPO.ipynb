{
 "cells": [
  {
   "cell_type": "code",
   "execution_count": 1,
   "metadata": {},
   "outputs": [],
   "source": [
    "# Comment the following cell if running through the command :\n",
    "# papermill runnable_HPO.ipynb executed_HPO.ipynb -f params_for_HPO.yaml --kernel jupyter.jax_env"
   ]
  },
  {
   "cell_type": "code",
   "execution_count": 2,
   "metadata": {},
   "outputs": [],
   "source": [
    "global_seed = 88\n",
    "save_results = True\n",
    "# Parameters specfific to the benchmark\n",
    "benchmark_settings = {\"benchmark_name\" : \"pMNIST_via_torch\",\n",
    "                      \"difficulty\" : \"easy\",\n",
    "                      \"num_tasks\" : 10,\n",
    "                      \"train_percentage\" : 0.8,\n",
    "                      \"num_val_benchmarks\" : 5,\n",
    "                      \"batch_size\" : 128}\n",
    "\n",
    "# Parameters specific to the method\n",
    "method_settings = {\"method_name\" : \"Naive baseline\",\n",
    "                   \"grow_from\" : \"output\",\n",
    "                   \"hessian_percentile\" : 95,\n",
    "                   \"grad_percentile\" : 95,\n",
    "                   \"num_inputs\" : 28*28,\n",
    "                   \"num_hidden_root\" : 100,\n",
    "                   \"num_outputs\" : 10,\n",
    "                   \"loss_name\" : \"CE\",\n",
    "                   \"optimizer_name\" : \"Adam\"}\n",
    "\n",
    "# Parameters specific to HPO\n",
    "HPO_settings = {\"HPO_name\" : \"greedy_HPO\",\n",
    "                \"n_trials\" : 5,\n",
    "                \"lr\" : (5e-5, 2e-3),\n",
    "                \"num_epochs\" : (2, 6)}\n",
    "                #\"ewc_lambda\" : (200,1000)}\n",
    "                #\"lwf_alpha\" : None, #(0.1, 0.9),\n",
    "                #\"lwf_temperature\" : None} #(1, 3)\n",
    "\n",
    "# Parameters specific to the visualization\n",
    "visualization_settings = {\"savefig\" : True,\n",
    "                          \"visualize_accs_matrix\" : True,\n",
    "                          \"visualize_avg_acc_curve\" : True,\n",
    "                          \"visualize_best_params\" : True,\n",
    "                          \"visualize_val_accs_matrix\" : True,\n",
    "                          \"visualize_accuracy_through_benchmarks\" : True,\n",
    "                          \"visualize_violin\" : True}"
   ]
  },
  {
   "cell_type": "code",
   "execution_count": 3,
   "metadata": {},
   "outputs": [],
   "source": [
    "import sys\n",
    "import os\n",
    "import numpy as np\n",
    "import warnings\n",
    "warnings.filterwarnings('ignore')\n",
    "\n",
    "sys.path.append(\"Methods/\" + method_settings[\"method_name\"])\n",
    "sys.path.append(\"HPO_lib\")\n",
    "sys.path.append(\"HPO_lib/benchmark_loaders\")\n",
    "\n",
    "\n",
    "path = os.path.dirname(os.path.abspath(\"__file__\"))\n",
    "data_path = path + \"/data\""
   ]
  },
  {
   "cell_type": "markdown",
   "metadata": {},
   "source": [
    "## Imports"
   ]
  },
  {
   "cell_type": "code",
   "execution_count": 4,
   "metadata": {},
   "outputs": [],
   "source": [
    "from HPO_lib.abstract_torch import get_device\n",
    "from HPO_lib.get_benchmarks import get_benchmarks\n",
    "from HPO_lib.run_HPO import run_HPO\n",
    "from HPO_lib.validation import validate\n",
    "from HPO_lib.visualize import visualize_HPO, visualize_validation"
   ]
  },
  {
   "cell_type": "code",
   "execution_count": 5,
   "metadata": {},
   "outputs": [],
   "source": [
    "device = get_device(1)"
   ]
  },
  {
   "cell_type": "markdown",
   "metadata": {},
   "source": [
    "## Get benchmarks"
   ]
  },
  {
   "cell_type": "code",
   "execution_count": 6,
   "metadata": {},
   "outputs": [],
   "source": [
    "benchmarks_list = get_benchmarks(benchmark_settings, global_seed)"
   ]
  },
  {
   "cell_type": "markdown",
   "metadata": {},
   "source": [
    "## Run HPO"
   ]
  },
  {
   "cell_type": "code",
   "execution_count": 7,
   "metadata": {},
   "outputs": [
    {
     "name": "stderr",
     "output_type": "stream",
     "text": [
      "[I 2024-07-10 15:07:05,029] A new study created in memory with name: Search number 1\n"
     ]
    },
    {
     "name": "stdout",
     "output_type": "stream",
     "text": [
      "\n",
      "--------------------------------------------------\n",
      "LEARNING TASK 1\n"
     ]
    },
    {
     "name": "stderr",
     "output_type": "stream",
     "text": [
      "100%|██████████| 4/4 [00:26<00:00,  6.53s/it]\n",
      "[I 2024-07-10 15:07:32,792] Trial 0 finished with value: 95.95956989247314 and parameters: {'lr': 0.0013127245462383958, 'num_epochs': 4}. Best is trial 0 with value: 95.95956989247314.\n",
      "100%|██████████| 6/6 [00:38<00:00,  6.40s/it]\n",
      "[I 2024-07-10 15:08:12,732] Trial 1 finished with value: 96.23731182795699 and parameters: {'lr': 0.001080265691296867, 'num_epochs': 6}. Best is trial 1 with value: 96.23731182795699.\n",
      "100%|██████████| 5/5 [00:33<00:00,  6.72s/it]\n",
      "[I 2024-07-10 15:08:47,951] Trial 2 finished with value: 96.24591397849461 and parameters: {'lr': 0.0014149828218016016, 'num_epochs': 5}. Best is trial 2 with value: 96.24591397849461.\n",
      "100%|██████████| 3/3 [00:19<00:00,  6.46s/it]\n",
      "[I 2024-07-10 15:09:08,833] Trial 3 finished with value: 95.50569892473119 and parameters: {'lr': 0.0014488098450782315, 'num_epochs': 3}. Best is trial 2 with value: 96.24591397849461.\n",
      "100%|██████████| 4/4 [00:26<00:00,  6.53s/it]\n",
      "[I 2024-07-10 15:09:36,554] Trial 4 finished with value: 93.53956989247312 and parameters: {'lr': 0.00039155132048184497, 'num_epochs': 4}. Best is trial 2 with value: 96.24591397849461.\n"
     ]
    },
    {
     "name": "stdout",
     "output_type": "stream",
     "text": [
      "Number of frozen neurons : 0.0\n",
      "Number of trainable neurons : 100\n"
     ]
    },
    {
     "name": "stderr",
     "output_type": "stream",
     "text": [
      "100%|██████████| 5/5 [00:32<00:00,  6.42s/it]\n",
      "[I 2024-07-10 15:10:21,652] A new study created in memory with name: Search number 2\n"
     ]
    },
    {
     "name": "stdout",
     "output_type": "stream",
     "text": [
      "\n",
      "--------------------------------------------------\n",
      "LEARNING TASK 2\n"
     ]
    },
    {
     "name": "stderr",
     "output_type": "stream",
     "text": [
      "100%|██████████| 4/4 [00:26<00:00,  6.65s/it]\n",
      "[I 2024-07-10 15:10:51,473] Trial 0 finished with value: 96.54881720430106 and parameters: {'lr': 0.0013127245462383958, 'num_epochs': 4}. Best is trial 0 with value: 96.54881720430106.\n",
      "100%|██████████| 6/6 [00:37<00:00,  6.25s/it]\n",
      "[I 2024-07-10 15:11:32,018] Trial 1 finished with value: 96.70440860215054 and parameters: {'lr': 0.001080265691296867, 'num_epochs': 6}. Best is trial 1 with value: 96.70440860215054.\n",
      "100%|██████████| 5/5 [00:33<00:00,  6.63s/it]\n",
      "[I 2024-07-10 15:12:08,330] Trial 2 finished with value: 96.7041397849462 and parameters: {'lr': 0.0014149828218016016, 'num_epochs': 5}. Best is trial 1 with value: 96.70440860215054.\n",
      "100%|██████████| 3/3 [00:19<00:00,  6.34s/it]\n",
      "[I 2024-07-10 15:12:30,313] Trial 3 finished with value: 96.54424731182795 and parameters: {'lr': 0.0014488098450782315, 'num_epochs': 3}. Best is trial 1 with value: 96.70440860215054.\n",
      "100%|██████████| 4/4 [00:26<00:00,  6.61s/it]\n",
      "[I 2024-07-10 15:13:00,079] Trial 4 finished with value: 96.39725806451614 and parameters: {'lr': 0.00039155132048184497, 'num_epochs': 4}. Best is trial 1 with value: 96.70440860215054.\n"
     ]
    },
    {
     "name": "stdout",
     "output_type": "stream",
     "text": [
      "Number of frozen neurons : 100\n",
      "Number of trainable neurons : 100\n"
     ]
    },
    {
     "name": "stderr",
     "output_type": "stream",
     "text": [
      "100%|██████████| 6/6 [00:39<00:00,  6.59s/it]\n",
      "[I 2024-07-10 15:13:51,899] A new study created in memory with name: Search number 3\n"
     ]
    },
    {
     "name": "stdout",
     "output_type": "stream",
     "text": [
      "\n",
      "--------------------------------------------------\n",
      "LEARNING TASK 3\n"
     ]
    },
    {
     "name": "stderr",
     "output_type": "stream",
     "text": [
      "100%|██████████| 4/4 [00:26<00:00,  6.51s/it]\n",
      "[I 2024-07-10 15:14:22,643] Trial 0 finished with value: 96.39415770609317 and parameters: {'lr': 0.0013127245462383958, 'num_epochs': 4}. Best is trial 0 with value: 96.39415770609317.\n",
      "100%|██████████| 6/6 [00:39<00:00,  6.60s/it]\n",
      "[I 2024-07-10 15:15:06,881] Trial 1 finished with value: 96.51491039426521 and parameters: {'lr': 0.001080265691296867, 'num_epochs': 6}. Best is trial 1 with value: 96.51491039426521.\n",
      "100%|██████████| 5/5 [00:31<00:00,  6.34s/it]\n",
      "[I 2024-07-10 15:15:43,038] Trial 2 finished with value: 96.4248028673835 and parameters: {'lr': 0.0014149828218016016, 'num_epochs': 5}. Best is trial 1 with value: 96.51491039426521.\n",
      "100%|██████████| 3/3 [00:18<00:00,  6.21s/it]\n",
      "[I 2024-07-10 15:16:06,138] Trial 3 finished with value: 96.38587813620074 and parameters: {'lr': 0.0014488098450782315, 'num_epochs': 3}. Best is trial 1 with value: 96.51491039426521.\n",
      "100%|██████████| 4/4 [00:24<00:00,  6.22s/it]\n",
      "[I 2024-07-10 15:16:35,441] Trial 4 finished with value: 96.53422939068098 and parameters: {'lr': 0.00039155132048184497, 'num_epochs': 4}. Best is trial 4 with value: 96.53422939068098.\n"
     ]
    },
    {
     "name": "stdout",
     "output_type": "stream",
     "text": [
      "Number of frozen neurons : 200\n",
      "Number of trainable neurons : 100\n"
     ]
    },
    {
     "name": "stderr",
     "output_type": "stream",
     "text": [
      "100%|██████████| 4/4 [00:24<00:00,  6.22s/it]\n",
      "[I 2024-07-10 15:17:12,654] A new study created in memory with name: Search number 4\n"
     ]
    },
    {
     "name": "stdout",
     "output_type": "stream",
     "text": [
      "\n",
      "--------------------------------------------------\n",
      "LEARNING TASK 4\n"
     ]
    },
    {
     "name": "stderr",
     "output_type": "stream",
     "text": [
      "100%|██████████| 4/4 [00:25<00:00,  6.26s/it]\n",
      "[I 2024-07-10 15:17:43,653] Trial 0 finished with value: 96.28782258064517 and parameters: {'lr': 0.0013127245462383958, 'num_epochs': 4}. Best is trial 0 with value: 96.28782258064517.\n",
      "100%|██████████| 6/6 [00:37<00:00,  6.27s/it]\n",
      "[I 2024-07-10 15:18:27,249] Trial 1 finished with value: 96.28983870967743 and parameters: {'lr': 0.001080265691296867, 'num_epochs': 6}. Best is trial 1 with value: 96.28983870967743.\n",
      "100%|██████████| 5/5 [00:32<00:00,  6.56s/it]\n",
      "[I 2024-07-10 15:19:06,313] Trial 2 finished with value: 96.25215053763442 and parameters: {'lr': 0.0014149828218016016, 'num_epochs': 5}. Best is trial 1 with value: 96.28983870967743.\n",
      "100%|██████████| 3/3 [00:19<00:00,  6.55s/it]\n",
      "[I 2024-07-10 15:19:32,243] Trial 3 finished with value: 96.28986559139787 and parameters: {'lr': 0.0014488098450782315, 'num_epochs': 3}. Best is trial 3 with value: 96.28986559139787.\n",
      "100%|██████████| 4/4 [00:25<00:00,  6.45s/it]\n",
      "[I 2024-07-10 15:20:04,292] Trial 4 finished with value: 96.30440860215053 and parameters: {'lr': 0.00039155132048184497, 'num_epochs': 4}. Best is trial 4 with value: 96.30440860215053.\n"
     ]
    },
    {
     "name": "stdout",
     "output_type": "stream",
     "text": [
      "Number of frozen neurons : 300\n",
      "Number of trainable neurons : 100\n"
     ]
    },
    {
     "name": "stderr",
     "output_type": "stream",
     "text": [
      "100%|██████████| 4/4 [00:26<00:00,  6.58s/it]\n",
      "[I 2024-07-10 15:20:43,604] A new study created in memory with name: Search number 5\n"
     ]
    },
    {
     "name": "stdout",
     "output_type": "stream",
     "text": [
      "\n",
      "--------------------------------------------------\n",
      "LEARNING TASK 5\n"
     ]
    },
    {
     "name": "stderr",
     "output_type": "stream",
     "text": [
      "100%|██████████| 4/4 [00:26<00:00,  6.57s/it]\n",
      "[I 2024-07-10 15:21:17,300] Trial 0 finished with value: 95.91427956989246 and parameters: {'lr': 0.0013127245462383958, 'num_epochs': 4}. Best is trial 0 with value: 95.91427956989246.\n",
      "100%|██████████| 6/6 [00:37<00:00,  6.27s/it]\n",
      "[I 2024-07-10 15:22:02,351] Trial 1 finished with value: 95.89587096774196 and parameters: {'lr': 0.001080265691296867, 'num_epochs': 6}. Best is trial 0 with value: 95.91427956989246.\n",
      "100%|██████████| 5/5 [00:32<00:00,  6.45s/it]\n",
      "[I 2024-07-10 15:22:42,482] Trial 2 finished with value: 95.78348387096779 and parameters: {'lr': 0.0014149828218016016, 'num_epochs': 5}. Best is trial 0 with value: 95.91427956989246.\n",
      "100%|██████████| 3/3 [00:19<00:00,  6.62s/it]\n",
      "[I 2024-07-10 15:23:10,230] Trial 3 finished with value: 95.80546236559141 and parameters: {'lr': 0.0014488098450782315, 'num_epochs': 3}. Best is trial 0 with value: 95.91427956989246.\n",
      "100%|██████████| 4/4 [00:26<00:00,  6.70s/it]\n",
      "[I 2024-07-10 15:23:45,230] Trial 4 finished with value: 96.10963440860216 and parameters: {'lr': 0.00039155132048184497, 'num_epochs': 4}. Best is trial 4 with value: 96.10963440860216.\n"
     ]
    },
    {
     "name": "stdout",
     "output_type": "stream",
     "text": [
      "Number of frozen neurons : 400\n",
      "Number of trainable neurons : 100\n"
     ]
    },
    {
     "name": "stderr",
     "output_type": "stream",
     "text": [
      "100%|██████████| 4/4 [00:26<00:00,  6.51s/it]\n",
      "[I 2024-07-10 15:24:24,222] A new study created in memory with name: Search number 6\n"
     ]
    },
    {
     "name": "stdout",
     "output_type": "stream",
     "text": [
      "\n",
      "--------------------------------------------------\n",
      "LEARNING TASK 6\n"
     ]
    },
    {
     "name": "stderr",
     "output_type": "stream",
     "text": [
      "100%|██████████| 4/4 [00:26<00:00,  6.62s/it]\n",
      "[I 2024-07-10 15:25:00,113] Trial 0 finished with value: 95.74982078853047 and parameters: {'lr': 0.0013127245462383958, 'num_epochs': 4}. Best is trial 0 with value: 95.74982078853047.\n",
      "100%|██████████| 6/6 [00:39<00:00,  6.51s/it]\n",
      "[I 2024-07-10 15:25:48,662] Trial 1 finished with value: 95.86338709677422 and parameters: {'lr': 0.001080265691296867, 'num_epochs': 6}. Best is trial 1 with value: 95.86338709677422.\n",
      "100%|██████████| 5/5 [00:34<00:00,  6.80s/it]\n",
      "[I 2024-07-10 15:26:32,293] Trial 2 finished with value: 95.68136200716846 and parameters: {'lr': 0.0014149828218016016, 'num_epochs': 5}. Best is trial 1 with value: 95.86338709677422.\n",
      "100%|██████████| 3/3 [00:19<00:00,  6.38s/it]\n",
      "[I 2024-07-10 15:27:00,400] Trial 3 finished with value: 95.56189964157709 and parameters: {'lr': 0.0014488098450782315, 'num_epochs': 3}. Best is trial 1 with value: 95.86338709677422.\n",
      "100%|██████████| 4/4 [00:25<00:00,  6.29s/it]\n",
      "[I 2024-07-10 15:27:34,488] Trial 4 finished with value: 95.9347311827957 and parameters: {'lr': 0.00039155132048184497, 'num_epochs': 4}. Best is trial 4 with value: 95.9347311827957.\n"
     ]
    },
    {
     "name": "stdout",
     "output_type": "stream",
     "text": [
      "Number of frozen neurons : 500\n",
      "Number of trainable neurons : 100\n"
     ]
    },
    {
     "name": "stderr",
     "output_type": "stream",
     "text": [
      "100%|██████████| 4/4 [00:25<00:00,  6.31s/it]\n",
      "[I 2024-07-10 15:28:12,194] A new study created in memory with name: Search number 7\n"
     ]
    },
    {
     "name": "stdout",
     "output_type": "stream",
     "text": [
      "\n",
      "--------------------------------------------------\n",
      "LEARNING TASK 7\n"
     ]
    },
    {
     "name": "stderr",
     "output_type": "stream",
     "text": [
      "100%|██████████| 4/4 [00:25<00:00,  6.34s/it]\n",
      "[I 2024-07-10 15:28:48,069] Trial 0 finished with value: 95.37511520737328 and parameters: {'lr': 0.0013127245462383958, 'num_epochs': 4}. Best is trial 0 with value: 95.37511520737328.\n",
      "100%|██████████| 6/6 [00:38<00:00,  6.42s/it]\n",
      "[I 2024-07-10 15:29:37,191] Trial 1 finished with value: 95.2862365591398 and parameters: {'lr': 0.001080265691296867, 'num_epochs': 6}. Best is trial 0 with value: 95.37511520737328.\n",
      "100%|██████████| 5/5 [00:32<00:00,  6.45s/it]\n",
      "[I 2024-07-10 15:30:20,151] Trial 2 finished with value: 95.31883256528417 and parameters: {'lr': 0.0014149828218016016, 'num_epochs': 5}. Best is trial 0 with value: 95.37511520737328.\n",
      "100%|██████████| 3/3 [00:19<00:00,  6.38s/it]\n",
      "[I 2024-07-10 15:30:50,155] Trial 3 finished with value: 95.14460829493089 and parameters: {'lr': 0.0014488098450782315, 'num_epochs': 3}. Best is trial 0 with value: 95.37511520737328.\n",
      "100%|██████████| 4/4 [00:26<00:00,  6.60s/it]\n",
      "[I 2024-07-10 15:31:27,979] Trial 4 finished with value: 95.71947772657452 and parameters: {'lr': 0.00039155132048184497, 'num_epochs': 4}. Best is trial 4 with value: 95.71947772657452.\n"
     ]
    },
    {
     "name": "stdout",
     "output_type": "stream",
     "text": [
      "Number of frozen neurons : 600\n",
      "Number of trainable neurons : 100\n"
     ]
    },
    {
     "name": "stderr",
     "output_type": "stream",
     "text": [
      "100%|██████████| 4/4 [00:27<00:00,  6.79s/it]\n",
      "[I 2024-07-10 15:32:07,873] A new study created in memory with name: Search number 8\n"
     ]
    },
    {
     "name": "stdout",
     "output_type": "stream",
     "text": [
      "\n",
      "--------------------------------------------------\n",
      "LEARNING TASK 8\n"
     ]
    },
    {
     "name": "stderr",
     "output_type": "stream",
     "text": [
      "100%|██████████| 4/4 [00:25<00:00,  6.39s/it]\n",
      "[I 2024-07-10 15:32:45,523] Trial 0 finished with value: 94.96388440860215 and parameters: {'lr': 0.0013127245462383958, 'num_epochs': 4}. Best is trial 0 with value: 94.96388440860215.\n",
      "100%|██████████| 6/6 [00:40<00:00,  6.75s/it]\n",
      "[I 2024-07-10 15:33:39,009] Trial 1 finished with value: 95.19805107526884 and parameters: {'lr': 0.001080265691296867, 'num_epochs': 6}. Best is trial 1 with value: 95.19805107526884.\n",
      "100%|██████████| 5/5 [00:32<00:00,  6.56s/it]\n",
      "[I 2024-07-10 15:34:24,243] Trial 2 finished with value: 94.62252688172045 and parameters: {'lr': 0.0014149828218016016, 'num_epochs': 5}. Best is trial 1 with value: 95.19805107526884.\n",
      "100%|██████████| 3/3 [00:20<00:00,  6.88s/it]\n",
      "[I 2024-07-10 15:34:58,620] Trial 3 finished with value: 94.77701612903229 and parameters: {'lr': 0.0014488098450782315, 'num_epochs': 3}. Best is trial 1 with value: 95.19805107526884.\n",
      "100%|██████████| 4/4 [00:29<00:00,  7.26s/it]\n",
      "[I 2024-07-10 15:35:40,596] Trial 4 finished with value: 95.46899193548388 and parameters: {'lr': 0.00039155132048184497, 'num_epochs': 4}. Best is trial 4 with value: 95.46899193548388.\n"
     ]
    },
    {
     "name": "stdout",
     "output_type": "stream",
     "text": [
      "Number of frozen neurons : 700\n",
      "Number of trainable neurons : 100\n"
     ]
    },
    {
     "name": "stderr",
     "output_type": "stream",
     "text": [
      "100%|██████████| 4/4 [00:28<00:00,  7.14s/it]\n",
      "[I 2024-07-10 15:36:22,681] A new study created in memory with name: Search number 9\n"
     ]
    },
    {
     "name": "stdout",
     "output_type": "stream",
     "text": [
      "\n",
      "--------------------------------------------------\n",
      "LEARNING TASK 9\n"
     ]
    },
    {
     "name": "stderr",
     "output_type": "stream",
     "text": [
      "100%|██████████| 4/4 [00:28<00:00,  7.07s/it]\n",
      "[I 2024-07-10 15:37:05,604] Trial 0 finished with value: 94.96418160095581 and parameters: {'lr': 0.0013127245462383958, 'num_epochs': 4}. Best is trial 0 with value: 94.96418160095581.\n",
      "100%|██████████| 6/6 [00:41<00:00,  6.94s/it]\n",
      "[I 2024-07-10 15:38:01,743] Trial 1 finished with value: 95.16511350059739 and parameters: {'lr': 0.001080265691296867, 'num_epochs': 6}. Best is trial 1 with value: 95.16511350059739.\n",
      "100%|██████████| 5/5 [00:32<00:00,  6.55s/it]\n",
      "[I 2024-07-10 15:38:48,028] Trial 2 finished with value: 94.9045400238949 and parameters: {'lr': 0.0014149828218016016, 'num_epochs': 5}. Best is trial 1 with value: 95.16511350059739.\n",
      "100%|██████████| 3/3 [00:19<00:00,  6.40s/it]\n",
      "[I 2024-07-10 15:39:20,797] Trial 3 finished with value: 94.73388291517325 and parameters: {'lr': 0.0014488098450782315, 'num_epochs': 3}. Best is trial 1 with value: 95.16511350059739.\n",
      "100%|██████████| 4/4 [00:25<00:00,  6.41s/it]\n",
      "[I 2024-07-10 15:39:59,990] Trial 4 finished with value: 95.41722819593788 and parameters: {'lr': 0.00039155132048184497, 'num_epochs': 4}. Best is trial 4 with value: 95.41722819593788.\n"
     ]
    },
    {
     "name": "stdout",
     "output_type": "stream",
     "text": [
      "Number of frozen neurons : 800\n",
      "Number of trainable neurons : 100\n"
     ]
    },
    {
     "name": "stderr",
     "output_type": "stream",
     "text": [
      "100%|██████████| 4/4 [00:25<00:00,  6.42s/it]\n",
      "[I 2024-07-10 15:40:38,532] A new study created in memory with name: Search number 10\n"
     ]
    },
    {
     "name": "stdout",
     "output_type": "stream",
     "text": [
      "\n",
      "--------------------------------------------------\n",
      "LEARNING TASK 10\n"
     ]
    },
    {
     "name": "stderr",
     "output_type": "stream",
     "text": [
      "100%|██████████| 4/4 [00:25<00:00,  6.41s/it]\n",
      "[I 2024-07-10 15:41:19,312] Trial 0 finished with value: 94.7135053763441 and parameters: {'lr': 0.0013127245462383958, 'num_epochs': 4}. Best is trial 0 with value: 94.7135053763441.\n",
      "100%|██████████| 6/6 [00:38<00:00,  6.45s/it]\n",
      "[I 2024-07-10 15:42:13,172] Trial 1 finished with value: 94.78307526881721 and parameters: {'lr': 0.001080265691296867, 'num_epochs': 6}. Best is trial 1 with value: 94.78307526881721.\n",
      "100%|██████████| 5/5 [00:32<00:00,  6.46s/it]\n",
      "[I 2024-07-10 15:43:00,580] Trial 2 finished with value: 94.8219677419355 and parameters: {'lr': 0.0014149828218016016, 'num_epochs': 5}. Best is trial 2 with value: 94.8219677419355.\n",
      "100%|██████████| 3/3 [00:19<00:00,  6.44s/it]\n",
      "[I 2024-07-10 15:43:35,040] Trial 3 finished with value: 94.49768817204301 and parameters: {'lr': 0.0014488098450782315, 'num_epochs': 3}. Best is trial 2 with value: 94.8219677419355.\n",
      "100%|██████████| 4/4 [00:26<00:00,  6.66s/it]\n",
      "[I 2024-07-10 15:44:16,889] Trial 4 finished with value: 95.15883870967745 and parameters: {'lr': 0.00039155132048184497, 'num_epochs': 4}. Best is trial 4 with value: 95.15883870967745.\n"
     ]
    },
    {
     "name": "stdout",
     "output_type": "stream",
     "text": [
      "Number of frozen neurons : 900\n",
      "Number of trainable neurons : 100\n"
     ]
    },
    {
     "name": "stderr",
     "output_type": "stream",
     "text": [
      "100%|██████████| 4/4 [00:26<00:00,  6.72s/it]\n"
     ]
    }
   ],
   "source": [
    "test_accs_matrix, best_params_list, model = run_HPO(HPO_settings, method_settings, benchmark_settings, benchmarks_list[0], device, global_seed)"
   ]
  },
  {
   "cell_type": "markdown",
   "metadata": {},
   "source": [
    "## Visualize results"
   ]
  },
  {
   "cell_type": "code",
   "execution_count": 8,
   "metadata": {},
   "outputs": [
    {
     "data": {
      "image/png": "[encoded data removed]",
      "text/plain": [
       "<Figure size 640x480 with 2 Axes>"
      ]
     },
     "metadata": {},
     "output_type": "display_data"
    },
    {
     "data": {
      "image/png": "[encoded data removed]",
      "text/plain": [
       "<Figure size 640x480 with 1 Axes>"
      ]
     },
     "metadata": {},
     "output_type": "display_data"
    },
    {
     "data": {
      "image/png": "[encoded data removed]",
      "text/plain": [
       "<Figure size 1000x500 with 2 Axes>"
      ]
     },
     "metadata": {},
     "output_type": "display_data"
    }
   ],
   "source": [
    "visualize_HPO(test_accs_matrix, best_params_list, visualization_settings, HPO_settings, method_settings, benchmark_settings)"
   ]
  },
  {
   "cell_type": "markdown",
   "metadata": {},
   "source": [
    "## Validate"
   ]
  },
  {
   "cell_type": "code",
   "execution_count": 9,
   "metadata": {},
   "outputs": [
    {
     "name": "stdout",
     "output_type": "stream",
     "text": [
      "\n",
      "==================================================\n",
      "BENCHMARK 0\n",
      "\n",
      "--------------------------------------------------\n",
      "LEARNING TASK 1\n",
      "Number of frozen neurons : 0.0\n",
      "Number of trainable neurons : 100\n"
     ]
    },
    {
     "name": "stderr",
     "output_type": "stream",
     "text": [
      "100%|██████████| 5/5 [00:32<00:00,  6.60s/it]\n"
     ]
    },
    {
     "name": "stdout",
     "output_type": "stream",
     "text": [
      "\n",
      "--------------------------------------------------\n",
      "LEARNING TASK 2\n",
      "Number of frozen neurons : 100\n",
      "Number of trainable neurons : 100\n"
     ]
    },
    {
     "name": "stderr",
     "output_type": "stream",
     "text": [
      "100%|██████████| 6/6 [00:39<00:00,  6.66s/it]\n"
     ]
    },
    {
     "name": "stdout",
     "output_type": "stream",
     "text": [
      "\n",
      "--------------------------------------------------\n",
      "LEARNING TASK 3\n",
      "Number of frozen neurons : 200\n",
      "Number of trainable neurons : 100\n"
     ]
    },
    {
     "name": "stderr",
     "output_type": "stream",
     "text": [
      "100%|██████████| 4/4 [00:26<00:00,  6.70s/it]\n"
     ]
    },
    {
     "name": "stdout",
     "output_type": "stream",
     "text": [
      "\n",
      "--------------------------------------------------\n",
      "LEARNING TASK 4\n",
      "Number of frozen neurons : 300\n",
      "Number of trainable neurons : 100\n"
     ]
    },
    {
     "name": "stderr",
     "output_type": "stream",
     "text": [
      "100%|██████████| 4/4 [00:27<00:00,  6.76s/it]\n"
     ]
    },
    {
     "name": "stdout",
     "output_type": "stream",
     "text": [
      "\n",
      "--------------------------------------------------\n",
      "LEARNING TASK 5\n",
      "Number of frozen neurons : 400\n",
      "Number of trainable neurons : 100\n"
     ]
    },
    {
     "name": "stderr",
     "output_type": "stream",
     "text": [
      "100%|██████████| 4/4 [00:27<00:00,  6.79s/it]\n"
     ]
    },
    {
     "name": "stdout",
     "output_type": "stream",
     "text": [
      "\n",
      "--------------------------------------------------\n",
      "LEARNING TASK 6\n",
      "Number of frozen neurons : 500\n",
      "Number of trainable neurons : 100\n"
     ]
    },
    {
     "name": "stderr",
     "output_type": "stream",
     "text": [
      "100%|██████████| 4/4 [00:27<00:00,  6.88s/it]\n"
     ]
    },
    {
     "name": "stdout",
     "output_type": "stream",
     "text": [
      "\n",
      "--------------------------------------------------\n",
      "LEARNING TASK 7\n",
      "Number of frozen neurons : 600\n",
      "Number of trainable neurons : 100\n"
     ]
    },
    {
     "name": "stderr",
     "output_type": "stream",
     "text": [
      "100%|██████████| 4/4 [00:27<00:00,  6.84s/it]\n"
     ]
    },
    {
     "name": "stdout",
     "output_type": "stream",
     "text": [
      "\n",
      "--------------------------------------------------\n",
      "LEARNING TASK 8\n",
      "Number of frozen neurons : 700\n",
      "Number of trainable neurons : 100\n"
     ]
    },
    {
     "name": "stderr",
     "output_type": "stream",
     "text": [
      "100%|██████████| 4/4 [00:27<00:00,  6.89s/it]\n"
     ]
    },
    {
     "name": "stdout",
     "output_type": "stream",
     "text": [
      "\n",
      "--------------------------------------------------\n",
      "LEARNING TASK 9\n",
      "Number of frozen neurons : 800\n",
      "Number of trainable neurons : 100\n"
     ]
    },
    {
     "name": "stderr",
     "output_type": "stream",
     "text": [
      "100%|██████████| 4/4 [00:27<00:00,  6.95s/it]\n"
     ]
    },
    {
     "name": "stdout",
     "output_type": "stream",
     "text": [
      "\n",
      "--------------------------------------------------\n",
      "LEARNING TASK 10\n",
      "Number of frozen neurons : 900\n",
      "Number of trainable neurons : 100\n"
     ]
    },
    {
     "name": "stderr",
     "output_type": "stream",
     "text": [
      "100%|██████████| 4/4 [00:27<00:00,  6.96s/it]\n"
     ]
    },
    {
     "name": "stdout",
     "output_type": "stream",
     "text": [
      "\n",
      "==================================================\n",
      "BENCHMARK 1\n",
      "\n",
      "--------------------------------------------------\n",
      "LEARNING TASK 1\n",
      "Number of frozen neurons : 0.0\n",
      "Number of trainable neurons : 100\n"
     ]
    },
    {
     "name": "stderr",
     "output_type": "stream",
     "text": [
      "100%|██████████| 5/5 [00:32<00:00,  6.59s/it]\n"
     ]
    },
    {
     "name": "stdout",
     "output_type": "stream",
     "text": [
      "\n",
      "--------------------------------------------------\n",
      "LEARNING TASK 2\n",
      "Number of frozen neurons : 100\n",
      "Number of trainable neurons : 100\n"
     ]
    },
    {
     "name": "stderr",
     "output_type": "stream",
     "text": [
      "100%|██████████| 6/6 [00:40<00:00,  6.67s/it]\n"
     ]
    },
    {
     "name": "stdout",
     "output_type": "stream",
     "text": [
      "\n",
      "--------------------------------------------------\n",
      "LEARNING TASK 3\n",
      "Number of frozen neurons : 200\n",
      "Number of trainable neurons : 100\n"
     ]
    },
    {
     "name": "stderr",
     "output_type": "stream",
     "text": [
      "100%|██████████| 4/4 [00:26<00:00,  6.58s/it]\n"
     ]
    },
    {
     "name": "stdout",
     "output_type": "stream",
     "text": [
      "\n",
      "--------------------------------------------------\n",
      "LEARNING TASK 4\n",
      "Number of frozen neurons : 300\n",
      "Number of trainable neurons : 100\n"
     ]
    },
    {
     "name": "stderr",
     "output_type": "stream",
     "text": [
      "100%|██████████| 4/4 [00:24<00:00,  6.22s/it]\n"
     ]
    },
    {
     "name": "stdout",
     "output_type": "stream",
     "text": [
      "\n",
      "--------------------------------------------------\n",
      "LEARNING TASK 5\n",
      "Number of frozen neurons : 400\n",
      "Number of trainable neurons : 100\n"
     ]
    },
    {
     "name": "stderr",
     "output_type": "stream",
     "text": [
      "100%|██████████| 4/4 [00:25<00:00,  6.27s/it]\n"
     ]
    },
    {
     "name": "stdout",
     "output_type": "stream",
     "text": [
      "\n",
      "--------------------------------------------------\n",
      "LEARNING TASK 6\n",
      "Number of frozen neurons : 500\n",
      "Number of trainable neurons : 100\n"
     ]
    },
    {
     "name": "stderr",
     "output_type": "stream",
     "text": [
      "100%|██████████| 4/4 [00:25<00:00,  6.32s/it]\n"
     ]
    },
    {
     "name": "stdout",
     "output_type": "stream",
     "text": [
      "\n",
      "--------------------------------------------------\n",
      "LEARNING TASK 7\n",
      "Number of frozen neurons : 600\n",
      "Number of trainable neurons : 100\n"
     ]
    },
    {
     "name": "stderr",
     "output_type": "stream",
     "text": [
      "100%|██████████| 4/4 [00:25<00:00,  6.33s/it]\n"
     ]
    },
    {
     "name": "stdout",
     "output_type": "stream",
     "text": [
      "\n",
      "--------------------------------------------------\n",
      "LEARNING TASK 8\n",
      "Number of frozen neurons : 700\n",
      "Number of trainable neurons : 100\n"
     ]
    },
    {
     "name": "stderr",
     "output_type": "stream",
     "text": [
      "100%|██████████| 4/4 [00:25<00:00,  6.37s/it]\n"
     ]
    },
    {
     "name": "stdout",
     "output_type": "stream",
     "text": [
      "\n",
      "--------------------------------------------------\n",
      "LEARNING TASK 9\n",
      "Number of frozen neurons : 800\n",
      "Number of trainable neurons : 100\n"
     ]
    },
    {
     "name": "stderr",
     "output_type": "stream",
     "text": [
      "100%|██████████| 4/4 [00:25<00:00,  6.41s/it]\n"
     ]
    },
    {
     "name": "stdout",
     "output_type": "stream",
     "text": [
      "\n",
      "--------------------------------------------------\n",
      "LEARNING TASK 10\n",
      "Number of frozen neurons : 900\n",
      "Number of trainable neurons : 100\n"
     ]
    },
    {
     "name": "stderr",
     "output_type": "stream",
     "text": [
      "100%|██████████| 4/4 [00:25<00:00,  6.44s/it]\n"
     ]
    },
    {
     "name": "stdout",
     "output_type": "stream",
     "text": [
      "\n",
      "==================================================\n",
      "BENCHMARK 2\n",
      "\n",
      "--------------------------------------------------\n",
      "LEARNING TASK 1\n",
      "Number of frozen neurons : 0.0\n",
      "Number of trainable neurons : 100\n"
     ]
    },
    {
     "name": "stderr",
     "output_type": "stream",
     "text": [
      "100%|██████████| 5/5 [00:30<00:00,  6.12s/it]\n"
     ]
    },
    {
     "name": "stdout",
     "output_type": "stream",
     "text": [
      "\n",
      "--------------------------------------------------\n",
      "LEARNING TASK 2\n",
      "Number of frozen neurons : 100\n",
      "Number of trainable neurons : 100\n"
     ]
    },
    {
     "name": "stderr",
     "output_type": "stream",
     "text": [
      "100%|██████████| 6/6 [00:36<00:00,  6.15s/it]\n"
     ]
    },
    {
     "name": "stdout",
     "output_type": "stream",
     "text": [
      "\n",
      "--------------------------------------------------\n",
      "LEARNING TASK 3\n",
      "Number of frozen neurons : 200\n",
      "Number of trainable neurons : 100\n"
     ]
    },
    {
     "name": "stderr",
     "output_type": "stream",
     "text": [
      "100%|██████████| 4/4 [00:24<00:00,  6.21s/it]\n"
     ]
    },
    {
     "name": "stdout",
     "output_type": "stream",
     "text": [
      "\n",
      "--------------------------------------------------\n",
      "LEARNING TASK 4\n",
      "Number of frozen neurons : 300\n",
      "Number of trainable neurons : 100\n"
     ]
    },
    {
     "name": "stderr",
     "output_type": "stream",
     "text": [
      "100%|██████████| 4/4 [00:25<00:00,  6.25s/it]\n"
     ]
    },
    {
     "name": "stdout",
     "output_type": "stream",
     "text": [
      "\n",
      "--------------------------------------------------\n",
      "LEARNING TASK 5\n",
      "Number of frozen neurons : 400\n",
      "Number of trainable neurons : 100\n"
     ]
    },
    {
     "name": "stderr",
     "output_type": "stream",
     "text": [
      "100%|██████████| 4/4 [00:25<00:00,  6.31s/it]\n"
     ]
    },
    {
     "name": "stdout",
     "output_type": "stream",
     "text": [
      "\n",
      "--------------------------------------------------\n",
      "LEARNING TASK 6\n",
      "Number of frozen neurons : 500\n",
      "Number of trainable neurons : 100\n"
     ]
    },
    {
     "name": "stderr",
     "output_type": "stream",
     "text": [
      "100%|██████████| 4/4 [00:25<00:00,  6.33s/it]\n"
     ]
    },
    {
     "name": "stdout",
     "output_type": "stream",
     "text": [
      "\n",
      "--------------------------------------------------\n",
      "LEARNING TASK 7\n",
      "Number of frozen neurons : 600\n",
      "Number of trainable neurons : 100\n"
     ]
    },
    {
     "name": "stderr",
     "output_type": "stream",
     "text": [
      "100%|██████████| 4/4 [00:25<00:00,  6.35s/it]\n"
     ]
    },
    {
     "name": "stdout",
     "output_type": "stream",
     "text": [
      "\n",
      "--------------------------------------------------\n",
      "LEARNING TASK 8\n",
      "Number of frozen neurons : 700\n",
      "Number of trainable neurons : 100\n"
     ]
    },
    {
     "name": "stderr",
     "output_type": "stream",
     "text": [
      "100%|██████████| 4/4 [00:25<00:00,  6.39s/it]\n"
     ]
    },
    {
     "name": "stdout",
     "output_type": "stream",
     "text": [
      "\n",
      "--------------------------------------------------\n",
      "LEARNING TASK 9\n",
      "Number of frozen neurons : 800\n",
      "Number of trainable neurons : 100\n"
     ]
    },
    {
     "name": "stderr",
     "output_type": "stream",
     "text": [
      "100%|██████████| 4/4 [00:25<00:00,  6.43s/it]\n"
     ]
    },
    {
     "name": "stdout",
     "output_type": "stream",
     "text": [
      "\n",
      "--------------------------------------------------\n",
      "LEARNING TASK 10\n",
      "Number of frozen neurons : 900\n",
      "Number of trainable neurons : 100\n"
     ]
    },
    {
     "name": "stderr",
     "output_type": "stream",
     "text": [
      "100%|██████████| 4/4 [00:25<00:00,  6.47s/it]\n"
     ]
    },
    {
     "name": "stdout",
     "output_type": "stream",
     "text": [
      "\n",
      "==================================================\n",
      "BENCHMARK 3\n",
      "\n",
      "--------------------------------------------------\n",
      "LEARNING TASK 1\n",
      "Number of frozen neurons : 0.0\n",
      "Number of trainable neurons : 100\n"
     ]
    },
    {
     "name": "stderr",
     "output_type": "stream",
     "text": [
      "100%|██████████| 5/5 [00:30<00:00,  6.14s/it]\n"
     ]
    },
    {
     "name": "stdout",
     "output_type": "stream",
     "text": [
      "\n",
      "--------------------------------------------------\n",
      "LEARNING TASK 2\n",
      "Number of frozen neurons : 100\n",
      "Number of trainable neurons : 100\n"
     ]
    },
    {
     "name": "stderr",
     "output_type": "stream",
     "text": [
      "100%|██████████| 6/6 [00:37<00:00,  6.18s/it]\n"
     ]
    },
    {
     "name": "stdout",
     "output_type": "stream",
     "text": [
      "\n",
      "--------------------------------------------------\n",
      "LEARNING TASK 3\n",
      "Number of frozen neurons : 200\n",
      "Number of trainable neurons : 100\n"
     ]
    },
    {
     "name": "stderr",
     "output_type": "stream",
     "text": [
      "100%|██████████| 4/4 [00:24<00:00,  6.22s/it]\n"
     ]
    },
    {
     "name": "stdout",
     "output_type": "stream",
     "text": [
      "\n",
      "--------------------------------------------------\n",
      "LEARNING TASK 4\n",
      "Number of frozen neurons : 300\n",
      "Number of trainable neurons : 100\n"
     ]
    },
    {
     "name": "stderr",
     "output_type": "stream",
     "text": [
      "100%|██████████| 4/4 [00:25<00:00,  6.27s/it]\n"
     ]
    },
    {
     "name": "stdout",
     "output_type": "stream",
     "text": [
      "\n",
      "--------------------------------------------------\n",
      "LEARNING TASK 5\n",
      "Number of frozen neurons : 400\n",
      "Number of trainable neurons : 100\n"
     ]
    },
    {
     "name": "stderr",
     "output_type": "stream",
     "text": [
      "100%|██████████| 4/4 [00:25<00:00,  6.30s/it]\n"
     ]
    },
    {
     "name": "stdout",
     "output_type": "stream",
     "text": [
      "\n",
      "--------------------------------------------------\n",
      "LEARNING TASK 6\n",
      "Number of frozen neurons : 500\n",
      "Number of trainable neurons : 100\n"
     ]
    },
    {
     "name": "stderr",
     "output_type": "stream",
     "text": [
      "100%|██████████| 4/4 [00:25<00:00,  6.33s/it]\n"
     ]
    },
    {
     "name": "stdout",
     "output_type": "stream",
     "text": [
      "\n",
      "--------------------------------------------------\n",
      "LEARNING TASK 7\n",
      "Number of frozen neurons : 600\n",
      "Number of trainable neurons : 100\n"
     ]
    },
    {
     "name": "stderr",
     "output_type": "stream",
     "text": [
      "100%|██████████| 4/4 [00:25<00:00,  6.37s/it]\n"
     ]
    },
    {
     "name": "stdout",
     "output_type": "stream",
     "text": [
      "\n",
      "--------------------------------------------------\n",
      "LEARNING TASK 8\n",
      "Number of frozen neurons : 700\n",
      "Number of trainable neurons : 100\n"
     ]
    },
    {
     "name": "stderr",
     "output_type": "stream",
     "text": [
      "100%|██████████| 4/4 [00:25<00:00,  6.41s/it]\n"
     ]
    },
    {
     "name": "stdout",
     "output_type": "stream",
     "text": [
      "\n",
      "--------------------------------------------------\n",
      "LEARNING TASK 9\n",
      "Number of frozen neurons : 800\n",
      "Number of trainable neurons : 100\n"
     ]
    },
    {
     "name": "stderr",
     "output_type": "stream",
     "text": [
      "100%|██████████| 4/4 [00:25<00:00,  6.45s/it]\n"
     ]
    },
    {
     "name": "stdout",
     "output_type": "stream",
     "text": [
      "\n",
      "--------------------------------------------------\n",
      "LEARNING TASK 10\n",
      "Number of frozen neurons : 900\n",
      "Number of trainable neurons : 100\n"
     ]
    },
    {
     "name": "stderr",
     "output_type": "stream",
     "text": [
      "100%|██████████| 4/4 [00:25<00:00,  6.47s/it]\n"
     ]
    },
    {
     "name": "stdout",
     "output_type": "stream",
     "text": [
      "\n",
      "==================================================\n",
      "BENCHMARK 4\n",
      "\n",
      "--------------------------------------------------\n",
      "LEARNING TASK 1\n",
      "Number of frozen neurons : 0.0\n",
      "Number of trainable neurons : 100\n"
     ]
    },
    {
     "name": "stderr",
     "output_type": "stream",
     "text": [
      "100%|██████████| 5/5 [00:30<00:00,  6.15s/it]\n"
     ]
    },
    {
     "name": "stdout",
     "output_type": "stream",
     "text": [
      "\n",
      "--------------------------------------------------\n",
      "LEARNING TASK 2\n",
      "Number of frozen neurons : 100\n",
      "Number of trainable neurons : 100\n"
     ]
    },
    {
     "name": "stderr",
     "output_type": "stream",
     "text": [
      "100%|██████████| 6/6 [00:37<00:00,  6.21s/it]\n"
     ]
    },
    {
     "name": "stdout",
     "output_type": "stream",
     "text": [
      "\n",
      "--------------------------------------------------\n",
      "LEARNING TASK 3\n",
      "Number of frozen neurons : 200\n",
      "Number of trainable neurons : 100\n"
     ]
    },
    {
     "name": "stderr",
     "output_type": "stream",
     "text": [
      "100%|██████████| 4/4 [00:24<00:00,  6.24s/it]\n"
     ]
    },
    {
     "name": "stdout",
     "output_type": "stream",
     "text": [
      "\n",
      "--------------------------------------------------\n",
      "LEARNING TASK 4\n",
      "Number of frozen neurons : 300\n",
      "Number of trainable neurons : 100\n"
     ]
    },
    {
     "name": "stderr",
     "output_type": "stream",
     "text": [
      "100%|██████████| 4/4 [00:26<00:00,  6.70s/it]\n"
     ]
    },
    {
     "name": "stdout",
     "output_type": "stream",
     "text": [
      "\n",
      "--------------------------------------------------\n",
      "LEARNING TASK 5\n",
      "Number of frozen neurons : 400\n",
      "Number of trainable neurons : 100\n"
     ]
    },
    {
     "name": "stderr",
     "output_type": "stream",
     "text": [
      "100%|██████████| 4/4 [00:27<00:00,  6.86s/it]\n"
     ]
    },
    {
     "name": "stdout",
     "output_type": "stream",
     "text": [
      "\n",
      "--------------------------------------------------\n",
      "LEARNING TASK 6\n",
      "Number of frozen neurons : 500\n",
      "Number of trainable neurons : 100\n"
     ]
    },
    {
     "name": "stderr",
     "output_type": "stream",
     "text": [
      "100%|██████████| 4/4 [00:27<00:00,  6.98s/it]\n"
     ]
    },
    {
     "name": "stdout",
     "output_type": "stream",
     "text": [
      "\n",
      "--------------------------------------------------\n",
      "LEARNING TASK 7\n",
      "Number of frozen neurons : 600\n",
      "Number of trainable neurons : 100\n"
     ]
    },
    {
     "name": "stderr",
     "output_type": "stream",
     "text": [
      "100%|██████████| 4/4 [00:27<00:00,  6.98s/it]\n"
     ]
    },
    {
     "name": "stdout",
     "output_type": "stream",
     "text": [
      "\n",
      "--------------------------------------------------\n",
      "LEARNING TASK 8\n",
      "Number of frozen neurons : 700\n",
      "Number of trainable neurons : 100\n"
     ]
    },
    {
     "name": "stderr",
     "output_type": "stream",
     "text": [
      "100%|██████████| 4/4 [00:27<00:00,  6.91s/it]\n"
     ]
    },
    {
     "name": "stdout",
     "output_type": "stream",
     "text": [
      "\n",
      "--------------------------------------------------\n",
      "LEARNING TASK 9\n",
      "Number of frozen neurons : 800\n",
      "Number of trainable neurons : 100\n"
     ]
    },
    {
     "name": "stderr",
     "output_type": "stream",
     "text": [
      "100%|██████████| 4/4 [00:28<00:00,  7.07s/it]\n"
     ]
    },
    {
     "name": "stdout",
     "output_type": "stream",
     "text": [
      "\n",
      "--------------------------------------------------\n",
      "LEARNING TASK 10\n",
      "Number of frozen neurons : 900\n",
      "Number of trainable neurons : 100\n"
     ]
    },
    {
     "name": "stderr",
     "output_type": "stream",
     "text": [
      "100%|██████████| 4/4 [00:27<00:00,  6.99s/it]\n"
     ]
    },
    {
     "name": "stdout",
     "output_type": "stream",
     "text": [
      "\n",
      "==================================================\n",
      "BENCHMARK 5\n",
      "\n",
      "--------------------------------------------------\n",
      "LEARNING TASK 1\n",
      "Number of frozen neurons : 0.0\n",
      "Number of trainable neurons : 100\n"
     ]
    },
    {
     "name": "stderr",
     "output_type": "stream",
     "text": [
      "100%|██████████| 5/5 [00:33<00:00,  6.63s/it]\n"
     ]
    },
    {
     "name": "stdout",
     "output_type": "stream",
     "text": [
      "\n",
      "--------------------------------------------------\n",
      "LEARNING TASK 2\n",
      "Number of frozen neurons : 100\n",
      "Number of trainable neurons : 100\n"
     ]
    },
    {
     "name": "stderr",
     "output_type": "stream",
     "text": [
      "100%|██████████| 6/6 [00:39<00:00,  6.63s/it]\n"
     ]
    },
    {
     "name": "stdout",
     "output_type": "stream",
     "text": [
      "\n",
      "--------------------------------------------------\n",
      "LEARNING TASK 3\n",
      "Number of frozen neurons : 200\n",
      "Number of trainable neurons : 100\n"
     ]
    },
    {
     "name": "stderr",
     "output_type": "stream",
     "text": [
      "100%|██████████| 4/4 [00:26<00:00,  6.63s/it]\n"
     ]
    },
    {
     "name": "stdout",
     "output_type": "stream",
     "text": [
      "\n",
      "--------------------------------------------------\n",
      "LEARNING TASK 4\n",
      "Number of frozen neurons : 300\n",
      "Number of trainable neurons : 100\n"
     ]
    },
    {
     "name": "stderr",
     "output_type": "stream",
     "text": [
      "100%|██████████| 4/4 [00:26<00:00,  6.72s/it]\n"
     ]
    },
    {
     "name": "stdout",
     "output_type": "stream",
     "text": [
      "\n",
      "--------------------------------------------------\n",
      "LEARNING TASK 5\n",
      "Number of frozen neurons : 400\n",
      "Number of trainable neurons : 100\n"
     ]
    },
    {
     "name": "stderr",
     "output_type": "stream",
     "text": [
      "100%|██████████| 4/4 [00:27<00:00,  6.79s/it]\n"
     ]
    },
    {
     "name": "stdout",
     "output_type": "stream",
     "text": [
      "\n",
      "--------------------------------------------------\n",
      "LEARNING TASK 6\n",
      "Number of frozen neurons : 500\n",
      "Number of trainable neurons : 100\n"
     ]
    },
    {
     "name": "stderr",
     "output_type": "stream",
     "text": [
      "100%|██████████| 4/4 [00:27<00:00,  6.76s/it]\n"
     ]
    },
    {
     "name": "stdout",
     "output_type": "stream",
     "text": [
      "\n",
      "--------------------------------------------------\n",
      "LEARNING TASK 7\n",
      "Number of frozen neurons : 600\n",
      "Number of trainable neurons : 100\n"
     ]
    },
    {
     "name": "stderr",
     "output_type": "stream",
     "text": [
      "100%|██████████| 4/4 [00:27<00:00,  6.78s/it]\n"
     ]
    },
    {
     "name": "stdout",
     "output_type": "stream",
     "text": [
      "\n",
      "--------------------------------------------------\n",
      "LEARNING TASK 8\n",
      "Number of frozen neurons : 700\n",
      "Number of trainable neurons : 100\n"
     ]
    },
    {
     "name": "stderr",
     "output_type": "stream",
     "text": [
      "100%|██████████| 4/4 [00:27<00:00,  6.82s/it]\n"
     ]
    },
    {
     "name": "stdout",
     "output_type": "stream",
     "text": [
      "\n",
      "--------------------------------------------------\n",
      "LEARNING TASK 9\n",
      "Number of frozen neurons : 800\n",
      "Number of trainable neurons : 100\n"
     ]
    },
    {
     "name": "stderr",
     "output_type": "stream",
     "text": [
      "100%|██████████| 4/4 [00:26<00:00,  6.70s/it]\n"
     ]
    },
    {
     "name": "stdout",
     "output_type": "stream",
     "text": [
      "\n",
      "--------------------------------------------------\n",
      "LEARNING TASK 10\n",
      "Number of frozen neurons : 900\n",
      "Number of trainable neurons : 100\n"
     ]
    },
    {
     "name": "stderr",
     "output_type": "stream",
     "text": [
      "100%|██████████| 4/4 [00:25<00:00,  6.49s/it]\n"
     ]
    }
   ],
   "source": [
    "val_accs_matrix = validate(benchmarks_list, benchmark_settings, method_settings, best_params_list, device, global_seed)"
   ]
  },
  {
   "cell_type": "markdown",
   "metadata": {},
   "source": [
    "## Visualize validation"
   ]
  },
  {
   "cell_type": "code",
   "execution_count": 10,
   "metadata": {},
   "outputs": [
    {
     "data": {
      "image/png": "[encoded data removed]",
      "text/plain": [
       "<Figure size 640x480 with 2 Axes>"
      ]
     },
     "metadata": {},
     "output_type": "display_data"
    },
    {
     "data": {
      "image/png": "[encoded data removed]",
      "text/plain": [
       "<Figure size 640x480 with 1 Axes>"
      ]
     },
     "metadata": {},
     "output_type": "display_data"
    },
    {
     "data": {
      "image/png": "[encoded data removed]",
      "text/plain": [
       "<Figure size 200x500 with 1 Axes>"
      ]
     },
     "metadata": {},
     "output_type": "display_data"
    }
   ],
   "source": [
    "visualize_validation(val_accs_matrix, test_accs_matrix, visualization_settings, HPO_settings, method_settings, benchmark_settings)"
   ]
  },
  {
   "cell_type": "markdown",
   "metadata": {},
   "source": [
    "## Save results matrices"
   ]
  },
  {
   "cell_type": "code",
   "execution_count": 11,
   "metadata": {},
   "outputs": [],
   "source": [
    "if save_results :\n",
    "    np.savetxt('Results/test_accs_matrix.csv', test_accs_matrix)\n",
    "    np.savetxt('Results/val_accs_matrix.csv', val_accs_matrix)"
   ]
  },
  {
   "cell_type": "code",
   "execution_count": null,
   "metadata": {},
   "outputs": [],
   "source": []
  }
 ],
 "metadata": {
  "kernelspec": {
   "display_name": ".jax_env",
   "language": "python",
   "name": "python3"
  },
  "language_info": {
   "codemirror_mode": {
    "name": "ipython",
    "version": 3
   },
   "file_extension": ".py",
   "mimetype": "text/x-python",
   "name": "python",
   "nbconvert_exporter": "python",
   "pygments_lexer": "ipython3",
   "version": "3.12.2"
  }
 },
 "nbformat": 4,
 "nbformat_minor": 2
}
