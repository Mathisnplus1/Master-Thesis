{
 "cells": [
  {
   "cell_type": "code",
   "execution_count": 2,
   "id": "2f989478",
   "metadata": {},
   "outputs": [],
   "source": [
    "from lib.dataloader import get_FMNIST_loaders\n",
    "from lib.models import SNN, LoRA_SNN\n",
    "from lib.train import train\n",
    "from lib.visualize import plot_losses, plot_accs\n",
    "from lib.test import test\n",
    "from lib.save import save\n",
    "from lib.parameters_info import count_all_parameters, count_lora_parameters\n",
    "\n",
    "import os\n",
    "\n",
    "import torch\n",
    "import torch.nn as nn\n"
   ]
  },
  {
   "cell_type": "code",
   "execution_count": 3,
   "id": "d13fdd32",
   "metadata": {},
   "outputs": [],
   "source": [
    "device = torch.device(\"cuda\") if torch.cuda.is_available() else torch.device(\"cpu\")"
   ]
  },
  {
   "cell_type": "code",
   "execution_count": 4,
   "id": "3540635b",
   "metadata": {},
   "outputs": [],
   "source": [
    "# Data parameter\n",
    "batch_size=128\n",
    "\n",
    "# Network Architecture\n",
    "num_inputs = 28*28\n",
    "num_hidden = 1000\n",
    "num_outputs = 5\n",
    "\n",
    "# Temporal Dynamics\n",
    "num_steps = 25\n",
    "beta = 0.95\n",
    "\n",
    "# Task identifiers\n",
    "task_1 = \"task_1\"\n",
    "task_2 = \"task_2\""
   ]
  },
  {
   "cell_type": "code",
   "execution_count": 5,
   "id": "ecb9c25c",
   "metadata": {},
   "outputs": [],
   "source": [
    "path = os.path.dirname(os.path.abspath(\"__file__\"))"
   ]
  },
  {
   "cell_type": "markdown",
   "id": "8ca2e91c",
   "metadata": {},
   "source": [
    "## Get FMNIST"
   ]
  },
  {
   "cell_type": "code",
   "execution_count": 5,
   "id": "01bf05de",
   "metadata": {},
   "outputs": [],
   "source": [
    "data_path = path + \"\\\\data\""
   ]
  },
  {
   "cell_type": "code",
   "execution_count": 6,
   "id": "558c9c3c",
   "metadata": {},
   "outputs": [],
   "source": [
    "# Get data for task 1\n",
    "class_names_1 = [0, 1, 2, 3, 4]\n",
    "train_loader_1, val_loader_1, test_loader_1 = get_FMNIST_loaders(data_path, class_names_1, batch_size)"
   ]
  },
  {
   "cell_type": "code",
   "execution_count": 7,
   "id": "10be94b3",
   "metadata": {},
   "outputs": [],
   "source": [
    "# Get data for task 2\n",
    "class_names_2 = [5, 6, 7, 8, 9]\n",
    "train_loader_2, val_loader_2, test_loader_2 = get_FMNIST_loaders(data_path, class_names_2, batch_size)"
   ]
  },
  {
   "cell_type": "markdown",
   "id": "41b11767",
   "metadata": {},
   "source": [
    "## Train vanilla SNN on task 1"
   ]
  },
  {
   "cell_type": "code",
   "execution_count": 8,
   "id": "b24f15be",
   "metadata": {},
   "outputs": [],
   "source": [
    "task = task_1\n",
    "train_loader = train_loader_1\n",
    "val_loader = val_loader_1"
   ]
  },
  {
   "cell_type": "code",
   "execution_count": 9,
   "id": "c2fcfcf7",
   "metadata": {},
   "outputs": [],
   "source": [
    "snn_model = SNN(num_inputs, num_hidden, num_outputs, beta, num_steps).to(device)"
   ]
  },
  {
   "cell_type": "code",
   "execution_count": 10,
   "id": "f5a09f9b",
   "metadata": {},
   "outputs": [],
   "source": [
    "dtype = torch.float\n",
    "loss = nn.CrossEntropyLoss()\n",
    "optimizer = torch.optim.Adam(snn_model.parameters(), lr=5e-4, betas=(0.9, 0.999))\n",
    "num_epochs = 5"
   ]
  },
  {
   "cell_type": "code",
   "execution_count": 11,
   "id": "ee0d7292",
   "metadata": {},
   "outputs": [
    {
     "name": "stderr",
     "output_type": "stream",
     "text": [
      "\r",
      "  0%|                                                                                            | 0/5 [00:00<?, ?it/s]"
     ]
    },
    {
     "name": "stdout",
     "output_type": "stream",
     "text": [
      "50 batches used in epoch 0\n",
      "100 batches used in epoch 0\n",
      "150 batches used in epoch 0\n"
     ]
    },
    {
     "name": "stderr",
     "output_type": "stream",
     "text": [
      "\r",
      " 20%|████████████████▊                                                                   | 1/5 [00:28<01:53, 28.46s/it]"
     ]
    },
    {
     "name": "stdout",
     "output_type": "stream",
     "text": [
      "50 batches used in epoch 1\n",
      "100 batches used in epoch 1\n",
      "150 batches used in epoch 1\n"
     ]
    },
    {
     "name": "stderr",
     "output_type": "stream",
     "text": [
      "\r",
      " 40%|█████████████████████████████████▌                                                  | 2/5 [00:55<01:22, 27.51s/it]"
     ]
    },
    {
     "name": "stdout",
     "output_type": "stream",
     "text": [
      "50 batches used in epoch 2\n",
      "100 batches used in epoch 2\n",
      "150 batches used in epoch 2\n"
     ]
    },
    {
     "name": "stderr",
     "output_type": "stream",
     "text": [
      "\r",
      " 60%|██████████████████████████████████████████████████▍                                 | 3/5 [01:23<00:55, 27.96s/it]"
     ]
    },
    {
     "name": "stdout",
     "output_type": "stream",
     "text": [
      "50 batches used in epoch 3\n",
      "100 batches used in epoch 3\n",
      "150 batches used in epoch 3\n"
     ]
    },
    {
     "name": "stderr",
     "output_type": "stream",
     "text": [
      "\r",
      " 80%|███████████████████████████████████████████████████████████████████▏                | 4/5 [01:47<00:26, 26.26s/it]"
     ]
    },
    {
     "name": "stdout",
     "output_type": "stream",
     "text": [
      "50 batches used in epoch 4\n",
      "100 batches used in epoch 4\n",
      "150 batches used in epoch 4\n"
     ]
    },
    {
     "name": "stderr",
     "output_type": "stream",
     "text": [
      "100%|████████████████████████████████████████████████████████████████████████████████████| 5/5 [02:14<00:00, 26.86s/it]\n"
     ]
    }
   ],
   "source": [
    "output = train(snn_model, task, dtype, loss, optimizer, train_loader, val_loader, num_epochs, batch_size, num_steps, device, comp_val_loader=None)\n",
    "train_loss_hist, train_acc_hist, val_loss_hist, val_acc_hist = output"
   ]
  },
  {
   "cell_type": "code",
   "execution_count": 12,
   "id": "288325e9",
   "metadata": {},
   "outputs": [
    {
     "data": {
      "image/png": "[encoded data removed]",
      "text/plain": [
       "<Figure size 640x480 with 1 Axes>"
      ]
     },
     "metadata": {},
     "output_type": "display_data"
    }
   ],
   "source": [
    "plot_losses(train_loss_hist, val_loss_hist)"
   ]
  },
  {
   "cell_type": "code",
   "execution_count": 13,
   "id": "eacef198",
   "metadata": {},
   "outputs": [
    {
     "data": {
      "image/png": "[encoded data removed]",
      "text/plain": [
       "<Figure size 640x480 with 1 Axes>"
      ]
     },
     "metadata": {},
     "output_type": "display_data"
    }
   ],
   "source": [
    "plot_accs(train_acc_hist, val_acc_hist)"
   ]
  },
  {
   "cell_type": "markdown",
   "id": "7314f8a8",
   "metadata": {},
   "source": [
    "## Save vanilla SNN"
   ]
  },
  {
   "cell_type": "code",
   "execution_count": 14,
   "id": "5632bb0f",
   "metadata": {},
   "outputs": [],
   "source": [
    "model_path = path + \"\\\\SNN_LoRA/state_dict.pth\""
   ]
  },
  {
   "cell_type": "code",
   "execution_count": 15,
   "id": "adedd6c1",
   "metadata": {},
   "outputs": [],
   "source": [
    "save(model_path, snn_model)"
   ]
  },
  {
   "cell_type": "markdown",
   "id": "ef5d7569",
   "metadata": {},
   "source": [
    "## Load LoRA SNN"
   ]
  },
  {
   "cell_type": "code",
   "execution_count": 16,
   "id": "f10e4a40",
   "metadata": {},
   "outputs": [],
   "source": [
    "lora_rank = 4"
   ]
  },
  {
   "cell_type": "code",
   "execution_count": 17,
   "id": "4a0e6938",
   "metadata": {},
   "outputs": [],
   "source": [
    "lora_snn_model = LoRA_SNN(lora_rank, model_path, num_inputs, num_hidden, num_outputs, beta, batch_size, num_steps).to(device)"
   ]
  },
  {
   "cell_type": "code",
   "execution_count": 18,
   "id": "106a2650",
   "metadata": {
    "scrolled": true
   },
   "outputs": [
    {
     "name": "stdout",
     "output_type": "stream",
     "text": [
      "Number of none LoRA parameters of the linear layers (not trainable): 790005\n",
      "Number of parameters introduced by LoRA (trainable): 11156\n"
     ]
    }
   ],
   "source": [
    "print(\"Number of none LoRA parameters of the linear layers (not trainable):\", count_all_parameters(lora_snn_model))\n",
    "print(\"Number of parameters introduced by LoRA (trainable):\", count_lora_parameters(lora_snn_model))"
   ]
  },
  {
   "cell_type": "markdown",
   "id": "9b69ca5a",
   "metadata": {},
   "source": [
    "## Test vanilla SNN"
   ]
  },
  {
   "cell_type": "code",
   "execution_count": 19,
   "id": "cc271e75",
   "metadata": {},
   "outputs": [],
   "source": [
    "# So far, lora_snn_model is simply our trained vanilla SNN"
   ]
  },
  {
   "cell_type": "code",
   "execution_count": 20,
   "id": "b8c6163d",
   "metadata": {
    "scrolled": true
   },
   "outputs": [
    {
     "name": "stdout",
     "output_type": "stream",
     "text": [
      "vanilla SNN model achieves 98.79% accuracy on task 1\n",
      "vanilla SNN model achieves 32.6% accuracy on task 2\n"
     ]
    }
   ],
   "source": [
    "print(f\"vanilla SNN model achieves {test(lora_snn_model, test_loader_1, task_1, batch_size, device)}% accuracy on task 1\")\n",
    "print(f\"vanilla SNN model achieves {test(lora_snn_model, test_loader_2, task_2, batch_size, device)}% accuracy on task 2\")"
   ]
  },
  {
   "cell_type": "markdown",
   "id": "354b09f7",
   "metadata": {},
   "source": [
    "## Train LoRA SNN on task 2"
   ]
  },
  {
   "cell_type": "code",
   "execution_count": 21,
   "id": "a3c75840",
   "metadata": {},
   "outputs": [],
   "source": [
    "task = task_2\n",
    "train_loader = train_loader_2\n",
    "val_loader = val_loader_2\n",
    "comp_val_loader = val_loader_1"
   ]
  },
  {
   "cell_type": "code",
   "execution_count": 22,
   "id": "6e17d03f",
   "metadata": {},
   "outputs": [],
   "source": [
    "optimizer = torch.optim.Adam(lora_snn_model.parameters(), lr=1e-4, betas=(0.9, 0.999))\n",
    "num_epochs = 10"
   ]
  },
  {
   "cell_type": "code",
   "execution_count": null,
   "id": "31058bde",
   "metadata": {},
   "outputs": [
    {
     "name": "stderr",
     "output_type": "stream",
     "text": [
      "\r",
      "  0%|                                                                                           | 0/10 [00:00<?, ?it/s]"
     ]
    },
    {
     "name": "stdout",
     "output_type": "stream",
     "text": [
      "50 batches used in epoch 0\n",
      "100 batches used in epoch 0\n",
      "150 batches used in epoch 0\n"
     ]
    },
    {
     "name": "stderr",
     "output_type": "stream",
     "text": [
      "\r",
      " 10%|████████▎                                                                          | 1/10 [00:29<04:27, 29.72s/it]"
     ]
    },
    {
     "name": "stdout",
     "output_type": "stream",
     "text": [
      "50 batches used in epoch 1\n",
      "100 batches used in epoch 1\n",
      "150 batches used in epoch 1\n"
     ]
    },
    {
     "name": "stderr",
     "output_type": "stream",
     "text": [
      "\r",
      " 20%|████████████████▌                                                                  | 2/10 [00:59<03:58, 29.85s/it]"
     ]
    },
    {
     "name": "stdout",
     "output_type": "stream",
     "text": [
      "50 batches used in epoch 2\n",
      "100 batches used in epoch 2\n"
     ]
    }
   ],
   "source": [
    "output = train(lora_snn_model, task, dtype, loss, optimizer, train_loader, val_loader, num_epochs, batch_size, num_steps, device, comp_val_loader=comp_val_loader)\n",
    "train_loss_hist, train_acc_hist, val_loss_hist, val_acc_hist, comp_val_loss_hist, comp_val_acc_hist = output"
   ]
  },
  {
   "cell_type": "code",
   "execution_count": null,
   "id": "d700ba31",
   "metadata": {},
   "outputs": [],
   "source": [
    "plot_losses(train_loss_hist, val_loss_hist, comp_val_loss_hist)"
   ]
  },
  {
   "cell_type": "code",
   "execution_count": null,
   "id": "6d38f269",
   "metadata": {},
   "outputs": [],
   "source": [
    "plot_accs(train_acc_hist, val_acc_hist, comp_val_acc_hist)"
   ]
  },
  {
   "cell_type": "markdown",
   "id": "cf79e321",
   "metadata": {},
   "source": [
    "## Test LoRA SNN on both tasks"
   ]
  },
  {
   "cell_type": "code",
   "execution_count": null,
   "id": "77e4bc40",
   "metadata": {},
   "outputs": [],
   "source": [
    "print(f\"lora_snn_model achieve {test(lora_snn_model, test_loader_1, task_1, batch_size, device)}% accuracy on task 1\")\n",
    "print(f\"lora_snn_model achieve {test(lora_snn_model, test_loader_2, task_2, batch_size, device)}% accuracy on task 2\")"
   ]
  },
  {
   "cell_type": "code",
   "execution_count": null,
   "id": "72f12b77",
   "metadata": {},
   "outputs": [],
   "source": []
  }
 ],
 "metadata": {
  "kernelspec": {
   "display_name": "Python 3 (ipykernel)",
   "language": "python",
   "name": "python3"
  },
  "language_info": {
   "codemirror_mode": {
    "name": "ipython",
    "version": 3
   },
   "file_extension": ".py",
   "mimetype": "text/x-python",
   "name": "python",
   "nbconvert_exporter": "python",
   "pygments_lexer": "ipython3",
   "version": "3.10.7"
  }
 },
 "nbformat": 4,
 "nbformat_minor": 5
}
