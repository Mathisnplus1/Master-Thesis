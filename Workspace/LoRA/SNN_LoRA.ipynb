{
 "cells": [
  {
   "cell_type": "code",
   "execution_count": 1,
   "id": "c8b72348",
   "metadata": {},
   "outputs": [],
   "source": [
    "import numpy as np\n",
    "import matplotlib.pyplot as plt\n",
    "\n",
    "import torch\n",
    "import torch.nn as nn\n",
    "from torch.utils.data import DataLoader, Subset, random_split\n",
    "from torchvision import datasets, transforms\n",
    "\n",
    "import snntorch as snn\n",
    "\n",
    "\n",
    "from tqdm import tqdm"
   ]
  },
  {
   "cell_type": "code",
   "execution_count": 2,
   "id": "714dbb75",
   "metadata": {},
   "outputs": [],
   "source": [
    "device = torch.device(\"cuda\") if torch.cuda.is_available() else torch.device(\"cpu\")"
   ]
  },
  {
   "cell_type": "markdown",
   "id": "84a89ba4",
   "metadata": {},
   "source": [
    "## Train plain SNN"
   ]
  },
  {
   "cell_type": "code",
   "execution_count": 3,
   "id": "8dd3b0d0",
   "metadata": {},
   "outputs": [],
   "source": [
    "class SNN (nn.Module):\n",
    "    def __init__(self, num_inputs, num_hidden, num_outputs, beta):\n",
    "        super().__init__()\n",
    "        \n",
    "        self.fc1 = nn.Linear(num_inputs,num_hidden)\n",
    "        self.lif1 = snn.Leaky(beta=beta)\n",
    "        self.fc2 = nn.Linear(num_hidden, num_outputs)\n",
    "        self.lif2 = snn.Leaky(beta=beta)\n",
    "        \n",
    "    def forward(self, x) :\n",
    "        # Initiamize hidden states at t=0\n",
    "        mem1 = self.lif1.init_leaky()\n",
    "        mem2 = self.lif2.init_leaky()\n",
    "        \n",
    "        # Record the final layer\n",
    "        spk2_rec = []\n",
    "        mem2_rec = []\n",
    "        for step in range(num_steps):\n",
    "            cur1 = self.fc1(x)\n",
    "            spk1, mem1 = self.lif1(cur1, mem1)\n",
    "            cur2 = self.fc2(spk1)\n",
    "            spk2, mem2 = self.lif2(cur2, mem2)\n",
    "            \n",
    "            spk2_rec.append(spk2)\n",
    "            mem2_rec.append(mem2)\n",
    "        return torch.stack(spk2_rec, dim=0), torch.stack(mem2_rec, dim=0)"
   ]
  },
  {
   "cell_type": "code",
   "execution_count": 4,
   "id": "13142dbf",
   "metadata": {},
   "outputs": [],
   "source": [
    "# Network Architecture\n",
    "num_inputs = 28*28\n",
    "num_hidden = 1000\n",
    "num_outputs = 5\n",
    "\n",
    "# Temporal Dynamics\n",
    "num_steps = 25\n",
    "beta = 0.95"
   ]
  },
  {
   "cell_type": "markdown",
   "id": "5cb17ad6",
   "metadata": {},
   "source": [
    "## Setup datasets"
   ]
  },
  {
   "cell_type": "code",
   "execution_count": 5,
   "id": "5632fc3e",
   "metadata": {},
   "outputs": [],
   "source": [
    "#Normalizing MNIST\n",
    "#These values are the mean and std deviation of the MNIST dataset.\n",
    "transform = transforms.Compose([transforms.ToTensor(), transforms.Normalize((0.1307,), (0.3081,))])\n",
    "\n",
    "# load MNIST \n",
    "mnist_train = datasets.MNIST(root='./data', train=True, download=True, transform=transform)\n",
    "mnist_test = datasets.MNIST(root='./data', train=False, download=True, transform=transform)"
   ]
  },
  {
   "cell_type": "code",
   "execution_count": 6,
   "id": "84aa38ac",
   "metadata": {},
   "outputs": [],
   "source": [
    "batch_size=128"
   ]
  },
  {
   "cell_type": "markdown",
   "id": "a04de7a8",
   "metadata": {},
   "source": [
    "### Digits 0 to 4"
   ]
  },
  {
   "cell_type": "code",
   "execution_count": 7,
   "id": "23f75ad1",
   "metadata": {},
   "outputs": [],
   "source": [
    "# keep images of desired labels\n",
    "class_names = [0, 1, 2, 3, 4]\n",
    "\n",
    "# create a mask to filter indices for each label\n",
    "train_mask = torch.tensor([label in class_names for label in mnist_train.targets])\n",
    "test_mask = torch.tensor([label in class_names for label in mnist_test.targets])\n",
    "\n",
    "# Create Subset datasets for train, validation, and test\n",
    "train_dataset = Subset(mnist_train, torch.where(train_mask)[0])\n",
    "test_dataset = Subset(mnist_test, torch.where(test_mask)[0])\n",
    "\n",
    "# split train into train & validation\n",
    "train_size = int(0.7 * len(train_dataset))\n",
    "val_size = len(train_dataset) - train_size\n",
    "train_dataset, val_dataset = random_split(train_dataset, [train_size, val_size])\n",
    "\n",
    "train_loader_1 = DataLoader(train_dataset, batch_size=batch_size, shuffle=True, drop_last=True)\n",
    "val_loader_1 = DataLoader(val_dataset, batch_size=batch_size, shuffle=False, drop_last=True)\n",
    "test_loader_1 = DataLoader(test_dataset, batch_size=batch_size, shuffle=False, drop_last=True)"
   ]
  },
  {
   "cell_type": "code",
   "execution_count": 8,
   "id": "0e55d249",
   "metadata": {},
   "outputs": [],
   "source": [
    "task_1 = \"task_1\""
   ]
  },
  {
   "cell_type": "markdown",
   "id": "376b9f09",
   "metadata": {},
   "source": [
    "### Digits 5 to 9"
   ]
  },
  {
   "cell_type": "code",
   "execution_count": 9,
   "id": "47950ff2",
   "metadata": {},
   "outputs": [],
   "source": [
    "# keep images of desired labels\n",
    "class_names = [5, 6, 7, 8, 9]\n",
    "\n",
    "# create a mask to filter indices for each label\n",
    "train_mask_2 = torch.tensor([label in class_names for label in mnist_train.targets])\n",
    "test_mask_2 = torch.tensor([label in class_names for label in mnist_test.targets])\n",
    "\n",
    "# Create Subset datasets for train, validation, and test\n",
    "train_dataset_2 = Subset(mnist_train, torch.where(train_mask_2)[0])\n",
    "test_dataset_2 = Subset(mnist_test, torch.where(test_mask_2)[0])\n",
    "\n",
    "# split train into train & validation\n",
    "train_size_2 = int(0.7 * len(train_dataset_2))\n",
    "val_size_2 = len(train_dataset_2) - train_size_2\n",
    "train_dataset_2, val_dataset_2 = random_split(train_dataset_2, [train_size_2, val_size_2])\n",
    "\n",
    "train_loader_2 = DataLoader(train_dataset_2, batch_size=batch_size, shuffle=True, drop_last=True)\n",
    "val_loader_2 = DataLoader(val_dataset_2, batch_size=batch_size, shuffle=False, drop_last=True)\n",
    "test_loader_2 = DataLoader(test_dataset_2, batch_size=batch_size, shuffle=False, drop_last=True)"
   ]
  },
  {
   "cell_type": "code",
   "execution_count": 10,
   "id": "246ca0b9",
   "metadata": {},
   "outputs": [],
   "source": [
    "task_2 = \"task_2\""
   ]
  },
  {
   "cell_type": "markdown",
   "id": "4b9f9e46",
   "metadata": {},
   "source": [
    "## Train plain SNN"
   ]
  },
  {
   "cell_type": "code",
   "execution_count": 11,
   "id": "e3b7a23e",
   "metadata": {},
   "outputs": [],
   "source": [
    "task = task_1\n",
    "train_loader = train_loader_1\n",
    "val_loader = val_loader_1"
   ]
  },
  {
   "cell_type": "code",
   "execution_count": 12,
   "id": "b093def1",
   "metadata": {},
   "outputs": [],
   "source": [
    "def get_batch_accuracy(model, data, targets):\n",
    "    output, _ = model(data.view(batch_size, -1))\n",
    "    _, idx = output.sum(dim=0).max(1)\n",
    "    acc = np.mean((targets == idx).detach().cpu().numpy())\n",
    "\n",
    "    return round(acc*100,2)"
   ]
  },
  {
   "cell_type": "code",
   "execution_count": 13,
   "id": "0d62acb8",
   "metadata": {},
   "outputs": [],
   "source": [
    "def compute_val (model, val_loader, val_loss_hist, val_acc_hist, comp_mode=False, print_shit=False) :\n",
    "    model.eval()\n",
    "    val_data, val_targets = next(iter(val_loader))\n",
    "    val_data = val_data.to(device)\n",
    "    if task == \"task_2\" and not(comp_mode) :\n",
    "        val_targets -= 5\n",
    "    val_targets = val_targets.to(device)\n",
    "\n",
    "    val_spk, val_mem = model(val_data.view(batch_size, -1))\n",
    "\n",
    "    # LOSS\n",
    "    val_loss = torch.zeros((1), dtype=dtype, device=device)\n",
    "    for step in range(num_steps):\n",
    "        val_loss += loss(val_mem[step], val_targets)\n",
    "    val_loss_hist.append(val_loss.item())\n",
    "    \n",
    "    # ACCURACY\n",
    "    if print_shit :\n",
    "        print(f\"Epoch {epoch}\")\n",
    "        # print(f\"Train Set Loss: {train_loss_hist[epoch]:.2f}\")\n",
    "        print(f\"Val Set Loss: {val_loss_hist[epoch]:.2f}\")\n",
    "        print(\"\\n\")\n",
    "    val_acc_hist.append(get_batch_accuracy(model, val_data, val_targets))\n",
    "    \n",
    "    \n",
    "    return val_loss_hist, val_acc_hist"
   ]
  },
  {
   "cell_type": "code",
   "execution_count": 14,
   "id": "8ca20177",
   "metadata": {
    "scrolled": false
   },
   "outputs": [],
   "source": [
    "def train (model, task, optimizer, train_loader, val_loader, num_epochs=10, device=device, comp_val_loader=None) :\n",
    "    train_loss_hist, val_loss_hist = [], []\n",
    "    train_acc_hist, val_acc_hist = [], []\n",
    "    if comp_val_loader :\n",
    "        comp_val_loss_hist, comp_val_acc_hist = [], []\n",
    "\n",
    "    # Outer training loop\n",
    "    for epoch in tqdm(range(num_epochs)):\n",
    "        train_batch = iter(train_loader)\n",
    "        loss_epoch = 0\n",
    "        batch_index = 0\n",
    "\n",
    "        # Minibatch training loop\n",
    "        for data, targets in train_batch:\n",
    "            data = data.to(device)\n",
    "            if task == \"task_2\" :\n",
    "                targets -= 5\n",
    "            targets = targets.to(device)\n",
    "\n",
    "            # forward pass\n",
    "            model.train()\n",
    "            spk_rec, mem_rec = model(data.view(batch_size, -1))\n",
    "\n",
    "            # initialize the loss & sum over time\n",
    "            loss_val = torch.zeros((1), dtype=dtype, device=device)\n",
    "            for step in range(num_steps):\n",
    "                loss_val += loss(mem_rec[step], targets)\n",
    "\n",
    "            # Gradient calculation + weight update\n",
    "            optimizer.zero_grad()\n",
    "            loss_val.backward()\n",
    "            optimizer.step()\n",
    "            loss_epoch += loss_val.item()\n",
    "            batch_index += 1\n",
    "\n",
    "            if batch_index%50 == 0:\n",
    "                print(f'{batch_index} batches used in epoch {epoch}')\n",
    "\n",
    "        # Store loss and acc histories for future plotting\n",
    "        train_loss_hist.append(loss_epoch/len(train_loader))\n",
    "        train_acc_hist.append(get_batch_accuracy(model, data, targets))\n",
    "\n",
    "        \n",
    "        # Test set\n",
    "        with torch.no_grad():\n",
    "            if epoch % 1 == 0:\n",
    "                val_loss_hist, val_acc_hist = compute_val (model, \n",
    "                                                           val_loader, \n",
    "                                                           val_loss_hist, \n",
    "                                                           val_acc_hist, \n",
    "                                                           print_shit=False)\n",
    "                if comp_val_loader:\n",
    "                    comp_val_loss_hist, comp_val_acc_hist = compute_val (model, \n",
    "                                                                         comp_val_loader, \n",
    "                                                                         comp_val_loss_hist, \n",
    "                                                                         comp_val_acc_hist,\n",
    "                                                                         comp_mode=True,\n",
    "                                                                         print_shit=False)\n",
    "                    \n",
    "    output = [train_loss_hist, train_acc_hist, val_loss_hist, val_acc_hist]\n",
    "    if comp_val_loader :\n",
    "        output += [comp_val_loss_hist, comp_val_acc_hist]\n",
    "    return output"
   ]
  },
  {
   "cell_type": "code",
   "execution_count": 15,
   "id": "598f3247",
   "metadata": {},
   "outputs": [],
   "source": [
    "snn_model = SNN(num_inputs, num_hidden, num_outputs, beta).to(device)"
   ]
  },
  {
   "cell_type": "code",
   "execution_count": 16,
   "id": "3ee08bcf",
   "metadata": {},
   "outputs": [],
   "source": [
    "dtype = torch.float\n",
    "loss = nn.CrossEntropyLoss()\n",
    "optimizer = torch.optim.Adam(snn_model.parameters(), lr=5e-4, betas=(0.9, 0.999))"
   ]
  },
  {
   "cell_type": "code",
   "execution_count": 17,
   "id": "93d94ed2",
   "metadata": {},
   "outputs": [
    {
     "name": "stderr",
     "output_type": "stream",
     "text": [
      "\r",
      "  0%|                                                                                            | 0/5 [00:00<?, ?it/s]"
     ]
    },
    {
     "name": "stdout",
     "output_type": "stream",
     "text": [
      "50 batches used in epoch 0\n",
      "100 batches used in epoch 0\n",
      "150 batches used in epoch 0\n"
     ]
    },
    {
     "name": "stderr",
     "output_type": "stream",
     "text": [
      "\r",
      " 20%|████████████████▊                                                                   | 1/5 [00:25<01:41, 25.32s/it]"
     ]
    },
    {
     "name": "stdout",
     "output_type": "stream",
     "text": [
      "50 batches used in epoch 1\n",
      "100 batches used in epoch 1\n",
      "150 batches used in epoch 1\n"
     ]
    },
    {
     "name": "stderr",
     "output_type": "stream",
     "text": [
      "\r",
      " 40%|█████████████████████████████████▌                                                  | 2/5 [00:49<01:14, 24.93s/it]"
     ]
    },
    {
     "name": "stdout",
     "output_type": "stream",
     "text": [
      "50 batches used in epoch 2\n",
      "100 batches used in epoch 2\n",
      "150 batches used in epoch 2\n"
     ]
    },
    {
     "name": "stderr",
     "output_type": "stream",
     "text": [
      "\r",
      " 60%|██████████████████████████████████████████████████▍                                 | 3/5 [01:13<00:49, 24.51s/it]"
     ]
    },
    {
     "name": "stdout",
     "output_type": "stream",
     "text": [
      "50 batches used in epoch 3\n",
      "100 batches used in epoch 3\n",
      "150 batches used in epoch 3\n"
     ]
    },
    {
     "name": "stderr",
     "output_type": "stream",
     "text": [
      "\r",
      " 80%|███████████████████████████████████████████████████████████████████▏                | 4/5 [01:38<00:24, 24.65s/it]"
     ]
    },
    {
     "name": "stdout",
     "output_type": "stream",
     "text": [
      "50 batches used in epoch 4\n",
      "100 batches used in epoch 4\n",
      "150 batches used in epoch 4\n"
     ]
    },
    {
     "name": "stderr",
     "output_type": "stream",
     "text": [
      "100%|████████████████████████████████████████████████████████████████████████████████████| 5/5 [02:03<00:00, 24.76s/it]\n"
     ]
    }
   ],
   "source": [
    "output = train(snn_model, task, optimizer, train_loader, val_loader, num_epochs=5, device=device)\n",
    "train_loss_hist, train_acc_hist, val_loss_hist, val_acc_hist = output"
   ]
  },
  {
   "cell_type": "code",
   "execution_count": 26,
   "id": "849b07bc",
   "metadata": {},
   "outputs": [],
   "source": [
    "def plot_losses(train_loss_hist, val_loss_hist, comp_val_loss_hist=None):\n",
    "    plt.plot(train_loss_hist,label=\"Optimized task : train\",c=\"green\")\n",
    "    plt.plot(val_loss_hist,label=\"Optimized task : val\",c=\"lime\")\n",
    "    \n",
    "    if comp_val_loss_hist :\n",
    "        plt.plot(comp_val_loss_hist,label=\"Side task : val\",c=\"red\")\n",
    "    \n",
    "    plt.xlabel(\"Epochs\")\n",
    "    plt.ylabel(\"Loss\")\n",
    "    plt.legend()"
   ]
  },
  {
   "cell_type": "code",
   "execution_count": 19,
   "id": "8bf666a9",
   "metadata": {},
   "outputs": [
    {
     "data": {
      "image/png": "[encoded data removed]",
      "text/plain": [
       "<Figure size 640x480 with 1 Axes>"
      ]
     },
     "metadata": {},
     "output_type": "display_data"
    }
   ],
   "source": [
    "plot_losses(train_loss_hist, val_loss_hist)"
   ]
  },
  {
   "cell_type": "code",
   "execution_count": 27,
   "id": "4dd38633",
   "metadata": {},
   "outputs": [],
   "source": [
    "def plot_accs(train_acc_hist, val_acc_hist, comp_val_acc_hist=None):\n",
    "    plt.plot(train_acc_hist,label=\"Optimized task : train\",c=\"green\")\n",
    "    plt.plot(val_acc_hist,label=\"Optimized task : val\",c=\"lime\")\n",
    "    \n",
    "    if comp_val_acc_hist :\n",
    "        plt.plot(val_acc_hist,label=\"Side task : val\",c=\"red\")\n",
    "    \n",
    "    plt.xlabel(\"Epochs\")\n",
    "    plt.ylabel(\"Accuracy\")\n",
    "    plt.legend()"
   ]
  },
  {
   "cell_type": "code",
   "execution_count": 21,
   "id": "2de5f8b9",
   "metadata": {
    "scrolled": false
   },
   "outputs": [
    {
     "data": {
      "image/png": "[encoded data removed]",
      "text/plain": [
       "<Figure size 640x480 with 1 Axes>"
      ]
     },
     "metadata": {},
     "output_type": "display_data"
    }
   ],
   "source": [
    "plot_accs(train_acc_hist, val_acc_hist)"
   ]
  },
  {
   "cell_type": "markdown",
   "id": "ea4ca392",
   "metadata": {},
   "source": [
    "## Test snn_model on both tasks"
   ]
  },
  {
   "cell_type": "code",
   "execution_count": 15,
   "id": "7f996753",
   "metadata": {},
   "outputs": [],
   "source": [
    "def test (model, loader, task) :\n",
    "    batch_accs_list = []\n",
    "    for batch in iter(loader) :\n",
    "        data, targets = iter(batch)\n",
    "        data, targets = data.to(device), targets.to(device)\n",
    "        output, _ = model(data.view(batch_size, -1))\n",
    "        _, idx = output.sum(dim=0).max(1)\n",
    "        if task == \"task_2\" :\n",
    "            targets -= 5\n",
    "        batch_acc = np.mean((targets == idx).detach().cpu().numpy())\n",
    "        batch_accs_list.append(batch_acc)\n",
    "\n",
    "    return round(np.mean(batch_accs_list)*100,2)"
   ]
  },
  {
   "cell_type": "code",
   "execution_count": 23,
   "id": "c1257062",
   "metadata": {},
   "outputs": [
    {
     "name": "stdout",
     "output_type": "stream",
     "text": [
      "snn_model achieve 98.87% accuracy on task 1\n",
      "snn_model achieve 33.59% accuracy on task 2\n"
     ]
    }
   ],
   "source": [
    "print(f\"snn_model achieve {test(snn_model, test_loader_1, task_1)}% accuracy on task 1\")\n",
    "print(f\"snn_model achieve {test(snn_model, test_loader_2, task_2)}% accuracy on task 2\")"
   ]
  },
  {
   "cell_type": "markdown",
   "id": "40200061",
   "metadata": {},
   "source": [
    "## Save snn_model weights"
   ]
  },
  {
   "cell_type": "raw",
   "id": "afc5cbce",
   "metadata": {},
   "source": [
    "# Save the state dictionary\n",
    "path=\"SNN_LoRA/state_dict.pth\"\n",
    "torch.save(snn_model.state_dict(), path)"
   ]
  },
  {
   "cell_type": "markdown",
   "id": "03c10883",
   "metadata": {},
   "source": [
    "## Define LoRA for SNN"
   ]
  },
  {
   "cell_type": "code",
   "execution_count": 64,
   "id": "9cf7ea9e",
   "metadata": {},
   "outputs": [],
   "source": [
    "def retrieve_model_weights(model) :\n",
    "    cur_size_out = 0\n",
    "    for child in model.named_children() :\n",
    "        layer_name = child[0]\n",
    "        if layer_name[:2] == \"fc\" :\n",
    "            cur_size_out = child[1].out_features\n",
    "        elif layer_name[:3] == \"lif\" :\n",
    "            layer = getattr(model, layer_name)\n",
    "            mem1 = layer.init_leaky()\n",
    "            cur1 = torch.zeros((batch_size, cur_size_out))\n",
    "            spk1, mem1 = layer(cur1, mem1)\n",
    "    \n",
    "    return model"
   ]
  },
  {
   "cell_type": "code",
   "execution_count": 65,
   "id": "97b0e561",
   "metadata": {},
   "outputs": [],
   "source": [
    "class LoRA_SNN(nn.Module):\n",
    "    def __init__(self, lora_rank, path, num_inputs, num_hidden, num_outputs, beta):\n",
    "        super(LoRA_SNN, self).__init__()\n",
    "        \n",
    "        # Load the pretrained model\n",
    "        model = SNN(num_inputs, num_hidden, num_outputs, beta)\n",
    "        self.model = retrieve_model_weights(model)\n",
    "        self.model.load_state_dict(torch.load(path))\n",
    "        \n",
    "        self.relu = nn.ReLU()\n",
    "        self.dropout = nn.Dropout(0.0)\n",
    "        \n",
    "        # Define LoRA hyperparameters\n",
    "        self.lora_rank = lora_rank\n",
    "        \n",
    "        # Define LoRA weights matrices for each layer in pretrained model\n",
    "        self.l1_lora_A = nn.Parameter(torch.Tensor(self.model.fc1.in_features, lora_rank))\n",
    "        self.l1_lora_B = nn.Parameter(torch.Tensor(lora_rank, self.model.fc1.out_features))\n",
    "        \n",
    "        self.l2_lora_A = nn.Parameter(torch.Tensor(self.model.fc2.in_features, lora_rank))\n",
    "        self.l2_lora_B = nn.Parameter(torch.Tensor(lora_rank, self.model.fc2.out_features))\n",
    "        \n",
    "        # Initialization for LoRA layers\n",
    "        nn.init.kaiming_uniform_(self.l1_lora_A, a=np.sqrt(5))\n",
    "        # nn.init.xavier_normal_(self.l1_lora_A)#, mean=0.0, std=1.0)\n",
    "        nn.init.zeros_(self.l1_lora_B)\n",
    "        \n",
    "        nn.init.kaiming_uniform_(self.l2_lora_A, a=np.sqrt(5))\n",
    "        # nn.init.xavier_normal_(self.l2_lora_A)#, mean=0.0, std=1.0)\n",
    "        nn.init.zeros_(self.l2_lora_B)\n",
    "        \n",
    "        # Freeze non-LoRA weights\n",
    "        self.model.fc1.weight.requires_grad = False\n",
    "        self.model.fc1.bias.requires_grad = False\n",
    "        self.model.fc2.weight.requires_grad = False\n",
    "        self.model.fc2.bias.requires_grad = False\n",
    "        \n",
    "    def lora_linear(self, x, layer, lora_A, lora_B):\n",
    "        h = torch.add(layer(x),1.8*torch.mm(torch.mm(x, lora_A), lora_B))\n",
    "        return h\n",
    "        \n",
    "    def forward(self, x):\n",
    "        # x = input.view(-1, 28*28)\n",
    "        # Initiamize hidden states at t=0\n",
    "        mem1 = self.model.lif1.init_leaky()\n",
    "        mem2 = self.model.lif2.init_leaky()\n",
    "        \n",
    "        # Record the final layer\n",
    "        spk2_rec = []\n",
    "        mem2_rec = []\n",
    "        for step in range(num_steps):\n",
    "            # Apply LoRA layer 1\n",
    "            cur1 = self.lora_linear(x, self.model.fc1, self.l1_lora_A, self.l1_lora_B)\n",
    "            cur1 = self.relu(cur1)\n",
    "            cur1 = self.dropout(cur1)\n",
    "            \n",
    "            # Apply LIF layer 1 \n",
    "            spk1, mem1 = self.model.lif1(cur1, mem1)\n",
    "            \n",
    "            # Apply LoRA layer 2\n",
    "            cur2 = self.lora_linear(spk1, self.model.fc2, self.l2_lora_A, self.l2_lora_B)\n",
    "            cur2 = self.relu(cur2)\n",
    "            cur2 = self.dropout(cur2)\n",
    "            \n",
    "            # Apply LIF layer 2\n",
    "            spk2, mem2 = self.model.lif2(cur2, mem2)\n",
    "            \n",
    "            # Record the time step\n",
    "            spk2_rec.append(spk2)\n",
    "            mem2_rec.append(mem2)\n",
    "\n",
    "        return torch.stack(spk2_rec, dim=0), torch.stack(mem2_rec, dim=0)"
   ]
  },
  {
   "cell_type": "code",
   "execution_count": 66,
   "id": "54ec5c41",
   "metadata": {},
   "outputs": [],
   "source": [
    "# LoRA_SNN's parameters have to be the same as SNN's ones\n",
    "lora_rank = 64\n",
    "path=\"SNN_LoRA/state_dict.pth\"\n",
    "num_inputs = 28*28\n",
    "num_hidden = 1000\n",
    "num_outputs = 5\n",
    "beta = 0.95\n",
    "\n",
    "lora_snn_model = LoRA_SNN(lora_rank, path, num_inputs, num_hidden, num_outputs, beta).to(device)"
   ]
  },
  {
   "cell_type": "raw",
   "id": "0b18e702",
   "metadata": {},
   "source": [
    "# Print the size of the weights matrices of the network\n",
    "# Save the count of the total number of parameters\n",
    "lora_snn_model.eval()\n",
    "total_parameters_original = 0\n",
    "for index, layer in enumerate([lora_snn_model.model.fc1, lora_snn_model.model.fc2]):\n",
    "    total_parameters_original += layer.weight.nelement() + layer.bias.nelement()\n",
    "    print(f'Layer {index+1}: W: {layer.weight.shape} + B: {layer.bias.shape}')\n",
    "print(f'Total number of parameters: {total_parameters_original:,}')"
   ]
  },
  {
   "cell_type": "code",
   "execution_count": 67,
   "id": "23e51794",
   "metadata": {},
   "outputs": [
    {
     "name": "stdout",
     "output_type": "stream",
     "text": [
      "Number of none LoRA parameters of the linear layers (not trainable): 790005\n"
     ]
    }
   ],
   "source": [
    "# Count the parameters in the linear layers (which does not include parameters within LIF layers)\n",
    "def count_lora_parameters(model):\n",
    "    lora_params = []\n",
    "    for param_name, param in model.named_parameters():\n",
    "        if not 'lora' in param_name:\n",
    "            lora_params.append(param)\n",
    "    num_lora_params = sum(torch.numel(param) for param in lora_params)\n",
    "    return num_lora_params\n",
    "\n",
    "lora_param_count = count_lora_parameters(lora_snn_model)\n",
    "print(\"Number of none LoRA parameters of the linear layers (not trainable):\", lora_param_count)"
   ]
  },
  {
   "cell_type": "code",
   "execution_count": 68,
   "id": "1c09093a",
   "metadata": {
    "scrolled": true
   },
   "outputs": [
    {
     "name": "stdout",
     "output_type": "stream",
     "text": [
      "Number of parameters introduced by LoRA (trainable): 178496\n"
     ]
    }
   ],
   "source": [
    "# Count the parameters introduced by lora layers\n",
    "def count_lora_parameters(model):\n",
    "    lora_params = []\n",
    "    for param_name, param in model.named_parameters():\n",
    "        if 'lora' in param_name:\n",
    "            lora_params.append(param)\n",
    "    num_lora_params = sum(torch.numel(param) for param in lora_params)\n",
    "    return num_lora_params\n",
    "\n",
    "lora_param_count = count_lora_parameters(lora_snn_model)\n",
    "print(\"Number of parameters introduced by LoRA (trainable):\", lora_param_count)"
   ]
  },
  {
   "cell_type": "markdown",
   "id": "d58cc2da",
   "metadata": {},
   "source": [
    "## Test the loaded model on both tasks"
   ]
  },
  {
   "cell_type": "code",
   "execution_count": 69,
   "id": "fd19e5dc",
   "metadata": {},
   "outputs": [
    {
     "name": "stdout",
     "output_type": "stream",
     "text": [
      "snn_model achieve 98.2% accuracy on task 1\n",
      "snn_model achieve 33.74% accuracy on task 2\n"
     ]
    }
   ],
   "source": [
    "print(f\"snn_model achieve {test(lora_snn_model, test_loader_1, task_1)}% accuracy on task 1\")\n",
    "print(f\"snn_model achieve {test(lora_snn_model, test_loader_2, task_2)}% accuracy on task 2\")"
   ]
  },
  {
   "cell_type": "markdown",
   "id": "5309a311",
   "metadata": {},
   "source": [
    "## Train LoRA"
   ]
  },
  {
   "cell_type": "code",
   "execution_count": 70,
   "id": "81d7a51b",
   "metadata": {},
   "outputs": [],
   "source": [
    "task = task_2\n",
    "train_loader = train_loader_2\n",
    "val_loader = val_loader_2\n",
    "comp_val_loader = val_loader_1"
   ]
  },
  {
   "cell_type": "code",
   "execution_count": 96,
   "id": "3f48d2b7",
   "metadata": {},
   "outputs": [],
   "source": [
    "dtype = torch.float\n",
    "loss = nn.CrossEntropyLoss()\n",
    "optimizer = torch.optim.Adam(lora_snn_model.parameters(), lr=1e-4, betas=(0.9, 0.999))"
   ]
  },
  {
   "cell_type": "code",
   "execution_count": 72,
   "id": "eb3389e2",
   "metadata": {
    "scrolled": false
   },
   "outputs": [
    {
     "name": "stderr",
     "output_type": "stream",
     "text": [
      "\r",
      "  0%|                                                                                            | 0/1 [00:00<?, ?it/s]"
     ]
    },
    {
     "name": "stdout",
     "output_type": "stream",
     "text": [
      "50 batches used in epoch 0\n",
      "100 batches used in epoch 0\n",
      "150 batches used in epoch 0\n"
     ]
    },
    {
     "name": "stderr",
     "output_type": "stream",
     "text": [
      "100%|████████████████████████████████████████████████████████████████████████████████████| 1/1 [00:16<00:00, 16.29s/it]\n"
     ]
    }
   ],
   "source": [
    "output = train(lora_snn_model, task, optimizer, train_loader, val_loader, num_epochs=1, device=device, comp_val_loader=comp_val_loader)\n",
    "train_loss_hist, train_acc_hist, val_loss_hist, val_acc_hist, comp_val_loss_hist, comp_val_acc_hist = output"
   ]
  },
  {
   "cell_type": "code",
   "execution_count": 73,
   "id": "83ec792d",
   "metadata": {},
   "outputs": [
    {
     "data": {
      "image/png": "[encoded data removed]",
      "text/plain": [
       "<Figure size 640x480 with 1 Axes>"
      ]
     },
     "metadata": {},
     "output_type": "display_data"
    }
   ],
   "source": [
    "plot_losses(train_loss_hist, val_loss_hist, comp_val_loss_hist)"
   ]
  },
  {
   "cell_type": "code",
   "execution_count": 74,
   "id": "d706521c",
   "metadata": {
    "scrolled": false
   },
   "outputs": [
    {
     "data": {
      "image/png": "[encoded data removed]",
      "text/plain": [
       "<Figure size 640x480 with 1 Axes>"
      ]
     },
     "metadata": {},
     "output_type": "display_data"
    }
   ],
   "source": [
    "plot_accs(train_acc_hist, val_acc_hist, comp_val_acc_hist)"
   ]
  },
  {
   "cell_type": "markdown",
   "id": "493111ef",
   "metadata": {},
   "source": [
    "## Test the trained LoRA SNN on both tasks"
   ]
  },
  {
   "cell_type": "code",
   "execution_count": 75,
   "id": "bd7f84ea",
   "metadata": {},
   "outputs": [
    {
     "name": "stdout",
     "output_type": "stream",
     "text": [
      "lora_snn_model achieve 73.52% accuracy on task 1\n",
      "lora_snn_model achieve 70.97% accuracy on task 2\n"
     ]
    }
   ],
   "source": [
    "print(f\"lora_snn_model achieve {test(lora_snn_model, test_loader_1, task_1)}% accuracy on task 1\")\n",
    "print(f\"lora_snn_model achieve {test(lora_snn_model, test_loader_2, task_2)}% accuracy on task 2\")"
   ]
  }
 ],
 "metadata": {
  "kernelspec": {
   "display_name": "Python 3 (ipykernel)",
   "language": "python",
   "name": "python3"
  },
  "language_info": {
   "codemirror_mode": {
    "name": "ipython",
    "version": 3
   },
   "file_extension": ".py",
   "mimetype": "text/x-python",
   "name": "python",
   "nbconvert_exporter": "python",
   "pygments_lexer": "ipython3",
   "version": "3.10.7"
  }
 },
 "nbformat": 4,
 "nbformat_minor": 5
}
