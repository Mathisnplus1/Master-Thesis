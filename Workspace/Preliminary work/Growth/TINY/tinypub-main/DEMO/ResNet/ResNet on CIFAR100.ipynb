{
 "cells": [
  {
   "cell_type": "markdown",
   "id": "87afa1c4",
   "metadata": {},
   "source": [
    "## DEMO ResNet "
   ]
  },
  {
   "cell_type": "markdown",
   "id": "d5c2a19d",
   "metadata": {},
   "source": [
    "We recommend starting with the notebook MLP in the directori DEMO/MLP/."
   ]
  },
  {
   "cell_type": "markdown",
   "id": "4482c398",
   "metadata": {},
   "source": [
    "So far the convolutional layers on which the neurons are added, have to be : \n",
    "* kernel_size = 3 \n",
    "* ((padding = 1, , stride = 1) or (padding = 'same')) "
   ]
  },
  {
   "cell_type": "code",
   "execution_count": 1,
   "id": "fd9ce658",
   "metadata": {},
   "outputs": [],
   "source": [
    "import sys\n",
    "sys.path.append('../../TINY/')"
   ]
  },
  {
   "cell_type": "code",
   "execution_count": 2,
   "id": "76237807",
   "metadata": {},
   "outputs": [],
   "source": [
    "import TINY\n",
    "import UTILS\n",
    "import SOLVE_EB as EB\n",
    "import GLOBALS as G\n",
    "from mes_imports import *\n",
    "import load_data_Loader\n"
   ]
  },
  {
   "cell_type": "markdown",
   "id": "cfb788a4",
   "metadata": {},
   "source": [
    "## Starting architecture"
   ]
  },
  {
   "cell_type": "markdown",
   "id": "1188ea0f",
   "metadata": {},
   "source": [
    "A skip connection is defined by a couple $(i_{in}, i_{out})$ and a transformation skip_fct[$i_{in}$].\n",
    "It transforms the activity of layer $i_{in}$ with the function skip_fct[$i_{in}$] and adds it the the pre-activation of layer $i_{out} + 1$.\n",
    "\n",
    "Currently multiple skip connections starting from $i_{in}$ is not supported.\n",
    "\n"
   ]
  },
  {
   "cell_type": "code",
   "execution_count": 3,
   "id": "49c746a2-72f9-4144-9f28-9e96ed35048a",
   "metadata": {},
   "outputs": [],
   "source": [
    "G.reduction = 64\n",
    "G.rescale = 'theta' \n",
    "G.lr = 1e-2\n",
    "G.batch_size = 32\n",
    "G.architecture_growth = 'Our' \n",
    "G.lambda_method = 1e-3\n",
    "nbr_epochs_betw_adding = 0.25\n",
    "\n",
    "from settings import starting_architecture_RN18 as starting_architecture"
   ]
  },
  {
   "cell_type": "code",
   "execution_count": 4,
   "id": "6445f52a",
   "metadata": {
    "scrolled": true
   },
   "outputs": [
    {
     "name": "stdout",
     "output_type": "stream",
     "text": [
      "skip connection between layer 2  and  3\n",
      "skip connection between layer 4  and  5\n",
      "skip connection between layer 7  and  8\n",
      "skip connection between layer 9  and  10\n",
      "skip connection between layer 12  and  13\n",
      "skip connection between layer 14  and  15\n",
      "skip connection between layer 17  and  18\n",
      "skip connection between layer 19  and  20\n"
     ]
    }
   ],
   "source": [
    "skip_connections = starting_architecture.skip_connections_RN18\n",
    "for (i, j) in zip(skip_connections['in'], skip_connections['out']) :\n",
    "    print('skip connection between layer', i, ' and ', j)"
   ]
  },
  {
   "cell_type": "markdown",
   "id": "45493301",
   "metadata": {},
   "source": [
    "The transformation computed by each skip connection is described with the dictionnary skip_fct with its keys {$i_{in}$ for $i_{in} \\ in$ skip_connections['in']}. \n",
    "\n",
    "If the key $i_{in}$ doesn't existst, the identity will performed as the default transformation. In this notebook we choose the identity for all the skip connections,  so the dictionnary skip_fct is empty."
   ]
  },
  {
   "cell_type": "code",
   "execution_count": 5,
   "id": "a3fdf352",
   "metadata": {},
   "outputs": [
    {
     "data": {
      "text/plain": [
       "dict_keys([])"
      ]
     },
     "execution_count": 5,
     "metadata": {},
     "output_type": "execute_result"
    }
   ],
   "source": [
    "skip_fct = starting_architecture.skip_fct_RN18\n",
    "skip_fct.keys()"
   ]
  },
  {
   "cell_type": "markdown",
   "id": "e20e8959",
   "metadata": {},
   "source": [
    "We start with an architecture such that each layer between a skip connection is of size 1/64 the usual size of ResNet18."
   ]
  },
  {
   "cell_type": "code",
   "execution_count": 6,
   "id": "5c1dc641",
   "metadata": {},
   "outputs": [
    {
     "name": "stdout",
     "output_type": "stream",
     "text": [
      "Reduction is : 64\n",
      "depth  |  layer type | in_chan->out_chan / output size\n",
      "depth 1 |  Conv | 3 -> 64\n",
      "depth 2 |  Conv | 64 -> 1\n",
      "depth 3 |  Conv | 1 -> 64\n",
      "depth 4 |  Conv | 64 -> 1\n",
      "depth 5 |  Conv | 1 -> 64\n",
      "depth 6 |  Conv | 64 -> 128\n",
      "depth 7 |  Conv | 128 -> 2\n",
      "depth 8 |  Conv | 2 -> 128\n",
      "depth 9 |  Conv | 128 -> 2\n",
      "depth 10 |  Conv | 2 -> 128\n",
      "depth 11 |  Conv | 128 -> 256\n",
      "depth 12 |  Conv | 256 -> 4\n",
      "depth 13 |  Conv | 4 -> 256\n",
      "depth 14 |  Conv | 256 -> 4\n",
      "depth 15 |  Conv | 4 -> 256\n",
      "depth 16 |  Conv | 256 -> 512\n",
      "depth 17 |  Conv | 512 -> 8\n",
      "depth 18 |  Conv | 8 -> 512\n",
      "depth 19 |  Conv | 512 -> 8\n",
      "depth 20 |  Conv | 8 -> 512\n",
      "depth 21 | Linear | 100\n"
     ]
    }
   ],
   "source": [
    "skeleton = starting_architecture.skeleton_RN18\n",
    "layer_name = starting_architecture.layer_name_RN18\n",
    "\n",
    "print('Reduction is :', G.reduction)\n",
    "print('depth  |  layer type | in_chan->out_chan / output size')\n",
    "for k in sorted(list(skeleton.keys()))[1:] :\n",
    "    if layer_name[k][0] == 'C' :\n",
    "        print('depth ' + str(k) + ' |  Conv | ' + str(skeleton[k]['in_channels']) + ' -> ' + str(skeleton[k]['out_channels']))\n",
    "        #print('depth ' + str(k) + ' |  Conv | ' + str(RN.outputs_size_after_activation[k]))\n",
    "    else :\n",
    "        print('depth ' + str(k) + ' | Linear | ' + str(skeleton[k]['size']))\n",
    "        #print('depth ' + str(k) + ' | Linear | ' + str(RN.outputs_size_after_activation[k]))"
   ]
  },
  {
   "cell_type": "markdown",
   "id": "56c55fb3",
   "metadata": {},
   "source": [
    "The activitation functions are stored in fct."
   ]
  },
  {
   "cell_type": "code",
   "execution_count": 7,
   "id": "ce1276a7",
   "metadata": {},
   "outputs": [
    {
     "name": "stdout",
     "output_type": "stream",
     "text": [
      "fct_ 1  :=  ReLU()\n",
      "fct_ 2  :=  ReLU()\n",
      "fct_ 3  :=  ReLU()\n",
      "fct_ 4  :=  ReLU()\n",
      "fct_ 5  :=  ReLU()\n",
      "fct_ 6  :=  AvgPool2d(kernel_size=(2, 2), stride=(2, 2), padding=(0, 0))\n",
      "fct_ 7  :=  ReLU()\n",
      "fct_ 8  :=  ReLU()\n",
      "fct_ 9  :=  ReLU()\n",
      "fct_ 10  :=  ReLU()\n",
      "fct_ 11  :=  AvgPool2d(kernel_size=(2, 2), stride=(2, 2), padding=(0, 0))\n",
      "fct_ 12  :=  ReLU()\n",
      "fct_ 13  :=  ReLU()\n",
      "fct_ 14  :=  ReLU()\n",
      "fct_ 15  :=  ReLU()\n",
      "fct_ 16  :=  AvgPool2d(kernel_size=(2, 2), stride=(2, 2), padding=(0, 0))\n",
      "fct_ 17  :=  ReLU()\n",
      "fct_ 18  :=  ReLU()\n",
      "fct_ 19  :=  ReLU()\n",
      "fct_ 20  :=  AdaptiveAvgPool2d(output_size=(1, 1))\n",
      "fct_ 21  :=  Identity()\n"
     ]
    }
   ],
   "source": [
    "fct = starting_architecture.fct_RN18\n",
    "for k in sorted(list(fct.keys())) :\n",
    "    print('fct_', k, ' := ', fct[k])"
   ]
  },
  {
   "cell_type": "code",
   "execution_count": 8,
   "id": "2dc7623b",
   "metadata": {},
   "outputs": [],
   "source": [
    "a, b, c, d = starting_architecture.a, starting_architecture.b, starting_architecture.c, starting_architecture.d\n",
    "a0, b0, c0, d0 = starting_architecture.a0, starting_architecture.b0, starting_architecture.c0, starting_architecture.d0\n",
    "ainf, binf, cinf, dinf = starting_architecture.ainf, starting_architecture.binf, starting_architecture.cinf, starting_architecture.dinf\n"
   ]
  },
  {
   "cell_type": "code",
   "execution_count": 9,
   "id": "68e4c84a-9940-4cf6-8ecc-9b8b0a9a6441",
   "metadata": {},
   "outputs": [
    {
     "name": "stdout",
     "output_type": "stream",
     "text": [
      "architecture growth from  (1, 2, 4, 8) to (64, 128, 256, 512)\n"
     ]
    }
   ],
   "source": [
    "print('architecture growth from ', (a0, b0, c0, d0) , 'to', (a, b, c, d))"
   ]
  },
  {
   "cell_type": "markdown",
   "id": "b631a833",
   "metadata": {},
   "source": [
    "## The adding strategy"
   ]
  },
  {
   "cell_type": "markdown",
   "id": "f3440062",
   "metadata": {},
   "source": [
    "In this notebook the startegy is to add neurons at each layer until it reachs the architecture of the usual RN18. The amount of neurons to add at each depth to achieve this results is in the dictionnary to_add."
   ]
  },
  {
   "cell_type": "code",
   "execution_count": 11,
   "id": "a9377ae5",
   "metadata": {},
   "outputs": [
    {
     "data": {
      "text/plain": [
       "{2: 63, 4: 63, 7: 126, 9: 126, 12: 252, 14: 252, 17: 504, 19: 504}"
      ]
     },
     "execution_count": 11,
     "metadata": {},
     "output_type": "execute_result"
    }
   ],
   "source": [
    "to_add = {2 : (ainf - a0), 4 : (ainf - a0), 7 : (binf - b0), 9 : (binf - b0), \n",
    "          12 : (cinf - c0), 14 : (cinf - c0), 17 : (dinf - d0), 19 : (dinf - d0)}\n",
    "to_add"
   ]
  },
  {
   "cell_type": "markdown",
   "id": "73df8852",
   "metadata": {},
   "source": [
    "## The model RN"
   ]
  },
  {
   "cell_type": "code",
   "execution_count": 12,
   "id": "ee4eb095",
   "metadata": {
    "scrolled": true
   },
   "outputs": [
    {
     "name": "stdout",
     "output_type": "stream",
     "text": [
      "Computing matrix T at depth :  2  ...\n"
     ]
    },
    {
     "name": "stderr",
     "output_type": "stream",
     "text": [
      "/home/tau/mverbock/TINYpub/DEMO/ResNet/../../TINY/T_S_F_N.py:137: UserWarning: Sparse CSR tensor support is in beta state. If you miss a functionality in the sparse tensor support, please submit a feature request to https://github.com/pytorch/pytorch/issues. (Triggered internally at /opt/conda/conda-bld/pytorch_1682343964576/work/aten/src/ATen/SparseCsrTensorImpl.cpp:54.)\n",
      "  T_T_T = torch.sparse.sum(torch.cat([torch.unsqueeze(torch.sparse.mm(T_j[k].transpose(1, 0), T_j[k]), dim = 0) for k in range(T_j.shape[0])]), dim = 0)\n"
     ]
    },
    {
     "name": "stdout",
     "output_type": "stream",
     "text": [
      "Computing matrix T at depth :  4  ...\n",
      "Computing matrix T at depth :  7  ...\n",
      "Computing matrix T at depth :  9  ...\n",
      "Computing matrix T at depth :  12  ...\n",
      "Computing matrix T at depth :  14  ...\n",
      "Computing matrix T at depth :  17  ...\n",
      "Computing matrix T at depth :  19  ...\n",
      "Files already downloaded and verified\n",
      "Files already downloaded and verified\n"
     ]
    }
   ],
   "source": [
    "dico_parameters = {\n",
    "                    'skeleton' : copy.deepcopy(skeleton),\n",
    "                    'Loss' : UTILS.Loss_entropy,\n",
    "                    'fct' : fct,\n",
    "                    'layer_name' :layer_name,\n",
    "                    'init_deplacement' : 1e-8,\n",
    "                    'batch_size' : G.batch_size,\n",
    "                    'lr' : G.lr,\n",
    "                    'rescale' : G.rescale,\n",
    "                    'exp' : 2,\n",
    "                    'lambda_method' : G.lambda_method,\n",
    "                    'accroissement_decay' : 1e-8,\n",
    "                    'lu_conv' : 0.001,\n",
    "                    'max_batch_estimation' : 100,\n",
    "                    'max_amplitude' : 20.,\n",
    "                    'ind_lmbda_shape' : 1000,\n",
    "                    'init_X_shape' : [3, 32, 32],\n",
    "                    'skip_connections' : skip_connections,\n",
    "                    'skip_fcts' : skip_fct,\n",
    "                    'len_train_dataset' : 50000,\n",
    "                    'len_test_dataset' : 10000,\n",
    "                    'T_j_depth' : [d for d in list(to_add.keys()) if layer_name[d][0] == 'C'],\n",
    "                    'selection_neuron' : UTILS.selection_neuron_seuil,\n",
    "                    'how_to_define_batchsize' : UTILS.indices_non_constant, \n",
    "                    'depth_seuil' : starting_architecture.depth_seuil,\n",
    "                    'architecture_growth' : G.architecture_growth\n",
    "                    }\n",
    "RN = TINY.TINY(dico_parameters)\n",
    "\n",
    "RN.training_data, RN.test_data = load_data_Loader.load_database_CIFAR100(AugD=True)\n",
    "RN.tr_loader = DataLoader(RN.training_data, batch_size=RN.max_batch_estimation, shuffle=True)\n",
    "RN.te_loader = DataLoader(RN.test_data, batch_size=RN.max_batch_estimation, shuffle=True)"
   ]
  },
  {
   "cell_type": "markdown",
   "id": "fbcb40fe",
   "metadata": {},
   "source": [
    "The starting architecture is then :"
   ]
  },
  {
   "cell_type": "code",
   "execution_count": 13,
   "id": "d99a3d20",
   "metadata": {},
   "outputs": [
    {
     "name": "stdout",
     "output_type": "stream",
     "text": [
      "depth  |  layer type | output size\n",
      "depth 1 |  Conv | [32, 32, 64]\n",
      "depth 2 |  Conv | [32, 32, 1]\n",
      "depth 3 |  Conv | [32, 32, 64]\n",
      "depth 4 |  Conv | [32, 32, 1]\n",
      "depth 5 |  Conv | [32, 32, 64]\n",
      "depth 6 |  Conv | [16, 16, 128]\n",
      "depth 7 |  Conv | [16, 16, 2]\n",
      "depth 8 |  Conv | [16, 16, 128]\n",
      "depth 9 |  Conv | [16, 16, 2]\n",
      "depth 10 |  Conv | [16, 16, 128]\n",
      "depth 11 |  Conv | [8, 8, 256]\n",
      "depth 12 |  Conv | [8, 8, 4]\n",
      "depth 13 |  Conv | [8, 8, 256]\n",
      "depth 14 |  Conv | [8, 8, 4]\n",
      "depth 15 |  Conv | [8, 8, 256]\n",
      "depth 16 |  Conv | [4, 4, 512]\n",
      "depth 17 |  Conv | [4, 4, 8]\n",
      "depth 18 |  Conv | [4, 4, 512]\n",
      "depth 19 |  Conv | [4, 4, 8]\n",
      "depth 20 |  Conv | [1, 1, 512]\n",
      "depth 21 | Linear | [100]\n"
     ]
    }
   ],
   "source": [
    "print('depth  |  layer type | output size')\n",
    "for k in sorted(list(skeleton.keys()))[1:] :\n",
    "    if layer_name[k][0] == 'C' :\n",
    "        #print('depth ' + str(k) + ' |  Conv | ' + str(skeleton[k]['in_channels']) + ' -> ' + str(skeleton[k]['out_channels']))\n",
    "        print('depth ' + str(k) + ' |  Conv | ' + str(RN.outputs_size_after_activation[k]))\n",
    "    else :\n",
    "        #print('depth ' + str(k) + ' | Linear | ' + str(skeleton[k]['size']))\n",
    "        print('depth ' + str(k) + ' | Linear | ' + str(RN.outputs_size_after_activation[k]))"
   ]
  },
  {
   "cell_type": "markdown",
   "id": "637718b6",
   "metadata": {},
   "source": [
    "## Architecture growth and training "
   ]
  },
  {
   "cell_type": "code",
   "execution_count": 14,
   "id": "674c0a43",
   "metadata": {},
   "outputs": [],
   "source": [
    "df_tracker = pd.DataFrame()\n",
    "A_tr, A_te, L_tr, L_te, T = np.array([]), np.array([]), np.array([]), np.array([]), np.array([0])\n",
    "nbr_pass = 8\n",
    "\n",
    "path = 'resultats/'"
   ]
  },
  {
   "cell_type": "code",
   "execution_count": 15,
   "id": "988e5ffb",
   "metadata": {},
   "outputs": [],
   "source": [
    "def update_quantity_of_interest() :\n",
    "        global L_tr, L_te, A_tr, A_te, T, df_tracker\n",
    "        dico_tracker = {'vps' + str(i) : [ RN.valeurs_propres[i].item()] for i in range(len(RN.valeurs_propres))}\n",
    "\n",
    "        dico_tracker.update({'depth_add' : best_depth, 'nbr_added_neuron': RN.nbr_added_neuron})\n",
    "        dico_tracker.update({'accroissement' : [dico_EB[best_depth]['accroissement']], 'portion_gain' : [dico_EB[best_depth]['portion_gain']],\n",
    "                            'nbr_parameters_apres' : [RN.count_parameters()], 'nbr_parameters_avant' : [nbr_parameters_avant],\n",
    "                            'T' : [T[-1]], 'len_L_tr' : [len(L_tr)], 'lu_conv' : [RN.lu_conv]})\n",
    "\n",
    "        df_tracker = pd.concat([df_tracker, pd.DataFrame.from_dict(dico_tracker)], ignore_index=True)\n",
    "\n",
    "        L_tr = np.concatenate([L_tr, l_tr])\n",
    "        L_te = np.concatenate([L_te, l_te])\n",
    "        A_tr = np.concatenate([A_tr, a_tr])\n",
    "        A_te = np.concatenate([A_te, a_te])\n",
    "        T = np.concatenate([T, t +  T[-1]])\n",
    "\n",
    "def stabilize_training() :\n",
    "    RN.batch_size = math.ceil(np.sqrt(RN.count_parameters() / nbr_parameters_avant) *  RN.batch_size)\n",
    "    #RN.batch_size = math.ceil(RN.count_parameters() / nbr_parameters_avant *  RN.batch_size)\n"
   ]
  },
  {
   "cell_type": "code",
   "execution_count": 16,
   "id": "cd5379e6",
   "metadata": {},
   "outputs": [],
   "source": [
    "count = 1"
   ]
  },
  {
   "cell_type": "code",
   "execution_count": 17,
   "id": "12153913",
   "metadata": {},
   "outputs": [
    {
     "data": {
      "application/json": {
       "ascii": false,
       "bar_format": null,
       "colour": null,
       "elapsed": 0.007921457290649414,
       "initial": 0,
       "n": 0,
       "ncols": null,
       "nrows": null,
       "postfix": null,
       "prefix": "",
       "rate": null,
       "total": 1,
       "unit": "it",
       "unit_divisor": 1000,
       "unit_scale": false
      },
      "application/vnd.jupyter.widget-view+json": {
       "model_id": "3c928e72bc24457b82d137db51cd7767",
       "version_major": 2,
       "version_minor": 0
      },
      "text/plain": [
       "  0%|          | 0/1 [00:00<?, ?it/s]"
      ]
     },
     "metadata": {},
     "output_type": "display_data"
    },
    {
     "name": "stdout",
     "output_type": "stream",
     "text": [
      "\n",
      "\n",
      "*** started  NG at  3 ***\n",
      "Batch size for estimation : 200\n",
      "\n",
      "\n",
      "*** started  Add at  2 ***\n",
      "Batch size for estimation : 200\n",
      "*** method : OUR ***\n",
      "eigh succed\n",
      "svd succed\n",
      "*** ADD : THRESHOLD SELECTION ***\n",
      "***  normalize NewNeurons acc. ||parameters|| ***\n",
      "amplitude factor for the new neurons : 0.0010000000474974513\n",
      "(alpha, omega) <-- (sqrt(ampl) x alpha, sqrt(ampl) x omega)\n",
      "*** Added neurons at  2 ***\n",
      "\n",
      "\n"
     ]
    },
    {
     "data": {
      "application/json": {
       "ascii": false,
       "bar_format": null,
       "colour": null,
       "elapsed": 0.016948223114013672,
       "initial": 0,
       "n": 0,
       "ncols": null,
       "nrows": null,
       "postfix": null,
       "prefix": "",
       "rate": null,
       "total": 1,
       "unit": "it",
       "unit_divisor": 1000,
       "unit_scale": false
      },
      "application/vnd.jupyter.widget-view+json": {
       "model_id": "54de64478a4d4b0486a5eed2c73542c4",
       "version_major": 2,
       "version_minor": 0
      },
      "text/plain": [
       "  0%|          | 0/1 [00:00<?, ?it/s]"
      ]
     },
     "metadata": {},
     "output_type": "display_data"
    },
    {
     "name": "stdout",
     "output_type": "stream",
     "text": [
      "\n",
      "\n",
      "*** started  NG at  3 ***\n",
      "Batch size for estimation : 200\n",
      "\n",
      "\n",
      "*** started  Add at  2 ***\n",
      "Batch size for estimation : 200\n",
      "*** method : OUR ***\n",
      "eigh succed\n",
      "svd succed\n",
      "*** ADD : THRESHOLD SELECTION ***\n",
      "***  normalize NewNeurons acc. ||parameters|| ***\n",
      "amplitude factor for the new neurons : 0.0010000000474974513\n",
      "(alpha, omega) <-- (sqrt(ampl) x alpha, sqrt(ampl) x omega)\n",
      "*** Added neurons at  2 ***\n",
      "\n",
      "\n"
     ]
    },
    {
     "data": {
      "application/json": {
       "ascii": false,
       "bar_format": null,
       "colour": null,
       "elapsed": 0.01580333709716797,
       "initial": 0,
       "n": 0,
       "ncols": null,
       "nrows": null,
       "postfix": null,
       "prefix": "",
       "rate": null,
       "total": 1,
       "unit": "it",
       "unit_divisor": 1000,
       "unit_scale": false
      },
      "application/vnd.jupyter.widget-view+json": {
       "model_id": "6c51d5f62b9c4ba58f8e42bf7b9947c3",
       "version_major": 2,
       "version_minor": 0
      },
      "text/plain": [
       "  0%|          | 0/1 [00:00<?, ?it/s]"
      ]
     },
     "metadata": {},
     "output_type": "display_data"
    },
    {
     "name": "stdout",
     "output_type": "stream",
     "text": [
      "\n",
      "\n",
      "*** started  NG at  3 ***\n",
      "Batch size for estimation : 200\n",
      "\n",
      "\n",
      "*** started  Add at  2 ***\n",
      "Batch size for estimation : 200\n",
      "*** method : OUR ***\n",
      "eigh succed\n",
      "svd succed\n",
      "*** ADD : THRESHOLD SELECTION ***\n",
      "***  normalize NewNeurons acc. ||parameters|| ***\n",
      "amplitude factor for the new neurons : 0.0010000000474974513\n",
      "(alpha, omega) <-- (sqrt(ampl) x alpha, sqrt(ampl) x omega)\n",
      "*** Added neurons at  2 ***\n",
      "\n",
      "\n"
     ]
    },
    {
     "ename": "KeyboardInterrupt",
     "evalue": "",
     "output_type": "error",
     "traceback": [
      "\u001b[0;31m---------------------------------------------------------------------------\u001b[0m",
      "\u001b[0;31mKeyboardInterrupt\u001b[0m                         Traceback (most recent call last)",
      "Cell \u001b[0;32mIn[17], line 51\u001b[0m\n\u001b[1;32m     49\u001b[0m RN\u001b[38;5;241m.\u001b[39mte_loader \u001b[38;5;241m=\u001b[39m DataLoader(RN\u001b[38;5;241m.\u001b[39mtest_data, batch_size\u001b[38;5;241m=\u001b[39mRN\u001b[38;5;241m.\u001b[39mbatch_size, shuffle\u001b[38;5;241m=\u001b[39m\u001b[38;5;28;01mTrue\u001b[39;00m)\n\u001b[1;32m     50\u001b[0m optimizer \u001b[38;5;241m=\u001b[39m torch\u001b[38;5;241m.\u001b[39moptim\u001b[38;5;241m.\u001b[39mSGD(RN\u001b[38;5;241m.\u001b[39mparameters(), lr \u001b[38;5;241m=\u001b[39m RN\u001b[38;5;241m.\u001b[39mlr)\n\u001b[0;32m---> 51\u001b[0m l_tr, l_te, l_va, a_tr, a_te, a_va, t \u001b[38;5;241m=\u001b[39m \u001b[43mRN\u001b[49m\u001b[38;5;241;43m.\u001b[39;49m\u001b[43mtrain_batch\u001b[49m\u001b[43m(\u001b[49m\u001b[43mnbr_epochs_betw_adding\u001b[49m\u001b[43m,\u001b[49m\u001b[43m \u001b[49m\u001b[43moptimizer\u001b[49m\u001b[43m \u001b[49m\u001b[38;5;241;43m=\u001b[39;49m\u001b[43m \u001b[49m\u001b[43moptimizer\u001b[49m\u001b[43m)\u001b[49m\n\u001b[1;32m     52\u001b[0m update_quantity_of_interest()\n\u001b[1;32m     55\u001b[0m df_performance \u001b[38;5;241m=\u001b[39m pd\u001b[38;5;241m.\u001b[39mDataFrame\u001b[38;5;241m.\u001b[39mfrom_dict({\u001b[38;5;124m'\u001b[39m\u001b[38;5;124mL_tr\u001b[39m\u001b[38;5;124m'\u001b[39m : L_tr, \u001b[38;5;124m'\u001b[39m\u001b[38;5;124mL_te\u001b[39m\u001b[38;5;124m'\u001b[39m : L_te, \u001b[38;5;124m'\u001b[39m\u001b[38;5;124mA_tr\u001b[39m\u001b[38;5;124m'\u001b[39m : A_tr, \u001b[38;5;124m'\u001b[39m\u001b[38;5;124mA_te\u001b[39m\u001b[38;5;124m'\u001b[39m : A_te, \u001b[38;5;124m'\u001b[39m\u001b[38;5;124mT\u001b[39m\u001b[38;5;124m'\u001b[39m : T[\u001b[38;5;241m1\u001b[39m:]})\n",
      "File \u001b[0;32m~/TINYpub/DEMO/ResNet/../../TINY/TINY.py:766\u001b[0m, in \u001b[0;36mTINY.train_batch\u001b[0;34m(self, nbr_epoch, limite_temps, optimizer, cte_epoch)\u001b[0m\n\u001b[1;32m    764\u001b[0m Y_pred \u001b[38;5;241m=\u001b[39m \u001b[38;5;28mself\u001b[39m(X_input)\n\u001b[1;32m    765\u001b[0m Loss \u001b[38;5;241m=\u001b[39m criterion(Y_pred, Y_input) \n\u001b[0;32m--> 766\u001b[0m \u001b[43mLoss\u001b[49m\u001b[38;5;241;43m.\u001b[39;49m\u001b[43mbackward\u001b[49m\u001b[43m(\u001b[49m\u001b[43m)\u001b[49m\n\u001b[1;32m    768\u001b[0m \u001b[38;5;28;01mif\u001b[39;00m \u001b[38;5;129;01mnot\u001b[39;00m(\u001b[38;5;28mself\u001b[39m\u001b[38;5;241m.\u001b[39mgradient_clip \u001b[38;5;129;01mis\u001b[39;00m \u001b[38;5;28;01mNone\u001b[39;00m) :\n\u001b[1;32m    769\u001b[0m     \u001b[38;5;66;03m#print(\"*** gradient clip : A DEFINIR ***\")\u001b[39;00m\n\u001b[1;32m    770\u001b[0m     \u001b[38;5;66;03m#assert False\u001b[39;00m\n\u001b[1;32m    771\u001b[0m     \u001b[38;5;28;01mfor\u001b[39;00m p \u001b[38;5;129;01min\u001b[39;00m \u001b[38;5;28mself\u001b[39m\u001b[38;5;241m.\u001b[39mparameters() :\n",
      "File \u001b[0;32m~/miniconda3/envs/express/lib/python3.9/site-packages/torch/_tensor.py:487\u001b[0m, in \u001b[0;36mTensor.backward\u001b[0;34m(self, gradient, retain_graph, create_graph, inputs)\u001b[0m\n\u001b[1;32m    477\u001b[0m \u001b[38;5;28;01mif\u001b[39;00m has_torch_function_unary(\u001b[38;5;28mself\u001b[39m):\n\u001b[1;32m    478\u001b[0m     \u001b[38;5;28;01mreturn\u001b[39;00m handle_torch_function(\n\u001b[1;32m    479\u001b[0m         Tensor\u001b[38;5;241m.\u001b[39mbackward,\n\u001b[1;32m    480\u001b[0m         (\u001b[38;5;28mself\u001b[39m,),\n\u001b[0;32m   (...)\u001b[0m\n\u001b[1;32m    485\u001b[0m         inputs\u001b[38;5;241m=\u001b[39minputs,\n\u001b[1;32m    486\u001b[0m     )\n\u001b[0;32m--> 487\u001b[0m \u001b[43mtorch\u001b[49m\u001b[38;5;241;43m.\u001b[39;49m\u001b[43mautograd\u001b[49m\u001b[38;5;241;43m.\u001b[39;49m\u001b[43mbackward\u001b[49m\u001b[43m(\u001b[49m\n\u001b[1;32m    488\u001b[0m \u001b[43m    \u001b[49m\u001b[38;5;28;43mself\u001b[39;49m\u001b[43m,\u001b[49m\u001b[43m \u001b[49m\u001b[43mgradient\u001b[49m\u001b[43m,\u001b[49m\u001b[43m \u001b[49m\u001b[43mretain_graph\u001b[49m\u001b[43m,\u001b[49m\u001b[43m \u001b[49m\u001b[43mcreate_graph\u001b[49m\u001b[43m,\u001b[49m\u001b[43m \u001b[49m\u001b[43minputs\u001b[49m\u001b[38;5;241;43m=\u001b[39;49m\u001b[43minputs\u001b[49m\n\u001b[1;32m    489\u001b[0m \u001b[43m\u001b[49m\u001b[43m)\u001b[49m\n",
      "File \u001b[0;32m~/miniconda3/envs/express/lib/python3.9/site-packages/torch/autograd/__init__.py:200\u001b[0m, in \u001b[0;36mbackward\u001b[0;34m(tensors, grad_tensors, retain_graph, create_graph, grad_variables, inputs)\u001b[0m\n\u001b[1;32m    195\u001b[0m     retain_graph \u001b[38;5;241m=\u001b[39m create_graph\n\u001b[1;32m    197\u001b[0m \u001b[38;5;66;03m# The reason we repeat same the comment below is that\u001b[39;00m\n\u001b[1;32m    198\u001b[0m \u001b[38;5;66;03m# some Python versions print out the first line of a multi-line function\u001b[39;00m\n\u001b[1;32m    199\u001b[0m \u001b[38;5;66;03m# calls in the traceback and some print out the last line\u001b[39;00m\n\u001b[0;32m--> 200\u001b[0m \u001b[43mVariable\u001b[49m\u001b[38;5;241;43m.\u001b[39;49m\u001b[43m_execution_engine\u001b[49m\u001b[38;5;241;43m.\u001b[39;49m\u001b[43mrun_backward\u001b[49m\u001b[43m(\u001b[49m\u001b[43m  \u001b[49m\u001b[38;5;66;43;03m# Calls into the C++ engine to run the backward pass\u001b[39;49;00m\n\u001b[1;32m    201\u001b[0m \u001b[43m    \u001b[49m\u001b[43mtensors\u001b[49m\u001b[43m,\u001b[49m\u001b[43m \u001b[49m\u001b[43mgrad_tensors_\u001b[49m\u001b[43m,\u001b[49m\u001b[43m \u001b[49m\u001b[43mretain_graph\u001b[49m\u001b[43m,\u001b[49m\u001b[43m \u001b[49m\u001b[43mcreate_graph\u001b[49m\u001b[43m,\u001b[49m\u001b[43m \u001b[49m\u001b[43minputs\u001b[49m\u001b[43m,\u001b[49m\n\u001b[1;32m    202\u001b[0m \u001b[43m    \u001b[49m\u001b[43mallow_unreachable\u001b[49m\u001b[38;5;241;43m=\u001b[39;49m\u001b[38;5;28;43;01mTrue\u001b[39;49;00m\u001b[43m,\u001b[49m\u001b[43m \u001b[49m\u001b[43maccumulate_grad\u001b[49m\u001b[38;5;241;43m=\u001b[39;49m\u001b[38;5;28;43;01mTrue\u001b[39;49;00m\u001b[43m)\u001b[49m\n",
      "\u001b[0;31mKeyboardInterrupt\u001b[0m: "
     ]
    }
   ],
   "source": [
    "for pas in range(nbr_pass) :\n",
    "    size_to_add = len(to_add.keys())\n",
    "    #size_to_add = 1\n",
    "    for j in tqdm(range(size_to_add)) :\n",
    "        nbr_parameters_avant = RN.count_parameters()\n",
    "        ########### Select the best depth (time consuming)############\n",
    "        #gc.collect()\n",
    "        #torch.cuda.empty_cache()\n",
    "        #RN.tr_loader = DataLoader(RN.training_data, batch_size=RN.max_batch_estimation, shuffle=True)\n",
    "        #RN.te_loader = DataLoader(RN.test_data, batch_size=RN.max_batch_estimation, shuffle=True)\n",
    "\n",
    "        #depth_ajout = list(to_add.keys())\n",
    "        #depth_in_decreasing_criterion, dico_EB = EB.where_is_EB_best_solved(RN, depths = depth_ajout)\n",
    "\n",
    "        #best_depth = depth_in_decreasing_criterion[0]\n",
    "        #dico_EB_bd = dico_EB[best_depth]\n",
    "        #alpha, omega, bias_alpha, vps = dico_EB_bd['alpha'], dico_EB_bd['omega'], dico_EB_bd['bias_alpha'], dico_EB_bd['vps']\n",
    "        #lambda_method = dico_EB_bd['beta_min']\n",
    "\n",
    "        #RN.alpha, RN.omega, RN.bias_alpha, RN.valeurs_propres = None, None, None, []\n",
    "        #RN.TAB_Add = None\n",
    "\n",
    "        #if dico_EB_bd['accroissement'] > 0 :\n",
    "        #    RN.dico_w, RN.lambda_method = dico_EB_bd['dico_w'], dico_EB_bd['beta_min']\n",
    "        #    EB.add_neurons(RN, best_depth, alpha = alpha, omega = omega, bias_alpha = bias_alpha, valeurs_propres = vps)\n",
    "        #    RN.lambda_method = torch.tensor(0., device = my_device_0)\n",
    "\n",
    "        #    to_add[best_depth] -= alpha.shape[0]\n",
    "        #    if to_add[best_depth] == 0 :\n",
    "        #        del to_add[best_depth]\n",
    "        \n",
    "        \n",
    "        ######## Or just add neurons in depth order (fast) ######\n",
    "        k = list(to_add.keys())[j]\n",
    "        best_depth, dico_EB = k, {k : {'accroissement' : 0., 'portion_gain' : 0}}\n",
    "        RN.dico_w = None\n",
    "        RN.how_to_define_batchsize(RN, k + 1, method = 'NG')\n",
    "        EB.compute_NG(RN, k + 1, update = False, compute_gain = False)\n",
    "        RN.how_to_define_batchsize(RN, k, method = 'Add')\n",
    "        EB.add_neurons(RN, k, update = True)\n",
    "        to_add[k] -= RN.alpha.shape[0] \n",
    "        \n",
    "        \n",
    "        \n",
    "\n",
    "        #### training loop ####\n",
    "        stabilize_training()\n",
    "        RN.tr_loader = DataLoader(RN.training_data, batch_size=RN.batch_size, shuffle=True)\n",
    "        RN.te_loader = DataLoader(RN.test_data, batch_size=RN.batch_size, shuffle=True)\n",
    "        optimizer = torch.optim.SGD(RN.parameters(), lr = RN.lr)\n",
    "        l_tr, l_te, l_va, a_tr, a_te, a_va, t = RN.train_batch(nbr_epochs_betw_adding, optimizer = optimizer)\n",
    "        update_quantity_of_interest()\n",
    "\n",
    "\n",
    "        df_performance = pd.DataFrame.from_dict({'L_tr' : L_tr, 'L_te' : L_te, 'A_tr' : A_tr, 'A_te' : A_te, 'T' : T[1:]})\n",
    "        df_tracker.to_csv( path + 'df_tracker.csv' , index=False)\n",
    "        df_performance.to_csv( path + '/df_performance.csv', index=False)\n",
    "        RN.T = T[-1]\n",
    "        RN.len_L_tr = len(L_tr)\n",
    "\n",
    "    UTILS.save_model_to_file(RN, path = path + '/' , name='model_' + str(count))\n",
    "    count += 1\n"
   ]
  },
  {
   "cell_type": "code",
   "execution_count": null,
   "id": "9dc2ec0e",
   "metadata": {},
   "outputs": [],
   "source": []
  },
  {
   "cell_type": "markdown",
   "id": "8813716e",
   "metadata": {},
   "source": [
    "## Plots"
   ]
  },
  {
   "cell_type": "code",
   "execution_count": 60,
   "id": "52c01a99",
   "metadata": {},
   "outputs": [],
   "source": [
    "df_tracker = pd.read_csv(path + 'df_tracker.csv')\n",
    "df_performance = pd.read_csv(path + 'df_performance.csv')"
   ]
  },
  {
   "cell_type": "code",
   "execution_count": 61,
   "id": "d454cece",
   "metadata": {},
   "outputs": [],
   "source": [
    "coef = 100 # smoothing coefficient \n",
    "kernel = torch.zeros(1, 1, coef)\n",
    "C = 10\n",
    "for i, t1 in enumerate(torch.linspace(-C, C, coef)[:int(coef/2) + 1]) :\n",
    "    t2 = t1 + 2*C/(coef/2)\n",
    "    #if t1 <= 0 :\n",
    "    h = torch.distributions.normal.Normal(0, 1).cdf(t2) - torch.distributions.normal.Normal(0, 1).cdf(t1)\n",
    "    kernel[0, 0, i] = h\n",
    "kernel /= kernel.sum()"
   ]
  },
  {
   "cell_type": "code",
   "execution_count": 62,
   "id": "6aaf892a",
   "metadata": {},
   "outputs": [],
   "source": [
    "A_tr_padd = torch.concatenate([torch.ones(int(coef/2)) * df_performance['A_tr'][:5].mean(), \n",
    "                               torch.from_numpy(df_performance['A_tr'].values.astype(np.float32)),\n",
    "                               torch.ones(int(coef/2)) * df_performance['A_tr'][-5:].mean()])\n",
    "A_te_padd = torch.concatenate([torch.ones(int(coef/2)) * df_performance['A_te'][:5].mean(), \n",
    "                               torch.from_numpy(df_performance['A_te'].values.astype(np.float32)),\n",
    "                               torch.ones(int(coef/2)) * df_performance['A_te'][-5:].mean()])\n",
    "smooth_A_tr = torch.nn.functional.conv1d(A_tr_padd[None, None, :], kernel, padding = 0)\n",
    "smooth_A_te = torch.nn.functional.conv1d(A_te_padd[None, None, :], kernel, padding = 0)"
   ]
  },
  {
   "cell_type": "code",
   "execution_count": 63,
   "id": "99ff7825",
   "metadata": {},
   "outputs": [
    {
     "data": {
      "image/png": "[encoded data removed]",
      "text/plain": [
       "<Figure size 640x480 with 2 Axes>"
      ]
     },
     "metadata": {},
     "output_type": "display_data"
    }
   ],
   "source": [
    "fig, ax = plt.subplots(1, 1)\n",
    "ax.plot(smooth_A_tr[0, 0], label = 'A_tr')\n",
    "ax.plot(smooth_A_te[0, 0], label = 'A_te')\n",
    "\n",
    "ax.legend()\n",
    "ax_nbrp = ax.twinx()\n",
    "ax_nbrp.plot(df_tracker['len_L_tr'], df_tracker['nbr_parameters_apres'], '+', label = 'nbr_parameters', color = 'black')\n",
    "ax_nbrp.legend(loc = 'lower right')\n",
    "ax.set_title('Acc / nbr of parameters')\n",
    "ax.set_ylabel('Acc')\n",
    "ax_nbrp.set_ylabel('nbr of parameters')\n",
    "plt.show()"
   ]
  },
  {
   "cell_type": "code",
   "execution_count": 64,
   "id": "e45d9d4c",
   "metadata": {},
   "outputs": [
    {
     "data": {
      "image/png": "[encoded data removed]",
      "text/plain": [
       "<Figure size 640x480 with 1 Axes>"
      ]
     },
     "metadata": {},
     "output_type": "display_data"
    }
   ],
   "source": [
    "plt.plot(df_tracker['nbr_parameters_apres'], A_te_padd[df_tracker['len_L_tr'].values], '+')\n",
    "plt.xlabel('nbr parameters')\n",
    "plt.ylabel('Accuracy test')\n",
    "plt.xscale('log')\n",
    "plt.show()"
   ]
  },
  {
   "cell_type": "code",
   "execution_count": 10,
   "id": "776a27ee",
   "metadata": {},
   "outputs": [
    {
     "data": {
      "text/html": [
       "<div>\n",
       "<style scoped>\n",
       "    .dataframe tbody tr th:only-of-type {\n",
       "        vertical-align: middle;\n",
       "    }\n",
       "\n",
       "    .dataframe tbody tr th {\n",
       "        vertical-align: top;\n",
       "    }\n",
       "\n",
       "    .dataframe thead th {\n",
       "        text-align: right;\n",
       "    }\n",
       "</style>\n",
       "<table border=\"1\" class=\"dataframe\">\n",
       "  <thead>\n",
       "    <tr style=\"text-align: right;\">\n",
       "      <th></th>\n",
       "      <th>Unnamed: 0</th>\n",
       "      <th>vps0</th>\n",
       "      <th>vps1</th>\n",
       "      <th>vps2</th>\n",
       "      <th>vps3</th>\n",
       "      <th>vps4</th>\n",
       "      <th>vps5</th>\n",
       "      <th>vps6</th>\n",
       "      <th>vps7</th>\n",
       "      <th>vps8</th>\n",
       "      <th>...</th>\n",
       "      <th>vps23</th>\n",
       "      <th>depth_add</th>\n",
       "      <th>nbr_added_neuron</th>\n",
       "      <th>accroissement</th>\n",
       "      <th>portion_gain</th>\n",
       "      <th>nbr_parameters_apres</th>\n",
       "      <th>nbr_parameters_avant</th>\n",
       "      <th>T</th>\n",
       "      <th>len_L_tr</th>\n",
       "      <th>lu_conv</th>\n",
       "    </tr>\n",
       "  </thead>\n",
       "  <tbody>\n",
       "    <tr>\n",
       "      <th>0</th>\n",
       "      <td>0</td>\n",
       "      <td>0.024471</td>\n",
       "      <td>0.021132</td>\n",
       "      <td>0.019659</td>\n",
       "      <td>0.018439</td>\n",
       "      <td>0.017467</td>\n",
       "      <td>0.016562</td>\n",
       "      <td>0.015765</td>\n",
       "      <td>0.014933</td>\n",
       "      <td>0.014206</td>\n",
       "      <td>...</td>\n",
       "      <td>0.008816</td>\n",
       "      <td>19</td>\n",
       "      <td>24</td>\n",
       "      <td>0.090533</td>\n",
       "      <td>0.664</td>\n",
       "      <td>650822</td>\n",
       "      <td>429566</td>\n",
       "      <td>0.000000</td>\n",
       "      <td>0</td>\n",
       "      <td>0.001</td>\n",
       "    </tr>\n",
       "    <tr>\n",
       "      <th>1</th>\n",
       "      <td>0</td>\n",
       "      <td>0.053013</td>\n",
       "      <td>0.048903</td>\n",
       "      <td>0.038659</td>\n",
       "      <td>0.033937</td>\n",
       "      <td>0.030980</td>\n",
       "      <td>0.029312</td>\n",
       "      <td>0.026862</td>\n",
       "      <td>0.026536</td>\n",
       "      <td>0.024432</td>\n",
       "      <td>...</td>\n",
       "      <td>0.015070</td>\n",
       "      <td>17</td>\n",
       "      <td>24</td>\n",
       "      <td>0.039019</td>\n",
       "      <td>0.633</td>\n",
       "      <td>872078</td>\n",
       "      <td>650822</td>\n",
       "      <td>20.577017</td>\n",
       "      <td>313</td>\n",
       "      <td>0.001</td>\n",
       "    </tr>\n",
       "    <tr>\n",
       "      <th>2</th>\n",
       "      <td>0</td>\n",
       "      <td>0.018107</td>\n",
       "      <td>0.017103</td>\n",
       "      <td>0.015909</td>\n",
       "      <td>0.015567</td>\n",
       "      <td>0.014988</td>\n",
       "      <td>0.014588</td>\n",
       "      <td>0.014084</td>\n",
       "      <td>0.013802</td>\n",
       "      <td>0.013313</td>\n",
       "      <td>...</td>\n",
       "      <td>0.010031</td>\n",
       "      <td>19</td>\n",
       "      <td>24</td>\n",
       "      <td>0.025497</td>\n",
       "      <td>0.600</td>\n",
       "      <td>1093334</td>\n",
       "      <td>872078</td>\n",
       "      <td>40.208526</td>\n",
       "      <td>579</td>\n",
       "      <td>0.001</td>\n",
       "    </tr>\n",
       "    <tr>\n",
       "      <th>3</th>\n",
       "      <td>0</td>\n",
       "      <td>0.014327</td>\n",
       "      <td>0.013892</td>\n",
       "      <td>0.013219</td>\n",
       "      <td>0.012724</td>\n",
       "      <td>0.012373</td>\n",
       "      <td>0.012339</td>\n",
       "      <td>0.012019</td>\n",
       "      <td>0.011765</td>\n",
       "      <td>0.011635</td>\n",
       "      <td>...</td>\n",
       "      <td>0.009279</td>\n",
       "      <td>19</td>\n",
       "      <td>24</td>\n",
       "      <td>0.022836</td>\n",
       "      <td>0.584</td>\n",
       "      <td>1314590</td>\n",
       "      <td>1093334</td>\n",
       "      <td>59.394008</td>\n",
       "      <td>815</td>\n",
       "      <td>0.001</td>\n",
       "    </tr>\n",
       "    <tr>\n",
       "      <th>4</th>\n",
       "      <td>0</td>\n",
       "      <td>0.058541</td>\n",
       "      <td>0.049718</td>\n",
       "      <td>0.046374</td>\n",
       "      <td>0.044468</td>\n",
       "      <td>0.042250</td>\n",
       "      <td>0.039763</td>\n",
       "      <td>0.037756</td>\n",
       "      <td>0.033531</td>\n",
       "      <td>0.033054</td>\n",
       "      <td>...</td>\n",
       "      <td>0.022038</td>\n",
       "      <td>17</td>\n",
       "      <td>24</td>\n",
       "      <td>0.016738</td>\n",
       "      <td>0.565</td>\n",
       "      <td>1535846</td>\n",
       "      <td>1314590</td>\n",
       "      <td>77.660275</td>\n",
       "      <td>1027</td>\n",
       "      <td>0.001</td>\n",
       "    </tr>\n",
       "    <tr>\n",
       "      <th>...</th>\n",
       "      <td>...</td>\n",
       "      <td>...</td>\n",
       "      <td>...</td>\n",
       "      <td>...</td>\n",
       "      <td>...</td>\n",
       "      <td>...</td>\n",
       "      <td>...</td>\n",
       "      <td>...</td>\n",
       "      <td>...</td>\n",
       "      <td>...</td>\n",
       "      <td>...</td>\n",
       "      <td>...</td>\n",
       "      <td>...</td>\n",
       "      <td>...</td>\n",
       "      <td>...</td>\n",
       "      <td>...</td>\n",
       "      <td>...</td>\n",
       "      <td>...</td>\n",
       "      <td>...</td>\n",
       "      <td>...</td>\n",
       "      <td>...</td>\n",
       "    </tr>\n",
       "    <tr>\n",
       "      <th>163</th>\n",
       "      <td>0</td>\n",
       "      <td>0.024035</td>\n",
       "      <td>0.021356</td>\n",
       "      <td>0.020226</td>\n",
       "      <td>NaN</td>\n",
       "      <td>NaN</td>\n",
       "      <td>NaN</td>\n",
       "      <td>NaN</td>\n",
       "      <td>NaN</td>\n",
       "      <td>NaN</td>\n",
       "      <td>...</td>\n",
       "      <td>NaN</td>\n",
       "      <td>2</td>\n",
       "      <td>3</td>\n",
       "      <td>0.001298</td>\n",
       "      <td>0.555</td>\n",
       "      <td>12676262</td>\n",
       "      <td>12672797</td>\n",
       "      <td>2833.891716</td>\n",
       "      <td>11554</td>\n",
       "      <td>0.001</td>\n",
       "    </tr>\n",
       "    <tr>\n",
       "      <th>164</th>\n",
       "      <td>0</td>\n",
       "      <td>NaN</td>\n",
       "      <td>NaN</td>\n",
       "      <td>NaN</td>\n",
       "      <td>NaN</td>\n",
       "      <td>NaN</td>\n",
       "      <td>NaN</td>\n",
       "      <td>NaN</td>\n",
       "      <td>NaN</td>\n",
       "      <td>NaN</td>\n",
       "      <td>...</td>\n",
       "      <td>NaN</td>\n",
       "      <td>7</td>\n",
       "      <td>0</td>\n",
       "      <td>0.000000</td>\n",
       "      <td>1.000</td>\n",
       "      <td>12676262</td>\n",
       "      <td>12676262</td>\n",
       "      <td>2854.088870</td>\n",
       "      <td>11595</td>\n",
       "      <td>0.001</td>\n",
       "    </tr>\n",
       "    <tr>\n",
       "      <th>165</th>\n",
       "      <td>0</td>\n",
       "      <td>NaN</td>\n",
       "      <td>NaN</td>\n",
       "      <td>NaN</td>\n",
       "      <td>NaN</td>\n",
       "      <td>NaN</td>\n",
       "      <td>NaN</td>\n",
       "      <td>NaN</td>\n",
       "      <td>NaN</td>\n",
       "      <td>NaN</td>\n",
       "      <td>...</td>\n",
       "      <td>NaN</td>\n",
       "      <td>7</td>\n",
       "      <td>0</td>\n",
       "      <td>0.000000</td>\n",
       "      <td>1.000</td>\n",
       "      <td>12676262</td>\n",
       "      <td>12676262</td>\n",
       "      <td>2874.309621</td>\n",
       "      <td>11636</td>\n",
       "      <td>0.001</td>\n",
       "    </tr>\n",
       "    <tr>\n",
       "      <th>166</th>\n",
       "      <td>0</td>\n",
       "      <td>0.059216</td>\n",
       "      <td>0.050403</td>\n",
       "      <td>0.043686</td>\n",
       "      <td>0.036952</td>\n",
       "      <td>0.036151</td>\n",
       "      <td>0.034637</td>\n",
       "      <td>NaN</td>\n",
       "      <td>NaN</td>\n",
       "      <td>NaN</td>\n",
       "      <td>...</td>\n",
       "      <td>NaN</td>\n",
       "      <td>7</td>\n",
       "      <td>6</td>\n",
       "      <td>0.000867</td>\n",
       "      <td>0.490</td>\n",
       "      <td>12690104</td>\n",
       "      <td>12676262</td>\n",
       "      <td>2894.702185</td>\n",
       "      <td>11677</td>\n",
       "      <td>0.001</td>\n",
       "    </tr>\n",
       "    <tr>\n",
       "      <th>167</th>\n",
       "      <td>0</td>\n",
       "      <td>0.049422</td>\n",
       "      <td>0.039296</td>\n",
       "      <td>0.037525</td>\n",
       "      <td>0.035522</td>\n",
       "      <td>0.032430</td>\n",
       "      <td>0.029608</td>\n",
       "      <td>NaN</td>\n",
       "      <td>NaN</td>\n",
       "      <td>NaN</td>\n",
       "      <td>...</td>\n",
       "      <td>NaN</td>\n",
       "      <td>7</td>\n",
       "      <td>6</td>\n",
       "      <td>0.007535</td>\n",
       "      <td>0.450</td>\n",
       "      <td>12703946</td>\n",
       "      <td>12690104</td>\n",
       "      <td>2915.326182</td>\n",
       "      <td>11718</td>\n",
       "      <td>0.001</td>\n",
       "    </tr>\n",
       "  </tbody>\n",
       "</table>\n",
       "<p>168 rows × 34 columns</p>\n",
       "</div>"
      ],
      "text/plain": [
       "     Unnamed: 0      vps0      vps1      vps2      vps3      vps4      vps5  \\\n",
       "0             0  0.024471  0.021132  0.019659  0.018439  0.017467  0.016562   \n",
       "1             0  0.053013  0.048903  0.038659  0.033937  0.030980  0.029312   \n",
       "2             0  0.018107  0.017103  0.015909  0.015567  0.014988  0.014588   \n",
       "3             0  0.014327  0.013892  0.013219  0.012724  0.012373  0.012339   \n",
       "4             0  0.058541  0.049718  0.046374  0.044468  0.042250  0.039763   \n",
       "..          ...       ...       ...       ...       ...       ...       ...   \n",
       "163           0  0.024035  0.021356  0.020226       NaN       NaN       NaN   \n",
       "164           0       NaN       NaN       NaN       NaN       NaN       NaN   \n",
       "165           0       NaN       NaN       NaN       NaN       NaN       NaN   \n",
       "166           0  0.059216  0.050403  0.043686  0.036952  0.036151  0.034637   \n",
       "167           0  0.049422  0.039296  0.037525  0.035522  0.032430  0.029608   \n",
       "\n",
       "         vps6      vps7      vps8  ...     vps23  depth_add  nbr_added_neuron  \\\n",
       "0    0.015765  0.014933  0.014206  ...  0.008816         19                24   \n",
       "1    0.026862  0.026536  0.024432  ...  0.015070         17                24   \n",
       "2    0.014084  0.013802  0.013313  ...  0.010031         19                24   \n",
       "3    0.012019  0.011765  0.011635  ...  0.009279         19                24   \n",
       "4    0.037756  0.033531  0.033054  ...  0.022038         17                24   \n",
       "..        ...       ...       ...  ...       ...        ...               ...   \n",
       "163       NaN       NaN       NaN  ...       NaN          2                 3   \n",
       "164       NaN       NaN       NaN  ...       NaN          7                 0   \n",
       "165       NaN       NaN       NaN  ...       NaN          7                 0   \n",
       "166       NaN       NaN       NaN  ...       NaN          7                 6   \n",
       "167       NaN       NaN       NaN  ...       NaN          7                 6   \n",
       "\n",
       "     accroissement  portion_gain  nbr_parameters_apres  nbr_parameters_avant  \\\n",
       "0         0.090533         0.664                650822                429566   \n",
       "1         0.039019         0.633                872078                650822   \n",
       "2         0.025497         0.600               1093334                872078   \n",
       "3         0.022836         0.584               1314590               1093334   \n",
       "4         0.016738         0.565               1535846               1314590   \n",
       "..             ...           ...                   ...                   ...   \n",
       "163       0.001298         0.555              12676262              12672797   \n",
       "164       0.000000         1.000              12676262              12676262   \n",
       "165       0.000000         1.000              12676262              12676262   \n",
       "166       0.000867         0.490              12690104              12676262   \n",
       "167       0.007535         0.450              12703946              12690104   \n",
       "\n",
       "               T  len_L_tr  lu_conv  \n",
       "0       0.000000         0    0.001  \n",
       "1      20.577017       313    0.001  \n",
       "2      40.208526       579    0.001  \n",
       "3      59.394008       815    0.001  \n",
       "4      77.660275      1027    0.001  \n",
       "..           ...       ...      ...  \n",
       "163  2833.891716     11554    0.001  \n",
       "164  2854.088870     11595    0.001  \n",
       "165  2874.309621     11636    0.001  \n",
       "166  2894.702185     11677    0.001  \n",
       "167  2915.326182     11718    0.001  \n",
       "\n",
       "[168 rows x 34 columns]"
      ]
     },
     "execution_count": 10,
     "metadata": {},
     "output_type": "execute_result"
    }
   ],
   "source": [
    "df_tracker"
   ]
  },
  {
   "cell_type": "code",
   "execution_count": null,
   "id": "2c0c1e17",
   "metadata": {},
   "outputs": [],
   "source": []
  }
 ],
 "metadata": {
  "kernelspec": {
   "display_name": "Python 3 (ipykernel)",
   "language": "python",
   "name": "python3"
  },
  "language_info": {
   "codemirror_mode": {
    "name": "ipython",
    "version": 3
   },
   "file_extension": ".py",
   "mimetype": "text/x-python",
   "name": "python",
   "nbconvert_exporter": "python",
   "pygments_lexer": "ipython3",
   "version": "3.9.18"
  }
 },
 "nbformat": 4,
 "nbformat_minor": 5
}
