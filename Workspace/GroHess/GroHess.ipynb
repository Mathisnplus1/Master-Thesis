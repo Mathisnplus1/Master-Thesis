{
 "cells": [
  {
   "cell_type": "code",
   "execution_count": 1,
   "metadata": {},
   "outputs": [],
   "source": [
    "from lib.abstract_torch import get_device\n",
    "from lib.dataloader import get_task_loaders\n",
    "from lib.models import ANN\n",
    "from lib.growth_schedules import get_CL_schedule\n",
    "from lib.train import train\n",
    "from lib.test import test\n",
    "from lib.visualize import visualize_accs_matrix, visualize_avg_acc_curve\n",
    "\n",
    "import os\n",
    "import numpy as np"
   ]
  },
  {
   "cell_type": "code",
   "execution_count": 2,
   "metadata": {},
   "outputs": [],
   "source": [
    "train_vanilla = True"
   ]
  },
  {
   "cell_type": "code",
   "execution_count": 3,
   "metadata": {},
   "outputs": [],
   "source": [
    "device = get_device()"
   ]
  },
  {
   "cell_type": "code",
   "execution_count": 4,
   "metadata": {},
   "outputs": [],
   "source": [
    "path = os.path.dirname(os.path.abspath(\"__file__\"))\n",
    "data_path = path + \"/data\""
   ]
  },
  {
   "cell_type": "code",
   "execution_count": 5,
   "metadata": {},
   "outputs": [],
   "source": [
    "# Data parameter\n",
    "batch_size=128\n",
    "\n",
    "# Network Architecture\n",
    "num_inputs = 28*28\n",
    "num_hidden_root = 10\n",
    "num_hidden_target = 100\n",
    "num_outputs = 10\n",
    "\n",
    "# Train parameters\n",
    "loss_name = \"CE\"\n",
    "optimizer_name = \"Adam\"\n",
    "\n",
    "# Hyperparameters\n",
    "num_epochs = 3\n",
    "lr = 5e-3"
   ]
  },
  {
   "cell_type": "markdown",
   "metadata": {},
   "source": [
    "## Reproducibility"
   ]
  },
  {
   "cell_type": "code",
   "execution_count": 6,
   "metadata": {},
   "outputs": [],
   "source": [
    "random_seed = 88\n",
    "permutation_random_seeds = list(range(10))"
   ]
  },
  {
   "cell_type": "markdown",
   "metadata": {},
   "source": [
    "## Get p-MNIST loaders"
   ]
  },
  {
   "cell_type": "code",
   "execution_count": 7,
   "metadata": {},
   "outputs": [],
   "source": [
    "train_loaders_list, val_loaders_list, test_loaders_list = [], [], []\n",
    "for random_seed in permutation_random_seeds :\n",
    "    train_loader, val_loader, test_loader = get_task_loaders(data_path, batch_size, random_seed, train_percentage=0.2, download=False)\n",
    "    train_loaders_list += [train_loader]\n",
    "    val_loaders_list += [val_loader]\n",
    "    test_loaders_list += [test_loader]"
   ]
  },
  {
   "cell_type": "markdown",
   "metadata": {},
   "source": [
    "## Grow from root model"
   ]
  },
  {
   "cell_type": "code",
   "execution_count": 8,
   "metadata": {},
   "outputs": [],
   "source": [
    "# Growth parameters\n",
    "num_neurons = 9\n",
    "init_name = \"gradmax\""
   ]
  },
  {
   "cell_type": "code",
   "execution_count": 9,
   "metadata": {},
   "outputs": [],
   "source": [
    "growth_schedule = get_CL_schedule(num_neurons)"
   ]
  },
  {
   "cell_type": "code",
   "execution_count": 10,
   "metadata": {},
   "outputs": [
    {
     "name": "stderr",
     "output_type": "stream",
     "text": [
      "  0%|          | 0/3 [00:00<?, ?it/s]"
     ]
    },
    {
     "name": "stdout",
     "output_type": "stream",
     "text": [
      "grad : tensor([ 0.0002, -0.0017,  0.0002,  0.0002,  0.0002,  0.0002,  0.0002,  0.0002,\n",
      "         0.0002,  0.0002], device='cuda:0')\n"
     ]
    },
    {
     "name": "stderr",
     "output_type": "stream",
     "text": [
      " 33%|███▎      | 1/3 [00:01<00:03,  1.60s/it]"
     ]
    },
    {
     "name": "stdout",
     "output_type": "stream",
     "text": [
      "grad : tensor([ 0.0002,  0.0002,  0.0002,  0.0002,  0.0002,  0.0002,  0.0001,  0.0002,\n",
      "         0.0002, -0.0017], device='cuda:0')\n"
     ]
    },
    {
     "name": "stderr",
     "output_type": "stream",
     "text": [
      " 67%|██████▋   | 2/3 [00:03<00:01,  1.64s/it]"
     ]
    },
    {
     "name": "stdout",
     "output_type": "stream",
     "text": [
      "grad : tensor([ 9.2772e-05,  6.2976e-05,  1.6807e-04,  1.0807e-04, -9.9718e-04,\n",
      "         1.3620e-04,  2.1836e-04,  1.0622e-04,  1.8893e-04,  1.5404e-04],\n",
      "       device='cuda:0')\n"
     ]
    },
    {
     "name": "stderr",
     "output_type": "stream",
     "text": [
      "100%|██████████| 3/3 [00:04<00:00,  1.60s/it]\n"
     ]
    }
   ],
   "source": [
    "# Define root model\n",
    "root_model = ANN(num_inputs, num_hidden_root, num_outputs, random_seed).to(device)\n",
    "\n",
    "# Train root model on task 0\n",
    "_ = train(root_model, None, loss_name, optimizer_name, lr, train_loaders_list[0], None, num_epochs, batch_size, device, random_seed)"
   ]
  },
  {
   "cell_type": "code",
   "execution_count": 11,
   "metadata": {},
   "outputs": [
    {
     "name": "stdout",
     "output_type": "stream",
     "text": [
      "Task : 1\n"
     ]
    },
    {
     "name": "stderr",
     "output_type": "stream",
     "text": [
      "  0%|          | 0/3 [00:00<?, ?it/s]"
     ]
    },
    {
     "name": "stdout",
     "output_type": "stream",
     "text": [
      "Number of neurons on epoch 0, before batch 9:\n",
      "fc1 : in = 784, out = 19\n",
      "fc2 : in = 19, out = 10\n",
      "fc3 : in = 10, out = 10\n",
      "Number of neurons on epoch 0, before batch 18:\n",
      "fc1 : in = 784, out = 19\n",
      "fc2 : in = 19, out = 19\n",
      "fc3 : in = 19, out = 10\n"
     ]
    },
    {
     "name": "stderr",
     "output_type": "stream",
     "text": [
      "100%|██████████| 3/3 [00:04<00:00,  1.57s/it]\n"
     ]
    },
    {
     "name": "stdout",
     "output_type": "stream",
     "text": [
      "Task : 2\n"
     ]
    },
    {
     "name": "stderr",
     "output_type": "stream",
     "text": [
      "  0%|          | 0/3 [00:00<?, ?it/s]"
     ]
    },
    {
     "name": "stdout",
     "output_type": "stream",
     "text": [
      "Number of neurons on epoch 0, before batch 9:\n",
      "fc1 : in = 784, out = 28\n",
      "fc2 : in = 28, out = 19\n",
      "fc3 : in = 19, out = 10\n",
      "Number of neurons on epoch 0, before batch 18:\n",
      "fc1 : in = 784, out = 28\n",
      "fc2 : in = 28, out = 28\n",
      "fc3 : in = 28, out = 10\n"
     ]
    },
    {
     "name": "stderr",
     "output_type": "stream",
     "text": [
      "100%|██████████| 3/3 [00:05<00:00,  1.69s/it]\n"
     ]
    },
    {
     "name": "stdout",
     "output_type": "stream",
     "text": [
      "Task : 3\n"
     ]
    },
    {
     "name": "stderr",
     "output_type": "stream",
     "text": [
      "  0%|          | 0/3 [00:00<?, ?it/s]"
     ]
    },
    {
     "name": "stdout",
     "output_type": "stream",
     "text": [
      "Number of neurons on epoch 0, before batch 9:\n",
      "fc1 : in = 784, out = 37\n",
      "fc2 : in = 37, out = 28\n",
      "fc3 : in = 28, out = 10\n",
      "Number of neurons on epoch 0, before batch 18:\n",
      "fc1 : in = 784, out = 37\n",
      "fc2 : in = 37, out = 37\n",
      "fc3 : in = 37, out = 10\n"
     ]
    },
    {
     "name": "stderr",
     "output_type": "stream",
     "text": [
      "100%|██████████| 3/3 [00:04<00:00,  1.61s/it]\n"
     ]
    },
    {
     "name": "stdout",
     "output_type": "stream",
     "text": [
      "Task : 4\n"
     ]
    },
    {
     "name": "stderr",
     "output_type": "stream",
     "text": [
      "  0%|          | 0/3 [00:00<?, ?it/s]"
     ]
    },
    {
     "name": "stdout",
     "output_type": "stream",
     "text": [
      "Number of neurons on epoch 0, before batch 9:\n",
      "fc1 : in = 784, out = 46\n",
      "fc2 : in = 46, out = 37\n",
      "fc3 : in = 37, out = 10\n",
      "Number of neurons on epoch 0, before batch 18:\n",
      "fc1 : in = 784, out = 46\n",
      "fc2 : in = 46, out = 46\n",
      "fc3 : in = 46, out = 10\n"
     ]
    },
    {
     "name": "stderr",
     "output_type": "stream",
     "text": [
      "100%|██████████| 3/3 [00:04<00:00,  1.60s/it]\n"
     ]
    },
    {
     "name": "stdout",
     "output_type": "stream",
     "text": [
      "Task : 5\n"
     ]
    },
    {
     "name": "stderr",
     "output_type": "stream",
     "text": [
      "  0%|          | 0/3 [00:00<?, ?it/s]"
     ]
    },
    {
     "name": "stdout",
     "output_type": "stream",
     "text": [
      "Number of neurons on epoch 0, before batch 9:\n",
      "fc1 : in = 784, out = 55\n",
      "fc2 : in = 55, out = 46\n",
      "fc3 : in = 46, out = 10\n",
      "Number of neurons on epoch 0, before batch 18:\n",
      "fc1 : in = 784, out = 55\n",
      "fc2 : in = 55, out = 55\n",
      "fc3 : in = 55, out = 10\n"
     ]
    },
    {
     "name": "stderr",
     "output_type": "stream",
     "text": [
      "100%|██████████| 3/3 [00:04<00:00,  1.62s/it]\n"
     ]
    },
    {
     "name": "stdout",
     "output_type": "stream",
     "text": [
      "Task : 6\n"
     ]
    },
    {
     "name": "stderr",
     "output_type": "stream",
     "text": [
      "  0%|          | 0/3 [00:00<?, ?it/s]"
     ]
    },
    {
     "name": "stdout",
     "output_type": "stream",
     "text": [
      "Number of neurons on epoch 0, before batch 9:\n",
      "fc1 : in = 784, out = 64\n",
      "fc2 : in = 64, out = 55\n",
      "fc3 : in = 55, out = 10\n",
      "Number of neurons on epoch 0, before batch 18:\n",
      "fc1 : in = 784, out = 64\n",
      "fc2 : in = 64, out = 64\n",
      "fc3 : in = 64, out = 10\n"
     ]
    },
    {
     "name": "stderr",
     "output_type": "stream",
     "text": [
      "100%|██████████| 3/3 [00:04<00:00,  1.61s/it]\n"
     ]
    },
    {
     "name": "stdout",
     "output_type": "stream",
     "text": [
      "Task : 7\n"
     ]
    },
    {
     "name": "stderr",
     "output_type": "stream",
     "text": [
      "  0%|          | 0/3 [00:00<?, ?it/s]"
     ]
    },
    {
     "name": "stdout",
     "output_type": "stream",
     "text": [
      "Number of neurons on epoch 0, before batch 9:\n",
      "fc1 : in = 784, out = 73\n",
      "fc2 : in = 73, out = 64\n",
      "fc3 : in = 64, out = 10\n",
      "Number of neurons on epoch 0, before batch 18:\n",
      "fc1 : in = 784, out = 73\n",
      "fc2 : in = 73, out = 73\n",
      "fc3 : in = 73, out = 10\n"
     ]
    },
    {
     "name": "stderr",
     "output_type": "stream",
     "text": [
      "100%|██████████| 3/3 [00:04<00:00,  1.65s/it]\n"
     ]
    },
    {
     "name": "stdout",
     "output_type": "stream",
     "text": [
      "Task : 8\n"
     ]
    },
    {
     "name": "stderr",
     "output_type": "stream",
     "text": [
      "  0%|          | 0/3 [00:00<?, ?it/s]"
     ]
    },
    {
     "name": "stdout",
     "output_type": "stream",
     "text": [
      "Number of neurons on epoch 0, before batch 9:\n",
      "fc1 : in = 784, out = 82\n",
      "fc2 : in = 82, out = 73\n",
      "fc3 : in = 73, out = 10\n",
      "Number of neurons on epoch 0, before batch 18:\n",
      "fc1 : in = 784, out = 82\n",
      "fc2 : in = 82, out = 82\n",
      "fc3 : in = 82, out = 10\n"
     ]
    },
    {
     "name": "stderr",
     "output_type": "stream",
     "text": [
      "100%|██████████| 3/3 [00:05<00:00,  1.73s/it]\n"
     ]
    },
    {
     "name": "stdout",
     "output_type": "stream",
     "text": [
      "Task : 9\n"
     ]
    },
    {
     "name": "stderr",
     "output_type": "stream",
     "text": [
      "  0%|          | 0/3 [00:00<?, ?it/s]"
     ]
    },
    {
     "name": "stdout",
     "output_type": "stream",
     "text": [
      "Number of neurons on epoch 0, before batch 9:\n",
      "fc1 : in = 784, out = 91\n",
      "fc2 : in = 91, out = 82\n",
      "fc3 : in = 82, out = 10\n",
      "Number of neurons on epoch 0, before batch 18:\n",
      "fc1 : in = 784, out = 91\n",
      "fc2 : in = 91, out = 91\n",
      "fc3 : in = 91, out = 10\n"
     ]
    },
    {
     "name": "stderr",
     "output_type": "stream",
     "text": [
      "100%|██████████| 3/3 [00:04<00:00,  1.65s/it]\n"
     ]
    }
   ],
   "source": [
    "# Initialize the matrix containing test accuracies on various task\n",
    "test_accs_matrix = np.zeros((10,10))\n",
    "for j in range(10) :\n",
    "    test_accs_matrix[0,j] = round(test(root_model, test_loaders_list[j], batch_size, device),2)\n",
    "\n",
    "# Train & grow the root model on the other tasks\n",
    "for i in range(1,10) :\n",
    "    print(\"Task :\", i)\n",
    "    train_loader = train_loaders_list[i]\n",
    "    _= train(root_model,\n",
    "             growth_schedule,\n",
    "             loss_name, optimizer_name, lr, \n",
    "             train_loader, None, \n",
    "             num_epochs, batch_size, \n",
    "             device, random_seed,\n",
    "             init_name=init_name,\n",
    "             verbose=2)\n",
    "    for j in range(10) :\n",
    "        test_accs_matrix[i,j] = round(test(root_model, test_loaders_list[j], batch_size, device),2)\n",
    "\n"
   ]
  },
  {
   "cell_type": "code",
   "execution_count": 12,
   "metadata": {},
   "outputs": [
    {
     "data": {
      "image/png": "[encoded data removed]",
      "text/plain": [
       "<Figure size 640x480 with 2 Axes>"
      ]
     },
     "metadata": {},
     "output_type": "display_data"
    }
   ],
   "source": [
    "visualize_accs_matrix(test_accs_matrix)"
   ]
  },
  {
   "cell_type": "code",
   "execution_count": 13,
   "metadata": {},
   "outputs": [
    {
     "data": {
      "image/png": "[encoded data removed]",
      "text/plain": [
       "<Figure size 640x480 with 1 Axes>"
      ]
     },
     "metadata": {},
     "output_type": "display_data"
    }
   ],
   "source": [
    "visualize_avg_acc_curve(test_accs_matrix)"
   ]
  },
  {
   "cell_type": "code",
   "execution_count": null,
   "metadata": {},
   "outputs": [],
   "source": []
  }
 ],
 "metadata": {
  "kernelspec": {
   "display_name": "Python 3",
   "language": "python",
   "name": "python3"
  },
  "language_info": {
   "codemirror_mode": {
    "name": "ipython",
    "version": 3
   },
   "file_extension": ".py",
   "mimetype": "text/x-python",
   "name": "python",
   "nbconvert_exporter": "python",
   "pygments_lexer": "ipython3",
   "version": "3.10.7"
  }
 },
 "nbformat": 4,
 "nbformat_minor": 2
}
