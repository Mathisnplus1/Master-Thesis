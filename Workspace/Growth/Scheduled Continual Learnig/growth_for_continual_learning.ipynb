{
 "cells": [
  {
   "cell_type": "code",
   "execution_count": 1,
   "id": "3054bb26",
   "metadata": {},
   "outputs": [],
   "source": [
    "from lib.abstract_torch import get_device, get_loss, get_optimizer\n",
    "from lib.dataloader import get_MNIST_loaders, get_FMNIST_loaders, get_CIFAR100_loaders, get_CIFAR10_loaders\n",
    "from lib.model import ANN\n",
    "from lib.train import train\n",
    "from lib.test import test\n",
    "from lib.growth_schedules import get_CL_schedule\n",
    "from lib.visualize import (visualize_pathes,\n",
    "                          visualize_statistical_reliability,\n",
    "                          visualize_box_plot)               \n",
    "\n",
    "import os\n",
    "import numpy as np"
   ]
  },
  {
   "cell_type": "code",
   "execution_count": 2,
   "id": "226532eb",
   "metadata": {},
   "outputs": [],
   "source": [
    "device = get_device()"
   ]
  },
  {
   "cell_type": "code",
   "execution_count": 3,
   "id": "2b2d52e8",
   "metadata": {},
   "outputs": [],
   "source": [
    "path = os.path.dirname(os.path.abspath(\"__file__\"))\n",
    "data_path = path + \"\\\\data\""
   ]
  },
  {
   "cell_type": "markdown",
   "id": "256d70e5",
   "metadata": {},
   "source": [
    "# MNIST"
   ]
  },
  {
   "cell_type": "markdown",
   "id": "c5017cd3",
   "metadata": {},
   "source": [
    "## Get data loaders"
   ]
  },
  {
   "cell_type": "code",
   "execution_count": 4,
   "id": "f4df07e4",
   "metadata": {},
   "outputs": [],
   "source": [
    "batch_size=128"
   ]
  },
  {
   "cell_type": "code",
   "execution_count": 5,
   "id": "6a577a82",
   "metadata": {},
   "outputs": [],
   "source": [
    "# Get data for task 2\n",
    "train_loader_0_to_4, val_loader_0_to_4, test_loader_0_to_4 = get_MNIST_loaders(data_path, range(5), batch_size)\n",
    "train_loader_0_to_9, val_loader_0_to_9, test_loader_0_to_9 = get_MNIST_loaders(data_path, range(10), batch_size)\n",
    "\n",
    "train_loaders, val_loaders, test_loaders = [], [], []\n",
    "\n",
    "for i in range(10) :\n",
    "    class_name = [i]\n",
    "    train_loader, val_loader, test_loader = get_MNIST_loaders(data_path, [i], batch_size)\n",
    "    train_loaders.append(train_loader)\n",
    "    val_loaders.append(val_loader)\n",
    "    test_loaders.append(test_loader)"
   ]
  },
  {
   "cell_type": "markdown",
   "id": "17039c89",
   "metadata": {},
   "source": [
    "## Random Initialization"
   ]
  },
  {
   "cell_type": "code",
   "execution_count": 6,
   "id": "a5b41d67",
   "metadata": {},
   "outputs": [],
   "source": [
    "init_name = \"random\"\n",
    "savefig = \"MNIST_random_CL\""
   ]
  },
  {
   "cell_type": "markdown",
   "id": "7f504fbc",
   "metadata": {},
   "source": [
    "### Define, train and test both root & target models"
   ]
  },
  {
   "cell_type": "code",
   "execution_count": 7,
   "id": "2569654a",
   "metadata": {},
   "outputs": [],
   "source": [
    "# Network's initial architecture\n",
    "num_inputs = 28*28\n",
    "num_hidden = 50\n",
    "num_outputs = 10\n",
    "\n",
    "# Network's final architecture\n",
    "num_hidden_target = 100\n",
    "\n",
    "# Loss & optimizer\n",
    "loss_name = \"MSE\" # \"CE\"\n",
    "optimizer_name = \"Adam\"\n",
    "\n",
    "# Hyperparameters\n",
    "num_epochs = 3\n",
    "lr = 5e-3\n",
    "growth_schedule = None\n",
    "\n",
    "# Experiment parameters\n",
    "num_repetitions = 1"
   ]
  },
  {
   "cell_type": "markdown",
   "id": "016f67b8",
   "metadata": {},
   "source": [
    "#### Root model"
   ]
  },
  {
   "cell_type": "code",
   "execution_count": 8,
   "id": "a114c4d4",
   "metadata": {
    "scrolled": true
   },
   "outputs": [
    {
     "name": "stderr",
     "output_type": "stream",
     "text": [
      "100%|████████████████████████████████████████████████████████████████████████████████████| 3/3 [00:05<00:00,  1.84s/it]\n"
     ]
    }
   ],
   "source": [
    "test_acc_roots = []\n",
    "for i in range(num_repetitions) :\n",
    "    root_model = ANN(num_inputs, num_hidden, num_outputs).to(device)\n",
    "    _ = train(root_model, num_outputs, growth_schedule, loss_name, optimizer_name, lr, train_loader_0_to_4, val_loader_0_to_4, num_epochs, batch_size, device, verbose=0)\n",
    "    test_acc_root = test(root_model, test_loader_0_to_4, batch_size, device)\n",
    "    test_acc_roots.append(test_acc_root)"
   ]
  },
  {
   "cell_type": "code",
   "execution_count": 9,
   "id": "31d47b2b",
   "metadata": {},
   "outputs": [
    {
     "data": {
      "text/plain": [
       "[97.85300000000001]"
      ]
     },
     "execution_count": 9,
     "metadata": {},
     "output_type": "execute_result"
    }
   ],
   "source": [
    "test_acc_roots"
   ]
  },
  {
   "cell_type": "markdown",
   "id": "4fd25b62",
   "metadata": {},
   "source": [
    "#### Target model"
   ]
  },
  {
   "cell_type": "code",
   "execution_count": 10,
   "id": "46d2a513",
   "metadata": {
    "scrolled": true
   },
   "outputs": [
    {
     "name": "stderr",
     "output_type": "stream",
     "text": [
      "100%|████████████████████████████████████████████████████████████████████████████████████| 3/3 [00:10<00:00,  3.48s/it]\n"
     ]
    }
   ],
   "source": [
    "test_acc_targets = []\n",
    "for i in range(num_repetitions) :\n",
    "    target_model = ANN(num_inputs, num_hidden_target, num_outputs).to(device)\n",
    "    _ = train(target_model, num_outputs, growth_schedule, loss_name, optimizer_name, lr, train_loader_0_to_9, val_loader_0_to_9, num_epochs, batch_size, device, verbose=0)\n",
    "    test_acc_target = test(target_model, test_loader_0_to_9, batch_size, device)\n",
    "    test_acc_targets.append(test_acc_target)"
   ]
  },
  {
   "cell_type": "code",
   "execution_count": 11,
   "id": "9edc667d",
   "metadata": {},
   "outputs": [
    {
     "data": {
      "text/plain": [
       "[93.73974358974357]"
      ]
     },
     "execution_count": 11,
     "metadata": {},
     "output_type": "execute_result"
    }
   ],
   "source": [
    "test_acc_targets"
   ]
  },
  {
   "cell_type": "markdown",
   "id": "cf6a7280",
   "metadata": {},
   "source": [
    "### Grow root model"
   ]
  },
  {
   "cell_type": "code",
   "execution_count": 25,
   "id": "92329fb1",
   "metadata": {},
   "outputs": [],
   "source": [
    "# Growth parameters\n",
    "num_neurons = 10\n",
    "lr_root = 5e-3\n",
    "lr_growth = 1e-3"
   ]
  },
  {
   "cell_type": "code",
   "execution_count": 26,
   "id": "e5f0b0be",
   "metadata": {},
   "outputs": [],
   "source": [
    "growth_schedules = get_CL_schedule(num_neurons)"
   ]
  },
  {
   "cell_type": "code",
   "execution_count": 30,
   "id": "8376cdf3",
   "metadata": {
    "scrolled": true
   },
   "outputs": [
    {
     "name": "stderr",
     "output_type": "stream",
     "text": [
      "100%|████████████████████████████████████████████████████████████████████████████████████| 3/3 [00:05<00:00,  1.91s/it]\n",
      "100%|████████████████████████████████████████████████████████████████████████████████████| 2/2 [00:00<00:00,  2.85it/s]\n",
      "100%|████████████████████████████████████████████████████████████████████████████████████| 2/2 [00:00<00:00,  2.59it/s]\n",
      "100%|████████████████████████████████████████████████████████████████████████████████████| 2/2 [00:00<00:00,  2.52it/s]\n",
      "100%|████████████████████████████████████████████████████████████████████████████████████| 2/2 [00:00<00:00,  2.63it/s]\n",
      "100%|████████████████████████████████████████████████████████████████████████████████████| 2/2 [00:00<00:00,  2.61it/s]\n"
     ]
    }
   ],
   "source": [
    "test_accs_matrices_repeted = []\n",
    "for i in range(num_repetitions) :\n",
    "    test_accs_matrices = []\n",
    "    for growth_schedule in growth_schedules :\n",
    "        # Define & pretrain the root model\n",
    "        root_model = ANN(num_inputs, num_hidden, num_outputs).to(device)\n",
    "        _ = train(root_model, num_outputs, None, loss_name, optimizer_name, lr_root, train_loader_0_to_4, val_loader_0_to_4, num_epochs, batch_size, device, verbose=0)\n",
    "        # Initialize the matrix containing test accuracies on various task\n",
    "        test_accs_matrix = np.zeros((6,10))\n",
    "        for j in range(5) :\n",
    "            test_accs_matrix[0,j] = round(test(root_model, test_loaders[j], batch_size, device),2)\n",
    "        for i, train_loader, val_loader in zip(range(5,10), train_loaders[5:], val_loaders[5:]):\n",
    "            _ = train(root_model,\n",
    "                      num_outputs,\n",
    "                      growth_schedule,\n",
    "                      loss_name, \n",
    "                      optimizer_name, lr_growth, \n",
    "                      train_loaders[i], val_loaders[i], \n",
    "                      2, batch_size, \n",
    "                      device,\n",
    "                      init_name=init_name,\n",
    "                      verbose=0)\n",
    "            for j in range(i+1) :\n",
    "                test_accs_matrix[i-4,j] = round(test(root_model, test_loaders[j], batch_size, device),2)\n",
    "        test_accs_matrices.append(test_accs_matrix)\n",
    "    test_accs_matrices_repeted.append(test_accs_matrices)"
   ]
  },
  {
   "cell_type": "code",
   "execution_count": 31,
   "id": "f1c88229",
   "metadata": {},
   "outputs": [
    {
     "name": "stdout",
     "output_type": "stream",
     "text": [
      "[[99.55 99.02 96.39 95.54 98.89  0.    0.    0.    0.    0.  ]\n",
      " [97.1  98.73 90.04 37.83 79.13 76.69  0.    0.    0.    0.  ]\n",
      " [51.    3.12 23.73  4.91 13.95  0.   99.55  0.    0.    0.  ]\n",
      " [ 0.78  1.56  0.1   6.92  0.11  0.    0.33 92.19  0.    0.  ]\n",
      " [ 0.    0.    1.17  7.03  3.35  0.   26.34 40.43 15.74  0.  ]\n",
      " [ 0.    0.    3.22  1.    0.78  0.    7.03  2.24  0.11 93.53]]\n"
     ]
    }
   ],
   "source": [
    "print(test_accs_matrices_repeted[0][0])"
   ]
  },
  {
   "cell_type": "code",
   "execution_count": 29,
   "id": "f1eb763a",
   "metadata": {},
   "outputs": [
    {
     "data": {
      "text/plain": [
       "<bound method Module.named_parameters of ANN(\n",
       "  (fc1): Linear(in_features=784, out_features=50, bias=True)\n",
       "  (fc2): Linear(in_features=50, out_features=50, bias=True)\n",
       "  (fc3): Linear(in_features=50, out_features=10, bias=True)\n",
       ")>"
      ]
     },
     "execution_count": 29,
     "metadata": {},
     "output_type": "execute_result"
    }
   ],
   "source": [
    "root_model.named_parameters"
   ]
  },
  {
   "cell_type": "markdown",
   "id": "af62d8aa",
   "metadata": {},
   "source": [
    "### Visualize results"
   ]
  },
  {
   "cell_type": "code",
   "execution_count": 16,
   "id": "392ce4c7",
   "metadata": {},
   "outputs": [
    {
     "ename": "NameError",
     "evalue": "name 'test_accs' is not defined",
     "output_type": "error",
     "traceback": [
      "\u001b[1;31m---------------------------------------------------------------------------\u001b[0m",
      "\u001b[1;31mNameError\u001b[0m                                 Traceback (most recent call last)",
      "Cell \u001b[1;32mIn [16], line 1\u001b[0m\n\u001b[1;32m----> 1\u001b[0m visualize_pathes(num_hidden, num_hidden_target, growth_schedules, \u001b[43mtest_accs\u001b[49m, savefig)\n",
      "\u001b[1;31mNameError\u001b[0m: name 'test_accs' is not defined"
     ]
    }
   ],
   "source": [
    "visualize_pathes(num_hidden, num_hidden_target, growth_schedules, test_accs, savefig)"
   ]
  },
  {
   "cell_type": "code",
   "execution_count": null,
   "id": "f902c7a1",
   "metadata": {},
   "outputs": [],
   "source": [
    "visualize_statistical_reliability (test_accs_repeted, test_accs, test_acc_roots, test_acc_targets,\n",
    "                                   free_lim=True, savefig=savefig)"
   ]
  },
  {
   "cell_type": "code",
   "execution_count": null,
   "id": "79661ba5",
   "metadata": {},
   "outputs": [],
   "source": [
    "visualize_box_plot(test_accs, test_acc_root, test_acc_target, savefig)"
   ]
  },
  {
   "cell_type": "code",
   "execution_count": null,
   "id": "adfd4ef9",
   "metadata": {},
   "outputs": [],
   "source": []
  }
 ],
 "metadata": {
  "kernelspec": {
   "display_name": "Python 3 (ipykernel)",
   "language": "python",
   "name": "python3"
  },
  "language_info": {
   "codemirror_mode": {
    "name": "ipython",
    "version": 3
   },
   "file_extension": ".py",
   "mimetype": "text/x-python",
   "name": "python",
   "nbconvert_exporter": "python",
   "pygments_lexer": "ipython3",
   "version": "3.10.7"
  }
 },
 "nbformat": 4,
 "nbformat_minor": 5
}
