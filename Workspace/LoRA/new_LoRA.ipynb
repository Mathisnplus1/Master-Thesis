{
 "cells": [
  {
   "cell_type": "code",
   "execution_count": 1,
   "id": "1d95d8cb",
   "metadata": {},
   "outputs": [],
   "source": [
    "from lib.abstract_torch import get_device, get_loss, get_optimizer\n",
    "from lib.dataloader import get_MNIST_loaders\n",
    "from lib.models import ANN, LoRA_ANN\n",
    "from lib.train import train_ANN\n",
    "from lib.test import test\n",
    "from lib.save import save\n",
    "\n",
    "import os\n",
    "import numpy as np\n",
    "import torch"
   ]
  },
  {
   "cell_type": "code",
   "execution_count": 2,
   "id": "d366cbfb",
   "metadata": {},
   "outputs": [],
   "source": [
    "train_vanilla = False"
   ]
  },
  {
   "cell_type": "code",
   "execution_count": 3,
   "id": "a4df3dcf",
   "metadata": {},
   "outputs": [],
   "source": [
    "device = get_device()"
   ]
  },
  {
   "cell_type": "code",
   "execution_count": 24,
   "id": "440f6af4",
   "metadata": {},
   "outputs": [],
   "source": [
    "path = os.path.dirname(os.path.abspath(\"__file__\"))\n",
    "data_path = path + \"\\\\data\"\n",
    "model_path = path + \"\\\\ANN_LoRA\\\\\""
   ]
  },
  {
   "cell_type": "markdown",
   "id": "477e8e2c",
   "metadata": {},
   "source": [
    "Playable HPs :\n",
    "- LoRA rank\n",
    "- trade-off\n",
    "\n",
    "Other HPs :\n",
    "- batch_size"
   ]
  },
  {
   "cell_type": "code",
   "execution_count": 27,
   "id": "4a09b685",
   "metadata": {},
   "outputs": [],
   "source": [
    "# Data parameter\n",
    "batch_size=128\n",
    "\n",
    "# Network Architecture\n",
    "num_inputs = 28*28\n",
    "num_hidden = 100\n",
    "num_outputs = 10\n",
    "\n",
    "# Train parameters\n",
    "loss_name = \"CE\"\n",
    "optimizer_name = \"Adam\""
   ]
  },
  {
   "cell_type": "markdown",
   "id": "05ce7dbb",
   "metadata": {},
   "source": [
    "## Reproducibility"
   ]
  },
  {
   "cell_type": "code",
   "execution_count": 6,
   "id": "671644b5",
   "metadata": {},
   "outputs": [],
   "source": [
    "np.random.seed(42)\n",
    "torch.manual_seed(42)\n",
    "\n",
    "if torch.cuda.is_available():\n",
    "    torch.cuda.manual_seed(42)\n",
    "\n",
    "# Ensure deterministic behavior in PyTorch\n",
    "torch.backends.cudnn.deterministic = True\n",
    "torch.backends.cudnn.benchmark = False"
   ]
  },
  {
   "cell_type": "markdown",
   "id": "a5ce4bbc",
   "metadata": {},
   "source": [
    "## Get MNIST loaders"
   ]
  },
  {
   "cell_type": "code",
   "execution_count": 7,
   "id": "654b1a4a",
   "metadata": {},
   "outputs": [],
   "source": [
    "# We train on MNIST 0 to 4, then each new task is being able to classify a new digit (5 to 9)"
   ]
  },
  {
   "cell_type": "code",
   "execution_count": 8,
   "id": "b1c8f50b",
   "metadata": {},
   "outputs": [],
   "source": [
    "task_name_1_to_5 = \"task_\"+str(1)+\"_to_\"+str(5)\n",
    "train_loader_1_to_5, val_loader_1_to_5, test_loader_1_to_5 = get_MNIST_loaders(data_path, [0,1,2,3,4], batch_size)\n",
    "\n",
    "task_names = []\n",
    "train_loaders, val_loaders, test_loaders = [], [], []\n",
    "\n",
    "for i in range(10) :\n",
    "    task_names.append(\"task_\"+str(i+1))\n",
    "    class_label = [i]\n",
    "    train_loader, val_loader, test_loader = get_MNIST_loaders(data_path, class_label, batch_size)\n",
    "    train_loaders.append(train_loader)\n",
    "    val_loaders.append(val_loader)\n",
    "    test_loaders.append(test_loader)"
   ]
  },
  {
   "cell_type": "markdown",
   "id": "a08d4c0f",
   "metadata": {},
   "source": [
    "## Train vanilla ANN on digits 0 to 4"
   ]
  },
  {
   "cell_type": "code",
   "execution_count": 9,
   "id": "47182cf8",
   "metadata": {},
   "outputs": [],
   "source": [
    "if train_vanilla :\n",
    "    train_loader = train_loader_1_to_5"
   ]
  },
  {
   "cell_type": "code",
   "execution_count": 10,
   "id": "e28e9555",
   "metadata": {},
   "outputs": [],
   "source": [
    "if train_vanilla :\n",
    "    lr = 1e-3\n",
    "    num_epochs = 2"
   ]
  },
  {
   "cell_type": "code",
   "execution_count": 11,
   "id": "b61608fe",
   "metadata": {},
   "outputs": [],
   "source": [
    "if train_vanilla :\n",
    "    model = ANN(num_inputs, num_hidden, num_outputs)"
   ]
  },
  {
   "cell_type": "code",
   "execution_count": 12,
   "id": "b928915e",
   "metadata": {},
   "outputs": [],
   "source": [
    "if train_vanilla :\n",
    "    train_ANN(model, loss_name, optimizer_name, lr, train_loader, num_epochs, batch_size, device)"
   ]
  },
  {
   "cell_type": "code",
   "execution_count": 13,
   "id": "e5e07b12",
   "metadata": {},
   "outputs": [],
   "source": [
    "if train_vanilla :\n",
    "    test(model, test_loader_1_to_5, batch_size, device)"
   ]
  },
  {
   "cell_type": "markdown",
   "id": "d26278d0",
   "metadata": {},
   "source": [
    "## Save vanilla ANN"
   ]
  },
  {
   "cell_type": "code",
   "execution_count": 14,
   "id": "9b07799f",
   "metadata": {},
   "outputs": [],
   "source": [
    "if train_vanilla :\n",
    "    vanilla_path = model_path+\"ICL5_state_dict_digits_0_to_4.pth\""
   ]
  },
  {
   "cell_type": "code",
   "execution_count": 15,
   "id": "5330da2b",
   "metadata": {},
   "outputs": [],
   "source": [
    "if train_vanilla :\n",
    "    save(vanilla_path, model)"
   ]
  },
  {
   "cell_type": "markdown",
   "id": "2ca2dca3",
   "metadata": {},
   "source": [
    "## CL on digits 5 to 9 with LoRA"
   ]
  },
  {
   "cell_type": "code",
   "execution_count": 16,
   "id": "087b4843",
   "metadata": {},
   "outputs": [],
   "source": [
    "import optuna\n",
    "from functools import partial\n",
    "import matplotlib.pyplot as plt"
   ]
  },
  {
   "cell_type": "code",
   "execution_count": 17,
   "id": "7646ec0f",
   "metadata": {},
   "outputs": [],
   "source": [
    "def define_model(trial, model_path, params) :\n",
    "    lora_rank = trial.suggest_int(\"lora_rank\", 8, 16)\n",
    "    alpha = trial.suggest_float(\"alpha\", 0.5, 2)\n",
    "    \n",
    "    num_inputs, num_hidden, num_outputs, batch_size = params\n",
    "    lora_ann_model = LoRA_ANN(lora_rank,\n",
    "                              alpha, \n",
    "                              model_path, \n",
    "                              num_inputs, \n",
    "                              num_hidden, \n",
    "                              num_outputs,\n",
    "                              batch_size)\n",
    "\n",
    "    return lora_ann_model\n",
    "\n",
    "def objective(task_number, model_path, params, device, trial) :\n",
    "    # Define model\n",
    "    lora_ann_model = define_model(trial, model_path, params).to(device)\n",
    "    \n",
    "    # Set HPs\n",
    "    lr = trial.suggest_float(\"lr\", 1e-5, 5e-4)\n",
    "    num_epochs = trial.suggest_int(\"num_epochs\", 1, 4)\n",
    "    \n",
    "    # Train\n",
    "    batch_size = params[-1]\n",
    "    \n",
    "    task = task_names[task_number]\n",
    "    train_loader = train_loaders[task_number]\n",
    "    #val_loader = val_loaders[task_number]\n",
    "\n",
    "    train_ANN(lora_ann_model, loss_name, optimizer_name, lr, train_loader, num_epochs, batch_size, device)\n",
    "    \n",
    "    # Test\n",
    "    test_accs = np.zeros(task_number+1)\n",
    "    for j in range(task_number+1) :\n",
    "        test_acc = test(lora_ann_model, test_loaders[j], batch_size, device)\n",
    "        test_accs[j] = test_acc\n",
    "    \n",
    "    # Compute score\n",
    "    mu, sigma = np.mean(test_accs), np.std(test_accs)\n",
    "    score = mu - sigma\n",
    "    \n",
    "    return score"
   ]
  },
  {
   "cell_type": "code",
   "execution_count": 29,
   "id": "347b759c",
   "metadata": {},
   "outputs": [],
   "source": [
    "def retrain_and_save_with_best_HPs (best_trial, i, model_path) :\n",
    "    lora_rank  = best_trial.params[\"lora_rank\"]\n",
    "    alpha = best_trial.params[\"alpha\"]\n",
    "    lr = best_trial.params[\"lr\"]\n",
    "    num_epochs = best_trial.params[\"num_epochs\"]\n",
    "    \n",
    "    lora_ann_model = LoRA_ANN(lora_rank,\n",
    "                              alpha, \n",
    "                              model_path, \n",
    "                              num_inputs, \n",
    "                              num_hidden, \n",
    "                              num_outputs,\n",
    "                              batch_size).to(device)\n",
    "\n",
    "    # Train\n",
    "    \n",
    "    task = task_names[i]\n",
    "    train_loader = train_loaders[i]\n",
    "    val_loader = val_loaders[i]\n",
    "\n",
    "    train_ANN(lora_ann_model, loss_name, optimizer_name, lr, train_loader, num_epochs, batch_size, device)\n",
    "    \n",
    "    # Test\n",
    "    test_accs = np.zeros(10)\n",
    "    for j in range(10) :\n",
    "        test_acc = test(lora_ann_model, test_loaders[j], batch_size, device)\n",
    "        test_accs[j] = test_acc\n",
    "    \n",
    "    # Save model\n",
    "    fc1_update = lora_ann_model.model.fc1.weight + alpha*torch.mm(lora_ann_model.l1_lora_A, lora_ann_model.l1_lora_B).T\n",
    "    lora_ann_model.model.fc1.weight = torch.nn.Parameter(fc1_update)\n",
    "    \n",
    "    fc2_update = lora_ann_model.model.fc2.weight + alpha*torch.mm(lora_ann_model.l2_lora_A, lora_ann_model.l2_lora_B).T\n",
    "    lora_ann_model.model.fc2.weight = torch.nn.Parameter(fc2_update)\n",
    "    \n",
    "    model_path = path + f\"ICL5_state_dict_digit_{i}.pth\"\n",
    "    save(model_path, lora_ann_model.model)\n",
    "    \n",
    "    return test_accs"
   ]
  },
  {
   "cell_type": "code",
   "execution_count": 30,
   "id": "3ba125db",
   "metadata": {},
   "outputs": [
    {
     "name": "stderr",
     "output_type": "stream",
     "text": [
      "[I 2024-05-24 10:36:20,418] A new study created in memory with name: The Search\n"
     ]
    },
    {
     "name": "stdout",
     "output_type": "stream",
     "text": [
      "Learning Task 6\n"
     ]
    },
    {
     "name": "stderr",
     "output_type": "stream",
     "text": [
      "100%|████████████████████████████████████████████████████████████████████████████████████| 4/4 [00:01<00:00,  2.56it/s]\n",
      "[I 2024-05-24 10:36:22,520] Trial 0 finished with value: -19.596707629762793 and parameters: {'lora_rank': 16, 'alpha': 1.9353502622663663, 'lr': 0.0004925694621507596, 'num_epochs': 4}. Best is trial 0 with value: -19.596707629762793.\n",
      "100%|████████████████████████████████████████████████████████████████████████████████████| 4/4 [00:01<00:00,  2.65it/s]\n",
      "[I 2024-05-24 10:36:24,553] Trial 1 finished with value: 25.670060899577315 and parameters: {'lora_rank': 13, 'alpha': 0.7545492437917638, 'lr': 0.0002595506758322009, 'num_epochs': 4}. Best is trial 1 with value: 25.670060899577315.\n",
      "100%|████████████████████████████████████████████████████████████████████████████████████| 1/1 [00:00<00:00,  2.63it/s]\n",
      "[I 2024-05-24 10:36:25,466] Trial 2 finished with value: 48.439617023026415 and parameters: {'lora_rank': 16, 'alpha': 0.9330015595614313, 'lr': 0.0004750841809740517, 'num_epochs': 1}. Best is trial 2 with value: 48.439617023026415.\n",
      "100%|████████████████████████████████████████████████████████████████████████████████████| 1/1 [00:00<00:00,  2.65it/s]\n",
      "[I 2024-05-24 10:36:26,738] A new study created in memory with name: The Search\n"
     ]
    },
    {
     "name": "stdout",
     "output_type": "stream",
     "text": [
      "Learning Task 7\n"
     ]
    },
    {
     "name": "stderr",
     "output_type": "stream",
     "text": [
      "100%|████████████████████████████████████████████████████████████████████████████████████| 1/1 [00:00<00:00,  2.26it/s]\n",
      "[I 2024-05-24 10:36:27,827] Trial 0 finished with value: 24.4738207837146 and parameters: {'lora_rank': 9, 'alpha': 1.5218548989071987, 'lr': 0.00013582002117401953, 'num_epochs': 1}. Best is trial 0 with value: 24.4738207837146.\n",
      "100%|████████████████████████████████████████████████████████████████████████████████████| 2/2 [00:00<00:00,  2.20it/s]\n",
      "[I 2024-05-24 10:36:29,370] Trial 1 finished with value: 30.06402699909085 and parameters: {'lora_rank': 8, 'alpha': 0.9766907835956561, 'lr': 0.00046283304710230416, 'num_epochs': 2}. Best is trial 1 with value: 30.06402699909085.\n",
      "100%|████████████████████████████████████████████████████████████████████████████████████| 4/4 [00:01<00:00,  2.38it/s]\n",
      "[I 2024-05-24 10:36:31,696] Trial 2 finished with value: 42.085863472286164 and parameters: {'lora_rank': 16, 'alpha': 1.683506901516393, 'lr': 6.648315043898713e-05, 'num_epochs': 4}. Best is trial 2 with value: 42.085863472286164.\n",
      "100%|████████████████████████████████████████████████████████████████████████████████████| 4/4 [00:01<00:00,  2.40it/s]\n",
      "[I 2024-05-24 10:36:34,257] A new study created in memory with name: The Search\n"
     ]
    },
    {
     "name": "stdout",
     "output_type": "stream",
     "text": [
      "Learning Task 8\n"
     ]
    },
    {
     "name": "stderr",
     "output_type": "stream",
     "text": [
      "100%|████████████████████████████████████████████████████████████████████████████████████| 2/2 [00:00<00:00,  2.20it/s]\n",
      "[I 2024-05-24 10:36:35,907] Trial 0 finished with value: -5.889671486313894 and parameters: {'lora_rank': 16, 'alpha': 1.3118716796125969, 'lr': 0.0004494866010622706, 'num_epochs': 2}. Best is trial 0 with value: -5.889671486313894.\n",
      "100%|████████████████████████████████████████████████████████████████████████████████████| 4/4 [00:01<00:00,  2.22it/s]\n",
      "[I 2024-05-24 10:36:38,430] Trial 1 finished with value: 3.3841414165728168 and parameters: {'lora_rank': 13, 'alpha': 1.4727040690337838, 'lr': 0.00024251468010507592, 'num_epochs': 4}. Best is trial 1 with value: 3.3841414165728168.\n",
      "100%|████████████████████████████████████████████████████████████████████████████████████| 1/1 [00:00<00:00,  2.26it/s]\n",
      "[I 2024-05-24 10:36:39,588] Trial 2 finished with value: 25.758957844773377 and parameters: {'lora_rank': 11, 'alpha': 0.9020284928969768, 'lr': 0.0002848469537473994, 'num_epochs': 1}. Best is trial 2 with value: 25.758957844773377.\n",
      "100%|████████████████████████████████████████████████████████████████████████████████████| 1/1 [00:00<00:00,  2.15it/s]\n",
      "[I 2024-05-24 10:36:40,928] A new study created in memory with name: The Search\n"
     ]
    },
    {
     "name": "stdout",
     "output_type": "stream",
     "text": [
      "Learning Task 9\n"
     ]
    },
    {
     "name": "stderr",
     "output_type": "stream",
     "text": [
      "100%|████████████████████████████████████████████████████████████████████████████████████| 4/4 [00:01<00:00,  2.39it/s]\n",
      "[I 2024-05-24 10:36:43,461] Trial 0 finished with value: -14.419681125513701 and parameters: {'lora_rank': 12, 'alpha': 1.512588510617407, 'lr': 0.0003853670196982218, 'num_epochs': 4}. Best is trial 0 with value: -14.419681125513701.\n",
      "100%|████████████████████████████████████████████████████████████████████████████████████| 3/3 [00:01<00:00,  2.44it/s]\n",
      "[I 2024-05-24 10:36:45,488] Trial 1 finished with value: -11.9271170168422 and parameters: {'lora_rank': 12, 'alpha': 1.6297189178281222, 'lr': 0.00031401709070682425, 'num_epochs': 3}. Best is trial 1 with value: -11.9271170168422.\n",
      "100%|████████████████████████████████████████████████████████████████████████████████████| 2/2 [00:00<00:00,  2.47it/s]\n",
      "[I 2024-05-24 10:36:47,142] Trial 2 finished with value: 10.442666865912905 and parameters: {'lora_rank': 12, 'alpha': 0.8581498484273761, 'lr': 0.0003643628252207223, 'num_epochs': 2}. Best is trial 2 with value: 10.442666865912905.\n",
      "100%|████████████████████████████████████████████████████████████████████████████████████| 2/2 [00:00<00:00,  2.35it/s]\n",
      "[I 2024-05-24 10:36:48,888] A new study created in memory with name: The Search\n"
     ]
    },
    {
     "name": "stdout",
     "output_type": "stream",
     "text": [
      "Learning Task 10\n"
     ]
    },
    {
     "name": "stderr",
     "output_type": "stream",
     "text": [
      "100%|████████████████████████████████████████████████████████████████████████████████████| 2/2 [00:00<00:00,  2.33it/s]\n",
      "[I 2024-05-24 10:36:50,693] Trial 0 finished with value: 11.582170546401656 and parameters: {'lora_rank': 14, 'alpha': 1.1964211706394214, 'lr': 0.00012102578782242949, 'num_epochs': 2}. Best is trial 0 with value: 11.582170546401656.\n",
      "100%|████████████████████████████████████████████████████████████████████████████████████| 3/3 [00:01<00:00,  2.37it/s]\n",
      "[I 2024-05-24 10:36:52,853] Trial 1 finished with value: -11.549898560801193 and parameters: {'lora_rank': 8, 'alpha': 1.7219690051918146, 'lr': 0.00047349795958830803, 'num_epochs': 3}. Best is trial 0 with value: 11.582170546401656.\n",
      "100%|████████████████████████████████████████████████████████████████████████████████████| 4/4 [00:01<00:00,  2.36it/s]\n",
      "[I 2024-05-24 10:36:55,448] Trial 2 finished with value: 22.71706799112205 and parameters: {'lora_rank': 8, 'alpha': 0.5258095717559461, 'lr': 0.0002108084894796824, 'num_epochs': 4}. Best is trial 2 with value: 22.71706799112205.\n",
      "100%|████████████████████████████████████████████████████████████████████████████████████| 4/4 [00:01<00:00,  2.31it/s]\n"
     ]
    }
   ],
   "source": [
    "# Compute scores of the model trained on the first task\n",
    "model_path = path + \"\\\\ANN_LoRA\\\\ICL5_state_dict_digits_0_to_4.pth\"\n",
    "\n",
    "lora_rank = 16 # The value of this parameters has no influence\n",
    "alpha = 1.8 # The value of this parameter has no influence\n",
    "\n",
    "lora_ann_model = LoRA_ANN(lora_rank,\n",
    "                          alpha, \n",
    "                          model_path, \n",
    "                          num_inputs, \n",
    "                          num_hidden, \n",
    "                          num_outputs, \n",
    "                          batch_size).to(device)\n",
    "\n",
    "# Test the model trained on digits 0 to 4\n",
    "test_accs = np.zeros(10)\n",
    "for j in range(5) :\n",
    "    test_acc = test(lora_ann_model, test_loaders[j], batch_size, device)\n",
    "    test_accs[j] = test_acc\n",
    "        \n",
    "# Initialize variable to store the best HPs and the scores\n",
    "best_params = []\n",
    "scores = [test_acc]\n",
    "test_accs_matrix = [test_accs]\n",
    "mean_test_accs_through_past_tasks = [test_acc]\n",
    "\n",
    "for i in range(5,10) :\n",
    "    print(f\"Learning Task {i+1}\")\n",
    "    # Perform HPO\n",
    "    storage = optuna.storages.InMemoryStorage()\n",
    "    study = optuna.create_study(storage=storage,\n",
    "                                study_name=\"The Search\",\n",
    "                                #sampler=\n",
    "                                direction = \"maximize\")\n",
    "    \n",
    "    params = num_inputs, num_hidden, num_outputs, batch_size\n",
    "    partial_objective = partial(objective, i, model_path, params, device)\n",
    "    study.optimize(partial_objective,\n",
    "                   n_trials=3,\n",
    "                   timeout=3600)\n",
    "\n",
    "    # Retrain and save a model with the best params\n",
    "    best_trial = study.best_trial\n",
    "    best_params.append(best_trial.params)\n",
    "    test_accs = retrain_and_save_with_best_HPs(best_trial, i, model_path) \n",
    "    \n",
    "    model_path = path + f\"ICL5_state_dict_digit_{i}.pth\"\n",
    "    \n",
    "    # Compute and store scores\n",
    "    mu, sigma = np.mean(test_accs[:i+1]), np.std(test_accs[:i+1])\n",
    "    score = mu - sigma\n",
    "    \n",
    "    scores.append(score)\n",
    "    test_accs_matrix.append(test_accs)\n",
    "    mean_test_accs_through_past_tasks.append(mu)"
   ]
  },
  {
   "cell_type": "code",
   "execution_count": 31,
   "id": "0ac55513",
   "metadata": {},
   "outputs": [
    {
     "data": {
      "image/png": "[encoded data removed]",
      "text/plain": [
       "<Figure size 640x480 with 2 Axes>"
      ]
     },
     "metadata": {},
     "output_type": "display_data"
    }
   ],
   "source": [
    "plt.imshow(test_accs_matrix, cmap='viridis', interpolation='nearest')\n",
    "plt.yticks(np.arange(6), np.arange(4, 10))\n",
    "plt.xlabel(\"Accuracy on task...\")\n",
    "plt.ylabel(\"...after training on task\")\n",
    "plt.title(\"Accuracy on task j after training on task i\")\n",
    "plt.colorbar()\n",
    "plt.savefig(\"LoRA_greedy_HPO_matrix_ICL5.png\")\n",
    "plt.show()"
   ]
  },
  {
   "cell_type": "code",
   "execution_count": null,
   "id": "6f7cf6fb",
   "metadata": {},
   "outputs": [],
   "source": []
  }
 ],
 "metadata": {
  "kernelspec": {
   "display_name": "Python 3 (ipykernel)",
   "language": "python",
   "name": "python3"
  },
  "language_info": {
   "codemirror_mode": {
    "name": "ipython",
    "version": 3
   },
   "file_extension": ".py",
   "mimetype": "text/x-python",
   "name": "python",
   "nbconvert_exporter": "python",
   "pygments_lexer": "ipython3",
   "version": "3.10.7"
  }
 },
 "nbformat": 4,
 "nbformat_minor": 5
}
