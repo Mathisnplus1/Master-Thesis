{
 "cells": [
  {
   "cell_type": "code",
   "execution_count": 1,
   "id": "ce0e9e14",
   "metadata": {},
   "outputs": [],
   "source": [
    "import torch\n",
    "import torch.nn as nn\n",
    "from torch.utils.data import DataLoader, Subset, random_split\n",
    "from torchvision import datasets, transforms\n",
    "\n",
    "import os\n",
    "from tqdm import tqdm\n",
    "import numpy as np\n",
    "\n",
    "from scipy.sparse.linalg import svds\n",
    "\n",
    "import matplotlib.pyplot as plt\n",
    "import matplotlib.cm as cm\n",
    "from mpl_toolkits.axes_grid1 import make_axes_locatable"
   ]
  },
  {
   "cell_type": "code",
   "execution_count": 2,
   "id": "a0275f67",
   "metadata": {},
   "outputs": [],
   "source": [
    "device = torch.device(\"cuda\") if torch.cuda.is_available() else torch.device(\"cpu\")"
   ]
  },
  {
   "cell_type": "code",
   "execution_count": 3,
   "id": "447b9616",
   "metadata": {},
   "outputs": [],
   "source": [
    "# Data parameter\n",
    "batch_size=128\n",
    "\n",
    "# Network's initial architecture\n",
    "num_inputs = 28*28\n",
    "num_hidden = 10\n",
    "num_outputs = 10\n",
    "\n",
    "# Network's final architecture\n",
    "num_hidden_target = 100"
   ]
  },
  {
   "cell_type": "code",
   "execution_count": 4,
   "id": "1d3056df",
   "metadata": {},
   "outputs": [],
   "source": [
    "path = os.path.dirname(os.path.abspath(\"__file__\"))\n",
    "\n",
    "data_path = path + \"\\\\data\""
   ]
  },
  {
   "cell_type": "markdown",
   "id": "605449f1",
   "metadata": {},
   "source": [
    "## Load MNIST data"
   ]
  },
  {
   "cell_type": "code",
   "execution_count": 5,
   "id": "66f76de1",
   "metadata": {},
   "outputs": [],
   "source": [
    "transform = transforms.Compose([transforms.ToTensor(), transforms.Normalize((0.1307,), (0.3081,))])\n",
    "\n",
    "def get_MNIST_loaders(path, class_names, batch_size) :\n",
    "\n",
    "    # load MNIST \n",
    "    mnist_train = datasets.MNIST(root=path, train=True, download=False, transform=transform)\n",
    "    mnist_test = datasets.MNIST(root=path, train=False, download=False, transform=transform)\n",
    "\n",
    "\n",
    "    # create a mask to filter indices for each label\n",
    "    train_mask = torch.tensor([label in class_names for label in mnist_train.targets])\n",
    "    test_mask = torch.tensor([label in class_names for label in mnist_test.targets])\n",
    "\n",
    "    # Create Subset datasets for train, validation, and test\n",
    "    train_dataset = Subset(mnist_train, torch.where(train_mask)[0])\n",
    "    test_dataset = Subset(mnist_test, torch.where(test_mask)[0])\n",
    "\n",
    "    # split train into train & validation\n",
    "    train_size = int(0.7 * len(train_dataset))\n",
    "    val_size = len(train_dataset) - train_size\n",
    "    train_dataset, val_dataset = random_split(train_dataset, [train_size, val_size])\n",
    "\n",
    "    train_loader = DataLoader(train_dataset, batch_size=batch_size, shuffle=True, drop_last=True)\n",
    "    val_loader = DataLoader(val_dataset, batch_size=batch_size, shuffle=False, drop_last=True)\n",
    "    test_loader = DataLoader(test_dataset, batch_size=batch_size, shuffle=False, drop_last=True)\n",
    "\n",
    "    return train_loader, val_loader, test_loader"
   ]
  },
  {
   "cell_type": "code",
   "execution_count": 6,
   "id": "7105969b",
   "metadata": {},
   "outputs": [],
   "source": [
    "train_loader, val_loader, test_loader = get_MNIST_loaders(data_path, [i for i in range(10)], batch_size)"
   ]
  },
  {
   "cell_type": "markdown",
   "id": "b1d95d8d",
   "metadata": {},
   "source": [
    "## Define model"
   ]
  },
  {
   "cell_type": "code",
   "execution_count": 7,
   "id": "73a647ff",
   "metadata": {},
   "outputs": [],
   "source": [
    "class ANN (nn.Module):\n",
    "    def __init__(self, num_inputs, num_hidden, num_outputs):\n",
    "        super().__init__()\n",
    "        \n",
    "        self.fc1 = nn.Linear(num_inputs,num_hidden)\n",
    "        self.fc2 = nn.Linear(num_hidden, num_hidden)\n",
    "        self.fc3 = nn.Linear(num_hidden, num_outputs)\n",
    "        \n",
    "        self.activation = torch.sigmoid ## nn.ReLU()\n",
    "        \n",
    "    def forward(self, x) :\n",
    "        x = self.fc1(x)\n",
    "        x = self.activation(x)\n",
    "        x = self.fc2(x)\n",
    "        x = self.activation(x)\n",
    "        x = self.fc3(x)\n",
    "        x = self.activation(x)\n",
    "        \n",
    "        return x\n",
    "    \n",
    "    def add_neurons (self, layer_name, fc1_weight_grad, fc1_bias_grad, fc2_weight_grad, num_neurons, device) :\n",
    "        if layer_name == \"fc1\" :\n",
    "            self.fc1, self.fc2 = add_neurons(self.fc1, self.fc2, \n",
    "                                             fc1_weight_grad, fc1_bias_grad, fc2_weight_grad,\n",
    "                                             num_neurons, device)\n",
    "        \n",
    "        elif layer_name == \"fc2\" :\n",
    "            self.fc2, self.fc3 = add_neurons(self.fc2, self.fc3, \n",
    "                                             fc1_weight_grad, fc1_bias_grad, fc2_weight_grad,\n",
    "                                             num_neurons, device)"
   ]
  },
  {
   "cell_type": "code",
   "execution_count": 8,
   "id": "1d89bbdb",
   "metadata": {},
   "outputs": [],
   "source": [
    "def add_neurons (fc1, fc2, fc1_weight_grad, fc1_bias_grad, fc2_weight_grad, num_neurons, device) :\n",
    "    # PRE-LAYER\n",
    "    num_in_1, num_out_1 = fc1.in_features, fc1.out_features\n",
    "    new_fc1 = nn.Linear(in_features=num_in_1, out_features=num_out_1 + num_neurons).to(device)\n",
    "\n",
    "    # Set parameters\n",
    "    new_fc1.weight = nn.Parameter(torch.cat((fc1.weight,torch.randn(num_neurons, num_in_1).to(device))))\n",
    "    new_fc1.bias = nn.Parameter(torch.cat((fc1.bias, torch.randn(num_neurons).to(device))))\n",
    "\n",
    "    # Set gradients\n",
    "    new_fc1.weight.grad = nn.Parameter(torch.cat((fc1_weight_grad,torch.randn(num_neurons, num_in_1).to(device)), dim=0))\n",
    "    new_fc1.bias.grad = nn.Parameter(torch.cat((fc1_bias_grad, torch.randn(num_neurons).to(device)), dim=0))\n",
    "\n",
    "    # POST-LAYER\n",
    "    num_in_2, num_out_2 = fc2.in_features, fc2.out_features\n",
    "    new_fc2 = nn.Linear(in_features=num_in_2 + num_neurons, out_features=num_out_2).to(device)\n",
    "    \n",
    "    # Set parameters\n",
    "    new_fc2.weight = nn.Parameter(torch.cat((fc2.weight, torch.randn(num_out_2,num_neurons).to(device)), dim=1))\n",
    "    new_fc2.bias = fc2.bias\n",
    "\n",
    "    # Set gradients\n",
    "    new_fc2.weight.grad = torch.cat((fc2_weight_grad, torch.randn(num_out_2, num_neurons).to(device)), dim=1)\n",
    "    new_fc2.bias.grad = fc2.bias.grad\n",
    "\n",
    "    return new_fc1, new_fc2"
   ]
  },
  {
   "cell_type": "markdown",
   "id": "9ad61c1f",
   "metadata": {},
   "source": [
    "## Training pipeline"
   ]
  },
  {
   "cell_type": "code",
   "execution_count": 9,
   "id": "f0b54e7b",
   "metadata": {},
   "outputs": [],
   "source": [
    "def count_all_parameters(model) :\n",
    "    num_params = 0\n",
    "    for param_name, param in model.named_parameters():\n",
    "        num_param = torch.numel(param)\n",
    "        print(param_name, \":\", num_param)\n",
    "        num_params += num_param\n",
    "    return num_params"
   ]
  },
  {
   "cell_type": "code",
   "execution_count": 10,
   "id": "48a38ad0",
   "metadata": {},
   "outputs": [],
   "source": [
    "def get_batch_accuracy(model, data, targets, batch_size):\n",
    "    output = model(data.view(batch_size, -1))\n",
    "    idx = output.argmax(1)\n",
    "    acc = np.mean((targets == idx).detach().cpu().numpy())\n",
    "\n",
    "    return round(acc*100,2)"
   ]
  },
  {
   "cell_type": "code",
   "execution_count": 11,
   "id": "a2a81935",
   "metadata": {},
   "outputs": [],
   "source": [
    "def compute_loss(model, data, targets, loss, loss_name, batch_size) :\n",
    "    if loss_name == \"CE\":\n",
    "        y = model(data.view(batch_size, -1))\n",
    "        loss_val = loss(y, targets)\n",
    "    else :\n",
    "        y = model(data.view(batch_size, -1))\n",
    "        one_hot_targets = nn.functional.one_hot(targets, num_classes=10).to(y.dtype)\n",
    "        loss_val = loss(y, one_hot_targets)\n",
    "    return y, loss_val"
   ]
  },
  {
   "cell_type": "code",
   "execution_count": 12,
   "id": "d6f60925",
   "metadata": {},
   "outputs": [],
   "source": [
    "def compute_val (model, loss, loss_name, val_loader, val_loss_hist, val_acc_hist, epoch, batch_size, device, print_shit=False) :\n",
    "    model.eval()\n",
    "    val_data, val_targets = next(iter(val_loader))\n",
    "    val_data = val_data.to(device)\n",
    "    val_targets = val_targets.to(device)\n",
    "    \n",
    "    # Forward path\n",
    "    y, val_loss_val = compute_loss(model, val_data, val_targets, loss, loss_name, batch_size)\n",
    "    val_loss_hist.append(val_loss_val.item())\n",
    "    \n",
    "    # ACCURACY\n",
    "    if print_shit :\n",
    "        print(f\"Epoch {epoch}\")\n",
    "        # print(f\"Train Set Loss: {train_loss_hist[epoch]:.2f}\")\n",
    "        print(f\"Val Set Loss: {val_loss_hist[epoch]:.2f}\")\n",
    "        print(\"\\n\")\n",
    "    val_acc_hist.append(get_batch_accuracy(model, val_data, val_targets, batch_size))\n",
    "    \n",
    "    \n",
    "    return val_loss_hist, val_acc_hist"
   ]
  },
  {
   "cell_type": "markdown",
   "id": "721a0f22",
   "metadata": {},
   "source": [
    "GradMax offers a way to initialize the added neurons :\n",
    "- $W_l^{new}$ set to $0$ (cf hypothesis between eq (8) and (9)) ♠\n",
    "- $\\frac{\\partial L}{\\partial W_{l}^{new}}$ set to $W_{l+1}^{new,T} \\mathbb{E}_D\\left[\\frac{\\partial L}{\\partial z_{l+1}}h_{l-1}^T\\right]$ even though (9) suggests $W_{l+1}^{new,T} \\frac{\\partial L}{\\partial z_{l+1}}h_{l-1}^T$ ♠\n",
    "- $B_l^{new}$ set to 0 (not mentioned in the paper, \"zeros or ones\" according to layers.py file in the code) ♠\n",
    "- $\\frac{\\partial L}{\\partial B_{l}^{new}}$ set to 0 (not mentioned in the paper) ♠\n",
    "- $W_{l+1}^{new}$ set as the top $k$ left-singular vectors of the matrix $\\mathbb{E}_D\\left[\\frac{\\partial L}{\\partial z_{l+1}}h_{l-1}^T\\right]$ and scaling them by $\\frac{c}{||(\\sigma_1,...,\\sigma_k)||}$ (where $\\sigma_i$\n",
    "is the $i$-th largest singular value) ♠\n",
    "- $\\frac{\\partial L}{\\partial W_{l+1}^{new}}$ set to $0$ (eq (10)) ♠"
   ]
  },
  {
   "cell_type": "markdown",
   "id": "5f6dc5d1",
   "metadata": {},
   "source": [
    "On veut calculer $\\mathbb{E}_D\\left[\\frac{\\partial L}{\\partial z_{l+1}}h_{l-1}^T\\right]$.\n",
    "Détail :\n",
    "- $\\frac{\\partial L}{\\partial z_{l+1}}$ : $[10,1]$ ou $[num_{hidden},1]$ (c'est le gradient calculé dans le layer suivant)\n",
    "- $h_{l-1}^T$ : $[1,784]$ (c'est simplement l'input x)\n",
    "Donc en fait, on veut juste la \n",
    "\n",
    "On sait calculer obtenir ces deux quantités, il suffit de faire la moyenne sur les données vue depuis le dernier ajout d'un neurone (tout le training set si on ajoute des neurones à la fin de chaque epoch, ou tout le batch si on ajoute des neurones à la fin de batchs)\n",
    "\n",
    "Impémentation :\n",
    "- On a besoin de savoir pendant quel layer on veut grow dans la training loop, pour savoir quel gradient on doit stocker."
   ]
  },
  {
   "cell_type": "code",
   "execution_count": null,
   "id": "e3736728",
   "metadata": {},
   "outputs": [],
   "source": [
    "def add_neurons (fc1, fc2, num_neurons, grow_matrix, c, device) :\n",
    "    # Add weights and biases to the layer of interest (fc1)\n",
    "    num_in_1, num_out_1 = fc1.in_features, fc1.out_features\n",
    "    new_fc1 = nn.Linear(in_features=num_in_1, out_features=num_out_1 + num_neurons).to(device)\n",
    "    \n",
    "    # Solve optimization problem (11)\n",
    "    u, s, vh = svds(grow_matrix.cpu().detach().numpy(), k=num_neurons, return_singular_vectors=True)\n",
    "    #print(fc1, (grow_matrix == 0).sum())\n",
    "    #print(\"u :\", u.shape)\n",
    "    #print(\"vh :\", vh.shape)\n",
    "    eigenvals, eigenvecs = (s**2), u[::-1]\n",
    "    #print(s)\n",
    "    scaler = c / np.sqrt(eigenvals.sum())\n",
    "    scaler = 1\n",
    "    #print(scaler)\n",
    "    new_weights_next_layer = (1/scaler)*torch.tensor(eigenvecs[:, :num_neurons].copy()).to(device)\n",
    "    \n",
    "    with torch.no_grad():\n",
    "        # Set parameters\n",
    "        new_fc1.weight[:num_out_1, :] = fc1.weight\n",
    "        new_fc1.bias[:num_out_1] = fc1.bias\n",
    "        new_fc1.weight[num_out_1:, :] = torch.zeros(num_neurons, num_in_1)\n",
    "        new_fc1.bias[num_out_1:] = torch.zeros(num_neurons)\n",
    "        # Set gradients\n",
    "        #print(\"W_l+1^new transpose :\", new_weights_next_layer.t().shape)\n",
    "        #print(\"grow_matrix :\", grow_matrix.shape)\n",
    "        #print(\"new_grad :\", fc1.weight.grad.shape)\n",
    "        # new_fc1.weight.grad =  # torch.cat((fc1.weight.grad, add_weight_grads_1), dim=0)\n",
    "        \n",
    "        # add_weight_grads_1 = torch.mm(new_weights_next_layer.t(), grow_matrix).to(device)\n",
    "        add_weight_grads_1 = torch.zeros(num_neurons, num_in_1).to(device)\n",
    "        new_fc1.weight.grad = torch.cat((fc1.weight.grad,add_weight_grads_1), dim=0)\n",
    "        \n",
    "        add_bias_grad_1 = torch.zeros(num_neurons).to(device)\n",
    "        new_fc1.bias.grad = torch.cat((fc1.bias.grad, add_bias_grad_1), dim=0)\n",
    "        \n",
    "    # Add weights to the following layer (fc2) so it matches fc1 size \n",
    "    num_in_2, num_out_2 = fc2.in_features, fc2.out_features\n",
    "    new_fc2 = nn.Linear(in_features=num_in_2 + num_neurons, out_features=num_out_2).to(device)\n",
    "    with torch.no_grad():\n",
    "        new_fc2.weight[:, :num_in_2] = fc2.weight\n",
    "        #print(\"new_weights :\", new_fc2.weight[:, num_in_2:].shape)\n",
    "        #print(\"potential :\", new_weights_next_layer.shape)\n",
    "        new_weights_next_layer = torch.zeros(num_out_2,num_neurons)\n",
    "        new_fc2.weight[:, num_in_2:] = new_weights_next_layer # torch.zeros(num_out_2,num_neurons)\n",
    "        # Set gradients\n",
    "        add_weight_grads_2 = torch.zeros(num_out_2, num_neurons).to(device)\n",
    "        new_fc2.weight.grad = torch.cat((fc2.weight.grad, add_weight_grads_2), dim=1)\n",
    "    \n",
    "    return new_fc1, new_fc2.to(device)"
   ]
  },
  {
   "cell_type": "raw",
   "id": "ee048336",
   "metadata": {},
   "source": [
    "def add_neurons (fc1, fc2, num_neurons, grow_matrix, c, device) :\n",
    "        # Add weights and biases to the layer of interest (fc1)\n",
    "        num_in_1, num_out_1 = fc1.in_features, fc1.out_features\n",
    "        new_fc1 = nn.Linear(in_features=num_in_1, out_features=num_out_1 + num_neurons).to(device)\n",
    "\n",
    "        with torch.no_grad():\n",
    "            # Set parameters\n",
    "            new_fc1.weight[:num_out_1, :] = fc1.weight\n",
    "            new_fc1.bias[:num_out_1] = fc1.bias\n",
    "            new_fc1.weight[num_out_1:, :] = fc1.weight.mean() * torch.ones(num_neurons, num_in_1).to(device)\n",
    "            new_fc1.bias[num_out_1:] = torch.zeros(num_neurons)\n",
    "            \n",
    "            # Set gradients\n",
    "            add_weight_grads_1 = fc1.weight.grad.mean() * torch.ones(num_neurons, num_in_1).to(device)\n",
    "            new_fc1.weight.grad = torch.cat((fc1.weight.grad,add_weight_grads_1), dim=0)\n",
    "            add_bias_grad_1 = torch.zeros(num_neurons).to(device)\n",
    "            new_fc1.bias.grad = torch.cat((fc1.bias.grad, add_bias_grad_1), dim=0)\n",
    "\n",
    "        # Add weights to the following layer (fc2) so it matches fc1 size \n",
    "        num_in_2, num_out_2 = fc2.in_features, fc2.out_features\n",
    "        new_fc2 = nn.Linear(in_features=num_in_2 + num_neurons, out_features=num_out_2).to(device)\n",
    "        with torch.no_grad():\n",
    "            # Set parameters\n",
    "            new_fc2.weight[:, :num_in_2] = fc2.weight\n",
    "            new_fc2.weight[:, num_in_2:] = fc2.weight.mean() * torch.ones(num_out_2,num_neurons).to(device)\n",
    "            new_fc2.bias = fc2.bias\n",
    "            \n",
    "            # Set gradients\n",
    "            add_weight_grads_2 = fc2.weight.grad.mean() * torch.ones(num_out_2, num_neurons).to(device)\n",
    "            new_fc2.weight.grad = torch.cat((fc2.weight.grad, add_weight_grads_2), dim=1)\n",
    "            new_fc2.bias.grad = fc2.bias.grad\n",
    "\n",
    "        return new_fc1, new_fc2"
   ]
  },
  {
   "cell_type": "code",
   "execution_count": 13,
   "id": "f5619882",
   "metadata": {},
   "outputs": [],
   "source": [
    "def register_hooks(model, pre_layer, post_layer):\n",
    "    activation = []\n",
    "    grad = []\n",
    "\n",
    "    def forward_hook(module, x, y):\n",
    "        activation.append(y)\n",
    "    def backward_hook(module, grad_input, grad_output) :\n",
    "        grad.append(grad_output)\n",
    "    \n",
    "    forward_hook_handle = None\n",
    "    if pre_layer :\n",
    "        forward_hook_handle = pre_layer.register_forward_hook(forward_hook)\n",
    "        \n",
    "    backward_hook_handle = post_layer.register_full_backward_hook(backward_hook)\n",
    "\n",
    "    return activation, grad, forward_hook_handle, backward_hook_handle"
   ]
  },
  {
   "cell_type": "code",
   "execution_count": 14,
   "id": "8d36f7f0",
   "metadata": {},
   "outputs": [],
   "source": [
    "def train (model, growth_schedule, loss, loss_name, optimizer, train_loader, val_loader, \n",
    "           num_epochs, batch_size, device, c = 1, print_num_params = False) :\n",
    "    train_loss_hist, val_loss_hist = [], []\n",
    "    train_acc_hist, val_acc_hist = [], []\n",
    "    batch_index = 0\n",
    "    if growth_schedule :\n",
    "        growth_schedule = iter(growth_schedule)\n",
    "    \n",
    "    # Epoch training loop\n",
    "    for epoch in tqdm(range(num_epochs)):\n",
    "        \n",
    "        # Initialize epoch\n",
    "        train_batch = iter(train_loader)\n",
    "        loss_epoch = 0\n",
    "        \n",
    "        # Batch training loop\n",
    "        for i, (data, targets) in enumerate(train_batch):\n",
    "            if i == 300 :\n",
    "                break\n",
    "            # Get data from the batch\n",
    "            data = data.to(device)\n",
    "            targets = targets.to(device)\n",
    "            \n",
    "            \n",
    "            # Initialize GradMax growth\n",
    "            if (growth_schedule is not None) and (batch_index%50 == 0) and (batch_index != 0):\n",
    "                \n",
    "                # Print the number of parameters\n",
    "                if print_num_params :\n",
    "                    count_all_parameters(model)\n",
    "                \n",
    "                # Remove previous hooks in case they are some\n",
    "                for h in hooks_list :\n",
    "                    h.remove()\n",
    "                \n",
    "                # Get the layer to grow and the number of neurons to add\n",
    "                layer_name, num_neurons = next(growth_schedule)\n",
    "                \n",
    "                # Initialize the matrix on which we will perform SVD\n",
    "                if layer_name == \"fc1\" :\n",
    "                    matrix_to_SVD = torch.zeros(model.fc2.out_features, model.fc1.in_features).to(device)\n",
    "                elif layer_name == \"fc2\" :\n",
    "                    matrix_to_SVD = torch.zeros(model.fc3.out_features, model.fc2.in_features).to(device)\n",
    "                    #print(\"matrix_to_SVD :\", matrix_to_SVD.shape)\n",
    "\n",
    "            model.train()\n",
    "            \n",
    "            # Get the gradient of the layer after the one we grow, for GradMax computation\n",
    "            if (growth_schedule is not None) and (batch_index > 49): #and (batch_index%50 == 0) :\n",
    "                if layer_name == \"fc1\" :\n",
    "                    \n",
    "                    h = data.view(batch_size, -1)\n",
    "                    # register hooks\n",
    "                    _, grad, _, backward_hook_handle = register_hooks(model, None, model.fc2)\n",
    "                    hooks_list.append(backward_hook_handle)\n",
    "                    \n",
    "                    # Forward path\n",
    "                    y, loss_val = compute_loss(model, data, targets, loss, loss_name, batch_size)\n",
    "                    \n",
    "                    # Gradient calculation + weight update\n",
    "                    #output_grad = torch.zeros(torch.Size([])).requires_grad_(True).to(device)\n",
    "                    optimizer.zero_grad()\n",
    "                    loss_val.backward() # Pass output_grad\n",
    "                    optimizer.step()\n",
    "                    \n",
    "                    # Compute the matrix to which we will apply SVD\n",
    "                    #matrix_to_SVD += torch.mm(grad[0][0].t(),h) / batch_size\n",
    "                    \n",
    "                elif layer_name == \"fc2\" :\n",
    "                    # register hooks\n",
    "                    h, grad, forward_hook_handle, backward_hook_handle = register_hooks(model, model.fc1, model.fc3)\n",
    "                    hooks_list.append(forward_hook_handle)\n",
    "                    hooks_list.append(backward_hook_handle)\n",
    "                    \n",
    "                    # Forward path\n",
    "                    y, loss_val = compute_loss(model, data, targets, loss, loss_name, batch_size)\n",
    "                    \n",
    "                    # Gradient calculation + weight update\n",
    "                    #output_grad = torch.ones(torch.Size([])).requires_grad_(True)\n",
    "                    optimizer.zero_grad()\n",
    "                    loss_val.backward() # Pass output_grad\n",
    "                    optimizer.step()\n",
    "                    \n",
    "                    # Compute the matrix to which we will apply SVD\n",
    "                    #matrix_to_SVD += torch.mm(grad[0][0].t(),h[0]) / batch_size\n",
    "            \n",
    "            else :\n",
    "                # Forward path\n",
    "                y, loss_val = compute_loss(model, data, targets, loss, loss_name, batch_size)\n",
    "                \n",
    "                # Gradient calculation + weight update\n",
    "                optimizer.zero_grad()\n",
    "                loss_val.backward()\n",
    "                optimizer.step()\n",
    "            \n",
    "            loss_epoch += loss_val.item()\n",
    "            \n",
    "            \n",
    "            # Add neurons\n",
    "            if (growth_schedule is not None) and (batch_index%50 == 0) and (batch_index != 0):\n",
    "                #with torch.no_grad():\n",
    "                    # Solve optimization problem (11)\n",
    "                    #print(\"Shape of matrix_to_SVD :\", matrix_to_SVD.shape)\n",
    "                    # matrix_to_SVD = matrix_to_SVD.t()\n",
    "\n",
    "                    #if layer_name == \"fc1\" :\n",
    "                    #    model.fc1, model.fc2 = add_neurons(model.fc1, model.fc2, num_neurons, matrix_to_SVD, c, device)\n",
    "                    #elif layer_name == \"fc2\" :\n",
    "                    #    model.fc2, model.fc3 = add_neurons(model.fc2, model.fc3, num_neurons, matrix_to_SVD, c, device)\n",
    "                    \n",
    "                    if layer_name == \"fc1\" :\n",
    "                        fc1_weight_grad = model.fc1.weight.grad\n",
    "                        fc1_bias_grad = model.fc1.bias.grad\n",
    "                        fc2_weight_grad = model.fc2.weight.grad\n",
    "                        model.add_neurons(layer_name, fc1_weight_grad, fc1_bias_grad, fc2_weight_grad, num_neurons, device)\n",
    "                    elif layer_name == \"fc2\" :\n",
    "                        fc2_weight_grad = model.fc2.weight.grad\n",
    "                        fc2_bias_grad = model.fc2.bias.grad\n",
    "                        fc3_weight_grad = model.fc3.weight.grad\n",
    "                        model.add_neurons(layer_name, fc2_weight_grad, fc2_bias_grad, fc3_weight_grad, num_neurons, device)\n",
    "                    \n",
    "                    optimizer = torch.optim.Adam(model.parameters(), lr=5e-3)\n",
    "            \n",
    "            # Get feedback from train and val sets\n",
    "            if batch_index%50 == 49:\n",
    "                with torch.no_grad():\n",
    "                    # Train data\n",
    "                    train_loss_hist.append(loss_epoch/len(train_loader))\n",
    "                    train_acc_hist.append(get_batch_accuracy(model, data, targets, batch_size))\n",
    "                    \n",
    "                    # Val data\n",
    "                    val_loss_hist, val_acc_hist = compute_val (model,\n",
    "                                                               loss,\n",
    "                                                               loss_name,\n",
    "                                                               val_loader, \n",
    "                                                               val_loss_hist, \n",
    "                                                               val_acc_hist,\n",
    "                                                               epoch,\n",
    "                                                               batch_size,\n",
    "                                                               device,\n",
    "                                                               print_shit=False)\n",
    "                    \n",
    "            # End of batch training loop  \n",
    "            batch_index += 1\n",
    "\n",
    "            if batch_index%50 == 0:\n",
    "                print(f'{i} batches used in epoch {epoch}')\n",
    "\n",
    "        print(\"Total number of batches :\", batch_index)\n",
    "    output = [train_loss_hist, train_acc_hist, val_loss_hist, val_acc_hist]\n",
    "    return output"
   ]
  },
  {
   "cell_type": "code",
   "execution_count": 15,
   "id": "83cb2ef1",
   "metadata": {},
   "outputs": [],
   "source": [
    "def test (model, loader, device) :\n",
    "    batches = iter(loader)\n",
    "    num_batches = len(batches)\n",
    "    acc_sum = 0\n",
    "    for (data, targets) in batches :\n",
    "        acc_sum += get_batch_accuracy(model, data.to(device), targets.to(device), batch_size)\n",
    "    return acc_sum/num_batches"
   ]
  },
  {
   "cell_type": "markdown",
   "id": "abc60767",
   "metadata": {},
   "source": [
    "## Train the root & target models for comparisons"
   ]
  },
  {
   "cell_type": "code",
   "execution_count": 16,
   "id": "81375920",
   "metadata": {},
   "outputs": [],
   "source": [
    "loss = nn.MSELoss() # nn.CrossEntropyLoss()\n",
    "loss_name = \"MSE\" # \"CE\"\n",
    "num_epochs = 3\n",
    "growth_schedule = None\n",
    "hooks_list= []"
   ]
  },
  {
   "cell_type": "code",
   "execution_count": 17,
   "id": "8f642840",
   "metadata": {},
   "outputs": [],
   "source": [
    "num_repetitions = 5"
   ]
  },
  {
   "cell_type": "markdown",
   "id": "e1129db3",
   "metadata": {},
   "source": [
    "### Root"
   ]
  },
  {
   "cell_type": "code",
   "execution_count": 18,
   "id": "007b3629",
   "metadata": {
    "scrolled": true
   },
   "outputs": [
    {
     "name": "stderr",
     "output_type": "stream",
     "text": [
      "\r",
      "  0%|                                                                                            | 0/3 [00:00<?, ?it/s]"
     ]
    },
    {
     "name": "stdout",
     "output_type": "stream",
     "text": [
      "49 batches used in epoch 0\n",
      "99 batches used in epoch 0\n",
      "149 batches used in epoch 0\n",
      "199 batches used in epoch 0\n",
      "249 batches used in epoch 0\n"
     ]
    },
    {
     "name": "stderr",
     "output_type": "stream",
     "text": [
      "\r",
      " 33%|████████████████████████████                                                        | 1/3 [00:08<00:17,  8.71s/it]"
     ]
    },
    {
     "name": "stdout",
     "output_type": "stream",
     "text": [
      "299 batches used in epoch 0\n",
      "Total number of batches : 300\n",
      "49 batches used in epoch 1\n",
      "99 batches used in epoch 1\n",
      "149 batches used in epoch 1\n",
      "199 batches used in epoch 1\n",
      "249 batches used in epoch 1\n"
     ]
    },
    {
     "name": "stderr",
     "output_type": "stream",
     "text": [
      "\r",
      " 67%|████████████████████████████████████████████████████████                            | 2/3 [00:17<00:08,  8.65s/it]"
     ]
    },
    {
     "name": "stdout",
     "output_type": "stream",
     "text": [
      "299 batches used in epoch 1\n",
      "Total number of batches : 600\n",
      "49 batches used in epoch 2\n",
      "99 batches used in epoch 2\n",
      "149 batches used in epoch 2\n",
      "199 batches used in epoch 2\n",
      "249 batches used in epoch 2\n"
     ]
    },
    {
     "name": "stderr",
     "output_type": "stream",
     "text": [
      "100%|████████████████████████████████████████████████████████████████████████████████████| 3/3 [00:26<00:00,  8.67s/it]"
     ]
    },
    {
     "name": "stdout",
     "output_type": "stream",
     "text": [
      "299 batches used in epoch 2\n",
      "Total number of batches : 900\n"
     ]
    },
    {
     "name": "stderr",
     "output_type": "stream",
     "text": [
      "\n",
      "  0%|                                                                                            | 0/3 [00:00<?, ?it/s]"
     ]
    },
    {
     "name": "stdout",
     "output_type": "stream",
     "text": [
      "49 batches used in epoch 0\n",
      "99 batches used in epoch 0\n",
      "149 batches used in epoch 0\n",
      "199 batches used in epoch 0\n",
      "249 batches used in epoch 0\n"
     ]
    },
    {
     "name": "stderr",
     "output_type": "stream",
     "text": [
      "\r",
      " 33%|████████████████████████████                                                        | 1/3 [00:08<00:17,  8.56s/it]"
     ]
    },
    {
     "name": "stdout",
     "output_type": "stream",
     "text": [
      "299 batches used in epoch 0\n",
      "Total number of batches : 300\n",
      "49 batches used in epoch 1\n",
      "99 batches used in epoch 1\n",
      "149 batches used in epoch 1\n",
      "199 batches used in epoch 1\n",
      "249 batches used in epoch 1\n"
     ]
    },
    {
     "name": "stderr",
     "output_type": "stream",
     "text": [
      "\r",
      " 67%|████████████████████████████████████████████████████████                            | 2/3 [00:17<00:08,  8.64s/it]"
     ]
    },
    {
     "name": "stdout",
     "output_type": "stream",
     "text": [
      "299 batches used in epoch 1\n",
      "Total number of batches : 600\n",
      "49 batches used in epoch 2\n",
      "99 batches used in epoch 2\n",
      "149 batches used in epoch 2\n",
      "199 batches used in epoch 2\n",
      "249 batches used in epoch 2\n"
     ]
    },
    {
     "name": "stderr",
     "output_type": "stream",
     "text": [
      "100%|████████████████████████████████████████████████████████████████████████████████████| 3/3 [00:25<00:00,  8.64s/it]"
     ]
    },
    {
     "name": "stdout",
     "output_type": "stream",
     "text": [
      "299 batches used in epoch 2\n",
      "Total number of batches : 900\n"
     ]
    },
    {
     "name": "stderr",
     "output_type": "stream",
     "text": [
      "\n",
      "  0%|                                                                                            | 0/3 [00:00<?, ?it/s]"
     ]
    },
    {
     "name": "stdout",
     "output_type": "stream",
     "text": [
      "49 batches used in epoch 0\n",
      "99 batches used in epoch 0\n",
      "149 batches used in epoch 0\n",
      "199 batches used in epoch 0\n",
      "249 batches used in epoch 0\n"
     ]
    },
    {
     "name": "stderr",
     "output_type": "stream",
     "text": [
      "\r",
      " 33%|████████████████████████████                                                        | 1/3 [00:08<00:17,  8.70s/it]"
     ]
    },
    {
     "name": "stdout",
     "output_type": "stream",
     "text": [
      "299 batches used in epoch 0\n",
      "Total number of batches : 300\n",
      "49 batches used in epoch 1\n",
      "99 batches used in epoch 1\n",
      "149 batches used in epoch 1\n",
      "199 batches used in epoch 1\n",
      "249 batches used in epoch 1\n"
     ]
    },
    {
     "name": "stderr",
     "output_type": "stream",
     "text": [
      "\r",
      " 67%|████████████████████████████████████████████████████████                            | 2/3 [00:17<00:08,  8.75s/it]"
     ]
    },
    {
     "name": "stdout",
     "output_type": "stream",
     "text": [
      "299 batches used in epoch 1\n",
      "Total number of batches : 600\n",
      "49 batches used in epoch 2\n",
      "99 batches used in epoch 2\n",
      "149 batches used in epoch 2\n",
      "199 batches used in epoch 2\n",
      "249 batches used in epoch 2\n"
     ]
    },
    {
     "name": "stderr",
     "output_type": "stream",
     "text": [
      "100%|████████████████████████████████████████████████████████████████████████████████████| 3/3 [00:26<00:00,  8.69s/it]"
     ]
    },
    {
     "name": "stdout",
     "output_type": "stream",
     "text": [
      "299 batches used in epoch 2\n",
      "Total number of batches : 900\n"
     ]
    },
    {
     "name": "stderr",
     "output_type": "stream",
     "text": [
      "\n",
      "  0%|                                                                                            | 0/3 [00:00<?, ?it/s]"
     ]
    },
    {
     "name": "stdout",
     "output_type": "stream",
     "text": [
      "49 batches used in epoch 0\n",
      "99 batches used in epoch 0\n",
      "149 batches used in epoch 0\n",
      "199 batches used in epoch 0\n",
      "249 batches used in epoch 0\n"
     ]
    },
    {
     "name": "stderr",
     "output_type": "stream",
     "text": [
      "\r",
      " 33%|████████████████████████████                                                        | 1/3 [00:08<00:16,  8.40s/it]"
     ]
    },
    {
     "name": "stdout",
     "output_type": "stream",
     "text": [
      "299 batches used in epoch 0\n",
      "Total number of batches : 300\n",
      "49 batches used in epoch 1\n",
      "99 batches used in epoch 1\n",
      "149 batches used in epoch 1\n",
      "199 batches used in epoch 1\n",
      "249 batches used in epoch 1\n"
     ]
    },
    {
     "name": "stderr",
     "output_type": "stream",
     "text": [
      "\r",
      " 67%|████████████████████████████████████████████████████████                            | 2/3 [00:16<00:08,  8.50s/it]"
     ]
    },
    {
     "name": "stdout",
     "output_type": "stream",
     "text": [
      "299 batches used in epoch 1\n",
      "Total number of batches : 600\n",
      "49 batches used in epoch 2\n",
      "99 batches used in epoch 2\n",
      "149 batches used in epoch 2\n",
      "199 batches used in epoch 2\n",
      "249 batches used in epoch 2\n"
     ]
    },
    {
     "name": "stderr",
     "output_type": "stream",
     "text": [
      "100%|████████████████████████████████████████████████████████████████████████████████████| 3/3 [00:25<00:00,  8.45s/it]"
     ]
    },
    {
     "name": "stdout",
     "output_type": "stream",
     "text": [
      "299 batches used in epoch 2\n",
      "Total number of batches : 900\n"
     ]
    },
    {
     "name": "stderr",
     "output_type": "stream",
     "text": [
      "\n",
      "  0%|                                                                                            | 0/3 [00:00<?, ?it/s]"
     ]
    },
    {
     "name": "stdout",
     "output_type": "stream",
     "text": [
      "49 batches used in epoch 0\n",
      "99 batches used in epoch 0\n",
      "149 batches used in epoch 0\n",
      "199 batches used in epoch 0\n",
      "249 batches used in epoch 0\n"
     ]
    },
    {
     "name": "stderr",
     "output_type": "stream",
     "text": [
      "\r",
      " 33%|████████████████████████████                                                        | 1/3 [00:08<00:17,  8.61s/it]"
     ]
    },
    {
     "name": "stdout",
     "output_type": "stream",
     "text": [
      "299 batches used in epoch 0\n",
      "Total number of batches : 300\n",
      "49 batches used in epoch 1\n",
      "99 batches used in epoch 1\n",
      "149 batches used in epoch 1\n",
      "199 batches used in epoch 1\n",
      "249 batches used in epoch 1\n"
     ]
    },
    {
     "name": "stderr",
     "output_type": "stream",
     "text": [
      "\r",
      " 67%|████████████████████████████████████████████████████████                            | 2/3 [00:17<00:08,  8.64s/it]"
     ]
    },
    {
     "name": "stdout",
     "output_type": "stream",
     "text": [
      "299 batches used in epoch 1\n",
      "Total number of batches : 600\n",
      "49 batches used in epoch 2\n",
      "99 batches used in epoch 2\n",
      "149 batches used in epoch 2\n",
      "199 batches used in epoch 2\n",
      "249 batches used in epoch 2\n"
     ]
    },
    {
     "name": "stderr",
     "output_type": "stream",
     "text": [
      "100%|████████████████████████████████████████████████████████████████████████████████████| 3/3 [00:25<00:00,  8.60s/it]"
     ]
    },
    {
     "name": "stdout",
     "output_type": "stream",
     "text": [
      "299 batches used in epoch 2\n",
      "Total number of batches : 900\n"
     ]
    },
    {
     "name": "stderr",
     "output_type": "stream",
     "text": [
      "\n"
     ]
    }
   ],
   "source": [
    "test_acc_roots = []\n",
    "for i in range(num_repetitions) :\n",
    "    root_model = ANN(num_inputs, num_hidden, num_outputs).to(device)\n",
    "    optimizer = torch.optim.Adam(root_model.parameters(), lr=5e-3, maximize=False)\n",
    "    output = train(root_model, growth_schedule, loss, loss_name, optimizer, train_loader, val_loader, num_epochs, batch_size, device)\n",
    "    test_acc_root = test(root_model, test_loader, device)\n",
    "    test_acc_roots.append(test_acc_root)"
   ]
  },
  {
   "cell_type": "code",
   "execution_count": 19,
   "id": "1e067cc1",
   "metadata": {},
   "outputs": [],
   "source": [
    "test_acc_roots = np.array(test_acc_roots)"
   ]
  },
  {
   "cell_type": "code",
   "execution_count": 20,
   "id": "1eed664e",
   "metadata": {},
   "outputs": [
    {
     "data": {
      "text/plain": [
       "array([59.67538462, 64.44358974, 20.88423077, 38.46115385, 31.29025641])"
      ]
     },
     "execution_count": 20,
     "metadata": {},
     "output_type": "execute_result"
    }
   ],
   "source": [
    "test_acc_roots"
   ]
  },
  {
   "cell_type": "code",
   "execution_count": 21,
   "id": "d8613e52",
   "metadata": {},
   "outputs": [],
   "source": [
    "test_acc_root = test_acc_roots.mean()"
   ]
  },
  {
   "cell_type": "markdown",
   "id": "9872ea88",
   "metadata": {},
   "source": [
    "### Target"
   ]
  },
  {
   "cell_type": "code",
   "execution_count": 23,
   "id": "482e8b94",
   "metadata": {
    "scrolled": true
   },
   "outputs": [
    {
     "name": "stderr",
     "output_type": "stream",
     "text": [
      "\r",
      "  0%|                                                                                            | 0/3 [00:00<?, ?it/s]"
     ]
    },
    {
     "name": "stdout",
     "output_type": "stream",
     "text": [
      "49 batches used in epoch 0\n",
      "99 batches used in epoch 0\n",
      "149 batches used in epoch 0\n",
      "199 batches used in epoch 0\n",
      "249 batches used in epoch 0\n"
     ]
    },
    {
     "name": "stderr",
     "output_type": "stream",
     "text": [
      "\r",
      " 33%|████████████████████████████                                                        | 1/3 [00:09<00:18,  9.31s/it]"
     ]
    },
    {
     "name": "stdout",
     "output_type": "stream",
     "text": [
      "299 batches used in epoch 0\n",
      "Total number of batches : 300\n",
      "49 batches used in epoch 1\n",
      "99 batches used in epoch 1\n",
      "149 batches used in epoch 1\n",
      "199 batches used in epoch 1\n",
      "249 batches used in epoch 1\n"
     ]
    },
    {
     "name": "stderr",
     "output_type": "stream",
     "text": [
      "\r",
      " 67%|████████████████████████████████████████████████████████                            | 2/3 [00:20<00:10, 10.28s/it]"
     ]
    },
    {
     "name": "stdout",
     "output_type": "stream",
     "text": [
      "299 batches used in epoch 1\n",
      "Total number of batches : 600\n",
      "49 batches used in epoch 2\n",
      "99 batches used in epoch 2\n",
      "149 batches used in epoch 2\n",
      "199 batches used in epoch 2\n",
      "249 batches used in epoch 2\n"
     ]
    },
    {
     "name": "stderr",
     "output_type": "stream",
     "text": [
      "100%|████████████████████████████████████████████████████████████████████████████████████| 3/3 [00:31<00:00, 10.52s/it]"
     ]
    },
    {
     "name": "stdout",
     "output_type": "stream",
     "text": [
      "299 batches used in epoch 2\n",
      "Total number of batches : 900\n"
     ]
    },
    {
     "name": "stderr",
     "output_type": "stream",
     "text": [
      "\n",
      "  0%|                                                                                            | 0/3 [00:00<?, ?it/s]"
     ]
    },
    {
     "name": "stdout",
     "output_type": "stream",
     "text": [
      "49 batches used in epoch 0\n",
      "99 batches used in epoch 0\n",
      "149 batches used in epoch 0\n",
      "199 batches used in epoch 0\n",
      "249 batches used in epoch 0\n"
     ]
    },
    {
     "name": "stderr",
     "output_type": "stream",
     "text": [
      "\r",
      " 33%|████████████████████████████                                                        | 1/3 [00:11<00:23, 11.78s/it]"
     ]
    },
    {
     "name": "stdout",
     "output_type": "stream",
     "text": [
      "299 batches used in epoch 0\n",
      "Total number of batches : 300\n",
      "49 batches used in epoch 1\n",
      "99 batches used in epoch 1\n",
      "149 batches used in epoch 1\n",
      "199 batches used in epoch 1\n",
      "249 batches used in epoch 1\n"
     ]
    },
    {
     "name": "stderr",
     "output_type": "stream",
     "text": [
      "\r",
      " 67%|████████████████████████████████████████████████████████                            | 2/3 [00:23<00:11, 11.78s/it]"
     ]
    },
    {
     "name": "stdout",
     "output_type": "stream",
     "text": [
      "299 batches used in epoch 1\n",
      "Total number of batches : 600\n",
      "49 batches used in epoch 2\n",
      "99 batches used in epoch 2\n",
      "149 batches used in epoch 2\n",
      "199 batches used in epoch 2\n",
      "249 batches used in epoch 2\n"
     ]
    },
    {
     "name": "stderr",
     "output_type": "stream",
     "text": [
      "100%|████████████████████████████████████████████████████████████████████████████████████| 3/3 [00:35<00:00, 11.76s/it]"
     ]
    },
    {
     "name": "stdout",
     "output_type": "stream",
     "text": [
      "299 batches used in epoch 2\n",
      "Total number of batches : 900\n"
     ]
    },
    {
     "name": "stderr",
     "output_type": "stream",
     "text": [
      "\n",
      "  0%|                                                                                            | 0/3 [00:00<?, ?it/s]"
     ]
    },
    {
     "name": "stdout",
     "output_type": "stream",
     "text": [
      "49 batches used in epoch 0\n",
      "99 batches used in epoch 0\n",
      "149 batches used in epoch 0\n",
      "199 batches used in epoch 0\n",
      "249 batches used in epoch 0\n"
     ]
    },
    {
     "name": "stderr",
     "output_type": "stream",
     "text": [
      "\r",
      " 33%|████████████████████████████                                                        | 1/3 [00:11<00:22, 11.14s/it]"
     ]
    },
    {
     "name": "stdout",
     "output_type": "stream",
     "text": [
      "299 batches used in epoch 0\n",
      "Total number of batches : 300\n",
      "49 batches used in epoch 1\n",
      "99 batches used in epoch 1\n",
      "149 batches used in epoch 1\n",
      "199 batches used in epoch 1\n",
      "249 batches used in epoch 1\n"
     ]
    },
    {
     "name": "stderr",
     "output_type": "stream",
     "text": [
      "\r",
      " 67%|████████████████████████████████████████████████████████                            | 2/3 [00:21<00:10, 10.72s/it]"
     ]
    },
    {
     "name": "stdout",
     "output_type": "stream",
     "text": [
      "299 batches used in epoch 1\n",
      "Total number of batches : 600\n",
      "49 batches used in epoch 2\n",
      "99 batches used in epoch 2\n",
      "149 batches used in epoch 2\n",
      "199 batches used in epoch 2\n",
      "249 batches used in epoch 2\n"
     ]
    },
    {
     "name": "stderr",
     "output_type": "stream",
     "text": [
      "100%|████████████████████████████████████████████████████████████████████████████████████| 3/3 [00:32<00:00, 10.81s/it]"
     ]
    },
    {
     "name": "stdout",
     "output_type": "stream",
     "text": [
      "299 batches used in epoch 2\n",
      "Total number of batches : 900\n"
     ]
    },
    {
     "name": "stderr",
     "output_type": "stream",
     "text": [
      "\n",
      "  0%|                                                                                            | 0/3 [00:00<?, ?it/s]"
     ]
    },
    {
     "name": "stdout",
     "output_type": "stream",
     "text": [
      "49 batches used in epoch 0\n",
      "99 batches used in epoch 0\n",
      "149 batches used in epoch 0\n",
      "199 batches used in epoch 0\n",
      "249 batches used in epoch 0\n"
     ]
    },
    {
     "name": "stderr",
     "output_type": "stream",
     "text": [
      "\r",
      " 33%|████████████████████████████                                                        | 1/3 [00:10<00:20, 10.45s/it]"
     ]
    },
    {
     "name": "stdout",
     "output_type": "stream",
     "text": [
      "299 batches used in epoch 0\n",
      "Total number of batches : 300\n",
      "49 batches used in epoch 1\n",
      "99 batches used in epoch 1\n",
      "149 batches used in epoch 1\n",
      "199 batches used in epoch 1\n",
      "249 batches used in epoch 1\n"
     ]
    },
    {
     "name": "stderr",
     "output_type": "stream",
     "text": [
      "\r",
      " 67%|████████████████████████████████████████████████████████                            | 2/3 [00:21<00:10, 10.99s/it]"
     ]
    },
    {
     "name": "stdout",
     "output_type": "stream",
     "text": [
      "299 batches used in epoch 1\n",
      "Total number of batches : 600\n",
      "49 batches used in epoch 2\n",
      "99 batches used in epoch 2\n",
      "149 batches used in epoch 2\n",
      "199 batches used in epoch 2\n",
      "249 batches used in epoch 2\n"
     ]
    },
    {
     "name": "stderr",
     "output_type": "stream",
     "text": [
      "100%|████████████████████████████████████████████████████████████████████████████████████| 3/3 [00:33<00:00, 11.16s/it]"
     ]
    },
    {
     "name": "stdout",
     "output_type": "stream",
     "text": [
      "299 batches used in epoch 2\n",
      "Total number of batches : 900\n"
     ]
    },
    {
     "name": "stderr",
     "output_type": "stream",
     "text": [
      "\n",
      "  0%|                                                                                            | 0/3 [00:00<?, ?it/s]"
     ]
    },
    {
     "name": "stdout",
     "output_type": "stream",
     "text": [
      "49 batches used in epoch 0\n",
      "99 batches used in epoch 0\n",
      "149 batches used in epoch 0\n",
      "199 batches used in epoch 0\n",
      "249 batches used in epoch 0\n"
     ]
    },
    {
     "name": "stderr",
     "output_type": "stream",
     "text": [
      "\r",
      " 33%|████████████████████████████                                                        | 1/3 [00:11<00:23, 11.55s/it]"
     ]
    },
    {
     "name": "stdout",
     "output_type": "stream",
     "text": [
      "299 batches used in epoch 0\n",
      "Total number of batches : 300\n",
      "49 batches used in epoch 1\n",
      "99 batches used in epoch 1\n",
      "149 batches used in epoch 1\n",
      "199 batches used in epoch 1\n",
      "249 batches used in epoch 1\n"
     ]
    },
    {
     "name": "stderr",
     "output_type": "stream",
     "text": [
      "\r",
      " 67%|████████████████████████████████████████████████████████                            | 2/3 [00:23<00:11, 11.54s/it]"
     ]
    },
    {
     "name": "stdout",
     "output_type": "stream",
     "text": [
      "299 batches used in epoch 1\n",
      "Total number of batches : 600\n",
      "49 batches used in epoch 2\n",
      "99 batches used in epoch 2\n",
      "149 batches used in epoch 2\n",
      "199 batches used in epoch 2\n",
      "249 batches used in epoch 2\n"
     ]
    },
    {
     "name": "stderr",
     "output_type": "stream",
     "text": [
      "100%|████████████████████████████████████████████████████████████████████████████████████| 3/3 [00:34<00:00, 11.34s/it]"
     ]
    },
    {
     "name": "stdout",
     "output_type": "stream",
     "text": [
      "299 batches used in epoch 2\n",
      "Total number of batches : 900\n"
     ]
    },
    {
     "name": "stderr",
     "output_type": "stream",
     "text": [
      "\n"
     ]
    }
   ],
   "source": [
    "test_acc_targets = []\n",
    "for i in range(num_repetitions) :\n",
    "    target_model = ANN(num_inputs, num_hidden_target, num_outputs).to(device)\n",
    "    optimizer = torch.optim.Adam(target_model.parameters(), lr=5e-3, maximize=False)\n",
    "    output = train(target_model, growth_schedule, loss, loss_name, optimizer, train_loader, val_loader, num_epochs, batch_size, device)\n",
    "    test_acc_target = test(target_model, test_loader, device)\n",
    "    test_acc_targets.append(test_acc_target)"
   ]
  },
  {
   "cell_type": "code",
   "execution_count": 24,
   "id": "0a6663ef",
   "metadata": {},
   "outputs": [],
   "source": [
    "test_acc_targets = np.array(test_acc_targets)"
   ]
  },
  {
   "cell_type": "code",
   "execution_count": 26,
   "id": "b68d87a6",
   "metadata": {},
   "outputs": [
    {
     "data": {
      "text/plain": [
       "array([93.24897436, 93.68038462, 93.51961538, 93.69076923, 93.68987179])"
      ]
     },
     "execution_count": 26,
     "metadata": {},
     "output_type": "execute_result"
    }
   ],
   "source": [
    "test_acc_targets"
   ]
  },
  {
   "cell_type": "code",
   "execution_count": 27,
   "id": "ec7be627",
   "metadata": {},
   "outputs": [],
   "source": [
    "test_acc_target = test_acc_targets.mean()"
   ]
  },
  {
   "cell_type": "markdown",
   "id": "6c23eee6",
   "metadata": {},
   "source": [
    "## Grow root model"
   ]
  },
  {
   "cell_type": "code",
   "execution_count": 39,
   "id": "d15bd7a7",
   "metadata": {},
   "outputs": [],
   "source": [
    "# Set growth parameters\n",
    "num_neurons = 9\n",
    "c = 1"
   ]
  },
  {
   "cell_type": "code",
   "execution_count": 40,
   "id": "52cd2547",
   "metadata": {},
   "outputs": [],
   "source": [
    "# Define growth schedules\n",
    "growth_schedule_1 = [[\"fc2\", num_neurons],[\"fc2\", num_neurons],[\"fc2\", num_neurons],\n",
    "                     [\"fc2\", num_neurons],[\"fc2\", num_neurons],[\"fc2\", num_neurons],\n",
    "                     [\"fc2\", num_neurons],[\"fc2\", num_neurons],[\"fc2\", num_neurons],\n",
    "                     [\"fc2\", num_neurons],[\"fc1\", num_neurons],[\"fc1\", num_neurons],\n",
    "                     [\"fc1\", num_neurons],[\"fc1\", num_neurons],[\"fc1\", num_neurons],\n",
    "                     [\"fc1\", num_neurons],[\"fc1\", num_neurons],[\"fc1\", num_neurons],\n",
    "                     [\"fc1\", num_neurons],[\"fc1\", num_neurons]]\n",
    "growth_schedule_2 = [[\"fc2\", num_neurons],[\"fc2\", num_neurons],[\"fc2\", num_neurons],\n",
    "                     [\"fc2\", num_neurons],[\"fc1\", num_neurons],[\"fc2\", num_neurons],\n",
    "                     [\"fc2\", num_neurons],[\"fc2\", num_neurons],[\"fc2\", num_neurons],\n",
    "                     [\"fc1\", num_neurons],[\"fc2\", num_neurons],[\"fc1\", num_neurons],\n",
    "                     [\"fc1\", num_neurons],[\"fc1\", num_neurons],[\"fc1\", num_neurons],\n",
    "                     [\"fc2\", num_neurons],[\"fc1\", num_neurons],[\"fc1\", num_neurons],\n",
    "                     [\"fc1\", num_neurons],[\"fc1\", num_neurons]]\n",
    "growth_schedule_3 = [[\"fc2\", num_neurons],[\"fc2\", num_neurons],[\"fc2\", num_neurons],\n",
    "                     [\"fc1\", num_neurons],[\"fc1\", num_neurons],[\"fc2\", num_neurons],\n",
    "                     [\"fc2\", num_neurons],[\"fc2\", num_neurons],[\"fc1\", num_neurons],\n",
    "                     [\"fc1\", num_neurons],[\"fc2\", num_neurons],[\"fc2\", num_neurons],\n",
    "                     [\"fc1\", num_neurons],[\"fc1\", num_neurons],[\"fc1\", num_neurons],\n",
    "                     [\"fc2\", num_neurons],[\"fc2\", num_neurons],[\"fc1\", num_neurons],\n",
    "                     [\"fc1\", num_neurons],[\"fc1\", num_neurons]]\n",
    "growth_schedule_4 = [[\"fc2\", num_neurons],[\"fc1\", num_neurons],[\"fc2\", num_neurons],\n",
    "                     [\"fc1\", num_neurons],[\"fc2\", num_neurons],[\"fc1\", num_neurons],\n",
    "                     [\"fc2\", num_neurons],[\"fc1\", num_neurons],[\"fc2\", num_neurons],\n",
    "                     [\"fc1\", num_neurons],[\"fc2\", num_neurons],[\"fc1\", num_neurons],\n",
    "                     [\"fc2\", num_neurons],[\"fc1\", num_neurons],[\"fc2\", num_neurons],\n",
    "                     [\"fc1\", num_neurons],[\"fc2\", num_neurons],[\"fc1\", num_neurons],\n",
    "                     [\"fc2\", num_neurons],[\"fc1\", num_neurons]]\n",
    "growth_schedule_5 = [[\"fc1\", num_neurons],[\"fc2\", num_neurons],[\"fc1\", num_neurons],\n",
    "                     [\"fc2\", num_neurons],[\"fc1\", num_neurons],[\"fc2\", num_neurons],\n",
    "                     [\"fc1\", num_neurons],[\"fc2\", num_neurons],[\"fc1\", num_neurons],\n",
    "                     [\"fc2\", num_neurons],[\"fc1\", num_neurons],[\"fc2\", num_neurons],\n",
    "                     [\"fc1\", num_neurons],[\"fc2\", num_neurons],[\"fc1\", num_neurons],\n",
    "                     [\"fc2\", num_neurons],[\"fc1\", num_neurons],[\"fc2\", num_neurons],\n",
    "                     [\"fc1\", num_neurons],[\"fc2\", num_neurons]]\n",
    "growth_schedule_6 = [[\"fc1\", num_neurons],[\"fc1\", num_neurons],[\"fc1\", num_neurons],\n",
    "                     [\"fc2\", num_neurons],[\"fc2\", num_neurons],[\"fc1\", num_neurons],\n",
    "                     [\"fc1\", num_neurons],[\"fc1\", num_neurons],[\"fc2\", num_neurons],\n",
    "                     [\"fc2\", num_neurons],[\"fc1\", num_neurons],[\"fc1\", num_neurons],\n",
    "                     [\"fc2\", num_neurons],[\"fc2\", num_neurons],[\"fc2\", num_neurons],\n",
    "                     [\"fc1\", num_neurons],[\"fc1\", num_neurons],[\"fc2\", num_neurons],\n",
    "                     [\"fc2\", num_neurons],[\"fc2\", num_neurons]]\n",
    "growth_schedule_7 = [[\"fc1\", num_neurons],[\"fc1\", num_neurons],[\"fc1\", num_neurons],\n",
    "                     [\"fc1\", num_neurons],[\"fc2\", num_neurons],[\"fc1\", num_neurons],\n",
    "                     [\"fc1\", num_neurons],[\"fc1\", num_neurons],[\"fc1\", num_neurons],\n",
    "                     [\"fc2\", num_neurons],[\"fc1\", num_neurons],[\"fc2\", num_neurons],\n",
    "                     [\"fc2\", num_neurons],[\"fc2\", num_neurons],[\"fc2\", num_neurons],\n",
    "                     [\"fc1\", num_neurons],[\"fc2\", num_neurons],[\"fc2\", num_neurons],\n",
    "                     [\"fc2\", num_neurons],[\"fc2\", num_neurons]]\n",
    "growth_schedule_8 = [[\"fc1\", num_neurons],[\"fc1\", num_neurons],[\"fc1\", num_neurons],\n",
    "                     [\"fc1\", num_neurons],[\"fc1\", num_neurons],[\"fc1\", num_neurons],\n",
    "                     [\"fc1\", num_neurons],[\"fc1\", num_neurons],[\"fc1\", num_neurons],\n",
    "                     [\"fc1\", num_neurons],[\"fc2\", num_neurons],[\"fc2\", num_neurons],\n",
    "                     [\"fc2\", num_neurons],[\"fc2\", num_neurons],[\"fc2\", num_neurons],\n",
    "                     [\"fc2\", num_neurons],[\"fc2\", num_neurons],[\"fc2\", num_neurons],\n",
    "                     [\"fc2\", num_neurons],[\"fc2\", num_neurons]]\n",
    "growth_schedules = [growth_schedule_1, growth_schedule_2, growth_schedule_3, growth_schedule_4,\n",
    "                    growth_schedule_5, growth_schedule_6, growth_schedule_7, growth_schedule_8]"
   ]
  },
  {
   "cell_type": "code",
   "execution_count": 41,
   "id": "74dfe256",
   "metadata": {},
   "outputs": [],
   "source": [
    "def perform_one_growth(num_inputs, num_hidden, num_outputs, \n",
    "                       growth_schedule,\n",
    "                       loss, loss_name,\n",
    "                       train_loader, val_loader, test_loader,\n",
    "                       num_epochs, batch_size,\n",
    "                       device, c) :\n",
    "    root_model = ANN(num_inputs, num_hidden, num_outputs).to(device)\n",
    "    optimizer = torch.optim.Adam(root_model.parameters(), lr=1e-3)\n",
    "    output = train(root_model, growth_schedule, loss, loss_name, optimizer, train_loader, val_loader, num_epochs, batch_size, device, c, print_num_params=False)\n",
    "    test_acc = test(root_model, test_loader, device)\n",
    "    \n",
    "    return output, test_acc"
   ]
  },
  {
   "cell_type": "code",
   "execution_count": 22,
   "id": "145c79a7",
   "metadata": {},
   "outputs": [],
   "source": [
    "hooks_list= []"
   ]
  },
  {
   "cell_type": "code",
   "execution_count": 23,
   "id": "9f868898",
   "metadata": {},
   "outputs": [],
   "source": [
    "num_repetitions = 5"
   ]
  },
  {
   "cell_type": "code",
   "execution_count": 24,
   "id": "aca4b926",
   "metadata": {
    "scrolled": true
   },
   "outputs": [
    {
     "name": "stderr",
     "output_type": "stream",
     "text": [
      "\r",
      "  0%|                                                                                            | 0/3 [00:00<?, ?it/s]"
     ]
    },
    {
     "name": "stdout",
     "output_type": "stream",
     "text": [
      "49 batches used in epoch 0\n",
      "99 batches used in epoch 0\n",
      "149 batches used in epoch 0\n",
      "199 batches used in epoch 0\n",
      "249 batches used in epoch 0\n"
     ]
    },
    {
     "name": "stderr",
     "output_type": "stream",
     "text": [
      "\r",
      " 33%|████████████████████████████                                                        | 1/3 [00:14<00:28, 14.28s/it]"
     ]
    },
    {
     "name": "stdout",
     "output_type": "stream",
     "text": [
      "299 batches used in epoch 0\n",
      "Total number of batches : 300\n",
      "49 batches used in epoch 1\n",
      "99 batches used in epoch 1\n",
      "149 batches used in epoch 1\n",
      "199 batches used in epoch 1\n",
      "249 batches used in epoch 1\n"
     ]
    },
    {
     "name": "stderr",
     "output_type": "stream",
     "text": [
      "\r",
      " 67%|████████████████████████████████████████████████████████                            | 2/3 [00:26<00:12, 13.00s/it]"
     ]
    },
    {
     "name": "stdout",
     "output_type": "stream",
     "text": [
      "299 batches used in epoch 1\n",
      "Total number of batches : 600\n",
      "49 batches used in epoch 2\n",
      "99 batches used in epoch 2\n",
      "149 batches used in epoch 2\n",
      "199 batches used in epoch 2\n",
      "249 batches used in epoch 2\n"
     ]
    },
    {
     "name": "stderr",
     "output_type": "stream",
     "text": [
      "100%|████████████████████████████████████████████████████████████████████████████████████| 3/3 [00:38<00:00, 12.72s/it]"
     ]
    },
    {
     "name": "stdout",
     "output_type": "stream",
     "text": [
      "299 batches used in epoch 2\n",
      "Total number of batches : 900\n"
     ]
    },
    {
     "name": "stderr",
     "output_type": "stream",
     "text": [
      "\n",
      "  0%|                                                                                            | 0/3 [00:00<?, ?it/s]"
     ]
    },
    {
     "name": "stdout",
     "output_type": "stream",
     "text": [
      "49 batches used in epoch 0\n",
      "99 batches used in epoch 0\n",
      "149 batches used in epoch 0\n",
      "199 batches used in epoch 0\n",
      "249 batches used in epoch 0\n"
     ]
    },
    {
     "name": "stderr",
     "output_type": "stream",
     "text": [
      "\r",
      " 33%|████████████████████████████                                                        | 1/3 [00:11<00:23, 11.85s/it]"
     ]
    },
    {
     "name": "stdout",
     "output_type": "stream",
     "text": [
      "299 batches used in epoch 0\n",
      "Total number of batches : 300\n",
      "49 batches used in epoch 1\n",
      "99 batches used in epoch 1\n",
      "149 batches used in epoch 1\n",
      "199 batches used in epoch 1\n",
      "249 batches used in epoch 1\n"
     ]
    },
    {
     "name": "stderr",
     "output_type": "stream",
     "text": [
      "\r",
      " 67%|████████████████████████████████████████████████████████                            | 2/3 [00:23<00:12, 12.02s/it]"
     ]
    },
    {
     "name": "stdout",
     "output_type": "stream",
     "text": [
      "299 batches used in epoch 1\n",
      "Total number of batches : 600\n",
      "49 batches used in epoch 2\n",
      "99 batches used in epoch 2\n",
      "149 batches used in epoch 2\n",
      "199 batches used in epoch 2\n",
      "249 batches used in epoch 2\n"
     ]
    },
    {
     "name": "stderr",
     "output_type": "stream",
     "text": [
      "100%|████████████████████████████████████████████████████████████████████████████████████| 3/3 [00:35<00:00, 11.96s/it]"
     ]
    },
    {
     "name": "stdout",
     "output_type": "stream",
     "text": [
      "299 batches used in epoch 2\n",
      "Total number of batches : 900\n"
     ]
    },
    {
     "name": "stderr",
     "output_type": "stream",
     "text": [
      "\n",
      "  0%|                                                                                            | 0/3 [00:00<?, ?it/s]"
     ]
    },
    {
     "name": "stdout",
     "output_type": "stream",
     "text": [
      "49 batches used in epoch 0\n",
      "99 batches used in epoch 0\n",
      "149 batches used in epoch 0\n",
      "199 batches used in epoch 0\n",
      "249 batches used in epoch 0\n"
     ]
    },
    {
     "name": "stderr",
     "output_type": "stream",
     "text": [
      "\r",
      " 33%|████████████████████████████                                                        | 1/3 [00:11<00:23, 11.98s/it]"
     ]
    },
    {
     "name": "stdout",
     "output_type": "stream",
     "text": [
      "299 batches used in epoch 0\n",
      "Total number of batches : 300\n",
      "49 batches used in epoch 1\n",
      "99 batches used in epoch 1\n",
      "149 batches used in epoch 1\n",
      "199 batches used in epoch 1\n",
      "249 batches used in epoch 1\n"
     ]
    },
    {
     "name": "stderr",
     "output_type": "stream",
     "text": [
      "\r",
      " 67%|████████████████████████████████████████████████████████                            | 2/3 [00:25<00:13, 13.05s/it]"
     ]
    },
    {
     "name": "stdout",
     "output_type": "stream",
     "text": [
      "299 batches used in epoch 1\n",
      "Total number of batches : 600\n",
      "49 batches used in epoch 2\n",
      "99 batches used in epoch 2\n",
      "149 batches used in epoch 2\n",
      "199 batches used in epoch 2\n",
      "249 batches used in epoch 2\n"
     ]
    },
    {
     "name": "stderr",
     "output_type": "stream",
     "text": [
      "100%|████████████████████████████████████████████████████████████████████████████████████| 3/3 [00:40<00:00, 13.35s/it]"
     ]
    },
    {
     "name": "stdout",
     "output_type": "stream",
     "text": [
      "299 batches used in epoch 2\n",
      "Total number of batches : 900\n"
     ]
    },
    {
     "name": "stderr",
     "output_type": "stream",
     "text": [
      "\n",
      "  0%|                                                                                            | 0/3 [00:00<?, ?it/s]"
     ]
    },
    {
     "name": "stdout",
     "output_type": "stream",
     "text": [
      "49 batches used in epoch 0\n",
      "99 batches used in epoch 0\n",
      "149 batches used in epoch 0\n",
      "199 batches used in epoch 0\n",
      "249 batches used in epoch 0\n"
     ]
    },
    {
     "name": "stderr",
     "output_type": "stream",
     "text": [
      "\r",
      " 33%|████████████████████████████                                                        | 1/3 [00:14<00:28, 14.22s/it]"
     ]
    },
    {
     "name": "stdout",
     "output_type": "stream",
     "text": [
      "299 batches used in epoch 0\n",
      "Total number of batches : 300\n",
      "49 batches used in epoch 1\n",
      "99 batches used in epoch 1\n",
      "149 batches used in epoch 1\n",
      "199 batches used in epoch 1\n",
      "249 batches used in epoch 1\n"
     ]
    },
    {
     "name": "stderr",
     "output_type": "stream",
     "text": [
      "\r",
      " 67%|████████████████████████████████████████████████████████                            | 2/3 [00:28<00:13, 13.98s/it]"
     ]
    },
    {
     "name": "stdout",
     "output_type": "stream",
     "text": [
      "299 batches used in epoch 1\n",
      "Total number of batches : 600\n",
      "49 batches used in epoch 2\n",
      "99 batches used in epoch 2\n",
      "149 batches used in epoch 2\n",
      "199 batches used in epoch 2\n",
      "249 batches used in epoch 2\n"
     ]
    },
    {
     "name": "stderr",
     "output_type": "stream",
     "text": [
      "100%|████████████████████████████████████████████████████████████████████████████████████| 3/3 [00:41<00:00, 13.70s/it]"
     ]
    },
    {
     "name": "stdout",
     "output_type": "stream",
     "text": [
      "299 batches used in epoch 2\n",
      "Total number of batches : 900\n"
     ]
    },
    {
     "name": "stderr",
     "output_type": "stream",
     "text": [
      "\n",
      "  0%|                                                                                            | 0/3 [00:00<?, ?it/s]"
     ]
    },
    {
     "name": "stdout",
     "output_type": "stream",
     "text": [
      "49 batches used in epoch 0\n",
      "99 batches used in epoch 0\n",
      "149 batches used in epoch 0\n",
      "199 batches used in epoch 0\n",
      "249 batches used in epoch 0\n"
     ]
    },
    {
     "name": "stderr",
     "output_type": "stream",
     "text": [
      "\r",
      " 33%|████████████████████████████                                                        | 1/3 [00:13<00:26, 13.37s/it]"
     ]
    },
    {
     "name": "stdout",
     "output_type": "stream",
     "text": [
      "299 batches used in epoch 0\n",
      "Total number of batches : 300\n",
      "49 batches used in epoch 1\n",
      "99 batches used in epoch 1\n",
      "149 batches used in epoch 1\n",
      "199 batches used in epoch 1\n",
      "249 batches used in epoch 1\n"
     ]
    },
    {
     "name": "stderr",
     "output_type": "stream",
     "text": [
      "\r",
      " 67%|████████████████████████████████████████████████████████                            | 2/3 [00:26<00:13, 13.30s/it]"
     ]
    },
    {
     "name": "stdout",
     "output_type": "stream",
     "text": [
      "299 batches used in epoch 1\n",
      "Total number of batches : 600\n",
      "49 batches used in epoch 2\n",
      "99 batches used in epoch 2\n",
      "149 batches used in epoch 2\n",
      "199 batches used in epoch 2\n",
      "249 batches used in epoch 2\n"
     ]
    },
    {
     "name": "stderr",
     "output_type": "stream",
     "text": [
      "100%|████████████████████████████████████████████████████████████████████████████████████| 3/3 [00:40<00:00, 13.58s/it]"
     ]
    },
    {
     "name": "stdout",
     "output_type": "stream",
     "text": [
      "299 batches used in epoch 2\n",
      "Total number of batches : 900\n"
     ]
    },
    {
     "name": "stderr",
     "output_type": "stream",
     "text": [
      "\n",
      "  0%|                                                                                            | 0/3 [00:00<?, ?it/s]"
     ]
    },
    {
     "name": "stdout",
     "output_type": "stream",
     "text": [
      "49 batches used in epoch 0\n",
      "99 batches used in epoch 0\n",
      "149 batches used in epoch 0\n",
      "199 batches used in epoch 0\n",
      "249 batches used in epoch 0\n"
     ]
    },
    {
     "name": "stderr",
     "output_type": "stream",
     "text": [
      "\r",
      " 33%|████████████████████████████                                                        | 1/3 [00:12<00:25, 12.60s/it]"
     ]
    },
    {
     "name": "stdout",
     "output_type": "stream",
     "text": [
      "299 batches used in epoch 0\n",
      "Total number of batches : 300\n",
      "49 batches used in epoch 1\n",
      "99 batches used in epoch 1\n",
      "149 batches used in epoch 1\n",
      "199 batches used in epoch 1\n",
      "249 batches used in epoch 1\n"
     ]
    },
    {
     "name": "stderr",
     "output_type": "stream",
     "text": [
      "\r",
      " 67%|████████████████████████████████████████████████████████                            | 2/3 [00:26<00:13, 13.58s/it]"
     ]
    },
    {
     "name": "stdout",
     "output_type": "stream",
     "text": [
      "299 batches used in epoch 1\n",
      "Total number of batches : 600\n",
      "49 batches used in epoch 2\n",
      "99 batches used in epoch 2\n",
      "149 batches used in epoch 2\n",
      "199 batches used in epoch 2\n",
      "249 batches used in epoch 2\n"
     ]
    },
    {
     "name": "stderr",
     "output_type": "stream",
     "text": [
      "100%|████████████████████████████████████████████████████████████████████████████████████| 3/3 [00:40<00:00, 13.37s/it]"
     ]
    },
    {
     "name": "stdout",
     "output_type": "stream",
     "text": [
      "299 batches used in epoch 2\n",
      "Total number of batches : 900\n"
     ]
    },
    {
     "name": "stderr",
     "output_type": "stream",
     "text": [
      "\n",
      "  0%|                                                                                            | 0/3 [00:00<?, ?it/s]"
     ]
    },
    {
     "name": "stdout",
     "output_type": "stream",
     "text": [
      "49 batches used in epoch 0\n",
      "99 batches used in epoch 0\n",
      "149 batches used in epoch 0\n",
      "199 batches used in epoch 0\n",
      "249 batches used in epoch 0\n"
     ]
    },
    {
     "name": "stderr",
     "output_type": "stream",
     "text": [
      "\r",
      " 33%|████████████████████████████                                                        | 1/3 [00:12<00:24, 12.26s/it]"
     ]
    },
    {
     "name": "stdout",
     "output_type": "stream",
     "text": [
      "299 batches used in epoch 0\n",
      "Total number of batches : 300\n",
      "49 batches used in epoch 1\n",
      "99 batches used in epoch 1\n",
      "149 batches used in epoch 1\n",
      "199 batches used in epoch 1\n",
      "249 batches used in epoch 1\n"
     ]
    },
    {
     "name": "stderr",
     "output_type": "stream",
     "text": [
      "\r",
      " 67%|████████████████████████████████████████████████████████                            | 2/3 [00:22<00:11, 11.34s/it]"
     ]
    },
    {
     "name": "stdout",
     "output_type": "stream",
     "text": [
      "299 batches used in epoch 1\n",
      "Total number of batches : 600\n",
      "49 batches used in epoch 2\n",
      "99 batches used in epoch 2\n",
      "149 batches used in epoch 2\n",
      "199 batches used in epoch 2\n",
      "249 batches used in epoch 2\n"
     ]
    },
    {
     "name": "stderr",
     "output_type": "stream",
     "text": [
      "100%|████████████████████████████████████████████████████████████████████████████████████| 3/3 [00:32<00:00, 10.68s/it]"
     ]
    },
    {
     "name": "stdout",
     "output_type": "stream",
     "text": [
      "299 batches used in epoch 2\n",
      "Total number of batches : 900\n"
     ]
    },
    {
     "name": "stderr",
     "output_type": "stream",
     "text": [
      "\n",
      "  0%|                                                                                            | 0/3 [00:00<?, ?it/s]"
     ]
    },
    {
     "name": "stdout",
     "output_type": "stream",
     "text": [
      "49 batches used in epoch 0\n",
      "99 batches used in epoch 0\n",
      "149 batches used in epoch 0\n",
      "199 batches used in epoch 0\n",
      "249 batches used in epoch 0\n"
     ]
    },
    {
     "name": "stderr",
     "output_type": "stream",
     "text": [
      "\r",
      " 33%|████████████████████████████                                                        | 1/3 [00:08<00:17,  8.86s/it]"
     ]
    },
    {
     "name": "stdout",
     "output_type": "stream",
     "text": [
      "299 batches used in epoch 0\n",
      "Total number of batches : 300\n",
      "49 batches used in epoch 1\n",
      "99 batches used in epoch 1\n",
      "149 batches used in epoch 1\n",
      "199 batches used in epoch 1\n",
      "249 batches used in epoch 1\n"
     ]
    },
    {
     "name": "stderr",
     "output_type": "stream",
     "text": [
      "\r",
      " 67%|████████████████████████████████████████████████████████                            | 2/3 [00:17<00:08,  8.86s/it]"
     ]
    },
    {
     "name": "stdout",
     "output_type": "stream",
     "text": [
      "299 batches used in epoch 1\n",
      "Total number of batches : 600\n",
      "49 batches used in epoch 2\n",
      "99 batches used in epoch 2\n",
      "149 batches used in epoch 2\n",
      "199 batches used in epoch 2\n",
      "249 batches used in epoch 2\n"
     ]
    },
    {
     "name": "stderr",
     "output_type": "stream",
     "text": [
      "100%|████████████████████████████████████████████████████████████████████████████████████| 3/3 [00:26<00:00,  8.83s/it]"
     ]
    },
    {
     "name": "stdout",
     "output_type": "stream",
     "text": [
      "299 batches used in epoch 2\n",
      "Total number of batches : 900\n"
     ]
    },
    {
     "name": "stderr",
     "output_type": "stream",
     "text": [
      "\n",
      "  0%|                                                                                            | 0/3 [00:00<?, ?it/s]"
     ]
    },
    {
     "name": "stdout",
     "output_type": "stream",
     "text": [
      "49 batches used in epoch 0\n",
      "99 batches used in epoch 0\n",
      "149 batches used in epoch 0\n",
      "199 batches used in epoch 0\n",
      "249 batches used in epoch 0\n"
     ]
    },
    {
     "name": "stderr",
     "output_type": "stream",
     "text": [
      "\r",
      " 33%|████████████████████████████                                                        | 1/3 [00:08<00:17,  8.78s/it]"
     ]
    },
    {
     "name": "stdout",
     "output_type": "stream",
     "text": [
      "299 batches used in epoch 0\n",
      "Total number of batches : 300\n",
      "49 batches used in epoch 1\n",
      "99 batches used in epoch 1\n",
      "149 batches used in epoch 1\n",
      "199 batches used in epoch 1\n",
      "249 batches used in epoch 1\n"
     ]
    },
    {
     "name": "stderr",
     "output_type": "stream",
     "text": [
      "\r",
      " 67%|████████████████████████████████████████████████████████                            | 2/3 [00:16<00:08,  8.35s/it]"
     ]
    },
    {
     "name": "stdout",
     "output_type": "stream",
     "text": [
      "299 batches used in epoch 1\n",
      "Total number of batches : 600\n",
      "49 batches used in epoch 2\n",
      "99 batches used in epoch 2\n",
      "149 batches used in epoch 2\n",
      "199 batches used in epoch 2\n",
      "249 batches used in epoch 2\n"
     ]
    },
    {
     "name": "stderr",
     "output_type": "stream",
     "text": [
      "100%|████████████████████████████████████████████████████████████████████████████████████| 3/3 [00:25<00:00,  8.49s/it]"
     ]
    },
    {
     "name": "stdout",
     "output_type": "stream",
     "text": [
      "299 batches used in epoch 2\n",
      "Total number of batches : 900\n"
     ]
    },
    {
     "name": "stderr",
     "output_type": "stream",
     "text": [
      "\n",
      "  0%|                                                                                            | 0/3 [00:00<?, ?it/s]"
     ]
    },
    {
     "name": "stdout",
     "output_type": "stream",
     "text": [
      "49 batches used in epoch 0\n",
      "99 batches used in epoch 0\n",
      "149 batches used in epoch 0\n",
      "199 batches used in epoch 0\n",
      "249 batches used in epoch 0\n"
     ]
    },
    {
     "name": "stderr",
     "output_type": "stream",
     "text": [
      "\r",
      " 33%|████████████████████████████                                                        | 1/3 [00:08<00:17,  8.73s/it]"
     ]
    },
    {
     "name": "stdout",
     "output_type": "stream",
     "text": [
      "299 batches used in epoch 0\n",
      "Total number of batches : 300\n",
      "49 batches used in epoch 1\n",
      "99 batches used in epoch 1\n",
      "149 batches used in epoch 1\n",
      "199 batches used in epoch 1\n",
      "249 batches used in epoch 1\n"
     ]
    },
    {
     "name": "stderr",
     "output_type": "stream",
     "text": [
      "\r",
      " 67%|████████████████████████████████████████████████████████                            | 2/3 [00:17<00:08,  8.72s/it]"
     ]
    },
    {
     "name": "stdout",
     "output_type": "stream",
     "text": [
      "299 batches used in epoch 1\n",
      "Total number of batches : 600\n",
      "49 batches used in epoch 2\n",
      "99 batches used in epoch 2\n",
      "149 batches used in epoch 2\n",
      "199 batches used in epoch 2\n",
      "249 batches used in epoch 2\n"
     ]
    },
    {
     "name": "stderr",
     "output_type": "stream",
     "text": [
      "100%|████████████████████████████████████████████████████████████████████████████████████| 3/3 [00:26<00:00,  8.79s/it]"
     ]
    },
    {
     "name": "stdout",
     "output_type": "stream",
     "text": [
      "299 batches used in epoch 2\n",
      "Total number of batches : 900\n"
     ]
    },
    {
     "name": "stderr",
     "output_type": "stream",
     "text": [
      "\n",
      "  0%|                                                                                            | 0/3 [00:00<?, ?it/s]"
     ]
    },
    {
     "name": "stdout",
     "output_type": "stream",
     "text": [
      "49 batches used in epoch 0\n",
      "99 batches used in epoch 0\n",
      "149 batches used in epoch 0\n",
      "199 batches used in epoch 0\n",
      "249 batches used in epoch 0\n"
     ]
    },
    {
     "name": "stderr",
     "output_type": "stream",
     "text": [
      "\r",
      " 33%|████████████████████████████                                                        | 1/3 [00:08<00:17,  8.81s/it]"
     ]
    },
    {
     "name": "stdout",
     "output_type": "stream",
     "text": [
      "299 batches used in epoch 0\n",
      "Total number of batches : 300\n",
      "49 batches used in epoch 1\n",
      "99 batches used in epoch 1\n",
      "149 batches used in epoch 1\n",
      "199 batches used in epoch 1\n",
      "249 batches used in epoch 1\n"
     ]
    },
    {
     "name": "stderr",
     "output_type": "stream",
     "text": [
      "\r",
      " 67%|████████████████████████████████████████████████████████                            | 2/3 [00:17<00:08,  8.83s/it]"
     ]
    },
    {
     "name": "stdout",
     "output_type": "stream",
     "text": [
      "299 batches used in epoch 1\n",
      "Total number of batches : 600\n",
      "49 batches used in epoch 2\n",
      "99 batches used in epoch 2\n",
      "149 batches used in epoch 2\n",
      "199 batches used in epoch 2\n",
      "249 batches used in epoch 2\n"
     ]
    },
    {
     "name": "stderr",
     "output_type": "stream",
     "text": [
      "100%|████████████████████████████████████████████████████████████████████████████████████| 3/3 [00:26<00:00,  8.90s/it]"
     ]
    },
    {
     "name": "stdout",
     "output_type": "stream",
     "text": [
      "299 batches used in epoch 2\n",
      "Total number of batches : 900\n"
     ]
    },
    {
     "name": "stderr",
     "output_type": "stream",
     "text": [
      "\n",
      "  0%|                                                                                            | 0/3 [00:00<?, ?it/s]"
     ]
    },
    {
     "name": "stdout",
     "output_type": "stream",
     "text": [
      "49 batches used in epoch 0\n",
      "99 batches used in epoch 0\n",
      "149 batches used in epoch 0\n",
      "199 batches used in epoch 0\n",
      "249 batches used in epoch 0\n"
     ]
    },
    {
     "name": "stderr",
     "output_type": "stream",
     "text": [
      "\r",
      " 33%|████████████████████████████                                                        | 1/3 [00:08<00:17,  8.78s/it]"
     ]
    },
    {
     "name": "stdout",
     "output_type": "stream",
     "text": [
      "299 batches used in epoch 0\n",
      "Total number of batches : 300\n",
      "49 batches used in epoch 1\n",
      "99 batches used in epoch 1\n",
      "149 batches used in epoch 1\n",
      "199 batches used in epoch 1\n",
      "249 batches used in epoch 1\n"
     ]
    },
    {
     "name": "stderr",
     "output_type": "stream",
     "text": [
      "\r",
      " 67%|████████████████████████████████████████████████████████                            | 2/3 [00:17<00:08,  8.92s/it]"
     ]
    },
    {
     "name": "stdout",
     "output_type": "stream",
     "text": [
      "299 batches used in epoch 1\n",
      "Total number of batches : 600\n",
      "49 batches used in epoch 2\n",
      "99 batches used in epoch 2\n",
      "149 batches used in epoch 2\n",
      "199 batches used in epoch 2\n",
      "249 batches used in epoch 2\n"
     ]
    },
    {
     "name": "stderr",
     "output_type": "stream",
     "text": [
      "100%|████████████████████████████████████████████████████████████████████████████████████| 3/3 [00:26<00:00,  8.85s/it]"
     ]
    },
    {
     "name": "stdout",
     "output_type": "stream",
     "text": [
      "299 batches used in epoch 2\n",
      "Total number of batches : 900\n"
     ]
    },
    {
     "name": "stderr",
     "output_type": "stream",
     "text": [
      "\n",
      "  0%|                                                                                            | 0/3 [00:00<?, ?it/s]"
     ]
    },
    {
     "name": "stdout",
     "output_type": "stream",
     "text": [
      "49 batches used in epoch 0\n",
      "99 batches used in epoch 0\n",
      "149 batches used in epoch 0\n",
      "199 batches used in epoch 0\n",
      "249 batches used in epoch 0\n"
     ]
    },
    {
     "name": "stderr",
     "output_type": "stream",
     "text": [
      "\r",
      " 33%|████████████████████████████                                                        | 1/3 [00:08<00:17,  8.79s/it]"
     ]
    },
    {
     "name": "stdout",
     "output_type": "stream",
     "text": [
      "299 batches used in epoch 0\n",
      "Total number of batches : 300\n",
      "49 batches used in epoch 1\n",
      "99 batches used in epoch 1\n",
      "149 batches used in epoch 1\n",
      "199 batches used in epoch 1\n",
      "249 batches used in epoch 1\n"
     ]
    },
    {
     "name": "stderr",
     "output_type": "stream",
     "text": [
      "\r",
      " 67%|████████████████████████████████████████████████████████                            | 2/3 [00:17<00:08,  8.87s/it]"
     ]
    },
    {
     "name": "stdout",
     "output_type": "stream",
     "text": [
      "299 batches used in epoch 1\n",
      "Total number of batches : 600\n",
      "49 batches used in epoch 2\n",
      "99 batches used in epoch 2\n",
      "149 batches used in epoch 2\n",
      "199 batches used in epoch 2\n",
      "249 batches used in epoch 2\n"
     ]
    },
    {
     "name": "stderr",
     "output_type": "stream",
     "text": [
      "100%|████████████████████████████████████████████████████████████████████████████████████| 3/3 [00:26<00:00,  8.92s/it]"
     ]
    },
    {
     "name": "stdout",
     "output_type": "stream",
     "text": [
      "299 batches used in epoch 2\n",
      "Total number of batches : 900\n"
     ]
    },
    {
     "name": "stderr",
     "output_type": "stream",
     "text": [
      "\n",
      "  0%|                                                                                            | 0/3 [00:00<?, ?it/s]"
     ]
    },
    {
     "name": "stdout",
     "output_type": "stream",
     "text": [
      "49 batches used in epoch 0\n",
      "99 batches used in epoch 0\n",
      "149 batches used in epoch 0\n",
      "199 batches used in epoch 0\n",
      "249 batches used in epoch 0\n"
     ]
    },
    {
     "name": "stderr",
     "output_type": "stream",
     "text": [
      "\r",
      " 33%|████████████████████████████                                                        | 1/3 [00:08<00:17,  8.72s/it]"
     ]
    },
    {
     "name": "stdout",
     "output_type": "stream",
     "text": [
      "299 batches used in epoch 0\n",
      "Total number of batches : 300\n",
      "49 batches used in epoch 1\n",
      "99 batches used in epoch 1\n",
      "149 batches used in epoch 1\n",
      "199 batches used in epoch 1\n",
      "249 batches used in epoch 1\n"
     ]
    },
    {
     "name": "stderr",
     "output_type": "stream",
     "text": [
      "\r",
      " 67%|████████████████████████████████████████████████████████                            | 2/3 [00:17<00:08,  8.63s/it]"
     ]
    },
    {
     "name": "stdout",
     "output_type": "stream",
     "text": [
      "299 batches used in epoch 1\n",
      "Total number of batches : 600\n",
      "49 batches used in epoch 2\n",
      "99 batches used in epoch 2\n",
      "149 batches used in epoch 2\n",
      "199 batches used in epoch 2\n",
      "249 batches used in epoch 2\n"
     ]
    },
    {
     "name": "stderr",
     "output_type": "stream",
     "text": [
      "100%|████████████████████████████████████████████████████████████████████████████████████| 3/3 [00:25<00:00,  8.65s/it]"
     ]
    },
    {
     "name": "stdout",
     "output_type": "stream",
     "text": [
      "299 batches used in epoch 2\n",
      "Total number of batches : 900\n"
     ]
    },
    {
     "name": "stderr",
     "output_type": "stream",
     "text": [
      "\n",
      "  0%|                                                                                            | 0/3 [00:00<?, ?it/s]"
     ]
    },
    {
     "name": "stdout",
     "output_type": "stream",
     "text": [
      "49 batches used in epoch 0\n",
      "99 batches used in epoch 0\n",
      "149 batches used in epoch 0\n",
      "199 batches used in epoch 0\n",
      "249 batches used in epoch 0\n"
     ]
    },
    {
     "name": "stderr",
     "output_type": "stream",
     "text": [
      "\r",
      " 33%|████████████████████████████                                                        | 1/3 [00:08<00:17,  8.98s/it]"
     ]
    },
    {
     "name": "stdout",
     "output_type": "stream",
     "text": [
      "299 batches used in epoch 0\n",
      "Total number of batches : 300\n",
      "49 batches used in epoch 1\n",
      "99 batches used in epoch 1\n",
      "149 batches used in epoch 1\n",
      "199 batches used in epoch 1\n",
      "249 batches used in epoch 1\n"
     ]
    },
    {
     "name": "stderr",
     "output_type": "stream",
     "text": [
      "\r",
      " 67%|████████████████████████████████████████████████████████                            | 2/3 [00:18<00:09,  9.01s/it]"
     ]
    },
    {
     "name": "stdout",
     "output_type": "stream",
     "text": [
      "299 batches used in epoch 1\n",
      "Total number of batches : 600\n",
      "49 batches used in epoch 2\n",
      "99 batches used in epoch 2\n",
      "149 batches used in epoch 2\n",
      "199 batches used in epoch 2\n",
      "249 batches used in epoch 2\n"
     ]
    },
    {
     "name": "stderr",
     "output_type": "stream",
     "text": [
      "100%|████████████████████████████████████████████████████████████████████████████████████| 3/3 [00:27<00:00,  9.05s/it]"
     ]
    },
    {
     "name": "stdout",
     "output_type": "stream",
     "text": [
      "299 batches used in epoch 2\n",
      "Total number of batches : 900\n"
     ]
    },
    {
     "name": "stderr",
     "output_type": "stream",
     "text": [
      "\n",
      "  0%|                                                                                            | 0/3 [00:00<?, ?it/s]"
     ]
    },
    {
     "name": "stdout",
     "output_type": "stream",
     "text": [
      "49 batches used in epoch 0\n",
      "99 batches used in epoch 0\n",
      "149 batches used in epoch 0\n",
      "199 batches used in epoch 0\n",
      "249 batches used in epoch 0\n"
     ]
    },
    {
     "name": "stderr",
     "output_type": "stream",
     "text": [
      "\r",
      " 33%|████████████████████████████                                                        | 1/3 [00:08<00:17,  8.69s/it]"
     ]
    },
    {
     "name": "stdout",
     "output_type": "stream",
     "text": [
      "299 batches used in epoch 0\n",
      "Total number of batches : 300\n",
      "49 batches used in epoch 1\n",
      "99 batches used in epoch 1\n",
      "149 batches used in epoch 1\n",
      "199 batches used in epoch 1\n",
      "249 batches used in epoch 1\n"
     ]
    },
    {
     "name": "stderr",
     "output_type": "stream",
     "text": [
      "\r",
      " 67%|████████████████████████████████████████████████████████                            | 2/3 [00:17<00:08,  8.52s/it]"
     ]
    },
    {
     "name": "stdout",
     "output_type": "stream",
     "text": [
      "299 batches used in epoch 1\n",
      "Total number of batches : 600\n",
      "49 batches used in epoch 2\n",
      "99 batches used in epoch 2\n",
      "149 batches used in epoch 2\n",
      "199 batches used in epoch 2\n",
      "249 batches used in epoch 2\n"
     ]
    },
    {
     "name": "stderr",
     "output_type": "stream",
     "text": [
      "100%|████████████████████████████████████████████████████████████████████████████████████| 3/3 [00:26<00:00,  8.73s/it]"
     ]
    },
    {
     "name": "stdout",
     "output_type": "stream",
     "text": [
      "299 batches used in epoch 2\n",
      "Total number of batches : 900\n"
     ]
    },
    {
     "name": "stderr",
     "output_type": "stream",
     "text": [
      "\n",
      "  0%|                                                                                            | 0/3 [00:00<?, ?it/s]"
     ]
    },
    {
     "name": "stdout",
     "output_type": "stream",
     "text": [
      "49 batches used in epoch 0\n",
      "99 batches used in epoch 0\n",
      "149 batches used in epoch 0\n",
      "199 batches used in epoch 0\n",
      "249 batches used in epoch 0\n"
     ]
    },
    {
     "name": "stderr",
     "output_type": "stream",
     "text": [
      "\r",
      " 33%|████████████████████████████                                                        | 1/3 [00:08<00:17,  8.71s/it]"
     ]
    },
    {
     "name": "stdout",
     "output_type": "stream",
     "text": [
      "299 batches used in epoch 0\n",
      "Total number of batches : 300\n",
      "49 batches used in epoch 1\n",
      "99 batches used in epoch 1\n",
      "149 batches used in epoch 1\n",
      "199 batches used in epoch 1\n",
      "249 batches used in epoch 1\n"
     ]
    },
    {
     "name": "stderr",
     "output_type": "stream",
     "text": [
      "\r",
      " 67%|████████████████████████████████████████████████████████                            | 2/3 [00:17<00:08,  8.77s/it]"
     ]
    },
    {
     "name": "stdout",
     "output_type": "stream",
     "text": [
      "299 batches used in epoch 1\n",
      "Total number of batches : 600\n",
      "49 batches used in epoch 2\n",
      "99 batches used in epoch 2\n",
      "149 batches used in epoch 2\n",
      "199 batches used in epoch 2\n",
      "249 batches used in epoch 2\n"
     ]
    },
    {
     "name": "stderr",
     "output_type": "stream",
     "text": [
      "100%|████████████████████████████████████████████████████████████████████████████████████| 3/3 [00:25<00:00,  8.50s/it]"
     ]
    },
    {
     "name": "stdout",
     "output_type": "stream",
     "text": [
      "299 batches used in epoch 2\n",
      "Total number of batches : 900\n"
     ]
    },
    {
     "name": "stderr",
     "output_type": "stream",
     "text": [
      "\n",
      "  0%|                                                                                            | 0/3 [00:00<?, ?it/s]"
     ]
    },
    {
     "name": "stdout",
     "output_type": "stream",
     "text": [
      "49 batches used in epoch 0\n",
      "99 batches used in epoch 0\n",
      "149 batches used in epoch 0\n",
      "199 batches used in epoch 0\n",
      "249 batches used in epoch 0\n"
     ]
    },
    {
     "name": "stderr",
     "output_type": "stream",
     "text": [
      "\r",
      " 33%|████████████████████████████                                                        | 1/3 [00:08<00:16,  8.43s/it]"
     ]
    },
    {
     "name": "stdout",
     "output_type": "stream",
     "text": [
      "299 batches used in epoch 0\n",
      "Total number of batches : 300\n",
      "49 batches used in epoch 1\n",
      "99 batches used in epoch 1\n",
      "149 batches used in epoch 1\n",
      "199 batches used in epoch 1\n",
      "249 batches used in epoch 1\n"
     ]
    },
    {
     "name": "stderr",
     "output_type": "stream",
     "text": [
      "\r",
      " 67%|████████████████████████████████████████████████████████                            | 2/3 [00:17<00:08,  8.58s/it]"
     ]
    },
    {
     "name": "stdout",
     "output_type": "stream",
     "text": [
      "299 batches used in epoch 1\n",
      "Total number of batches : 600\n",
      "49 batches used in epoch 2\n",
      "99 batches used in epoch 2\n",
      "149 batches used in epoch 2\n",
      "199 batches used in epoch 2\n",
      "249 batches used in epoch 2\n"
     ]
    },
    {
     "name": "stderr",
     "output_type": "stream",
     "text": [
      "100%|████████████████████████████████████████████████████████████████████████████████████| 3/3 [00:26<00:00,  8.68s/it]"
     ]
    },
    {
     "name": "stdout",
     "output_type": "stream",
     "text": [
      "299 batches used in epoch 2\n",
      "Total number of batches : 900\n"
     ]
    },
    {
     "name": "stderr",
     "output_type": "stream",
     "text": [
      "\n",
      "  0%|                                                                                            | 0/3 [00:00<?, ?it/s]"
     ]
    },
    {
     "name": "stdout",
     "output_type": "stream",
     "text": [
      "49 batches used in epoch 0\n",
      "99 batches used in epoch 0\n",
      "149 batches used in epoch 0\n",
      "199 batches used in epoch 0\n",
      "249 batches used in epoch 0\n"
     ]
    },
    {
     "name": "stderr",
     "output_type": "stream",
     "text": [
      "\r",
      " 33%|████████████████████████████                                                        | 1/3 [00:08<00:17,  8.68s/it]"
     ]
    },
    {
     "name": "stdout",
     "output_type": "stream",
     "text": [
      "299 batches used in epoch 0\n",
      "Total number of batches : 300\n",
      "49 batches used in epoch 1\n",
      "99 batches used in epoch 1\n",
      "149 batches used in epoch 1\n",
      "199 batches used in epoch 1\n",
      "249 batches used in epoch 1\n"
     ]
    },
    {
     "name": "stderr",
     "output_type": "stream",
     "text": [
      "\r",
      " 67%|████████████████████████████████████████████████████████                            | 2/3 [00:17<00:08,  8.71s/it]"
     ]
    },
    {
     "name": "stdout",
     "output_type": "stream",
     "text": [
      "299 batches used in epoch 1\n",
      "Total number of batches : 600\n",
      "49 batches used in epoch 2\n",
      "99 batches used in epoch 2\n",
      "149 batches used in epoch 2\n",
      "199 batches used in epoch 2\n",
      "249 batches used in epoch 2\n"
     ]
    },
    {
     "name": "stderr",
     "output_type": "stream",
     "text": [
      "100%|████████████████████████████████████████████████████████████████████████████████████| 3/3 [00:26<00:00,  8.78s/it]"
     ]
    },
    {
     "name": "stdout",
     "output_type": "stream",
     "text": [
      "299 batches used in epoch 2\n",
      "Total number of batches : 900\n"
     ]
    },
    {
     "name": "stderr",
     "output_type": "stream",
     "text": [
      "\n",
      "  0%|                                                                                            | 0/3 [00:00<?, ?it/s]"
     ]
    },
    {
     "name": "stdout",
     "output_type": "stream",
     "text": [
      "49 batches used in epoch 0\n",
      "99 batches used in epoch 0\n",
      "149 batches used in epoch 0\n",
      "199 batches used in epoch 0\n",
      "249 batches used in epoch 0\n"
     ]
    },
    {
     "name": "stderr",
     "output_type": "stream",
     "text": [
      "\r",
      " 33%|████████████████████████████                                                        | 1/3 [00:08<00:17,  8.55s/it]"
     ]
    },
    {
     "name": "stdout",
     "output_type": "stream",
     "text": [
      "299 batches used in epoch 0\n",
      "Total number of batches : 300\n",
      "49 batches used in epoch 1\n",
      "99 batches used in epoch 1\n",
      "149 batches used in epoch 1\n",
      "199 batches used in epoch 1\n",
      "249 batches used in epoch 1\n"
     ]
    },
    {
     "name": "stderr",
     "output_type": "stream",
     "text": [
      "\r",
      " 67%|████████████████████████████████████████████████████████                            | 2/3 [00:17<00:08,  8.65s/it]"
     ]
    },
    {
     "name": "stdout",
     "output_type": "stream",
     "text": [
      "299 batches used in epoch 1\n",
      "Total number of batches : 600\n",
      "49 batches used in epoch 2\n",
      "99 batches used in epoch 2\n",
      "149 batches used in epoch 2\n",
      "199 batches used in epoch 2\n",
      "249 batches used in epoch 2\n"
     ]
    },
    {
     "name": "stderr",
     "output_type": "stream",
     "text": [
      "100%|████████████████████████████████████████████████████████████████████████████████████| 3/3 [00:26<00:00,  8.83s/it]"
     ]
    },
    {
     "name": "stdout",
     "output_type": "stream",
     "text": [
      "299 batches used in epoch 2\n",
      "Total number of batches : 900\n"
     ]
    },
    {
     "name": "stderr",
     "output_type": "stream",
     "text": [
      "\n",
      "  0%|                                                                                            | 0/3 [00:00<?, ?it/s]"
     ]
    },
    {
     "name": "stdout",
     "output_type": "stream",
     "text": [
      "49 batches used in epoch 0\n",
      "99 batches used in epoch 0\n",
      "149 batches used in epoch 0\n",
      "199 batches used in epoch 0\n",
      "249 batches used in epoch 0\n"
     ]
    },
    {
     "name": "stderr",
     "output_type": "stream",
     "text": [
      "\r",
      " 33%|████████████████████████████                                                        | 1/3 [00:09<00:19,  9.93s/it]"
     ]
    },
    {
     "name": "stdout",
     "output_type": "stream",
     "text": [
      "299 batches used in epoch 0\n",
      "Total number of batches : 300\n",
      "49 batches used in epoch 1\n",
      "99 batches used in epoch 1\n",
      "149 batches used in epoch 1\n",
      "199 batches used in epoch 1\n",
      "249 batches used in epoch 1\n"
     ]
    },
    {
     "name": "stderr",
     "output_type": "stream",
     "text": [
      "\r",
      " 67%|████████████████████████████████████████████████████████                            | 2/3 [00:19<00:09,  9.55s/it]"
     ]
    },
    {
     "name": "stdout",
     "output_type": "stream",
     "text": [
      "299 batches used in epoch 1\n",
      "Total number of batches : 600\n",
      "49 batches used in epoch 2\n",
      "99 batches used in epoch 2\n",
      "149 batches used in epoch 2\n",
      "199 batches used in epoch 2\n",
      "249 batches used in epoch 2\n"
     ]
    },
    {
     "name": "stderr",
     "output_type": "stream",
     "text": [
      "100%|████████████████████████████████████████████████████████████████████████████████████| 3/3 [00:28<00:00,  9.57s/it]"
     ]
    },
    {
     "name": "stdout",
     "output_type": "stream",
     "text": [
      "299 batches used in epoch 2\n",
      "Total number of batches : 900\n"
     ]
    },
    {
     "name": "stderr",
     "output_type": "stream",
     "text": [
      "\n",
      "  0%|                                                                                            | 0/3 [00:00<?, ?it/s]"
     ]
    },
    {
     "name": "stdout",
     "output_type": "stream",
     "text": [
      "49 batches used in epoch 0\n",
      "99 batches used in epoch 0\n",
      "149 batches used in epoch 0\n",
      "199 batches used in epoch 0\n",
      "249 batches used in epoch 0\n"
     ]
    },
    {
     "name": "stderr",
     "output_type": "stream",
     "text": [
      "\r",
      " 33%|████████████████████████████                                                        | 1/3 [00:08<00:17,  8.89s/it]"
     ]
    },
    {
     "name": "stdout",
     "output_type": "stream",
     "text": [
      "299 batches used in epoch 0\n",
      "Total number of batches : 300\n",
      "49 batches used in epoch 1\n",
      "99 batches used in epoch 1\n",
      "149 batches used in epoch 1\n",
      "199 batches used in epoch 1\n",
      "249 batches used in epoch 1\n"
     ]
    },
    {
     "name": "stderr",
     "output_type": "stream",
     "text": [
      "\r",
      " 67%|████████████████████████████████████████████████████████                            | 2/3 [00:17<00:08,  8.97s/it]"
     ]
    },
    {
     "name": "stdout",
     "output_type": "stream",
     "text": [
      "299 batches used in epoch 1\n",
      "Total number of batches : 600\n",
      "49 batches used in epoch 2\n",
      "99 batches used in epoch 2\n",
      "149 batches used in epoch 2\n",
      "199 batches used in epoch 2\n",
      "249 batches used in epoch 2\n"
     ]
    },
    {
     "name": "stderr",
     "output_type": "stream",
     "text": [
      "100%|████████████████████████████████████████████████████████████████████████████████████| 3/3 [00:27<00:00,  9.03s/it]"
     ]
    },
    {
     "name": "stdout",
     "output_type": "stream",
     "text": [
      "299 batches used in epoch 2\n",
      "Total number of batches : 900\n"
     ]
    },
    {
     "name": "stderr",
     "output_type": "stream",
     "text": [
      "\n",
      "  0%|                                                                                            | 0/3 [00:00<?, ?it/s]"
     ]
    },
    {
     "name": "stdout",
     "output_type": "stream",
     "text": [
      "49 batches used in epoch 0\n",
      "99 batches used in epoch 0\n",
      "149 batches used in epoch 0\n",
      "199 batches used in epoch 0\n",
      "249 batches used in epoch 0\n"
     ]
    },
    {
     "name": "stderr",
     "output_type": "stream",
     "text": [
      "\r",
      " 33%|████████████████████████████                                                        | 1/3 [00:08<00:17,  8.81s/it]"
     ]
    },
    {
     "name": "stdout",
     "output_type": "stream",
     "text": [
      "299 batches used in epoch 0\n",
      "Total number of batches : 300\n",
      "49 batches used in epoch 1\n",
      "99 batches used in epoch 1\n",
      "149 batches used in epoch 1\n",
      "199 batches used in epoch 1\n",
      "249 batches used in epoch 1\n"
     ]
    },
    {
     "name": "stderr",
     "output_type": "stream",
     "text": [
      "\r",
      " 67%|████████████████████████████████████████████████████████                            | 2/3 [00:17<00:08,  8.92s/it]"
     ]
    },
    {
     "name": "stdout",
     "output_type": "stream",
     "text": [
      "299 batches used in epoch 1\n",
      "Total number of batches : 600\n",
      "49 batches used in epoch 2\n",
      "99 batches used in epoch 2\n",
      "149 batches used in epoch 2\n",
      "199 batches used in epoch 2\n",
      "249 batches used in epoch 2\n"
     ]
    },
    {
     "name": "stderr",
     "output_type": "stream",
     "text": [
      "100%|████████████████████████████████████████████████████████████████████████████████████| 3/3 [00:26<00:00,  8.90s/it]"
     ]
    },
    {
     "name": "stdout",
     "output_type": "stream",
     "text": [
      "299 batches used in epoch 2\n",
      "Total number of batches : 900\n"
     ]
    },
    {
     "name": "stderr",
     "output_type": "stream",
     "text": [
      "\n",
      "  0%|                                                                                            | 0/3 [00:00<?, ?it/s]"
     ]
    },
    {
     "name": "stdout",
     "output_type": "stream",
     "text": [
      "49 batches used in epoch 0\n",
      "99 batches used in epoch 0\n",
      "149 batches used in epoch 0\n",
      "199 batches used in epoch 0\n",
      "249 batches used in epoch 0\n"
     ]
    },
    {
     "name": "stderr",
     "output_type": "stream",
     "text": [
      "\r",
      " 33%|████████████████████████████                                                        | 1/3 [00:08<00:17,  8.68s/it]"
     ]
    },
    {
     "name": "stdout",
     "output_type": "stream",
     "text": [
      "299 batches used in epoch 0\n",
      "Total number of batches : 300\n",
      "49 batches used in epoch 1\n",
      "99 batches used in epoch 1\n",
      "149 batches used in epoch 1\n",
      "199 batches used in epoch 1\n",
      "249 batches used in epoch 1\n"
     ]
    },
    {
     "name": "stderr",
     "output_type": "stream",
     "text": [
      "\r",
      " 67%|████████████████████████████████████████████████████████                            | 2/3 [00:17<00:08,  8.85s/it]"
     ]
    },
    {
     "name": "stdout",
     "output_type": "stream",
     "text": [
      "299 batches used in epoch 1\n",
      "Total number of batches : 600\n",
      "49 batches used in epoch 2\n",
      "99 batches used in epoch 2\n",
      "149 batches used in epoch 2\n",
      "199 batches used in epoch 2\n",
      "249 batches used in epoch 2\n"
     ]
    },
    {
     "name": "stderr",
     "output_type": "stream",
     "text": [
      "100%|████████████████████████████████████████████████████████████████████████████████████| 3/3 [00:26<00:00,  8.91s/it]"
     ]
    },
    {
     "name": "stdout",
     "output_type": "stream",
     "text": [
      "299 batches used in epoch 2\n",
      "Total number of batches : 900\n"
     ]
    },
    {
     "name": "stderr",
     "output_type": "stream",
     "text": [
      "\n",
      "  0%|                                                                                            | 0/3 [00:00<?, ?it/s]"
     ]
    },
    {
     "name": "stdout",
     "output_type": "stream",
     "text": [
      "49 batches used in epoch 0\n",
      "99 batches used in epoch 0\n",
      "149 batches used in epoch 0\n",
      "199 batches used in epoch 0\n",
      "249 batches used in epoch 0\n"
     ]
    },
    {
     "name": "stderr",
     "output_type": "stream",
     "text": [
      "\r",
      " 33%|████████████████████████████                                                        | 1/3 [00:08<00:17,  8.58s/it]"
     ]
    },
    {
     "name": "stdout",
     "output_type": "stream",
     "text": [
      "299 batches used in epoch 0\n",
      "Total number of batches : 300\n",
      "49 batches used in epoch 1\n",
      "99 batches used in epoch 1\n",
      "149 batches used in epoch 1\n",
      "199 batches used in epoch 1\n",
      "249 batches used in epoch 1\n"
     ]
    },
    {
     "name": "stderr",
     "output_type": "stream",
     "text": [
      "\r",
      " 67%|████████████████████████████████████████████████████████                            | 2/3 [00:17<00:08,  8.67s/it]"
     ]
    },
    {
     "name": "stdout",
     "output_type": "stream",
     "text": [
      "299 batches used in epoch 1\n",
      "Total number of batches : 600\n",
      "49 batches used in epoch 2\n",
      "99 batches used in epoch 2\n",
      "149 batches used in epoch 2\n",
      "199 batches used in epoch 2\n",
      "249 batches used in epoch 2\n"
     ]
    },
    {
     "name": "stderr",
     "output_type": "stream",
     "text": [
      "100%|████████████████████████████████████████████████████████████████████████████████████| 3/3 [00:26<00:00,  8.74s/it]"
     ]
    },
    {
     "name": "stdout",
     "output_type": "stream",
     "text": [
      "299 batches used in epoch 2\n",
      "Total number of batches : 900\n"
     ]
    },
    {
     "name": "stderr",
     "output_type": "stream",
     "text": [
      "\n",
      "  0%|                                                                                            | 0/3 [00:00<?, ?it/s]"
     ]
    },
    {
     "name": "stdout",
     "output_type": "stream",
     "text": [
      "49 batches used in epoch 0\n",
      "99 batches used in epoch 0\n",
      "149 batches used in epoch 0\n",
      "199 batches used in epoch 0\n",
      "249 batches used in epoch 0\n"
     ]
    },
    {
     "name": "stderr",
     "output_type": "stream",
     "text": [
      "\r",
      " 33%|████████████████████████████                                                        | 1/3 [00:09<00:19,  9.53s/it]"
     ]
    },
    {
     "name": "stdout",
     "output_type": "stream",
     "text": [
      "299 batches used in epoch 0\n",
      "Total number of batches : 300\n",
      "49 batches used in epoch 1\n",
      "99 batches used in epoch 1\n",
      "149 batches used in epoch 1\n",
      "199 batches used in epoch 1\n",
      "249 batches used in epoch 1\n"
     ]
    },
    {
     "name": "stderr",
     "output_type": "stream",
     "text": [
      "\r",
      " 67%|████████████████████████████████████████████████████████                            | 2/3 [00:19<00:09,  9.68s/it]"
     ]
    },
    {
     "name": "stdout",
     "output_type": "stream",
     "text": [
      "299 batches used in epoch 1\n",
      "Total number of batches : 600\n",
      "49 batches used in epoch 2\n",
      "99 batches used in epoch 2\n",
      "149 batches used in epoch 2\n",
      "199 batches used in epoch 2\n",
      "249 batches used in epoch 2\n"
     ]
    },
    {
     "name": "stderr",
     "output_type": "stream",
     "text": [
      "100%|████████████████████████████████████████████████████████████████████████████████████| 3/3 [00:29<00:00,  9.94s/it]"
     ]
    },
    {
     "name": "stdout",
     "output_type": "stream",
     "text": [
      "299 batches used in epoch 2\n",
      "Total number of batches : 900\n"
     ]
    },
    {
     "name": "stderr",
     "output_type": "stream",
     "text": [
      "\n",
      "  0%|                                                                                            | 0/3 [00:00<?, ?it/s]"
     ]
    },
    {
     "name": "stdout",
     "output_type": "stream",
     "text": [
      "49 batches used in epoch 0\n",
      "99 batches used in epoch 0\n",
      "149 batches used in epoch 0\n",
      "199 batches used in epoch 0\n",
      "249 batches used in epoch 0\n"
     ]
    },
    {
     "name": "stderr",
     "output_type": "stream",
     "text": [
      "\r",
      " 33%|████████████████████████████                                                        | 1/3 [00:11<00:22, 11.19s/it]"
     ]
    },
    {
     "name": "stdout",
     "output_type": "stream",
     "text": [
      "299 batches used in epoch 0\n",
      "Total number of batches : 300\n",
      "49 batches used in epoch 1\n",
      "99 batches used in epoch 1\n",
      "149 batches used in epoch 1\n",
      "199 batches used in epoch 1\n",
      "249 batches used in epoch 1\n"
     ]
    },
    {
     "name": "stderr",
     "output_type": "stream",
     "text": [
      "\r",
      " 67%|████████████████████████████████████████████████████████                            | 2/3 [00:22<00:11, 11.19s/it]"
     ]
    },
    {
     "name": "stdout",
     "output_type": "stream",
     "text": [
      "299 batches used in epoch 1\n",
      "Total number of batches : 600\n",
      "49 batches used in epoch 2\n",
      "99 batches used in epoch 2\n",
      "149 batches used in epoch 2\n",
      "199 batches used in epoch 2\n",
      "249 batches used in epoch 2\n"
     ]
    },
    {
     "name": "stderr",
     "output_type": "stream",
     "text": [
      "100%|████████████████████████████████████████████████████████████████████████████████████| 3/3 [00:33<00:00, 11.02s/it]"
     ]
    },
    {
     "name": "stdout",
     "output_type": "stream",
     "text": [
      "299 batches used in epoch 2\n",
      "Total number of batches : 900\n"
     ]
    },
    {
     "name": "stderr",
     "output_type": "stream",
     "text": [
      "\n",
      "  0%|                                                                                            | 0/3 [00:00<?, ?it/s]"
     ]
    },
    {
     "name": "stdout",
     "output_type": "stream",
     "text": [
      "49 batches used in epoch 0\n",
      "99 batches used in epoch 0\n",
      "149 batches used in epoch 0\n",
      "199 batches used in epoch 0\n",
      "249 batches used in epoch 0\n"
     ]
    },
    {
     "name": "stderr",
     "output_type": "stream",
     "text": [
      "\r",
      " 33%|████████████████████████████                                                        | 1/3 [00:09<00:19,  9.64s/it]"
     ]
    },
    {
     "name": "stdout",
     "output_type": "stream",
     "text": [
      "299 batches used in epoch 0\n",
      "Total number of batches : 300\n",
      "49 batches used in epoch 1\n",
      "99 batches used in epoch 1\n",
      "149 batches used in epoch 1\n",
      "199 batches used in epoch 1\n",
      "249 batches used in epoch 1\n"
     ]
    },
    {
     "name": "stderr",
     "output_type": "stream",
     "text": [
      "\r",
      " 67%|████████████████████████████████████████████████████████                            | 2/3 [00:19<00:09,  9.48s/it]"
     ]
    },
    {
     "name": "stdout",
     "output_type": "stream",
     "text": [
      "299 batches used in epoch 1\n",
      "Total number of batches : 600\n",
      "49 batches used in epoch 2\n",
      "99 batches used in epoch 2\n",
      "149 batches used in epoch 2\n",
      "199 batches used in epoch 2\n",
      "249 batches used in epoch 2\n"
     ]
    },
    {
     "name": "stderr",
     "output_type": "stream",
     "text": [
      "100%|████████████████████████████████████████████████████████████████████████████████████| 3/3 [00:28<00:00,  9.47s/it]"
     ]
    },
    {
     "name": "stdout",
     "output_type": "stream",
     "text": [
      "299 batches used in epoch 2\n",
      "Total number of batches : 900\n"
     ]
    },
    {
     "name": "stderr",
     "output_type": "stream",
     "text": [
      "\n",
      "  0%|                                                                                            | 0/3 [00:00<?, ?it/s]"
     ]
    },
    {
     "name": "stdout",
     "output_type": "stream",
     "text": [
      "49 batches used in epoch 0\n",
      "99 batches used in epoch 0\n",
      "149 batches used in epoch 0\n",
      "199 batches used in epoch 0\n",
      "249 batches used in epoch 0\n"
     ]
    },
    {
     "name": "stderr",
     "output_type": "stream",
     "text": [
      "\r",
      " 33%|████████████████████████████                                                        | 1/3 [00:09<00:18,  9.32s/it]"
     ]
    },
    {
     "name": "stdout",
     "output_type": "stream",
     "text": [
      "299 batches used in epoch 0\n",
      "Total number of batches : 300\n",
      "49 batches used in epoch 1\n",
      "99 batches used in epoch 1\n",
      "149 batches used in epoch 1\n",
      "199 batches used in epoch 1\n",
      "249 batches used in epoch 1\n"
     ]
    },
    {
     "name": "stderr",
     "output_type": "stream",
     "text": [
      "\r",
      " 67%|████████████████████████████████████████████████████████                            | 2/3 [00:18<00:09,  9.21s/it]"
     ]
    },
    {
     "name": "stdout",
     "output_type": "stream",
     "text": [
      "299 batches used in epoch 1\n",
      "Total number of batches : 600\n",
      "49 batches used in epoch 2\n",
      "99 batches used in epoch 2\n",
      "149 batches used in epoch 2\n",
      "199 batches used in epoch 2\n",
      "249 batches used in epoch 2\n"
     ]
    },
    {
     "name": "stderr",
     "output_type": "stream",
     "text": [
      "100%|████████████████████████████████████████████████████████████████████████████████████| 3/3 [00:27<00:00,  9.24s/it]"
     ]
    },
    {
     "name": "stdout",
     "output_type": "stream",
     "text": [
      "299 batches used in epoch 2\n",
      "Total number of batches : 900\n"
     ]
    },
    {
     "name": "stderr",
     "output_type": "stream",
     "text": [
      "\n",
      "  0%|                                                                                            | 0/3 [00:00<?, ?it/s]"
     ]
    },
    {
     "name": "stdout",
     "output_type": "stream",
     "text": [
      "49 batches used in epoch 0\n",
      "99 batches used in epoch 0\n",
      "149 batches used in epoch 0\n",
      "199 batches used in epoch 0\n",
      "249 batches used in epoch 0\n"
     ]
    },
    {
     "name": "stderr",
     "output_type": "stream",
     "text": [
      "\r",
      " 33%|████████████████████████████                                                        | 1/3 [00:09<00:18,  9.28s/it]"
     ]
    },
    {
     "name": "stdout",
     "output_type": "stream",
     "text": [
      "299 batches used in epoch 0\n",
      "Total number of batches : 300\n",
      "49 batches used in epoch 1\n",
      "99 batches used in epoch 1\n",
      "149 batches used in epoch 1\n",
      "199 batches used in epoch 1\n",
      "249 batches used in epoch 1\n"
     ]
    },
    {
     "name": "stderr",
     "output_type": "stream",
     "text": [
      "\r",
      " 67%|████████████████████████████████████████████████████████                            | 2/3 [00:18<00:09,  9.28s/it]"
     ]
    },
    {
     "name": "stdout",
     "output_type": "stream",
     "text": [
      "299 batches used in epoch 1\n",
      "Total number of batches : 600\n",
      "49 batches used in epoch 2\n",
      "99 batches used in epoch 2\n",
      "149 batches used in epoch 2\n",
      "199 batches used in epoch 2\n",
      "249 batches used in epoch 2\n"
     ]
    },
    {
     "name": "stderr",
     "output_type": "stream",
     "text": [
      "100%|████████████████████████████████████████████████████████████████████████████████████| 3/3 [00:28<00:00,  9.42s/it]"
     ]
    },
    {
     "name": "stdout",
     "output_type": "stream",
     "text": [
      "299 batches used in epoch 2\n",
      "Total number of batches : 900\n"
     ]
    },
    {
     "name": "stderr",
     "output_type": "stream",
     "text": [
      "\n",
      "  0%|                                                                                            | 0/3 [00:00<?, ?it/s]"
     ]
    },
    {
     "name": "stdout",
     "output_type": "stream",
     "text": [
      "49 batches used in epoch 0\n",
      "99 batches used in epoch 0\n",
      "149 batches used in epoch 0\n",
      "199 batches used in epoch 0\n",
      "249 batches used in epoch 0\n"
     ]
    },
    {
     "name": "stderr",
     "output_type": "stream",
     "text": [
      "\r",
      " 33%|████████████████████████████                                                        | 1/3 [00:09<00:19,  9.59s/it]"
     ]
    },
    {
     "name": "stdout",
     "output_type": "stream",
     "text": [
      "299 batches used in epoch 0\n",
      "Total number of batches : 300\n",
      "49 batches used in epoch 1\n",
      "99 batches used in epoch 1\n",
      "149 batches used in epoch 1\n",
      "199 batches used in epoch 1\n",
      "249 batches used in epoch 1\n"
     ]
    },
    {
     "name": "stderr",
     "output_type": "stream",
     "text": [
      "\r",
      " 67%|████████████████████████████████████████████████████████                            | 2/3 [00:18<00:09,  9.47s/it]"
     ]
    },
    {
     "name": "stdout",
     "output_type": "stream",
     "text": [
      "299 batches used in epoch 1\n",
      "Total number of batches : 600\n",
      "49 batches used in epoch 2\n",
      "99 batches used in epoch 2\n",
      "149 batches used in epoch 2\n",
      "199 batches used in epoch 2\n",
      "249 batches used in epoch 2\n"
     ]
    },
    {
     "name": "stderr",
     "output_type": "stream",
     "text": [
      "100%|████████████████████████████████████████████████████████████████████████████████████| 3/3 [00:28<00:00,  9.64s/it]"
     ]
    },
    {
     "name": "stdout",
     "output_type": "stream",
     "text": [
      "299 batches used in epoch 2\n",
      "Total number of batches : 900\n"
     ]
    },
    {
     "name": "stderr",
     "output_type": "stream",
     "text": [
      "\n",
      "  0%|                                                                                            | 0/3 [00:00<?, ?it/s]"
     ]
    },
    {
     "name": "stdout",
     "output_type": "stream",
     "text": [
      "49 batches used in epoch 0\n",
      "99 batches used in epoch 0\n",
      "149 batches used in epoch 0\n",
      "199 batches used in epoch 0\n",
      "249 batches used in epoch 0\n"
     ]
    },
    {
     "name": "stderr",
     "output_type": "stream",
     "text": [
      "\r",
      " 33%|████████████████████████████                                                        | 1/3 [00:09<00:18,  9.29s/it]"
     ]
    },
    {
     "name": "stdout",
     "output_type": "stream",
     "text": [
      "299 batches used in epoch 0\n",
      "Total number of batches : 300\n",
      "49 batches used in epoch 1\n",
      "99 batches used in epoch 1\n",
      "149 batches used in epoch 1\n",
      "199 batches used in epoch 1\n",
      "249 batches used in epoch 1\n"
     ]
    },
    {
     "name": "stderr",
     "output_type": "stream",
     "text": [
      "\r",
      " 67%|████████████████████████████████████████████████████████                            | 2/3 [00:18<00:09,  9.31s/it]"
     ]
    },
    {
     "name": "stdout",
     "output_type": "stream",
     "text": [
      "299 batches used in epoch 1\n",
      "Total number of batches : 600\n",
      "49 batches used in epoch 2\n",
      "99 batches used in epoch 2\n",
      "149 batches used in epoch 2\n",
      "199 batches used in epoch 2\n",
      "249 batches used in epoch 2\n"
     ]
    },
    {
     "name": "stderr",
     "output_type": "stream",
     "text": [
      "100%|████████████████████████████████████████████████████████████████████████████████████| 3/3 [00:27<00:00,  9.29s/it]"
     ]
    },
    {
     "name": "stdout",
     "output_type": "stream",
     "text": [
      "299 batches used in epoch 2\n",
      "Total number of batches : 900\n"
     ]
    },
    {
     "name": "stderr",
     "output_type": "stream",
     "text": [
      "\n",
      "  0%|                                                                                            | 0/3 [00:00<?, ?it/s]"
     ]
    },
    {
     "name": "stdout",
     "output_type": "stream",
     "text": [
      "49 batches used in epoch 0\n",
      "99 batches used in epoch 0\n",
      "149 batches used in epoch 0\n",
      "199 batches used in epoch 0\n",
      "249 batches used in epoch 0\n"
     ]
    },
    {
     "name": "stderr",
     "output_type": "stream",
     "text": [
      "\r",
      " 33%|████████████████████████████                                                        | 1/3 [00:08<00:17,  8.87s/it]"
     ]
    },
    {
     "name": "stdout",
     "output_type": "stream",
     "text": [
      "299 batches used in epoch 0\n",
      "Total number of batches : 300\n",
      "49 batches used in epoch 1\n",
      "99 batches used in epoch 1\n",
      "149 batches used in epoch 1\n",
      "199 batches used in epoch 1\n",
      "249 batches used in epoch 1\n"
     ]
    },
    {
     "name": "stderr",
     "output_type": "stream",
     "text": [
      "\r",
      " 67%|████████████████████████████████████████████████████████                            | 2/3 [00:17<00:08,  8.86s/it]"
     ]
    },
    {
     "name": "stdout",
     "output_type": "stream",
     "text": [
      "299 batches used in epoch 1\n",
      "Total number of batches : 600\n",
      "49 batches used in epoch 2\n",
      "99 batches used in epoch 2\n",
      "149 batches used in epoch 2\n",
      "199 batches used in epoch 2\n",
      "249 batches used in epoch 2\n"
     ]
    },
    {
     "name": "stderr",
     "output_type": "stream",
     "text": [
      "100%|████████████████████████████████████████████████████████████████████████████████████| 3/3 [00:26<00:00,  8.84s/it]"
     ]
    },
    {
     "name": "stdout",
     "output_type": "stream",
     "text": [
      "299 batches used in epoch 2\n",
      "Total number of batches : 900\n"
     ]
    },
    {
     "name": "stderr",
     "output_type": "stream",
     "text": [
      "\n",
      "  0%|                                                                                            | 0/3 [00:00<?, ?it/s]"
     ]
    },
    {
     "name": "stdout",
     "output_type": "stream",
     "text": [
      "49 batches used in epoch 0\n",
      "99 batches used in epoch 0\n",
      "149 batches used in epoch 0\n",
      "199 batches used in epoch 0\n",
      "249 batches used in epoch 0\n"
     ]
    },
    {
     "name": "stderr",
     "output_type": "stream",
     "text": [
      "\r",
      " 33%|████████████████████████████                                                        | 1/3 [00:08<00:17,  8.78s/it]"
     ]
    },
    {
     "name": "stdout",
     "output_type": "stream",
     "text": [
      "299 batches used in epoch 0\n",
      "Total number of batches : 300\n",
      "49 batches used in epoch 1\n",
      "99 batches used in epoch 1\n",
      "149 batches used in epoch 1\n",
      "199 batches used in epoch 1\n",
      "249 batches used in epoch 1\n"
     ]
    },
    {
     "name": "stderr",
     "output_type": "stream",
     "text": [
      "\r",
      " 67%|████████████████████████████████████████████████████████                            | 2/3 [00:17<00:08,  8.94s/it]"
     ]
    },
    {
     "name": "stdout",
     "output_type": "stream",
     "text": [
      "299 batches used in epoch 1\n",
      "Total number of batches : 600\n",
      "49 batches used in epoch 2\n",
      "99 batches used in epoch 2\n",
      "149 batches used in epoch 2\n",
      "199 batches used in epoch 2\n",
      "249 batches used in epoch 2\n"
     ]
    },
    {
     "name": "stderr",
     "output_type": "stream",
     "text": [
      "100%|████████████████████████████████████████████████████████████████████████████████████| 3/3 [00:26<00:00,  8.90s/it]"
     ]
    },
    {
     "name": "stdout",
     "output_type": "stream",
     "text": [
      "299 batches used in epoch 2\n",
      "Total number of batches : 900\n"
     ]
    },
    {
     "name": "stderr",
     "output_type": "stream",
     "text": [
      "\n",
      "  0%|                                                                                            | 0/3 [00:00<?, ?it/s]"
     ]
    },
    {
     "name": "stdout",
     "output_type": "stream",
     "text": [
      "49 batches used in epoch 0\n",
      "99 batches used in epoch 0\n",
      "149 batches used in epoch 0\n",
      "199 batches used in epoch 0\n",
      "249 batches used in epoch 0\n"
     ]
    },
    {
     "name": "stderr",
     "output_type": "stream",
     "text": [
      "\r",
      " 33%|████████████████████████████                                                        | 1/3 [00:08<00:17,  8.95s/it]"
     ]
    },
    {
     "name": "stdout",
     "output_type": "stream",
     "text": [
      "299 batches used in epoch 0\n",
      "Total number of batches : 300\n",
      "49 batches used in epoch 1\n",
      "99 batches used in epoch 1\n",
      "149 batches used in epoch 1\n",
      "199 batches used in epoch 1\n",
      "249 batches used in epoch 1\n"
     ]
    },
    {
     "name": "stderr",
     "output_type": "stream",
     "text": [
      "\r",
      " 67%|████████████████████████████████████████████████████████                            | 2/3 [00:17<00:08,  8.75s/it]"
     ]
    },
    {
     "name": "stdout",
     "output_type": "stream",
     "text": [
      "299 batches used in epoch 1\n",
      "Total number of batches : 600\n",
      "49 batches used in epoch 2\n",
      "99 batches used in epoch 2\n",
      "149 batches used in epoch 2\n",
      "199 batches used in epoch 2\n",
      "249 batches used in epoch 2\n"
     ]
    },
    {
     "name": "stderr",
     "output_type": "stream",
     "text": [
      "100%|████████████████████████████████████████████████████████████████████████████████████| 3/3 [00:26<00:00,  8.90s/it]"
     ]
    },
    {
     "name": "stdout",
     "output_type": "stream",
     "text": [
      "299 batches used in epoch 2\n",
      "Total number of batches : 900\n"
     ]
    },
    {
     "name": "stderr",
     "output_type": "stream",
     "text": [
      "\n",
      "  0%|                                                                                            | 0/3 [00:00<?, ?it/s]"
     ]
    },
    {
     "name": "stdout",
     "output_type": "stream",
     "text": [
      "49 batches used in epoch 0\n",
      "99 batches used in epoch 0\n",
      "149 batches used in epoch 0\n",
      "199 batches used in epoch 0\n",
      "249 batches used in epoch 0\n"
     ]
    },
    {
     "name": "stderr",
     "output_type": "stream",
     "text": [
      "\r",
      " 33%|████████████████████████████                                                        | 1/3 [00:08<00:17,  8.89s/it]"
     ]
    },
    {
     "name": "stdout",
     "output_type": "stream",
     "text": [
      "299 batches used in epoch 0\n",
      "Total number of batches : 300\n",
      "49 batches used in epoch 1\n",
      "99 batches used in epoch 1\n",
      "149 batches used in epoch 1\n",
      "199 batches used in epoch 1\n",
      "249 batches used in epoch 1\n"
     ]
    },
    {
     "name": "stderr",
     "output_type": "stream",
     "text": [
      "\r",
      " 67%|████████████████████████████████████████████████████████                            | 2/3 [00:17<00:08,  8.90s/it]"
     ]
    },
    {
     "name": "stdout",
     "output_type": "stream",
     "text": [
      "299 batches used in epoch 1\n",
      "Total number of batches : 600\n",
      "49 batches used in epoch 2\n",
      "99 batches used in epoch 2\n",
      "149 batches used in epoch 2\n",
      "199 batches used in epoch 2\n",
      "249 batches used in epoch 2\n"
     ]
    },
    {
     "name": "stderr",
     "output_type": "stream",
     "text": [
      "100%|████████████████████████████████████████████████████████████████████████████████████| 3/3 [00:26<00:00,  8.83s/it]"
     ]
    },
    {
     "name": "stdout",
     "output_type": "stream",
     "text": [
      "299 batches used in epoch 2\n",
      "Total number of batches : 900\n"
     ]
    },
    {
     "name": "stderr",
     "output_type": "stream",
     "text": [
      "\n",
      "  0%|                                                                                            | 0/3 [00:00<?, ?it/s]"
     ]
    },
    {
     "name": "stdout",
     "output_type": "stream",
     "text": [
      "49 batches used in epoch 0\n",
      "99 batches used in epoch 0\n",
      "149 batches used in epoch 0\n",
      "199 batches used in epoch 0\n",
      "249 batches used in epoch 0\n"
     ]
    },
    {
     "name": "stderr",
     "output_type": "stream",
     "text": [
      "\r",
      " 33%|████████████████████████████                                                        | 1/3 [00:08<00:17,  8.73s/it]"
     ]
    },
    {
     "name": "stdout",
     "output_type": "stream",
     "text": [
      "299 batches used in epoch 0\n",
      "Total number of batches : 300\n",
      "49 batches used in epoch 1\n",
      "99 batches used in epoch 1\n",
      "149 batches used in epoch 1\n",
      "199 batches used in epoch 1\n",
      "249 batches used in epoch 1\n"
     ]
    },
    {
     "name": "stderr",
     "output_type": "stream",
     "text": [
      "\r",
      " 67%|████████████████████████████████████████████████████████                            | 2/3 [00:17<00:08,  8.80s/it]"
     ]
    },
    {
     "name": "stdout",
     "output_type": "stream",
     "text": [
      "299 batches used in epoch 1\n",
      "Total number of batches : 600\n",
      "49 batches used in epoch 2\n",
      "99 batches used in epoch 2\n",
      "149 batches used in epoch 2\n",
      "199 batches used in epoch 2\n",
      "249 batches used in epoch 2\n"
     ]
    },
    {
     "name": "stderr",
     "output_type": "stream",
     "text": [
      "100%|████████████████████████████████████████████████████████████████████████████████████| 3/3 [00:26<00:00,  8.82s/it]"
     ]
    },
    {
     "name": "stdout",
     "output_type": "stream",
     "text": [
      "299 batches used in epoch 2\n",
      "Total number of batches : 900\n"
     ]
    },
    {
     "name": "stderr",
     "output_type": "stream",
     "text": [
      "\n",
      "  0%|                                                                                            | 0/3 [00:00<?, ?it/s]"
     ]
    },
    {
     "name": "stdout",
     "output_type": "stream",
     "text": [
      "49 batches used in epoch 0\n",
      "99 batches used in epoch 0\n",
      "149 batches used in epoch 0\n",
      "199 batches used in epoch 0\n",
      "249 batches used in epoch 0\n"
     ]
    },
    {
     "name": "stderr",
     "output_type": "stream",
     "text": [
      "\r",
      " 33%|████████████████████████████                                                        | 1/3 [00:08<00:17,  8.78s/it]"
     ]
    },
    {
     "name": "stdout",
     "output_type": "stream",
     "text": [
      "299 batches used in epoch 0\n",
      "Total number of batches : 300\n",
      "49 batches used in epoch 1\n",
      "99 batches used in epoch 1\n",
      "149 batches used in epoch 1\n",
      "199 batches used in epoch 1\n",
      "249 batches used in epoch 1\n"
     ]
    },
    {
     "name": "stderr",
     "output_type": "stream",
     "text": [
      "\r",
      " 67%|████████████████████████████████████████████████████████                            | 2/3 [00:17<00:08,  8.92s/it]"
     ]
    },
    {
     "name": "stdout",
     "output_type": "stream",
     "text": [
      "299 batches used in epoch 1\n",
      "Total number of batches : 600\n",
      "49 batches used in epoch 2\n",
      "99 batches used in epoch 2\n",
      "149 batches used in epoch 2\n",
      "199 batches used in epoch 2\n",
      "249 batches used in epoch 2\n"
     ]
    },
    {
     "name": "stderr",
     "output_type": "stream",
     "text": [
      "100%|████████████████████████████████████████████████████████████████████████████████████| 3/3 [00:26<00:00,  8.84s/it]"
     ]
    },
    {
     "name": "stdout",
     "output_type": "stream",
     "text": [
      "299 batches used in epoch 2\n",
      "Total number of batches : 900\n"
     ]
    },
    {
     "name": "stderr",
     "output_type": "stream",
     "text": [
      "\n",
      "  0%|                                                                                            | 0/3 [00:00<?, ?it/s]"
     ]
    },
    {
     "name": "stdout",
     "output_type": "stream",
     "text": [
      "49 batches used in epoch 0\n",
      "99 batches used in epoch 0\n",
      "149 batches used in epoch 0\n",
      "199 batches used in epoch 0\n",
      "249 batches used in epoch 0\n"
     ]
    },
    {
     "name": "stderr",
     "output_type": "stream",
     "text": [
      "\r",
      " 33%|████████████████████████████                                                        | 1/3 [00:08<00:17,  8.74s/it]"
     ]
    },
    {
     "name": "stdout",
     "output_type": "stream",
     "text": [
      "299 batches used in epoch 0\n",
      "Total number of batches : 300\n",
      "49 batches used in epoch 1\n",
      "99 batches used in epoch 1\n",
      "149 batches used in epoch 1\n",
      "199 batches used in epoch 1\n",
      "249 batches used in epoch 1\n"
     ]
    },
    {
     "name": "stderr",
     "output_type": "stream",
     "text": [
      "\r",
      " 67%|████████████████████████████████████████████████████████                            | 2/3 [00:17<00:08,  8.89s/it]"
     ]
    },
    {
     "name": "stdout",
     "output_type": "stream",
     "text": [
      "299 batches used in epoch 1\n",
      "Total number of batches : 600\n",
      "49 batches used in epoch 2\n",
      "99 batches used in epoch 2\n",
      "149 batches used in epoch 2\n",
      "199 batches used in epoch 2\n",
      "249 batches used in epoch 2\n"
     ]
    },
    {
     "name": "stderr",
     "output_type": "stream",
     "text": [
      "100%|████████████████████████████████████████████████████████████████████████████████████| 3/3 [00:26<00:00,  8.88s/it]"
     ]
    },
    {
     "name": "stdout",
     "output_type": "stream",
     "text": [
      "299 batches used in epoch 2\n",
      "Total number of batches : 900\n"
     ]
    },
    {
     "name": "stderr",
     "output_type": "stream",
     "text": [
      "\n",
      "  0%|                                                                                            | 0/3 [00:00<?, ?it/s]"
     ]
    },
    {
     "name": "stdout",
     "output_type": "stream",
     "text": [
      "49 batches used in epoch 0\n",
      "99 batches used in epoch 0\n",
      "149 batches used in epoch 0\n",
      "199 batches used in epoch 0\n",
      "249 batches used in epoch 0\n"
     ]
    },
    {
     "name": "stderr",
     "output_type": "stream",
     "text": [
      "\r",
      " 33%|████████████████████████████                                                        | 1/3 [00:08<00:17,  8.89s/it]"
     ]
    },
    {
     "name": "stdout",
     "output_type": "stream",
     "text": [
      "299 batches used in epoch 0\n",
      "Total number of batches : 300\n",
      "49 batches used in epoch 1\n",
      "99 batches used in epoch 1\n",
      "149 batches used in epoch 1\n",
      "199 batches used in epoch 1\n",
      "249 batches used in epoch 1\n"
     ]
    },
    {
     "name": "stderr",
     "output_type": "stream",
     "text": [
      "\r",
      " 67%|████████████████████████████████████████████████████████                            | 2/3 [00:17<00:08,  8.85s/it]"
     ]
    },
    {
     "name": "stdout",
     "output_type": "stream",
     "text": [
      "299 batches used in epoch 1\n",
      "Total number of batches : 600\n",
      "49 batches used in epoch 2\n",
      "99 batches used in epoch 2\n",
      "149 batches used in epoch 2\n",
      "199 batches used in epoch 2\n",
      "249 batches used in epoch 2\n"
     ]
    },
    {
     "name": "stderr",
     "output_type": "stream",
     "text": [
      "100%|████████████████████████████████████████████████████████████████████████████████████| 3/3 [00:26<00:00,  8.87s/it]"
     ]
    },
    {
     "name": "stdout",
     "output_type": "stream",
     "text": [
      "299 batches used in epoch 2\n",
      "Total number of batches : 900\n"
     ]
    },
    {
     "name": "stderr",
     "output_type": "stream",
     "text": [
      "\n"
     ]
    }
   ],
   "source": [
    "test_accs_repeted = []\n",
    "for i in range(num_repetitions) :\n",
    "    test_accs = []\n",
    "    for growth_schedule in growth_schedules :\n",
    "        _, test_acc = perform_one_growth(num_inputs, num_hidden, num_outputs, \n",
    "                           growth_schedule,\n",
    "                           loss, loss_name,\n",
    "                           train_loader, val_loader, test_loader,\n",
    "                           num_epochs, batch_size,\n",
    "                           device, c)\n",
    "        test_accs.append(test_acc)\n",
    "    test_accs_repeted.append(test_accs)"
   ]
  },
  {
   "cell_type": "code",
   "execution_count": 25,
   "id": "6f3d5f51",
   "metadata": {},
   "outputs": [],
   "source": [
    "test_accs_repeted = np.array(test_accs_repeted)"
   ]
  },
  {
   "cell_type": "code",
   "execution_count": 26,
   "id": "168e4fa7",
   "metadata": {},
   "outputs": [
    {
     "data": {
      "text/plain": [
       "array([[88.96294872, 90.295     , 90.11461538, 90.48487179, 90.06397436,\n",
       "        89.96384615, 90.06384615, 90.35358974],\n",
       "       [89.0024359 , 88.37205128, 90.14384615, 90.57461538, 90.01423077,\n",
       "        90.36410256, 90.00320513, 89.2125641 ],\n",
       "       [87.93076923, 89.63320513, 90.74487179, 91.01576923, 89.80384615,\n",
       "        90.01423077, 89.84371795, 89.32320513],\n",
       "       [89.57358974, 88.79217949, 90.81628205, 90.38461538, 89.77307692,\n",
       "        90.12448718, 88.92217949, 89.25307692],\n",
       "       [89.29320513, 89.65346154, 90.65551282, 91.31615385, 89.79320513,\n",
       "        89.76397436, 89.86435897, 90.45435897]])"
      ]
     },
     "execution_count": 26,
     "metadata": {},
     "output_type": "execute_result"
    }
   ],
   "source": [
    "test_accs_repeted"
   ]
  },
  {
   "cell_type": "code",
   "execution_count": 31,
   "id": "e88ed4b3",
   "metadata": {},
   "outputs": [],
   "source": [
    "test_accs_repeted = np.array([[88.96294872, 90.295     , 90.11461538, 90.48487179, 90.06397436,\n",
    "        89.96384615, 90.06384615, 90.35358974],\n",
    "       [89.0024359 , 88.37205128, 90.14384615, 90.57461538, 90.01423077,\n",
    "        90.36410256, 90.00320513, 89.2125641 ],\n",
    "       [87.93076923, 89.63320513, 90.74487179, 91.01576923, 89.80384615,\n",
    "        90.01423077, 89.84371795, 89.32320513],\n",
    "       [89.57358974, 88.79217949, 90.81628205, 90.38461538, 89.77307692,\n",
    "        90.12448718, 88.92217949, 89.25307692],\n",
    "       [89.29320513, 89.65346154, 90.65551282, 91.31615385, 89.79320513,\n",
    "        89.76397436, 89.86435897, 90.45435897]])"
   ]
  },
  {
   "cell_type": "code",
   "execution_count": 32,
   "id": "7866e1a8",
   "metadata": {},
   "outputs": [],
   "source": [
    "test_accs = np.mean(test_accs_repeted, 0)"
   ]
  },
  {
   "cell_type": "markdown",
   "id": "3539cefa",
   "metadata": {},
   "source": [
    "## Visualize results"
   ]
  },
  {
   "cell_type": "code",
   "execution_count": 34,
   "id": "5e458590",
   "metadata": {},
   "outputs": [],
   "source": [
    "def get_path (num_hidden, num_hidden_target, growth_schedule) :\n",
    "    x, y = num_hidden, num_hidden\n",
    "    x_path, y_path = [x], [y]\n",
    "    for layer_name, num_neurons in growth_schedule :\n",
    "        if layer_name == \"fc1\" :\n",
    "            x += num_neurons\n",
    "        elif layer_name == \"fc2\" :\n",
    "            y += num_neurons\n",
    "        x_path.append(x)\n",
    "        y_path.append(y)\n",
    "        \n",
    "    return x_path, y_path"
   ]
  },
  {
   "cell_type": "code",
   "execution_count": 35,
   "id": "0e497972",
   "metadata": {},
   "outputs": [],
   "source": [
    "def get_color (c_scale, min_acc, max_acc, test_acc) :\n",
    "    r = (test_acc-min_acc) / (max_acc-min_acc)\n",
    "    color_index = int(r * (len(c_scale)-1))\n",
    "    return c_scale[color_index]"
   ]
  },
  {
   "cell_type": "code",
   "execution_count": 174,
   "id": "5b5f5623",
   "metadata": {},
   "outputs": [],
   "source": [
    "def visualize_pathes (num_hidden, num_hidden_target, growth_schedules, \n",
    "                      test_accs, test_acc_root, test_acc_target, savefig=False) :\n",
    "    \n",
    "    test_accs = test_accs.tolist()\n",
    "    \n",
    "    fig, ax = plt.subplots(figsize=(5,5))\n",
    "    plt.scatter(num_hidden,num_hidden, color=\"black\")\n",
    "    plt.text(num_hidden, num_hidden-5, \"root\", fontsize=10, \n",
    "             color=\"black\")\n",
    "    plt.scatter(num_hidden_target,num_hidden_target, color=\"black\")\n",
    "    plt.text(num_hidden_target, num_hidden_target+2, \"target\", fontsize=10, \n",
    "             color=\"black\")\n",
    "\n",
    "    \n",
    "    min_acc, max_acc = min(test_accs), max(test_accs)\n",
    "    c_scale = cm.viridis(np.linspace(0, 1, 60))\n",
    "    \n",
    "    for i, (growth_schedule, test_acc) in enumerate(zip(growth_schedules, test_accs)) :\n",
    "        x_path, y_path = get_path(num_hidden, num_hidden_target, growth_schedule)\n",
    "        color = get_color(c_scale, min_acc, max_acc, test_acc)\n",
    "        ax.plot(x_path, y_path, c=color, label=str(test_acc))\n",
    "    \n",
    "    ax.set_xlim(0,num_hidden_target+15)\n",
    "    ax.set_ylim(0,num_hidden_target+15)\n",
    "    ax.set_xlabel(\"$n_{1}$\")\n",
    "    ax.set_ylabel(\"$n_{2}$\")\n",
    "    \n",
    "    #plt.legend()\n",
    "    \n",
    "    # Create colorbar axis\n",
    "    divider = make_axes_locatable(ax)\n",
    "    cax = divider.append_axes(\"right\", size=\"5%\", pad=0.1)\n",
    "\n",
    "    # Plot Viridis color scale\n",
    "    cbar = plt.colorbar(cm.ScalarMappable(cmap='viridis', \n",
    "                                          norm=plt.Normalize(vmin=min_acc,\n",
    "                                                             vmax=max_acc)),\n",
    "                        cax=cax)\n",
    "    cbar.set_label('Test accuracy')\n",
    "    \n",
    "    ax.set_title(\"Growth pathes and their average test accuracy across 5 trials\")\n",
    "    \n",
    "    if savefig :\n",
    "        plt.savefig(\"MNIST_pathes.png\")\n",
    "    \n",
    "    plt.show()"
   ]
  },
  {
   "cell_type": "code",
   "execution_count": 175,
   "id": "a2001bdf",
   "metadata": {},
   "outputs": [
    {
     "data": {
      "image/png": "[encoded data removed]",
      "text/plain": [
       "<Figure size 500x500 with 2 Axes>"
      ]
     },
     "metadata": {},
     "output_type": "display_data"
    }
   ],
   "source": [
    "visualize_pathes(num_hidden, num_hidden_target, growth_schedules, test_accs, test_acc_root, test_acc_target)"
   ]
  },
  {
   "cell_type": "code",
   "execution_count": 130,
   "id": "2b55bd41",
   "metadata": {},
   "outputs": [],
   "source": [
    "def visualize_statistical_reliability (test_accs_repeted, test_accs, test_acc_roots, test_acc_targets,\n",
    "                                       free_lim=True, savefig=False) :\n",
    "    # Create figure\n",
    "    fig, axs = plt.subplots(1, 3, figsize=(15, 5), gridspec_kw={'width_ratios': [4, 1, 1]})\n",
    "    fig.suptitle(\"Average test accuracy across 5 trials, with standard deviation\")\n",
    "    axs[0].set_ylabel(\"Test accuracy\")\n",
    "    \n",
    "    # Paths\n",
    "    test_accs_means = np.mean(test_accs_repeted, 0)\n",
    "    test_accs_stds = np.std(test_accs_repeted, 0)\n",
    "    \n",
    "    min_acc, max_acc = min(test_accs), max(test_accs)\n",
    "    c_scale = cm.viridis(np.linspace(0, 1, 60))\n",
    "    colors = [get_color(c_scale, min_acc, max_acc, test_acc) for test_acc in test_accs]\n",
    "    axs[0].errorbar(range(1,9), test_accs_means, yerr=test_accs_stds, fmt=\"none\", ecolor=colors)\n",
    "    axs[0].scatter(range(1,9), test_accs_means, marker='.', s=100, color=colors)\n",
    "    axs[0].set_xlabel(\"On each path\")\n",
    "    \n",
    "    # Root\n",
    "    axs[1].errorbar(1, np.mean(test_acc_roots), yerr=np.std(test_acc_roots), color=\"black\")\n",
    "    axs[1].scatter(1, np.mean(test_acc_roots), marker='.', s=100, color=\"black\")\n",
    "    axs[1].set_xlabel(\"On the root model\")\n",
    "    \n",
    "    # Target\n",
    "    axs[2].errorbar(1, np.mean(test_acc_targets), yerr=np.std(test_acc_targets), color=\"black\")\n",
    "    axs[2].scatter(1, np.mean(test_acc_targets), marker='.', s=100, color=\"black\")\n",
    "    axs[2].set_xlabel(\"On the target model\")\n",
    "    \n",
    "    # Set name tag\n",
    "    free_lim_tag = \"\"\n",
    "    if not free_lim :\n",
    "        # Edit name tag\n",
    "        free_lim_tag = \"_free_lim\"\n",
    "        \n",
    "        # Set reference for y lim\n",
    "        root_std = np.std(test_acc_roots)\n",
    "        \n",
    "        # Set y lims\n",
    "        axs[0].set_ylim(test_accs_means.mean() - root_std-2,test_accs_means.mean() + root_std-2)\n",
    "        axs[1].set_ylim(np.mean(test_acc_roots) - root_std-2,np.mean(test_acc_roots) + root_std+2)\n",
    "        axs[2].set_ylim(np.mean(test_acc_targets) - root_std-2,np.mean(test_acc_targets) + root_std+2)\n",
    "    \n",
    "    if savefig :\n",
    "        plt.savefig(\"MNIST_statistical_reliability\"+free_lim_tag+\".png\")\n",
    "\n",
    "    plt.show()"
   ]
  },
  {
   "cell_type": "code",
   "execution_count": 133,
   "id": "718e66c7",
   "metadata": {},
   "outputs": [
    {
     "data": {
      "image/png": "[encoded data removed]",
      "text/plain": [
       "<Figure size 1500x500 with 3 Axes>"
      ]
     },
     "metadata": {},
     "output_type": "display_data"
    }
   ],
   "source": [
    "visualize_statistical_reliability (test_accs_repeted, test_accs, test_acc_roots, test_acc_targets,\n",
    "                                   free_lim=True)"
   ]
  },
  {
   "cell_type": "code",
   "execution_count": 167,
   "id": "79bae92b",
   "metadata": {},
   "outputs": [],
   "source": [
    "def visualize_box_plot(test_accs, test_acc_root, test_acc_target, savefig=False):\n",
    "    \n",
    "    test_accs = test_accs.tolist()\n",
    "    \n",
    "    test_accs = test_accs+[test_acc_root, test_acc_target]\n",
    "    \n",
    "    min_acc, max_acc = min(test_accs), max(test_accs)\n",
    "    c_scale = cm.viridis(np.linspace(0, 1, 60))\n",
    "\n",
    "    # Plotting\n",
    "    fig, ax = plt.subplots(figsize=(3, 5))\n",
    "    \n",
    "    plt.boxplot([test_accs], patch_artist=True, widths=0.5, showfliers=False,\n",
    "                boxprops=dict(facecolor='none'),\n",
    "                medianprops=dict(color='black'))\n",
    "    \n",
    "    xs = np.random.normal(1, 0.04, size=len(test_accs[:-2]))  # Adding jitter for better visibility\n",
    "    for x, test_acc in zip(xs, test_accs[:-2]) :\n",
    "        plt.plot(x, test_acc, 'o', markersize=5, c=get_color(c_scale, min_acc, max_acc, test_acc))\n",
    "    \n",
    "    plt.plot(1, test_acc_root, 'o', markersize=10, c=get_color(c_scale, min_acc, max_acc, test_acc_root))\n",
    "    plt.text(1.1, test_acc_root, \"root\", fontsize=10, color=get_color(c_scale, min_acc, max_acc, test_acc_root))\n",
    "    plt.plot(1, test_acc_target, 'o', markersize=10, c=get_color(c_scale, min_acc, max_acc, test_acc_target))\n",
    "    plt.text(1.1, test_acc_target, \"target\", fontsize=10, color=get_color(c_scale, min_acc, max_acc, test_acc_target))\n",
    "    \n",
    "\n",
    "    plt.ylabel('Test accuracies')\n",
    "    plt.ylim(0,100)\n",
    "    plt.xticks([])\n",
    "    \n",
    "    plt.grid(True)\n",
    "    \n",
    "    plt.title(\"Average test accuracy across 5 trials of\\npathes, root model and target model\",\n",
    "              fontsize=10)\n",
    "    \n",
    "    # Create colorbar axis\n",
    "    divider = make_axes_locatable(ax)\n",
    "    cax = divider.append_axes(\"right\", size=\"5%\", pad=0.1)\n",
    "\n",
    "    # Plot Viridis color scale\n",
    "    cbar = plt.colorbar(cm.ScalarMappable(cmap='viridis', \n",
    "                                          norm=plt.Normalize(vmin=min_acc,\n",
    "                                                             vmax=max_acc)),\n",
    "                        cax=cax)\n",
    "    \n",
    "    if savefig :\n",
    "        plt.savefig(\"MNIST_box_plot.png\")\n",
    "    \n",
    "    plt.show()"
   ]
  },
  {
   "cell_type": "code",
   "execution_count": 169,
   "id": "7deafff1",
   "metadata": {
    "scrolled": false
   },
   "outputs": [
    {
     "data": {
      "image/png": "[encoded data removed]",
      "text/plain": [
       "<Figure size 300x500 with 2 Axes>"
      ]
     },
     "metadata": {},
     "output_type": "display_data"
    }
   ],
   "source": [
    "visualize_box_plot(test_accs, test_acc_root, test_acc_target)"
   ]
  },
  {
   "cell_type": "code",
   "execution_count": null,
   "id": "b0e23ee7",
   "metadata": {},
   "outputs": [],
   "source": []
  }
 ],
 "metadata": {
  "kernelspec": {
   "display_name": "Python 3 (ipykernel)",
   "language": "python",
   "name": "python3"
  },
  "language_info": {
   "codemirror_mode": {
    "name": "ipython",
    "version": 3
   },
   "file_extension": ".py",
   "mimetype": "text/x-python",
   "name": "python",
   "nbconvert_exporter": "python",
   "pygments_lexer": "ipython3",
   "version": "3.10.7"
  }
 },
 "nbformat": 4,
 "nbformat_minor": 5
}
