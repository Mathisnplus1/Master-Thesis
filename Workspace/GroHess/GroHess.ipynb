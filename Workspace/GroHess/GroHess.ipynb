{
 "cells": [
  {
   "cell_type": "code",
   "execution_count": 11,
   "metadata": {},
   "outputs": [],
   "source": [
    "from lib.abstract_torch import get_device\n",
    "from lib.dataloader import get_task_loaders\n",
    "from lib.models import ANN\n",
    "from lib.growth_schedules import get_CL_schedule\n",
    "from lib.train import train_ANN\n",
    "\n",
    "import os\n",
    "import numpy"
   ]
  },
  {
   "cell_type": "code",
   "execution_count": 8,
   "metadata": {},
   "outputs": [],
   "source": [
    "train_vanilla = True"
   ]
  },
  {
   "cell_type": "code",
   "execution_count": 2,
   "metadata": {},
   "outputs": [],
   "source": [
    "device = get_device()"
   ]
  },
  {
   "cell_type": "code",
   "execution_count": 6,
   "metadata": {},
   "outputs": [],
   "source": [
    "path = os.path.dirname(os.path.abspath(\"__file__\"))\n",
    "data_path = path + \"/data\""
   ]
  },
  {
   "cell_type": "code",
   "execution_count": 7,
   "metadata": {},
   "outputs": [],
   "source": [
    "# Data parameter\n",
    "batch_size=128\n",
    "\n",
    "# Network Architecture\n",
    "num_inputs = 28*28\n",
    "num_hidden_root = 10\n",
    "num_hidden_target = 100\n",
    "num_outputs = 10\n",
    "\n",
    "# Train parameters\n",
    "loss_name = \"CE\"\n",
    "optimizer_name = \"Adam\"\n",
    "\n",
    "# Hyperparameters\n",
    "num_epochs = 3\n",
    "lr = 5e-3"
   ]
  },
  {
   "cell_type": "markdown",
   "metadata": {},
   "source": [
    "## Reproducibility"
   ]
  },
  {
   "cell_type": "code",
   "execution_count": null,
   "metadata": {},
   "outputs": [],
   "source": [
    "random_seed = 88\n",
    "permutation_random_seeds = list(range(10))"
   ]
  },
  {
   "cell_type": "markdown",
   "metadata": {},
   "source": [
    "## Get p-MNIST loaders"
   ]
  },
  {
   "cell_type": "code",
   "execution_count": null,
   "metadata": {},
   "outputs": [],
   "source": [
    "train_loaders_list, val_loaders_list, test_loaders_list = [], [], []\n",
    "for random_seed in permutation_random_seeds :\n",
    "    train_loader, val_loader, test_loader = get_task_loaders(data_path, batch_size, random_seed, train_percentage=0.8, download=False)\n",
    "    train_loaders_list += [train_loader]\n",
    "    val_loaders_list += [val_loader]\n",
    "    test_loaders_list += [test_loader]"
   ]
  },
  {
   "cell_type": "markdown",
   "metadata": {},
   "source": [
    "## Grow from root model"
   ]
  },
  {
   "cell_type": "code",
   "execution_count": null,
   "metadata": {},
   "outputs": [],
   "source": [
    "# Growth parameters\n",
    "num_neurons = 9\n",
    "lr_root = 2e-3"
   ]
  },
  {
   "cell_type": "code",
   "execution_count": null,
   "metadata": {},
   "outputs": [],
   "source": [
    "growth_schedule = get_CL_schedule(num_neurons)"
   ]
  },
  {
   "cell_type": "code",
   "execution_count": null,
   "metadata": {},
   "outputs": [],
   "source": [
    "# Define root model\n",
    "root_model = ANN(num_inputs, num_hidden_root, num_outputs).to(device)\n",
    "\n",
    "# Train root model on task 0\n",
    "train_ANN(root_model, loss_name, optimizer_name, lr, train_loaders_list[0], num_epochs, batch_size, device, random_seed)\n",
    "\n",
    "# Initialize the matrix containing test accuracies on various task\n",
    "test_accs_matrix = np.zeros((6,10))\n",
    "for j in range(5) :\n",
    "    test_accs_matrix[0,j] = round(test(root_model, test_loaders[j], batch_size, device),2)\n",
    "for i, train_loader, val_loader in zip(range(5,6), train_loaders[5:], val_loaders[5:]):\n",
    "    print(\"iteration :\", i)\n",
    "    lr_growth = 5*1e-4\n",
    "    _ = train(root_model,\n",
    "                num_outputs,\n",
    "                growth_schedule[i-5],\n",
    "                loss_name, \n",
    "                optimizer_name, lr_growth, \n",
    "                train_loaders[i], val_loaders[i], \n",
    "                2, batch_size, \n",
    "                device,\n",
    "                init_name=init_name,\n",
    "                verbose=0)\n",
    "    for j in range(i+1) :\n",
    "        test_accs_matrix[i-4,j] = round(test(root_model, test_loaders[j], batch_size, device),2)\n",
    "\n"
   ]
  }
 ],
 "metadata": {
  "kernelspec": {
   "display_name": "Python 3",
   "language": "python",
   "name": "python3"
  },
  "language_info": {
   "codemirror_mode": {
    "name": "ipython",
    "version": 3
   },
   "file_extension": ".py",
   "mimetype": "text/x-python",
   "name": "python",
   "nbconvert_exporter": "python",
   "pygments_lexer": "ipython3",
   "version": "3.10.7"
  }
 },
 "nbformat": 4,
 "nbformat_minor": 2
}
