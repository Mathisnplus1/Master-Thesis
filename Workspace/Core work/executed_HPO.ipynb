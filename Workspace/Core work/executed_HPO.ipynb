{
 "cells": [
  {
   "cell_type": "code",
   "execution_count": 1,
   "id": "ac3551ee",
   "metadata": {
    "execution": {
     "iopub.execute_input": "2024-07-04T10:54:15.840209Z",
     "iopub.status.busy": "2024-07-04T10:54:15.840094Z",
     "iopub.status.idle": "2024-07-04T10:54:15.842870Z",
     "shell.execute_reply": "2024-07-04T10:54:15.842559Z"
    },
    "papermill": {
     "duration": 0.005814,
     "end_time": "2024-07-04T10:54:15.843719",
     "exception": false,
     "start_time": "2024-07-04T10:54:15.837905",
     "status": "completed"
    },
    "tags": [
     "injected-parameters"
    ]
   },
   "outputs": [],
   "source": [
    "# Parameters\n",
    "HPO_name = \"greedy_HPO\"\n",
    "method_name = \"EWC\"\n",
    "benchmark_name = \"pMNIST\"\n"
   ]
  },
  {
   "cell_type": "markdown",
   "id": "1ef077d7",
   "metadata": {
    "papermill": {
     "duration": 0.001016,
     "end_time": "2024-07-04T10:54:15.849186",
     "exception": false,
     "start_time": "2024-07-04T10:54:15.848170",
     "status": "completed"
    },
    "tags": []
   },
   "source": [
    "HPO_name = \"greedy_HPO\"\n",
    "method_name = \"GroHess/Two layers\"\n",
    "benchmark_name = \"pMNIST\""
   ]
  },
  {
   "cell_type": "code",
   "execution_count": 2,
   "id": "783ae8a0",
   "metadata": {
    "execution": {
     "iopub.execute_input": "2024-07-04T10:54:15.851086Z",
     "iopub.status.busy": "2024-07-04T10:54:15.850912Z",
     "iopub.status.idle": "2024-07-04T10:54:15.866202Z",
     "shell.execute_reply": "2024-07-04T10:54:15.865712Z"
    },
    "papermill": {
     "duration": 0.017656,
     "end_time": "2024-07-04T10:54:15.867341",
     "exception": false,
     "start_time": "2024-07-04T10:54:15.849685",
     "status": "completed"
    },
    "tags": []
   },
   "outputs": [],
   "source": [
    "import sys\n",
    "import os\n",
    "\n",
    "sys.path.append(\"Methods/\" + method_name)\n",
    "path = os.path.dirname(os.path.abspath(\"__file__\"))\n",
    "data_path = path + \"/Methods/\" + method_name + \"/data\""
   ]
  },
  {
   "cell_type": "code",
   "execution_count": 3,
   "id": "029b1bc5",
   "metadata": {
    "execution": {
     "iopub.execute_input": "2024-07-04T10:54:15.869395Z",
     "iopub.status.busy": "2024-07-04T10:54:15.869160Z",
     "iopub.status.idle": "2024-07-04T10:54:15.883506Z",
     "shell.execute_reply": "2024-07-04T10:54:15.882917Z"
    },
    "papermill": {
     "duration": 0.0165,
     "end_time": "2024-07-04T10:54:15.884439",
     "exception": false,
     "start_time": "2024-07-04T10:54:15.867939",
     "status": "completed"
    },
    "tags": []
   },
   "outputs": [
    {
     "name": "stdout",
     "output_type": "stream",
     "text": [
      "/home/mathis/Master-Thesis-1/Workspace/Core work/Methods/EWC/data\n"
     ]
    }
   ],
   "source": [
    "print(data_path)"
   ]
  }
 ],
 "metadata": {
  "language_info": {
   "codemirror_mode": {
    "name": "ipython",
    "version": 3
   },
   "file_extension": ".py",
   "mimetype": "text/x-python",
   "name": "python",
   "nbconvert_exporter": "python",
   "pygments_lexer": "ipython3",
   "version": "3.12.2"
  },
  "papermill": {
   "default_parameters": {},
   "duration": 0.806161,
   "end_time": "2024-07-04T10:54:16.100923",
   "environment_variables": {},
   "exception": null,
   "input_path": "run_a_HPO.ipynb",
   "output_path": "executed_HPO.ipynb",
   "parameters": {
    "HPO_name": "greedy_HPO",
    "benchmark_name": "pMNIST",
    "method_name": "EWC"
   },
   "start_time": "2024-07-04T10:54:15.294762",
   "version": "2.6.0"
  }
 },
 "nbformat": 4,
 "nbformat_minor": 5
}