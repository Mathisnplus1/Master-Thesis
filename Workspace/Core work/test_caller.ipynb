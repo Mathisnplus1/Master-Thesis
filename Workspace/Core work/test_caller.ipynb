{
 "cells": [
  {
   "cell_type": "code",
   "execution_count": 1,
   "metadata": {},
   "outputs": [],
   "source": [
    "import pickle\n",
    "import time\n",
    "from jupyter_client.manager import KernelManager\n",
    "import os\n",
    "import signal"
   ]
  },
  {
   "cell_type": "code",
   "execution_count": 2,
   "metadata": {},
   "outputs": [],
   "source": [
    "# Function to save variables\n",
    "def save_variables(file_path, variables):\n",
    "    with open(file_path, 'wb') as f:\n",
    "        pickle.dump(variables, f)\n",
    "\n",
    "# Function to load variables\n",
    "def load_variables(file_path):\n",
    "    with open(file_path, 'rb') as f:\n",
    "        return pickle.load(f)"
   ]
  },
  {
   "cell_type": "code",
   "execution_count": 3,
   "metadata": {},
   "outputs": [],
   "source": [
    "# Example variables to save\n",
    "variables = {\n",
    "    'var1': [1, 2, 3, 4, 5],\n",
    "    'var2': {'a': 1, 'b': 2, 'c': 3}\n",
    "}\n",
    "\n",
    "# Save variables to a file\n",
    "variables_file = 'variables.pkl'\n",
    "save_variables(variables_file, variables)"
   ]
  },
  {
   "cell_type": "code",
   "execution_count": 4,
   "metadata": {},
   "outputs": [
    {
     "name": "stderr",
     "output_type": "stream",
     "text": [
      "/tmp/ipykernel_1790903/2232316521.py:2: DeprecationWarning: Passing positional only arguments to `KernelManager.__init__` is deprecated since jupyter_client 8.6, and will become an error on future versions. Positional  arguments have been ignored since jupyter_client 7.0\n",
      "  km = KernelManager(\"Notre test\")\n"
     ]
    },
    {
     "name": "stdout",
     "output_type": "stream",
     "text": [
      "Started kernel with ID: 5e70ce22-b14c-4021-83a9-de9f48b823dc\n"
     ]
    },
    {
     "name": "stderr",
     "output_type": "stream",
     "text": [
      "0.00s - Debugger warning: It seems that frozen modules are being used, which may\n",
      "0.00s - make the debugger miss breakpoints. Please pass -Xfrozen_modules=off\n",
      "0.00s - to python to disable frozen modules.\n",
      "0.00s - Note: Debugging will proceed. Set PYDEVD_DISABLE_FILE_VALIDATION=1 to disable this validation.\n"
     ]
    }
   ],
   "source": [
    "# Create a KernelManager instance\n",
    "km = KernelManager(\"Notre test\")\n",
    "\n",
    "# Start a new kernel\n",
    "km.start_kernel()\n",
    "print(f\"Started kernel with ID: {km.kernel_id}\")\n",
    "\n",
    "# Wait for a moment to ensure the kernel is fully started\n",
    "time.sleep(2)"
   ]
  },
  {
   "cell_type": "code",
   "execution_count": 5,
   "metadata": {},
   "outputs": [
    {
     "name": "stdout",
     "output_type": "stream",
     "text": [
      "Killed kernel with ID: 5e70ce22-b14c-4021-83a9-de9f48b823dc\n"
     ]
    }
   ],
   "source": [
    "# Kill the current kernel process\n",
    "km._kill_kernel()\n",
    "print(f\"Killed kernel with ID: {km.kernel_id}\")\n",
    "\n",
    "# Wait for a moment to ensure the kernel is fully terminated\n",
    "time.sleep(2)"
   ]
  },
  {
   "cell_type": "code",
   "execution_count": 6,
   "metadata": {},
   "outputs": [
    {
     "name": "stdout",
     "output_type": "stream",
     "text": [
      "Restarted kernel with ID: 5e70ce22-b14c-4021-83a9-de9f48b823dc\n"
     ]
    },
    {
     "name": "stderr",
     "output_type": "stream",
     "text": [
      "0.00s - Debugger warning: It seems that frozen modules are being used, which may\n",
      "0.00s - make the debugger miss breakpoints. Please pass -Xfrozen_modules=off\n",
      "0.00s - to python to disable frozen modules.\n",
      "0.00s - Note: Debugging will proceed. Set PYDEVD_DISABLE_FILE_VALIDATION=1 to disable this validation.\n"
     ]
    },
    {
     "name": "stdout",
     "output_type": "stream",
     "text": [
      "Loaded variables:\n",
      "{'var1': [1, 2, 3, 4, 5], 'var2': {'a': 1, 'b': 2, 'c': 3}}\n"
     ]
    }
   ],
   "source": [
    "# Restart the kernel\n",
    "km.restart_kernel()\n",
    "print(f\"Restarted kernel with ID: {km.kernel_id}\")\n",
    "\n",
    "# Wait for a moment to ensure the kernel is fully restarted\n",
    "time.sleep(2)\n",
    "\n",
    "# Load the variables into the new kernel environment\n",
    "loaded_variables = load_variables(variables_file)\n",
    "\n",
    "# Print loaded variables to verify\n",
    "print(\"Loaded variables:\")\n",
    "print(loaded_variables)\n"
   ]
  },
  {
   "cell_type": "code",
   "execution_count": 7,
   "metadata": {},
   "outputs": [
    {
     "data": {
      "text/plain": [
       "'5e70ce22-b14c-4021-83a9-de9f48b823dc'"
      ]
     },
     "execution_count": 7,
     "metadata": {},
     "output_type": "execute_result"
    }
   ],
   "source": [
    "km.kernel_id"
   ]
  },
  {
   "cell_type": "code",
   "execution_count": null,
   "metadata": {},
   "outputs": [],
   "source": []
  }
 ],
 "metadata": {
  "kernelspec": {
   "display_name": ".jax_env",
   "language": "python",
   "name": "python3"
  },
  "language_info": {
   "codemirror_mode": {
    "name": "ipython",
    "version": 3
   },
   "file_extension": ".py",
   "mimetype": "text/x-python",
   "name": "python",
   "nbconvert_exporter": "python",
   "pygments_lexer": "ipython3",
   "version": "3.12.2"
  }
 },
 "nbformat": 4,
 "nbformat_minor": 2
}
