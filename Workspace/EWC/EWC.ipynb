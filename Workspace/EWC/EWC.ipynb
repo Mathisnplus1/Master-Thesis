{
 "cells": [
  {
   "cell_type": "code",
   "execution_count": 1,
   "metadata": {},
   "outputs": [
    {
     "name": "stderr",
     "output_type": "stream",
     "text": [
      "/home/mathis/miniconda3/envs/.jax_env/lib/python3.12/site-packages/tqdm/auto.py:21: TqdmWarning: IProgress not found. Please update jupyter and ipywidgets. See https://ipywidgets.readthedocs.io/en/stable/user_install.html\n",
      "  from .autonotebook import tqdm as notebook_tqdm\n"
     ]
    }
   ],
   "source": [
    "import torch\n",
    "import torch.optim as optim\n",
    "from avalanche.benchmarks import PermutedMNIST\n",
    "from avalanche.models import SimpleMLP\n",
    "from avalanche.training.supervised import EWC\n",
    "from avalanche.evaluation.metrics import accuracy_metrics, loss_metrics, forgetting_metrics\n",
    "from avalanche.logging import InteractiveLogger\n",
    "from avalanche.training.plugins import EvaluationPlugin\n",
    "import matplotlib.pyplot as plt\n"
   ]
  },
  {
   "cell_type": "code",
   "execution_count": 2,
   "metadata": {},
   "outputs": [
    {
     "name": "stdout",
     "output_type": "stream",
     "text": [
      "Using device: cuda:2\n"
     ]
    }
   ],
   "source": [
    "# 0. Check if GPU is available\n",
    "device = torch.device(\"cuda:2\" if torch.cuda.is_available() else \"cpu\")\n",
    "print(f'Using device: {device}')"
   ]
  },
  {
   "cell_type": "code",
   "execution_count": 3,
   "metadata": {},
   "outputs": [],
   "source": [
    "# 1. Create the benchmark\n",
    "benchmark = PermutedMNIST(n_experiences=3, seed=1)"
   ]
  },
  {
   "cell_type": "code",
   "execution_count": 4,
   "metadata": {},
   "outputs": [],
   "source": [
    "# 2. Create the model\n",
    "model = SimpleMLP(num_classes=benchmark.n_classes).to(device)"
   ]
  },
  {
   "cell_type": "code",
   "execution_count": 5,
   "metadata": {},
   "outputs": [],
   "source": [
    "# 3. Create the optimizer\n",
    "optimizer = optim.SGD(model.parameters(), lr=0.01, momentum=0.9)"
   ]
  },
  {
   "cell_type": "code",
   "execution_count": 6,
   "metadata": {},
   "outputs": [
    {
     "name": "stderr",
     "output_type": "stream",
     "text": [
      "/home/mathis/miniconda3/envs/.jax_env/lib/python3.12/site-packages/avalanche/training/templates/base.py:468: PositionalArgumentsDeprecatedWarning: Avalanche is transitioning to strategy constructors that accept named (keyword) arguments only. This is done to ensure that there is no confusion regarding the meaning of each argument (strategies can have many arguments). Your are passing 2 positional arguments to the EWC.__init__ method. Consider passing them as names arguments. The ability to pass positional arguments will be removed in the future.\n",
      "  warnings.warn(error_str, category=PositionalArgumentsDeprecatedWarning)\n"
     ]
    }
   ],
   "source": [
    "# 4. Create the EWC strategy\n",
    "interactive_logger = InteractiveLogger()\n",
    "eval_plugin = EvaluationPlugin(\n",
    "    accuracy_metrics(minibatch=True, epoch=True, experience=True, stream=True),\n",
    "    loss_metrics(minibatch=True, epoch=True, experience=True, stream=True),\n",
    "    forgetting_metrics(experience=True, stream=True),\n",
    "    loggers=[interactive_logger]\n",
    ")\n",
    "\n",
    "ewc = EWC(\n",
    "    model, optimizer, criterion=torch.nn.CrossEntropyLoss(), ewc_lambda=0.4,\n",
    "    train_mb_size=32, train_epochs=2, eval_mb_size=100, evaluator=eval_plugin,\n",
    "    device=device\n",
    ")"
   ]
  },
  {
   "cell_type": "code",
   "execution_count": 7,
   "metadata": {},
   "outputs": [
    {
     "name": "stdout",
     "output_type": "stream",
     "text": [
      "-- >> Start of training phase << --\n",
      "100%|██████████| 1875/1875 [00:12<00:00, 150.49it/s]\n",
      "Epoch 0 ended.\n",
      "\tLoss_Epoch/train_phase/train_stream/Task000 = 0.2841\n",
      "\tLoss_MB/train_phase/train_stream/Task000 = 0.1327\n",
      "\tTop1_Acc_Epoch/train_phase/train_stream/Task000 = 0.9140\n",
      "\tTop1_Acc_MB/train_phase/train_stream/Task000 = 0.9375\n",
      "100%|██████████| 1875/1875 [00:12<00:00, 151.49it/s]\n",
      "Epoch 1 ended.\n",
      "\tLoss_Epoch/train_phase/train_stream/Task000 = 0.1511\n",
      "\tLoss_MB/train_phase/train_stream/Task000 = 0.0497\n",
      "\tTop1_Acc_Epoch/train_phase/train_stream/Task000 = 0.9537\n",
      "\tTop1_Acc_MB/train_phase/train_stream/Task000 = 0.9688\n",
      "-- >> End of training phase << --\n",
      "-- >> Start of eval phase << --\n",
      "-- Starting eval on experience 0 (Task 0) from test stream --\n",
      "100%|██████████| 100/100 [00:01<00:00, 75.94it/s]\n",
      "> Eval on experience 0 (Task 0) from test stream ended.\n",
      "\tLoss_Exp/eval_phase/test_stream/Task000/Exp000 = 0.0986\n",
      "\tTop1_Acc_Exp/eval_phase/test_stream/Task000/Exp000 = 0.9687\n",
      "-- Starting eval on experience 1 (Task 0) from test stream --\n",
      "100%|██████████| 100/100 [00:01<00:00, 78.36it/s]\n",
      "> Eval on experience 1 (Task 0) from test stream ended.\n",
      "\tLoss_Exp/eval_phase/test_stream/Task000/Exp001 = 6.9401\n",
      "\tTop1_Acc_Exp/eval_phase/test_stream/Task000/Exp001 = 0.0437\n",
      "-- Starting eval on experience 2 (Task 0) from test stream --\n",
      "100%|██████████| 100/100 [00:01<00:00, 69.18it/s]\n",
      "> Eval on experience 2 (Task 0) from test stream ended.\n",
      "\tLoss_Exp/eval_phase/test_stream/Task000/Exp002 = 4.1966\n",
      "\tTop1_Acc_Exp/eval_phase/test_stream/Task000/Exp002 = 0.1382\n",
      "-- >> End of eval phase << --\n",
      "\tLoss_Stream/eval_phase/test_stream/Task000 = 3.7451\n",
      "\tStreamForgetting/eval_phase/test_stream = 0.0000\n",
      "\tTop1_Acc_Stream/eval_phase/test_stream/Task000 = 0.3835\n",
      "-- >> Start of training phase << --\n",
      "100%|██████████| 1875/1875 [00:14<00:00, 129.77it/s]\n",
      "Epoch 0 ended.\n",
      "\tLoss_Epoch/train_phase/train_stream/Task000 = 0.2845\n",
      "\tLoss_MB/train_phase/train_stream/Task000 = 0.1034\n",
      "\tTop1_Acc_Epoch/train_phase/train_stream/Task000 = 0.9162\n",
      "\tTop1_Acc_MB/train_phase/train_stream/Task000 = 0.9375\n",
      "100%|██████████| 1875/1875 [00:14<00:00, 131.91it/s]\n",
      "Epoch 1 ended.\n",
      "\tLoss_Epoch/train_phase/train_stream/Task000 = 0.1562\n",
      "\tLoss_MB/train_phase/train_stream/Task000 = 0.0624\n",
      "\tTop1_Acc_Epoch/train_phase/train_stream/Task000 = 0.9538\n",
      "\tTop1_Acc_MB/train_phase/train_stream/Task000 = 0.9688\n",
      "-- >> End of training phase << --\n",
      "-- >> Start of eval phase << --\n",
      "-- Starting eval on experience 0 (Task 0) from test stream --\n",
      "100%|██████████| 100/100 [00:01<00:00, 76.96it/s]\n",
      "> Eval on experience 0 (Task 0) from test stream ended.\n",
      "\tExperienceForgetting/eval_phase/test_stream/Task000/Exp000 = 0.0197\n",
      "\tLoss_Exp/eval_phase/test_stream/Task000/Exp000 = 0.1632\n",
      "\tTop1_Acc_Exp/eval_phase/test_stream/Task000/Exp000 = 0.9490\n",
      "-- Starting eval on experience 1 (Task 0) from test stream --\n",
      "100%|██████████| 100/100 [00:01<00:00, 73.97it/s]\n",
      "> Eval on experience 1 (Task 0) from test stream ended.\n",
      "\tLoss_Exp/eval_phase/test_stream/Task000/Exp001 = 0.0917\n",
      "\tTop1_Acc_Exp/eval_phase/test_stream/Task000/Exp001 = 0.9722\n",
      "-- Starting eval on experience 2 (Task 0) from test stream --\n",
      "100%|██████████| 100/100 [00:01<00:00, 78.05it/s]\n",
      "> Eval on experience 2 (Task 0) from test stream ended.\n",
      "\tLoss_Exp/eval_phase/test_stream/Task000/Exp002 = 5.8178\n",
      "\tTop1_Acc_Exp/eval_phase/test_stream/Task000/Exp002 = 0.1196\n",
      "-- >> End of eval phase << --\n",
      "\tLoss_Stream/eval_phase/test_stream/Task000 = 2.0242\n",
      "\tStreamForgetting/eval_phase/test_stream = 0.0197\n",
      "\tTop1_Acc_Stream/eval_phase/test_stream/Task000 = 0.6803\n",
      "-- >> Start of training phase << --\n",
      "100%|██████████| 1875/1875 [00:16<00:00, 116.60it/s]\n",
      "Epoch 0 ended.\n",
      "\tLoss_Epoch/train_phase/train_stream/Task000 = 0.2897\n",
      "\tLoss_MB/train_phase/train_stream/Task000 = 0.1078\n",
      "\tTop1_Acc_Epoch/train_phase/train_stream/Task000 = 0.9152\n",
      "\tTop1_Acc_MB/train_phase/train_stream/Task000 = 0.9688\n",
      "100%|██████████| 1875/1875 [00:15<00:00, 124.05it/s]\n",
      "Epoch 1 ended.\n",
      "\tLoss_Epoch/train_phase/train_stream/Task000 = 0.1612\n",
      "\tLoss_MB/train_phase/train_stream/Task000 = 0.0059\n",
      "\tTop1_Acc_Epoch/train_phase/train_stream/Task000 = 0.9522\n",
      "\tTop1_Acc_MB/train_phase/train_stream/Task000 = 1.0000\n",
      "-- >> End of training phase << --\n",
      "-- >> Start of eval phase << --\n",
      "-- Starting eval on experience 0 (Task 0) from test stream --\n",
      "100%|██████████| 100/100 [00:01<00:00, 77.05it/s]\n",
      "> Eval on experience 0 (Task 0) from test stream ended.\n",
      "\tExperienceForgetting/eval_phase/test_stream/Task000/Exp000 = 0.1109\n",
      "\tLoss_Exp/eval_phase/test_stream/Task000/Exp000 = 0.4537\n",
      "\tTop1_Acc_Exp/eval_phase/test_stream/Task000/Exp000 = 0.8578\n",
      "-- Starting eval on experience 1 (Task 0) from test stream --\n",
      "100%|██████████| 100/100 [00:01<00:00, 73.77it/s]\n",
      "> Eval on experience 1 (Task 0) from test stream ended.\n",
      "\tExperienceForgetting/eval_phase/test_stream/Task000/Exp001 = 0.0186\n",
      "\tLoss_Exp/eval_phase/test_stream/Task000/Exp001 = 0.1548\n",
      "\tTop1_Acc_Exp/eval_phase/test_stream/Task000/Exp001 = 0.9536\n",
      "-- Starting eval on experience 2 (Task 0) from test stream --\n",
      "100%|██████████| 100/100 [00:01<00:00, 73.40it/s]\n",
      "> Eval on experience 2 (Task 0) from test stream ended.\n",
      "\tLoss_Exp/eval_phase/test_stream/Task000/Exp002 = 0.0894\n",
      "\tTop1_Acc_Exp/eval_phase/test_stream/Task000/Exp002 = 0.9718\n",
      "-- >> End of eval phase << --\n",
      "\tLoss_Stream/eval_phase/test_stream/Task000 = 0.2327\n",
      "\tStreamForgetting/eval_phase/test_stream = 0.0647\n",
      "\tTop1_Acc_Stream/eval_phase/test_stream/Task000 = 0.9277\n"
     ]
    }
   ],
   "source": [
    "# 5. Training loop with evaluation\n",
    "results = []\n",
    "\n",
    "for experience in benchmark.train_stream:\n",
    "    ewc.train(experience)\n",
    "    results.append(ewc.eval(benchmark.test_stream))"
   ]
  },
  {
   "cell_type": "code",
   "execution_count": 8,
   "metadata": {},
   "outputs": [
    {
     "data": {
      "image/png": "[encoded data removed]",
      "text/plain": [
       "<Figure size 640x480 with 1 Axes>"
      ]
     },
     "metadata": {},
     "output_type": "display_data"
    }
   ],
   "source": [
    "# 6. Plot the results\n",
    "accuracies = [r['Top1_Acc_Stream/eval_phase/test_stream/Task000'] for r in results]\n",
    "\n",
    "plt.figure()\n",
    "plt.plot(accuracies, marker='o')\n",
    "plt.title('EWC - Accuracy over time')\n",
    "plt.xlabel('Experience')\n",
    "plt.ylabel('Accuracy')\n",
    "plt.grid(True)\n",
    "plt.show()\n"
   ]
  },
  {
   "cell_type": "code",
   "execution_count": null,
   "metadata": {},
   "outputs": [],
   "source": []
  }
 ],
 "metadata": {
  "kernelspec": {
   "display_name": "Python 3",
   "language": "python",
   "name": "python3"
  },
  "language_info": {
   "codemirror_mode": {
    "name": "ipython",
    "version": 3
   },
   "file_extension": ".py",
   "mimetype": "text/x-python",
   "name": "python",
   "nbconvert_exporter": "python",
   "pygments_lexer": "ipython3",
   "version": "3.12.2"
  }
 },
 "nbformat": 4,
 "nbformat_minor": 2
}
